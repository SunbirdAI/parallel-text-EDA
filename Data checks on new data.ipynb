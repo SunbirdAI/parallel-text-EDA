{
 "cells": [
  {
   "cell_type": "code",
   "execution_count": 10,
   "metadata": {},
   "outputs": [],
   "source": [
    "import pandas as pd"
   ]
  },
  {
   "cell_type": "code",
   "execution_count": 11,
   "metadata": {},
   "outputs": [
    {
     "data": {
      "text/plain": [
       "(3500, 6)"
      ]
     },
     "execution_count": 11,
     "metadata": {},
     "output_type": "execute_result"
    }
   ],
   "source": [
    "df = pd.read_excel(\"Sunbird_Phase_II_October.xlsx\")\n",
    "df.shape"
   ]
  },
  {
   "cell_type": "code",
   "execution_count": 12,
   "metadata": {},
   "outputs": [
    {
     "data": {
      "text/html": [
       "<div>\n",
       "<style scoped>\n",
       "    .dataframe tbody tr th:only-of-type {\n",
       "        vertical-align: middle;\n",
       "    }\n",
       "\n",
       "    .dataframe tbody tr th {\n",
       "        vertical-align: top;\n",
       "    }\n",
       "\n",
       "    .dataframe thead th {\n",
       "        text-align: right;\n",
       "    }\n",
       "</style>\n",
       "<table border=\"1\" class=\"dataframe\">\n",
       "  <thead>\n",
       "    <tr style=\"text-align: right;\">\n",
       "      <th></th>\n",
       "      <th>English</th>\n",
       "      <th>Luganda</th>\n",
       "      <th>Runyankore</th>\n",
       "      <th>Ateso</th>\n",
       "      <th>Lugbara</th>\n",
       "      <th>Acholi</th>\n",
       "    </tr>\n",
       "  </thead>\n",
       "  <tbody>\n",
       "    <tr>\n",
       "      <th>0</th>\n",
       "      <td>He built his mother a new house.</td>\n",
       "      <td>Yazimbira maama we ennyumba empya.</td>\n",
       "      <td>Akombekyera nyina enju nsya.</td>\n",
       "      <td>Abu ngesi kodukok totoke etogo loitetet</td>\n",
       "      <td>Eri si i ma andri dri jo o'diruni ra</td>\n",
       "      <td>En ogero ot manyen ki mine.</td>\n",
       "    </tr>\n",
       "    <tr>\n",
       "      <th>1</th>\n",
       "      <td>She was caught red handed in a lodge with her ...</td>\n",
       "      <td>Yakwatibwa lubona mu loogi ne bba wa mukwano gwe.</td>\n",
       "      <td>Akakwatirwa butaama omu roogi n'iba wa munywan...</td>\n",
       "      <td>Aponi ikamunai ngesi eyelosi koloji keda opape...</td>\n",
       "      <td>Ba bi eri 'woro loji ma alia eri ma agyi vile ...</td>\n",
       "      <td>Ki make ka buto ki cwa lareme I ot buto apanaga.</td>\n",
       "    </tr>\n",
       "    <tr>\n",
       "      <th>2</th>\n",
       "      <td>My sister is good at drawing pictures.</td>\n",
       "      <td>Muganda wange asiiga bulungi ebifaananyi.</td>\n",
       "      <td>Munyaanyazi naamanya kuteera gye ebishushani.</td>\n",
       "      <td>Ejeni inacika ainom aputosia ejok noi.</td>\n",
       "      <td>Ma amvini e'da yi ogbazasi onyiru</td>\n",
       "      <td>Lamera goyo cal ma ber adada.</td>\n",
       "    </tr>\n",
       "    <tr>\n",
       "      <th>3</th>\n",
       "      <td>He usually plays games on the phone in his fre...</td>\n",
       "      <td>Mu biseera bye eby'eddembe aba azannya buzanny...</td>\n",
       "      <td>Omu bwire obu arikuba ataine by'okukora, embu ...</td>\n",
       "      <td>Etapit ngesi abolia aboliasio nuka esimu kotom...</td>\n",
       "      <td>Eri tutuni avita avi eri ma simu dria erini az...</td>\n",
       "      <td>En pol kare tuko tuko me video ki cimme, me ka...</td>\n",
       "    </tr>\n",
       "    <tr>\n",
       "      <th>4</th>\n",
       "      <td>Our new teacher is a Kenyan.</td>\n",
       "      <td>Omusomesa waffe omupya Munnakenya.</td>\n",
       "      <td>Omwegyesa waitu omusya n'omunya Kenya.</td>\n",
       "      <td>Elomuni esisianakinanikosi loitetet ko Kenya.</td>\n",
       "      <td>Ama vile embapi o'diri 'ba Kenyaani'i.</td>\n",
       "      <td>Lapwonywa manyen-ni aa ki lobo Kenya.</td>\n",
       "    </tr>\n",
       "  </tbody>\n",
       "</table>\n",
       "</div>"
      ],
      "text/plain": [
       "                                             English  \\\n",
       "0                   He built his mother a new house.   \n",
       "1  She was caught red handed in a lodge with her ...   \n",
       "2             My sister is good at drawing pictures.   \n",
       "3  He usually plays games on the phone in his fre...   \n",
       "4                       Our new teacher is a Kenyan.   \n",
       "\n",
       "                                             Luganda  \\\n",
       "0                 Yazimbira maama we ennyumba empya.   \n",
       "1  Yakwatibwa lubona mu loogi ne bba wa mukwano gwe.   \n",
       "2          Muganda wange asiiga bulungi ebifaananyi.   \n",
       "3  Mu biseera bye eby'eddembe aba azannya buzanny...   \n",
       "4                 Omusomesa waffe omupya Munnakenya.   \n",
       "\n",
       "                                          Runyankore  \\\n",
       "0                       Akombekyera nyina enju nsya.   \n",
       "1  Akakwatirwa butaama omu roogi n'iba wa munywan...   \n",
       "2      Munyaanyazi naamanya kuteera gye ebishushani.   \n",
       "3  Omu bwire obu arikuba ataine by'okukora, embu ...   \n",
       "4             Omwegyesa waitu omusya n'omunya Kenya.   \n",
       "\n",
       "                                               Ateso  \\\n",
       "0            Abu ngesi kodukok totoke etogo loitetet   \n",
       "1  Aponi ikamunai ngesi eyelosi koloji keda opape...   \n",
       "2             Ejeni inacika ainom aputosia ejok noi.   \n",
       "3  Etapit ngesi abolia aboliasio nuka esimu kotom...   \n",
       "4      Elomuni esisianakinanikosi loitetet ko Kenya.   \n",
       "\n",
       "                                             Lugbara  \\\n",
       "0               Eri si i ma andri dri jo o'diruni ra   \n",
       "1  Ba bi eri 'woro loji ma alia eri ma agyi vile ...   \n",
       "2                  Ma amvini e'da yi ogbazasi onyiru   \n",
       "3  Eri tutuni avita avi eri ma simu dria erini az...   \n",
       "4             Ama vile embapi o'diri 'ba Kenyaani'i.   \n",
       "\n",
       "                                              Acholi  \n",
       "0                        En ogero ot manyen ki mine.  \n",
       "1   Ki make ka buto ki cwa lareme I ot buto apanaga.  \n",
       "2                      Lamera goyo cal ma ber adada.  \n",
       "3  En pol kare tuko tuko me video ki cimme, me ka...  \n",
       "4              Lapwonywa manyen-ni aa ki lobo Kenya.  "
      ]
     },
     "execution_count": 12,
     "metadata": {},
     "output_type": "execute_result"
    }
   ],
   "source": [
    "df.head()"
   ]
  },
  {
   "cell_type": "code",
   "execution_count": 13,
   "metadata": {},
   "outputs": [
    {
     "data": {
      "text/plain": [
       "English       0\n",
       "Luganda       0\n",
       "Runyankore    0\n",
       "Ateso         0\n",
       "Lugbara       0\n",
       "Acholi        0\n",
       "dtype: int64"
      ]
     },
     "execution_count": 13,
     "metadata": {},
     "output_type": "execute_result"
    }
   ],
   "source": [
    "df.isnull().sum()"
   ]
  }
 ],
 "metadata": {
  "interpreter": {
   "hash": "b0fa6594d8f4cbf19f97940f81e996739fb7646882a419484c72d19e05852a7e"
  },
  "kernelspec": {
   "display_name": "Python 3.9.6 64-bit",
   "name": "python3"
  },
  "language_info": {
   "codemirror_mode": {
    "name": "ipython",
    "version": 3
   },
   "file_extension": ".py",
   "mimetype": "text/x-python",
   "name": "python",
   "nbconvert_exporter": "python",
   "pygments_lexer": "ipython3",
   "version": "3.9.6"
  },
  "orig_nbformat": 4
 },
 "nbformat": 4,
 "nbformat_minor": 2
}
