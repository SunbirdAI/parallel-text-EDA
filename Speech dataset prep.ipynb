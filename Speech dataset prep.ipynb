{
 "cells": [
  {
   "cell_type": "markdown",
   "metadata": {},
   "source": [
    "## Preparing the SALT dataset for speech data collection"
   ]
  },
  {
   "cell_type": "markdown",
   "metadata": {},
   "source": [
    "Download the SALT dataset by cloning this repository: https://github.com/SunbirdAI/salt.git"
   ]
  },
  {
   "cell_type": "code",
   "execution_count": 27,
   "metadata": {},
   "outputs": [],
   "source": [
    "import pandas as pd"
   ]
  },
  {
   "cell_type": "code",
   "execution_count": 28,
   "metadata": {},
   "outputs": [
    {
     "data": {
      "text/html": [
       "<div>\n",
       "<style scoped>\n",
       "    .dataframe tbody tr th:only-of-type {\n",
       "        vertical-align: middle;\n",
       "    }\n",
       "\n",
       "    .dataframe tbody tr th {\n",
       "        vertical-align: top;\n",
       "    }\n",
       "\n",
       "    .dataframe thead th {\n",
       "        text-align: right;\n",
       "    }\n",
       "</style>\n",
       "<table border=\"1\" class=\"dataframe\">\n",
       "  <thead>\n",
       "    <tr style=\"text-align: right;\">\n",
       "      <th></th>\n",
       "      <th>English</th>\n",
       "      <th>Luganda</th>\n",
       "      <th>Runyankole</th>\n",
       "      <th>Ateso</th>\n",
       "      <th>Lugbara</th>\n",
       "      <th>Acholi</th>\n",
       "    </tr>\n",
       "  </thead>\n",
       "  <tbody>\n",
       "    <tr>\n",
       "      <th>0</th>\n",
       "      <td>Eggplants always grow best under warm conditions.</td>\n",
       "      <td>Bbiringanya lubeerera  asinga kukulira mu mbee...</td>\n",
       "      <td>Entonga buriijo zikurira omu mbeera y'obwire e...</td>\n",
       "      <td>Epoloi ebirinyanyi ojok apakio nu emwanar akwap.</td>\n",
       "      <td>Birinyanya eyi zo kililiru ndeni angu driza ma...</td>\n",
       "      <td>Bilinyanya pol kare dongo maber ka lyeto tye</td>\n",
       "    </tr>\n",
       "    <tr>\n",
       "      <th>1</th>\n",
       "      <td>Farmland is sometimes a challenge to farmers.</td>\n",
       "      <td>Ettaka ly'okulimirako n'okulundirako ebiseera ...</td>\n",
       "      <td>Eitaka ry'okuhingamu, obumwe n'obumwe nirireet...</td>\n",
       "      <td>Akiro nu alupok nes erai ationis kanejaas akoriok</td>\n",
       "      <td>Amvu ma angu eri sa'wa azini 'diyisi 'ba amvu ...</td>\n",
       "      <td>Ngom me pur i kare mukene obedo peko madit bot...</td>\n",
       "    </tr>\n",
       "    <tr>\n",
       "      <th>2</th>\n",
       "      <td>Farmers should be encouraged to grow more coffee.</td>\n",
       "      <td>Abalimi balina okukubirizibwa okwongera okulim...</td>\n",
       "      <td>Abahingi bashemereire kuhigwa bongyere okuhing...</td>\n",
       "      <td>Ekot aisinyikokit akoriok akoru emwanyi loepol</td>\n",
       "      <td>Le 'ba ma fe 'ba amvu 'yapi 'diyini ava kawa '...</td>\n",
       "      <td>Lupur omyero ki konygi wek nong miti me puru m...</td>\n",
       "    </tr>\n",
       "    <tr>\n",
       "      <th>3</th>\n",
       "      <td>Uganda is focusing on farming.</td>\n",
       "      <td>Uganda essira eritadde ku bulimi.</td>\n",
       "      <td>Uganda eteire amaani aha buhingi n'oburiisa.</td>\n",
       "      <td>Uganda nes ejai akiro nu akoru.</td>\n",
       "      <td>Kari Uganda niri eri asi'baza be amvu 'yaza ma...</td>\n",
       "      <td>Uganda tye ka keme ki lok me pur</td>\n",
       "    </tr>\n",
       "    <tr>\n",
       "      <th>4</th>\n",
       "      <td>Some plants die due to lack of sunlight.</td>\n",
       "      <td>Ebimera ebimu bifa olw'ebbula ly'omusana.</td>\n",
       "      <td>Ebihingwa ebimwe nibyoma ahabw'okubura omushana.</td>\n",
       "      <td>Icie ikorion etwakete naarai emamei akolong.</td>\n",
       "      <td>Ori azi 'diyi odra te ituka ma akosi.</td>\n",
       "      <td>jami apita mukene too woko pien pe ginongo cen...</td>\n",
       "    </tr>\n",
       "  </tbody>\n",
       "</table>\n",
       "</div>"
      ],
      "text/plain": [
       "                                             English  \\\n",
       "0  Eggplants always grow best under warm conditions.   \n",
       "1      Farmland is sometimes a challenge to farmers.   \n",
       "2  Farmers should be encouraged to grow more coffee.   \n",
       "3                     Uganda is focusing on farming.   \n",
       "4           Some plants die due to lack of sunlight.   \n",
       "\n",
       "                                             Luganda  \\\n",
       "0  Bbiringanya lubeerera  asinga kukulira mu mbee...   \n",
       "1  Ettaka ly'okulimirako n'okulundirako ebiseera ...   \n",
       "2  Abalimi balina okukubirizibwa okwongera okulim...   \n",
       "3                  Uganda essira eritadde ku bulimi.   \n",
       "4          Ebimera ebimu bifa olw'ebbula ly'omusana.   \n",
       "\n",
       "                                          Runyankole  \\\n",
       "0  Entonga buriijo zikurira omu mbeera y'obwire e...   \n",
       "1  Eitaka ry'okuhingamu, obumwe n'obumwe nirireet...   \n",
       "2  Abahingi bashemereire kuhigwa bongyere okuhing...   \n",
       "3       Uganda eteire amaani aha buhingi n'oburiisa.   \n",
       "4   Ebihingwa ebimwe nibyoma ahabw'okubura omushana.   \n",
       "\n",
       "                                               Ateso  \\\n",
       "0   Epoloi ebirinyanyi ojok apakio nu emwanar akwap.   \n",
       "1  Akiro nu alupok nes erai ationis kanejaas akoriok   \n",
       "2     Ekot aisinyikokit akoriok akoru emwanyi loepol   \n",
       "3                    Uganda nes ejai akiro nu akoru.   \n",
       "4       Icie ikorion etwakete naarai emamei akolong.   \n",
       "\n",
       "                                             Lugbara  \\\n",
       "0  Birinyanya eyi zo kililiru ndeni angu driza ma...   \n",
       "1  Amvu ma angu eri sa'wa azini 'diyisi 'ba amvu ...   \n",
       "2  Le 'ba ma fe 'ba amvu 'yapi 'diyini ava kawa '...   \n",
       "3  Kari Uganda niri eri asi'baza be amvu 'yaza ma...   \n",
       "4              Ori azi 'diyi odra te ituka ma akosi.   \n",
       "\n",
       "                                              Acholi  \n",
       "0       Bilinyanya pol kare dongo maber ka lyeto tye  \n",
       "1  Ngom me pur i kare mukene obedo peko madit bot...  \n",
       "2  Lupur omyero ki konygi wek nong miti me puru m...  \n",
       "3                   Uganda tye ka keme ki lok me pur  \n",
       "4  jami apita mukene too woko pien pe ginongo cen...  "
      ]
     },
     "execution_count": 28,
     "metadata": {},
     "output_type": "execute_result"
    }
   ],
   "source": [
    "df = pd.read_json(\"sunbird-ug-lang-v1.0.jsonl\", lines=True)\n",
    "df.head()"
   ]
  },
  {
   "cell_type": "code",
   "execution_count": 29,
   "metadata": {},
   "outputs": [
    {
     "data": {
      "text/html": [
       "<div>\n",
       "<style scoped>\n",
       "    .dataframe tbody tr th:only-of-type {\n",
       "        vertical-align: middle;\n",
       "    }\n",
       "\n",
       "    .dataframe tbody tr th {\n",
       "        vertical-align: top;\n",
       "    }\n",
       "\n",
       "    .dataframe thead th {\n",
       "        text-align: right;\n",
       "    }\n",
       "</style>\n",
       "<table border=\"1\" class=\"dataframe\">\n",
       "  <thead>\n",
       "    <tr style=\"text-align: right;\">\n",
       "      <th></th>\n",
       "      <th>Luganda</th>\n",
       "    </tr>\n",
       "  </thead>\n",
       "  <tbody>\n",
       "    <tr>\n",
       "      <th>0</th>\n",
       "      <td>Bbiringanya lubeerera  asinga kukulira mu mbee...</td>\n",
       "    </tr>\n",
       "    <tr>\n",
       "      <th>1</th>\n",
       "      <td>Ettaka ly'okulimirako n'okulundirako ebiseera ...</td>\n",
       "    </tr>\n",
       "    <tr>\n",
       "      <th>2</th>\n",
       "      <td>Abalimi balina okukubirizibwa okwongera okulim...</td>\n",
       "    </tr>\n",
       "    <tr>\n",
       "      <th>3</th>\n",
       "      <td>Uganda essira eritadde ku bulimi.</td>\n",
       "    </tr>\n",
       "    <tr>\n",
       "      <th>4</th>\n",
       "      <td>Ebimera ebimu bifa olw'ebbula ly'omusana.</td>\n",
       "    </tr>\n",
       "  </tbody>\n",
       "</table>\n",
       "</div>"
      ],
      "text/plain": [
       "                                             Luganda\n",
       "0  Bbiringanya lubeerera  asinga kukulira mu mbee...\n",
       "1  Ettaka ly'okulimirako n'okulundirako ebiseera ...\n",
       "2  Abalimi balina okukubirizibwa okwongera okulim...\n",
       "3                  Uganda essira eritadde ku bulimi.\n",
       "4          Ebimera ebimu bifa olw'ebbula ly'omusana."
      ]
     },
     "execution_count": 29,
     "metadata": {},
     "output_type": "execute_result"
    }
   ],
   "source": [
    "lug_df = df[[\"Luganda\"]]\n",
    "lug_df.head()"
   ]
  },
  {
   "cell_type": "code",
   "execution_count": 30,
   "metadata": {},
   "outputs": [
    {
     "data": {
      "text/html": [
       "<div>\n",
       "<style scoped>\n",
       "    .dataframe tbody tr th:only-of-type {\n",
       "        vertical-align: middle;\n",
       "    }\n",
       "\n",
       "    .dataframe tbody tr th {\n",
       "        vertical-align: top;\n",
       "    }\n",
       "\n",
       "    .dataframe thead th {\n",
       "        text-align: right;\n",
       "    }\n",
       "</style>\n",
       "<table border=\"1\" class=\"dataframe\">\n",
       "  <thead>\n",
       "    <tr style=\"text-align: right;\">\n",
       "      <th></th>\n",
       "      <th>Key</th>\n",
       "      <th>Text</th>\n",
       "    </tr>\n",
       "  </thead>\n",
       "  <tbody>\n",
       "    <tr>\n",
       "      <th>0</th>\n",
       "      <td>0</td>\n",
       "      <td>Bbiringanya lubeerera  asinga kukulira mu mbee...</td>\n",
       "    </tr>\n",
       "    <tr>\n",
       "      <th>1</th>\n",
       "      <td>1</td>\n",
       "      <td>Ettaka ly'okulimirako n'okulundirako ebiseera ...</td>\n",
       "    </tr>\n",
       "    <tr>\n",
       "      <th>2</th>\n",
       "      <td>2</td>\n",
       "      <td>Abalimi balina okukubirizibwa okwongera okulim...</td>\n",
       "    </tr>\n",
       "    <tr>\n",
       "      <th>3</th>\n",
       "      <td>3</td>\n",
       "      <td>Uganda essira eritadde ku bulimi.</td>\n",
       "    </tr>\n",
       "    <tr>\n",
       "      <th>4</th>\n",
       "      <td>4</td>\n",
       "      <td>Ebimera ebimu bifa olw'ebbula ly'omusana.</td>\n",
       "    </tr>\n",
       "  </tbody>\n",
       "</table>\n",
       "</div>"
      ],
      "text/plain": [
       "   Key                                               Text\n",
       "0    0  Bbiringanya lubeerera  asinga kukulira mu mbee...\n",
       "1    1  Ettaka ly'okulimirako n'okulundirako ebiseera ...\n",
       "2    2  Abalimi balina okukubirizibwa okwongera okulim...\n",
       "3    3                  Uganda essira eritadde ku bulimi.\n",
       "4    4          Ebimera ebimu bifa olw'ebbula ly'omusana."
      ]
     },
     "execution_count": 30,
     "metadata": {},
     "output_type": "execute_result"
    }
   ],
   "source": [
    "lug_df = lug_df.reset_index(level=0)\n",
    "lug_df.rename(columns={\"index\": \"Key\", \"Luganda\": \"Text\"}, inplace=True)\n",
    "lug_df.head()"
   ]
  },
  {
   "cell_type": "code",
   "execution_count": 25,
   "metadata": {},
   "outputs": [],
   "source": [
    "lug_df.to_excel(\"Luganda prompts.xlsx\")"
   ]
  }
 ],
 "metadata": {
  "interpreter": {
   "hash": "b0fa6594d8f4cbf19f97940f81e996739fb7646882a419484c72d19e05852a7e"
  },
  "kernelspec": {
   "display_name": "Python 3.9.13 64-bit",
   "language": "python",
   "name": "python3"
  },
  "language_info": {
   "codemirror_mode": {
    "name": "ipython",
    "version": 3
   },
   "file_extension": ".py",
   "mimetype": "text/x-python",
   "name": "python",
   "nbconvert_exporter": "python",
   "pygments_lexer": "ipython3",
   "version": "3.9.13"
  },
  "orig_nbformat": 4
 },
 "nbformat": 4,
 "nbformat_minor": 2
}
