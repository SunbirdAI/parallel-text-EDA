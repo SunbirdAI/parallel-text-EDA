{
  "nbformat": 4,
  "nbformat_minor": 0,
  "metadata": {
    "colab": {
      "name": "multilingual_data_prep.ipynb",
      "provenance": [],
      "collapsed_sections": []
    },
    "kernelspec": {
      "name": "python3",
      "display_name": "Python 3"
    },
    "language_info": {
      "name": "python"
    }
  },
  "cells": [
    {
      "cell_type": "code",
      "metadata": {
        "colab": {
          "base_uri": "https://localhost:8080/"
        },
        "id": "GHdDKYJCtKd2",
        "outputId": "bd1e743e-1722-41a4-ca2d-21f5f25d67ce"
      },
      "source": [
        "# Download Raw dataset\n",
        "!wget https://transfer.sh/AvcWgi/sunbird-ug-lang-v4.0.jsonl"
      ],
      "execution_count": null,
      "outputs": [
        {
          "output_type": "stream",
          "name": "stdout",
          "text": [
            "--2021-10-29 12:51:54--  https://transfer.sh/AvcWgi/sunbird-ug-lang-v4.0.jsonl\n",
            "Resolving transfer.sh (transfer.sh)... 144.76.136.153\n",
            "Connecting to transfer.sh (transfer.sh)|144.76.136.153|:443... connected.\n",
            "HTTP request sent, awaiting response... 200 OK\n",
            "Length: 9101418 (8.7M) []\n",
            "Saving to: ‘sunbird-ug-lang-v4.0.jsonl’\n",
            "\n",
            "sunbird-ug-lang-v4. 100%[===================>]   8.68M  6.32MB/s    in 1.4s    \n",
            "\n",
            "2021-10-29 12:51:57 (6.32 MB/s) - ‘sunbird-ug-lang-v4.0.jsonl’ saved [9101418/9101418]\n",
            "\n"
          ]
        }
      ]
    },
    {
      "cell_type": "code",
      "metadata": {
        "id": "Rp5bm4fXDNd_",
        "colab": {
          "base_uri": "https://localhost:8080/",
          "height": 70
        },
        "outputId": "9dec49c8-01e9-4863-857a-1b9235d2e7cf"
      },
      "source": [
        "## Logic\n",
        "\"\"\"\n",
        "\n",
        "V1:\n",
        "\n",
        "\n",
        "A model that creates anything to English\n",
        "\n",
        "Source sentence: Any Language\n",
        "Target: English\n",
        "\n",
        "\n",
        "V2:\n",
        "Anything to Anything model\n",
        "\n",
        "A model to translate into any of the Ugandan Languages; Specify Language tag\n",
        "\n",
        "\"\"\""
      ],
      "execution_count": null,
      "outputs": [
        {
          "output_type": "execute_result",
          "data": {
            "application/vnd.google.colaboratory.intrinsic+json": {
              "type": "string"
            },
            "text/plain": [
              "'\\n\\nV1:\\n\\n\\nA model that creates anything to English\\n\\nSource sentence: Any Language\\nTarget: English\\n\\n\\nV2:\\nAnything to Anything model\\n\\nA model to translate into any of the Ugandan Languages; Specify Language tag\\n\\n'"
            ]
          },
          "metadata": {},
          "execution_count": 2
        }
      ]
    },
    {
      "cell_type": "code",
      "metadata": {
        "id": "u6zEC-XdEtpf"
      },
      "source": [
        "import json\n",
        "\n",
        "\n",
        "with open('sunbird-ug-lang-v4.0.jsonl', 'r') as f:\n",
        "    data = list(f)"
      ],
      "execution_count": null,
      "outputs": []
    },
    {
      "cell_type": "code",
      "metadata": {
        "id": "k0Yna8R5vfhJ"
      },
      "source": [
        "#convert dataset to Dataframe\n",
        "import pandas as pd\n",
        "df = pd.DataFrame(data)"
      ],
      "execution_count": null,
      "outputs": []
    },
    {
      "cell_type": "markdown",
      "metadata": {
        "id": "jMRoVeQYwagF"
      },
      "source": [
        "Part 1: Create Multi-Lingual Dataset to English target"
      ]
    },
    {
      "cell_type": "code",
      "metadata": {
        "colab": {
          "base_uri": "https://localhost:8080/"
        },
        "id": "M9bz1C2AFUVA",
        "outputId": "57ec2dd8-650c-4726-9f8a-66219dc8aa13"
      },
      "source": [
        "\n",
        "translated_sentence = json.loads(data[0])\n",
        "\n",
        "translated_sentence.keys()"
      ],
      "execution_count": null,
      "outputs": [
        {
          "output_type": "execute_result",
          "data": {
            "text/plain": [
              "dict_keys(['English', 'Luganda', 'Runyankole', 'Acholi', 'Ateso', 'Lugbara'])"
            ]
          },
          "metadata": {},
          "execution_count": 5
        }
      ]
    },
    {
      "cell_type": "code",
      "metadata": {
        "colab": {
          "base_uri": "https://localhost:8080/"
        },
        "id": "QKwqLp4YvJ-J",
        "outputId": "debac4de-bfeb-4483-92d6-d0e30806d21a"
      },
      "source": [
        "translated_sentence"
      ],
      "execution_count": null,
      "outputs": [
        {
          "output_type": "execute_result",
          "data": {
            "text/plain": [
              "{'Acholi': 'Bilinyanya pol kare dongo maber ka lyeto tye',\n",
              " 'Ateso': 'Epoloi ebirinyanyi ojok apakio nu emwanar akwap.',\n",
              " 'English': 'Eggplants always grow best under warm conditions.',\n",
              " 'Luganda': 'Bbiringanya lubeerera  asinga kukulira mu mbeera ya bugumu',\n",
              " 'Lugbara': 'Birinyanya eyi zo kililiru ndeni angu driza ma alia.',\n",
              " 'Runyankole': \"Entonga buriijo zikurira omu mbeera y'obwire erikutagata\"}"
            ]
          },
          "metadata": {},
          "execution_count": 6
        }
      ]
    },
    {
      "cell_type": "code",
      "metadata": {
        "id": "SO_hdRMBFVOu"
      },
      "source": [
        "# Function to generate multiple training examples from one translated sentence.\n",
        "def training_examples_from_sentence(translated_sentence,\n",
        "                                    target_language = 'English'):\n",
        "  if target_language not in translated_sentence:\n",
        "    raise ValueError(\n",
        "        f'Target language {target_language} expected in translations, but '\n",
        "        f'{translated_sentence.keys()} found')\n",
        "\n",
        "  source_languages = set(translated_sentence.keys())\n",
        "  source_languages.remove(target_language)\n",
        "\n",
        "  if not source_languages:\n",
        "    raise ValueError('There should be at least one language apart from the '\n",
        "                    'target.')\n",
        "\n",
        "  training_examples = [{'source': translated_sentence[lang], \n",
        "                        'target': translated_sentence[target_language]}\n",
        "                        for lang in source_languages\n",
        "                      ]\n",
        "\n",
        "  return training_examples"
      ],
      "execution_count": null,
      "outputs": []
    },
    {
      "cell_type": "code",
      "metadata": {
        "id": "Z-HzlP3lu005"
      },
      "source": [
        "training_examples = training_examples_from_sentence(translated_sentence)"
      ],
      "execution_count": null,
      "outputs": []
    },
    {
      "cell_type": "code",
      "metadata": {
        "colab": {
          "base_uri": "https://localhost:8080/"
        },
        "id": "cLHr7qlWu05J",
        "outputId": "682e7072-cc46-4f25-e379-a1af936c69f3"
      },
      "source": [
        "training_examples"
      ],
      "execution_count": null,
      "outputs": [
        {
          "output_type": "execute_result",
          "data": {
            "text/plain": [
              "[{'source': \"Entonga buriijo zikurira omu mbeera y'obwire erikutagata\",\n",
              "  'target': 'Eggplants always grow best under warm conditions.'},\n",
              " {'source': 'Epoloi ebirinyanyi ojok apakio nu emwanar akwap.',\n",
              "  'target': 'Eggplants always grow best under warm conditions.'},\n",
              " {'source': 'Bbiringanya lubeerera  asinga kukulira mu mbeera ya bugumu',\n",
              "  'target': 'Eggplants always grow best under warm conditions.'},\n",
              " {'source': 'Bilinyanya pol kare dongo maber ka lyeto tye',\n",
              "  'target': 'Eggplants always grow best under warm conditions.'},\n",
              " {'source': 'Birinyanya eyi zo kililiru ndeni angu driza ma alia.',\n",
              "  'target': 'Eggplants always grow best under warm conditions.'}]"
            ]
          },
          "metadata": {},
          "execution_count": 9
        }
      ]
    },
    {
      "cell_type": "code",
      "metadata": {
        "colab": {
          "base_uri": "https://localhost:8080/"
        },
        "id": "cfIictB9By2V",
        "outputId": "50e601ef-6bb3-490b-daf1-1d4c42015b3d"
      },
      "source": [
        "len(df)"
      ],
      "execution_count": null,
      "outputs": [
        {
          "output_type": "execute_result",
          "data": {
            "text/plain": [
              "21507"
            ]
          },
          "metadata": {},
          "execution_count": 10
        }
      ]
    },
    {
      "cell_type": "code",
      "metadata": {
        "id": "z7fOl9Lf0AXr"
      },
      "source": [
        "c = []\n",
        "for i in range(len(df)):\n",
        "  c.append(training_examples_from_sentence(json.loads(data[i])))"
      ],
      "execution_count": null,
      "outputs": []
    },
    {
      "cell_type": "code",
      "metadata": {
        "id": "Em7_j3iW0AaE"
      },
      "source": [
        "from itertools import chain\n",
        "dataset = pd.DataFrame(list(chain.from_iterable(c)))"
      ],
      "execution_count": null,
      "outputs": []
    },
    {
      "cell_type": "code",
      "metadata": {
        "colab": {
          "base_uri": "https://localhost:8080/"
        },
        "id": "AnKWYoWIPAtz",
        "outputId": "709c8eb0-98fa-4100-ea5d-ee4c4f9174a1"
      },
      "source": [
        "## We have 107K language pairs\n",
        "\n",
        "dataset.shape"
      ],
      "execution_count": null,
      "outputs": [
        {
          "output_type": "execute_result",
          "data": {
            "text/plain": [
              "(107535, 2)"
            ]
          },
          "metadata": {},
          "execution_count": 29
        }
      ]
    },
    {
      "cell_type": "code",
      "metadata": {
        "id": "t5NcyaWIPAv1"
      },
      "source": [
        "## train/test/val split\n",
        "\n",
        "from sklearn.model_selection import train_test_split\n",
        "train_df, test_df = train_test_split(dataset, test_size=0.33, random_state=42)"
      ],
      "execution_count": null,
      "outputs": []
    },
    {
      "cell_type": "code",
      "metadata": {
        "id": "WLgaIuK1Sw69"
      },
      "source": [
        "test_df, val_df = train_test_split(test_df, test_size=0.5, random_state=42)"
      ],
      "execution_count": null,
      "outputs": []
    },
    {
      "cell_type": "code",
      "metadata": {
        "colab": {
          "base_uri": "https://localhost:8080/"
        },
        "id": "d56eKqgnS2Xr",
        "outputId": "7c23f33f-7024-40de-f098-a0cb5d96aeec"
      },
      "source": [
        "print(train_df.shape)\n",
        "print(test_df.shape)\n",
        "print(val_df.shape)"
      ],
      "execution_count": null,
      "outputs": [
        {
          "output_type": "stream",
          "name": "stdout",
          "text": [
            "(72048, 2)\n",
            "(17743, 2)\n",
            "(17744, 2)\n"
          ]
        }
      ]
    },
    {
      "cell_type": "code",
      "metadata": {
        "id": "WbLzCrFpPAzK"
      },
      "source": [
        "dataset[[\"source\"]].to_csv(r'other.src', header=None, index=None, sep=' ', mode='a')\n",
        "dataset[[\"target\"]].to_csv(r'eng.tgt', header=None, index=None, sep=' ', mode='a')"
      ],
      "execution_count": null,
      "outputs": []
    },
    {
      "cell_type": "markdown",
      "metadata": {
        "id": "j4i5xtmUPTxo"
      },
      "source": [
        "**Create the .txt files needed for the training dataset**"
      ]
    },
    {
      "cell_type": "code",
      "metadata": {
        "id": "KTB6Mn3UPT17"
      },
      "source": [
        "language_list = list(dataset.columns)\n",
        "language_codes = {\n",
        "    \"source\": \"src\", \"target\": \"tgt\"\n",
        "}"
      ],
      "execution_count": null,
      "outputs": []
    },
    {
      "cell_type": "code",
      "metadata": {
        "id": "J8Z69vVSPT6n"
      },
      "source": [
        "for language in language_list:\n",
        "    train_df[language].to_csv(f\"train.{language_codes[language]}\", header=False, index=False, sep='\\t', mode='a')\n",
        "    test_df[language].to_csv(f\"test.{language_codes[language]}\", header=False, index=False, sep='\\t', mode='a')\n",
        "    val_df[language].to_csv(f\"val.{language_codes[language]}\", header=False, index=False, sep='\\t', mode='a')"
      ],
      "execution_count": null,
      "outputs": []
    },
    {
      "cell_type": "markdown",
      "metadata": {
        "id": "nN25UQKVPT8X"
      },
      "source": [
        "**Create initial dataset folder and add dataset files**\n"
      ]
    },
    {
      "cell_type": "code",
      "metadata": {
        "id": "P3sbBBxXPT-x"
      },
      "source": [
        "!mkdir dataset\n"
      ],
      "execution_count": null,
      "outputs": []
    },
    {
      "cell_type": "code",
      "metadata": {
        "id": "Q9smZG9_PUCW"
      },
      "source": [
        "!mv {*.src,*.tgt} dataset"
      ],
      "execution_count": null,
      "outputs": []
    },
    {
      "cell_type": "code",
      "metadata": {
        "colab": {
          "base_uri": "https://localhost:8080/"
        },
        "id": "TbH21VQYUGXB",
        "outputId": "12e1f607-e92b-42d1-860c-7a4ff5b08a86"
      },
      "source": [
        "!ls dataset/\n"
      ],
      "execution_count": null,
      "outputs": [
        {
          "output_type": "stream",
          "name": "stdout",
          "text": [
            "eng.tgt  other.src  test.src  test.tgt\ttrain.src  train.tgt  val.src  val.tgt\n"
          ]
        }
      ]
    },
    {
      "cell_type": "markdown",
      "metadata": {
        "id": "HLzptIAHUH2R"
      },
      "source": [
        "**Update dataset folder structure and create archive**\n"
      ]
    },
    {
      "cell_type": "code",
      "metadata": {
        "id": "Rj75Lo6YUH7F"
      },
      "source": [
        "!mkdir -p v5-dataset/v5.0/supervised/\n",
        "!mkdir v5-dataset/v5.0/supervised/src-tgt"
      ],
      "execution_count": null,
      "outputs": []
    },
    {
      "cell_type": "code",
      "metadata": {
        "colab": {
          "base_uri": "https://localhost:8080/"
        },
        "id": "m6M0pwk2UH-M",
        "outputId": "22efb854-ee65-425e-8ff9-7d49a93d3776"
      },
      "source": [
        "!cp -v dataset/*.{src,tgt} v5-dataset/v5.0/supervised/src-tgt"
      ],
      "execution_count": null,
      "outputs": [
        {
          "output_type": "stream",
          "name": "stdout",
          "text": [
            "'dataset/other.src' -> 'v5-dataset/v5.0/supervised/src-tgt/other.src'\n",
            "'dataset/test.src' -> 'v5-dataset/v5.0/supervised/src-tgt/test.src'\n",
            "'dataset/train.src' -> 'v5-dataset/v5.0/supervised/src-tgt/train.src'\n",
            "'dataset/val.src' -> 'v5-dataset/v5.0/supervised/src-tgt/val.src'\n",
            "'dataset/eng.tgt' -> 'v5-dataset/v5.0/supervised/src-tgt/eng.tgt'\n",
            "'dataset/test.tgt' -> 'v5-dataset/v5.0/supervised/src-tgt/test.tgt'\n",
            "'dataset/train.tgt' -> 'v5-dataset/v5.0/supervised/src-tgt/train.tgt'\n",
            "'dataset/val.tgt' -> 'v5-dataset/v5.0/supervised/src-tgt/val.tgt'\n"
          ]
        }
      ]
    },
    {
      "cell_type": "code",
      "metadata": {
        "colab": {
          "base_uri": "https://localhost:8080/"
        },
        "id": "78hrzaHvVcFZ",
        "outputId": "0ac75a1f-0317-483a-b396-2c591f8c617d"
      },
      "source": [
        "# Zip Directory\n",
        "!zip -r v5-dataset.zip v5-dataset/\n"
      ],
      "execution_count": null,
      "outputs": [
        {
          "output_type": "stream",
          "name": "stdout",
          "text": [
            "  adding: v5-dataset/ (stored 0%)\n",
            "  adding: v5-dataset/v5.0/ (stored 0%)\n",
            "  adding: v5-dataset/v5.0/supervised/ (stored 0%)\n",
            "  adding: v5-dataset/v5.0/supervised/src-tgt/ (stored 0%)\n",
            "  adding: v5-dataset/v5.0/supervised/src-tgt/eng.tgt (deflated 91%)\n",
            "  adding: v5-dataset/v5.0/supervised/src-tgt/other.src (deflated 63%)\n",
            "  adding: v5-dataset/v5.0/supervised/src-tgt/val.src (deflated 58%)\n",
            "  adding: v5-dataset/v5.0/supervised/src-tgt/train.src (deflated 58%)\n",
            "  adding: v5-dataset/v5.0/supervised/src-tgt/test.tgt (deflated 64%)\n",
            "  adding: v5-dataset/v5.0/supervised/src-tgt/test.src (deflated 58%)\n",
            "  adding: v5-dataset/v5.0/supervised/src-tgt/train.tgt (deflated 65%)\n",
            "  adding: v5-dataset/v5.0/supervised/src-tgt/val.tgt (deflated 64%)\n"
          ]
        }
      ]
    },
    {
      "cell_type": "code",
      "metadata": {
        "id": "c-3QYNYdVcQ4"
      },
      "source": [
        ""
      ],
      "execution_count": null,
      "outputs": []
    },
    {
      "cell_type": "code",
      "metadata": {
        "id": "pqV9QG7ZVcVp"
      },
      "source": [
        ""
      ],
      "execution_count": null,
      "outputs": []
    },
    {
      "cell_type": "markdown",
      "metadata": {
        "id": "aO200TXWUzDU"
      },
      "source": [
        "**Part2: Multi-Lingual all languages**"
      ]
    },
    {
      "cell_type": "code",
      "metadata": {
        "id": "VURBQuXtII2c"
      },
      "source": [
        "# Multi-lingual case: generate all examples of source and target language\n",
        "def training_examples_from_sentence(translated_sentence):\n",
        "\n",
        "  languages = set(translated_sentence.keys())\n",
        "\n",
        "  if len(languages) < 2:\n",
        "    raise ValueError(\"There must be at least two different languages, \"\n",
        "                     f\"found {languages})\")\n",
        "\n",
        "  training_examples = []\n",
        "  for target_language in languages:\n",
        "\n",
        "    source_languages = languages.copy()\n",
        "    source_languages.remove(target_language)\n",
        "\n",
        "    for source_language in source_languages:\n",
        "      source_text = (f\"<to_{target_language}> \"\n",
        "                     f\"{translated_sentence[source_language]}\")\n",
        "      target_text = translated_sentence[target_language]\n",
        "\n",
        "      training_examples.append({'source': source_text, \n",
        "                                'target': target_text})\n",
        "      \n",
        "  return training_examples"
      ],
      "execution_count": null,
      "outputs": []
    },
    {
      "cell_type": "code",
      "metadata": {
        "colab": {
          "base_uri": "https://localhost:8080/"
        },
        "id": "m4jXurHfLjbe",
        "outputId": "8de7a2ee-f777-4387-c66f-0e57aec04dba"
      },
      "source": [
        "len(training_examples_from_sentence(translated_sentence))"
      ],
      "execution_count": null,
      "outputs": [
        {
          "output_type": "execute_result",
          "data": {
            "text/plain": [
              "30"
            ]
          },
          "metadata": {},
          "execution_count": 27
        }
      ]
    },
    {
      "cell_type": "code",
      "metadata": {
        "id": "S0YDiO79LoWV",
        "colab": {
          "base_uri": "https://localhost:8080/"
        },
        "outputId": "7ff92094-82d5-4829-f750-500df9b1019c"
      },
      "source": [
        "training_examples_from_sentence(translated_sentence)"
      ],
      "execution_count": null,
      "outputs": [
        {
          "output_type": "execute_result",
          "data": {
            "text/plain": [
              "[{'source': '<to_Runyankole> Bbiringanya lubeerera  asinga kukulira mu mbeera ya bugumu',\n",
              "  'target': \"Entonga buriijo zikurira omu mbeera y'obwire erikutagata\"},\n",
              " {'source': '<to_Runyankole> Bilinyanya pol kare dongo maber ka lyeto tye',\n",
              "  'target': \"Entonga buriijo zikurira omu mbeera y'obwire erikutagata\"},\n",
              " {'source': '<to_Runyankole> Eggplants always grow best under warm conditions.',\n",
              "  'target': \"Entonga buriijo zikurira omu mbeera y'obwire erikutagata\"},\n",
              " {'source': '<to_Runyankole> Epoloi ebirinyanyi ojok apakio nu emwanar akwap.',\n",
              "  'target': \"Entonga buriijo zikurira omu mbeera y'obwire erikutagata\"},\n",
              " {'source': '<to_Runyankole> Birinyanya eyi zo kililiru ndeni angu driza ma alia.',\n",
              "  'target': \"Entonga buriijo zikurira omu mbeera y'obwire erikutagata\"},\n",
              " {'source': '<to_Ateso> Bbiringanya lubeerera  asinga kukulira mu mbeera ya bugumu',\n",
              "  'target': 'Epoloi ebirinyanyi ojok apakio nu emwanar akwap.'},\n",
              " {'source': \"<to_Ateso> Entonga buriijo zikurira omu mbeera y'obwire erikutagata\",\n",
              "  'target': 'Epoloi ebirinyanyi ojok apakio nu emwanar akwap.'},\n",
              " {'source': '<to_Ateso> Bilinyanya pol kare dongo maber ka lyeto tye',\n",
              "  'target': 'Epoloi ebirinyanyi ojok apakio nu emwanar akwap.'},\n",
              " {'source': '<to_Ateso> Eggplants always grow best under warm conditions.',\n",
              "  'target': 'Epoloi ebirinyanyi ojok apakio nu emwanar akwap.'},\n",
              " {'source': '<to_Ateso> Birinyanya eyi zo kililiru ndeni angu driza ma alia.',\n",
              "  'target': 'Epoloi ebirinyanyi ojok apakio nu emwanar akwap.'},\n",
              " {'source': \"<to_Luganda> Entonga buriijo zikurira omu mbeera y'obwire erikutagata\",\n",
              "  'target': 'Bbiringanya lubeerera  asinga kukulira mu mbeera ya bugumu'},\n",
              " {'source': '<to_Luganda> Bilinyanya pol kare dongo maber ka lyeto tye',\n",
              "  'target': 'Bbiringanya lubeerera  asinga kukulira mu mbeera ya bugumu'},\n",
              " {'source': '<to_Luganda> Eggplants always grow best under warm conditions.',\n",
              "  'target': 'Bbiringanya lubeerera  asinga kukulira mu mbeera ya bugumu'},\n",
              " {'source': '<to_Luganda> Epoloi ebirinyanyi ojok apakio nu emwanar akwap.',\n",
              "  'target': 'Bbiringanya lubeerera  asinga kukulira mu mbeera ya bugumu'},\n",
              " {'source': '<to_Luganda> Birinyanya eyi zo kililiru ndeni angu driza ma alia.',\n",
              "  'target': 'Bbiringanya lubeerera  asinga kukulira mu mbeera ya bugumu'},\n",
              " {'source': '<to_Acholi> Bbiringanya lubeerera  asinga kukulira mu mbeera ya bugumu',\n",
              "  'target': 'Bilinyanya pol kare dongo maber ka lyeto tye'},\n",
              " {'source': \"<to_Acholi> Entonga buriijo zikurira omu mbeera y'obwire erikutagata\",\n",
              "  'target': 'Bilinyanya pol kare dongo maber ka lyeto tye'},\n",
              " {'source': '<to_Acholi> Eggplants always grow best under warm conditions.',\n",
              "  'target': 'Bilinyanya pol kare dongo maber ka lyeto tye'},\n",
              " {'source': '<to_Acholi> Epoloi ebirinyanyi ojok apakio nu emwanar akwap.',\n",
              "  'target': 'Bilinyanya pol kare dongo maber ka lyeto tye'},\n",
              " {'source': '<to_Acholi> Birinyanya eyi zo kililiru ndeni angu driza ma alia.',\n",
              "  'target': 'Bilinyanya pol kare dongo maber ka lyeto tye'},\n",
              " {'source': '<to_English> Bbiringanya lubeerera  asinga kukulira mu mbeera ya bugumu',\n",
              "  'target': 'Eggplants always grow best under warm conditions.'},\n",
              " {'source': \"<to_English> Entonga buriijo zikurira omu mbeera y'obwire erikutagata\",\n",
              "  'target': 'Eggplants always grow best under warm conditions.'},\n",
              " {'source': '<to_English> Bilinyanya pol kare dongo maber ka lyeto tye',\n",
              "  'target': 'Eggplants always grow best under warm conditions.'},\n",
              " {'source': '<to_English> Epoloi ebirinyanyi ojok apakio nu emwanar akwap.',\n",
              "  'target': 'Eggplants always grow best under warm conditions.'},\n",
              " {'source': '<to_English> Birinyanya eyi zo kililiru ndeni angu driza ma alia.',\n",
              "  'target': 'Eggplants always grow best under warm conditions.'},\n",
              " {'source': '<to_Lugbara> Bbiringanya lubeerera  asinga kukulira mu mbeera ya bugumu',\n",
              "  'target': 'Birinyanya eyi zo kililiru ndeni angu driza ma alia.'},\n",
              " {'source': \"<to_Lugbara> Entonga buriijo zikurira omu mbeera y'obwire erikutagata\",\n",
              "  'target': 'Birinyanya eyi zo kililiru ndeni angu driza ma alia.'},\n",
              " {'source': '<to_Lugbara> Bilinyanya pol kare dongo maber ka lyeto tye',\n",
              "  'target': 'Birinyanya eyi zo kililiru ndeni angu driza ma alia.'},\n",
              " {'source': '<to_Lugbara> Eggplants always grow best under warm conditions.',\n",
              "  'target': 'Birinyanya eyi zo kililiru ndeni angu driza ma alia.'},\n",
              " {'source': '<to_Lugbara> Epoloi ebirinyanyi ojok apakio nu emwanar akwap.',\n",
              "  'target': 'Birinyanya eyi zo kililiru ndeni angu driza ma alia.'}]"
            ]
          },
          "metadata": {},
          "execution_count": 28
        }
      ]
    },
    {
      "cell_type": "code",
      "metadata": {
        "id": "H_H4tV4mHpA_"
      },
      "source": [
        "#create all pairs from dataset\n",
        "\n",
        "m = []\n",
        "for i in range(len(df)):\n",
        "  m.append(training_examples_from_sentence(json.loads(data[i])))"
      ],
      "execution_count": null,
      "outputs": []
    },
    {
      "cell_type": "code",
      "metadata": {
        "colab": {
          "base_uri": "https://localhost:8080/"
        },
        "id": "4pvSsLSDG6iu",
        "outputId": "339c253f-2f6d-4a68-f628-7ac335aa1242"
      },
      "source": [
        "m[0]"
      ],
      "execution_count": null,
      "outputs": [
        {
          "output_type": "execute_result",
          "data": {
            "text/plain": [
              "[{'source': '<to_Runyankole> Bbiringanya lubeerera  asinga kukulira mu mbeera ya bugumu',\n",
              "  'target': \"Entonga buriijo zikurira omu mbeera y'obwire erikutagata\"},\n",
              " {'source': '<to_Runyankole> Bilinyanya pol kare dongo maber ka lyeto tye',\n",
              "  'target': \"Entonga buriijo zikurira omu mbeera y'obwire erikutagata\"},\n",
              " {'source': '<to_Runyankole> Eggplants always grow best under warm conditions.',\n",
              "  'target': \"Entonga buriijo zikurira omu mbeera y'obwire erikutagata\"},\n",
              " {'source': '<to_Runyankole> Epoloi ebirinyanyi ojok apakio nu emwanar akwap.',\n",
              "  'target': \"Entonga buriijo zikurira omu mbeera y'obwire erikutagata\"},\n",
              " {'source': '<to_Runyankole> Birinyanya eyi zo kililiru ndeni angu driza ma alia.',\n",
              "  'target': \"Entonga buriijo zikurira omu mbeera y'obwire erikutagata\"},\n",
              " {'source': '<to_Ateso> Bbiringanya lubeerera  asinga kukulira mu mbeera ya bugumu',\n",
              "  'target': 'Epoloi ebirinyanyi ojok apakio nu emwanar akwap.'},\n",
              " {'source': \"<to_Ateso> Entonga buriijo zikurira omu mbeera y'obwire erikutagata\",\n",
              "  'target': 'Epoloi ebirinyanyi ojok apakio nu emwanar akwap.'},\n",
              " {'source': '<to_Ateso> Bilinyanya pol kare dongo maber ka lyeto tye',\n",
              "  'target': 'Epoloi ebirinyanyi ojok apakio nu emwanar akwap.'},\n",
              " {'source': '<to_Ateso> Eggplants always grow best under warm conditions.',\n",
              "  'target': 'Epoloi ebirinyanyi ojok apakio nu emwanar akwap.'},\n",
              " {'source': '<to_Ateso> Birinyanya eyi zo kililiru ndeni angu driza ma alia.',\n",
              "  'target': 'Epoloi ebirinyanyi ojok apakio nu emwanar akwap.'},\n",
              " {'source': \"<to_Luganda> Entonga buriijo zikurira omu mbeera y'obwire erikutagata\",\n",
              "  'target': 'Bbiringanya lubeerera  asinga kukulira mu mbeera ya bugumu'},\n",
              " {'source': '<to_Luganda> Bilinyanya pol kare dongo maber ka lyeto tye',\n",
              "  'target': 'Bbiringanya lubeerera  asinga kukulira mu mbeera ya bugumu'},\n",
              " {'source': '<to_Luganda> Eggplants always grow best under warm conditions.',\n",
              "  'target': 'Bbiringanya lubeerera  asinga kukulira mu mbeera ya bugumu'},\n",
              " {'source': '<to_Luganda> Epoloi ebirinyanyi ojok apakio nu emwanar akwap.',\n",
              "  'target': 'Bbiringanya lubeerera  asinga kukulira mu mbeera ya bugumu'},\n",
              " {'source': '<to_Luganda> Birinyanya eyi zo kililiru ndeni angu driza ma alia.',\n",
              "  'target': 'Bbiringanya lubeerera  asinga kukulira mu mbeera ya bugumu'},\n",
              " {'source': '<to_Acholi> Bbiringanya lubeerera  asinga kukulira mu mbeera ya bugumu',\n",
              "  'target': 'Bilinyanya pol kare dongo maber ka lyeto tye'},\n",
              " {'source': \"<to_Acholi> Entonga buriijo zikurira omu mbeera y'obwire erikutagata\",\n",
              "  'target': 'Bilinyanya pol kare dongo maber ka lyeto tye'},\n",
              " {'source': '<to_Acholi> Eggplants always grow best under warm conditions.',\n",
              "  'target': 'Bilinyanya pol kare dongo maber ka lyeto tye'},\n",
              " {'source': '<to_Acholi> Epoloi ebirinyanyi ojok apakio nu emwanar akwap.',\n",
              "  'target': 'Bilinyanya pol kare dongo maber ka lyeto tye'},\n",
              " {'source': '<to_Acholi> Birinyanya eyi zo kililiru ndeni angu driza ma alia.',\n",
              "  'target': 'Bilinyanya pol kare dongo maber ka lyeto tye'},\n",
              " {'source': '<to_English> Bbiringanya lubeerera  asinga kukulira mu mbeera ya bugumu',\n",
              "  'target': 'Eggplants always grow best under warm conditions.'},\n",
              " {'source': \"<to_English> Entonga buriijo zikurira omu mbeera y'obwire erikutagata\",\n",
              "  'target': 'Eggplants always grow best under warm conditions.'},\n",
              " {'source': '<to_English> Bilinyanya pol kare dongo maber ka lyeto tye',\n",
              "  'target': 'Eggplants always grow best under warm conditions.'},\n",
              " {'source': '<to_English> Epoloi ebirinyanyi ojok apakio nu emwanar akwap.',\n",
              "  'target': 'Eggplants always grow best under warm conditions.'},\n",
              " {'source': '<to_English> Birinyanya eyi zo kililiru ndeni angu driza ma alia.',\n",
              "  'target': 'Eggplants always grow best under warm conditions.'},\n",
              " {'source': '<to_Lugbara> Bbiringanya lubeerera  asinga kukulira mu mbeera ya bugumu',\n",
              "  'target': 'Birinyanya eyi zo kililiru ndeni angu driza ma alia.'},\n",
              " {'source': \"<to_Lugbara> Entonga buriijo zikurira omu mbeera y'obwire erikutagata\",\n",
              "  'target': 'Birinyanya eyi zo kililiru ndeni angu driza ma alia.'},\n",
              " {'source': '<to_Lugbara> Bilinyanya pol kare dongo maber ka lyeto tye',\n",
              "  'target': 'Birinyanya eyi zo kililiru ndeni angu driza ma alia.'},\n",
              " {'source': '<to_Lugbara> Eggplants always grow best under warm conditions.',\n",
              "  'target': 'Birinyanya eyi zo kililiru ndeni angu driza ma alia.'},\n",
              " {'source': '<to_Lugbara> Epoloi ebirinyanyi ojok apakio nu emwanar akwap.',\n",
              "  'target': 'Birinyanya eyi zo kililiru ndeni angu driza ma alia.'}]"
            ]
          },
          "metadata": {},
          "execution_count": 31
        }
      ]
    },
    {
      "cell_type": "code",
      "metadata": {
        "colab": {
          "base_uri": "https://localhost:8080/"
        },
        "id": "Ih0_EX3PH6_4",
        "outputId": "79f53323-ec24-458b-9bb1-819e24ae2320"
      },
      "source": [
        "len(m[0])"
      ],
      "execution_count": null,
      "outputs": [
        {
          "output_type": "execute_result",
          "data": {
            "text/plain": [
              "30"
            ]
          },
          "metadata": {},
          "execution_count": 32
        }
      ]
    },
    {
      "cell_type": "code",
      "metadata": {
        "colab": {
          "base_uri": "https://localhost:8080/"
        },
        "id": "0xupE47AIEnt",
        "outputId": "395a8aae-1c9f-48b9-f827-d072192ddff4"
      },
      "source": [
        "len(m)"
      ],
      "execution_count": null,
      "outputs": [
        {
          "output_type": "execute_result",
          "data": {
            "text/plain": [
              "21507"
            ]
          },
          "metadata": {},
          "execution_count": 33
        }
      ]
    },
    {
      "cell_type": "code",
      "metadata": {
        "colab": {
          "base_uri": "https://localhost:8080/"
        },
        "id": "e7dUEDwvIFrS",
        "outputId": "4854b219-e5ac-4950-f0e1-dfac8ab4b88b"
      },
      "source": [
        "len(m)*len(m[0])"
      ],
      "execution_count": null,
      "outputs": [
        {
          "output_type": "execute_result",
          "data": {
            "text/plain": [
              "645210"
            ]
          },
          "metadata": {},
          "execution_count": 34
        }
      ]
    },
    {
      "cell_type": "code",
      "metadata": {
        "id": "M0lVxZDFIHw2"
      },
      "source": [
        "from itertools import chain\n",
        "multi_dataset = pd.DataFrame(list(chain.from_iterable(m)))"
      ],
      "execution_count": null,
      "outputs": []
    },
    {
      "cell_type": "code",
      "metadata": {
        "colab": {
          "base_uri": "https://localhost:8080/"
        },
        "id": "bhRgWOqLIMQa",
        "outputId": "6cafc6c5-9c9e-4948-b295-f10198557894"
      },
      "source": [
        "multi_dataset.tail(5).values"
      ],
      "execution_count": null,
      "outputs": [
        {
          "output_type": "execute_result",
          "data": {
            "text/plain": [
              "array([[\"<to_Lugbara> Kamera y'eby'okwerinda yabakwata nga bamenya okuyingira mu nnyuma eyo.\",\n",
              "        \"Ba 'du yi afa ondredreani security cameraruri ma dria yini yi nyoria jo ma alia\"],\n",
              "       ['<to_Lugbara> Akatambi kaabo barikucwa okutaaha omunju kakakwatwa zaa kamera zaa kareebireebi.',\n",
              "        \"Ba 'du yi afa ondredreani security cameraruri ma dria yini yi nyoria jo ma alia\"],\n",
              "       ['<to_Lugbara> Kamera me gwoko ber bedo omako cal gi ma gitye ka turo ot.',\n",
              "        \"Ba 'du yi afa ondredreani security cameraruri ma dria yini yi nyoria jo ma alia\"],\n",
              "       ['<to_Lugbara> They were captured on the security camera breaking into the house.',\n",
              "        \"Ba 'du yi afa ondredreani security cameraruri ma dria yini yi nyoria jo ma alia\"],\n",
              "       ['<to_Lugbara> Aponi ikamai kesi keda akamera eutasi aibil etogo kanu akoko.',\n",
              "        \"Ba 'du yi afa ondredreani security cameraruri ma dria yini yi nyoria jo ma alia\"]],\n",
              "      dtype=object)"
            ]
          },
          "metadata": {},
          "execution_count": 39
        }
      ]
    },
    {
      "cell_type": "code",
      "metadata": {
        "id": "wpdso7jFINXR"
      },
      "source": [
        ""
      ],
      "execution_count": null,
      "outputs": []
    }
  ]
}