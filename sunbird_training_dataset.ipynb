{
  "cells": [
    {
      "cell_type": "code",
      "execution_count": 24,
      "metadata": {},
      "outputs": [],
      "source": [
        "import gdown\n",
        "import pandas as pd\n",
        "from decouple import config\n",
        "from sklearn.model_selection import train_test_split"
      ]
    },
    {
      "cell_type": "code",
      "execution_count": 27,
      "metadata": {
        "colab": {
          "base_uri": "https://localhost:8080/"
        },
        "id": "XjyMCIyXMqby",
        "outputId": "9a6b8196-db1d-467d-cea1-358a02c1a86b"
      },
      "outputs": [],
      "source": [
        "id = config(\"RESOURCE_ID\")\n",
        "url = f\"https://drive.google.com/uc?id={id}\"\n",
        "gdown.download(url)"
      ]
    },
    {
      "cell_type": "code",
      "execution_count": 28,
      "metadata": {
        "id": "oH39MPDcM0yi"
      },
      "outputs": [],
      "source": [
        "data = pd.read_json(\"sunbird-ug-lang-v4.0.jsonl\", lines=True)"
      ]
    },
    {
      "cell_type": "code",
      "execution_count": 29,
      "metadata": {
        "id": "2qsiV1p_M_Pi"
      },
      "outputs": [],
      "source": [
        "train_df, test_df = train_test_split(data, test_size=0.33, random_state=42)"
      ]
    },
    {
      "cell_type": "code",
      "execution_count": 30,
      "metadata": {
        "colab": {
          "base_uri": "https://localhost:8080/"
        },
        "id": "tMUFpFJqNknc",
        "outputId": "ff0aa255-25a2-4d26-c180-9103f5f75915"
      },
      "outputs": [
        {
          "data": {
            "text/plain": [
              "(14409, 6)"
            ]
          },
          "execution_count": 30,
          "metadata": {},
          "output_type": "execute_result"
        }
      ],
      "source": [
        "train_df.shape"
      ]
    },
    {
      "cell_type": "code",
      "execution_count": 31,
      "metadata": {
        "colab": {
          "base_uri": "https://localhost:8080/"
        },
        "id": "Z4230D7OPuIO",
        "outputId": "33e47e1d-8fdf-4a9f-c8b1-70784468293a"
      },
      "outputs": [
        {
          "data": {
            "text/plain": [
              "(7098, 6)"
            ]
          },
          "execution_count": 31,
          "metadata": {},
          "output_type": "execute_result"
        }
      ],
      "source": [
        "test_df.shape"
      ]
    },
    {
      "cell_type": "code",
      "execution_count": 32,
      "metadata": {
        "id": "HUqes6FyPxju"
      },
      "outputs": [],
      "source": [
        "test_df, val_df = train_test_split(test_df, test_size=0.5, random_state=42)"
      ]
    },
    {
      "cell_type": "code",
      "execution_count": 33,
      "metadata": {
        "colab": {
          "base_uri": "https://localhost:8080/"
        },
        "id": "b90pziBoQBnI",
        "outputId": "264863ce-c9e6-4931-dc42-40f30bc4bec1"
      },
      "outputs": [
        {
          "data": {
            "text/plain": [
              "(3549, 6)"
            ]
          },
          "execution_count": 33,
          "metadata": {},
          "output_type": "execute_result"
        }
      ],
      "source": [
        "val_df.shape"
      ]
    },
    {
      "cell_type": "code",
      "execution_count": 34,
      "metadata": {
        "colab": {
          "base_uri": "https://localhost:8080/"
        },
        "id": "kLdoRWyEQE7Y",
        "outputId": "23847bff-c69b-4861-8452-5ec29127ede1"
      },
      "outputs": [
        {
          "data": {
            "text/plain": [
              "(3549, 6)"
            ]
          },
          "execution_count": 34,
          "metadata": {},
          "output_type": "execute_result"
        }
      ],
      "source": [
        "test_df.shape"
      ]
    },
    {
      "cell_type": "markdown",
      "metadata": {
        "id": "ou79-f3sQRKm"
      },
      "source": [
        "## Create the training texts"
      ]
    },
    {
      "cell_type": "code",
      "execution_count": 35,
      "metadata": {
        "colab": {
          "base_uri": "https://localhost:8080/"
        },
        "id": "XiJnRCADQYU9",
        "outputId": "b1ac432d-2212-4131-e4a9-8bf689fbfb68"
      },
      "outputs": [
        {
          "data": {
            "text/plain": [
              "15709    He survived after his son heard him wailing an...\n",
              "11152                     It is good to grow your talent..\n",
              "177      During the coronavirus outbreak, people began ...\n",
              "17663                           What is your friend up to?\n",
              "14329    Rwanda does not take lightly threats of invasi...\n",
              "                               ...                        \n",
              "11284                           The buildings have cracks.\n",
              "11964                            They raised enough funds.\n",
              "5390     That professor teaches physics at the university.\n",
              "860      Instead of fighting rebels, Sudan opted for pe...\n",
              "15795    Engaging in difficult cases requires hard nego...\n",
              "Name: English, Length: 14409, dtype: object"
            ]
          },
          "execution_count": 35,
          "metadata": {},
          "output_type": "execute_result"
        }
      ],
      "source": [
        "train_df['English']"
      ]
    },
    {
      "cell_type": "code",
      "execution_count": 36,
      "metadata": {
        "id": "zGhy0R2UQgyn"
      },
      "outputs": [],
      "source": [
        "train_df[\"English\"].to_csv('train.en', header=False, index=False, sep='\\t', mode='a')\n",
        "train_df[\"Luganda\"].to_csv('train.lg', header=False, index=False, sep='\\t', mode='a')\n",
        "train_df[\"Runyankole\"].to_csv('train.run', header=False, index=False, sep='\\t', mode='a')\n",
        "train_df[\"Ateso\"].to_csv('train.teo', header=False, index=False, sep='\\t', mode='a')\n",
        "train_df[\"Lugbara\"].to_csv('train.lgg', header=False, index=False, sep='\\t', mode='a')\n",
        "train_df[\"Acholi\"].to_csv('train.ach', header=False, index=False, sep='\\t', mode='a')\n"
      ]
    },
    {
      "cell_type": "code",
      "execution_count": 37,
      "metadata": {
        "id": "BnJmZLJVRLKn"
      },
      "outputs": [],
      "source": [
        "test_df[\"English\"].to_csv('test.en', header=False, index=False, sep='\\t', mode='a')\n",
        "test_df[\"Luganda\"].to_csv('test.lg', header=False, index=False, sep='\\t', mode='a')\n",
        "test_df[\"Runyankole\"].to_csv('test.run', header=False, index=False, sep='\\t', mode='a')\n",
        "test_df[\"Ateso\"].to_csv('test.teo', header=False, index=False, sep='\\t', mode='a')\n",
        "test_df[\"Lugbara\"].to_csv('test.lgg', header=False, index=False, sep='\\t', mode='a')\n",
        "test_df[\"Acholi\"].to_csv('test.ach', header=False, index=False, sep='\\t', mode='a')\n"
      ]
    },
    {
      "cell_type": "code",
      "execution_count": 38,
      "metadata": {
        "id": "tSQGM_c8Sy5y"
      },
      "outputs": [],
      "source": [
        "val_df[\"English\"].to_csv('val.en', header=False, index=False, sep='\\t', mode='a')\n",
        "val_df[\"Luganda\"].to_csv('val.lg', header=False, index=False, sep='\\t', mode='a')\n",
        "val_df[\"Runyankole\"].to_csv('val.run', header=False, index=False, sep='\\t', mode='a')\n",
        "val_df[\"Ateso\"].to_csv('val.teo', header=False, index=False, sep='\\t', mode='a')\n",
        "val_df[\"Lugbara\"].to_csv('val.lgg', header=False, index=False, sep='\\t', mode='a')\n",
        "val_df[\"Acholi\"].to_csv('val.ach', header=False, index=False, sep='\\t', mode='a')\n"
      ]
    },
    {
      "cell_type": "code",
      "execution_count": 39,
      "metadata": {
        "id": "Unf7OAJzTCcv"
      },
      "outputs": [],
      "source": [
        "!mkdir dataset"
      ]
    },
    {
      "cell_type": "code",
      "execution_count": null,
      "metadata": {
        "id": "wizOH70tTHQY"
      },
      "outputs": [],
      "source": [
        "!mv *.* dataset"
      ]
    },
    {
      "cell_type": "code",
      "execution_count": null,
      "metadata": {
        "colab": {
          "base_uri": "https://localhost:8080/"
        },
        "id": "AQf528eBUPzt",
        "outputId": "30962705-4e1d-4ecc-a974-6310dc8d543d"
      },
      "outputs": [
        {
          "name": "stdout",
          "output_type": "stream",
          "text": [
            "sunbird-ug-lang-v4.0.jsonl  test.lgg   train.en   train.teo  val.lgg\n",
            "test.ach                    test.run   train.lg   val.ach    val.run\n",
            "test.en                     test.teo   train.lgg  val.en     val.teo\n",
            "test.lg                     train.ach  train.run  val.lg\n"
          ]
        }
      ],
      "source": [
        "ls dataset/"
      ]
    },
    {
      "cell_type": "code",
      "execution_count": null,
      "metadata": {
        "colab": {
          "base_uri": "https://localhost:8080/"
        },
        "id": "aTghrcK9USyU",
        "outputId": "3be51c00-6465-4fd1-e74a-10b15c52adc4"
      },
      "outputs": [
        {
          "name": "stdout",
          "output_type": "stream",
          "text": [
            "dataset/\n",
            "dataset/.ipynb_checkpoints/\n",
            "dataset/train.ach\n",
            "dataset/train.lg\n",
            "dataset/train.en\n",
            "dataset/test.run\n",
            "dataset/train.run\n",
            "dataset/val.en\n",
            "dataset/val.lg\n",
            "dataset/test.ach\n",
            "dataset/val.ach\n",
            "dataset/test.lgg\n",
            "dataset/train.teo\n",
            "dataset/val.run\n",
            "dataset/test.en\n",
            "dataset/val.teo\n",
            "dataset/val.lgg\n",
            "dataset/test.teo\n",
            "dataset/test.lg\n",
            "dataset/train.lgg\n"
          ]
        }
      ],
      "source": [
        "!tar -czvf dataset-v4.tar dataset "
      ]
    },
    {
      "cell_type": "code",
      "execution_count": null,
      "metadata": {
        "colab": {
          "base_uri": "https://localhost:8080/"
        },
        "id": "4bHn8YxIU2sb",
        "outputId": "4f7cd71b-40ca-4d34-e58c-1f04739b6246"
      },
      "outputs": [
        {
          "name": "stdout",
          "output_type": "stream",
          "text": [
            "  adding: dataset/ (stored 0%)\n",
            "  adding: dataset/.ipynb_checkpoints/ (stored 0%)\n",
            "  adding: dataset/train.ach (deflated 63%)\n",
            "  adding: dataset/train.lg (deflated 66%)\n",
            "  adding: dataset/train.en (deflated 64%)\n",
            "  adding: dataset/test.run (deflated 65%)\n",
            "  adding: dataset/train.run (deflated 65%)\n",
            "  adding: dataset/val.en (deflated 63%)\n",
            "  adding: dataset/val.lg (deflated 65%)\n",
            "  adding: dataset/test.ach (deflated 63%)\n",
            "  adding: dataset/val.ach (deflated 63%)\n",
            "  adding: dataset/test.lgg (deflated 65%)\n",
            "  adding: dataset/train.teo (deflated 67%)\n",
            "  adding: dataset/val.run (deflated 64%)\n",
            "  adding: dataset/test.en (deflated 63%)\n",
            "  adding: dataset/val.teo (deflated 66%)\n",
            "  adding: dataset/val.lgg (deflated 65%)\n",
            "  adding: dataset/test.teo (deflated 66%)\n",
            "  adding: dataset/test.lg (deflated 65%)\n",
            "  adding: dataset/train.lgg (deflated 66%)\n"
          ]
        }
      ],
      "source": [
        "!zip -r dataset-v4.zip dataset/"
      ]
    },
    {
      "cell_type": "code",
      "execution_count": null,
      "metadata": {
        "id": "cFQW4NKJU5wr"
      },
      "outputs": [],
      "source": []
    }
  ],
  "metadata": {
    "colab": {
      "name": "sunbird-dataset.ipynb",
      "provenance": []
    },
    "interpreter": {
      "hash": "b0fa6594d8f4cbf19f97940f81e996739fb7646882a419484c72d19e05852a7e"
    },
    "kernelspec": {
      "display_name": "Python 3.9.6 64-bit",
      "name": "python3"
    },
    "language_info": {
      "codemirror_mode": {
        "name": "ipython",
        "version": 3
      },
      "file_extension": ".py",
      "mimetype": "text/x-python",
      "name": "python",
      "nbconvert_exporter": "python",
      "pygments_lexer": "ipython3",
      "version": "3.9.6"
    }
  },
  "nbformat": 4,
  "nbformat_minor": 0
}
