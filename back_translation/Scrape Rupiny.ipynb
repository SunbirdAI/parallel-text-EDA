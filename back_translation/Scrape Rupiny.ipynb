{
 "cells": [
  {
   "cell_type": "markdown",
   "id": "be8b09b3-890e-4920-b99e-3b8a3c14cc79",
   "metadata": {},
   "source": [
    "First, pull down posts and messages from the Facebook group `rupiny.newspaper.7`. These are mostly news headlines and a few replies in Acholi, with some English in there too which has to be filtered out."
   ]
  },
  {
   "cell_type": "code",
   "execution_count": null,
   "id": "8d9450da-8583-4304-8cd0-ed5d07bb50c0",
   "metadata": {},
   "outputs": [],
   "source": [
    "!pip install facebook-scraper"
   ]
  },
  {
   "cell_type": "code",
   "execution_count": 95,
   "id": "e093bec2-e351-46df-9261-28d509a85fb8",
   "metadata": {},
   "outputs": [],
   "source": [
    "import json\n",
    "from facebook_scraper import get_posts\n",
    "from tqdm.notebook import tqdm\n",
    "import re, string\n",
    "import numpy as np"
   ]
  },
  {
   "cell_type": "code",
   "execution_count": 20,
   "id": "e37f7231-9ed6-49a2-b627-cb371df54876",
   "metadata": {},
   "outputs": [],
   "source": [
    "num_pages_to_request = 100000\n",
    "posts_iterator = get_posts('rupiny.newspaper.7', pages=num_pages_to_request, options={\"comments\": True})"
   ]
  },
  {
   "cell_type": "markdown",
   "id": "27e29380-ac2f-48db-9985-ee2f6f7c8a4d",
   "metadata": {},
   "source": [
    "Took about 1.5 hours for a test run of 10k pages (back to ~2013)"
   ]
  },
  {
   "cell_type": "code",
   "execution_count": 21,
   "id": "b1b19782-d468-421e-a134-b4bc7a929c9d",
   "metadata": {},
   "outputs": [
    {
     "data": {
      "application/vnd.jupyter.widget-view+json": {
       "model_id": "01461c0ec97f4a9abc0ffc11faa21c33",
       "version_major": 2,
       "version_minor": 0
      },
      "text/plain": [
       "  0%|          | 0/1000 [00:00<?, ?it/s]"
      ]
     },
     "metadata": {},
     "output_type": "display_data"
    }
   ],
   "source": [
    "posts = []\n",
    "for post in tqdm(posts_iterator, total=num_pages_to_request):\n",
    "    posts.append(post)"
   ]
  },
  {
   "cell_type": "code",
   "execution_count": 42,
   "id": "b7c4337f-5c74-4d0c-8d36-647abafaaa30",
   "metadata": {},
   "outputs": [],
   "source": [
    "text = '\\n'.join([p['text'] or '' for p in posts])\n",
    "lines = text.split('\\n')"
   ]
  },
  {
   "cell_type": "markdown",
   "id": "b5c8f660-7282-48cf-822c-4435aabb1f0b",
   "metadata": {},
   "source": [
    "Define some functions to make a heuristic guess whether some text is in the target language."
   ]
  },
  {
   "cell_type": "code",
   "execution_count": 231,
   "id": "559fc56d-5b07-4535-afcc-aefe1f021bae",
   "metadata": {},
   "outputs": [],
   "source": [
    "def is_target_language(text, vocab, print_stats = False):\n",
    "    '''Heuristic language id based on number of recognised words.'''\n",
    "    words = [re.sub('[\\W_]+', '', a) for a in text.lower().split()]\n",
    "    in_vocab = [w in vocab for w in words]\n",
    "\n",
    "    num_words_in_vocab = np.sum(in_vocab)\n",
    "    ratio = (num_words_in_vocab + .01) / (len(words) + .01)\n",
    "    if print_stats:\n",
    "        print(in_vocab)\n",
    "        print(ratio, num_words_in_vocab)\n",
    "    return num_words_in_vocab >= 3 and ratio > 0.3  \n",
    "\n",
    "def file_to_list(path):\n",
    "    with open(path) as file:\n",
    "        lines = file.readlines()\n",
    "        lines = [line.rstrip() for line in lines]\n",
    "        return lines\n",
    "\n",
    "vocab = file_to_list('translation/v7-dataset/v7.0/supervised/en-ach/train.ach')\n",
    "vocab = ' '.join(vocab)\n",
    "vocab = vocab.lower()\n",
    "vocab = vocab.split()\n",
    "vocab = [re.sub('[\\W_]+', '', a) for a in vocab]\n",
    "vocab = [a for a in vocab if len(a)>3]\n",
    "vocab = set(vocab)"
   ]
  },
  {
   "cell_type": "markdown",
   "id": "cb44427b-da14-46ca-9fec-4c807c23a687",
   "metadata": {},
   "source": [
    "Strip out the lines of text that are in the wrong language, or are a date or too short, or are some html/javascript code."
   ]
  },
  {
   "cell_type": "code",
   "execution_count": 233,
   "id": "b3587a11-3e8c-4efd-b726-87f164812feb",
   "metadata": {},
   "outputs": [],
   "source": [
    "print_wrong_language_sentences = False\n",
    "\n",
    "clean = []\n",
    "for line in lines:\n",
    "    words = line.split()\n",
    "    too_short = len(words) <= 3\n",
    "    is_code = 'loadEventSupported' in line or 'requireLazy' in line\n",
    "    is_date = (len(words) > 4 and\n",
    "               words[1] in ['January', 'February', 'March', 'April',\n",
    "                            'May', 'June', 'July', 'August',\n",
    "                            'September', 'October', 'November', 'December'])\n",
    "\n",
    "    not_target_language = not is_target_language(line, vocab) \n",
    "    if print_wrong_language_sentences\n",
    "        if not_target_language and not (too_short or is_code or is_date):\n",
    "            print(line)\n",
    "    if not (too_short or is_code or is_date or not_target_language):\n",
    "        clean.append(line)\n",
    "        \n",
    "clean = list(set(clean))"
   ]
  },
  {
   "cell_type": "markdown",
   "id": "a40a78b3-ec0e-4f31-af6d-69967c9071fe",
   "metadata": {},
   "source": [
    "Now break this down into sentences and save as plain text."
   ]
  },
  {
   "cell_type": "code",
   "execution_count": 236,
   "id": "4792726b-6778-4169-9588-5c2a9bf88fa8",
   "metadata": {},
   "outputs": [],
   "source": [
    "import re\n",
    "alphabets= \"([A-Za-z])\"\n",
    "prefixes = \"(Mr|St|Mrs|Ms|Dr)[.]\"\n",
    "suffixes = \"(Inc|Ltd|Jr|Sr|Co)\"\n",
    "starters = \"(Mr|Mrs|Ms|Dr|He\\s|She\\s|It\\s|They\\s|Their\\s|Our\\s|We\\s|But\\s|However\\s|That\\s|This\\s|Wherever)\"\n",
    "acronyms = \"([A-Z][.][A-Z][.](?:[A-Z][.])?)\"\n",
    "websites = \"[.](com|net|org|io|gov)\"\n",
    "\n",
    "def split_into_sentences(text):\n",
    "    text = \" \" + text + \"  \"\n",
    "    text = text.replace(\"\\n\",\" \")\n",
    "    text = re.sub(prefixes,\"\\\\1<prd>\",text)\n",
    "    text = re.sub(websites,\"<prd>\\\\1\",text)\n",
    "    if \"Ph.D\" in text: text = text.replace(\"Ph.D.\",\"Ph<prd>D<prd>\")\n",
    "    text = re.sub(\"\\s\" + alphabets + \"[.] \",\" \\\\1<prd> \",text)\n",
    "    text = re.sub(acronyms+\" \"+starters,\"\\\\1<stop> \\\\2\",text)\n",
    "    text = re.sub(alphabets + \"[.]\" + alphabets + \"[.]\" + alphabets + \"[.]\",\"\\\\1<prd>\\\\2<prd>\\\\3<prd>\",text)\n",
    "    text = re.sub(alphabets + \"[.]\" + alphabets + \"[.]\",\"\\\\1<prd>\\\\2<prd>\",text)\n",
    "    text = re.sub(\" \"+suffixes+\"[.] \"+starters,\" \\\\1<stop> \\\\2\",text)\n",
    "    text = re.sub(\" \"+suffixes+\"[.]\",\" \\\\1<prd>\",text)\n",
    "    text = re.sub(\" \" + alphabets + \"[.]\",\" \\\\1<prd>\",text)\n",
    "    if \"”\" in text: text = text.replace(\".”\",\"”.\")\n",
    "    if \"\\\"\" in text: text = text.replace(\".\\\"\",\"\\\".\")\n",
    "    if \"!\" in text: text = text.replace(\"!\\\"\",\"\\\"!\")\n",
    "    if \"?\" in text: text = text.replace(\"?\\\"\",\"\\\"?\")\n",
    "    text = text.replace(\".\",\".<stop>\")\n",
    "    text = text.replace(\"?\",\"?<stop>\")\n",
    "    text = text.replace(\"!\",\"!<stop>\")\n",
    "    text = text.replace(\"<prd>\",\".\")\n",
    "    sentences = text.split(\"<stop>\")\n",
    "    sentences = sentences[:-1]\n",
    "    sentences = [s.strip() for s in sentences]\n",
    "    return sentences"
   ]
  },
  {
   "cell_type": "code",
   "execution_count": 242,
   "id": "ab7aae54-821c-40ca-9df1-065e3648efef",
   "metadata": {},
   "outputs": [],
   "source": [
    "sentences = []\n",
    "for c in clean:\n",
    "    current_sentences = split_into_sentences(c)\n",
    "    for s in current_sentences:\n",
    "        if len(s.split()) > 3:\n",
    "            sentences.append(s)"
   ]
  },
  {
   "cell_type": "code",
   "execution_count": 246,
   "id": "ef1bde6b-cc79-4ee7-ba57-13ab464d36e3",
   "metadata": {},
   "outputs": [
    {
     "data": {
      "text/plain": [
       "2537"
      ]
     },
     "execution_count": 246,
     "metadata": {},
     "output_type": "execute_result"
    }
   ],
   "source": [
    "len(sentences)"
   ]
  },
  {
   "cell_type": "code",
   "execution_count": 245,
   "id": "bcc28167-5da7-4ea1-88c3-be7d64bb9374",
   "metadata": {},
   "outputs": [
    {
     "data": {
      "text/plain": [
       "['Gurup ame onwongo otye apwonyo ni oya i lobo me f Iraq kede Syria,man en dul ame obedo bolo aranyi i lobo me United States.',\n",
       " 'Sanchez tye abango mucara me ciling £500,000- cabit kede cabit ingee weko arsenal I dwe me acel I mwaka 2018.',\n",
       " 'Ka ingeyo lapwony mo ma tio ki diro ne weng me neno ni lutino aniang jami ma en pwonyo wek kwo gi obed maber ikare me anyim, cwali wa nyinge kede kan ma en pwonyo iye oyot-oyot wek omi lwak nge lok ikome.',\n",
       " 'Teceng: Gitumu nye mo bi butu ki maro i poto gwana!',\n",
       " 'Kumu dok i Gulu inge motoka goyo lapwony me Gulu University Ballam Nyeko wa itoo.',\n",
       " 'Nyeko obedo omin lacoc ma megwa Dennis Ojwee matidi.',\n",
       " 'Kabedo tye pi otino amito wot kwano S1 i Wairaka College kede Jinja College.',\n",
       " 'Bin icoye pi admission i opici me Rupiny/New Vision Lira.',\n",
       " 'Iromo dang goyo cim namba:0776944990 pi ngec okene.',\n",
       " '• Ka onongo itamo ni dano ma I jela weng cwiny gi rac ci tam odoco: Mabuc 37 ocone me doko lupwonye dini.',\n",
       " 'Lira University (Uganda Government funded) working together with future minded sponsors and well wishers shall hold the first Lango International Tourism Conference at Margaritha Palace Hotel, Lira from 21 -23 October 2018.',\n",
       " 'Joseph Opwonyo neno ni, omito moko kan ni iceng aryo ducu obino… More cako cwalo wiewie atye i Rupiny abongo keng.',\n",
       " '• Lee tim ocako kayo woko cam ki ipoto pa lutedero.',\n",
       " 'Abili ma i Apac owaco ni Olomo owaco ni eyiko Lazarus Ogwal me kano ne ki bot nyek mine, Santa Adero, mwaka 59, ma onongo omiyo bura me neko ne woko.',\n",
       " 'Pi jo ame pe ngeo Acham Helln dako ame obin okubere kede oreco mogo eka ote jwato wi cware anyinge Agedi oko naka inginyo pi miti me cente.',\n",
       " 'Yin kono imiyo tami ni ngo iye?',\n",
       " 'Cwal kwena ni bot Papa.',\n",
       " 'Inino ame Papa abino kede i Uganda, wan obino miye karatac wa acalo mot bote.',\n",
       " 'Dong pi man, cwal kwena ni bot Papa wek okati i karatac wa me nino dwe 25.',\n",
       " 'Myero icwal kede cal -li.',\n",
       " 'Lukwan wa, walego ni ka icoyo tami coo ki leb Acholi onyo leb… More Lango wek kiket kit ma icoyo kwede.',\n",
       " 'Leb ka odoko ni agonya koni nywene woko.',\n",
       " 'Wangi imato wunu alyet cakere ipaco.',\n",
       " 'Motoka FUSO aryo tin odiko obin owang Boroboro iyo aya i Lira woto Dokolo.',\n",
       " 'Motoka magi onwong Police traffic ojuki gi i check point ento ote mwoc kede mac.',\n",
       " 'Jo angwen onwonge ret ote laro gi kede Lira regional referral hospital.',\n",
       " '• DPC omao dako ot:Won dako omoro koko pi cente mere milyon 30= ame onwongo oyabi dako kede business me bao.',\n",
       " 'DPC mene akite tek woki?',\n",
       " 'En dako okobo ni ngo ikom cware?',\n",
       " 'Kwan i papara… More me Rupiny.',\n",
       " 'Wan ojolo icing wa apar.',\n",
       " 'I cabit abino inino dwe 17 kede 18, acungo pi mito bedo preciden Amama Mbabazi bino bedo Lira kede Gulu.',\n",
       " 'Cwal loki bote kun beo i Rupiny.',\n",
       " 'Lok ajo ducu bino kato i karatac me Rupiny.',\n",
       " 'Okricto me Lira Diocese iceng okiko obin olimo Bishop anyen me Lango Diocese, Dr. Alfred Olwa ote mote kede nyok romo adit, Bible kede yataria acelo anen me mara kede kuc ikin ni ye aryo magi.',\n",
       " 'Gin Opwo Obanga pi keto gen te miyo yero Dr. Alfred Olwa acalo Aneno anyen me Lango Diocese.',\n",
       " 'uhuru okato gire aber ibot wa i GULU.',\n",
       " 'Tic Ango Kede Kwene?',\n",
       " '• CENTE ODANY TYE PI KARAMA:Bed ikin ogumkom me lanyo milyon acel oling i Rupiny.',\n",
       " 'wir wi lim man ni ngo?',\n",
       " 'Pi ngo cwiny lwak yom pi kit ma ludiro gukwedo ki nek?',\n",
       " 'Weng tye i karatac Rupiny me cabiti.',\n",
       " 'Lutic me Radio Rupiny i yub me dore pi kwero mwaka 54 ma Uganda onongo kwede locken.',\n",
       " 'Ento Ladit Joseph Kony mono obedo anga ni ma lwagi gwok bene moyo kome pe nongo ni?',\n",
       " 'Pito yen kede gwoko akao dang bino konyo wa.',\n",
       " 'neno paco wa dong… More pe mit, yamo kutu apua arac tutwal.',\n",
       " 'akwayo adit anyeni me kubu wa kede state house me wek onwong me kony lim wek opit yen eka dok akwaye me tic atek me gengo jo idonyo i puru akao.',\n",
       " '“Jal i cawa ma ki ngolo ni an Oteka acit i buc, kong me acel ki i ot kot atamo ni nen calo obedo loka ngala.',\n",
       " 'An me cito i buc pe time ento acako neno ada ne mito doko tye ma dong ki tye ka kwanya me cito i buc, wiya omito bale wok,\" Lakwat Benjamin Oteka ma pud odwogo cokcoki ki i buc oboko lok me kwo ne ki Rupiny.',\n",
       " 'Pe i keng neno ducu i Rupiny ma kati diki maca i ceng adek nino dwe 10.',\n",
       " 'Notte en teko: Lango Cultural foundation kede Tekwaro Lango ocako pora me notte cako tic karacel me dongngo Lango.',\n",
       " 'Ot poko ngec BBC oyero Agness Atim Apea i kin mon 100 ma gigudu kwo pa lwak loyo i lobo Africa.',\n",
       " 'Atim, mwaka 42, tye ki PHD doki en maro puru nyig cam calo mucele.',\n",
       " 'Jo ma BBC olwongo gi ni mon ma gudu kwo pa lwak loyo i kare ma okato angec onongo tye iye preciden ma con me lobo Liberia, Ellen Johnson Sirlif.',\n",
       " 'Itamo ni kit yer pa BBC ni tye ki adwogi ma ber i kin lwak?',\n",
       " 'Atin ame oneko ni nyinge onwongere ni Dickens Okello me mwaka 11, kwano kilaci adek i Alito Primary school otamo ni odeo adea pien jo oneno acok tye atito ni ngute kede oguru yonge cal igin otur.',\n",
       " '- Papara man dang obino miyo bot Pope kede lega ajo akato 200 oko ame tye ocoo iyie kore-ikore.',\n",
       " 'Peny P.L.E i Gulu prison primary school i odiko ma tin.',\n",
       " 'Adit Editor: Apenya tye bot luo speaker weny ni \"Oyam\" onwongo rwom me doko district imwaka mene, idwe mene?',\n",
       " 'NGOO AME OTIME LAYIBI CENTRE ICAA AME BOBI WINE OKATO?',\n",
       " '“An aneno ni kit ame MP Ocen tye atimere kede ni baloro pe iye pien dwong a MP omito ka wakere en Ocen pe obedo awaka ame wan otye omare iye atek,”abol kwir acel inyim benki kunu okobo.',\n",
       " 'Tika onongo i ngeyo ni Gulu municipality oloko Town Clerk 14 i mwaka 10?',\n",
       " 'Kwan i Karatac Rupiny ma diki.',\n",
       " 'Omyero tela me tekwaro ki ket kigeng ikome pien pe waromo doro… More ne iyoo ma opore kit ma kwari wa yam otimo.',\n",
       " 'Man lanyut ni kare me tela ikit me tekwaro dong pe tiyo.',\n",
       " 'Wanen wunu yoo mapat.',\n",
       " '• Kwo me diro ocoro Lira: Omako cika Bishop pi kwalo cente iwi okora, mano ka cika bicopene, nwong i Rupiny me cabit man.',\n",
       " 'Cuny owitong obale atek inge joo ame Wonyaci obino kedgi kwero oko ni alub cipika pe atelo cokere pien Wonyaci ikome aye obedo wonkom me cokere no.',\n",
       " 'okene tye kede neno moro me aluc.',\n",
       " 'LAPENY: ka dako ma i tye ka cunu ne okwero tam ni, i timo ngo?',\n",
       " 'Pwonyo bulu kede ngec ikom Diro me kwo amito otela bala Dr.… More Orech no wek opwony gi kun omio gi ngeo ni pur kede pito yen obedo pagi me lonyo ame pol abulu myero Mak pur kede pito yen bala biacara ame nyuto no myero opit yen adwong ame teki otego obino owilo ibot GI irwom amalo te kelo lim apub icing gi week oryem can kede Konyo iwleny ikom alokaloka me ping.',\n",
       " 'Atapara SS obedo cukul cinia ame ocakere imwaka 1981 ite dini me Atoli dok tye ikin cukule cinia i Lango ame tye adongo irwom amalo cako igedo medo naka irwom me kato… More peny.',\n",
       " 'I tum cabit man, pe i mat kongo wa i labyel kweri.',\n",
       " 'Cak jogo cente me dwoko lutino i gang kwan i tam me adek.',\n",
       " 'Mi tami ikom tam ame adit man okato kede ni.',\n",
       " 'Vatican otyeko moko nino lim pa Pope Francis I i Uganda.',\n",
       " 'Myero juk ticere me pwony oko ame en dong pe twero pwony… More icukule lung i Uganda inge miye kong pwod pi lilo atin atidi(tweye ibuc pi mwaki 7 kulu).',\n",
       " '😁 yomo cwinya matek .',\n",
       " 'Atic Obanga Mene Pe atye angeyo,ngatoro kong tit nyinge?',\n",
       " 'Pe ikeng i Rupiny me cabiti.',\n",
       " 'Kati diki i kacato karatac weng ma cok kwedi.',\n",
       " 'mono bene kwo ma tye i uganda kany ,wa bed ku meno.',\n",
       " 'Lelo oribere kede kumu pien jo magi ducu tye kede jo acwako gi.',\n",
       " 'opuk kipito apita ahhhaaaah mp engola yeny project okene!',\n",
       " 'An pe aneno ticoro atek ame mp Acire otio.',\n",
       " \"Yubu ka kwang man (swimming pool) i St. Joseph's College Layibi otero cok ciling M380, doki otum i kare ne kikome me pyem tuku kwang pa lutino kwan ma gi aa ki i gangi kwan ma i lobo ma gi tye i kunyango me Africa.\",\n",
       " 'MM College Wairaka Jinja otyeko dok yabo dogola me kwan pi otino me tumalu.',\n",
       " 'Rupiny watye ki president acel kiken eno ni anywali me #Uganda.',\n",
       " '… More president pa FDC obedo @Mugisha Muntu atamo ni aloko adaa.',\n",
       " 'Kur item ni ikelo ayela.',\n",
       " 'Awobe kede anyira tye atera me lweny ikom jo amito balu kuc alwak .',\n",
       " 'MP me Erute South , Sam Engola kede DPC me Lira tye alelo kede Crime preventers kun okuro bino a preciden Museveni Lira pi bino cwalo gi ooko.',\n",
       " 'Itamo ni ngo ikom jo ame oco me konyo abili gwoko kuc ni?',\n",
       " 'Tam otela i Arsenal tye ame opokere ikom pulan me cimo Mikel Arteta leyo wang Arsene Wenga acalo Menija.',\n",
       " '- Rupiny me cabit man bino kato kede sticker me jolo Pope, pe ikeng!',\n",
       " 'Kabedo tye pi otino amito donyo i S1 onyo otino ame amito kobo i S2 - S4.',\n",
       " '\"Dating site\" me mwaka 1901 kama co ma tye ka yenyo mon anyoma cung iye i lobo America.',\n",
       " 'Papara namba acel me Rupiny i cabit man.',\n",
       " 'Amut ducu itereitere nwongere iyie.',\n",
       " 'Olego Rwot Obanga me gwoko wun ducu.']"
      ]
     },
     "execution_count": 245,
     "metadata": {},
     "output_type": "execute_result"
    }
   ],
   "source": [
    "sentences[-100:]"
   ]
  },
  {
   "cell_type": "code",
   "execution_count": 253,
   "id": "722f9fb7-5b8d-48d9-bd97-499f497fc718",
   "metadata": {},
   "outputs": [],
   "source": [
    "with open(\"acholi-rupiny.txt\", \"w\") as f:\n",
    "    f.writelines('\\n'.join(sentences))"
   ]
  },
  {
   "cell_type": "code",
   "execution_count": null,
   "id": "f30f2447-aff3-4d6a-80f7-15091c50419d",
   "metadata": {},
   "outputs": [],
   "source": []
  }
 ],
 "metadata": {
  "kernelspec": {
   "display_name": "Python 3 (ipykernel)",
   "language": "python",
   "name": "python3"
  },
  "language_info": {
   "codemirror_mode": {
    "name": "ipython",
    "version": 3
   },
   "file_extension": ".py",
   "mimetype": "text/x-python",
   "name": "python",
   "nbconvert_exporter": "python",
   "pygments_lexer": "ipython3",
   "version": "3.9.7"
  }
 },
 "nbformat": 4,
 "nbformat_minor": 5
}
