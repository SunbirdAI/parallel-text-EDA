{
 "cells": [
  {
   "cell_type": "markdown",
   "id": "be8b09b3-890e-4920-b99e-3b8a3c14cc79",
   "metadata": {},
   "source": [
    "Get posts from Facebook groups, and filter the text to get clean sentences in the target language."
   ]
  },
  {
   "cell_type": "code",
   "execution_count": null,
   "id": "8d9450da-8583-4304-8cd0-ed5d07bb50c0",
   "metadata": {},
   "outputs": [],
   "source": [
    "!pip install facebook-scraper"
   ]
  },
  {
   "cell_type": "code",
   "execution_count": null,
   "id": "1d53fbd4-7eb3-430a-a616-624837df5460",
   "metadata": {},
   "outputs": [],
   "source": [
    "!python -m spacy download en_core_web_sm"
   ]
  },
  {
   "cell_type": "code",
   "execution_count": 39,
   "id": "e093bec2-e351-46df-9261-28d509a85fb8",
   "metadata": {
    "tags": []
   },
   "outputs": [],
   "source": [
    "import json\n",
    "from facebook_scraper import get_posts\n",
    "from tqdm.notebook import tqdm\n",
    "import re\n",
    "import string\n",
    "import numpy as np\n",
    "import pprint\n",
    "import spacy_fastlang"
   ]
  },
  {
   "cell_type": "markdown",
   "id": "b5c8f660-7282-48cf-822c-4435aabb1f0b",
   "metadata": {},
   "source": [
    "Define some functions to help with tidying up and standardising this text.\n",
    "\n",
    "- Not all of it is in the target language, so make a heuristic guess about language ID based on vocabulary.\n",
    "- Tidy up tags (e.g. #Bukedde)\n",
    "- Standardise the case of the first word (e.g. for text such as \"OMUBAKA wa Budaaki\")"
   ]
  },
  {
   "cell_type": "code",
   "execution_count": 89,
   "id": "559fc56d-5b07-4535-afcc-aefe1f021bae",
   "metadata": {
    "tags": []
   },
   "outputs": [
    {
     "name": "stderr",
     "output_type": "stream",
     "text": [
      "Warning : `load_model` does not return WordVectorModel or SupervisedModel any more, but a `FastText` object which is very similar.\n"
     ]
    }
   ],
   "source": [
    "nlp = spacy.load(\"en_core_web_sm\")\n",
    "nlp.add_pipe(\"language_detector\")\n",
    "\n",
    "def get_social_posts(page_id,\n",
    "                     num_pages_to_request = 100000,\n",
    "                     get_comments = False):\n",
    "    num_pages_to_request = 100000\n",
    "    posts_iterator = get_posts(\n",
    "        page_id, pages=num_pages_to_request,\n",
    "        options={\"comments\": get_comments})\n",
    "    posts_from_page = []\n",
    "    try:\n",
    "        for post in tqdm(posts_iterator):\n",
    "            posts_from_page.append(post)\n",
    "    # Return the current progress if interrupted,\n",
    "    # rather than losing everything.\n",
    "    finally:\n",
    "        return posts_from_page\n",
    "\n",
    "def file_to_list(path):\n",
    "    with open(path) as file:\n",
    "        lines = file.readlines()\n",
    "        lines = [line.rstrip() for line in lines]\n",
    "        return lines\n",
    "    \n",
    "def vocabulary(language_code):\n",
    "    vocab = file_to_list('v7-dataset/v7.0/supervised/'\n",
    "                         f'en-{language_code}/train.{language_code}')\n",
    "    vocab = ' '.join(vocab)\n",
    "    vocab = vocab.lower()\n",
    "    vocab = vocab.split()\n",
    "    vocab = [re.sub('[\\W_]+', '', a) for a in vocab]\n",
    "    vocab = [a for a in vocab if len(a)>3]\n",
    "    vocab = set(vocab)\n",
    "    return vocab\n",
    "\n",
    "def is_target_language(text, vocab, print_stats = False,\n",
    "                       min_recognised_words = 3, min_ratio = 0.3):\n",
    "    '''Heuristic language id based on number of recognised words.'''\n",
    "    words = [re.sub('[\\W_]+', '', a) for a in text.lower().split()]\n",
    "    in_vocab = [w in vocab for w in words]\n",
    "    num_words_in_vocab = np.sum(in_vocab)\n",
    "    ratio = (num_words_in_vocab + .01) / (len(words) + .01)\n",
    "    if print_stats:\n",
    "        print(in_vocab)\n",
    "        print(ratio, num_words_in_vocab)\n",
    "\n",
    "    return num_words_in_vocab >= min_recognised_words and ratio > min_ratio \n",
    "\n",
    "def first_word_title_case(text):\n",
    "    words = text.split(' ')\n",
    "    words[0] = words[0].title()\n",
    "    return ' '.join(words)\n",
    "\n",
    "def standardise_social_text(text):\n",
    "    '''Remove tags and put first word in title case.'''\n",
    "    strings_to_remove = [\n",
    "        '… More', ' |monitor', '#dailymonitor', '#Bukedde',\n",
    "        ' https://bit', ' http://bit', 'https://www', 'http://www'\n",
    "    ]\n",
    "    for s in strings_to_remove:\n",
    "        text = text.replace(s, '')\n",
    "    text = first_word_title_case(text)\n",
    "    return text\n",
    "\n",
    "def split_into_sentences(text):\n",
    "    alphabets= \"([A-Za-z])\"\n",
    "    prefixes = \"(Mr|St|Mrs|Ms|Dr)[.]\"\n",
    "    suffixes = \"(Inc|Ltd|Jr|Sr|Co)\"\n",
    "    starters = (\"(Mr|Mrs|Ms|Dr|He\\s|She\\s|It\\s|They\\s|Their\\s|Our\\s|\"\n",
    "                \"We\\s|But\\s|However\\s|That\\s|This\\s|Wherever)\")\n",
    "    acronyms = \"([A-Z][.][A-Z][.](?:[A-Z][.])?)\"\n",
    "    websites = \"[.](com|net|org|io|gov)\"\n",
    "    \n",
    "    text = \" \" + text + \"  \"\n",
    "    text = text.replace(\"\\n\",\" \")\n",
    "    text = re.sub(prefixes,\"\\\\1<prd>\",text)\n",
    "    text = re.sub(websites,\"<prd>\\\\1\",text)\n",
    "    if \"Ph.D\" in text: text = text.replace(\"Ph.D.\",\"Ph<prd>D<prd>\")\n",
    "    text = re.sub(\"\\s\" + alphabets + \"[.] \",\" \\\\1<prd> \",text)\n",
    "    text = re.sub(acronyms+\" \"+starters,\"\\\\1<stop> \\\\2\",text)\n",
    "    text = re.sub(alphabets + \"[.]\" + alphabets + \"[.]\" + alphabets + \"[.]\",\"\\\\1<prd>\\\\2<prd>\\\\3<prd>\",text)\n",
    "    text = re.sub(alphabets + \"[.]\" + alphabets + \"[.]\",\"\\\\1<prd>\\\\2<prd>\",text)\n",
    "    text = re.sub(\" \"+suffixes+\"[.] \"+starters,\" \\\\1<stop> \\\\2\",text)\n",
    "    text = re.sub(\" \"+suffixes+\"[.]\",\" \\\\1<prd>\",text)\n",
    "    text = re.sub(\" \" + alphabets + \"[.]\",\" \\\\1<prd>\",text)\n",
    "    if \"”\" in text: text = text.replace(\".”\",\"”.\")\n",
    "    if \"\\\"\" in text: text = text.replace(\".\\\"\",\"\\\".\")\n",
    "    if \"!\" in text: text = text.replace(\"!\\\"\",\"\\\"!\")\n",
    "    if \"?\" in text: text = text.replace(\"?\\\"\",\"\\\"?\")\n",
    "    text = text.replace(\".\",\".<stop>\")\n",
    "    text = text.replace(\"?\",\"?<stop>\")\n",
    "    text = text.replace(\"!\",\"!<stop>\")\n",
    "    text = text.replace(\"<prd>\",\".\")\n",
    "    sentences = text.split(\"<stop>\")\n",
    "    sentences = sentences[:-1]\n",
    "    sentences = [s.strip() for s in sentences]\n",
    "    return sentences\n",
    "\n",
    "def clean_sentences_from_posts(\n",
    "    posts,\n",
    "    vocab = None,\n",
    "    remove_english = False,\n",
    "    min_words = 3,\n",
    "    print_wrong_language_sentences = False,\n",
    "    print_stats = False,\n",
    "):\n",
    "    '''Filter for lines in the target language (if vocab provided), and tidy up.'''\n",
    "    \n",
    "    text = '\\n'.join([p['text'] or '' for p in posts])\n",
    "    lines = text.split('\\n')\n",
    "    \n",
    "    \n",
    "    stats = {'total': 0, 'ok': 0, 'wrong_language': 0, 'too_short': 0, 'not_text': 0}\n",
    "\n",
    "    # De-deuplicate\n",
    "    clean = []\n",
    "    lines = list(set(lines))\n",
    "\n",
    "    for line in lines:\n",
    "        stats['total'] += 1\n",
    "        words = line.split()\n",
    "        too_short = len(words) <= min_words\n",
    "        is_code = 'loadEventSupported' in line or 'requireLazy' in line\n",
    "        is_date = (len(words) > 4 and\n",
    "                   words[1] in ['January', 'February', 'March', 'April',\n",
    "                                'May', 'June', 'July', 'August',\n",
    "                                'September', 'October', 'November', 'December'])\n",
    "\n",
    "        not_target_language = False\n",
    "        \n",
    "        if remove_english:\n",
    "            not_target_language = nlp(line)._.language == 'en'\n",
    "            \n",
    "        if vocab:\n",
    "            not_target_language = not is_target_language(line, vocab) \n",
    "            \n",
    "        if print_wrong_language_sentences:\n",
    "            if not_target_language and not (too_short or is_code or is_date):\n",
    "                print(line)\n",
    "\n",
    "        if not (too_short or is_code or is_date or not_target_language):\n",
    "            line = standardise_social_text(line)\n",
    "            clean.append(line)\n",
    "            stats['ok'] += 1\n",
    "\n",
    "        if not_target_language:\n",
    "            stats['wrong_language'] += 1\n",
    "\n",
    "        if too_short:\n",
    "            stats['too_short'] += 1\n",
    "\n",
    "        if is_code or is_date:\n",
    "            stats['not_text'] += 1\n",
    "            \n",
    "    sentences = []\n",
    "    for c in clean:\n",
    "        current_sentences = split_into_sentences(c)\n",
    "        for s in current_sentences:\n",
    "            if len(s.split()) > 3:\n",
    "                sentences.append(s)\n",
    "    \n",
    "    sentences = list(set(sentences))\n",
    "    stats['num_sentences'] = len(sentences)\n",
    "    \n",
    "    if print_stats:\n",
    "        pp = pprint.PrettyPrinter()\n",
    "        pp.pprint(stats)\n",
    "            \n",
    "    return sentences"
   ]
  },
  {
   "cell_type": "code",
   "execution_count": 62,
   "id": "3614f920-16cf-42ef-8a74-b3b9b976be98",
   "metadata": {},
   "outputs": [
    {
     "data": {
      "application/vnd.jupyter.widget-view+json": {
       "model_id": "99a39fac286d4abc8dbe8e8165b02d43",
       "version_major": 2,
       "version_minor": 0
      },
      "text/plain": [
       "0it [00:00, ?it/s]"
      ]
     },
     "metadata": {},
     "output_type": "display_data"
    },
    {
     "name": "stdout",
     "output_type": "stream",
     "text": [
      "{'not_text': 266,\n",
      " 'num_sentences': 1064,\n",
      " 'ok': 877,\n",
      " 'too_short': 342,\n",
      " 'total': 1485,\n",
      " 'wrong_language': 0}\n"
     ]
    }
   ],
   "source": [
    "posts = get_social_posts('AICERIT')\n",
    "sentences = clean_sentences_from_posts(posts, print_stats = True)\n",
    "with open(\"back_translation/teo/aicerit.txt\", \"w\") as f:\n",
    "    f.writelines('\\n'.join(sentences))"
   ]
  },
  {
   "cell_type": "code",
   "execution_count": 49,
   "id": "b44bf2e4-75a7-40c9-b949-b121002b6ac8",
   "metadata": {},
   "outputs": [
    {
     "name": "stdout",
     "output_type": "stream",
     "text": [
      "{'not_text': 3953,\n",
      " 'num_sentences': 26688,\n",
      " 'ok': 10390,\n",
      " 'too_short': 7702,\n",
      " 'total': 22045,\n",
      " 'wrong_language': 0}\n"
     ]
    }
   ],
   "source": [
    "posts = get_social_posts('bukedde.ug')\n",
    "sentences = clean_sentences_from_posts(posts, print_stats=True)\n",
    "with open(\"back_translation/lug/bukedde.txt\", \"w\") as f:\n",
    "    f.writelines('\\n'.join(sentences))"
   ]
  },
  {
   "cell_type": "code",
   "execution_count": 88,
   "id": "4cf4747d-2c05-4c20-b9c4-0ec5de4a610c",
   "metadata": {},
   "outputs": [
    {
     "name": "stdout",
     "output_type": "stream",
     "text": [
      "{'not_text': 117,\n",
      " 'num_sentences': 159,\n",
      " 'ok': 166,\n",
      " 'too_short': 263,\n",
      " 'total': 733,\n",
      " 'wrong_language': 566}\n"
     ]
    }
   ],
   "source": [
    "posts = get_social_posts('rupiny.newspaper.7')\n",
    "sentences = clean_sentences_from_posts(posts, print_stats = True,\n",
    "                                       print_wrong_language_sentences=False,\n",
    "                                       vocab = vocabulary('ach'))\n",
    "with open(\"back_translation/ach/rupiny.txt\", \"w\") as f:\n",
    "    f.writelines('\\n'.join(sentences))"
   ]
  },
  {
   "cell_type": "code",
   "execution_count": 90,
   "id": "3168a12e-33aa-4b74-8f25-26445e173cca",
   "metadata": {},
   "outputs": [
    {
     "data": {
      "application/vnd.jupyter.widget-view+json": {
       "model_id": "52bd8fac0a714dc88b13a0d9d5683d30",
       "version_major": 2,
       "version_minor": 0
      },
      "text/plain": [
       "0it [00:00, ?it/s]"
      ]
     },
     "metadata": {},
     "output_type": "display_data"
    },
    {
     "name": "stderr",
     "output_type": "stream",
     "text": [
      "/home/jq/anaconda3/lib/python3.9/site-packages/dateparser/date_parser.py:35: PytzUsageWarning: The localize method is no longer necessary, as this time zone supports the fold attribute (PEP 495). For more details on migrating to a PEP 495-compliant implementation, see https://pytz-deprecation-shim.readthedocs.io/en/latest/migration.html\n",
      "  date_obj = stz.localize(date_obj)\n"
     ]
    },
    {
     "name": "stdout",
     "output_type": "stream",
     "text": [
      "{'not_text': 9436,\n",
      " 'num_sentences': 22739,\n",
      " 'ok': 45437,\n",
      " 'too_short': 15118,\n",
      " 'total': 69991,\n",
      " 'wrong_language': 0}\n"
     ]
    }
   ],
   "source": [
    "posts = get_social_posts('DailyMonitor')\n",
    "sentences = clean_sentences_from_posts(posts, print_stats = True)\n",
    "with open(\"back_translation/eng/daily-monitor.txt\", \"w\") as f:\n",
    "    f.writelines('\\n'.join(sentences))"
   ]
  },
  {
   "cell_type": "code",
   "execution_count": null,
   "id": "6682e975-49ad-4003-9e08-c08101979f5d",
   "metadata": {},
   "outputs": [],
   "source": [
    " "
   ]
  }
 ],
 "metadata": {
  "kernelspec": {
   "display_name": "Python 3 (ipykernel)",
   "language": "python",
   "name": "python3"
  },
  "language_info": {
   "codemirror_mode": {
    "name": "ipython",
    "version": 3
   },
   "file_extension": ".py",
   "mimetype": "text/x-python",
   "name": "python",
   "nbconvert_exporter": "python",
   "pygments_lexer": "ipython3",
   "version": "3.9.7"
  }
 },
 "nbformat": 4,
 "nbformat_minor": 5
}
