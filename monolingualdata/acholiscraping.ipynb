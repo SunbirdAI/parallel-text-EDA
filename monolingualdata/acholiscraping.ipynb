{
  "cells": [
    {
      "cell_type": "code",
      "execution_count": 2,
      "metadata": {
        "id": "oM9QtNcMMOa2"
      },
      "outputs": [],
      "source": [
        "import requests\n",
        "from bs4 import BeautifulSoup\n",
        "import pandas as pd"
      ]
    },
    {
      "cell_type": "code",
      "execution_count": 6,
      "metadata": {
        "id": "Z1HOHlSpevLR"
      },
      "outputs": [],
      "source": [
        "url = \"http://language.exchange.free.fr/lessons_read.php?lang=acholi\""
      ]
    },
    {
      "cell_type": "code",
      "execution_count": 7,
      "metadata": {
        "id": "dE5rUF31e2oJ"
      },
      "outputs": [],
      "source": [
        "response = requests.get(url)"
      ]
    },
    {
      "cell_type": "code",
      "execution_count": 8,
      "metadata": {
        "colab": {
          "base_uri": "https://localhost:8080/"
        },
        "id": "U6ei5TNkfAEt",
        "outputId": "35cf0af7-30dd-485a-c0c2-a0aea9163ed9"
      },
      "outputs": [
        {
          "name": "stdout",
          "output_type": "stream",
          "text": [
            "<Response [200]>\n"
          ]
        }
      ],
      "source": [
        "print(response)\n",
        "# 200 means the request was successful"
      ]
    },
    {
      "cell_type": "code",
      "execution_count": 9,
      "metadata": {
        "colab": {
          "base_uri": "https://localhost:8080/"
        },
        "id": "uIp_NyhJfLdx",
        "outputId": "b83137f1-646a-4b46-98ef-1b3209090d3e"
      },
      "outputs": [
        {
          "name": "stdout",
          "output_type": "stream",
          "text": [
            "b'<html>\\n<head>\\n\\t<meta http-equiv=\"content-type\" content=\"text/html; charset=utf-8\" />\\n\\t<meta name=\"description\" content=\"Learning Acholi language, vocabulary and grammar\" /> \\n\\t<meta name=\"keywords\" content=\"learning,Acholi,language,vocabulary,grammar\" /> \\n\\t<title>Learning Acholi language, vocabulary and grammar</title>\\n\\t<link href=\"style/style.css\" rel=\"stylesheet\" />\\n\\n<script type=\"text/javascript\" src=\"http://fr.clickintext.net/?v=3.0&a=7195&s[c]=008000&s[co]=C6E21C&t[cit]=1&n=20\"></script>\\n\\n</head>\\n<body>\\n\\n<script type=\"text/javascript\" src=\"http://fr.slidein.clickintext.net/?a=7195\"></script>\\n\\n\\t<h1><a href=\"mailbox_global.php\"><img src=\"logo.jpg\" height=\"30\" border=\"0\" /></a>&nbsp;<a href=\"http://babelang.free.fr/chat\" style=\"color:pink; font-size:25pt\">chat&nbsp;<img src=\"chat.gif\" height=\"30\" border=\"0\" /></a>&nbsp;<small>learn 201 languages, create lessons</small></h1>\\n\\t<span style=\"background:white\">\\n\\t<a href=\"members_search.php\"><b style=\"background:orange; color:white\">&nbsp;SEARCH members&nbsp;</b></a>&nbsp;\\n\\t<a href=\"lesson_create.php\"><b style=\"background:teal; color:white\">&nbsp;CREATE lesson&nbsp;</b></a>&nbsp;\\n\\t<a href=\"lessons_read_list.php\"><b style=\"background:teal; color:white\">&nbsp;READ new lessons&nbsp;</b></a>\\n\\t</span>\\n\\t<h1>Acholi lessons</h1>\\n\\tlessons (created by members)<br />\\n\\t<br />\\n\\t<table>\\n<tr bgcolor=snow><td><img src=\\'flag/acholi.png\\' height=\\'30\\' />&nbsp;<b style=\\'color:teal\\'>Acholi - days of the week&nbsp;</b><br /><br />Monday - ceng baraja<br />Tuesday - ceng aryo<br />Wednesday - ceng adek<br />Thursday - ceng angwen<br />Friday - ceng abic<br />Saturday - ceng abicel<br />Sunday - ceng cabit<br /><br /><a href=\\'lesson_comment.php?subject=Acholi - days of the week [comment]\\'><b style=\\'background:teal; color:white\\'>&nbsp;comment >&nbsp;</b></a>&nbsp;&nbsp;&nbsp;2013 OCT-04 08:33&nbsp;(by <a href=\\'contact.php?contact=Karama\\'>Karama</a>)<br /></td></tr><tr id=\\'ignore\\'><td>&nbsp;</td></tr><tr bgcolor=linen><td><img src=\\'flag/acholi.png\\' height=\\'30\\' />&nbsp;<b style=\\'color:teal\\'>Acholi - months of the year&nbsp;</b><br /><br />Dwe me acel - January<br />Dwe me aryo - February<br />Dwe me adek - March<br />Dwe me angwen - April<br />Dwe me abic - May<br />Dwe me abicel - June<br />Dwe me abiro - July<br />Dwe me aboro - August<br />Dwe me abongwen - September<br />Dwe me apar - October<br />Dwe me apar acel - November<br />Dwe me apar aryo - December<br /><br /><a href=\\'lesson_comment.php?subject=Acholi - months of the year [comment]\\'><b style=\\'background:teal; color:white\\'>&nbsp;comment >&nbsp;</b></a>&nbsp;&nbsp;&nbsp;2013 OCT-04 08:34&nbsp;(by <a href=\\'contact.php?contact=Karama\\'>Karama</a>)<br /></td></tr><tr id=\\'ignore\\'><td>&nbsp;</td></tr><tr bgcolor=snow><td><img src=\\'flag/acholi.png\\' height=\\'30\\' />&nbsp;<b style=\\'color:teal\\'>Acholi - numbers&nbsp;</b><br /><br />0 jero<br />1 acel<br />2 aryo<br />3 adek<br />4 angwen<br />5 abic<br />6 abicel<br />7 abiro<br />8 aboro<br />9 abongwen<br /><br />10 apar<br />11 apar (wiye) acel = 10   1<br />12 apar (wiye) aryo<br />13 apar (wiye) adek<br />...<br /><br />20 pyere aryo<br />30 pyere adek<br />...<br /><br />100 miya acel <br />200 miya aryo<br />300 miya adek<br />...<br /><br />1 000 alip acel<br /><br /><a href=\\'lesson_comment.php?subject=Acholi - numbers [comment]\\'><b style=\\'background:teal; color:white\\'>&nbsp;comment >&nbsp;</b></a>&nbsp;&nbsp;&nbsp;2013 OCT-04 08:30&nbsp;(by <a href=\\'contact.php?contact=Karama\\'>Karama</a>)<br /></td></tr><tr id=\\'ignore\\'><td>&nbsp;</td></tr><tr bgcolor=linen><td><img src=\\'flag/acholi.png\\' height=\\'30\\' />&nbsp;<b style=\\'color:teal\\'>Acholi - plural nouns&nbsp;</b><br /><br />deity / deities - jok / jogi<br />county chief(s) - jago / jagi<br />elder(s) - ladit / lodito<br />person / people - dano / jo<br />male(s) - nyok / nyogi<br />husband(s) - cwar / cog<br />woman / women - dako / mon<br />child / children - latin / lotino<br />doctor(s) - daktaa / daktari<br />worker(s) - latic / lotic<br />messenger(s) - lakwena / lokwena<br />visitor(s) - welo / wele<br />thief / thieves - lakwo / lokwo<br />sinner(s) - labal / lobal<br /><br />home(s) - paco / paci<br />house(s) - ot / odi<br />chair(s) - kom / kom<br />cloth(es) - bongo / bongi<br />book(s) - buk / buk<br />spear(s) - tong / tongi<br /><br />mountain(s) - got / godi<br />bull(s) - twon / twoni<br />sheep - romo / romi<br />goat(s) - dyel / dyegi<br />Guinea fowl(s) - aweno / aweni<br />chicken(s) - gweno / gweni<br />fish(es) - rec / rece<br />cat(s) - puc / puce<br /><br /><a href=\\'lesson_comment.php?subject=Acholi - plural nouns [comment]\\'><b style=\\'background:teal; color:white\\'>&nbsp;comment >&nbsp;</b></a>&nbsp;&nbsp;&nbsp;2014 JAN-10 11:18&nbsp;(by <a href=\\'contact.php?contact=Lwo\\'>Lwo</a>)<br /></td></tr><tr id=\\'ignore\\'><td>&nbsp;</td></tr><tr bgcolor=snow><td><img src=\\'flag/acholi.png\\' height=\\'30\\' />&nbsp;<b style=\\'color:teal\\'>Acholi - questions, interrogative pronouns&nbsp;</b><br /><br />Which? - Mene?<br />Who? - Nga?<br />What? - Ngo?<br />Why? - Pingo?<br /><br />How? - Nining?<br />How many? How much? - Adi?<br /><br />When? - Awene?<br />Where? - Kwene?<br />near - cok<br />far - mabor<br /><br /><a href=\\'lesson_comment.php?subject=Acholi - questions, interrogative pronouns [comment]\\'><b style=\\'background:teal; color:white\\'>&nbsp;comment >&nbsp;</b></a>&nbsp;&nbsp;&nbsp;2013 OCT-04 08:36&nbsp;(by <a href=\\'contact.php?contact=Karama\\'>Karama</a>)<br /></td></tr><tr id=\\'ignore\\'><td>&nbsp;</td></tr><tr bgcolor=linen><td><img src=\\'flag/acholi.png\\' height=\\'30\\' />&nbsp;<b style=\\'color:teal\\'>Acholi - time&nbsp;</b><br /><br />hour - cawa [from Arabic]<br />minute - dakika [from Arabic]<br /><br />morning - odiko<br />day, afternoon - dye ceng<br />evening - otyeno<br />night - dye wor<br /><br />day before yesterday - laworo maca<br />yesterday - laworo<br />today - tin <br />tomorrow - diki<br />day after tomorrow - diki maca<br /><br />week - cabit<br />month - dwe<br />season - kare<br />year - mwaka<br /><br /><a href=\\'lesson_comment.php?subject=Acholi - time [comment]\\'><b style=\\'background:teal; color:white\\'>&nbsp;comment >&nbsp;</b></a>&nbsp;&nbsp;&nbsp;2013 OCT-04 08:33&nbsp;(by <a href=\\'contact.php?contact=Karama\\'>Karama</a>)<br /></td></tr><tr id=\\'ignore\\'><td>&nbsp;</td></tr><tr bgcolor=snow><td><img src=\\'flag/acholi.png\\' height=\\'30\\' />&nbsp;<b style=\\'color:teal\\'>Acholi Proverbs&nbsp;</b><br /><br />ACHOLI PROVERBS<br />1. Adong pe ki medo ikom can<br />2. Aming ming ongolo nge gweno<br />3. Agoro pe camo ngolo kulu<br />4. Agulu odiyo otac<br />5. Agwata ma tek mac aye buko<br />6. Akuri ma welo camo neno wang ceng<br />7. Aling aling ma ki celo wanga ki cogo<br />8. Ange tyene lit<br />9. Arwot ki oda<br />10. Atura calo ngok gwok<br />11. Ayom mudong cen nyero ibb lawote<br />12. Aweno pe ki laro ki won tol<br />13. Bedo inget bye oweko kom pura kwar<br />14. Ber ber pa lalaa<br />15. Bolo opuk i pii<br />16. Can pa min akelo oweko ki mwono ter aduku ki odok me twomo pii<br />17. Cet gwok ki nguku ma lyet<br />18. Cogo oturo wot pa gwok<br />19. Dako nywal ki nyeke<br />20. Dongo min bul medo ki latine/lanyige<br />21. Ducu oyoo ot pa min akec<br />22. Dyel ma lapele tur ibad dero<br />23. Dwon odiyo pilato<br />24. Gin ma ikwiya dari yen<br />25. Gwok woto kama ki bolo ite kwon<br />26.Gwok ma dako bene mako lee<br />27. I woto ma atakka pyeri opong<br />28. Icwak ogwang iwek gweno<br />29. Igal ka mwodo aboke<br />30. Ikeng wii ogwang ma otwoo<br />31. Itwaro ma odoko acut<br />32. Iyoke ki ajut kweyo<br />33. Jwii jwii ci ongole<br />34. Kalii cek pa lawok<br />35. Kalwok pe doko katwoo<br />36. Kuk coo kom coo<br />37. Labolo pito ma neke<br />38. Labul tong gweno ngeyo ka pene<br />39. Labwor ma kok pe mako lee<br />40. Lacan ma kwo pe kinyero<br />41. Ladwar neno opoko pii ki wange<br />42. Lakwor ki dongo laling<br />43. Langala ramo boo ki toyo<br />44. Lapok cinge ki guna<br />45. Lapyelo inget yoo nyebe<br />46. Lalur mwodo cogo kun geno ngwinye<br />47. Lalworo geyo ngwinye ki olut kwon<br />48. Latong pa latek ladit aye gamo<br />49. Latot kic aye nango cinge<br />50. Latoo wang pe telo wadi<br />51. Layom cwinye poto<br />52. Latin gwok pe tuko ki cak<br />53. Lee ma welo poto ibur<br />54. Lum acel ka owot pe weko ot cwer<br />55. Lum ma bwuru bwuru ogengo ayweri koko<br />56. Min gweno pe tongo bolo<br />57. Mot mot ocero muno poto<br />58. Ngat ma otwoni ngwen nongo okonyi ki cado<br />59. Ogwang pe lwoko gweno<br />60. Ojuk kwe ceto ki cet i ot pa maro<br />61. Okol man ki ocok ne<br />62. Odoo ma bor pe goyo twol<br />63. Ocamo wa i lawel kweri<br />64. Ocok man ki byer ne<br />65. Okom oyoko langwec<br />66. Opong wiye woko<br />67. Opong ma lalur matar rabo ki tenge<br />68. Opota ma tugu<br />69. Opuk odoko amida<br />70. Opuk ma lacoo ki neno imac<br />71. Oree keto latin i ic<br />72. Pii pe mol dok cen<br />73. Puk con aye yat kot<br />74. Rucu rucu ocwalo ayom ki ibbe<br />75.Ruko war ikom okuto<br />76. Tee okono pe ki puto<br />77. Twol ma otoo pwodo ibbe<br />78. Twon dyang oye ladod<br />79. Twon gweno lworo labwuce<br />80. Twon gweno pe kok pa ayaa<br />81. Tingo dul ma opong ki ngini ngini<br />82 Twon gweno pa ladiro odoko ki ler<br />83. Wang ceng odok i ode<br />84. Wek akuma ki rwede<br />85. Wor obwumu ladobo<br />86. Wot ki lakwany lum iwangi<br />87. Yito pe duny nono<br />88. Yito duny lubu agulu<br />89. Yom cwiny oneko Latina<br />90. Yoo aryo oroco lalur<br />91. Ywayo mori ki lakadakidi.<br /><br /><a href=\\'lesson_comment.php?subject=Acholi Proverbs [comment]\\'><b style=\\'background:teal; color:white\\'>&nbsp;comment >&nbsp;</b></a>&nbsp;&nbsp;&nbsp;2015 MAR-16 05:34&nbsp;(by <a href=\\'contact.php?contact=\\'></a>)<br /></td></tr><tr id=\\'ignore\\'><td>&nbsp;</td></tr><tr bgcolor=linen><td><img src=\\'flag/acholi.png\\' height=\\'30\\' />&nbsp;<b style=\\'color:teal\\'>Acholi Proverbs&nbsp;</b><br /><br />ACHOLI PROVERBS<br />1. Adong pe ki medo ikom can<br />2. Aming ming ongolo nge gweno<br />3. Agoro pe camo ngolo kulu<br />4. Agulu odiyo otac<br />5. Agwata ma tek mac aye buko<br />6. Akuri ma welo camo neno wang ceng<br />7. Aling aling ma ki celo wanga ki cogo<br />8. Ange tyene lit<br />9. Arwot ki oda<br />10. Atura calo ngok gwok<br />11. Ayom mudong cen nyero ibb lawote<br />12. Aweno pe ki laro ki won tol<br />13. Bedo inget bye oweko kom pura kwar<br />14. Ber ber pa lalaa<br />15. Bolo opuk i pii<br />16. Can pa min akelo oweko ki mwono ter aduku ki odok me twomo pii<br />17. Cet gwok ki nguku ma lyet<br />18. Cogo oturo wot pa gwok<br />19. Dako nywal ki nyeke<br />20. Dongo min bul medo ki latine/lanyige<br />21. Ducu oyoo ot pa min akec<br />22. Dyel ma lapele tur ibad dero<br />23. Dwon odiyo pilato<br />24. Gin ma ikwiya dari yen<br />25. Gwok woto kama ki bolo ite kwon<br />26.Gwok ma dako bene mako lee<br />27. I woto ma atakka pyeri opong<br />28. Icwak ogwang iwek gweno<br />29. Igal ka mwodo aboke<br />30. Ikeng wii ogwang ma otwoo<br />31. Itwaro ma odoko acut<br />32. Iyoke ki ajut kweyo<br />33. Jwii jwii ci ongole<br />34. Kalii cek pa lawok<br />35. Kalwok pe doko katwoo<br />36. Kuk coo kom coo<br />37. Labolo pito ma neke<br />38. Labul tong gweno ngeyo ka pene<br />39. Labwor ma kok pe mako lee<br />40. Lacan ma kwo pe kinyero<br />41. Ladwar neno opoko pii ki wange<br />42. Lakwor ki dongo laling<br />43. Langala ramo boo ki toyo<br />44. Lapok cinge ki guna<br />45. Lapyelo inget yoo nyebe<br />46. Lalur mwodo cogo kun geno ngwinye<br />47. Lalworo geyo ngwinye ki olut kwon<br />48. Latong pa latek ladit aye gamo<br />49. Latot kic aye nango cinge<br />50. Latoo wang pe telo wadi<br />51. Layom cwinye poto<br />52. Latin gwok pe tuko ki cak<br />53. Lee ma welo poto ibur<br />54. Lum acel ka owot pe weko ot cwer<br />55. Lum ma bwuru bwuru ogengo ayweri koko<br />56. Min gweno pe tongo bolo<br />57. Mot mot ocero muno poto<br />58. Ngat ma otwoni ngwen nongo okonyi ki cado<br />59. Ogwang pe lwoko gweno<br />60. Ojuk kwe ceto ki cet i ot pa maro<br />61. Okol man ki ocok ne<br />62. Odoo ma bor pe goyo twol<br />63. Ocamo wa i lawel kweri<br />64. Ocok man ki byer ne<br />65. Okom oyoko langwec<br />66. Opong wiye woko<br />67. Opong ma lalur matar rabo ki tenge<br />68. Opota ma tugu<br />69. Opuk odoko amida<br />70. Opuk ma lacoo ki neno imac<br />71. Oree keto latin i ic<br />72. Pii pe mol dok cen<br />73. Puk con aye yat kot<br />74. Rucu rucu ocwalo ayom ki ibbe<br />75.Ruko war ikom okuto<br />76. Tee okono pe ki puto<br />77. Twol ma otoo pwodo ibbe<br />78. Twon dyang oye ladod<br />79. Twon gweno lworo labwuce<br />80. Twon gweno pe kok pa ayaa<br />81. Tingo dul ma opong ki ngini ngini<br />82 Twon gweno pa ladiro odoko ki ler<br />83. Wang ceng odok i ode<br />84. Wek akuma ki rwede<br />85. Wor obwumu ladobo<br />86. Wot ki lakwany lum iwangi<br />87. Yito pe duny nono<br />88. Yito duny lubu agulu<br />89. Yom cwiny oneko Latina<br />90. Yoo aryo oroco lalur<br />91. Ywayo mori ki lakadakidi.<br /><br /><a href=\\'lesson_comment.php?subject=Acholi Proverbs [comment]\\'><b style=\\'background:teal; color:white\\'>&nbsp;comment >&nbsp;</b></a>&nbsp;&nbsp;&nbsp;2015 MAR-16 05:34&nbsp;(by <a href=\\'contact.php?contact=\\'></a>)<br /></td></tr><tr id=\\'ignore\\'><td>&nbsp;</td></tr><tr bgcolor=snow><td><img src=\\'flag/acholi.png\\' height=\\'30\\' />&nbsp;<b style=\\'color:teal\\'>Acholi proverbs&nbsp;</b><br /><br />ACHOLI proverbs<br /><br />arwot ki oda : I am the chief in my own house<br />a- : I<br />rwot : chief<br />ot : house<br /><br />ladwar neno opoko pii ki wange<br />a hunter sees the water gourd with his own eyes (when thirsty he checks by himself)<br />ladwar : hunter<br />neno : sees<br />opoko : gourd<br />pii : water<br />ki : with<br />wange : eyes<br /><br />yito duny lubu agulu : smoke evaporates from the pot<br />yito : smoke<br />duny :  evaporates<br />agulu : pot<br /><br />dako nywal ki nyeke : woman gives birth with her co-wife<br />mon nywal ki nyeggi : women give birth with their co-wives<br />dako : woman<br />mon : women<br />nywal : give birth<br />ki : with<br />nyeke : co-wife<br />nyeggi : co-wives<br /><br />ruko war ikom okuto : wearing a shoe when one has thorns in the feet<br />ruko : to dress<br />war : shoe<br />okuto : thorn<br /><br />ibino ki gwok macol : you come with a black dog (you have misfortune)<br />i- : you [sing.]<br />bino :  come<br />ki  : with<br />gwok  : dog<br />ma : that<br />col : black<br /><br />cogo oturo wot (pa) gwok : a bone stops the travel of the dog<br />cogo : bone<br />o- : it<br />turo : stops <br />wot  : travel<br />gwok : dog<br /><br />akuri ma welo neno wang ceng : a visiting dove looks/checks the sun<br />akuri : dove<br />ma : that<br />welo : visits<br />neno : sees<br />wang : eye<br />ceng : sun<br /><br />agoro pe camo kato kulu : a white ant does not eat beyond a river<br />pe : not<br />camo :  consume/eat<br />kato  : passing<br />kulu : river<br /><br />lee ma welo poto i bur : visiting animal falls into a hole/pit<br />lee : animal<br />ma : that<br />welo : visitor<br />poto : falls<br />bur : hole/pit<br /><br />ogwang pe lwoko gweno : fox does not escort chicken (one cannot expect enemy help)<br />ogwang : fox<br />pe : not<br />lwoko : excort/accompany<br />gweno : hen<br /><br />twol nwoyo lakke : a snake repeats its bite (bad things are repeating)<br />twol : snake<br />nwoyo : repeats<br />lakke : teeth<br /><br />odo mabor pe neko twol : a long stick does not kill the snake<br />one cannot solve a problem from distance<br />odo : stick<br />ma : that<br />bor : long/tall<br />pe : not<br />neko : slaughter<br />twol : snake<br /><br />opuk ma tek/laco ki neno i mac : a strong/male tortoise will be seen in the fire<br />opuk : turtle<br />ma : that<br />tek : strong / laco : male<br />neno : see<br />mac : fire<br /><br />bolo opuk i pii : throwing the turtle into water<br />bolo : to throw<br />opuk : turtle<br />i : in, into<br />pii : water<br /><br />opoto ma tugo : it falls like the coconut (something nice happens unexpectedly)<br />o- : it<br />poto : falls<br />tugo : coconut<br /><br /><a href=\\'lesson_comment.php?subject=Acholi proverbs [comment]\\'><b style=\\'background:teal; color:white\\'>&nbsp;comment >&nbsp;</b></a>&nbsp;&nbsp;&nbsp;2014 JAN-12 20:49&nbsp;(by <a href=\\'contact.php?contact=Langoland\\'>Langoland</a>)<br /></td></tr><tr id=\\'ignore\\'><td>&nbsp;</td></tr><tr bgcolor=linen><td><img src=\\'flag/acholi.png\\' height=\\'30\\' />&nbsp;<b style=\\'color:teal\\'>Acholi: Please translate the sentences below to English&nbsp;</b><br /><br />1. an amaro loko leb Acholi ............<br />2. Atye ka pwonyo loko ki coyo leb Acholi .........<br />3 Lurema weng gi loko leb Acholi maber ..........<br />4. Leb Acholi ki loko Gulu, Kitgum, Pader ki South Sudan .......<br />5. Leb Acholi obedo leb Luo ...........<br />6. Luo obedo kaka ma iye opoke mapol ma ikin gi tye Acholi, Ja Luo, Anuak, Alur, Chilluk, ki mukene mapol.<br />7. Pwonyo leb Acholi tek ka pe iketo iye cwinyi .............<br />8. Acholi obedo kaka ma tye kumalo me Uganda ki Kupiny me S. Sudan ......<br />9. amaro leb acholi pien miyo aloko ki lurema mapol .............<br />10. apwoyo pwonya ki coyo leb Acholi ..........<br /><br /><a href=\\'lesson_comment.php?subject=Acholi: Please translate the sentences below to English [comment]\\'><b style=\\'background:teal; color:white\\'>&nbsp;comment >&nbsp;</b></a>&nbsp;&nbsp;&nbsp;2015 APR-10 22:41&nbsp;(by <a href=\\'contact.php?contact=\\'></a>)<br /></td></tr><tr id=\\'ignore\\'><td>&nbsp;</td></tr><tr bgcolor=snow><td><img src=\\'flag/acholi.png\\' height=\\'30\\' />&nbsp;<b style=\\'color:teal\\'>Conversing in Acholi&nbsp;</b><br /><br />Okello: Kop ango jal --------------------------- How are you my friend ?<br />Ochen: Kop peke      --------------------------- I\\'m fine<br />Okello: Man i ceto kwene --------------------  Where are you going ?<br />Ochen: Aceto ka limo larema ---------------- I\\'m going to visit a friend<br />Okello: Boka    --------------------------------- Tell me ?<br />Ochen: Lok ma pol peke ------------------------ I don\\'t have much to say<br />Okello: Ngo ma ber  ---------------------------- What is good ?<br />Ochen: Gina ma ber pud peke ------------------ Nothing good at the moment<br />Okello:  Pe rac ---------------------------------- No problem<br />Ochen: Laworo i ceto i gang kwan ------------Did you go to school yesterday  ?<br />Okello: Aceto ento adugu con ---------------- I went but came back early<br />Ochen: Anga gi ma onongo tye ---------------- Whom were there ?<br />Okello: Dano weng nongo tye ----------------- Every body was there<br />Ochen: Ber wa nen lacen ---------------------- Okay see you later !<br />Okello: Ber jal wa nen lacen ------------------ Okay my friend, I\\'ll see you later.<br /><br /><br /><br /><a href=\\'lesson_comment.php?subject=Conversing in Acholi [comment]\\'><b style=\\'background:teal; color:white\\'>&nbsp;comment >&nbsp;</b></a>&nbsp;&nbsp;&nbsp;2015 MAR-25 17:29&nbsp;(by <a href=\\'contact.php?contact=\\'></a>)<br /></td></tr><tr id=\\'ignore\\'><td>&nbsp;</td></tr><tr bgcolor=linen><td><img src=\\'flag/acholi.png\\' height=\\'30\\' />&nbsp;<b style=\\'color:teal\\'>FOOD&nbsp;</b><br /><br />FOOD<br /><br /><a href=\\'lesson_comment.php?subject=FOOD [comment]\\'><b style=\\'background:teal; color:white\\'>&nbsp;comment >&nbsp;</b></a>&nbsp;&nbsp;&nbsp;2022 APR-27 16:40&nbsp;(by <a href=\\'contact.php?contact=\\'></a>)<br /></td></tr><tr id=\\'ignore\\'><td>&nbsp;</td></tr><tr bgcolor=snow><td><img src=\\'flag/acholi.png\\' height=\\'30\\' />&nbsp;<b style=\\'color:teal\\'>Insect&nbsp;</b><br /><br />Insects<br /><br /><a href=\\'lesson_comment.php?subject=Insect [comment]\\'><b style=\\'background:teal; color:white\\'>&nbsp;comment >&nbsp;</b></a>&nbsp;&nbsp;&nbsp;2021 JUN-01 15:37&nbsp;(by <a href=\\'contact.php?contact=\\'></a>)<br /></td></tr><tr id=\\'ignore\\'><td>&nbsp;</td></tr><tr bgcolor=linen><td><img src=\\'flag/acholi.png\\' height=\\'30\\' />&nbsp;<b style=\\'color:teal\\'>Lesson&nbsp;</b><br /><br />Food<br /><br /><a href=\\'lesson_comment.php?subject=Lesson [comment]\\'><b style=\\'background:teal; color:white\\'>&nbsp;comment >&nbsp;</b></a>&nbsp;&nbsp;&nbsp;2016 OCT-27 11:32&nbsp;(by <a href=\\'contact.php?contact=\\'></a>)<br /></td></tr><tr id=\\'ignore\\'><td>&nbsp;</td></tr><tr bgcolor=snow><td><img src=\\'flag/acholi.png\\' height=\\'30\\' />&nbsp;<b style=\\'color:teal\\'>Useful Phrases&nbsp;</b><br /><br />Abiceto ka cam ------------- I\\'m going to eat<br />Abiceto ka neno odilo ------- I\\'m going to watch football<br />Abiceto i gang kwan --------- I\\'m going to school<br />Abiceto ka lwok ------------- I\\'m going to bath<br /><br />Ibiceto ka cam ? -------------- Are you are going to eat ?<br />Ibiceto ka neno odilo ?------- Are you going to watch football ?<br />Ibiceto i gang kwan ? --------- Are you going to school ?<br />Ibiceto ka lwok ? -------------- Are you going to bath ?<br /><br />Obiceto ka cam --------------- He/She is going to eat<br />Obiceto ka neno odilo --------- He/She is going to watch football<br />Obiceto i gang kwan ---------- He/She is going to school<br />Obiceto ka lwok --------------- He/She is going to bath<br /><br />Gu biceto ka cam ------------- they are going to bath<br />Gu biceto ka neno odilo ------- they are going to watch football<br />Gu biceto i gang kwan ---------- they are going to school<br />Gu biceto ka lwok --------------- they are going to bath<br /><br /><br />Wa cet ka cam ------------- Let\\'s go and eat<br />Wa cet ka neno odilo ------ Let\\'s go and watch football<br />Wa cet igang kwan -------- Let\\'s go to school<br />Wa cet ka lwok ------------ Let\\'s go and bath<br /><br /><br /><a href=\\'lesson_comment.php?subject=Useful Phrases [comment]\\'><b style=\\'background:teal; color:white\\'>&nbsp;comment >&nbsp;</b></a>&nbsp;&nbsp;&nbsp;2015 MAR-16 05:12&nbsp;(by <a href=\\'contact.php?contact=\\'></a>)<br /></td></tr><tr id=\\'ignore\\'><td>&nbsp;</td></tr></table></body>\\n</html>\\n'\n"
          ]
        }
      ],
      "source": [
        "response = response.content\n",
        "print(response)"
      ]
    },
    {
      "cell_type": "code",
      "execution_count": 10,
      "metadata": {
        "id": "Ez2wynL9fnTb"
      },
      "outputs": [],
      "source": [
        "soup = BeautifulSoup(response, 'html.parser')"
      ]
    },
    {
      "cell_type": "code",
      "execution_count": 11,
      "metadata": {
        "colab": {
          "base_uri": "https://localhost:8080/"
        },
        "id": "Jlz7A9RFgKQx",
        "outputId": "2bd5994e-d9f4-4215-b411-b950e69329de"
      },
      "outputs": [
        {
          "name": "stdout",
          "output_type": "stream",
          "text": [
            "<html>\n",
            "<head>\n",
            "<meta content=\"text/html; charset=utf-8\" http-equiv=\"content-type\"/>\n",
            "<meta content=\"Learning Acholi language, vocabulary and grammar\" name=\"description\"/>\n",
            "<meta content=\"learning,Acholi,language,vocabulary,grammar\" name=\"keywords\"/>\n",
            "<title>Learning Acholi language, vocabulary and grammar</title>\n",
            "<link href=\"style/style.css\" rel=\"stylesheet\"/>\n",
            "<script src=\"http://fr.clickintext.net/?v=3.0&amp;a=7195&amp;s[c]=008000&amp;s[co]=C6E21C&amp;t[cit]=1&amp;n=20\" type=\"text/javascript\"></script>\n",
            "</head>\n",
            "<body>\n",
            "<script src=\"http://fr.slidein.clickintext.net/?a=7195\" type=\"text/javascript\"></script>\n",
            "<h1><a href=\"mailbox_global.php\"><img border=\"0\" height=\"30\" src=\"logo.jpg\"/></a> <a href=\"http://babelang.free.fr/chat\" style=\"color:pink; font-size:25pt\">chat <img border=\"0\" height=\"30\" src=\"chat.gif\"/></a> <small>learn 201 languages, create lessons</small></h1>\n",
            "<span style=\"background:white\">\n",
            "<a href=\"members_search.php\"><b style=\"background:orange; color:white\"> SEARCH members </b></a> \n",
            "\t<a href=\"lesson_create.php\"><b style=\"background:teal; color:white\"> CREATE lesson </b></a> \n",
            "\t<a href=\"lessons_read_list.php\"><b style=\"background:teal; color:white\"> READ new lessons </b></a>\n",
            "</span>\n",
            "<h1>Acholi lessons</h1>\n",
            "\tlessons (created by members)<br/>\n",
            "<br/>\n",
            "<table>\n",
            "<tr bgcolor=\"snow\"><td><img height=\"30\" src=\"flag/acholi.png\"/> <b style=\"color:teal\">Acholi - days of the week </b><br/><br/>Monday - ceng baraja<br/>Tuesday - ceng aryo<br/>Wednesday - ceng adek<br/>Thursday - ceng angwen<br/>Friday - ceng abic<br/>Saturday - ceng abicel<br/>Sunday - ceng cabit<br/><br/><a href=\"lesson_comment.php?subject=Acholi - days of the week [comment]\"><b style=\"background:teal; color:white\"> comment &gt; </b></a>   2013 OCT-04 08:33 (by <a href=\"contact.php?contact=Karama\">Karama</a>)<br/></td></tr><tr id=\"ignore\"><td> </td></tr><tr bgcolor=\"linen\"><td><img height=\"30\" src=\"flag/acholi.png\"/> <b style=\"color:teal\">Acholi - months of the year </b><br/><br/>Dwe me acel - January<br/>Dwe me aryo - February<br/>Dwe me adek - March<br/>Dwe me angwen - April<br/>Dwe me abic - May<br/>Dwe me abicel - June<br/>Dwe me abiro - July<br/>Dwe me aboro - August<br/>Dwe me abongwen - September<br/>Dwe me apar - October<br/>Dwe me apar acel - November<br/>Dwe me apar aryo - December<br/><br/><a href=\"lesson_comment.php?subject=Acholi - months of the year [comment]\"><b style=\"background:teal; color:white\"> comment &gt; </b></a>   2013 OCT-04 08:34 (by <a href=\"contact.php?contact=Karama\">Karama</a>)<br/></td></tr><tr id=\"ignore\"><td> </td></tr><tr bgcolor=\"snow\"><td><img height=\"30\" src=\"flag/acholi.png\"/> <b style=\"color:teal\">Acholi - numbers </b><br/><br/>0 jero<br/>1 acel<br/>2 aryo<br/>3 adek<br/>4 angwen<br/>5 abic<br/>6 abicel<br/>7 abiro<br/>8 aboro<br/>9 abongwen<br/><br/>10 apar<br/>11 apar (wiye) acel = 10   1<br/>12 apar (wiye) aryo<br/>13 apar (wiye) adek<br/>...<br/><br/>20 pyere aryo<br/>30 pyere adek<br/>...<br/><br/>100 miya acel <br/>200 miya aryo<br/>300 miya adek<br/>...<br/><br/>1 000 alip acel<br/><br/><a href=\"lesson_comment.php?subject=Acholi - numbers [comment]\"><b style=\"background:teal; color:white\"> comment &gt; </b></a>   2013 OCT-04 08:30 (by <a href=\"contact.php?contact=Karama\">Karama</a>)<br/></td></tr><tr id=\"ignore\"><td> </td></tr><tr bgcolor=\"linen\"><td><img height=\"30\" src=\"flag/acholi.png\"/> <b style=\"color:teal\">Acholi - plural nouns </b><br/><br/>deity / deities - jok / jogi<br/>county chief(s) - jago / jagi<br/>elder(s) - ladit / lodito<br/>person / people - dano / jo<br/>male(s) - nyok / nyogi<br/>husband(s) - cwar / cog<br/>woman / women - dako / mon<br/>child / children - latin / lotino<br/>doctor(s) - daktaa / daktari<br/>worker(s) - latic / lotic<br/>messenger(s) - lakwena / lokwena<br/>visitor(s) - welo / wele<br/>thief / thieves - lakwo / lokwo<br/>sinner(s) - labal / lobal<br/><br/>home(s) - paco / paci<br/>house(s) - ot / odi<br/>chair(s) - kom / kom<br/>cloth(es) - bongo / bongi<br/>book(s) - buk / buk<br/>spear(s) - tong / tongi<br/><br/>mountain(s) - got / godi<br/>bull(s) - twon / twoni<br/>sheep - romo / romi<br/>goat(s) - dyel / dyegi<br/>Guinea fowl(s) - aweno / aweni<br/>chicken(s) - gweno / gweni<br/>fish(es) - rec / rece<br/>cat(s) - puc / puce<br/><br/><a href=\"lesson_comment.php?subject=Acholi - plural nouns [comment]\"><b style=\"background:teal; color:white\"> comment &gt; </b></a>   2014 JAN-10 11:18 (by <a href=\"contact.php?contact=Lwo\">Lwo</a>)<br/></td></tr><tr id=\"ignore\"><td> </td></tr><tr bgcolor=\"snow\"><td><img height=\"30\" src=\"flag/acholi.png\"/> <b style=\"color:teal\">Acholi - questions, interrogative pronouns </b><br/><br/>Which? - Mene?<br/>Who? - Nga?<br/>What? - Ngo?<br/>Why? - Pingo?<br/><br/>How? - Nining?<br/>How many? How much? - Adi?<br/><br/>When? - Awene?<br/>Where? - Kwene?<br/>near - cok<br/>far - mabor<br/><br/><a href=\"lesson_comment.php?subject=Acholi - questions, interrogative pronouns [comment]\"><b style=\"background:teal; color:white\"> comment &gt; </b></a>   2013 OCT-04 08:36 (by <a href=\"contact.php?contact=Karama\">Karama</a>)<br/></td></tr><tr id=\"ignore\"><td> </td></tr><tr bgcolor=\"linen\"><td><img height=\"30\" src=\"flag/acholi.png\"/> <b style=\"color:teal\">Acholi - time </b><br/><br/>hour - cawa [from Arabic]<br/>minute - dakika [from Arabic]<br/><br/>morning - odiko<br/>day, afternoon - dye ceng<br/>evening - otyeno<br/>night - dye wor<br/><br/>day before yesterday - laworo maca<br/>yesterday - laworo<br/>today - tin <br/>tomorrow - diki<br/>day after tomorrow - diki maca<br/><br/>week - cabit<br/>month - dwe<br/>season - kare<br/>year - mwaka<br/><br/><a href=\"lesson_comment.php?subject=Acholi - time [comment]\"><b style=\"background:teal; color:white\"> comment &gt; </b></a>   2013 OCT-04 08:33 (by <a href=\"contact.php?contact=Karama\">Karama</a>)<br/></td></tr><tr id=\"ignore\"><td> </td></tr><tr bgcolor=\"snow\"><td><img height=\"30\" src=\"flag/acholi.png\"/> <b style=\"color:teal\">Acholi Proverbs </b><br/><br/>ACHOLI PROVERBS<br/>1. Adong pe ki medo ikom can<br/>2. Aming ming ongolo nge gweno<br/>3. Agoro pe camo ngolo kulu<br/>4. Agulu odiyo otac<br/>5. Agwata ma tek mac aye buko<br/>6. Akuri ma welo camo neno wang ceng<br/>7. Aling aling ma ki celo wanga ki cogo<br/>8. Ange tyene lit<br/>9. Arwot ki oda<br/>10. Atura calo ngok gwok<br/>11. Ayom mudong cen nyero ibb lawote<br/>12. Aweno pe ki laro ki won tol<br/>13. Bedo inget bye oweko kom pura kwar<br/>14. Ber ber pa lalaa<br/>15. Bolo opuk i pii<br/>16. Can pa min akelo oweko ki mwono ter aduku ki odok me twomo pii<br/>17. Cet gwok ki nguku ma lyet<br/>18. Cogo oturo wot pa gwok<br/>19. Dako nywal ki nyeke<br/>20. Dongo min bul medo ki latine/lanyige<br/>21. Ducu oyoo ot pa min akec<br/>22. Dyel ma lapele tur ibad dero<br/>23. Dwon odiyo pilato<br/>24. Gin ma ikwiya dari yen<br/>25. Gwok woto kama ki bolo ite kwon<br/>26.Gwok ma dako bene mako lee<br/>27. I woto ma atakka pyeri opong<br/>28. Icwak ogwang iwek gweno<br/>29. Igal ka mwodo aboke<br/>30. Ikeng wii ogwang ma otwoo<br/>31. Itwaro ma odoko acut<br/>32. Iyoke ki ajut kweyo<br/>33. Jwii jwii ci ongole<br/>34. Kalii cek pa lawok<br/>35. Kalwok pe doko katwoo<br/>36. Kuk coo kom coo<br/>37. Labolo pito ma neke<br/>38. Labul tong gweno ngeyo ka pene<br/>39. Labwor ma kok pe mako lee<br/>40. Lacan ma kwo pe kinyero<br/>41. Ladwar neno opoko pii ki wange<br/>42. Lakwor ki dongo laling<br/>43. Langala ramo boo ki toyo<br/>44. Lapok cinge ki guna<br/>45. Lapyelo inget yoo nyebe<br/>46. Lalur mwodo cogo kun geno ngwinye<br/>47. Lalworo geyo ngwinye ki olut kwon<br/>48. Latong pa latek ladit aye gamo<br/>49. Latot kic aye nango cinge<br/>50. Latoo wang pe telo wadi<br/>51. Layom cwinye poto<br/>52. Latin gwok pe tuko ki cak<br/>53. Lee ma welo poto ibur<br/>54. Lum acel ka owot pe weko ot cwer<br/>55. Lum ma bwuru bwuru ogengo ayweri koko<br/>56. Min gweno pe tongo bolo<br/>57. Mot mot ocero muno poto<br/>58. Ngat ma otwoni ngwen nongo okonyi ki cado<br/>59. Ogwang pe lwoko gweno<br/>60. Ojuk kwe ceto ki cet i ot pa maro<br/>61. Okol man ki ocok ne<br/>62. Odoo ma bor pe goyo twol<br/>63. Ocamo wa i lawel kweri<br/>64. Ocok man ki byer ne<br/>65. Okom oyoko langwec<br/>66. Opong wiye woko<br/>67. Opong ma lalur matar rabo ki tenge<br/>68. Opota ma tugu<br/>69. Opuk odoko amida<br/>70. Opuk ma lacoo ki neno imac<br/>71. Oree keto latin i ic<br/>72. Pii pe mol dok cen<br/>73. Puk con aye yat kot<br/>74. Rucu rucu ocwalo ayom ki ibbe<br/>75.Ruko war ikom okuto<br/>76. Tee okono pe ki puto<br/>77. Twol ma otoo pwodo ibbe<br/>78. Twon dyang oye ladod<br/>79. Twon gweno lworo labwuce<br/>80. Twon gweno pe kok pa ayaa<br/>81. Tingo dul ma opong ki ngini ngini<br/>82 Twon gweno pa ladiro odoko ki ler<br/>83. Wang ceng odok i ode<br/>84. Wek akuma ki rwede<br/>85. Wor obwumu ladobo<br/>86. Wot ki lakwany lum iwangi<br/>87. Yito pe duny nono<br/>88. Yito duny lubu agulu<br/>89. Yom cwiny oneko Latina<br/>90. Yoo aryo oroco lalur<br/>91. Ywayo mori ki lakadakidi.<br/><br/><a href=\"lesson_comment.php?subject=Acholi Proverbs [comment]\"><b style=\"background:teal; color:white\"> comment &gt; </b></a>   2015 MAR-16 05:34 (by <a href=\"contact.php?contact=\"></a>)<br/></td></tr><tr id=\"ignore\"><td> </td></tr><tr bgcolor=\"linen\"><td><img height=\"30\" src=\"flag/acholi.png\"/> <b style=\"color:teal\">Acholi Proverbs </b><br/><br/>ACHOLI PROVERBS<br/>1. Adong pe ki medo ikom can<br/>2. Aming ming ongolo nge gweno<br/>3. Agoro pe camo ngolo kulu<br/>4. Agulu odiyo otac<br/>5. Agwata ma tek mac aye buko<br/>6. Akuri ma welo camo neno wang ceng<br/>7. Aling aling ma ki celo wanga ki cogo<br/>8. Ange tyene lit<br/>9. Arwot ki oda<br/>10. Atura calo ngok gwok<br/>11. Ayom mudong cen nyero ibb lawote<br/>12. Aweno pe ki laro ki won tol<br/>13. Bedo inget bye oweko kom pura kwar<br/>14. Ber ber pa lalaa<br/>15. Bolo opuk i pii<br/>16. Can pa min akelo oweko ki mwono ter aduku ki odok me twomo pii<br/>17. Cet gwok ki nguku ma lyet<br/>18. Cogo oturo wot pa gwok<br/>19. Dako nywal ki nyeke<br/>20. Dongo min bul medo ki latine/lanyige<br/>21. Ducu oyoo ot pa min akec<br/>22. Dyel ma lapele tur ibad dero<br/>23. Dwon odiyo pilato<br/>24. Gin ma ikwiya dari yen<br/>25. Gwok woto kama ki bolo ite kwon<br/>26.Gwok ma dako bene mako lee<br/>27. I woto ma atakka pyeri opong<br/>28. Icwak ogwang iwek gweno<br/>29. Igal ka mwodo aboke<br/>30. Ikeng wii ogwang ma otwoo<br/>31. Itwaro ma odoko acut<br/>32. Iyoke ki ajut kweyo<br/>33. Jwii jwii ci ongole<br/>34. Kalii cek pa lawok<br/>35. Kalwok pe doko katwoo<br/>36. Kuk coo kom coo<br/>37. Labolo pito ma neke<br/>38. Labul tong gweno ngeyo ka pene<br/>39. Labwor ma kok pe mako lee<br/>40. Lacan ma kwo pe kinyero<br/>41. Ladwar neno opoko pii ki wange<br/>42. Lakwor ki dongo laling<br/>43. Langala ramo boo ki toyo<br/>44. Lapok cinge ki guna<br/>45. Lapyelo inget yoo nyebe<br/>46. Lalur mwodo cogo kun geno ngwinye<br/>47. Lalworo geyo ngwinye ki olut kwon<br/>48. Latong pa latek ladit aye gamo<br/>49. Latot kic aye nango cinge<br/>50. Latoo wang pe telo wadi<br/>51. Layom cwinye poto<br/>52. Latin gwok pe tuko ki cak<br/>53. Lee ma welo poto ibur<br/>54. Lum acel ka owot pe weko ot cwer<br/>55. Lum ma bwuru bwuru ogengo ayweri koko<br/>56. Min gweno pe tongo bolo<br/>57. Mot mot ocero muno poto<br/>58. Ngat ma otwoni ngwen nongo okonyi ki cado<br/>59. Ogwang pe lwoko gweno<br/>60. Ojuk kwe ceto ki cet i ot pa maro<br/>61. Okol man ki ocok ne<br/>62. Odoo ma bor pe goyo twol<br/>63. Ocamo wa i lawel kweri<br/>64. Ocok man ki byer ne<br/>65. Okom oyoko langwec<br/>66. Opong wiye woko<br/>67. Opong ma lalur matar rabo ki tenge<br/>68. Opota ma tugu<br/>69. Opuk odoko amida<br/>70. Opuk ma lacoo ki neno imac<br/>71. Oree keto latin i ic<br/>72. Pii pe mol dok cen<br/>73. Puk con aye yat kot<br/>74. Rucu rucu ocwalo ayom ki ibbe<br/>75.Ruko war ikom okuto<br/>76. Tee okono pe ki puto<br/>77. Twol ma otoo pwodo ibbe<br/>78. Twon dyang oye ladod<br/>79. Twon gweno lworo labwuce<br/>80. Twon gweno pe kok pa ayaa<br/>81. Tingo dul ma opong ki ngini ngini<br/>82 Twon gweno pa ladiro odoko ki ler<br/>83. Wang ceng odok i ode<br/>84. Wek akuma ki rwede<br/>85. Wor obwumu ladobo<br/>86. Wot ki lakwany lum iwangi<br/>87. Yito pe duny nono<br/>88. Yito duny lubu agulu<br/>89. Yom cwiny oneko Latina<br/>90. Yoo aryo oroco lalur<br/>91. Ywayo mori ki lakadakidi.<br/><br/><a href=\"lesson_comment.php?subject=Acholi Proverbs [comment]\"><b style=\"background:teal; color:white\"> comment &gt; </b></a>   2015 MAR-16 05:34 (by <a href=\"contact.php?contact=\"></a>)<br/></td></tr><tr id=\"ignore\"><td> </td></tr><tr bgcolor=\"snow\"><td><img height=\"30\" src=\"flag/acholi.png\"/> <b style=\"color:teal\">Acholi proverbs </b><br/><br/>ACHOLI proverbs<br/><br/>arwot ki oda : I am the chief in my own house<br/>a- : I<br/>rwot : chief<br/>ot : house<br/><br/>ladwar neno opoko pii ki wange<br/>a hunter sees the water gourd with his own eyes (when thirsty he checks by himself)<br/>ladwar : hunter<br/>neno : sees<br/>opoko : gourd<br/>pii : water<br/>ki : with<br/>wange : eyes<br/><br/>yito duny lubu agulu : smoke evaporates from the pot<br/>yito : smoke<br/>duny :  evaporates<br/>agulu : pot<br/><br/>dako nywal ki nyeke : woman gives birth with her co-wife<br/>mon nywal ki nyeggi : women give birth with their co-wives<br/>dako : woman<br/>mon : women<br/>nywal : give birth<br/>ki : with<br/>nyeke : co-wife<br/>nyeggi : co-wives<br/><br/>ruko war ikom okuto : wearing a shoe when one has thorns in the feet<br/>ruko : to dress<br/>war : shoe<br/>okuto : thorn<br/><br/>ibino ki gwok macol : you come with a black dog (you have misfortune)<br/>i- : you [sing.]<br/>bino :  come<br/>ki  : with<br/>gwok  : dog<br/>ma : that<br/>col : black<br/><br/>cogo oturo wot (pa) gwok : a bone stops the travel of the dog<br/>cogo : bone<br/>o- : it<br/>turo : stops <br/>wot  : travel<br/>gwok : dog<br/><br/>akuri ma welo neno wang ceng : a visiting dove looks/checks the sun<br/>akuri : dove<br/>ma : that<br/>welo : visits<br/>neno : sees<br/>wang : eye<br/>ceng : sun<br/><br/>agoro pe camo kato kulu : a white ant does not eat beyond a river<br/>pe : not<br/>camo :  consume/eat<br/>kato  : passing<br/>kulu : river<br/><br/>lee ma welo poto i bur : visiting animal falls into a hole/pit<br/>lee : animal<br/>ma : that<br/>welo : visitor<br/>poto : falls<br/>bur : hole/pit<br/><br/>ogwang pe lwoko gweno : fox does not escort chicken (one cannot expect enemy help)<br/>ogwang : fox<br/>pe : not<br/>lwoko : excort/accompany<br/>gweno : hen<br/><br/>twol nwoyo lakke : a snake repeats its bite (bad things are repeating)<br/>twol : snake<br/>nwoyo : repeats<br/>lakke : teeth<br/><br/>odo mabor pe neko twol : a long stick does not kill the snake<br/>one cannot solve a problem from distance<br/>odo : stick<br/>ma : that<br/>bor : long/tall<br/>pe : not<br/>neko : slaughter<br/>twol : snake<br/><br/>opuk ma tek/laco ki neno i mac : a strong/male tortoise will be seen in the fire<br/>opuk : turtle<br/>ma : that<br/>tek : strong / laco : male<br/>neno : see<br/>mac : fire<br/><br/>bolo opuk i pii : throwing the turtle into water<br/>bolo : to throw<br/>opuk : turtle<br/>i : in, into<br/>pii : water<br/><br/>opoto ma tugo : it falls like the coconut (something nice happens unexpectedly)<br/>o- : it<br/>poto : falls<br/>tugo : coconut<br/><br/><a href=\"lesson_comment.php?subject=Acholi proverbs [comment]\"><b style=\"background:teal; color:white\"> comment &gt; </b></a>   2014 JAN-12 20:49 (by <a href=\"contact.php?contact=Langoland\">Langoland</a>)<br/></td></tr><tr id=\"ignore\"><td> </td></tr><tr bgcolor=\"linen\"><td><img height=\"30\" src=\"flag/acholi.png\"/> <b style=\"color:teal\">Acholi: Please translate the sentences below to English </b><br/><br/>1. an amaro loko leb Acholi ............<br/>2. Atye ka pwonyo loko ki coyo leb Acholi .........<br/>3 Lurema weng gi loko leb Acholi maber ..........<br/>4. Leb Acholi ki loko Gulu, Kitgum, Pader ki South Sudan .......<br/>5. Leb Acholi obedo leb Luo ...........<br/>6. Luo obedo kaka ma iye opoke mapol ma ikin gi tye Acholi, Ja Luo, Anuak, Alur, Chilluk, ki mukene mapol.<br/>7. Pwonyo leb Acholi tek ka pe iketo iye cwinyi .............<br/>8. Acholi obedo kaka ma tye kumalo me Uganda ki Kupiny me S. Sudan ......<br/>9. amaro leb acholi pien miyo aloko ki lurema mapol .............<br/>10. apwoyo pwonya ki coyo leb Acholi ..........<br/><br/><a href=\"lesson_comment.php?subject=Acholi: Please translate the sentences below to English [comment]\"><b style=\"background:teal; color:white\"> comment &gt; </b></a>   2015 APR-10 22:41 (by <a href=\"contact.php?contact=\"></a>)<br/></td></tr><tr id=\"ignore\"><td> </td></tr><tr bgcolor=\"snow\"><td><img height=\"30\" src=\"flag/acholi.png\"/> <b style=\"color:teal\">Conversing in Acholi </b><br/><br/>Okello: Kop ango jal --------------------------- How are you my friend ?<br/>Ochen: Kop peke      --------------------------- I'm fine<br/>Okello: Man i ceto kwene --------------------  Where are you going ?<br/>Ochen: Aceto ka limo larema ---------------- I'm going to visit a friend<br/>Okello: Boka    --------------------------------- Tell me ?<br/>Ochen: Lok ma pol peke ------------------------ I don't have much to say<br/>Okello: Ngo ma ber  ---------------------------- What is good ?<br/>Ochen: Gina ma ber pud peke ------------------ Nothing good at the moment<br/>Okello:  Pe rac ---------------------------------- No problem<br/>Ochen: Laworo i ceto i gang kwan ------------Did you go to school yesterday  ?<br/>Okello: Aceto ento adugu con ---------------- I went but came back early<br/>Ochen: Anga gi ma onongo tye ---------------- Whom were there ?<br/>Okello: Dano weng nongo tye ----------------- Every body was there<br/>Ochen: Ber wa nen lacen ---------------------- Okay see you later !<br/>Okello: Ber jal wa nen lacen ------------------ Okay my friend, I'll see you later.<br/><br/><br/><br/><a href=\"lesson_comment.php?subject=Conversing in Acholi [comment]\"><b style=\"background:teal; color:white\"> comment &gt; </b></a>   2015 MAR-25 17:29 (by <a href=\"contact.php?contact=\"></a>)<br/></td></tr><tr id=\"ignore\"><td> </td></tr><tr bgcolor=\"linen\"><td><img height=\"30\" src=\"flag/acholi.png\"/> <b style=\"color:teal\">FOOD </b><br/><br/>FOOD<br/><br/><a href=\"lesson_comment.php?subject=FOOD [comment]\"><b style=\"background:teal; color:white\"> comment &gt; </b></a>   2022 APR-27 16:40 (by <a href=\"contact.php?contact=\"></a>)<br/></td></tr><tr id=\"ignore\"><td> </td></tr><tr bgcolor=\"snow\"><td><img height=\"30\" src=\"flag/acholi.png\"/> <b style=\"color:teal\">Insect </b><br/><br/>Insects<br/><br/><a href=\"lesson_comment.php?subject=Insect [comment]\"><b style=\"background:teal; color:white\"> comment &gt; </b></a>   2021 JUN-01 15:37 (by <a href=\"contact.php?contact=\"></a>)<br/></td></tr><tr id=\"ignore\"><td> </td></tr><tr bgcolor=\"linen\"><td><img height=\"30\" src=\"flag/acholi.png\"/> <b style=\"color:teal\">Lesson </b><br/><br/>Food<br/><br/><a href=\"lesson_comment.php?subject=Lesson [comment]\"><b style=\"background:teal; color:white\"> comment &gt; </b></a>   2016 OCT-27 11:32 (by <a href=\"contact.php?contact=\"></a>)<br/></td></tr><tr id=\"ignore\"><td> </td></tr><tr bgcolor=\"snow\"><td><img height=\"30\" src=\"flag/acholi.png\"/> <b style=\"color:teal\">Useful Phrases </b><br/><br/>Abiceto ka cam ------------- I'm going to eat<br/>Abiceto ka neno odilo ------- I'm going to watch football<br/>Abiceto i gang kwan --------- I'm going to school<br/>Abiceto ka lwok ------------- I'm going to bath<br/><br/>Ibiceto ka cam ? -------------- Are you are going to eat ?<br/>Ibiceto ka neno odilo ?------- Are you going to watch football ?<br/>Ibiceto i gang kwan ? --------- Are you going to school ?<br/>Ibiceto ka lwok ? -------------- Are you going to bath ?<br/><br/>Obiceto ka cam --------------- He/She is going to eat<br/>Obiceto ka neno odilo --------- He/She is going to watch football<br/>Obiceto i gang kwan ---------- He/She is going to school<br/>Obiceto ka lwok --------------- He/She is going to bath<br/><br/>Gu biceto ka cam ------------- they are going to bath<br/>Gu biceto ka neno odilo ------- they are going to watch football<br/>Gu biceto i gang kwan ---------- they are going to school<br/>Gu biceto ka lwok --------------- they are going to bath<br/><br/><br/>Wa cet ka cam ------------- Let's go and eat<br/>Wa cet ka neno odilo ------ Let's go and watch football<br/>Wa cet igang kwan -------- Let's go to school<br/>Wa cet ka lwok ------------ Let's go and bath<br/><br/><br/><a href=\"lesson_comment.php?subject=Useful Phrases [comment]\"><b style=\"background:teal; color:white\"> comment &gt; </b></a>   2015 MAR-16 05:12 (by <a href=\"contact.php?contact=\"></a>)<br/></td></tr><tr id=\"ignore\"><td> </td></tr></table></body>\n",
            "</html>\n",
            "\n"
          ]
        }
      ],
      "source": [
        "print(soup)"
      ]
    },
    {
      "cell_type": "code",
      "execution_count": 12,
      "metadata": {
        "colab": {
          "base_uri": "https://localhost:8080/"
        },
        "id": "PAsJTJx2g14b",
        "outputId": "99a73208-99bb-4b36-a425-60031535d15d"
      },
      "outputs": [
        {
          "name": "stdout",
          "output_type": "stream",
          "text": [
            "[<tr bgcolor=\"snow\"><td><img height=\"30\" src=\"flag/acholi.png\"/> <b style=\"color:teal\">Acholi - days of the week </b><br/><br/>Monday - ceng baraja<br/>Tuesday - ceng aryo<br/>Wednesday - ceng adek<br/>Thursday - ceng angwen<br/>Friday - ceng abic<br/>Saturday - ceng abicel<br/>Sunday - ceng cabit<br/><br/><a href=\"lesson_comment.php?subject=Acholi - days of the week [comment]\"><b style=\"background:teal; color:white\"> comment &gt; </b></a>   2013 OCT-04 08:33 (by <a href=\"contact.php?contact=Karama\">Karama</a>)<br/></td></tr>, <tr id=\"ignore\"><td> </td></tr>, <tr bgcolor=\"linen\"><td><img height=\"30\" src=\"flag/acholi.png\"/> <b style=\"color:teal\">Acholi - months of the year </b><br/><br/>Dwe me acel - January<br/>Dwe me aryo - February<br/>Dwe me adek - March<br/>Dwe me angwen - April<br/>Dwe me abic - May<br/>Dwe me abicel - June<br/>Dwe me abiro - July<br/>Dwe me aboro - August<br/>Dwe me abongwen - September<br/>Dwe me apar - October<br/>Dwe me apar acel - November<br/>Dwe me apar aryo - December<br/><br/><a href=\"lesson_comment.php?subject=Acholi - months of the year [comment]\"><b style=\"background:teal; color:white\"> comment &gt; </b></a>   2013 OCT-04 08:34 (by <a href=\"contact.php?contact=Karama\">Karama</a>)<br/></td></tr>, <tr id=\"ignore\"><td> </td></tr>, <tr bgcolor=\"snow\"><td><img height=\"30\" src=\"flag/acholi.png\"/> <b style=\"color:teal\">Acholi - numbers </b><br/><br/>0 jero<br/>1 acel<br/>2 aryo<br/>3 adek<br/>4 angwen<br/>5 abic<br/>6 abicel<br/>7 abiro<br/>8 aboro<br/>9 abongwen<br/><br/>10 apar<br/>11 apar (wiye) acel = 10   1<br/>12 apar (wiye) aryo<br/>13 apar (wiye) adek<br/>...<br/><br/>20 pyere aryo<br/>30 pyere adek<br/>...<br/><br/>100 miya acel <br/>200 miya aryo<br/>300 miya adek<br/>...<br/><br/>1 000 alip acel<br/><br/><a href=\"lesson_comment.php?subject=Acholi - numbers [comment]\"><b style=\"background:teal; color:white\"> comment &gt; </b></a>   2013 OCT-04 08:30 (by <a href=\"contact.php?contact=Karama\">Karama</a>)<br/></td></tr>, <tr id=\"ignore\"><td> </td></tr>, <tr bgcolor=\"linen\"><td><img height=\"30\" src=\"flag/acholi.png\"/> <b style=\"color:teal\">Acholi - plural nouns </b><br/><br/>deity / deities - jok / jogi<br/>county chief(s) - jago / jagi<br/>elder(s) - ladit / lodito<br/>person / people - dano / jo<br/>male(s) - nyok / nyogi<br/>husband(s) - cwar / cog<br/>woman / women - dako / mon<br/>child / children - latin / lotino<br/>doctor(s) - daktaa / daktari<br/>worker(s) - latic / lotic<br/>messenger(s) - lakwena / lokwena<br/>visitor(s) - welo / wele<br/>thief / thieves - lakwo / lokwo<br/>sinner(s) - labal / lobal<br/><br/>home(s) - paco / paci<br/>house(s) - ot / odi<br/>chair(s) - kom / kom<br/>cloth(es) - bongo / bongi<br/>book(s) - buk / buk<br/>spear(s) - tong / tongi<br/><br/>mountain(s) - got / godi<br/>bull(s) - twon / twoni<br/>sheep - romo / romi<br/>goat(s) - dyel / dyegi<br/>Guinea fowl(s) - aweno / aweni<br/>chicken(s) - gweno / gweni<br/>fish(es) - rec / rece<br/>cat(s) - puc / puce<br/><br/><a href=\"lesson_comment.php?subject=Acholi - plural nouns [comment]\"><b style=\"background:teal; color:white\"> comment &gt; </b></a>   2014 JAN-10 11:18 (by <a href=\"contact.php?contact=Lwo\">Lwo</a>)<br/></td></tr>, <tr id=\"ignore\"><td> </td></tr>, <tr bgcolor=\"snow\"><td><img height=\"30\" src=\"flag/acholi.png\"/> <b style=\"color:teal\">Acholi - questions, interrogative pronouns </b><br/><br/>Which? - Mene?<br/>Who? - Nga?<br/>What? - Ngo?<br/>Why? - Pingo?<br/><br/>How? - Nining?<br/>How many? How much? - Adi?<br/><br/>When? - Awene?<br/>Where? - Kwene?<br/>near - cok<br/>far - mabor<br/><br/><a href=\"lesson_comment.php?subject=Acholi - questions, interrogative pronouns [comment]\"><b style=\"background:teal; color:white\"> comment &gt; </b></a>   2013 OCT-04 08:36 (by <a href=\"contact.php?contact=Karama\">Karama</a>)<br/></td></tr>, <tr id=\"ignore\"><td> </td></tr>, <tr bgcolor=\"linen\"><td><img height=\"30\" src=\"flag/acholi.png\"/> <b style=\"color:teal\">Acholi - time </b><br/><br/>hour - cawa [from Arabic]<br/>minute - dakika [from Arabic]<br/><br/>morning - odiko<br/>day, afternoon - dye ceng<br/>evening - otyeno<br/>night - dye wor<br/><br/>day before yesterday - laworo maca<br/>yesterday - laworo<br/>today - tin <br/>tomorrow - diki<br/>day after tomorrow - diki maca<br/><br/>week - cabit<br/>month - dwe<br/>season - kare<br/>year - mwaka<br/><br/><a href=\"lesson_comment.php?subject=Acholi - time [comment]\"><b style=\"background:teal; color:white\"> comment &gt; </b></a>   2013 OCT-04 08:33 (by <a href=\"contact.php?contact=Karama\">Karama</a>)<br/></td></tr>, <tr id=\"ignore\"><td> </td></tr>, <tr bgcolor=\"snow\"><td><img height=\"30\" src=\"flag/acholi.png\"/> <b style=\"color:teal\">Acholi Proverbs </b><br/><br/>ACHOLI PROVERBS<br/>1. Adong pe ki medo ikom can<br/>2. Aming ming ongolo nge gweno<br/>3. Agoro pe camo ngolo kulu<br/>4. Agulu odiyo otac<br/>5. Agwata ma tek mac aye buko<br/>6. Akuri ma welo camo neno wang ceng<br/>7. Aling aling ma ki celo wanga ki cogo<br/>8. Ange tyene lit<br/>9. Arwot ki oda<br/>10. Atura calo ngok gwok<br/>11. Ayom mudong cen nyero ibb lawote<br/>12. Aweno pe ki laro ki won tol<br/>13. Bedo inget bye oweko kom pura kwar<br/>14. Ber ber pa lalaa<br/>15. Bolo opuk i pii<br/>16. Can pa min akelo oweko ki mwono ter aduku ki odok me twomo pii<br/>17. Cet gwok ki nguku ma lyet<br/>18. Cogo oturo wot pa gwok<br/>19. Dako nywal ki nyeke<br/>20. Dongo min bul medo ki latine/lanyige<br/>21. Ducu oyoo ot pa min akec<br/>22. Dyel ma lapele tur ibad dero<br/>23. Dwon odiyo pilato<br/>24. Gin ma ikwiya dari yen<br/>25. Gwok woto kama ki bolo ite kwon<br/>26.Gwok ma dako bene mako lee<br/>27. I woto ma atakka pyeri opong<br/>28. Icwak ogwang iwek gweno<br/>29. Igal ka mwodo aboke<br/>30. Ikeng wii ogwang ma otwoo<br/>31. Itwaro ma odoko acut<br/>32. Iyoke ki ajut kweyo<br/>33. Jwii jwii ci ongole<br/>34. Kalii cek pa lawok<br/>35. Kalwok pe doko katwoo<br/>36. Kuk coo kom coo<br/>37. Labolo pito ma neke<br/>38. Labul tong gweno ngeyo ka pene<br/>39. Labwor ma kok pe mako lee<br/>40. Lacan ma kwo pe kinyero<br/>41. Ladwar neno opoko pii ki wange<br/>42. Lakwor ki dongo laling<br/>43. Langala ramo boo ki toyo<br/>44. Lapok cinge ki guna<br/>45. Lapyelo inget yoo nyebe<br/>46. Lalur mwodo cogo kun geno ngwinye<br/>47. Lalworo geyo ngwinye ki olut kwon<br/>48. Latong pa latek ladit aye gamo<br/>49. Latot kic aye nango cinge<br/>50. Latoo wang pe telo wadi<br/>51. Layom cwinye poto<br/>52. Latin gwok pe tuko ki cak<br/>53. Lee ma welo poto ibur<br/>54. Lum acel ka owot pe weko ot cwer<br/>55. Lum ma bwuru bwuru ogengo ayweri koko<br/>56. Min gweno pe tongo bolo<br/>57. Mot mot ocero muno poto<br/>58. Ngat ma otwoni ngwen nongo okonyi ki cado<br/>59. Ogwang pe lwoko gweno<br/>60. Ojuk kwe ceto ki cet i ot pa maro<br/>61. Okol man ki ocok ne<br/>62. Odoo ma bor pe goyo twol<br/>63. Ocamo wa i lawel kweri<br/>64. Ocok man ki byer ne<br/>65. Okom oyoko langwec<br/>66. Opong wiye woko<br/>67. Opong ma lalur matar rabo ki tenge<br/>68. Opota ma tugu<br/>69. Opuk odoko amida<br/>70. Opuk ma lacoo ki neno imac<br/>71. Oree keto latin i ic<br/>72. Pii pe mol dok cen<br/>73. Puk con aye yat kot<br/>74. Rucu rucu ocwalo ayom ki ibbe<br/>75.Ruko war ikom okuto<br/>76. Tee okono pe ki puto<br/>77. Twol ma otoo pwodo ibbe<br/>78. Twon dyang oye ladod<br/>79. Twon gweno lworo labwuce<br/>80. Twon gweno pe kok pa ayaa<br/>81. Tingo dul ma opong ki ngini ngini<br/>82 Twon gweno pa ladiro odoko ki ler<br/>83. Wang ceng odok i ode<br/>84. Wek akuma ki rwede<br/>85. Wor obwumu ladobo<br/>86. Wot ki lakwany lum iwangi<br/>87. Yito pe duny nono<br/>88. Yito duny lubu agulu<br/>89. Yom cwiny oneko Latina<br/>90. Yoo aryo oroco lalur<br/>91. Ywayo mori ki lakadakidi.<br/><br/><a href=\"lesson_comment.php?subject=Acholi Proverbs [comment]\"><b style=\"background:teal; color:white\"> comment &gt; </b></a>   2015 MAR-16 05:34 (by <a href=\"contact.php?contact=\"></a>)<br/></td></tr>, <tr id=\"ignore\"><td> </td></tr>, <tr bgcolor=\"linen\"><td><img height=\"30\" src=\"flag/acholi.png\"/> <b style=\"color:teal\">Acholi Proverbs </b><br/><br/>ACHOLI PROVERBS<br/>1. Adong pe ki medo ikom can<br/>2. Aming ming ongolo nge gweno<br/>3. Agoro pe camo ngolo kulu<br/>4. Agulu odiyo otac<br/>5. Agwata ma tek mac aye buko<br/>6. Akuri ma welo camo neno wang ceng<br/>7. Aling aling ma ki celo wanga ki cogo<br/>8. Ange tyene lit<br/>9. Arwot ki oda<br/>10. Atura calo ngok gwok<br/>11. Ayom mudong cen nyero ibb lawote<br/>12. Aweno pe ki laro ki won tol<br/>13. Bedo inget bye oweko kom pura kwar<br/>14. Ber ber pa lalaa<br/>15. Bolo opuk i pii<br/>16. Can pa min akelo oweko ki mwono ter aduku ki odok me twomo pii<br/>17. Cet gwok ki nguku ma lyet<br/>18. Cogo oturo wot pa gwok<br/>19. Dako nywal ki nyeke<br/>20. Dongo min bul medo ki latine/lanyige<br/>21. Ducu oyoo ot pa min akec<br/>22. Dyel ma lapele tur ibad dero<br/>23. Dwon odiyo pilato<br/>24. Gin ma ikwiya dari yen<br/>25. Gwok woto kama ki bolo ite kwon<br/>26.Gwok ma dako bene mako lee<br/>27. I woto ma atakka pyeri opong<br/>28. Icwak ogwang iwek gweno<br/>29. Igal ka mwodo aboke<br/>30. Ikeng wii ogwang ma otwoo<br/>31. Itwaro ma odoko acut<br/>32. Iyoke ki ajut kweyo<br/>33. Jwii jwii ci ongole<br/>34. Kalii cek pa lawok<br/>35. Kalwok pe doko katwoo<br/>36. Kuk coo kom coo<br/>37. Labolo pito ma neke<br/>38. Labul tong gweno ngeyo ka pene<br/>39. Labwor ma kok pe mako lee<br/>40. Lacan ma kwo pe kinyero<br/>41. Ladwar neno opoko pii ki wange<br/>42. Lakwor ki dongo laling<br/>43. Langala ramo boo ki toyo<br/>44. Lapok cinge ki guna<br/>45. Lapyelo inget yoo nyebe<br/>46. Lalur mwodo cogo kun geno ngwinye<br/>47. Lalworo geyo ngwinye ki olut kwon<br/>48. Latong pa latek ladit aye gamo<br/>49. Latot kic aye nango cinge<br/>50. Latoo wang pe telo wadi<br/>51. Layom cwinye poto<br/>52. Latin gwok pe tuko ki cak<br/>53. Lee ma welo poto ibur<br/>54. Lum acel ka owot pe weko ot cwer<br/>55. Lum ma bwuru bwuru ogengo ayweri koko<br/>56. Min gweno pe tongo bolo<br/>57. Mot mot ocero muno poto<br/>58. Ngat ma otwoni ngwen nongo okonyi ki cado<br/>59. Ogwang pe lwoko gweno<br/>60. Ojuk kwe ceto ki cet i ot pa maro<br/>61. Okol man ki ocok ne<br/>62. Odoo ma bor pe goyo twol<br/>63. Ocamo wa i lawel kweri<br/>64. Ocok man ki byer ne<br/>65. Okom oyoko langwec<br/>66. Opong wiye woko<br/>67. Opong ma lalur matar rabo ki tenge<br/>68. Opota ma tugu<br/>69. Opuk odoko amida<br/>70. Opuk ma lacoo ki neno imac<br/>71. Oree keto latin i ic<br/>72. Pii pe mol dok cen<br/>73. Puk con aye yat kot<br/>74. Rucu rucu ocwalo ayom ki ibbe<br/>75.Ruko war ikom okuto<br/>76. Tee okono pe ki puto<br/>77. Twol ma otoo pwodo ibbe<br/>78. Twon dyang oye ladod<br/>79. Twon gweno lworo labwuce<br/>80. Twon gweno pe kok pa ayaa<br/>81. Tingo dul ma opong ki ngini ngini<br/>82 Twon gweno pa ladiro odoko ki ler<br/>83. Wang ceng odok i ode<br/>84. Wek akuma ki rwede<br/>85. Wor obwumu ladobo<br/>86. Wot ki lakwany lum iwangi<br/>87. Yito pe duny nono<br/>88. Yito duny lubu agulu<br/>89. Yom cwiny oneko Latina<br/>90. Yoo aryo oroco lalur<br/>91. Ywayo mori ki lakadakidi.<br/><br/><a href=\"lesson_comment.php?subject=Acholi Proverbs [comment]\"><b style=\"background:teal; color:white\"> comment &gt; </b></a>   2015 MAR-16 05:34 (by <a href=\"contact.php?contact=\"></a>)<br/></td></tr>, <tr id=\"ignore\"><td> </td></tr>, <tr bgcolor=\"snow\"><td><img height=\"30\" src=\"flag/acholi.png\"/> <b style=\"color:teal\">Acholi proverbs </b><br/><br/>ACHOLI proverbs<br/><br/>arwot ki oda : I am the chief in my own house<br/>a- : I<br/>rwot : chief<br/>ot : house<br/><br/>ladwar neno opoko pii ki wange<br/>a hunter sees the water gourd with his own eyes (when thirsty he checks by himself)<br/>ladwar : hunter<br/>neno : sees<br/>opoko : gourd<br/>pii : water<br/>ki : with<br/>wange : eyes<br/><br/>yito duny lubu agulu : smoke evaporates from the pot<br/>yito : smoke<br/>duny :  evaporates<br/>agulu : pot<br/><br/>dako nywal ki nyeke : woman gives birth with her co-wife<br/>mon nywal ki nyeggi : women give birth with their co-wives<br/>dako : woman<br/>mon : women<br/>nywal : give birth<br/>ki : with<br/>nyeke : co-wife<br/>nyeggi : co-wives<br/><br/>ruko war ikom okuto : wearing a shoe when one has thorns in the feet<br/>ruko : to dress<br/>war : shoe<br/>okuto : thorn<br/><br/>ibino ki gwok macol : you come with a black dog (you have misfortune)<br/>i- : you [sing.]<br/>bino :  come<br/>ki  : with<br/>gwok  : dog<br/>ma : that<br/>col : black<br/><br/>cogo oturo wot (pa) gwok : a bone stops the travel of the dog<br/>cogo : bone<br/>o- : it<br/>turo : stops <br/>wot  : travel<br/>gwok : dog<br/><br/>akuri ma welo neno wang ceng : a visiting dove looks/checks the sun<br/>akuri : dove<br/>ma : that<br/>welo : visits<br/>neno : sees<br/>wang : eye<br/>ceng : sun<br/><br/>agoro pe camo kato kulu : a white ant does not eat beyond a river<br/>pe : not<br/>camo :  consume/eat<br/>kato  : passing<br/>kulu : river<br/><br/>lee ma welo poto i bur : visiting animal falls into a hole/pit<br/>lee : animal<br/>ma : that<br/>welo : visitor<br/>poto : falls<br/>bur : hole/pit<br/><br/>ogwang pe lwoko gweno : fox does not escort chicken (one cannot expect enemy help)<br/>ogwang : fox<br/>pe : not<br/>lwoko : excort/accompany<br/>gweno : hen<br/><br/>twol nwoyo lakke : a snake repeats its bite (bad things are repeating)<br/>twol : snake<br/>nwoyo : repeats<br/>lakke : teeth<br/><br/>odo mabor pe neko twol : a long stick does not kill the snake<br/>one cannot solve a problem from distance<br/>odo : stick<br/>ma : that<br/>bor : long/tall<br/>pe : not<br/>neko : slaughter<br/>twol : snake<br/><br/>opuk ma tek/laco ki neno i mac : a strong/male tortoise will be seen in the fire<br/>opuk : turtle<br/>ma : that<br/>tek : strong / laco : male<br/>neno : see<br/>mac : fire<br/><br/>bolo opuk i pii : throwing the turtle into water<br/>bolo : to throw<br/>opuk : turtle<br/>i : in, into<br/>pii : water<br/><br/>opoto ma tugo : it falls like the coconut (something nice happens unexpectedly)<br/>o- : it<br/>poto : falls<br/>tugo : coconut<br/><br/><a href=\"lesson_comment.php?subject=Acholi proverbs [comment]\"><b style=\"background:teal; color:white\"> comment &gt; </b></a>   2014 JAN-12 20:49 (by <a href=\"contact.php?contact=Langoland\">Langoland</a>)<br/></td></tr>, <tr id=\"ignore\"><td> </td></tr>, <tr bgcolor=\"linen\"><td><img height=\"30\" src=\"flag/acholi.png\"/> <b style=\"color:teal\">Acholi: Please translate the sentences below to English </b><br/><br/>1. an amaro loko leb Acholi ............<br/>2. Atye ka pwonyo loko ki coyo leb Acholi .........<br/>3 Lurema weng gi loko leb Acholi maber ..........<br/>4. Leb Acholi ki loko Gulu, Kitgum, Pader ki South Sudan .......<br/>5. Leb Acholi obedo leb Luo ...........<br/>6. Luo obedo kaka ma iye opoke mapol ma ikin gi tye Acholi, Ja Luo, Anuak, Alur, Chilluk, ki mukene mapol.<br/>7. Pwonyo leb Acholi tek ka pe iketo iye cwinyi .............<br/>8. Acholi obedo kaka ma tye kumalo me Uganda ki Kupiny me S. Sudan ......<br/>9. amaro leb acholi pien miyo aloko ki lurema mapol .............<br/>10. apwoyo pwonya ki coyo leb Acholi ..........<br/><br/><a href=\"lesson_comment.php?subject=Acholi: Please translate the sentences below to English [comment]\"><b style=\"background:teal; color:white\"> comment &gt; </b></a>   2015 APR-10 22:41 (by <a href=\"contact.php?contact=\"></a>)<br/></td></tr>, <tr id=\"ignore\"><td> </td></tr>, <tr bgcolor=\"snow\"><td><img height=\"30\" src=\"flag/acholi.png\"/> <b style=\"color:teal\">Conversing in Acholi </b><br/><br/>Okello: Kop ango jal --------------------------- How are you my friend ?<br/>Ochen: Kop peke      --------------------------- I'm fine<br/>Okello: Man i ceto kwene --------------------  Where are you going ?<br/>Ochen: Aceto ka limo larema ---------------- I'm going to visit a friend<br/>Okello: Boka    --------------------------------- Tell me ?<br/>Ochen: Lok ma pol peke ------------------------ I don't have much to say<br/>Okello: Ngo ma ber  ---------------------------- What is good ?<br/>Ochen: Gina ma ber pud peke ------------------ Nothing good at the moment<br/>Okello:  Pe rac ---------------------------------- No problem<br/>Ochen: Laworo i ceto i gang kwan ------------Did you go to school yesterday  ?<br/>Okello: Aceto ento adugu con ---------------- I went but came back early<br/>Ochen: Anga gi ma onongo tye ---------------- Whom were there ?<br/>Okello: Dano weng nongo tye ----------------- Every body was there<br/>Ochen: Ber wa nen lacen ---------------------- Okay see you later !<br/>Okello: Ber jal wa nen lacen ------------------ Okay my friend, I'll see you later.<br/><br/><br/><br/><a href=\"lesson_comment.php?subject=Conversing in Acholi [comment]\"><b style=\"background:teal; color:white\"> comment &gt; </b></a>   2015 MAR-25 17:29 (by <a href=\"contact.php?contact=\"></a>)<br/></td></tr>, <tr id=\"ignore\"><td> </td></tr>, <tr bgcolor=\"linen\"><td><img height=\"30\" src=\"flag/acholi.png\"/> <b style=\"color:teal\">FOOD </b><br/><br/>FOOD<br/><br/><a href=\"lesson_comment.php?subject=FOOD [comment]\"><b style=\"background:teal; color:white\"> comment &gt; </b></a>   2022 APR-27 16:40 (by <a href=\"contact.php?contact=\"></a>)<br/></td></tr>, <tr id=\"ignore\"><td> </td></tr>, <tr bgcolor=\"snow\"><td><img height=\"30\" src=\"flag/acholi.png\"/> <b style=\"color:teal\">Insect </b><br/><br/>Insects<br/><br/><a href=\"lesson_comment.php?subject=Insect [comment]\"><b style=\"background:teal; color:white\"> comment &gt; </b></a>   2021 JUN-01 15:37 (by <a href=\"contact.php?contact=\"></a>)<br/></td></tr>, <tr id=\"ignore\"><td> </td></tr>, <tr bgcolor=\"linen\"><td><img height=\"30\" src=\"flag/acholi.png\"/> <b style=\"color:teal\">Lesson </b><br/><br/>Food<br/><br/><a href=\"lesson_comment.php?subject=Lesson [comment]\"><b style=\"background:teal; color:white\"> comment &gt; </b></a>   2016 OCT-27 11:32 (by <a href=\"contact.php?contact=\"></a>)<br/></td></tr>, <tr id=\"ignore\"><td> </td></tr>, <tr bgcolor=\"snow\"><td><img height=\"30\" src=\"flag/acholi.png\"/> <b style=\"color:teal\">Useful Phrases </b><br/><br/>Abiceto ka cam ------------- I'm going to eat<br/>Abiceto ka neno odilo ------- I'm going to watch football<br/>Abiceto i gang kwan --------- I'm going to school<br/>Abiceto ka lwok ------------- I'm going to bath<br/><br/>Ibiceto ka cam ? -------------- Are you are going to eat ?<br/>Ibiceto ka neno odilo ?------- Are you going to watch football ?<br/>Ibiceto i gang kwan ? --------- Are you going to school ?<br/>Ibiceto ka lwok ? -------------- Are you going to bath ?<br/><br/>Obiceto ka cam --------------- He/She is going to eat<br/>Obiceto ka neno odilo --------- He/She is going to watch football<br/>Obiceto i gang kwan ---------- He/She is going to school<br/>Obiceto ka lwok --------------- He/She is going to bath<br/><br/>Gu biceto ka cam ------------- they are going to bath<br/>Gu biceto ka neno odilo ------- they are going to watch football<br/>Gu biceto i gang kwan ---------- they are going to school<br/>Gu biceto ka lwok --------------- they are going to bath<br/><br/><br/>Wa cet ka cam ------------- Let's go and eat<br/>Wa cet ka neno odilo ------ Let's go and watch football<br/>Wa cet igang kwan -------- Let's go to school<br/>Wa cet ka lwok ------------ Let's go and bath<br/><br/><br/><a href=\"lesson_comment.php?subject=Useful Phrases [comment]\"><b style=\"background:teal; color:white\"> comment &gt; </b></a>   2015 MAR-16 05:12 (by <a href=\"contact.php?contact=\"></a>)<br/></td></tr>, <tr id=\"ignore\"><td> </td></tr>]\n"
          ]
        }
      ],
      "source": [
        "proverbs = soup.find_all('tr')\n",
        "print(proverbs)"
      ]
    },
    {
      "cell_type": "code",
      "execution_count": 13,
      "metadata": {
        "colab": {
          "base_uri": "https://localhost:8080/"
        },
        "id": "st9qAmUpmh0g",
        "outputId": "13ee2ba0-792f-443a-f0d6-9dad7b6442fb"
      },
      "outputs": [
        {
          "name": "stdout",
          "output_type": "stream",
          "text": [
            " Acholi - days of the week Monday - ceng barajaTuesday - ceng aryoWednesday - ceng adekThursday - ceng angwenFriday - ceng abicSaturday - ceng abicelSunday - ceng cabit comment >    2013 OCT-04 08:33 (by Karama)\n",
            " \n",
            " Acholi - months of the year Dwe me acel - JanuaryDwe me aryo - FebruaryDwe me adek - MarchDwe me angwen - AprilDwe me abic - MayDwe me abicel - JuneDwe me abiro - JulyDwe me aboro - AugustDwe me abongwen - SeptemberDwe me apar - OctoberDwe me apar acel - NovemberDwe me apar aryo - December comment >    2013 OCT-04 08:34 (by Karama)\n",
            " \n",
            " Acholi - numbers 0 jero1 acel2 aryo3 adek4 angwen5 abic6 abicel7 abiro8 aboro9 abongwen10 apar11 apar (wiye) acel = 10   112 apar (wiye) aryo13 apar (wiye) adek...20 pyere aryo30 pyere adek...100 miya acel 200 miya aryo300 miya adek...1 000 alip acel comment >    2013 OCT-04 08:30 (by Karama)\n",
            " \n",
            " Acholi - plural nouns deity / deities - jok / jogicounty chief(s) - jago / jagielder(s) - ladit / loditoperson / people - dano / jomale(s) - nyok / nyogihusband(s) - cwar / cogwoman / women - dako / monchild / children - latin / lotinodoctor(s) - daktaa / daktariworker(s) - latic / loticmessenger(s) - lakwena / lokwenavisitor(s) - welo / welethief / thieves - lakwo / lokwosinner(s) - labal / lobalhome(s) - paco / pacihouse(s) - ot / odichair(s) - kom / komcloth(es) - bongo / bongibook(s) - buk / bukspear(s) - tong / tongimountain(s) - got / godibull(s) - twon / twonisheep - romo / romigoat(s) - dyel / dyegiGuinea fowl(s) - aweno / awenichicken(s) - gweno / gwenifish(es) - rec / rececat(s) - puc / puce comment >    2014 JAN-10 11:18 (by Lwo)\n",
            " \n",
            " Acholi - questions, interrogative pronouns Which? - Mene?Who? - Nga?What? - Ngo?Why? - Pingo?How? - Nining?How many? How much? - Adi?When? - Awene?Where? - Kwene?near - cokfar - mabor comment >    2013 OCT-04 08:36 (by Karama)\n",
            " \n",
            " Acholi - time hour - cawa [from Arabic]minute - dakika [from Arabic]morning - odikoday, afternoon - dye cengevening - otyenonight - dye worday before yesterday - laworo macayesterday - laworotoday - tin tomorrow - dikiday after tomorrow - diki macaweek - cabitmonth - dweseason - kareyear - mwaka comment >    2013 OCT-04 08:33 (by Karama)\n",
            " \n",
            " Acholi Proverbs ACHOLI PROVERBS1. Adong pe ki medo ikom can2. Aming ming ongolo nge gweno3. Agoro pe camo ngolo kulu4. Agulu odiyo otac5. Agwata ma tek mac aye buko6. Akuri ma welo camo neno wang ceng7. Aling aling ma ki celo wanga ki cogo8. Ange tyene lit9. Arwot ki oda10. Atura calo ngok gwok11. Ayom mudong cen nyero ibb lawote12. Aweno pe ki laro ki won tol13. Bedo inget bye oweko kom pura kwar14. Ber ber pa lalaa15. Bolo opuk i pii16. Can pa min akelo oweko ki mwono ter aduku ki odok me twomo pii17. Cet gwok ki nguku ma lyet18. Cogo oturo wot pa gwok19. Dako nywal ki nyeke20. Dongo min bul medo ki latine/lanyige21. Ducu oyoo ot pa min akec22. Dyel ma lapele tur ibad dero23. Dwon odiyo pilato24. Gin ma ikwiya dari yen25. Gwok woto kama ki bolo ite kwon26.Gwok ma dako bene mako lee27. I woto ma atakka pyeri opong28. Icwak ogwang iwek gweno29. Igal ka mwodo aboke30. Ikeng wii ogwang ma otwoo31. Itwaro ma odoko acut32. Iyoke ki ajut kweyo33. Jwii jwii ci ongole34. Kalii cek pa lawok35. Kalwok pe doko katwoo36. Kuk coo kom coo37. Labolo pito ma neke38. Labul tong gweno ngeyo ka pene39. Labwor ma kok pe mako lee40. Lacan ma kwo pe kinyero41. Ladwar neno opoko pii ki wange42. Lakwor ki dongo laling43. Langala ramo boo ki toyo44. Lapok cinge ki guna45. Lapyelo inget yoo nyebe46. Lalur mwodo cogo kun geno ngwinye47. Lalworo geyo ngwinye ki olut kwon48. Latong pa latek ladit aye gamo49. Latot kic aye nango cinge50. Latoo wang pe telo wadi51. Layom cwinye poto52. Latin gwok pe tuko ki cak53. Lee ma welo poto ibur54. Lum acel ka owot pe weko ot cwer55. Lum ma bwuru bwuru ogengo ayweri koko56. Min gweno pe tongo bolo57. Mot mot ocero muno poto58. Ngat ma otwoni ngwen nongo okonyi ki cado59. Ogwang pe lwoko gweno60. Ojuk kwe ceto ki cet i ot pa maro61. Okol man ki ocok ne62. Odoo ma bor pe goyo twol63. Ocamo wa i lawel kweri64. Ocok man ki byer ne65. Okom oyoko langwec66. Opong wiye woko67. Opong ma lalur matar rabo ki tenge68. Opota ma tugu69. Opuk odoko amida70. Opuk ma lacoo ki neno imac71. Oree keto latin i ic72. Pii pe mol dok cen73. Puk con aye yat kot74. Rucu rucu ocwalo ayom ki ibbe75.Ruko war ikom okuto76. Tee okono pe ki puto77. Twol ma otoo pwodo ibbe78. Twon dyang oye ladod79. Twon gweno lworo labwuce80. Twon gweno pe kok pa ayaa81. Tingo dul ma opong ki ngini ngini82 Twon gweno pa ladiro odoko ki ler83. Wang ceng odok i ode84. Wek akuma ki rwede85. Wor obwumu ladobo86. Wot ki lakwany lum iwangi87. Yito pe duny nono88. Yito duny lubu agulu89. Yom cwiny oneko Latina90. Yoo aryo oroco lalur91. Ywayo mori ki lakadakidi. comment >    2015 MAR-16 05:34 (by )\n",
            " \n",
            " Acholi Proverbs ACHOLI PROVERBS1. Adong pe ki medo ikom can2. Aming ming ongolo nge gweno3. Agoro pe camo ngolo kulu4. Agulu odiyo otac5. Agwata ma tek mac aye buko6. Akuri ma welo camo neno wang ceng7. Aling aling ma ki celo wanga ki cogo8. Ange tyene lit9. Arwot ki oda10. Atura calo ngok gwok11. Ayom mudong cen nyero ibb lawote12. Aweno pe ki laro ki won tol13. Bedo inget bye oweko kom pura kwar14. Ber ber pa lalaa15. Bolo opuk i pii16. Can pa min akelo oweko ki mwono ter aduku ki odok me twomo pii17. Cet gwok ki nguku ma lyet18. Cogo oturo wot pa gwok19. Dako nywal ki nyeke20. Dongo min bul medo ki latine/lanyige21. Ducu oyoo ot pa min akec22. Dyel ma lapele tur ibad dero23. Dwon odiyo pilato24. Gin ma ikwiya dari yen25. Gwok woto kama ki bolo ite kwon26.Gwok ma dako bene mako lee27. I woto ma atakka pyeri opong28. Icwak ogwang iwek gweno29. Igal ka mwodo aboke30. Ikeng wii ogwang ma otwoo31. Itwaro ma odoko acut32. Iyoke ki ajut kweyo33. Jwii jwii ci ongole34. Kalii cek pa lawok35. Kalwok pe doko katwoo36. Kuk coo kom coo37. Labolo pito ma neke38. Labul tong gweno ngeyo ka pene39. Labwor ma kok pe mako lee40. Lacan ma kwo pe kinyero41. Ladwar neno opoko pii ki wange42. Lakwor ki dongo laling43. Langala ramo boo ki toyo44. Lapok cinge ki guna45. Lapyelo inget yoo nyebe46. Lalur mwodo cogo kun geno ngwinye47. Lalworo geyo ngwinye ki olut kwon48. Latong pa latek ladit aye gamo49. Latot kic aye nango cinge50. Latoo wang pe telo wadi51. Layom cwinye poto52. Latin gwok pe tuko ki cak53. Lee ma welo poto ibur54. Lum acel ka owot pe weko ot cwer55. Lum ma bwuru bwuru ogengo ayweri koko56. Min gweno pe tongo bolo57. Mot mot ocero muno poto58. Ngat ma otwoni ngwen nongo okonyi ki cado59. Ogwang pe lwoko gweno60. Ojuk kwe ceto ki cet i ot pa maro61. Okol man ki ocok ne62. Odoo ma bor pe goyo twol63. Ocamo wa i lawel kweri64. Ocok man ki byer ne65. Okom oyoko langwec66. Opong wiye woko67. Opong ma lalur matar rabo ki tenge68. Opota ma tugu69. Opuk odoko amida70. Opuk ma lacoo ki neno imac71. Oree keto latin i ic72. Pii pe mol dok cen73. Puk con aye yat kot74. Rucu rucu ocwalo ayom ki ibbe75.Ruko war ikom okuto76. Tee okono pe ki puto77. Twol ma otoo pwodo ibbe78. Twon dyang oye ladod79. Twon gweno lworo labwuce80. Twon gweno pe kok pa ayaa81. Tingo dul ma opong ki ngini ngini82 Twon gweno pa ladiro odoko ki ler83. Wang ceng odok i ode84. Wek akuma ki rwede85. Wor obwumu ladobo86. Wot ki lakwany lum iwangi87. Yito pe duny nono88. Yito duny lubu agulu89. Yom cwiny oneko Latina90. Yoo aryo oroco lalur91. Ywayo mori ki lakadakidi. comment >    2015 MAR-16 05:34 (by )\n",
            " \n",
            " Acholi proverbs ACHOLI proverbsarwot ki oda : I am the chief in my own housea- : Irwot : chiefot : houseladwar neno opoko pii ki wangea hunter sees the water gourd with his own eyes (when thirsty he checks by himself)ladwar : hunterneno : seesopoko : gourdpii : waterki : withwange : eyesyito duny lubu agulu : smoke evaporates from the potyito : smokeduny :  evaporatesagulu : potdako nywal ki nyeke : woman gives birth with her co-wifemon nywal ki nyeggi : women give birth with their co-wivesdako : womanmon : womennywal : give birthki : withnyeke : co-wifenyeggi : co-wivesruko war ikom okuto : wearing a shoe when one has thorns in the feetruko : to dresswar : shoeokuto : thornibino ki gwok macol : you come with a black dog (you have misfortune)i- : you [sing.]bino :  comeki  : withgwok  : dogma : thatcol : blackcogo oturo wot (pa) gwok : a bone stops the travel of the dogcogo : boneo- : itturo : stops wot  : travelgwok : dogakuri ma welo neno wang ceng : a visiting dove looks/checks the sunakuri : dovema : thatwelo : visitsneno : seeswang : eyeceng : sunagoro pe camo kato kulu : a white ant does not eat beyond a riverpe : notcamo :  consume/eatkato  : passingkulu : riverlee ma welo poto i bur : visiting animal falls into a hole/pitlee : animalma : thatwelo : visitorpoto : fallsbur : hole/pitogwang pe lwoko gweno : fox does not escort chicken (one cannot expect enemy help)ogwang : foxpe : notlwoko : excort/accompanygweno : hentwol nwoyo lakke : a snake repeats its bite (bad things are repeating)twol : snakenwoyo : repeatslakke : teethodo mabor pe neko twol : a long stick does not kill the snakeone cannot solve a problem from distanceodo : stickma : thatbor : long/tallpe : notneko : slaughtertwol : snakeopuk ma tek/laco ki neno i mac : a strong/male tortoise will be seen in the fireopuk : turtlema : thattek : strong / laco : maleneno : seemac : firebolo opuk i pii : throwing the turtle into waterbolo : to throwopuk : turtlei : in, intopii : wateropoto ma tugo : it falls like the coconut (something nice happens unexpectedly)o- : itpoto : fallstugo : coconut comment >    2014 JAN-12 20:49 (by Langoland)\n",
            " \n",
            " Acholi: Please translate the sentences below to English 1. an amaro loko leb Acholi ............2. Atye ka pwonyo loko ki coyo leb Acholi .........3 Lurema weng gi loko leb Acholi maber ..........4. Leb Acholi ki loko Gulu, Kitgum, Pader ki South Sudan .......5. Leb Acholi obedo leb Luo ...........6. Luo obedo kaka ma iye opoke mapol ma ikin gi tye Acholi, Ja Luo, Anuak, Alur, Chilluk, ki mukene mapol.7. Pwonyo leb Acholi tek ka pe iketo iye cwinyi .............8. Acholi obedo kaka ma tye kumalo me Uganda ki Kupiny me S. Sudan ......9. amaro leb acholi pien miyo aloko ki lurema mapol .............10. apwoyo pwonya ki coyo leb Acholi .......... comment >    2015 APR-10 22:41 (by )\n",
            " \n",
            " Conversing in Acholi Okello: Kop ango jal --------------------------- How are you my friend ?Ochen: Kop peke      --------------------------- I'm fineOkello: Man i ceto kwene --------------------  Where are you going ?Ochen: Aceto ka limo larema ---------------- I'm going to visit a friendOkello: Boka    --------------------------------- Tell me ?Ochen: Lok ma pol peke ------------------------ I don't have much to sayOkello: Ngo ma ber  ---------------------------- What is good ?Ochen: Gina ma ber pud peke ------------------ Nothing good at the momentOkello:  Pe rac ---------------------------------- No problemOchen: Laworo i ceto i gang kwan ------------Did you go to school yesterday  ?Okello: Aceto ento adugu con ---------------- I went but came back earlyOchen: Anga gi ma onongo tye ---------------- Whom were there ?Okello: Dano weng nongo tye ----------------- Every body was thereOchen: Ber wa nen lacen ---------------------- Okay see you later !Okello: Ber jal wa nen lacen ------------------ Okay my friend, I'll see you later. comment >    2015 MAR-25 17:29 (by )\n",
            " \n",
            " FOOD FOOD comment >    2022 APR-27 16:40 (by )\n",
            " \n",
            " Insect Insects comment >    2021 JUN-01 15:37 (by )\n",
            " \n",
            " Lesson Food comment >    2016 OCT-27 11:32 (by )\n",
            " \n",
            " Useful Phrases Abiceto ka cam ------------- I'm going to eatAbiceto ka neno odilo ------- I'm going to watch footballAbiceto i gang kwan --------- I'm going to schoolAbiceto ka lwok ------------- I'm going to bathIbiceto ka cam ? -------------- Are you are going to eat ?Ibiceto ka neno odilo ?------- Are you going to watch football ?Ibiceto i gang kwan ? --------- Are you going to school ?Ibiceto ka lwok ? -------------- Are you going to bath ?Obiceto ka cam --------------- He/She is going to eatObiceto ka neno odilo --------- He/She is going to watch footballObiceto i gang kwan ---------- He/She is going to schoolObiceto ka lwok --------------- He/She is going to bathGu biceto ka cam ------------- they are going to bathGu biceto ka neno odilo ------- they are going to watch footballGu biceto i gang kwan ---------- they are going to schoolGu biceto ka lwok --------------- they are going to bathWa cet ka cam ------------- Let's go and eatWa cet ka neno odilo ------ Let's go and watch footballWa cet igang kwan -------- Let's go to schoolWa cet ka lwok ------------ Let's go and bath comment >    2015 MAR-16 05:12 (by )\n",
            " \n",
            " \n"
          ]
        }
      ],
      "source": [
        "alldata = []\n",
        "for proverb in proverbs:\n",
        "  pr = proverb.find('td').text\n",
        "  #b = pr.find('b').text\n",
        "  print(pr)\n",
        "  alldata.append([pr])\n",
        "\n",
        "print(pr)"
      ]
    },
    {
      "cell_type": "code",
      "execution_count": 14,
      "metadata": {
        "id": "KOU9UXDLqRJT"
      },
      "outputs": [],
      "source": [
        "df = pd.DataFrame(alldata, columns=['data'] )"
      ]
    },
    {
      "cell_type": "code",
      "execution_count": 15,
      "metadata": {
        "id": "LS0-7vTjqx2B"
      },
      "outputs": [],
      "source": [
        "df.to_csv('alldata.csv')"
      ]
    },
    {
      "cell_type": "code",
      "execution_count": 16,
      "metadata": {
        "colab": {
          "base_uri": "https://localhost:8080/",
          "height": 206
        },
        "id": "obfJW0aprs_I",
        "outputId": "3724a9d5-6bf4-4ef4-ab8a-5f26ee071678"
      },
      "outputs": [
        {
          "data": {
            "text/html": [
              "<div>\n",
              "<style scoped>\n",
              "    .dataframe tbody tr th:only-of-type {\n",
              "        vertical-align: middle;\n",
              "    }\n",
              "\n",
              "    .dataframe tbody tr th {\n",
              "        vertical-align: top;\n",
              "    }\n",
              "\n",
              "    .dataframe thead th {\n",
              "        text-align: right;\n",
              "    }\n",
              "</style>\n",
              "<table border=\"1\" class=\"dataframe\">\n",
              "  <thead>\n",
              "    <tr style=\"text-align: right;\">\n",
              "      <th></th>\n",
              "      <th>data</th>\n",
              "    </tr>\n",
              "  </thead>\n",
              "  <tbody>\n",
              "    <tr>\n",
              "      <th>0</th>\n",
              "      <td>Acholi - days of the week Monday - ceng baraj...</td>\n",
              "    </tr>\n",
              "    <tr>\n",
              "      <th>1</th>\n",
              "      <td></td>\n",
              "    </tr>\n",
              "    <tr>\n",
              "      <th>2</th>\n",
              "      <td>Acholi - months of the year Dwe me acel - Jan...</td>\n",
              "    </tr>\n",
              "    <tr>\n",
              "      <th>3</th>\n",
              "      <td></td>\n",
              "    </tr>\n",
              "    <tr>\n",
              "      <th>4</th>\n",
              "      <td>Acholi - numbers 0 jero1 acel2 aryo3 adek4 an...</td>\n",
              "    </tr>\n",
              "  </tbody>\n",
              "</table>\n",
              "</div>"
            ],
            "text/plain": [
              "                                                data\n",
              "0   Acholi - days of the week Monday - ceng baraj...\n",
              "1                                                   \n",
              "2   Acholi - months of the year Dwe me acel - Jan...\n",
              "3                                                   \n",
              "4   Acholi - numbers 0 jero1 acel2 aryo3 adek4 an..."
            ]
          },
          "execution_count": 16,
          "metadata": {},
          "output_type": "execute_result"
        }
      ],
      "source": [
        "df.head()"
      ]
    },
    {
      "cell_type": "code",
      "execution_count": 17,
      "metadata": {},
      "outputs": [],
      "source": [
        "df1 = pd.read_csv(\"acholiseedsentences.csv\")"
      ]
    },
    {
      "cell_type": "code",
      "execution_count": 18,
      "metadata": {},
      "outputs": [
        {
          "data": {
            "text/html": [
              "<div>\n",
              "<style scoped>\n",
              "    .dataframe tbody tr th:only-of-type {\n",
              "        vertical-align: middle;\n",
              "    }\n",
              "\n",
              "    .dataframe tbody tr th {\n",
              "        vertical-align: top;\n",
              "    }\n",
              "\n",
              "    .dataframe thead th {\n",
              "        text-align: right;\n",
              "    }\n",
              "</style>\n",
              "<table border=\"1\" class=\"dataframe\">\n",
              "  <thead>\n",
              "    <tr style=\"text-align: right;\">\n",
              "      <th></th>\n",
              "      <th>SeedStatements</th>\n",
              "    </tr>\n",
              "  </thead>\n",
              "  <tbody>\n",
              "    <tr>\n",
              "      <th>0</th>\n",
              "      <td>cawa</td>\n",
              "    </tr>\n",
              "    <tr>\n",
              "      <th>1</th>\n",
              "      <td>dakika</td>\n",
              "    </tr>\n",
              "    <tr>\n",
              "      <th>2</th>\n",
              "      <td>odiko</td>\n",
              "    </tr>\n",
              "    <tr>\n",
              "      <th>3</th>\n",
              "      <td>dye ceng</td>\n",
              "    </tr>\n",
              "    <tr>\n",
              "      <th>4</th>\n",
              "      <td>dye wor</td>\n",
              "    </tr>\n",
              "    <tr>\n",
              "      <th>...</th>\n",
              "      <td>...</td>\n",
              "    </tr>\n",
              "    <tr>\n",
              "      <th>135</th>\n",
              "      <td>Yito pe duny nono</td>\n",
              "    </tr>\n",
              "    <tr>\n",
              "      <th>136</th>\n",
              "      <td>Yito duny lubu agulu</td>\n",
              "    </tr>\n",
              "    <tr>\n",
              "      <th>137</th>\n",
              "      <td>Yom cwiny oneko Latina</td>\n",
              "    </tr>\n",
              "    <tr>\n",
              "      <th>138</th>\n",
              "      <td>Yoo aryo oroco lalur</td>\n",
              "    </tr>\n",
              "    <tr>\n",
              "      <th>139</th>\n",
              "      <td>Ywayo mori ki lakadakidi</td>\n",
              "    </tr>\n",
              "  </tbody>\n",
              "</table>\n",
              "<p>140 rows × 1 columns</p>\n",
              "</div>"
            ],
            "text/plain": [
              "                SeedStatements\n",
              "0                        cawa \n",
              "1                      dakika \n",
              "2                       odiko \n",
              "3                    dye ceng \n",
              "4                      dye wor\n",
              "..                         ...\n",
              "135          Yito pe duny nono\n",
              "136       Yito duny lubu agulu\n",
              "137     Yom cwiny oneko Latina\n",
              "138       Yoo aryo oroco lalur\n",
              "139  Ywayo mori ki lakadakidi \n",
              "\n",
              "[140 rows x 1 columns]"
            ]
          },
          "execution_count": 18,
          "metadata": {},
          "output_type": "execute_result"
        }
      ],
      "source": [
        "df1.to_json('acholiseedstatements')"
      ]
    },
    {
      "attachments": {},
      "cell_type": "markdown",
      "metadata": {},
      "source": [
        "This is a static webpage with limited to no imformation added in a while. The data scrapped was cleaned in MS Excel aided by Power Query and saved as a JSON file."
      ]
    }
  ],
  "metadata": {
    "colab": {
      "provenance": []
    },
    "kernelspec": {
      "display_name": ".venv",
      "language": "python",
      "name": "python3"
    },
    "language_info": {
      "codemirror_mode": {
        "name": "ipython",
        "version": 3
      },
      "file_extension": ".py",
      "mimetype": "text/x-python",
      "name": "python",
      "nbconvert_exporter": "python",
      "pygments_lexer": "ipython3",
      "version": "3.10.6"
    },
    "vscode": {
      "interpreter": {
        "hash": "c33d7ea584bbe3f566b629d36e35aab25df442d7eb77ef563abbbc5720111fa3"
      }
    }
  },
  "nbformat": 4,
  "nbformat_minor": 0
}
