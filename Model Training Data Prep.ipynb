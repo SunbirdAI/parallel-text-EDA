{
  "cells": [
    {
      "cell_type": "markdown",
      "metadata": {},
      "source": [
        "## Compilation of training dataset for Sunbird language models"
      ]
    },
    {
      "cell_type": "code",
      "execution_count": 1,
      "metadata": {},
      "outputs": [],
      "source": [
        "import gdown\n",
        "import pandas as pd\n",
        "from decouple import config\n",
        "from sklearn.model_selection import train_test_split"
      ]
    },
    {
      "cell_type": "markdown",
      "metadata": {},
      "source": [
        "### Download data"
      ]
    },
    {
      "cell_type": "code",
      "execution_count": 25,
      "metadata": {
        "colab": {
          "base_uri": "https://localhost:8080/"
        },
        "id": "XjyMCIyXMqby",
        "outputId": "9a6b8196-db1d-467d-cea1-358a02c1a86b"
      },
      "outputs": [
        {
          "name": "stderr",
          "output_type": "stream",
          "text": [
            "Downloading...\n",
            "From: https://drive.google.com/uc?id=1vRJsiBvySr9GKcqJr_kXW1hRbg_qIEPW\n",
            "To: /Users/lydia/Desktop/sunbird/nlp-eda/sunbird-ug-lang-v4.0.jsonl\n",
            "100%|██████████| 9.10M/9.10M [00:05<00:00, 1.66MB/s]\n"
          ]
        },
        {
          "data": {
            "text/plain": [
              "'sunbird-ug-lang-v4.0.jsonl'"
            ]
          },
          "execution_count": 25,
          "metadata": {},
          "output_type": "execute_result"
        }
      ],
      "source": [
        "id = config(\"RESOURCE_ID\")\n",
        "url = f\"https://drive.google.com/uc?id={id}\"\n",
        "gdown.download(url)"
      ]
    },
    {
      "cell_type": "code",
      "execution_count": 2,
      "metadata": {
        "id": "oH39MPDcM0yi"
      },
      "outputs": [],
      "source": [
        "data = pd.read_json(\"sunbird-ug-lang-v1.0.jsonl\", lines=True)"
      ]
    },
    {
      "cell_type": "markdown",
      "metadata": {},
      "source": [
        "### Split data into train, test and validation sets"
      ]
    },
    {
      "cell_type": "code",
      "execution_count": 3,
      "metadata": {
        "id": "2qsiV1p_M_Pi"
      },
      "outputs": [],
      "source": [
        "train_df, test_df = train_test_split(data, test_size=0.33, random_state=42)"
      ]
    },
    {
      "cell_type": "code",
      "execution_count": 4,
      "metadata": {
        "colab": {
          "base_uri": "https://localhost:8080/"
        },
        "id": "tMUFpFJqNknc",
        "outputId": "ff0aa255-25a2-4d26-c180-9103f5f75915"
      },
      "outputs": [
        {
          "data": {
            "text/plain": [
              "(16754, 6)"
            ]
          },
          "execution_count": 4,
          "metadata": {},
          "output_type": "execute_result"
        }
      ],
      "source": [
        "train_df.shape"
      ]
    },
    {
      "cell_type": "code",
      "execution_count": 5,
      "metadata": {
        "colab": {
          "base_uri": "https://localhost:8080/"
        },
        "id": "Z4230D7OPuIO",
        "outputId": "33e47e1d-8fdf-4a9f-c8b1-70784468293a"
      },
      "outputs": [
        {
          "data": {
            "text/plain": [
              "(8252, 6)"
            ]
          },
          "execution_count": 5,
          "metadata": {},
          "output_type": "execute_result"
        }
      ],
      "source": [
        "test_df.shape"
      ]
    },
    {
      "cell_type": "code",
      "execution_count": 6,
      "metadata": {
        "id": "HUqes6FyPxju"
      },
      "outputs": [],
      "source": [
        "test_df, val_df = train_test_split(test_df, test_size=0.5, random_state=42)"
      ]
    },
    {
      "cell_type": "code",
      "execution_count": 7,
      "metadata": {
        "colab": {
          "base_uri": "https://localhost:8080/"
        },
        "id": "b90pziBoQBnI",
        "outputId": "264863ce-c9e6-4931-dc42-40f30bc4bec1"
      },
      "outputs": [
        {
          "data": {
            "text/plain": [
              "(4126, 6)"
            ]
          },
          "execution_count": 7,
          "metadata": {},
          "output_type": "execute_result"
        }
      ],
      "source": [
        "val_df.shape"
      ]
    },
    {
      "cell_type": "code",
      "execution_count": 8,
      "metadata": {
        "colab": {
          "base_uri": "https://localhost:8080/"
        },
        "id": "kLdoRWyEQE7Y",
        "outputId": "23847bff-c69b-4861-8452-5ec29127ede1"
      },
      "outputs": [
        {
          "data": {
            "text/plain": [
              "(4126, 6)"
            ]
          },
          "execution_count": 8,
          "metadata": {},
          "output_type": "execute_result"
        }
      ],
      "source": [
        "test_df.shape"
      ]
    },
    {
      "cell_type": "markdown",
      "metadata": {
        "id": "ou79-f3sQRKm"
      },
      "source": [
        "### Create the .txt files needed for the training dataset"
      ]
    },
    {
      "cell_type": "code",
      "execution_count": 18,
      "metadata": {},
      "outputs": [],
      "source": [
        "language_list = list(data.columns)\n",
        "language_codes = {\n",
        "    \"English\": \"en\", \"Luganda\": \"lug\", \"Runyankole\": \"nyn\", \n",
        "    \"Acholi\": \"ach\", \"Ateso\": \"teo\", \"Lugbara\": \"lgg\"\n",
        "}"
      ]
    },
    {
      "cell_type": "code",
      "execution_count": 19,
      "metadata": {},
      "outputs": [],
      "source": [
        "# Array of pairs to be used in later refactoring\n",
        "pairs = [\n",
        "    \"en-lug\", \"en-nyn\", \"en-ach\", \"en-teo\", \"en-lgg\", \"lug-ach\", \"lug-nyn\", \"lug-lgg\", \n",
        "    \"lug-teo\", \"ach-nyn\", \"ach-lgg\", \"ach-teo\", \"teo-lgg\", \"teo-nyn\", \"nyn-lgg\"\n",
        "]"
      ]
    },
    {
      "cell_type": "code",
      "execution_count": 36,
      "metadata": {},
      "outputs": [],
      "source": [
        "for language in language_list:\n",
        "    train_df[language].to_csv(f\"train.{language_codes[language]}\", header=False, index=False, sep='\\t', mode='a')\n",
        "    test_df[language].to_csv(f\"test.{language_codes[language]}\", header=False, index=False, sep='\\t', mode='a')\n",
        "    val_df[language].to_csv(f\"val.{language_codes[language]}\", header=False, index=False, sep='\\t', mode='a')"
      ]
    },
    {
      "cell_type": "markdown",
      "metadata": {},
      "source": [
        "### Create initial dataset folder and add dataset files"
      ]
    },
    {
      "cell_type": "code",
      "execution_count": 37,
      "metadata": {
        "id": "Unf7OAJzTCcv"
      },
      "outputs": [],
      "source": [
        "!mkdir dataset"
      ]
    },
    {
      "cell_type": "code",
      "execution_count": 38,
      "metadata": {
        "id": "wizOH70tTHQY"
      },
      "outputs": [],
      "source": [
        "!mv {*.en,*.lug,*.nyn,*.ach,*.teo,*.lgg} dataset"
      ]
    },
    {
      "cell_type": "code",
      "execution_count": 39,
      "metadata": {
        "colab": {
          "base_uri": "https://localhost:8080/"
        },
        "id": "AQf528eBUPzt",
        "outputId": "30962705-4e1d-4ecc-a974-6310dc8d543d"
      },
      "outputs": [
        {
          "name": "stdout",
          "output_type": "stream",
          "text": [
            "test.ach  test.lug  train.ach train.lug val.ach   val.lug\n",
            "test.en   test.nyn  train.en  train.nyn val.en    val.nyn\n",
            "test.lgg  test.teo  train.lgg train.teo val.lgg   val.teo\n"
          ]
        }
      ],
      "source": [
        "!ls dataset/"
      ]
    },
    {
      "cell_type": "markdown",
      "metadata": {},
      "source": [
        "### Update dataset folder structure"
      ]
    },
    {
      "cell_type": "markdown",
      "metadata": {},
      "source": [
        "#### `TO DO: Refactor this dataset creation code using Python pathlib`"
      ]
    },
    {
      "cell_type": "markdown",
      "metadata": {},
      "source": [
        "#### Create and update folders for English to other language pairs"
      ]
    },
    {
      "cell_type": "code",
      "execution_count": 40,
      "metadata": {},
      "outputs": [],
      "source": [
        "!mkdir -p v7-dataset/v7.0/supervised/\n",
        "!mkdir v7-dataset/v7.0/supervised/en-lug\n",
        "!mkdir v7-dataset/v7.0/supervised/en-ach\n",
        "!mkdir v7-dataset/v7.0/supervised/en-nyn\n",
        "!mkdir v7-dataset/v7.0/supervised/en-lgg\n",
        "!mkdir v7-dataset/v7.0/supervised/en-teo"
      ]
    },
    {
      "cell_type": "code",
      "execution_count": 41,
      "metadata": {},
      "outputs": [
        {
          "name": "stdout",
          "output_type": "stream",
          "text": [
            "dataset/test.en -> v7-dataset/v7.0/supervised/en-lug/test.en\n",
            "dataset/train.en -> v7-dataset/v7.0/supervised/en-lug/train.en\n",
            "dataset/val.en -> v7-dataset/v7.0/supervised/en-lug/val.en\n",
            "dataset/test.lug -> v7-dataset/v7.0/supervised/en-lug/test.lug\n",
            "dataset/train.lug -> v7-dataset/v7.0/supervised/en-lug/train.lug\n",
            "dataset/val.lug -> v7-dataset/v7.0/supervised/en-lug/val.lug\n",
            "dataset/test.en -> v7-dataset/v7.0/supervised/en-ach/test.en\n",
            "dataset/train.en -> v7-dataset/v7.0/supervised/en-ach/train.en\n",
            "dataset/val.en -> v7-dataset/v7.0/supervised/en-ach/val.en\n",
            "dataset/test.ach -> v7-dataset/v7.0/supervised/en-ach/test.ach\n",
            "dataset/train.ach -> v7-dataset/v7.0/supervised/en-ach/train.ach\n",
            "dataset/val.ach -> v7-dataset/v7.0/supervised/en-ach/val.ach\n",
            "dataset/test.en -> v7-dataset/v7.0/supervised/en-nyn/test.en\n",
            "dataset/train.en -> v7-dataset/v7.0/supervised/en-nyn/train.en\n",
            "dataset/val.en -> v7-dataset/v7.0/supervised/en-nyn/val.en\n",
            "dataset/test.nyn -> v7-dataset/v7.0/supervised/en-nyn/test.nyn\n",
            "dataset/train.nyn -> v7-dataset/v7.0/supervised/en-nyn/train.nyn\n",
            "dataset/val.nyn -> v7-dataset/v7.0/supervised/en-nyn/val.nyn\n",
            "dataset/test.en -> v7-dataset/v7.0/supervised/en-lgg/test.en\n",
            "dataset/train.en -> v7-dataset/v7.0/supervised/en-lgg/train.en\n",
            "dataset/val.en -> v7-dataset/v7.0/supervised/en-lgg/val.en\n",
            "dataset/test.lgg -> v7-dataset/v7.0/supervised/en-lgg/test.lgg\n",
            "dataset/train.lgg -> v7-dataset/v7.0/supervised/en-lgg/train.lgg\n",
            "dataset/val.lgg -> v7-dataset/v7.0/supervised/en-lgg/val.lgg\n",
            "dataset/test.en -> v7-dataset/v7.0/supervised/en-teo/test.en\n",
            "dataset/train.en -> v7-dataset/v7.0/supervised/en-teo/train.en\n",
            "dataset/val.en -> v7-dataset/v7.0/supervised/en-teo/val.en\n",
            "dataset/test.teo -> v7-dataset/v7.0/supervised/en-teo/test.teo\n",
            "dataset/train.teo -> v7-dataset/v7.0/supervised/en-teo/train.teo\n",
            "dataset/val.teo -> v7-dataset/v7.0/supervised/en-teo/val.teo\n"
          ]
        }
      ],
      "source": [
        "!cp -v dataset/*.{en,lug} v7-dataset/v7.0/supervised/en-lug\n",
        "!cp -v dataset/*.{en,ach} v7-dataset/v7.0/supervised/en-ach\n",
        "!cp -v dataset/*.{en,nyn} v7-dataset/v7.0/supervised/en-nyn\n",
        "!cp -v dataset/*.{en,lgg} v7-dataset/v7.0/supervised/en-lgg\n",
        "!cp -v dataset/*.{en,teo} v7-dataset/v7.0/supervised/en-teo"
      ]
    },
    {
      "cell_type": "markdown",
      "metadata": {},
      "source": [
        "#### Create and update folders for inter-language pairs"
      ]
    },
    {
      "cell_type": "code",
      "execution_count": 42,
      "metadata": {},
      "outputs": [],
      "source": [
        "!mkdir v7-dataset/v7.0/supervised/lug-ach\n",
        "!mkdir v7-dataset/v7.0/supervised/lug-nyn\n",
        "!mkdir v7-dataset/v7.0/supervised/lug-lgg\n",
        "!mkdir v7-dataset/v7.0/supervised/lug-teo\n",
        "!mkdir v7-dataset/v7.0/supervised/ach-nyn\n",
        "!mkdir v7-dataset/v7.0/supervised/ach-lgg\n",
        "!mkdir v7-dataset/v7.0/supervised/ach-teo\n",
        "!mkdir v7-dataset/v7.0/supervised/teo-lgg\n",
        "!mkdir v7-dataset/v7.0/supervised/teo-nyn\n",
        "!mkdir v7-dataset/v7.0/supervised/nyn-lgg"
      ]
    },
    {
      "cell_type": "code",
      "execution_count": 43,
      "metadata": {},
      "outputs": [
        {
          "name": "stdout",
          "output_type": "stream",
          "text": [
            "dataset/test.lug -> v7-dataset/v7.0/supervised/lug-ach/test.lug\n",
            "dataset/train.lug -> v7-dataset/v7.0/supervised/lug-ach/train.lug\n",
            "dataset/val.lug -> v7-dataset/v7.0/supervised/lug-ach/val.lug\n",
            "dataset/test.ach -> v7-dataset/v7.0/supervised/lug-ach/test.ach\n",
            "dataset/train.ach -> v7-dataset/v7.0/supervised/lug-ach/train.ach\n",
            "dataset/val.ach -> v7-dataset/v7.0/supervised/lug-ach/val.ach\n",
            "dataset/test.lug -> v7-dataset/v7.0/supervised/lug-nyn/test.lug\n",
            "dataset/train.lug -> v7-dataset/v7.0/supervised/lug-nyn/train.lug\n",
            "dataset/val.lug -> v7-dataset/v7.0/supervised/lug-nyn/val.lug\n",
            "dataset/test.nyn -> v7-dataset/v7.0/supervised/lug-nyn/test.nyn\n",
            "dataset/train.nyn -> v7-dataset/v7.0/supervised/lug-nyn/train.nyn\n",
            "dataset/val.nyn -> v7-dataset/v7.0/supervised/lug-nyn/val.nyn\n",
            "dataset/test.lug -> v7-dataset/v7.0/supervised/lug-lgg/test.lug\n",
            "dataset/train.lug -> v7-dataset/v7.0/supervised/lug-lgg/train.lug\n",
            "dataset/val.lug -> v7-dataset/v7.0/supervised/lug-lgg/val.lug\n",
            "dataset/test.lgg -> v7-dataset/v7.0/supervised/lug-lgg/test.lgg\n",
            "dataset/train.lgg -> v7-dataset/v7.0/supervised/lug-lgg/train.lgg\n",
            "dataset/val.lgg -> v7-dataset/v7.0/supervised/lug-lgg/val.lgg\n",
            "dataset/test.lug -> v7-dataset/v7.0/supervised/lug-teo/test.lug\n",
            "dataset/train.lug -> v7-dataset/v7.0/supervised/lug-teo/train.lug\n",
            "dataset/val.lug -> v7-dataset/v7.0/supervised/lug-teo/val.lug\n",
            "dataset/test.teo -> v7-dataset/v7.0/supervised/lug-teo/test.teo\n",
            "dataset/train.teo -> v7-dataset/v7.0/supervised/lug-teo/train.teo\n",
            "dataset/val.teo -> v7-dataset/v7.0/supervised/lug-teo/val.teo\n",
            "dataset/test.ach -> v7-dataset/v7.0/supervised/ach-nyn/test.ach\n",
            "dataset/train.ach -> v7-dataset/v7.0/supervised/ach-nyn/train.ach\n",
            "dataset/val.ach -> v7-dataset/v7.0/supervised/ach-nyn/val.ach\n",
            "dataset/test.nyn -> v7-dataset/v7.0/supervised/ach-nyn/test.nyn\n",
            "dataset/train.nyn -> v7-dataset/v7.0/supervised/ach-nyn/train.nyn\n",
            "dataset/val.nyn -> v7-dataset/v7.0/supervised/ach-nyn/val.nyn\n",
            "dataset/test.ach -> v7-dataset/v7.0/supervised/ach-lgg/test.ach\n",
            "dataset/train.ach -> v7-dataset/v7.0/supervised/ach-lgg/train.ach\n",
            "dataset/val.ach -> v7-dataset/v7.0/supervised/ach-lgg/val.ach\n",
            "dataset/test.lgg -> v7-dataset/v7.0/supervised/ach-lgg/test.lgg\n",
            "dataset/train.lgg -> v7-dataset/v7.0/supervised/ach-lgg/train.lgg\n",
            "dataset/val.lgg -> v7-dataset/v7.0/supervised/ach-lgg/val.lgg\n",
            "dataset/test.ach -> v7-dataset/v7.0/supervised/ach-teo/test.ach\n",
            "dataset/train.ach -> v7-dataset/v7.0/supervised/ach-teo/train.ach\n",
            "dataset/val.ach -> v7-dataset/v7.0/supervised/ach-teo/val.ach\n",
            "dataset/test.teo -> v7-dataset/v7.0/supervised/ach-teo/test.teo\n",
            "dataset/train.teo -> v7-dataset/v7.0/supervised/ach-teo/train.teo\n",
            "dataset/val.teo -> v7-dataset/v7.0/supervised/ach-teo/val.teo\n",
            "dataset/test.teo -> v7-dataset/v7.0/supervised/teo-lgg/test.teo\n",
            "dataset/train.teo -> v7-dataset/v7.0/supervised/teo-lgg/train.teo\n",
            "dataset/val.teo -> v7-dataset/v7.0/supervised/teo-lgg/val.teo\n",
            "dataset/test.lgg -> v7-dataset/v7.0/supervised/teo-lgg/test.lgg\n",
            "dataset/train.lgg -> v7-dataset/v7.0/supervised/teo-lgg/train.lgg\n",
            "dataset/val.lgg -> v7-dataset/v7.0/supervised/teo-lgg/val.lgg\n",
            "dataset/test.teo -> v7-dataset/v7.0/supervised/teo-nyn/test.teo\n",
            "dataset/train.teo -> v7-dataset/v7.0/supervised/teo-nyn/train.teo\n",
            "dataset/val.teo -> v7-dataset/v7.0/supervised/teo-nyn/val.teo\n",
            "dataset/test.nyn -> v7-dataset/v7.0/supervised/teo-nyn/test.nyn\n",
            "dataset/train.nyn -> v7-dataset/v7.0/supervised/teo-nyn/train.nyn\n",
            "dataset/val.nyn -> v7-dataset/v7.0/supervised/teo-nyn/val.nyn\n",
            "dataset/test.nyn -> v7-dataset/v7.0/supervised/nyn-lgg/test.nyn\n",
            "dataset/train.nyn -> v7-dataset/v7.0/supervised/nyn-lgg/train.nyn\n",
            "dataset/val.nyn -> v7-dataset/v7.0/supervised/nyn-lgg/val.nyn\n",
            "dataset/test.lgg -> v7-dataset/v7.0/supervised/nyn-lgg/test.lgg\n",
            "dataset/train.lgg -> v7-dataset/v7.0/supervised/nyn-lgg/train.lgg\n",
            "dataset/val.lgg -> v7-dataset/v7.0/supervised/nyn-lgg/val.lgg\n"
          ]
        }
      ],
      "source": [
        "!cp -v dataset/*.{lug,ach} v7-dataset/v7.0/supervised/lug-ach\n",
        "!cp -v dataset/*.{lug,nyn} v7-dataset/v7.0/supervised/lug-nyn\n",
        "!cp -v dataset/*.{lug,lgg} v7-dataset/v7.0/supervised/lug-lgg\n",
        "!cp -v dataset/*.{lug,teo} v7-dataset/v7.0/supervised/lug-teo\n",
        "!cp -v dataset/*.{ach,nyn} v7-dataset/v7.0/supervised/ach-nyn\n",
        "!cp -v dataset/*.{ach,lgg} v7-dataset/v7.0/supervised/ach-lgg\n",
        "!cp -v dataset/*.{ach,teo} v7-dataset/v7.0/supervised/ach-teo\n",
        "!cp -v dataset/*.{teo,lgg} v7-dataset/v7.0/supervised/teo-lgg\n",
        "!cp -v dataset/*.{teo,nyn} v7-dataset/v7.0/supervised/teo-nyn\n",
        "!cp -v dataset/*.{nyn,lgg} v7-dataset/v7.0/supervised/nyn-lgg"
      ]
    }
  ],
  "metadata": {
    "colab": {
      "name": "sunbird-dataset.ipynb",
      "provenance": []
    },
    "interpreter": {
      "hash": "b0fa6594d8f4cbf19f97940f81e996739fb7646882a419484c72d19e05852a7e"
    },
    "kernelspec": {
      "display_name": "Python 3.9.6 64-bit",
      "name": "python3"
    },
    "language_info": {
      "codemirror_mode": {
        "name": "ipython",
        "version": 3
      },
      "file_extension": ".py",
      "mimetype": "text/x-python",
      "name": "python",
      "nbconvert_exporter": "python",
      "pygments_lexer": "ipython3",
      "version": "3.9.6"
    }
  },
  "nbformat": 4,
  "nbformat_minor": 0
}
