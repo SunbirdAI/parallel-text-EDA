{
 "cells": [
  {
   "cell_type": "markdown",
   "metadata": {},
   "source": [
    "### Create JSON language data - v1.0\n",
    "For the first 60K parallel language dataset from Mak-AI"
   ]
  },
  {
   "cell_type": "code",
   "execution_count": 13,
   "metadata": {},
   "outputs": [
    {
     "data": {
      "text/plain": [
       "'0.25.1'"
      ]
     },
     "execution_count": 13,
     "metadata": {},
     "output_type": "execute_result"
    }
   ],
   "source": [
    "import pandas as pd\n",
    "import json\n",
    "import pprint\n",
    "\n",
    "pd.__version__"
   ]
  },
  {
   "cell_type": "code",
   "execution_count": 2,
   "metadata": {},
   "outputs": [],
   "source": [
    "# Read in csv file exported from provided spreadsheet document\n",
    "# provided by Mak-AI\n",
    "\n",
    "csvdata = pd.read_csv('Sunbird-dataset-Final.csv')"
   ]
  },
  {
   "cell_type": "code",
   "execution_count": 3,
   "metadata": {},
   "outputs": [
    {
     "data": {
      "text/html": [
       "<div>\n",
       "<style scoped>\n",
       "    .dataframe tbody tr th:only-of-type {\n",
       "        vertical-align: middle;\n",
       "    }\n",
       "\n",
       "    .dataframe tbody tr th {\n",
       "        vertical-align: top;\n",
       "    }\n",
       "\n",
       "    .dataframe thead th {\n",
       "        text-align: right;\n",
       "    }\n",
       "</style>\n",
       "<table border=\"1\" class=\"dataframe\">\n",
       "  <thead>\n",
       "    <tr style=\"text-align: right;\">\n",
       "      <th></th>\n",
       "      <th>English</th>\n",
       "      <th>Luganda</th>\n",
       "      <th>Runyankore</th>\n",
       "      <th>Acholi</th>\n",
       "      <th>Ateso</th>\n",
       "      <th>Lugbara</th>\n",
       "    </tr>\n",
       "  </thead>\n",
       "  <tbody>\n",
       "    <tr>\n",
       "      <td>0</td>\n",
       "      <td>Eggplants always grow best under warm conditions.</td>\n",
       "      <td>Bbiringanya lubeerera  asinga kukulira mu mbee...</td>\n",
       "      <td>Entonga buriijo zikurira omu mbeera y'obwire e...</td>\n",
       "      <td>Bilinyanya pol kare dongo maber ka lyeto tye</td>\n",
       "      <td>Epoloi ebirinyanyi ojok apakio nu emwanar akwap.</td>\n",
       "      <td>Birinyanya eyi zo kililiru ndeni angu driza ma...</td>\n",
       "    </tr>\n",
       "    <tr>\n",
       "      <td>1</td>\n",
       "      <td>Farmland is sometimes a challenge to farmers.</td>\n",
       "      <td>Ettaka ly'okulimirako n'okulundirako ebiseera ...</td>\n",
       "      <td>Eitaka ry'okuhingamu, obumwe n'obumwe nirireet...</td>\n",
       "      <td>Ngom me pur i kare mukene obedo peko madit bot...</td>\n",
       "      <td>Akiro nu alupok nes erai ationis kanejaas akoriok</td>\n",
       "      <td>Amvu ma angu eri sa'wa azini 'diyisi 'ba amvu ...</td>\n",
       "    </tr>\n",
       "    <tr>\n",
       "      <td>2</td>\n",
       "      <td>Farmers should be encouraged to grow more coffee.</td>\n",
       "      <td>Abalimi balina okukubirizibwa okwongera okulim...</td>\n",
       "      <td>Abahingi bashemereire kuhigwa bongyere okuhing...</td>\n",
       "      <td>Lupur omyero ki konygi wek nong miti me puru m...</td>\n",
       "      <td>Ekot aisinyikokit akoriok akoru emwanyi loepol</td>\n",
       "      <td>Le 'ba ma fe 'ba amvu 'yapi 'diyini ava kawa '...</td>\n",
       "    </tr>\n",
       "    <tr>\n",
       "      <td>3</td>\n",
       "      <td>Uganda is focusing on farming.</td>\n",
       "      <td>Uganda essira eritadde ku bulimi.</td>\n",
       "      <td>Uganda eteire amaani aha buhingi n'oburiisa.</td>\n",
       "      <td>Uganda tye ka keme ki lok me pur</td>\n",
       "      <td>Uganda nes ejai akiro nu akoru.</td>\n",
       "      <td>Kari Uganda niri eri asi'baza be amvu 'yaza ma...</td>\n",
       "    </tr>\n",
       "    <tr>\n",
       "      <td>4</td>\n",
       "      <td>Some plants die due to lack of sunlight.</td>\n",
       "      <td>Ebimera ebimu bifa olw'ebbula ly'omusana.</td>\n",
       "      <td>Ebihingwa ebimwe nibyoma ahabw'okubura omushana.</td>\n",
       "      <td>jami apita mukene too woko pien pe ginongo cen...</td>\n",
       "      <td>Icie ikorion etwakete naarai emamei akolong.</td>\n",
       "      <td>Ori azi 'diyi odra te ituka ma akosi.</td>\n",
       "    </tr>\n",
       "  </tbody>\n",
       "</table>\n",
       "</div>"
      ],
      "text/plain": [
       "                                             English  \\\n",
       "0  Eggplants always grow best under warm conditions.   \n",
       "1      Farmland is sometimes a challenge to farmers.   \n",
       "2  Farmers should be encouraged to grow more coffee.   \n",
       "3                     Uganda is focusing on farming.   \n",
       "4           Some plants die due to lack of sunlight.   \n",
       "\n",
       "                                             Luganda  \\\n",
       "0  Bbiringanya lubeerera  asinga kukulira mu mbee...   \n",
       "1  Ettaka ly'okulimirako n'okulundirako ebiseera ...   \n",
       "2  Abalimi balina okukubirizibwa okwongera okulim...   \n",
       "3                  Uganda essira eritadde ku bulimi.   \n",
       "4          Ebimera ebimu bifa olw'ebbula ly'omusana.   \n",
       "\n",
       "                                          Runyankore  \\\n",
       "0  Entonga buriijo zikurira omu mbeera y'obwire e...   \n",
       "1  Eitaka ry'okuhingamu, obumwe n'obumwe nirireet...   \n",
       "2  Abahingi bashemereire kuhigwa bongyere okuhing...   \n",
       "3       Uganda eteire amaani aha buhingi n'oburiisa.   \n",
       "4   Ebihingwa ebimwe nibyoma ahabw'okubura omushana.   \n",
       "\n",
       "                                              Acholi  \\\n",
       "0       Bilinyanya pol kare dongo maber ka lyeto tye   \n",
       "1  Ngom me pur i kare mukene obedo peko madit bot...   \n",
       "2  Lupur omyero ki konygi wek nong miti me puru m...   \n",
       "3                   Uganda tye ka keme ki lok me pur   \n",
       "4  jami apita mukene too woko pien pe ginongo cen...   \n",
       "\n",
       "                                               Ateso  \\\n",
       "0   Epoloi ebirinyanyi ojok apakio nu emwanar akwap.   \n",
       "1  Akiro nu alupok nes erai ationis kanejaas akoriok   \n",
       "2     Ekot aisinyikokit akoriok akoru emwanyi loepol   \n",
       "3                    Uganda nes ejai akiro nu akoru.   \n",
       "4       Icie ikorion etwakete naarai emamei akolong.   \n",
       "\n",
       "                                             Lugbara  \n",
       "0  Birinyanya eyi zo kililiru ndeni angu driza ma...  \n",
       "1  Amvu ma angu eri sa'wa azini 'diyisi 'ba amvu ...  \n",
       "2  Le 'ba ma fe 'ba amvu 'yapi 'diyini ava kawa '...  \n",
       "3  Kari Uganda niri eri asi'baza be amvu 'yaza ma...  \n",
       "4              Ori azi 'diyi odra te ituka ma akosi.  "
      ]
     },
     "execution_count": 3,
     "metadata": {},
     "output_type": "execute_result"
    }
   ],
   "source": [
    "csvdata.head()"
   ]
  },
  {
   "cell_type": "code",
   "execution_count": 4,
   "metadata": {},
   "outputs": [],
   "source": [
    "# Use smaller dataset for quick testing\n",
    "smallcsvdata = csvdata.head(20)"
   ]
  },
  {
   "cell_type": "code",
   "execution_count": 5,
   "metadata": {},
   "outputs": [],
   "source": [
    "smallcsvdata.to_json('trial_lang_no_index_lines.json', 'records', lines=True)"
   ]
  },
  {
   "cell_type": "code",
   "execution_count": 7,
   "metadata": {},
   "outputs": [],
   "source": [
    "# Convert larger file\n",
    "csvdata.to_json('sunbird-ug-lang-v1.0.jsonl', orient='records', lines=True)"
   ]
  },
  {
   "cell_type": "markdown",
   "metadata": {},
   "source": [
    "## Reading data in"
   ]
  },
  {
   "cell_type": "code",
   "execution_count": 6,
   "metadata": {},
   "outputs": [],
   "source": [
    "data = []\n",
    "\n",
    "with open('trial_lang_no_index_lines.json', 'r') as languagefile:\n",
    "    for line in languagefile:\n",
    "        data.append(line)"
   ]
  },
  {
   "cell_type": "code",
   "execution_count": 12,
   "metadata": {},
   "outputs": [
    {
     "name": "stdout",
     "output_type": "stream",
     "text": [
      "['{\"English\":\"Eggplants always grow best under warm '\n",
      " 'conditions.\",\"Luganda\":\"Bbiringanya lubeerera  asinga kukulira mu mbeera ya '\n",
      " 'bugumu\",\"Runyankore\":\"Entonga buriijo zikurira omu mbeera y\\'obwire '\n",
      " 'erikutagata\",\"Acholi\":\"Bilinyanya pol kare dongo maber ka lyeto '\n",
      " 'tye\",\"Ateso\":\"Epoloi ebirinyanyi ojok apakio nu emwanar '\n",
      " 'akwap.\",\"Lugbara\":\"Birinyanya eyi zo kililiru ndeni angu driza ma alia.\"}\\n',\n",
      " '{\"English\":\"Farmland is sometimes a challenge to farmers.\",\"Luganda\":\"Ettaka '\n",
      " \"ly'okulimirako n'okulundirako ebiseera ebimu kisoomooza \"\n",
      " 'abalimi\",\"Runyankore\":\"Eitaka ry\\'okuhingamu, obumwe n\\'obumwe nirireetera '\n",
      " 'abahingi oburemeezi.\",\"Acholi\":\"Ngom me pur i kare mukene obedo peko madit '\n",
      " 'bot lupur\",\"Ateso\":\"Akiro nu alupok nes erai ationis kanejaas '\n",
      " 'akoriok\",\"Lugbara\":\"Amvu ma angu eri sa\\'wa azini \\'diyisi \\'ba amvu \\'yapi '\n",
      " '\\'diyi dri ewaru.\"}\\n',\n",
      " '{\"English\":\"Farmers should be encouraged to grow more '\n",
      " 'coffee.\",\"Luganda\":\"Abalimi balina okukubirizibwa okwongera okulima '\n",
      " 'emmwanyi\",\"Runyankore\":\"Abahingi bashemereire kuhigwa bongyere okuhinga '\n",
      " 'omwani .\",\"Acholi\":\"Lupur omyero ki konygi wek nong miti me puru '\n",
      " 'mwanyi\",\"Ateso\":\"Ekot aisinyikokit akoriok akoru emwanyi '\n",
      " 'loepol\",\"Lugbara\":\"Le \\'ba ma fe \\'ba amvu \\'yapi \\'diyini ava kawa \\'yazu '\n",
      " 'drile.\"}\\n']\n"
     ]
    }
   ],
   "source": [
    "pprint.pprint(data[:3])"
   ]
  }
 ],
 "metadata": {
  "kernelspec": {
   "display_name": "Python 3",
   "language": "python",
   "name": "python3"
  },
  "language_info": {
   "codemirror_mode": {
    "name": "ipython",
    "version": 3
   },
   "file_extension": ".py",
   "mimetype": "text/x-python",
   "name": "python",
   "nbconvert_exporter": "python",
   "pygments_lexer": "ipython3",
   "version": "3.7.4"
  }
 },
 "nbformat": 4,
 "nbformat_minor": 2
}
