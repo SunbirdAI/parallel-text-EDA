{
 "cells": [
  {
   "cell_type": "code",
   "execution_count": 7,
   "source": [
    "import pandas as pd"
   ],
   "outputs": [],
   "metadata": {}
  },
  {
   "cell_type": "code",
   "execution_count": 8,
   "source": [
    "df = pd.read_excel(\"Sunbird_Phase_II_set_September_1.xlsx\")\n",
    "df.shape"
   ],
   "outputs": [
    {
     "output_type": "execute_result",
     "data": {
      "text/plain": [
       "(3500, 6)"
      ]
     },
     "metadata": {},
     "execution_count": 8
    }
   ],
   "metadata": {}
  },
  {
   "cell_type": "code",
   "execution_count": 9,
   "source": [
    "df.head()"
   ],
   "outputs": [
    {
     "output_type": "execute_result",
     "data": {
      "text/html": [
       "<div>\n",
       "<style scoped>\n",
       "    .dataframe tbody tr th:only-of-type {\n",
       "        vertical-align: middle;\n",
       "    }\n",
       "\n",
       "    .dataframe tbody tr th {\n",
       "        vertical-align: top;\n",
       "    }\n",
       "\n",
       "    .dataframe thead th {\n",
       "        text-align: right;\n",
       "    }\n",
       "</style>\n",
       "<table border=\"1\" class=\"dataframe\">\n",
       "  <thead>\n",
       "    <tr style=\"text-align: right;\">\n",
       "      <th></th>\n",
       "      <th>English</th>\n",
       "      <th>Luganda</th>\n",
       "      <th>Runyankore</th>\n",
       "      <th>Ateso</th>\n",
       "      <th>Lugbara</th>\n",
       "      <th>Acholi</th>\n",
       "    </tr>\n",
       "  </thead>\n",
       "  <tbody>\n",
       "    <tr>\n",
       "      <th>0</th>\n",
       "      <td>He is the new ambassador to China.</td>\n",
       "      <td>Ye mubaka omupya mu China.</td>\n",
       "      <td>Niwe omujwekyerwa omutsya omuri China.</td>\n",
       "      <td>Erai ngesi abwoikiniton loitetet loka akwap na...</td>\n",
       "      <td>Eri ojio o'di Chinaari'i</td>\n",
       "      <td>En obedo lacungo dwar pi lobo China</td>\n",
       "    </tr>\n",
       "    <tr>\n",
       "      <th>1</th>\n",
       "      <td>She told her brother to mind his business.</td>\n",
       "      <td>Yagamba mwannyina affe ku bimukwatako.</td>\n",
       "      <td>Akagambira munyaanya we kwafa aha mirimo ye.</td>\n",
       "      <td>Abungesi kolimok ngesi apodokinit nuke.</td>\n",
       "      <td>Eri 'yo kini i ma adri ma fe dri e'yo erini 'd...</td>\n",
       "      <td>En owaco bot ominne ni omak ma okemme.</td>\n",
       "    </tr>\n",
       "    <tr>\n",
       "      <th>2</th>\n",
       "      <td>The organisation donated clothes to children i...</td>\n",
       "      <td>Ekibiina kyawa engoye abaana b'omu maka ago ag...</td>\n",
       "      <td>Ekitongore kiheerizeyo ebiconco by'eby'okujwa...</td>\n",
       "      <td>Abu atukot ngin kokorak igoen mama ejaasi idwe...</td>\n",
       "      <td>Amuti nderi fe bongo anzi nyiri aku ta mbazani...</td>\n",
       "      <td>Dul man gupoko bongi bot lutino ma gitye I gan...</td>\n",
       "    </tr>\n",
       "    <tr>\n",
       "      <th>3</th>\n",
       "      <td>Currently, most people in Uganda have mobile p...</td>\n",
       "      <td>Mu kiseera kino abantu abasinga obungi mu Ugan...</td>\n",
       "      <td>Obwire obu, abantu abaingi omuri Uganda baine ...</td>\n",
       "      <td>Apakio nu, itunga luipu koUganda ejaasi keda i...</td>\n",
       "      <td>Sawa 'disi, 'ba pari Ugandaa 'diyi vu simu dri...</td>\n",
       "      <td>I kareni, pol pa dano me Uganda gitye ki cim c...</td>\n",
       "    </tr>\n",
       "    <tr>\n",
       "      <th>4</th>\n",
       "      <td>His whole family died in a house fire.</td>\n",
       "      <td>Ab'omu maka ge bonna baafiira mu muliro ogwayo...</td>\n",
       "      <td>Eka ye yoona ekafeera omu muriro gw'enju.</td>\n",
       "      <td>Abu ekaleke kotwana kotoma akim nacwei etogo.</td>\n",
       "      <td>Familia erini 'diyi odra dria jo aci alia.</td>\n",
       "      <td>Luode ducu gutum i mac ma owango ot.</td>\n",
       "    </tr>\n",
       "  </tbody>\n",
       "</table>\n",
       "</div>"
      ],
      "text/plain": [
       "                                             English  \\\n",
       "0                 He is the new ambassador to China.   \n",
       "1         She told her brother to mind his business.   \n",
       "2  The organisation donated clothes to children i...   \n",
       "3  Currently, most people in Uganda have mobile p...   \n",
       "4             His whole family died in a house fire.   \n",
       "\n",
       "                                             Luganda  \\\n",
       "0                         Ye mubaka omupya mu China.   \n",
       "1             Yagamba mwannyina affe ku bimukwatako.   \n",
       "2  Ekibiina kyawa engoye abaana b'omu maka ago ag...   \n",
       "3  Mu kiseera kino abantu abasinga obungi mu Ugan...   \n",
       "4  Ab'omu maka ge bonna baafiira mu muliro ogwayo...   \n",
       "\n",
       "                                          Runyankore  \\\n",
       "0             Niwe omujwekyerwa omutsya omuri China.   \n",
       "1      Akagambira munyaanya we kwafa aha mirimo ye.    \n",
       "2   Ekitongore kiheerizeyo ebiconco by'eby'okujwa...   \n",
       "3  Obwire obu, abantu abaingi omuri Uganda baine ...   \n",
       "4          Eka ye yoona ekafeera omu muriro gw'enju.   \n",
       "\n",
       "                                               Ateso  \\\n",
       "0  Erai ngesi abwoikiniton loitetet loka akwap na...   \n",
       "1            Abungesi kolimok ngesi apodokinit nuke.   \n",
       "2  Abu atukot ngin kokorak igoen mama ejaasi idwe...   \n",
       "3  Apakio nu, itunga luipu koUganda ejaasi keda i...   \n",
       "4      Abu ekaleke kotwana kotoma akim nacwei etogo.   \n",
       "\n",
       "                                             Lugbara  \\\n",
       "0                           Eri ojio o'di Chinaari'i   \n",
       "1  Eri 'yo kini i ma adri ma fe dri e'yo erini 'd...   \n",
       "2  Amuti nderi fe bongo anzi nyiri aku ta mbazani...   \n",
       "3  Sawa 'disi, 'ba pari Ugandaa 'diyi vu simu dri...   \n",
       "4         Familia erini 'diyi odra dria jo aci alia.   \n",
       "\n",
       "                                              Acholi  \n",
       "0                En obedo lacungo dwar pi lobo China  \n",
       "1             En owaco bot ominne ni omak ma okemme.  \n",
       "2  Dul man gupoko bongi bot lutino ma gitye I gan...  \n",
       "3  I kareni, pol pa dano me Uganda gitye ki cim c...  \n",
       "4               Luode ducu gutum i mac ma owango ot.  "
      ]
     },
     "metadata": {},
     "execution_count": 9
    }
   ],
   "metadata": {}
  },
  {
   "cell_type": "code",
   "execution_count": 14,
   "source": [
    "df.isnull().sum()"
   ],
   "outputs": [
    {
     "output_type": "execute_result",
     "data": {
      "text/plain": [
       "English       0\n",
       "Luganda       0\n",
       "Runyankore    0\n",
       "Ateso         0\n",
       "Lugbara       0\n",
       "Acholi        0\n",
       "dtype: int64"
      ]
     },
     "metadata": {},
     "execution_count": 14
    }
   ],
   "metadata": {}
  }
 ],
 "metadata": {
  "orig_nbformat": 4,
  "language_info": {
   "name": "python",
   "version": "3.9.6",
   "mimetype": "text/x-python",
   "codemirror_mode": {
    "name": "ipython",
    "version": 3
   },
   "pygments_lexer": "ipython3",
   "nbconvert_exporter": "python",
   "file_extension": ".py"
  },
  "kernelspec": {
   "name": "python3",
   "display_name": "Python 3.9.6 64-bit"
  },
  "interpreter": {
   "hash": "b0fa6594d8f4cbf19f97940f81e996739fb7646882a419484c72d19e05852a7e"
  }
 },
 "nbformat": 4,
 "nbformat_minor": 2
}