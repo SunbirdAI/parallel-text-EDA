{
  "cells": [
    {
      "cell_type": "markdown",
      "metadata": {},
      "source": [
        "# Compilation of training dataset for Sunbird language models"
      ]
    },
    {
      "cell_type": "code",
      "execution_count": 2,
      "metadata": {},
      "outputs": [],
      "source": [
        "import gdown\n",
        "import pandas as pd\n",
        "from decouple import config\n",
        "from sklearn.model_selection import train_test_split"
      ]
    },
    {
      "cell_type": "markdown",
      "metadata": {},
      "source": [
        "## Download data"
      ]
    },
    {
      "cell_type": "code",
      "execution_count": 3,
      "metadata": {
        "colab": {
          "base_uri": "https://localhost:8080/"
        },
        "id": "XjyMCIyXMqby",
        "outputId": "9a6b8196-db1d-467d-cea1-358a02c1a86b"
      },
      "outputs": [
        {
          "name": "stderr",
          "output_type": "stream",
          "text": [
            "Downloading...\n",
            "From: https://drive.google.com/uc?id=1vRJsiBvySr9GKcqJr_kXW1hRbg_qIEPW\n",
            "To: /Users/lydia/Desktop/sunbird/nlp-eda/sunbird-ug-lang-v4.0.jsonl\n",
            "100%|██████████| 9.10M/9.10M [00:05<00:00, 1.66MB/s]\n"
          ]
        },
        {
          "data": {
            "text/plain": [
              "'sunbird-ug-lang-v4.0.jsonl'"
            ]
          },
          "execution_count": 3,
          "metadata": {},
          "output_type": "execute_result"
        }
      ],
      "source": [
        "id = config(\"RESOURCE_ID\")\n",
        "url = f\"https://drive.google.com/uc?id={id}\"\n",
        "gdown.download(url)"
      ]
    },
    {
      "cell_type": "code",
      "execution_count": 4,
      "metadata": {
        "id": "oH39MPDcM0yi"
      },
      "outputs": [],
      "source": [
        "data = pd.read_json(\"sunbird-ug-lang-v4.0.jsonl\", lines=True)"
      ]
    },
    {
      "cell_type": "markdown",
      "metadata": {},
      "source": [
        "## Split data into train, test and validation sets"
      ]
    },
    {
      "cell_type": "code",
      "execution_count": 5,
      "metadata": {
        "id": "2qsiV1p_M_Pi"
      },
      "outputs": [],
      "source": [
        "train_df, test_df = train_test_split(data, test_size=0.33, random_state=42)"
      ]
    },
    {
      "cell_type": "code",
      "execution_count": 6,
      "metadata": {
        "colab": {
          "base_uri": "https://localhost:8080/"
        },
        "id": "tMUFpFJqNknc",
        "outputId": "ff0aa255-25a2-4d26-c180-9103f5f75915"
      },
      "outputs": [
        {
          "data": {
            "text/plain": [
              "(14409, 6)"
            ]
          },
          "execution_count": 6,
          "metadata": {},
          "output_type": "execute_result"
        }
      ],
      "source": [
        "train_df.shape"
      ]
    },
    {
      "cell_type": "code",
      "execution_count": 7,
      "metadata": {
        "colab": {
          "base_uri": "https://localhost:8080/"
        },
        "id": "Z4230D7OPuIO",
        "outputId": "33e47e1d-8fdf-4a9f-c8b1-70784468293a"
      },
      "outputs": [
        {
          "data": {
            "text/plain": [
              "(7098, 6)"
            ]
          },
          "execution_count": 7,
          "metadata": {},
          "output_type": "execute_result"
        }
      ],
      "source": [
        "test_df.shape"
      ]
    },
    {
      "cell_type": "code",
      "execution_count": 8,
      "metadata": {
        "id": "HUqes6FyPxju"
      },
      "outputs": [],
      "source": [
        "test_df, val_df = train_test_split(test_df, test_size=0.5, random_state=42)"
      ]
    },
    {
      "cell_type": "code",
      "execution_count": 9,
      "metadata": {
        "colab": {
          "base_uri": "https://localhost:8080/"
        },
        "id": "b90pziBoQBnI",
        "outputId": "264863ce-c9e6-4931-dc42-40f30bc4bec1"
      },
      "outputs": [
        {
          "data": {
            "text/plain": [
              "(3549, 6)"
            ]
          },
          "execution_count": 9,
          "metadata": {},
          "output_type": "execute_result"
        }
      ],
      "source": [
        "val_df.shape"
      ]
    },
    {
      "cell_type": "code",
      "execution_count": 10,
      "metadata": {
        "colab": {
          "base_uri": "https://localhost:8080/"
        },
        "id": "kLdoRWyEQE7Y",
        "outputId": "23847bff-c69b-4861-8452-5ec29127ede1"
      },
      "outputs": [
        {
          "data": {
            "text/plain": [
              "(3549, 6)"
            ]
          },
          "execution_count": 10,
          "metadata": {},
          "output_type": "execute_result"
        }
      ],
      "source": [
        "test_df.shape"
      ]
    },
    {
      "cell_type": "markdown",
      "metadata": {
        "id": "ou79-f3sQRKm"
      },
      "source": [
        "## Create the training texts"
      ]
    },
    {
      "cell_type": "code",
      "execution_count": 12,
      "metadata": {},
      "outputs": [],
      "source": [
        "language_list = list(data.columns)\n",
        "language_codes = {\n",
        "    \"English\": \"en\", \"Luganda\": \"lug\", \"Runyankole\": \"run\", \n",
        "    \"Acholi\": \"ach\", \"Ateso\": \"teo\", \"Lugbara\": \"lgg\"\n",
        "}"
      ]
    },
    {
      "cell_type": "code",
      "execution_count": 13,
      "metadata": {},
      "outputs": [],
      "source": [
        "pairs = [\"en-lug\", \"en-run\", \"en-ach\", \"en-teo\", \"en-lgg\"]"
      ]
    },
    {
      "cell_type": "code",
      "execution_count": 14,
      "metadata": {},
      "outputs": [],
      "source": [
        "for language in language_list:\n",
        "    train_df[language].to_csv(f\"train.{language_codes[language]}\", header=False, index=False, sep='\\t', mode='a')\n",
        "    test_df[language].to_csv(f\"test.{language_codes[language]}\", header=False, index=False, sep='\\t', mode='a')\n",
        "    val_df[language].to_csv(f\"val.{language_codes[language]}\", header=False, index=False, sep='\\t', mode='a')"
      ]
    },
    {
      "cell_type": "markdown",
      "metadata": {},
      "source": [
        "## Create dataset folder and add dataset files"
      ]
    },
    {
      "cell_type": "code",
      "execution_count": 15,
      "metadata": {
        "id": "Unf7OAJzTCcv"
      },
      "outputs": [
        {
          "name": "stdout",
          "output_type": "stream",
          "text": [
            "mkdir: dataset: File exists\n"
          ]
        }
      ],
      "source": [
        "!mkdir dataset"
      ]
    },
    {
      "cell_type": "code",
      "execution_count": 16,
      "metadata": {
        "id": "wizOH70tTHQY"
      },
      "outputs": [],
      "source": [
        "!mv {*.en,*.lug,*.run,*.ach,*.teo,*.lgg} dataset"
      ]
    },
    {
      "cell_type": "code",
      "execution_count": 17,
      "metadata": {
        "colab": {
          "base_uri": "https://localhost:8080/"
        },
        "id": "AQf528eBUPzt",
        "outputId": "30962705-4e1d-4ecc-a974-6310dc8d543d"
      },
      "outputs": [
        {
          "name": "stdout",
          "output_type": "stream",
          "text": [
            "test.ach  test.lug  train.ach train.lug val.ach   val.lug\n",
            "test.en   test.run  train.en  train.run val.en    val.run\n",
            "test.lgg  test.teo  train.lgg train.teo val.lgg   val.teo\n"
          ]
        }
      ],
      "source": [
        "!ls dataset/"
      ]
    },
    {
      "cell_type": "markdown",
      "metadata": {},
      "source": [
        "## Update dataset folder structure and create archive"
      ]
    },
    {
      "cell_type": "code",
      "execution_count": 29,
      "metadata": {},
      "outputs": [],
      "source": [
        "!mkdir -p v5-dataset/v5.0/supervised/\n",
        "!mkdir v5-dataset/v5.0/supervised/en-lug\n",
        "!mkdir v5-dataset/v5.0/supervised/en-ach\n",
        "!mkdir v5-dataset/v5.0/supervised/en-run\n",
        "!mkdir v5-dataset/v5.0/supervised/en-lgg\n",
        "!mkdir v5-dataset/v5.0/supervised/en-teo"
      ]
    },
    {
      "cell_type": "code",
      "execution_count": 32,
      "metadata": {},
      "outputs": [
        {
          "name": "stdout",
          "output_type": "stream",
          "text": [
            "dataset/test.en -> v5-dataset/v5.0/supervised/en-lug/test.en\n",
            "dataset/train.en -> v5-dataset/v5.0/supervised/en-lug/train.en\n",
            "dataset/val.en -> v5-dataset/v5.0/supervised/en-lug/val.en\n",
            "dataset/test.lug -> v5-dataset/v5.0/supervised/en-lug/test.lug\n",
            "dataset/train.lug -> v5-dataset/v5.0/supervised/en-lug/train.lug\n",
            "dataset/val.lug -> v5-dataset/v5.0/supervised/en-lug/val.lug\n",
            "dataset/test.en -> v5-dataset/v5.0/supervised/en-ach/test.en\n",
            "dataset/train.en -> v5-dataset/v5.0/supervised/en-ach/train.en\n",
            "dataset/val.en -> v5-dataset/v5.0/supervised/en-ach/val.en\n",
            "dataset/test.ach -> v5-dataset/v5.0/supervised/en-ach/test.ach\n",
            "dataset/train.ach -> v5-dataset/v5.0/supervised/en-ach/train.ach\n",
            "dataset/val.ach -> v5-dataset/v5.0/supervised/en-ach/val.ach\n",
            "dataset/test.en -> v5-dataset/v5.0/supervised/en-run/test.en\n",
            "dataset/train.en -> v5-dataset/v5.0/supervised/en-run/train.en\n",
            "dataset/val.en -> v5-dataset/v5.0/supervised/en-run/val.en\n",
            "dataset/test.run -> v5-dataset/v5.0/supervised/en-run/test.run\n",
            "dataset/train.run -> v5-dataset/v5.0/supervised/en-run/train.run\n",
            "dataset/val.run -> v5-dataset/v5.0/supervised/en-run/val.run\n",
            "dataset/test.en -> v5-dataset/v5.0/supervised/en-lgg/test.en\n",
            "dataset/train.en -> v5-dataset/v5.0/supervised/en-lgg/train.en\n",
            "dataset/val.en -> v5-dataset/v5.0/supervised/en-lgg/val.en\n",
            "dataset/test.lgg -> v5-dataset/v5.0/supervised/en-lgg/test.lgg\n",
            "dataset/train.lgg -> v5-dataset/v5.0/supervised/en-lgg/train.lgg\n",
            "dataset/val.lgg -> v5-dataset/v5.0/supervised/en-lgg/val.lgg\n",
            "dataset/test.en -> v5-dataset/v5.0/supervised/en-teo/test.en\n",
            "dataset/train.en -> v5-dataset/v5.0/supervised/en-teo/train.en\n",
            "dataset/val.en -> v5-dataset/v5.0/supervised/en-teo/val.en\n",
            "dataset/test.teo -> v5-dataset/v5.0/supervised/en-teo/test.teo\n",
            "dataset/train.teo -> v5-dataset/v5.0/supervised/en-teo/train.teo\n",
            "dataset/val.teo -> v5-dataset/v5.0/supervised/en-teo/val.teo\n"
          ]
        }
      ],
      "source": [
        "!cp -v dataset/*.{en,lug} v5-dataset/v5.0/supervised/en-lug\n",
        "!cp -v dataset/*.{en,ach} v5-dataset/v5.0/supervised/en-ach\n",
        "!cp -v dataset/*.{en,run} v5-dataset/v5.0/supervised/en-run\n",
        "!cp -v dataset/*.{en,lgg} v5-dataset/v5.0/supervised/en-lgg\n",
        "!cp -v dataset/*.{en,teo} v5-dataset/v5.0/supervised/en-teo"
      ]
    },
    {
      "cell_type": "code",
      "execution_count": 33,
      "metadata": {
        "colab": {
          "base_uri": "https://localhost:8080/"
        },
        "id": "4bHn8YxIU2sb",
        "outputId": "4f7cd71b-40ca-4d34-e58c-1f04739b6246"
      },
      "outputs": [
        {
          "name": "stdout",
          "output_type": "stream",
          "text": [
            "  adding: v5-dataset/ (stored 0%)\n",
            "  adding: v5-dataset/v5.0/ (stored 0%)\n",
            "  adding: v5-dataset/v5.0/supervised/ (stored 0%)\n",
            "  adding: v5-dataset/v5.0/supervised/en-run/ (stored 0%)\n",
            "  adding: v5-dataset/v5.0/supervised/en-run/test.run (deflated 65%)\n",
            "  adding: v5-dataset/v5.0/supervised/en-run/val.run (deflated 64%)\n",
            "  adding: v5-dataset/v5.0/supervised/en-run/train.en (deflated 64%)\n",
            "  adding: v5-dataset/v5.0/supervised/en-run/val.en (deflated 63%)\n",
            "  adding: v5-dataset/v5.0/supervised/en-run/train.run (deflated 65%)\n",
            "  adding: v5-dataset/v5.0/supervised/en-run/test.en (deflated 63%)\n",
            "  adding: v5-dataset/v5.0/supervised/en-teo/ (stored 0%)\n",
            "  adding: v5-dataset/v5.0/supervised/en-teo/val.teo (deflated 66%)\n",
            "  adding: v5-dataset/v5.0/supervised/en-teo/test.teo (deflated 66%)\n",
            "  adding: v5-dataset/v5.0/supervised/en-teo/train.en (deflated 64%)\n",
            "  adding: v5-dataset/v5.0/supervised/en-teo/val.en (deflated 63%)\n",
            "  adding: v5-dataset/v5.0/supervised/en-teo/test.en (deflated 63%)\n",
            "  adding: v5-dataset/v5.0/supervised/en-teo/train.teo (deflated 67%)\n",
            "  adding: v5-dataset/v5.0/supervised/en-lgg/ (stored 0%)\n",
            "  adding: v5-dataset/v5.0/supervised/en-lgg/train.lgg (deflated 66%)\n",
            "  adding: v5-dataset/v5.0/supervised/en-lgg/train.en (deflated 64%)\n",
            "  adding: v5-dataset/v5.0/supervised/en-lgg/val.en (deflated 63%)\n",
            "  adding: v5-dataset/v5.0/supervised/en-lgg/test.lgg (deflated 65%)\n",
            "  adding: v5-dataset/v5.0/supervised/en-lgg/test.en (deflated 63%)\n",
            "  adding: v5-dataset/v5.0/supervised/en-lgg/val.lgg (deflated 65%)\n",
            "  adding: v5-dataset/v5.0/supervised/en-lug/ (stored 0%)\n",
            "  adding: v5-dataset/v5.0/supervised/en-lug/train.lug (deflated 66%)\n",
            "  adding: v5-dataset/v5.0/supervised/en-lug/train.en (deflated 64%)\n",
            "  adding: v5-dataset/v5.0/supervised/en-lug/val.lug (deflated 65%)\n",
            "  adding: v5-dataset/v5.0/supervised/en-lug/val.en (deflated 63%)\n",
            "  adding: v5-dataset/v5.0/supervised/en-lug/test.lug (deflated 65%)\n",
            "  adding: v5-dataset/v5.0/supervised/en-lug/test.en (deflated 63%)\n",
            "  adding: v5-dataset/v5.0/supervised/en-ach/ (stored 0%)\n",
            "  adding: v5-dataset/v5.0/supervised/en-ach/train.ach (deflated 63%)\n",
            "  adding: v5-dataset/v5.0/supervised/en-ach/train.en (deflated 64%)\n",
            "  adding: v5-dataset/v5.0/supervised/en-ach/val.en (deflated 63%)\n",
            "  adding: v5-dataset/v5.0/supervised/en-ach/val.ach (deflated 63%)\n",
            "  adding: v5-dataset/v5.0/supervised/en-ach/test.ach (deflated 63%)\n",
            "  adding: v5-dataset/v5.0/supervised/en-ach/test.en (deflated 63%)\n"
          ]
        }
      ],
      "source": [
        "!zip -r dataset-v5.zip v5-dataset/"
      ]
    }
  ],
  "metadata": {
    "colab": {
      "name": "sunbird-dataset.ipynb",
      "provenance": []
    },
    "interpreter": {
      "hash": "b0fa6594d8f4cbf19f97940f81e996739fb7646882a419484c72d19e05852a7e"
    },
    "kernelspec": {
      "display_name": "Python 3.9.6 64-bit",
      "name": "python3"
    },
    "language_info": {
      "codemirror_mode": {
        "name": "ipython",
        "version": 3
      },
      "file_extension": ".py",
      "mimetype": "text/x-python",
      "name": "python",
      "nbconvert_exporter": "python",
      "pygments_lexer": "ipython3",
      "version": "3.9.6"
    }
  },
  "nbformat": 4,
  "nbformat_minor": 0
}
