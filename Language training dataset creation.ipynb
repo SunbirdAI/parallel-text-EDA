{
  "cells": [
    {
      "cell_type": "markdown",
      "metadata": {},
      "source": [
        "# Compilation of training dataset for Sunbird language models"
      ]
    },
    {
      "cell_type": "code",
      "execution_count": 1,
      "metadata": {},
      "outputs": [],
      "source": [
        "import gdown\n",
        "import pandas as pd\n",
        "from decouple import config\n",
        "from sklearn.model_selection import train_test_split"
      ]
    },
    {
      "cell_type": "markdown",
      "metadata": {},
      "source": [
        "## Download data"
      ]
    },
    {
      "cell_type": "code",
      "execution_count": 2,
      "metadata": {
        "colab": {
          "base_uri": "https://localhost:8080/"
        },
        "id": "XjyMCIyXMqby",
        "outputId": "9a6b8196-db1d-467d-cea1-358a02c1a86b"
      },
      "outputs": [
        {
          "name": "stderr",
          "output_type": "stream",
          "text": [
            "Downloading...\n",
            "From: https://drive.google.com/uc?id=1vRJsiBvySr9GKcqJr_kXW1hRbg_qIEPW\n",
            "To: /Users/lydia/Desktop/sunbird/nlp-eda/sunbird-ug-lang-v4.0.jsonl\n",
            "100%|██████████| 9.10M/9.10M [00:03<00:00, 2.64MB/s]\n"
          ]
        },
        {
          "data": {
            "text/plain": [
              "'sunbird-ug-lang-v4.0.jsonl'"
            ]
          },
          "execution_count": 2,
          "metadata": {},
          "output_type": "execute_result"
        }
      ],
      "source": [
        "id = config(\"RESOURCE_ID\")\n",
        "url = f\"https://drive.google.com/uc?id={id}\"\n",
        "gdown.download(url)"
      ]
    },
    {
      "cell_type": "code",
      "execution_count": 3,
      "metadata": {
        "id": "oH39MPDcM0yi"
      },
      "outputs": [],
      "source": [
        "data = pd.read_json(\"sunbird-ug-lang-v4.0.jsonl\", lines=True)"
      ]
    },
    {
      "cell_type": "markdown",
      "metadata": {},
      "source": [
        "## Split data into train, test and validation sets"
      ]
    },
    {
      "cell_type": "code",
      "execution_count": 4,
      "metadata": {
        "id": "2qsiV1p_M_Pi"
      },
      "outputs": [],
      "source": [
        "train_df, test_df = train_test_split(data, test_size=0.33, random_state=42)"
      ]
    },
    {
      "cell_type": "code",
      "execution_count": 5,
      "metadata": {
        "colab": {
          "base_uri": "https://localhost:8080/"
        },
        "id": "tMUFpFJqNknc",
        "outputId": "ff0aa255-25a2-4d26-c180-9103f5f75915"
      },
      "outputs": [
        {
          "data": {
            "text/plain": [
              "(14409, 6)"
            ]
          },
          "execution_count": 5,
          "metadata": {},
          "output_type": "execute_result"
        }
      ],
      "source": [
        "train_df.shape"
      ]
    },
    {
      "cell_type": "code",
      "execution_count": 6,
      "metadata": {
        "colab": {
          "base_uri": "https://localhost:8080/"
        },
        "id": "Z4230D7OPuIO",
        "outputId": "33e47e1d-8fdf-4a9f-c8b1-70784468293a"
      },
      "outputs": [
        {
          "data": {
            "text/plain": [
              "(7098, 6)"
            ]
          },
          "execution_count": 6,
          "metadata": {},
          "output_type": "execute_result"
        }
      ],
      "source": [
        "test_df.shape"
      ]
    },
    {
      "cell_type": "code",
      "execution_count": 7,
      "metadata": {
        "id": "HUqes6FyPxju"
      },
      "outputs": [],
      "source": [
        "test_df, val_df = train_test_split(test_df, test_size=0.5, random_state=42)"
      ]
    },
    {
      "cell_type": "code",
      "execution_count": 8,
      "metadata": {
        "colab": {
          "base_uri": "https://localhost:8080/"
        },
        "id": "b90pziBoQBnI",
        "outputId": "264863ce-c9e6-4931-dc42-40f30bc4bec1"
      },
      "outputs": [
        {
          "data": {
            "text/plain": [
              "(3549, 6)"
            ]
          },
          "execution_count": 8,
          "metadata": {},
          "output_type": "execute_result"
        }
      ],
      "source": [
        "val_df.shape"
      ]
    },
    {
      "cell_type": "code",
      "execution_count": 9,
      "metadata": {
        "colab": {
          "base_uri": "https://localhost:8080/"
        },
        "id": "kLdoRWyEQE7Y",
        "outputId": "23847bff-c69b-4861-8452-5ec29127ede1"
      },
      "outputs": [
        {
          "data": {
            "text/plain": [
              "(3549, 6)"
            ]
          },
          "execution_count": 9,
          "metadata": {},
          "output_type": "execute_result"
        }
      ],
      "source": [
        "test_df.shape"
      ]
    },
    {
      "cell_type": "markdown",
      "metadata": {
        "id": "ou79-f3sQRKm"
      },
      "source": [
        "## Create the training texts"
      ]
    },
    {
      "cell_type": "code",
      "execution_count": 10,
      "metadata": {},
      "outputs": [],
      "source": [
        "language_list = list(data.columns)\n",
        "language_codes = {\n",
        "    \"English\": \"en\", \"Luganda\": \"lug\", \"Runyankole\": \"run\", \n",
        "    \"Acholi\": \"ach\", \"Ateso\": \"teo\", \"Lugbara\": \"lgg\"\n",
        "}"
      ]
    },
    {
      "cell_type": "code",
      "execution_count": 11,
      "metadata": {},
      "outputs": [],
      "source": [
        "pairs = [\"en-lug\", \"en-run\", \"en-ach\", \"en-teo\", \"en-lgg\"]"
      ]
    },
    {
      "cell_type": "code",
      "execution_count": 12,
      "metadata": {},
      "outputs": [],
      "source": [
        "for language in language_list:\n",
        "    train_df[language].to_csv(f\"train.{language_codes[language]}\", header=False, index=False, sep='\\t', mode='a')\n",
        "    test_df[language].to_csv(f\"test.{language_codes[language]}\", header=False, index=False, sep='\\t', mode='a')\n",
        "    val_df[language].to_csv(f\"val.{language_codes[language]}\", header=False, index=False, sep='\\t', mode='a')"
      ]
    },
    {
      "cell_type": "markdown",
      "metadata": {},
      "source": [
        "## Create dataset folder and add dataset files"
      ]
    },
    {
      "cell_type": "code",
      "execution_count": 13,
      "metadata": {
        "id": "Unf7OAJzTCcv"
      },
      "outputs": [
        {
          "name": "stdout",
          "output_type": "stream",
          "text": [
            "mkdir: dataset: File exists\n"
          ]
        }
      ],
      "source": [
        "!mkdir dataset"
      ]
    },
    {
      "cell_type": "code",
      "execution_count": 14,
      "metadata": {
        "id": "wizOH70tTHQY"
      },
      "outputs": [],
      "source": [
        "!mv {*.en,*.lug,*.run,*.ach,*.teo,*.lgg} dataset"
      ]
    },
    {
      "cell_type": "code",
      "execution_count": 18,
      "metadata": {
        "colab": {
          "base_uri": "https://localhost:8080/"
        },
        "id": "AQf528eBUPzt",
        "outputId": "30962705-4e1d-4ecc-a974-6310dc8d543d"
      },
      "outputs": [
        {
          "name": "stdout",
          "output_type": "stream",
          "text": [
            "test.ach  test.lug  train.ach train.lug val.ach   val.lug\n",
            "test.en   test.run  train.en  train.run val.en    val.run\n",
            "test.lgg  test.teo  train.lgg train.teo val.lgg   val.teo\n"
          ]
        }
      ],
      "source": [
        "!ls dataset/"
      ]
    },
    {
      "cell_type": "markdown",
      "metadata": {},
      "source": [
        "## Update dataset folder structure and create archive"
      ]
    },
    {
      "cell_type": "code",
      "execution_count": 16,
      "metadata": {
        "colab": {
          "base_uri": "https://localhost:8080/"
        },
        "id": "aTghrcK9USyU",
        "outputId": "3be51c00-6465-4fd1-e74a-10b15c52adc4"
      },
      "outputs": [
        {
          "name": "stdout",
          "output_type": "stream",
          "text": [
            "a dataset\n",
            "a dataset/train.ach\n",
            "a dataset/train.lug\n",
            "a dataset/test.run\n",
            "a dataset/train.lgg\n",
            "a dataset/val.run\n",
            "a dataset/val.teo\n",
            "a dataset/test.teo\n",
            "a dataset/train.en\n",
            "a dataset/val.lug\n",
            "a dataset/val.en\n",
            "a dataset/val.ach\n",
            "a dataset/test.ach\n",
            "a dataset/test.lug\n",
            "a dataset/test.lgg\n",
            "a dataset/train.run\n",
            "a dataset/test.en\n",
            "a dataset/val.lgg\n",
            "a dataset/train.teo\n"
          ]
        }
      ],
      "source": [
        "!tar -czvf dataset-v4.tar dataset "
      ]
    },
    {
      "cell_type": "code",
      "execution_count": 17,
      "metadata": {
        "colab": {
          "base_uri": "https://localhost:8080/"
        },
        "id": "4bHn8YxIU2sb",
        "outputId": "4f7cd71b-40ca-4d34-e58c-1f04739b6246"
      },
      "outputs": [
        {
          "name": "stdout",
          "output_type": "stream",
          "text": [
            "  adding: dataset/ (stored 0%)\n",
            "  adding: dataset/train.ach (deflated 63%)\n",
            "  adding: dataset/train.lug (deflated 66%)\n",
            "  adding: dataset/test.run (deflated 65%)\n",
            "  adding: dataset/train.lgg (deflated 66%)\n",
            "  adding: dataset/val.run (deflated 64%)\n",
            "  adding: dataset/val.teo (deflated 66%)\n",
            "  adding: dataset/test.teo (deflated 66%)\n",
            "  adding: dataset/train.en (deflated 64%)\n",
            "  adding: dataset/val.lug (deflated 65%)\n",
            "  adding: dataset/val.en (deflated 63%)\n",
            "  adding: dataset/val.ach (deflated 63%)\n",
            "  adding: dataset/test.ach (deflated 63%)\n",
            "  adding: dataset/test.lug (deflated 65%)\n",
            "  adding: dataset/test.lgg (deflated 65%)\n",
            "  adding: dataset/train.run (deflated 65%)\n",
            "  adding: dataset/test.en (deflated 63%)\n",
            "  adding: dataset/val.lgg (deflated 65%)\n",
            "  adding: dataset/train.teo (deflated 67%)\n"
          ]
        }
      ],
      "source": [
        "!zip -r dataset-v4.zip dataset/"
      ]
    }
  ],
  "metadata": {
    "colab": {
      "name": "sunbird-dataset.ipynb",
      "provenance": []
    },
    "interpreter": {
      "hash": "b0fa6594d8f4cbf19f97940f81e996739fb7646882a419484c72d19e05852a7e"
    },
    "kernelspec": {
      "display_name": "Python 3.9.6 64-bit",
      "name": "python3"
    },
    "language_info": {
      "codemirror_mode": {
        "name": "ipython",
        "version": 3
      },
      "file_extension": ".py",
      "mimetype": "text/x-python",
      "name": "python",
      "nbconvert_exporter": "python",
      "pygments_lexer": "ipython3",
      "version": "3.9.6"
    }
  },
  "nbformat": 4,
  "nbformat_minor": 0
}
