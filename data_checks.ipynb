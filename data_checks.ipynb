{
 "cells": [
  {
   "cell_type": "markdown",
   "source": [
    "## Data checks on NLP parallel text (Phase II)"
   ],
   "metadata": {}
  },
  {
   "cell_type": "code",
   "execution_count": 61,
   "source": [
    "import pandas as pd"
   ],
   "outputs": [],
   "metadata": {}
  },
  {
   "cell_type": "code",
   "execution_count": 62,
   "source": [
    "df1 = pd.read_excel(\"Sunbird-dataset-Final.xlsx\")\n",
    "df1.shape\n"
   ],
   "outputs": [
    {
     "output_type": "execute_result",
     "data": {
      "text/plain": [
       "(10000, 6)"
      ]
     },
     "metadata": {},
     "execution_count": 62
    }
   ],
   "metadata": {}
  },
  {
   "cell_type": "code",
   "execution_count": 63,
   "source": [
    "df2 = pd.read_excel(\"Sunbird_phase_II_set_one.xlsx\")\n",
    "df2.shape"
   ],
   "outputs": [
    {
     "output_type": "execute_result",
     "data": {
      "text/plain": [
       "(5008, 6)"
      ]
     },
     "metadata": {},
     "execution_count": 63
    }
   ],
   "metadata": {}
  },
  {
   "cell_type": "code",
   "execution_count": 64,
   "source": [
    "df3 = pd.read_excel(\"Sunbird_Phase_II_set_August.xlsx\")\n",
    "df3.shape"
   ],
   "outputs": [
    {
     "output_type": "execute_result",
     "data": {
      "text/plain": [
       "(3001, 6)"
      ]
     },
     "metadata": {},
     "execution_count": 64
    }
   ],
   "metadata": {}
  },
  {
   "cell_type": "code",
   "execution_count": 65,
   "source": [
    "print(f\"{df1.columns}\\n{df2.columns}\\n{df3.columns}\")"
   ],
   "outputs": [
    {
     "output_type": "stream",
     "name": "stdout",
     "text": [
      "Index(['English', 'Luganda', 'Runyankore', 'Acholi', 'Ateso', 'Lugbara'], dtype='object')\n",
      "Index(['English', 'Luganda', 'Runyankole', 'Lugbara', 'Ateso', 'Acholi'], dtype='object')\n",
      "Index(['ENGLISH', 'LUGANDA', 'RUNYANKOLE', 'ATESO', 'LUGBARA', 'ACHOLI'], dtype='object')\n"
     ]
    }
   ],
   "metadata": {}
  },
  {
   "cell_type": "code",
   "execution_count": 67,
   "source": [
    "df3.columns = [col.title() for col in df3.columns]\n",
    "print(f\"{df1.columns}\\n{df2.columns}\\n{df3.columns}\")"
   ],
   "outputs": [
    {
     "output_type": "stream",
     "name": "stdout",
     "text": [
      "Index(['English', 'Luganda', 'Runyankore', 'Acholi', 'Ateso', 'Lugbara'], dtype='object')\n",
      "Index(['English', 'Luganda', 'Runyankole', 'Lugbara', 'Ateso', 'Acholi'], dtype='object')\n",
      "Index(['English', 'Luganda', 'Runyankole', 'Ateso', 'Lugbara', 'Acholi'], dtype='object')\n"
     ]
    }
   ],
   "metadata": {}
  },
  {
   "cell_type": "code",
   "execution_count": 69,
   "source": [
    "df1.rename(columns={\"Runyankore\": \"Runyankole\"}, inplace=True)\n",
    "df1.columns"
   ],
   "outputs": [
    {
     "output_type": "execute_result",
     "data": {
      "text/plain": [
       "Index(['English', 'Luganda', 'Runyankole', 'Acholi', 'Ateso', 'Lugbara'], dtype='object')"
      ]
     },
     "metadata": {},
     "execution_count": 69
    }
   ],
   "metadata": {}
  },
  {
   "cell_type": "code",
   "execution_count": 71,
   "source": [
    "df2 = df2.reindex(columns=list(df1.columns))\n",
    "df2.columns"
   ],
   "outputs": [
    {
     "output_type": "execute_result",
     "data": {
      "text/plain": [
       "Index(['English', 'Luganda', 'Runyankole', 'Acholi', 'Ateso', 'Lugbara'], dtype='object')"
      ]
     },
     "metadata": {},
     "execution_count": 71
    }
   ],
   "metadata": {}
  },
  {
   "cell_type": "code",
   "execution_count": 72,
   "source": [
    "df3 = df3.reindex(columns=list(df1.columns))\n",
    "df3.columns"
   ],
   "outputs": [
    {
     "output_type": "execute_result",
     "data": {
      "text/plain": [
       "Index(['English', 'Luganda', 'Runyankole', 'Acholi', 'Ateso', 'Lugbara'], dtype='object')"
      ]
     },
     "metadata": {},
     "execution_count": 72
    }
   ],
   "metadata": {}
  },
  {
   "cell_type": "code",
   "execution_count": 73,
   "source": [
    "print(f\"{df1.columns}\\n{df2.columns}\\n{df3.columns}\")"
   ],
   "outputs": [
    {
     "output_type": "stream",
     "name": "stdout",
     "text": [
      "Index(['English', 'Luganda', 'Runyankole', 'Acholi', 'Ateso', 'Lugbara'], dtype='object')\n",
      "Index(['English', 'Luganda', 'Runyankole', 'Acholi', 'Ateso', 'Lugbara'], dtype='object')\n",
      "Index(['English', 'Luganda', 'Runyankole', 'Acholi', 'Ateso', 'Lugbara'], dtype='object')\n"
     ]
    }
   ],
   "metadata": {}
  },
  {
   "cell_type": "code",
   "execution_count": 76,
   "source": [
    "df2.head(5)"
   ],
   "outputs": [
    {
     "output_type": "execute_result",
     "data": {
      "text/html": [
       "<div>\n",
       "<style scoped>\n",
       "    .dataframe tbody tr th:only-of-type {\n",
       "        vertical-align: middle;\n",
       "    }\n",
       "\n",
       "    .dataframe tbody tr th {\n",
       "        vertical-align: top;\n",
       "    }\n",
       "\n",
       "    .dataframe thead th {\n",
       "        text-align: right;\n",
       "    }\n",
       "</style>\n",
       "<table border=\"1\" class=\"dataframe\">\n",
       "  <thead>\n",
       "    <tr style=\"text-align: right;\">\n",
       "      <th></th>\n",
       "      <th>English</th>\n",
       "      <th>Luganda</th>\n",
       "      <th>Runyankole</th>\n",
       "      <th>Acholi</th>\n",
       "      <th>Ateso</th>\n",
       "      <th>Lugbara</th>\n",
       "    </tr>\n",
       "  </thead>\n",
       "  <tbody>\n",
       "    <tr>\n",
       "      <th>0</th>\n",
       "      <td>It is important to sensitize the community aga...</td>\n",
       "      <td>Kikulu okubangula abantu ku kabi akali mu kulw...</td>\n",
       "      <td>N'ekyomugasho Okumanyitsa abantu b'ekyanga aha...</td>\n",
       "      <td>Pire tek me pwonyo lwak wek gulweny I kom buya...</td>\n",
       "      <td>Erai ibore yenepol noi aitejenikin itunga aron...</td>\n",
       "      <td>Eri kililiru 'ba yi imbazu e'yo ngirngirini ku...</td>\n",
       "    </tr>\n",
       "    <tr>\n",
       "      <th>1</th>\n",
       "      <td>They need to observe the sabbath day.</td>\n",
       "      <td>Balina okukwata olunaku lwa ssabbiiti.</td>\n",
       "      <td>Abantu beine okutwara eizooba rya sabiiti nk'e...</td>\n",
       "      <td>Myero wawor nino me Sabato.</td>\n",
       "      <td>Inumunumete kesi aparaan naka sabato.</td>\n",
       "      <td>Le yi ma inzi o'du sabato niri</td>\n",
       "    </tr>\n",
       "    <tr>\n",
       "      <th>2</th>\n",
       "      <td>They have not been paid like other regular sol...</td>\n",
       "      <td>Tebasasuddwa bulungi ng'abasirikale abalala wa...</td>\n",
       "      <td>Tibashashwire nk'amahe agandi oihireho obuhere...</td>\n",
       "      <td>Pud pe giculo-gi marom-aroma ki mony mukene ma...</td>\n",
       "      <td>Mam kesi etacitos isirikaalei ice karaida iswa...</td>\n",
       "      <td>Ba ofeni yi ekile asikari azini 'diyi le ku, y...</td>\n",
       "    </tr>\n",
       "    <tr>\n",
       "      <th>3</th>\n",
       "      <td>They are not considered for loans yet other so...</td>\n",
       "      <td>Tebaweebwa mabanja wadde nga bo abasirikale ab...</td>\n",
       "      <td>Tibarikubateekateekwaho kweguuza sente kandi a...</td>\n",
       "      <td>Pe kitingo ni guporre me nongo/gamo den kun mo...</td>\n",
       "      <td>Mam ecamakinitai kesi aijaun ilonin konye koca...</td>\n",
       "      <td>Ba feni yi dri mari ku, de isu 'ba fe asikari ...</td>\n",
       "    </tr>\n",
       "    <tr>\n",
       "      <th>4</th>\n",
       "      <td>Their only vehicle was not replaced last year.</td>\n",
       "      <td>Emmotoka emu yokka gye baalina tebaagizzaawo o...</td>\n",
       "      <td>Emootoka yaabo emwe t'eragarwirweho omwaka ogu...</td>\n",
       "      <td>Motokagi acel keken pe gileyo mwaka mukato.</td>\n",
       "      <td>Mam aponi kisiesai ekecemotoka ediope bon koka...</td>\n",
       "      <td>Ba awini mutukari ci yi vileri oja eli ajeria ku</td>\n",
       "    </tr>\n",
       "  </tbody>\n",
       "</table>\n",
       "</div>"
      ],
      "text/plain": [
       "                                             English  \\\n",
       "0  It is important to sensitize the community aga...   \n",
       "1              They need to observe the sabbath day.   \n",
       "2  They have not been paid like other regular sol...   \n",
       "3  They are not considered for loans yet other so...   \n",
       "4     Their only vehicle was not replaced last year.   \n",
       "\n",
       "                                             Luganda  \\\n",
       "0  Kikulu okubangula abantu ku kabi akali mu kulw...   \n",
       "1             Balina okukwata olunaku lwa ssabbiiti.   \n",
       "2  Tebasasuddwa bulungi ng'abasirikale abalala wa...   \n",
       "3  Tebaweebwa mabanja wadde nga bo abasirikale ab...   \n",
       "4  Emmotoka emu yokka gye baalina tebaagizzaawo o...   \n",
       "\n",
       "                                          Runyankole  \\\n",
       "0  N'ekyomugasho Okumanyitsa abantu b'ekyanga aha...   \n",
       "1  Abantu beine okutwara eizooba rya sabiiti nk'e...   \n",
       "2  Tibashashwire nk'amahe agandi oihireho obuhere...   \n",
       "3  Tibarikubateekateekwaho kweguuza sente kandi a...   \n",
       "4  Emootoka yaabo emwe t'eragarwirweho omwaka ogu...   \n",
       "\n",
       "                                              Acholi  \\\n",
       "0  Pire tek me pwonyo lwak wek gulweny I kom buya...   \n",
       "1                        Myero wawor nino me Sabato.   \n",
       "2  Pud pe giculo-gi marom-aroma ki mony mukene ma...   \n",
       "3  Pe kitingo ni guporre me nongo/gamo den kun mo...   \n",
       "4        Motokagi acel keken pe gileyo mwaka mukato.   \n",
       "\n",
       "                                               Ateso  \\\n",
       "0  Erai ibore yenepol noi aitejenikin itunga aron...   \n",
       "1              Inumunumete kesi aparaan naka sabato.   \n",
       "2  Mam kesi etacitos isirikaalei ice karaida iswa...   \n",
       "3  Mam ecamakinitai kesi aijaun ilonin konye koca...   \n",
       "4  Mam aponi kisiesai ekecemotoka ediope bon koka...   \n",
       "\n",
       "                                             Lugbara  \n",
       "0  Eri kililiru 'ba yi imbazu e'yo ngirngirini ku...  \n",
       "1                     Le yi ma inzi o'du sabato niri  \n",
       "2  Ba ofeni yi ekile asikari azini 'diyi le ku, y...  \n",
       "3  Ba feni yi dri mari ku, de isu 'ba fe asikari ...  \n",
       "4   Ba awini mutukari ci yi vileri oja eli ajeria ku  "
      ]
     },
     "metadata": {},
     "execution_count": 76
    }
   ],
   "metadata": {}
  },
  {
   "cell_type": "markdown",
   "source": [
    "### Check for missing translations"
   ],
   "metadata": {}
  },
  {
   "cell_type": "code",
   "execution_count": 77,
   "source": [
    "dfs = [df1, df2, df3]\n",
    "for df in dfs:\n",
    "    print(df.isnull().sum())"
   ],
   "outputs": [
    {
     "output_type": "stream",
     "name": "stdout",
     "text": [
      "English       0\n",
      "Luganda       1\n",
      "Runyankole    0\n",
      "Acholi        0\n",
      "Ateso         0\n",
      "Lugbara       1\n",
      "dtype: int64\n",
      "English       0\n",
      "Luganda       0\n",
      "Runyankole    0\n",
      "Acholi        0\n",
      "Ateso         0\n",
      "Lugbara       0\n",
      "dtype: int64\n",
      "English       0\n",
      "Luganda       0\n",
      "Runyankole    0\n",
      "Acholi        0\n",
      "Ateso         0\n",
      "Lugbara       0\n",
      "dtype: int64\n"
     ]
    }
   ],
   "metadata": {}
  },
  {
   "cell_type": "code",
   "execution_count": 78,
   "source": [
    "df1[df1[\"Luganda\"].isnull()]"
   ],
   "outputs": [
    {
     "output_type": "execute_result",
     "data": {
      "text/html": [
       "<div>\n",
       "<style scoped>\n",
       "    .dataframe tbody tr th:only-of-type {\n",
       "        vertical-align: middle;\n",
       "    }\n",
       "\n",
       "    .dataframe tbody tr th {\n",
       "        vertical-align: top;\n",
       "    }\n",
       "\n",
       "    .dataframe thead th {\n",
       "        text-align: right;\n",
       "    }\n",
       "</style>\n",
       "<table border=\"1\" class=\"dataframe\">\n",
       "  <thead>\n",
       "    <tr style=\"text-align: right;\">\n",
       "      <th></th>\n",
       "      <th>English</th>\n",
       "      <th>Luganda</th>\n",
       "      <th>Runyankole</th>\n",
       "      <th>Acholi</th>\n",
       "      <th>Ateso</th>\n",
       "      <th>Lugbara</th>\n",
       "    </tr>\n",
       "  </thead>\n",
       "  <tbody>\n",
       "    <tr>\n",
       "      <th>4000</th>\n",
       "      <td>This disease has the ability to kill every chi...</td>\n",
       "      <td>NaN</td>\n",
       "      <td>Oburwaire obu nibubaasa kwita buri omwe omukya...</td>\n",
       "      <td>Two eni twero neko latin mokeken</td>\n",
       "      <td>Erai adeka na epedori aiyar idio ikoku ocaalo ...</td>\n",
       "      <td>Azo 'di ma okpo anzi nyiri calo 'di ma alea 'd...</td>\n",
       "    </tr>\n",
       "  </tbody>\n",
       "</table>\n",
       "</div>"
      ],
      "text/plain": [
       "                                                English Luganda  \\\n",
       "4000  This disease has the ability to kill every chi...     NaN   \n",
       "\n",
       "                                             Runyankole  \\\n",
       "4000  Oburwaire obu nibubaasa kwita buri omwe omukya...   \n",
       "\n",
       "                                Acholi  \\\n",
       "4000  Two eni twero neko latin mokeken   \n",
       "\n",
       "                                                  Ateso  \\\n",
       "4000  Erai adeka na epedori aiyar idio ikoku ocaalo ...   \n",
       "\n",
       "                                                Lugbara  \n",
       "4000  Azo 'di ma okpo anzi nyiri calo 'di ma alea 'd...  "
      ]
     },
     "metadata": {},
     "execution_count": 78
    }
   ],
   "metadata": {}
  },
  {
   "cell_type": "code",
   "execution_count": 79,
   "source": [
    "df1[df1[\"Lugbara\"].isnull()]"
   ],
   "outputs": [
    {
     "output_type": "execute_result",
     "data": {
      "text/html": [
       "<div>\n",
       "<style scoped>\n",
       "    .dataframe tbody tr th:only-of-type {\n",
       "        vertical-align: middle;\n",
       "    }\n",
       "\n",
       "    .dataframe tbody tr th {\n",
       "        vertical-align: top;\n",
       "    }\n",
       "\n",
       "    .dataframe thead th {\n",
       "        text-align: right;\n",
       "    }\n",
       "</style>\n",
       "<table border=\"1\" class=\"dataframe\">\n",
       "  <thead>\n",
       "    <tr style=\"text-align: right;\">\n",
       "      <th></th>\n",
       "      <th>English</th>\n",
       "      <th>Luganda</th>\n",
       "      <th>Runyankole</th>\n",
       "      <th>Acholi</th>\n",
       "      <th>Ateso</th>\n",
       "      <th>Lugbara</th>\n",
       "    </tr>\n",
       "  </thead>\n",
       "  <tbody>\n",
       "    <tr>\n",
       "      <th>7181</th>\n",
       "      <td>The bureaucratic tendencies within the governm...</td>\n",
       "      <td>Emitendera egiri mu gavumenti giremesezza okut...</td>\n",
       "      <td>Okukuratira ebiragiro okuri omu Gavumenti kure...</td>\n",
       "      <td>Gale iyo me tic pa gamente oweko yub madwong p...</td>\n",
       "      <td>Esimik eswamae loaronon lo ejai apugan ageuno ...</td>\n",
       "      <td>NaN</td>\n",
       "    </tr>\n",
       "  </tbody>\n",
       "</table>\n",
       "</div>"
      ],
      "text/plain": [
       "                                                English  \\\n",
       "7181  The bureaucratic tendencies within the governm...   \n",
       "\n",
       "                                                Luganda  \\\n",
       "7181  Emitendera egiri mu gavumenti giremesezza okut...   \n",
       "\n",
       "                                             Runyankole  \\\n",
       "7181  Okukuratira ebiragiro okuri omu Gavumenti kure...   \n",
       "\n",
       "                                                 Acholi  \\\n",
       "7181  Gale iyo me tic pa gamente oweko yub madwong p...   \n",
       "\n",
       "                                                  Ateso Lugbara  \n",
       "7181  Esimik eswamae loaronon lo ejai apugan ageuno ...     NaN  "
      ]
     },
     "metadata": {},
     "execution_count": 79
    }
   ],
   "metadata": {}
  },
  {
   "cell_type": "code",
   "execution_count": 80,
   "source": [
    "df1.drop(df1[df1[\"Luganda\"].isnull()].index, inplace=True)\n",
    "df1.drop(df1[df1[\"Lugbara\"].isnull()].index, inplace=True)"
   ],
   "outputs": [],
   "metadata": {}
  },
  {
   "cell_type": "code",
   "execution_count": 81,
   "source": [
    "df1.shape"
   ],
   "outputs": [
    {
     "output_type": "execute_result",
     "data": {
      "text/plain": [
       "(9998, 6)"
      ]
     },
     "metadata": {},
     "execution_count": 81
    }
   ],
   "metadata": {}
  },
  {
   "cell_type": "code",
   "execution_count": 82,
   "source": [
    "dfs = [df1, df2, df3]\n",
    "for df in dfs:\n",
    "    print(df.isnull().sum())"
   ],
   "outputs": [
    {
     "output_type": "stream",
     "name": "stdout",
     "text": [
      "English       0\n",
      "Luganda       0\n",
      "Runyankole    0\n",
      "Acholi        0\n",
      "Ateso         0\n",
      "Lugbara       0\n",
      "dtype: int64\n",
      "English       0\n",
      "Luganda       0\n",
      "Runyankole    0\n",
      "Acholi        0\n",
      "Ateso         0\n",
      "Lugbara       0\n",
      "dtype: int64\n",
      "English       0\n",
      "Luganda       0\n",
      "Runyankole    0\n",
      "Acholi        0\n",
      "Ateso         0\n",
      "Lugbara       0\n",
      "dtype: int64\n"
     ]
    }
   ],
   "metadata": {}
  },
  {
   "cell_type": "code",
   "execution_count": 93,
   "source": [
    "df_int = df1.append(df2)\n",
    "df_final = df_int.append(df3)\n",
    "df_final.head()"
   ],
   "outputs": [
    {
     "output_type": "execute_result",
     "data": {
      "text/html": [
       "<div>\n",
       "<style scoped>\n",
       "    .dataframe tbody tr th:only-of-type {\n",
       "        vertical-align: middle;\n",
       "    }\n",
       "\n",
       "    .dataframe tbody tr th {\n",
       "        vertical-align: top;\n",
       "    }\n",
       "\n",
       "    .dataframe thead th {\n",
       "        text-align: right;\n",
       "    }\n",
       "</style>\n",
       "<table border=\"1\" class=\"dataframe\">\n",
       "  <thead>\n",
       "    <tr style=\"text-align: right;\">\n",
       "      <th></th>\n",
       "      <th>English</th>\n",
       "      <th>Luganda</th>\n",
       "      <th>Runyankole</th>\n",
       "      <th>Acholi</th>\n",
       "      <th>Ateso</th>\n",
       "      <th>Lugbara</th>\n",
       "    </tr>\n",
       "  </thead>\n",
       "  <tbody>\n",
       "    <tr>\n",
       "      <th>0</th>\n",
       "      <td>Eggplants always grow best under warm conditions.</td>\n",
       "      <td>Bbiringanya lubeerera  asinga kukulira mu mbee...</td>\n",
       "      <td>Entonga buriijo zikurira omu mbeera y'obwire e...</td>\n",
       "      <td>Bilinyanya pol kare dongo maber ka lyeto tye</td>\n",
       "      <td>Epoloi ebirinyanyi ojok apakio nu emwanar akwap.</td>\n",
       "      <td>Birinyanya eyi zo kililiru ndeni angu driza ma...</td>\n",
       "    </tr>\n",
       "    <tr>\n",
       "      <th>1</th>\n",
       "      <td>Farmland is sometimes a challenge to farmers.</td>\n",
       "      <td>Ettaka ly'okulimirako n'okulundirako ebiseera ...</td>\n",
       "      <td>Eitaka ry'okuhingamu, obumwe n'obumwe nirireet...</td>\n",
       "      <td>Ngom me pur i kare mukene obedo peko madit bot...</td>\n",
       "      <td>Akiro nu alupok nes erai ationis kanejaas akoriok</td>\n",
       "      <td>Amvu ma angu eri sa'wa azini 'diyisi 'ba amvu ...</td>\n",
       "    </tr>\n",
       "    <tr>\n",
       "      <th>2</th>\n",
       "      <td>Farmers should be encouraged to grow more coffee.</td>\n",
       "      <td>Abalimi balina okukubirizibwa okwongera okulim...</td>\n",
       "      <td>Abahingi bashemereire kuhigwa bongyere okuhing...</td>\n",
       "      <td>Lupur omyero ki konygi wek nong miti me puru m...</td>\n",
       "      <td>Ekot aisinyikokit akoriok akoru emwanyi loepol</td>\n",
       "      <td>Le 'ba ma fe 'ba amvu 'yapi 'diyini ava kawa '...</td>\n",
       "    </tr>\n",
       "    <tr>\n",
       "      <th>3</th>\n",
       "      <td>Uganda is focusing on farming.</td>\n",
       "      <td>Uganda essira eritadde ku bulimi.</td>\n",
       "      <td>Uganda eteire amaani aha buhingi n'oburiisa.</td>\n",
       "      <td>Uganda tye ka keme ki lok me pur</td>\n",
       "      <td>Uganda nes ejai akiro nu akoru.</td>\n",
       "      <td>Kari Uganda niri eri asi'baza be amvu 'yaza ma...</td>\n",
       "    </tr>\n",
       "    <tr>\n",
       "      <th>4</th>\n",
       "      <td>Some plants die due to lack of sunlight.</td>\n",
       "      <td>Ebimera ebimu bifa olw'ebbula ly'omusana.</td>\n",
       "      <td>Ebihingwa ebimwe nibyoma ahabw'okubura omushana.</td>\n",
       "      <td>jami apita mukene too woko pien pe ginongo cen...</td>\n",
       "      <td>Icie ikorion etwakete naarai emamei akolong.</td>\n",
       "      <td>Ori azi 'diyi odra te ituka ma akosi.</td>\n",
       "    </tr>\n",
       "  </tbody>\n",
       "</table>\n",
       "</div>"
      ],
      "text/plain": [
       "                                             English  \\\n",
       "0  Eggplants always grow best under warm conditions.   \n",
       "1      Farmland is sometimes a challenge to farmers.   \n",
       "2  Farmers should be encouraged to grow more coffee.   \n",
       "3                     Uganda is focusing on farming.   \n",
       "4           Some plants die due to lack of sunlight.   \n",
       "\n",
       "                                             Luganda  \\\n",
       "0  Bbiringanya lubeerera  asinga kukulira mu mbee...   \n",
       "1  Ettaka ly'okulimirako n'okulundirako ebiseera ...   \n",
       "2  Abalimi balina okukubirizibwa okwongera okulim...   \n",
       "3                  Uganda essira eritadde ku bulimi.   \n",
       "4          Ebimera ebimu bifa olw'ebbula ly'omusana.   \n",
       "\n",
       "                                          Runyankole  \\\n",
       "0  Entonga buriijo zikurira omu mbeera y'obwire e...   \n",
       "1  Eitaka ry'okuhingamu, obumwe n'obumwe nirireet...   \n",
       "2  Abahingi bashemereire kuhigwa bongyere okuhing...   \n",
       "3       Uganda eteire amaani aha buhingi n'oburiisa.   \n",
       "4   Ebihingwa ebimwe nibyoma ahabw'okubura omushana.   \n",
       "\n",
       "                                              Acholi  \\\n",
       "0       Bilinyanya pol kare dongo maber ka lyeto tye   \n",
       "1  Ngom me pur i kare mukene obedo peko madit bot...   \n",
       "2  Lupur omyero ki konygi wek nong miti me puru m...   \n",
       "3                   Uganda tye ka keme ki lok me pur   \n",
       "4  jami apita mukene too woko pien pe ginongo cen...   \n",
       "\n",
       "                                               Ateso  \\\n",
       "0   Epoloi ebirinyanyi ojok apakio nu emwanar akwap.   \n",
       "1  Akiro nu alupok nes erai ationis kanejaas akoriok   \n",
       "2     Ekot aisinyikokit akoriok akoru emwanyi loepol   \n",
       "3                    Uganda nes ejai akiro nu akoru.   \n",
       "4       Icie ikorion etwakete naarai emamei akolong.   \n",
       "\n",
       "                                             Lugbara  \n",
       "0  Birinyanya eyi zo kililiru ndeni angu driza ma...  \n",
       "1  Amvu ma angu eri sa'wa azini 'diyisi 'ba amvu ...  \n",
       "2  Le 'ba ma fe 'ba amvu 'yapi 'diyini ava kawa '...  \n",
       "3  Kari Uganda niri eri asi'baza be amvu 'yaza ma...  \n",
       "4              Ori azi 'diyi odra te ituka ma akosi.  "
      ]
     },
     "metadata": {},
     "execution_count": 93
    }
   ],
   "metadata": {}
  },
  {
   "cell_type": "code",
   "execution_count": 94,
   "source": [
    "df_final.shape"
   ],
   "outputs": [
    {
     "output_type": "execute_result",
     "data": {
      "text/plain": [
       "(18007, 6)"
      ]
     },
     "metadata": {},
     "execution_count": 94
    }
   ],
   "metadata": {}
  },
  {
   "cell_type": "code",
   "execution_count": 95,
   "source": [
    "df_final.columns"
   ],
   "outputs": [
    {
     "output_type": "execute_result",
     "data": {
      "text/plain": [
       "Index(['English', 'Luganda', 'Runyankole', 'Acholi', 'Ateso', 'Lugbara'], dtype='object')"
      ]
     },
     "metadata": {},
     "execution_count": 95
    }
   ],
   "metadata": {}
  },
  {
   "cell_type": "markdown",
   "source": [
    "## Convert to `jsonl` format"
   ],
   "metadata": {}
  },
  {
   "cell_type": "code",
   "execution_count": 92,
   "source": [
    "df_final.to_json('sunbird-ug-lang-v3.0.jsonl', orient='records', lines=True)"
   ],
   "outputs": [],
   "metadata": {}
  }
 ],
 "metadata": {
  "orig_nbformat": 4,
  "language_info": {
   "name": "python",
   "version": "3.9.6",
   "mimetype": "text/x-python",
   "codemirror_mode": {
    "name": "ipython",
    "version": 3
   },
   "pygments_lexer": "ipython3",
   "nbconvert_exporter": "python",
   "file_extension": ".py"
  },
  "kernelspec": {
   "name": "python3",
   "display_name": "Python 3.9.6 64-bit"
  },
  "interpreter": {
   "hash": "b0fa6594d8f4cbf19f97940f81e996739fb7646882a419484c72d19e05852a7e"
  }
 },
 "nbformat": 4,
 "nbformat_minor": 2
}