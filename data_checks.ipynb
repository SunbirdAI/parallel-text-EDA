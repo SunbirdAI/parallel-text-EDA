{
 "cells": [
  {
   "cell_type": "markdown",
   "source": [
    "## Data checks on NLP parallel text (Phase II)"
   ],
   "metadata": {}
  },
  {
   "cell_type": "code",
   "execution_count": 17,
   "source": [
    "import pandas as pd"
   ],
   "outputs": [],
   "metadata": {}
  },
  {
   "cell_type": "code",
   "execution_count": 5,
   "source": [
    "data_df = pd.read_excel(\"Sunbird_phase_II_set_one.xlsx\")\n",
    "data_df.head()"
   ],
   "outputs": [
    {
     "output_type": "execute_result",
     "data": {
      "text/html": [
       "<div>\n",
       "<style scoped>\n",
       "    .dataframe tbody tr th:only-of-type {\n",
       "        vertical-align: middle;\n",
       "    }\n",
       "\n",
       "    .dataframe tbody tr th {\n",
       "        vertical-align: top;\n",
       "    }\n",
       "\n",
       "    .dataframe thead th {\n",
       "        text-align: right;\n",
       "    }\n",
       "</style>\n",
       "<table border=\"1\" class=\"dataframe\">\n",
       "  <thead>\n",
       "    <tr style=\"text-align: right;\">\n",
       "      <th></th>\n",
       "      <th>English</th>\n",
       "      <th>Luganda</th>\n",
       "      <th>Runyankole</th>\n",
       "      <th>Lugbara</th>\n",
       "      <th>Ateso</th>\n",
       "      <th>Acholi</th>\n",
       "    </tr>\n",
       "  </thead>\n",
       "  <tbody>\n",
       "    <tr>\n",
       "      <th>0</th>\n",
       "      <td>It is important to sensitize the community aga...</td>\n",
       "      <td>Kikulu okubangula abantu ku kabi akali mu kulw...</td>\n",
       "      <td>N'ekyomugasho Okumanyitsa abantu b'ekyanga aha...</td>\n",
       "      <td>Eri kililiru 'ba yi imbazu e'yo ngirngirini ku...</td>\n",
       "      <td>Erai ibore yenepol noi aitejenikin itunga aron...</td>\n",
       "      <td>Pire tek me pwonyo lwak wek gulweny I kom buya...</td>\n",
       "    </tr>\n",
       "    <tr>\n",
       "      <th>1</th>\n",
       "      <td>They need to observe the sabbath day.</td>\n",
       "      <td>Balina okukwata olunaku lwa ssabbiiti.</td>\n",
       "      <td>Abantu beine okutwara eizooba rya sabiiti nk'e...</td>\n",
       "      <td>Le yi ma inzi o'du sabato niri</td>\n",
       "      <td>Inumunumete kesi aparaan naka sabato.</td>\n",
       "      <td>Myero wawor nino me Sabato.</td>\n",
       "    </tr>\n",
       "    <tr>\n",
       "      <th>2</th>\n",
       "      <td>They have not been paid like other regular sol...</td>\n",
       "      <td>Tebasasuddwa bulungi ng'abasirikale abalala wa...</td>\n",
       "      <td>Tibashashwire nk'amahe agandi oihireho obuhere...</td>\n",
       "      <td>Ba ofeni yi ekile asikari azini 'diyi le ku, y...</td>\n",
       "      <td>Mam kesi etacitos isirikaalei ice karaida iswa...</td>\n",
       "      <td>Pud pe giculo-gi marom-aroma ki mony mukene ma...</td>\n",
       "    </tr>\n",
       "    <tr>\n",
       "      <th>3</th>\n",
       "      <td>They are not considered for loans yet other so...</td>\n",
       "      <td>Tebaweebwa mabanja wadde nga bo abasirikale ab...</td>\n",
       "      <td>Tibarikubateekateekwaho kweguuza sente kandi a...</td>\n",
       "      <td>Ba feni yi dri mari ku, de isu 'ba fe asikari ...</td>\n",
       "      <td>Mam ecamakinitai kesi aijaun ilonin konye koca...</td>\n",
       "      <td>Pe kitingo ni guporre me nongo/gamo den kun mo...</td>\n",
       "    </tr>\n",
       "    <tr>\n",
       "      <th>4</th>\n",
       "      <td>Their only vehicle was not replaced last year.</td>\n",
       "      <td>Emmotoka emu yokka gye baalina tebaagizzaawo o...</td>\n",
       "      <td>Emootoka yaabo emwe t'eragarwirweho omwaka ogu...</td>\n",
       "      <td>Ba awini mutukari ci yi vileri oja eli ajeria ku</td>\n",
       "      <td>Mam aponi kisiesai ekecemotoka ediope bon koka...</td>\n",
       "      <td>Motokagi acel keken pe gileyo mwaka mukato.</td>\n",
       "    </tr>\n",
       "  </tbody>\n",
       "</table>\n",
       "</div>"
      ],
      "text/plain": [
       "                                             English  \\\n",
       "0  It is important to sensitize the community aga...   \n",
       "1              They need to observe the sabbath day.   \n",
       "2  They have not been paid like other regular sol...   \n",
       "3  They are not considered for loans yet other so...   \n",
       "4     Their only vehicle was not replaced last year.   \n",
       "\n",
       "                                             Luganda  \\\n",
       "0  Kikulu okubangula abantu ku kabi akali mu kulw...   \n",
       "1             Balina okukwata olunaku lwa ssabbiiti.   \n",
       "2  Tebasasuddwa bulungi ng'abasirikale abalala wa...   \n",
       "3  Tebaweebwa mabanja wadde nga bo abasirikale ab...   \n",
       "4  Emmotoka emu yokka gye baalina tebaagizzaawo o...   \n",
       "\n",
       "                                          Runyankole  \\\n",
       "0  N'ekyomugasho Okumanyitsa abantu b'ekyanga aha...   \n",
       "1  Abantu beine okutwara eizooba rya sabiiti nk'e...   \n",
       "2  Tibashashwire nk'amahe agandi oihireho obuhere...   \n",
       "3  Tibarikubateekateekwaho kweguuza sente kandi a...   \n",
       "4  Emootoka yaabo emwe t'eragarwirweho omwaka ogu...   \n",
       "\n",
       "                                             Lugbara  \\\n",
       "0  Eri kililiru 'ba yi imbazu e'yo ngirngirini ku...   \n",
       "1                     Le yi ma inzi o'du sabato niri   \n",
       "2  Ba ofeni yi ekile asikari azini 'diyi le ku, y...   \n",
       "3  Ba feni yi dri mari ku, de isu 'ba fe asikari ...   \n",
       "4   Ba awini mutukari ci yi vileri oja eli ajeria ku   \n",
       "\n",
       "                                               Ateso  \\\n",
       "0  Erai ibore yenepol noi aitejenikin itunga aron...   \n",
       "1              Inumunumete kesi aparaan naka sabato.   \n",
       "2  Mam kesi etacitos isirikaalei ice karaida iswa...   \n",
       "3  Mam ecamakinitai kesi aijaun ilonin konye koca...   \n",
       "4  Mam aponi kisiesai ekecemotoka ediope bon koka...   \n",
       "\n",
       "                                              Acholi  \n",
       "0  Pire tek me pwonyo lwak wek gulweny I kom buya...  \n",
       "1                        Myero wawor nino me Sabato.  \n",
       "2  Pud pe giculo-gi marom-aroma ki mony mukene ma...  \n",
       "3  Pe kitingo ni guporre me nongo/gamo den kun mo...  \n",
       "4        Motokagi acel keken pe gileyo mwaka mukato.  "
      ]
     },
     "metadata": {},
     "execution_count": 5
    }
   ],
   "metadata": {}
  },
  {
   "cell_type": "markdown",
   "source": [
    "### Check for missing translations"
   ],
   "metadata": {}
  },
  {
   "cell_type": "code",
   "execution_count": 22,
   "source": [
    "data_df.isnull().sum()"
   ],
   "outputs": [
    {
     "output_type": "execute_result",
     "data": {
      "text/plain": [
       "English       1\n",
       "Luganda       0\n",
       "Runyankole    0\n",
       "Lugbara       0\n",
       "Ateso         0\n",
       "Acholi        0\n",
       "dtype: int64"
      ]
     },
     "metadata": {},
     "execution_count": 22
    }
   ],
   "metadata": {}
  },
  {
   "cell_type": "code",
   "execution_count": 24,
   "source": [
    "data_df[data_df[\"English\"].isnull()]"
   ],
   "outputs": [
    {
     "output_type": "execute_result",
     "data": {
      "text/html": [
       "<div>\n",
       "<style scoped>\n",
       "    .dataframe tbody tr th:only-of-type {\n",
       "        vertical-align: middle;\n",
       "    }\n",
       "\n",
       "    .dataframe tbody tr th {\n",
       "        vertical-align: top;\n",
       "    }\n",
       "\n",
       "    .dataframe thead th {\n",
       "        text-align: right;\n",
       "    }\n",
       "</style>\n",
       "<table border=\"1\" class=\"dataframe\">\n",
       "  <thead>\n",
       "    <tr style=\"text-align: right;\">\n",
       "      <th></th>\n",
       "      <th>English</th>\n",
       "      <th>Luganda</th>\n",
       "      <th>Runyankole</th>\n",
       "      <th>Lugbara</th>\n",
       "      <th>Ateso</th>\n",
       "      <th>Acholi</th>\n",
       "    </tr>\n",
       "  </thead>\n",
       "  <tbody>\n",
       "    <tr>\n",
       "      <th>3090</th>\n",
       "      <td>NaN</td>\n",
       "      <td>Kaggwa yagalamizibwa ku bijja bya bajjajja be ...</td>\n",
       "      <td>Kaggwa aziikirwe omu maka ga baishenkuru be ag...</td>\n",
       "      <td>Ba sa eri orijo dria, Mpambire, Mpigi district-a.</td>\n",
       "      <td>Aponi kidaikinai Kaggwa ocalokec ko Mpigi.</td>\n",
       "      <td>Kikano kom Kaggwa I kabedo me yweyo ne I tugi ...</td>\n",
       "    </tr>\n",
       "  </tbody>\n",
       "</table>\n",
       "</div>"
      ],
      "text/plain": [
       "     English                                            Luganda  \\\n",
       "3090     NaN  Kaggwa yagalamizibwa ku bijja bya bajjajja be ...   \n",
       "\n",
       "                                             Runyankole  \\\n",
       "3090  Kaggwa aziikirwe omu maka ga baishenkuru be ag...   \n",
       "\n",
       "                                                Lugbara  \\\n",
       "3090  Ba sa eri orijo dria, Mpambire, Mpigi district-a.   \n",
       "\n",
       "                                           Ateso  \\\n",
       "3090  Aponi kidaikinai Kaggwa ocalokec ko Mpigi.   \n",
       "\n",
       "                                                 Acholi  \n",
       "3090  Kikano kom Kaggwa I kabedo me yweyo ne I tugi ...  "
      ]
     },
     "metadata": {},
     "execution_count": 24
    }
   ],
   "metadata": {}
  }
 ],
 "metadata": {
  "orig_nbformat": 4,
  "language_info": {
   "name": "python",
   "version": "3.9.6",
   "mimetype": "text/x-python",
   "codemirror_mode": {
    "name": "ipython",
    "version": 3
   },
   "pygments_lexer": "ipython3",
   "nbconvert_exporter": "python",
   "file_extension": ".py"
  },
  "kernelspec": {
   "name": "python3",
   "display_name": "Python 3.9.6 64-bit"
  },
  "interpreter": {
   "hash": "b0fa6594d8f4cbf19f97940f81e996739fb7646882a419484c72d19e05852a7e"
  }
 },
 "nbformat": 4,
 "nbformat_minor": 2
}