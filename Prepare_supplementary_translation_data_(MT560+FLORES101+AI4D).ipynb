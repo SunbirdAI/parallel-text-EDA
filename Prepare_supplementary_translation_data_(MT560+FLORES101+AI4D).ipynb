{
  "nbformat": 4,
  "nbformat_minor": 0,
  "metadata": {
    "colab": {
      "provenance": [],
      "authorship_tag": "ABX9TyMwvnwQD9IQgg+UrHXLMZW8",
      "include_colab_link": true
    },
    "kernelspec": {
      "name": "python3",
      "display_name": "Python 3"
    },
    "language_info": {
      "name": "python"
    }
  },
  "cells": [
    {
      "cell_type": "markdown",
      "metadata": {
        "id": "view-in-github",
        "colab_type": "text"
      },
      "source": [
        "<a href=\"https://colab.research.google.com/github/SunbirdAI/parallel-text-EDA/blob/main/Prepare_supplementary_translation_data_(MT560%2BFLORES101%2BAI4D).ipynb\" target=\"_parent\"><img src=\"https://colab.research.google.com/assets/colab-badge.svg\" alt=\"Open In Colab\"/></a>"
      ]
    },
    {
      "cell_type": "code",
      "metadata": {
        "id": "A4zDnR45o1gf"
      },
      "source": [
        "from google.colab import drive\n",
        "import gzip\n",
        "import io\n",
        "from IPython import display\n",
        "import numpy as np\n",
        "import pandas as pd\n",
        "import tqdm\n",
        "\n",
        "!pip install sacremoses\n",
        "import sacremoses\n",
        "display.clear_output()"
      ],
      "execution_count": null,
      "outputs": []
    },
    {
      "cell_type": "markdown",
      "metadata": {
        "id": "YQF4tEMh5_5u"
      },
      "source": [
        "# Prepare MT560 data\n",
        "\n",
        "This is a big dataset, around 35GB compressed. Only a small part of it is relevant to the languages we are interested in, though. So first we find which lines have language codes  `lug` (Luganda), `ach` (Acholi), or `nyn` (Runyankore)."
      ]
    },
    {
      "cell_type": "code",
      "metadata": {
        "colab": {
          "base_uri": "https://localhost:8080/"
        },
        "id": "ZGy0jDQy5GWy",
        "outputId": "75157706-881f-4f0b-d81d-49b72aa0043b"
      },
      "source": [
        "!wget https://object.pouta.csc.fi/OPUS-MT560/train.v1.lang.gz\n",
        "\n",
        "languages = pd.read_csv('train.v1.lang.gz', engine='c', names=['code'])\n",
        "num_lines = len(languages)\n",
        "\n",
        "language_codes = ['lug', 'ach', 'nyn', 'luo']\n",
        "line_languages = {}\n",
        "for code in language_codes:\n",
        "  lines = np.where(languages.code == code)[0]\n",
        "  for l in lines:\n",
        "    line_languages[l] = code\n",
        "\n",
        "display.clear_output()\n",
        "\n",
        "for code in language_codes:\n",
        "  N = sum(value == code for value in line_languages.values())\n",
        "  print(f'{N} lines of language {code}')"
      ],
      "execution_count": null,
      "outputs": [
        {
          "output_type": "stream",
          "name": "stdout",
          "text": [
            "224749 lines of language lug\n",
            "73172 lines of language ach\n",
            "50379 lines of language nyn\n",
            "136625 lines of language luo\n"
          ]
        }
      ]
    },
    {
      "cell_type": "markdown",
      "metadata": {
        "id": "qIGCHMO6-VRk"
      },
      "source": [
        "If that looks OK, then remove unnecessary files and variables to make space for iterating over the full dataset."
      ]
    },
    {
      "cell_type": "code",
      "metadata": {
        "id": "TFzQb2jL5mN6"
      },
      "source": [
        "del languages\n",
        "!rm train.v1.lang*"
      ],
      "execution_count": null,
      "outputs": []
    },
    {
      "cell_type": "markdown",
      "metadata": {
        "id": "5FM-mTak-yhN"
      },
      "source": [
        "Now retrieve the actual sentences. This should take ~30 minutes to download and ~50 minutes to iterate over."
      ]
    },
    {
      "cell_type": "code",
      "metadata": {
        "id": "SQ-EIiMgs5as"
      },
      "source": [
        "!wget https://object.pouta.csc.fi/OPUS-MT560/train.v1.eng.tok.gz\n",
        "!wget https://object.pouta.csc.fi/OPUS-MT560/train.v1.src.tok.gz\n",
        "display.clear_output()"
      ],
      "execution_count": null,
      "outputs": []
    },
    {
      "cell_type": "code",
      "metadata": {
        "colab": {
          "base_uri": "https://localhost:8080/"
        },
        "id": "H4dVUjeZCLAV",
        "outputId": "086b854a-c8dc-44d5-aea1-a60b92118612"
      },
      "source": [
        "source = []\n",
        "language = []\n",
        "\n",
        "with gzip.open('train.v1.src.tok.gz','r') as f:\n",
        "  for i, line in tqdm.tqdm(enumerate(f), total=num_lines):\n",
        "    if i in line_languages:\n",
        "      source.append(line)\n",
        "      language.append(line_languages[i])"
      ],
      "execution_count": null,
      "outputs": [
        {
          "output_type": "stream",
          "name": "stderr",
          "text": [
            "100%|██████████| 473791770/473791770 [25:59<00:00, 303872.81it/s]\n"
          ]
        }
      ]
    },
    {
      "cell_type": "code",
      "metadata": {
        "colab": {
          "base_uri": "https://localhost:8080/"
        },
        "id": "0JUYems9o0yA",
        "outputId": "8558bc7c-73c3-4e89-f534-ff171d86332c"
      },
      "source": [
        "english = [] \n",
        "\n",
        "with gzip.open('train.v1.eng.tok.gz','r') as f:\n",
        "  for i, line in tqdm.tqdm(enumerate(f), total=num_lines):\n",
        "    if i in line_languages:\n",
        "      english.append(line)"
      ],
      "execution_count": null,
      "outputs": [
        {
          "output_type": "stream",
          "name": "stderr",
          "text": [
            "100%|██████████| 473791770/473791770 [24:08<00:00, 327054.14it/s]\n"
          ]
        }
      ]
    },
    {
      "cell_type": "markdown",
      "metadata": {
        "id": "0X18EIg7iV3Z"
      },
      "source": [
        "Detokenize the text, to remove extra spaces."
      ]
    },
    {
      "cell_type": "code",
      "metadata": {
        "colab": {
          "base_uri": "https://localhost:8080/"
        },
        "id": "RIQFq46Uid_2",
        "outputId": "e5c9695b-7dba-4a96-ec57-ed3b601312c5"
      },
      "source": [
        "detokenizer = sacremoses.MosesDetokenizer(lang='en')\n",
        "source_detokenized = []\n",
        "english_detokenized = []\n",
        "for i in tqdm.tqdm(range(len(source)), position=0):\n",
        "  source_detokenized.append(\n",
        "      detokenizer.detokenize([source[i].decode('utf8')]))\n",
        "  english_detokenized.append(\n",
        "      detokenizer.detokenize([english[i].decode('utf8')]))"
      ],
      "execution_count": null,
      "outputs": [
        {
          "output_type": "stream",
          "name": "stderr",
          "text": [
            "100%|██████████| 484925/484925 [06:37<00:00, 1220.82it/s]\n"
          ]
        }
      ]
    },
    {
      "cell_type": "markdown",
      "metadata": {
        "id": "eMOwYUQFnAMO"
      },
      "source": [
        "Create a CSV file with the results."
      ]
    },
    {
      "cell_type": "code",
      "metadata": {
        "colab": {
          "base_uri": "https://localhost:8080/",
          "height": 362
        },
        "id": "cqQR8HysrmnZ",
        "outputId": "f173f612-6297-4cc9-8d11-7a8a087da469"
      },
      "source": [
        "mt560 = pd.DataFrame()\n",
        "mt560['source'] = source_detokenized\n",
        "mt560['english'] = english_detokenized\n",
        "mt560['source_language'] = language\n",
        "mt560.to_csv('mt560.csv.gz', index=False, compression='gzip')\n",
        "mt560.sample(n=10)"
      ],
      "execution_count": null,
      "outputs": [
        {
          "output_type": "execute_result",
          "data": {
            "text/html": [
              "<div>\n",
              "<style scoped>\n",
              "    .dataframe tbody tr th:only-of-type {\n",
              "        vertical-align: middle;\n",
              "    }\n",
              "\n",
              "    .dataframe tbody tr th {\n",
              "        vertical-align: top;\n",
              "    }\n",
              "\n",
              "    .dataframe thead th {\n",
              "        text-align: right;\n",
              "    }\n",
              "</style>\n",
              "<table border=\"1\" class=\"dataframe\">\n",
              "  <thead>\n",
              "    <tr style=\"text-align: right;\">\n",
              "      <th></th>\n",
              "      <th>source</th>\n",
              "      <th>english</th>\n",
              "      <th>source_language</th>\n",
              "    </tr>\n",
              "  </thead>\n",
              "  <tbody>\n",
              "    <tr>\n",
              "      <th>395362</th>\n",
              "      <td>'Yueyo mar sabato pod odong' ne oganda Nyasaye...</td>\n",
              "      <td>\"There remains a sabbath resting for the peopl...</td>\n",
              "      <td>luo</td>\n",
              "    </tr>\n",
              "    <tr>\n",
              "      <th>455831</th>\n",
              "      <td>(b) Kiki Yakuwa ky'atulabulako, era lwaki?</td>\n",
              "      <td>(b) What kinds of warnings does Jehovah offer ...</td>\n",
              "      <td>lug</td>\n",
              "    </tr>\n",
              "    <tr>\n",
              "      <th>177073</th>\n",
              "      <td>Chiege Krista, ne owuoyo gi mor ahinya kaka Jo...</td>\n",
              "      <td>His wife, Krista, spoke fondly of being influe...</td>\n",
              "      <td>luo</td>\n",
              "    </tr>\n",
              "    <tr>\n",
              "      <th>22071</th>\n",
              "      <td>Abakristaayo ab'amagezi era abafaayo ku mbeera...</td>\n",
              "      <td>Wise Christians who care about their own spiri...</td>\n",
              "      <td>lug</td>\n",
              "    </tr>\n",
              "    <tr>\n",
              "      <th>371435</th>\n",
              "      <td>Bwe kityo, ng'eyogera ku kuzuukira, King James...</td>\n",
              "      <td>Thus, describing the resurrection, the King Ja...</td>\n",
              "      <td>lug</td>\n",
              "    </tr>\n",
              "    <tr>\n",
              "      <th>386065</th>\n",
              "      <td>Dine bed ni Jehova ger kendo timo gik moko e y...</td>\n",
              "      <td>It is unlikely that Jesus would have felt that...</td>\n",
              "      <td>luo</td>\n",
              "    </tr>\n",
              "    <tr>\n",
              "      <th>362012</th>\n",
              "      <td>Gikawo okang 'mokwongo mondo' kuom hoch ma Nya...</td>\n",
              "      <td>They reach out \"to comfort those in any sort o...</td>\n",
              "      <td>luo</td>\n",
              "    </tr>\n",
              "    <tr>\n",
              "      <th>7114</th>\n",
              "      <td>Tewali ggwanga lyandisubiddwa mukisa gwa kuwul...</td>\n",
              "      <td>No nation would miss out on hearing the good n...</td>\n",
              "      <td>lug</td>\n",
              "    </tr>\n",
              "    <tr>\n",
              "      <th>350597</th>\n",
              "      <td>Mukene gitamo pi lok pa Paulo ni: \"Pingo gigen...</td>\n",
              "      <td>They may think of Paul's words: \"Why should my...</td>\n",
              "      <td>ach</td>\n",
              "    </tr>\n",
              "    <tr>\n",
              "      <th>73116</th>\n",
              "      <td>Gin mutimme i kom Moses miyowa pwony ma pire tek.</td>\n",
              "      <td>What happened to Moses teaches us this very im...</td>\n",
              "      <td>ach</td>\n",
              "    </tr>\n",
              "  </tbody>\n",
              "</table>\n",
              "</div>"
            ],
            "text/plain": [
              "                                                   source  ... source_language\n",
              "395362  'Yueyo mar sabato pod odong' ne oganda Nyasaye...  ...             luo\n",
              "455831         (b) Kiki Yakuwa ky'atulabulako, era lwaki?  ...             lug\n",
              "177073  Chiege Krista, ne owuoyo gi mor ahinya kaka Jo...  ...             luo\n",
              "22071   Abakristaayo ab'amagezi era abafaayo ku mbeera...  ...             lug\n",
              "371435  Bwe kityo, ng'eyogera ku kuzuukira, King James...  ...             lug\n",
              "386065  Dine bed ni Jehova ger kendo timo gik moko e y...  ...             luo\n",
              "362012  Gikawo okang 'mokwongo mondo' kuom hoch ma Nya...  ...             luo\n",
              "7114    Tewali ggwanga lyandisubiddwa mukisa gwa kuwul...  ...             lug\n",
              "350597  Mukene gitamo pi lok pa Paulo ni: \"Pingo gigen...  ...             ach\n",
              "73116   Gin mutimme i kom Moses miyowa pwony ma pire tek.  ...             ach\n",
              "\n",
              "[10 rows x 3 columns]"
            ]
          },
          "metadata": {},
          "execution_count": 33
        }
      ]
    },
    {
      "cell_type": "markdown",
      "metadata": {
        "id": "X7nbfD_habsR"
      },
      "source": [
        "Save the results in a Drive folder"
      ]
    },
    {
      "cell_type": "code",
      "metadata": {
        "colab": {
          "base_uri": "https://localhost:8080/"
        },
        "id": "9AVIBRs3ruWy",
        "outputId": "a1e9a0b6-93cc-407c-8371-ba7a72ba8c49"
      },
      "source": [
        "drive.mount('/content/gdrive')"
      ],
      "execution_count": null,
      "outputs": [
        {
          "output_type": "stream",
          "name": "stdout",
          "text": [
            "Mounted at /content/gdrive\n"
          ]
        }
      ]
    },
    {
      "cell_type": "code",
      "metadata": {
        "id": "_fqrirDiZtsn"
      },
      "source": [
        "!cp mt560.csv.gz \"/content/gdrive/Shareddrives/Sunbird AI/Projects/NLP Technology/Data/\""
      ],
      "execution_count": null,
      "outputs": []
    },
    {
      "cell_type": "markdown",
      "metadata": {
        "id": "CBpw8o9Rr6Bd"
      },
      "source": [
        "# Prepare FLORES101 data\n",
        "\n",
        "2,000 professionally translated sentences in the public dataset [[link]](https://github.com/facebookresearch/flores)."
      ]
    },
    {
      "cell_type": "code",
      "metadata": {
        "id": "u3RFZVGWpBP6"
      },
      "source": [
        "!wget https://dl.fbaipublicfiles.com/flores101/dataset/flores101_dataset.tar.gz\n",
        "!tar xvzf flores101_dataset.tar.gz\n",
        "display.clear_output()"
      ],
      "execution_count": null,
      "outputs": []
    },
    {
      "cell_type": "code",
      "metadata": {
        "id": "GGZF6qMGzMp2"
      },
      "source": [
        "flores = {}\n",
        "for language in ['lug', 'luo', 'eng']:\n",
        "  with open(f'flores101_dataset/dev/{language}.dev') as f:\n",
        "    dev_lines = f.readlines()\n",
        "  with open(f'flores101_dataset/devtest/{language}.devtest') as f:\n",
        "    devtest_lines = f.readlines()\n",
        "  lines = dev_lines + devtest_lines\n",
        "  lines = [l.replace('\\n', '') for l in lines]\n",
        "  flores[language] = lines\n",
        "  \n",
        "flores = pd.DataFrame(flores)"
      ],
      "execution_count": null,
      "outputs": []
    },
    {
      "cell_type": "code",
      "metadata": {
        "colab": {
          "base_uri": "https://localhost:8080/",
          "height": 362
        },
        "id": "-v7QLmml100B",
        "outputId": "7c9a8379-05a5-477b-e02c-967c50c8e565"
      },
      "source": [
        "flores.sample(n=10)"
      ],
      "execution_count": null,
      "outputs": [
        {
          "output_type": "execute_result",
          "data": {
            "text/html": [
              "<div>\n",
              "<style scoped>\n",
              "    .dataframe tbody tr th:only-of-type {\n",
              "        vertical-align: middle;\n",
              "    }\n",
              "\n",
              "    .dataframe tbody tr th {\n",
              "        vertical-align: top;\n",
              "    }\n",
              "\n",
              "    .dataframe thead th {\n",
              "        text-align: right;\n",
              "    }\n",
              "</style>\n",
              "<table border=\"1\" class=\"dataframe\">\n",
              "  <thead>\n",
              "    <tr style=\"text-align: right;\">\n",
              "      <th></th>\n",
              "      <th>lug</th>\n",
              "      <th>luo</th>\n",
              "      <th>eng</th>\n",
              "    </tr>\n",
              "  </thead>\n",
              "  <tbody>\n",
              "    <tr>\n",
              "      <th>163</th>\n",
              "      <td>Elyaato erilwanyinya ebisoro ebikambwe lyabadd...</td>\n",
              "      <td>En achiel kwom meli mag kedo gi mbome mopandi ...</td>\n",
              "      <td>An Avenger class mine countermeasures ship, th...</td>\n",
              "    </tr>\n",
              "    <tr>\n",
              "      <th>1918</th>\n",
              "      <td>Zino zisazibwa Norway, Sweden ne New Zealand, ...</td>\n",
              "      <td>Maye ipimo mana gi Norway, Sweden kod New Zeal...</td>\n",
              "      <td>This is matched by Norway, Sweden and New Zeal...</td>\n",
              "    </tr>\n",
              "    <tr>\n",
              "      <th>455</th>\n",
              "      <td>Eno ensonga tekyalina makulu nga ebilawuli by’...</td>\n",
              "      <td>Mae bedo wach mathin ka jolos rang'i chopo e o...</td>\n",
              "      <td>This is becoming less of an issue as lens manu...</td>\n",
              "    </tr>\n",
              "    <tr>\n",
              "      <th>1098</th>\n",
              "      <td>Wankubadde, omuwendo kubuli kikumi ku XDR -TB ...</td>\n",
              "      <td>Kata kamano, atamalo mar XDR-TB ei oganda duto...</td>\n",
              "      <td>However, the percentage of XDR-TB in the entir...</td>\n",
              "    </tr>\n",
              "    <tr>\n",
              "      <th>1851</th>\n",
              "      <td>Kyefananyirizanga naye tekitera kwenyigirwamu ...</td>\n",
              "      <td>En machiegini kode, to ok oting'o lony mag alp...</td>\n",
              "      <td>It is related to but usually not involving alp...</td>\n",
              "    </tr>\n",
              "    <tr>\n",
              "      <th>335</th>\n",
              "      <td>Omukyaala omwatikirivu Sezen Aksu owa Butuluki...</td>\n",
              "      <td>Nyarber mapiny Turkey manyinge Sezen Aksu, not...</td>\n",
              "      <td>Turkish diva Sezen Aksu performed with the Ita...</td>\n",
              "    </tr>\n",
              "    <tr>\n",
              "      <th>1483</th>\n",
              "      <td>Okwegadanga kwavira ddala kubya nnono, nga biv...</td>\n",
              "      <td>Tim hero ne nikod tenruok mathoth ahinya kod y...</td>\n",
              "      <td>Romanticism had a large element of cultural de...</td>\n",
              "    </tr>\n",
              "    <tr>\n",
              "      <th>1489</th>\n",
              "      <td>Emisomo ja Gothic jatutumuka nyoo mubiseera wa...</td>\n",
              "      <td>Yor Gothic nentiere eng'iende ekind senchuri m...</td>\n",
              "      <td>Gothic style peaked in the period between the ...</td>\n",
              "    </tr>\n",
              "    <tr>\n",
              "      <th>710</th>\n",
              "      <td>Waliyo empuku entono nyo kumpi n’entikko gyoli...</td>\n",
              "      <td>Nitie bur matin machiegini kod malo ma nyaka k...</td>\n",
              "      <td>There's a tiny cave near the top that must be ...</td>\n",
              "    </tr>\n",
              "    <tr>\n",
              "      <th>912</th>\n",
              "      <td>Tewali kyetaagisibwa nti offune omuwendo okuva...</td>\n",
              "      <td>Bende onge dwaro ni nyaka ibed kod namba mar g...</td>\n",
              "      <td>There is also no requirement that you obtain a...</td>\n",
              "    </tr>\n",
              "  </tbody>\n",
              "</table>\n",
              "</div>"
            ],
            "text/plain": [
              "                                                    lug  ...                                                eng\n",
              "163   Elyaato erilwanyinya ebisoro ebikambwe lyabadd...  ...  An Avenger class mine countermeasures ship, th...\n",
              "1918  Zino zisazibwa Norway, Sweden ne New Zealand, ...  ...  This is matched by Norway, Sweden and New Zeal...\n",
              "455   Eno ensonga tekyalina makulu nga ebilawuli by’...  ...  This is becoming less of an issue as lens manu...\n",
              "1098  Wankubadde, omuwendo kubuli kikumi ku XDR -TB ...  ...  However, the percentage of XDR-TB in the entir...\n",
              "1851  Kyefananyirizanga naye tekitera kwenyigirwamu ...  ...  It is related to but usually not involving alp...\n",
              "335   Omukyaala omwatikirivu Sezen Aksu owa Butuluki...  ...  Turkish diva Sezen Aksu performed with the Ita...\n",
              "1483  Okwegadanga kwavira ddala kubya nnono, nga biv...  ...  Romanticism had a large element of cultural de...\n",
              "1489  Emisomo ja Gothic jatutumuka nyoo mubiseera wa...  ...  Gothic style peaked in the period between the ...\n",
              "710   Waliyo empuku entono nyo kumpi n’entikko gyoli...  ...  There's a tiny cave near the top that must be ...\n",
              "912   Tewali kyetaagisibwa nti offune omuwendo okuva...  ...  There is also no requirement that you obtain a...\n",
              "\n",
              "[10 rows x 3 columns]"
            ]
          },
          "metadata": {},
          "execution_count": 85
        }
      ]
    },
    {
      "cell_type": "code",
      "metadata": {
        "id": "KpY75I8W2hg_"
      },
      "source": [
        "flores.to_csv('flores101.csv.gz', index=False, compression='gzip')\n",
        "!cp flores101.csv.gz \"/content/gdrive/Shareddrives/Sunbird AI/Projects/NLP Technology/Data/\""
      ],
      "execution_count": null,
      "outputs": []
    },
    {
      "cell_type": "markdown",
      "metadata": {
        "id": "glFyo9cXsAIN"
      },
      "source": [
        "# Prepare Makerere/AI4D Luganda data\n",
        "\n",
        "\"An English-Luganda parallel corpus\" [[link]](https://zenodo.org/record/4764039), containing 15,000 Luganda-English sentence pairs."
      ]
    },
    {
      "cell_type": "code",
      "metadata": {
        "id": "pixVo553sC4Y"
      },
      "source": [
        "!wget https://zenodo.org/record/4764039/files/Luganda.csv\n",
        "display.clear_output()"
      ],
      "execution_count": null,
      "outputs": []
    },
    {
      "cell_type": "markdown",
      "metadata": {
        "id": "bxKUBLNFvU8j"
      },
      "source": [
        "There are some non-unicode characters in the file, so parse it indirectly."
      ]
    },
    {
      "cell_type": "code",
      "metadata": {
        "id": "J7FOTPZRt3qx"
      },
      "source": [
        "with open('Luganda.csv', encoding='utf-8', errors='replace') as f:\n",
        "  lines = f.readlines()\n",
        "\n",
        "ai4d_luganda = pd.read_csv(io.StringIO(''.join(lines)))"
      ],
      "execution_count": null,
      "outputs": []
    },
    {
      "cell_type": "markdown",
      "metadata": {
        "id": "QZ_IXgwgwd-e"
      },
      "source": [
        "Make the format consistent with the MT560 data."
      ]
    },
    {
      "cell_type": "code",
      "metadata": {
        "colab": {
          "base_uri": "https://localhost:8080/",
          "height": 362
        },
        "id": "AQCu4QD4sx3d",
        "outputId": "76c06b19-3d56-4fac-c07e-6b284108b383"
      },
      "source": [
        "ai4d_luganda = ai4d_luganda[['English', 'Luganda']]\n",
        "ai4d_luganda = ai4d_luganda.dropna()\n",
        "ai4d_luganda = ai4d_luganda.rename(\n",
        "    columns={'Luganda': 'lug', 'English': 'eng'})\n",
        "ai4d_luganda.sample(n=10)"
      ],
      "execution_count": null,
      "outputs": [
        {
          "output_type": "execute_result",
          "data": {
            "text/html": [
              "<div>\n",
              "<style scoped>\n",
              "    .dataframe tbody tr th:only-of-type {\n",
              "        vertical-align: middle;\n",
              "    }\n",
              "\n",
              "    .dataframe tbody tr th {\n",
              "        vertical-align: top;\n",
              "    }\n",
              "\n",
              "    .dataframe thead th {\n",
              "        text-align: right;\n",
              "    }\n",
              "</style>\n",
              "<table border=\"1\" class=\"dataframe\">\n",
              "  <thead>\n",
              "    <tr style=\"text-align: right;\">\n",
              "      <th></th>\n",
              "      <th>eng</th>\n",
              "      <th>lug</th>\n",
              "    </tr>\n",
              "  </thead>\n",
              "  <tbody>\n",
              "    <tr>\n",
              "      <th>13624</th>\n",
              "      <td>Children are a blessing from God.</td>\n",
              "      <td>Abaana mukisa okuva eri Katonda.</td>\n",
              "    </tr>\n",
              "    <tr>\n",
              "      <th>2037</th>\n",
              "      <td>A good working rerationship between  the emplo...</td>\n",
              "      <td>Enkolagana ennungi wakati w'omukozi ne mukama ...</td>\n",
              "    </tr>\n",
              "    <tr>\n",
              "      <th>13161</th>\n",
              "      <td>There was a reduction in the dropout rate in t...</td>\n",
              "      <td>Omuwendo gw'abaava mu ssomero gwakendeera omwa...</td>\n",
              "    </tr>\n",
              "    <tr>\n",
              "      <th>6369</th>\n",
              "      <td>People dying from this disease are mostly from...</td>\n",
              "      <td>Abantu abafa obulwadde buno okusinga bava mu n...</td>\n",
              "    </tr>\n",
              "    <tr>\n",
              "      <th>5379</th>\n",
              "      <td>I encourage my ferlow youths to never particip...</td>\n",
              "      <td>Nkubiriza bavubuka bannange obutaddamu kwenyig...</td>\n",
              "    </tr>\n",
              "    <tr>\n",
              "      <th>8613</th>\n",
              "      <td>The Ministry of Health inspected hospitals in ...</td>\n",
              "      <td>Munisitule y'ebyobulamu yalambudde amalwaluro ...</td>\n",
              "    </tr>\n",
              "    <tr>\n",
              "      <th>12099</th>\n",
              "      <td>Mobile money is the simplest and easiest way o...</td>\n",
              "      <td>Enkola y'okusindikira ensimbi ku masimu y'ekya...</td>\n",
              "    </tr>\n",
              "    <tr>\n",
              "      <th>14276</th>\n",
              "      <td>Substance abuse leads to increased mental illn...</td>\n",
              "      <td>Okunywa ebiragala kiviirako obuzibu ku bwongo ...</td>\n",
              "    </tr>\n",
              "    <tr>\n",
              "      <th>4393</th>\n",
              "      <td>We are all created as one in God's image.</td>\n",
              "      <td>ffenna twatondebwa nga omuntu omu mu kifaanany...</td>\n",
              "    </tr>\n",
              "    <tr>\n",
              "      <th>6509</th>\n",
              "      <td>Vanilla is a cash crop grown in Uganda.</td>\n",
              "      <td>Vanilla kirime ekivaamu ssente mu Uganda.</td>\n",
              "    </tr>\n",
              "  </tbody>\n",
              "</table>\n",
              "</div>"
            ],
            "text/plain": [
              "                                                     eng                                                lug\n",
              "13624                  Children are a blessing from God.                   Abaana mukisa okuva eri Katonda.\n",
              "2037   A good working rerationship between  the emplo...  Enkolagana ennungi wakati w'omukozi ne mukama ...\n",
              "13161  There was a reduction in the dropout rate in t...  Omuwendo gw'abaava mu ssomero gwakendeera omwa...\n",
              "6369   People dying from this disease are mostly from...  Abantu abafa obulwadde buno okusinga bava mu n...\n",
              "5379   I encourage my ferlow youths to never particip...  Nkubiriza bavubuka bannange obutaddamu kwenyig...\n",
              "8613   The Ministry of Health inspected hospitals in ...  Munisitule y'ebyobulamu yalambudde amalwaluro ...\n",
              "12099  Mobile money is the simplest and easiest way o...  Enkola y'okusindikira ensimbi ku masimu y'ekya...\n",
              "14276  Substance abuse leads to increased mental illn...  Okunywa ebiragala kiviirako obuzibu ku bwongo ...\n",
              "4393           We are all created as one in God's image.  ffenna twatondebwa nga omuntu omu mu kifaanany...\n",
              "6509             Vanilla is a cash crop grown in Uganda.          Vanilla kirime ekivaamu ssente mu Uganda."
            ]
          },
          "metadata": {},
          "execution_count": 90
        }
      ]
    },
    {
      "cell_type": "markdown",
      "metadata": {
        "id": "FK3BaU72wgrl"
      },
      "source": [
        "Upload to Drive folder."
      ]
    },
    {
      "cell_type": "code",
      "metadata": {
        "id": "JoG_dwnRv2pe"
      },
      "source": [
        "ai4d_luganda.to_csv('ai4d_luganda.csv.gz', index=False, compression='gzip')\n",
        "!cp ai4d_luganda.csv.gz \"/content/gdrive/Shareddrives/Sunbird AI/Projects/NLP Technology/Data/\""
      ],
      "execution_count": null,
      "outputs": []
    },
    {
      "cell_type": "code",
      "metadata": {
        "id": "F4JBh5V5wSow"
      },
      "source": [],
      "execution_count": null,
      "outputs": []
    }
  ]
}