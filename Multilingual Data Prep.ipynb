{
  "cells": [
    {
      "cell_type": "markdown",
      "metadata": {},
      "source": [
        "## Compilation of `multilingual` training dataset for Sunbird language models"
      ]
    },
    {
      "cell_type": "markdown",
      "metadata": {},
      "source": [
        "## Logic\n",
        "\n",
        "#### V1: A model that translates any of the other languages to English (`mul-en`)\n",
        "##### Source sentence: Any of the other languages\n",
        "##### Target: English\n",
        "\n",
        "\n",
        "#### V2: A model that translates English to any of the other languages (`en-mul`)\n",
        "##### Source sentence: English\n",
        "##### Target: Any of the other languages"
      ]
    },
    {
      "cell_type": "code",
      "execution_count": 110,
      "metadata": {},
      "outputs": [],
      "source": [
        "import json\n",
        "import pandas as pd\n",
        "from itertools import chain\n",
        "from sklearn.model_selection import train_test_split"
      ]
    },
    {
      "cell_type": "code",
      "execution_count": null,
      "metadata": {},
      "outputs": [],
      "source": [
        "# Download the Sunbird language dataset if needed\n",
        "!wget https://transfer.sh/AvcWgi/sunbird-ug-lang-v4.0.jsonl"
      ]
    },
    {
      "cell_type": "markdown",
      "metadata": {
        "id": "jMRoVeQYwagF"
      },
      "source": [
        "### Part 1: Create Multi-lingual to English target dataset (mul-en)"
      ]
    },
    {
      "cell_type": "markdown",
      "metadata": {},
      "source": [
        "#### Multilingual to English dataset creation function"
      ]
    },
    {
      "cell_type": "code",
      "execution_count": 112,
      "metadata": {
        "id": "SO_hdRMBFVOu"
      },
      "outputs": [],
      "source": [
        "# Function to generate multiple training examples from one translated sentence: Other languages to English\n",
        "def training_examples_from_sentence_mul_en(translated_sentence,\n",
        "                                    target_language = \"English\"):\n",
        "  if target_language not in translated_sentence:\n",
        "    raise ValueError(\n",
        "        f\"Target language {target_language} expected in translations, but \"\n",
        "        f\"{translated_sentence.keys()} found\")\n",
        "\n",
        "  source_languages = set(translated_sentence.keys())\n",
        "  source_languages.remove(target_language)\n",
        "\n",
        "  if not source_languages:\n",
        "    raise ValueError(\"There should be at least one language apart from the \"\n",
        "                    \"target.\")\n",
        "\n",
        "  training_examples = [\n",
        "                        {\n",
        "                          \"source\": translated_sentence[lang], \n",
        "                          \"target\": translated_sentence[target_language],\n",
        "                          \"source_language\": lang\n",
        "                        }\n",
        "                        for lang in source_languages\n",
        "                      ]\n",
        "\n",
        "  return training_examples"
      ]
    },
    {
      "cell_type": "markdown",
      "metadata": {},
      "source": [
        "#### Application to the Sunbird dataset"
      ]
    },
    {
      "cell_type": "code",
      "execution_count": 113,
      "metadata": {},
      "outputs": [
        {
          "data": {
            "text/html": [
              "<div>\n",
              "<style scoped>\n",
              "    .dataframe tbody tr th:only-of-type {\n",
              "        vertical-align: middle;\n",
              "    }\n",
              "\n",
              "    .dataframe tbody tr th {\n",
              "        vertical-align: top;\n",
              "    }\n",
              "\n",
              "    .dataframe thead th {\n",
              "        text-align: right;\n",
              "    }\n",
              "</style>\n",
              "<table border=\"1\" class=\"dataframe\">\n",
              "  <thead>\n",
              "    <tr style=\"text-align: right;\">\n",
              "      <th></th>\n",
              "      <th>English</th>\n",
              "      <th>Luganda</th>\n",
              "      <th>Runyankole</th>\n",
              "      <th>Ateso</th>\n",
              "      <th>Lugbara</th>\n",
              "      <th>Acholi</th>\n",
              "    </tr>\n",
              "  </thead>\n",
              "  <tbody>\n",
              "    <tr>\n",
              "      <th>0</th>\n",
              "      <td>Eggplants always grow best under warm conditions.</td>\n",
              "      <td>Bbiringanya lubeerera  asinga kukulira mu mbee...</td>\n",
              "      <td>Entonga buriijo zikurira omu mbeera y'obwire e...</td>\n",
              "      <td>Epoloi ebirinyanyi ojok apakio nu emwanar akwap.</td>\n",
              "      <td>Birinyanya eyi zo kililiru ndeni angu driza ma...</td>\n",
              "      <td>Bilinyanya pol kare dongo maber ka lyeto tye</td>\n",
              "    </tr>\n",
              "    <tr>\n",
              "      <th>1</th>\n",
              "      <td>Farmland is sometimes a challenge to farmers.</td>\n",
              "      <td>Ettaka ly'okulimirako n'okulundirako ebiseera ...</td>\n",
              "      <td>Eitaka ry'okuhingamu, obumwe n'obumwe nirireet...</td>\n",
              "      <td>Akiro nu alupok nes erai ationis kanejaas akoriok</td>\n",
              "      <td>Amvu ma angu eri sa'wa azini 'diyisi 'ba amvu ...</td>\n",
              "      <td>Ngom me pur i kare mukene obedo peko madit bot...</td>\n",
              "    </tr>\n",
              "    <tr>\n",
              "      <th>2</th>\n",
              "      <td>Farmers should be encouraged to grow more coffee.</td>\n",
              "      <td>Abalimi balina okukubirizibwa okwongera okulim...</td>\n",
              "      <td>Abahingi bashemereire kuhigwa bongyere okuhing...</td>\n",
              "      <td>Ekot aisinyikokit akoriok akoru emwanyi loepol</td>\n",
              "      <td>Le 'ba ma fe 'ba amvu 'yapi 'diyini ava kawa '...</td>\n",
              "      <td>Lupur omyero ki konygi wek nong miti me puru m...</td>\n",
              "    </tr>\n",
              "    <tr>\n",
              "      <th>3</th>\n",
              "      <td>Uganda is focusing on farming.</td>\n",
              "      <td>Uganda essira eritadde ku bulimi.</td>\n",
              "      <td>Uganda eteire amaani aha buhingi n'oburiisa.</td>\n",
              "      <td>Uganda nes ejai akiro nu akoru.</td>\n",
              "      <td>Kari Uganda niri eri asi'baza be amvu 'yaza ma...</td>\n",
              "      <td>Uganda tye ka keme ki lok me pur</td>\n",
              "    </tr>\n",
              "    <tr>\n",
              "      <th>4</th>\n",
              "      <td>Some plants die due to lack of sunlight.</td>\n",
              "      <td>Ebimera ebimu bifa olw'ebbula ly'omusana.</td>\n",
              "      <td>Ebihingwa ebimwe nibyoma ahabw'okubura omushana.</td>\n",
              "      <td>Icie ikorion etwakete naarai emamei akolong.</td>\n",
              "      <td>Ori azi 'diyi odra te ituka ma akosi.</td>\n",
              "      <td>jami apita mukene too woko pien pe ginongo cen...</td>\n",
              "    </tr>\n",
              "  </tbody>\n",
              "</table>\n",
              "</div>"
            ],
            "text/plain": [
              "                                             English  \\\n",
              "0  Eggplants always grow best under warm conditions.   \n",
              "1      Farmland is sometimes a challenge to farmers.   \n",
              "2  Farmers should be encouraged to grow more coffee.   \n",
              "3                     Uganda is focusing on farming.   \n",
              "4           Some plants die due to lack of sunlight.   \n",
              "\n",
              "                                             Luganda  \\\n",
              "0  Bbiringanya lubeerera  asinga kukulira mu mbee...   \n",
              "1  Ettaka ly'okulimirako n'okulundirako ebiseera ...   \n",
              "2  Abalimi balina okukubirizibwa okwongera okulim...   \n",
              "3                  Uganda essira eritadde ku bulimi.   \n",
              "4          Ebimera ebimu bifa olw'ebbula ly'omusana.   \n",
              "\n",
              "                                          Runyankole  \\\n",
              "0  Entonga buriijo zikurira omu mbeera y'obwire e...   \n",
              "1  Eitaka ry'okuhingamu, obumwe n'obumwe nirireet...   \n",
              "2  Abahingi bashemereire kuhigwa bongyere okuhing...   \n",
              "3       Uganda eteire amaani aha buhingi n'oburiisa.   \n",
              "4   Ebihingwa ebimwe nibyoma ahabw'okubura omushana.   \n",
              "\n",
              "                                               Ateso  \\\n",
              "0   Epoloi ebirinyanyi ojok apakio nu emwanar akwap.   \n",
              "1  Akiro nu alupok nes erai ationis kanejaas akoriok   \n",
              "2     Ekot aisinyikokit akoriok akoru emwanyi loepol   \n",
              "3                    Uganda nes ejai akiro nu akoru.   \n",
              "4       Icie ikorion etwakete naarai emamei akolong.   \n",
              "\n",
              "                                             Lugbara  \\\n",
              "0  Birinyanya eyi zo kililiru ndeni angu driza ma...   \n",
              "1  Amvu ma angu eri sa'wa azini 'diyisi 'ba amvu ...   \n",
              "2  Le 'ba ma fe 'ba amvu 'yapi 'diyini ava kawa '...   \n",
              "3  Kari Uganda niri eri asi'baza be amvu 'yaza ma...   \n",
              "4              Ori azi 'diyi odra te ituka ma akosi.   \n",
              "\n",
              "                                              Acholi  \n",
              "0       Bilinyanya pol kare dongo maber ka lyeto tye  \n",
              "1  Ngom me pur i kare mukene obedo peko madit bot...  \n",
              "2  Lupur omyero ki konygi wek nong miti me puru m...  \n",
              "3                   Uganda tye ka keme ki lok me pur  \n",
              "4  jami apita mukene too woko pien pe ginongo cen...  "
            ]
          },
          "execution_count": 113,
          "metadata": {},
          "output_type": "execute_result"
        }
      ],
      "source": [
        "sunbird_df = pd.read_json(\"sunbird-ug-lang-v5.0.jsonl\", lines=True)\n",
        "sunbird_df.head()"
      ]
    },
    {
      "cell_type": "code",
      "execution_count": 114,
      "metadata": {},
      "outputs": [
        {
          "data": {
            "text/plain": [
              "(25007, 6)"
            ]
          },
          "execution_count": 114,
          "metadata": {},
          "output_type": "execute_result"
        }
      ],
      "source": [
        "sunbird_df.shape"
      ]
    },
    {
      "cell_type": "code",
      "execution_count": 115,
      "metadata": {},
      "outputs": [
        {
          "name": "stdout",
          "output_type": "stream",
          "text": [
            "(16754, 6)\n",
            "(4126, 6)\n",
            "(4127, 6)\n"
          ]
        }
      ],
      "source": [
        "# train/test/val split\n",
        "train_df, test_df = train_test_split(sunbird_df, test_size=0.33, random_state=42)\n",
        "test_df, val_df = train_test_split(test_df, test_size=0.5, random_state=42)\n",
        "print(train_df.shape)\n",
        "print(test_df.shape)\n",
        "print(val_df.shape)"
      ]
    },
    {
      "cell_type": "code",
      "execution_count": 116,
      "metadata": {},
      "outputs": [
        {
          "data": {
            "text/plain": [
              "English       Eggplants always grow best under warm conditions.\n",
              "Luganda       Bbiringanya lubeerera  asinga kukulira mu mbee...\n",
              "Runyankole    Entonga buriijo zikurira omu mbeera y'obwire e...\n",
              "Ateso          Epoloi ebirinyanyi ojok apakio nu emwanar akwap.\n",
              "Lugbara       Birinyanya eyi zo kililiru ndeni angu driza ma...\n",
              "Acholi             Bilinyanya pol kare dongo maber ka lyeto tye\n",
              "Name: 0, dtype: object"
            ]
          },
          "execution_count": 116,
          "metadata": {},
          "output_type": "execute_result"
        }
      ],
      "source": [
        "translated_sentence = train_df.loc[0]\n",
        "translated_sentence"
      ]
    },
    {
      "cell_type": "code",
      "execution_count": 117,
      "metadata": {},
      "outputs": [
        {
          "data": {
            "text/plain": [
              "{'English': 'Eggplants always grow best under warm conditions.',\n",
              " 'Luganda': 'Bbiringanya lubeerera  asinga kukulira mu mbeera ya bugumu',\n",
              " 'Runyankole': \"Entonga buriijo zikurira omu mbeera y'obwire erikutagata\",\n",
              " 'Ateso': 'Epoloi ebirinyanyi ojok apakio nu emwanar akwap.',\n",
              " 'Lugbara': 'Birinyanya eyi zo kililiru ndeni angu driza ma alia.',\n",
              " 'Acholi': 'Bilinyanya pol kare dongo maber ka lyeto tye'}"
            ]
          },
          "execution_count": 117,
          "metadata": {},
          "output_type": "execute_result"
        }
      ],
      "source": [
        "translated_sentence = dict(translated_sentence)\n",
        "translated_sentence"
      ]
    },
    {
      "cell_type": "code",
      "execution_count": 118,
      "metadata": {},
      "outputs": [
        {
          "data": {
            "text/plain": [
              "[{'source': 'Bbiringanya lubeerera  asinga kukulira mu mbeera ya bugumu',\n",
              "  'target': 'Eggplants always grow best under warm conditions.',\n",
              "  'source_language': 'Luganda'},\n",
              " {'source': 'Birinyanya eyi zo kililiru ndeni angu driza ma alia.',\n",
              "  'target': 'Eggplants always grow best under warm conditions.',\n",
              "  'source_language': 'Lugbara'},\n",
              " {'source': \"Entonga buriijo zikurira omu mbeera y'obwire erikutagata\",\n",
              "  'target': 'Eggplants always grow best under warm conditions.',\n",
              "  'source_language': 'Runyankole'},\n",
              " {'source': 'Bilinyanya pol kare dongo maber ka lyeto tye',\n",
              "  'target': 'Eggplants always grow best under warm conditions.',\n",
              "  'source_language': 'Acholi'},\n",
              " {'source': 'Epoloi ebirinyanyi ojok apakio nu emwanar akwap.',\n",
              "  'target': 'Eggplants always grow best under warm conditions.',\n",
              "  'source_language': 'Ateso'}]"
            ]
          },
          "execution_count": 118,
          "metadata": {},
          "output_type": "execute_result"
        }
      ],
      "source": [
        "training_examples_from_sentence_mul_en(translated_sentence)"
      ]
    },
    {
      "cell_type": "code",
      "execution_count": 119,
      "metadata": {},
      "outputs": [
        {
          "data": {
            "text/plain": [
              "[{'source': \"Twetaaga embalirira y'ensimbi ezakuweebwa.\",\n",
              "  'target': 'We need the accountability of funds given to you.',\n",
              "  'source_language': 'Luganda'},\n",
              " {'source': \"Ale ki geri mini robia 'bani fe mi dri ri ayuzu ri ni.\",\n",
              "  'target': 'We need the accountability of funds given to you.',\n",
              "  'source_language': 'Lugbara'},\n",
              " {'source': 'Nitwenda embaririra ya sente ezimwaheirwe.',\n",
              "  'target': 'We need the accountability of funds given to you.',\n",
              "  'source_language': 'Runyankole'},\n",
              " {'source': 'Wamito niang kit ma itiyo ki cene ma wamiyi',\n",
              "  'target': 'We need the accountability of funds given to you.',\n",
              "  'source_language': 'Acholi'},\n",
              " {'source': 'Ikoto iso aitodunet na itwasamatere ikapun lu ijaikinio yes.',\n",
              "  'target': 'We need the accountability of funds given to you.',\n",
              "  'source_language': 'Ateso'}]"
            ]
          },
          "execution_count": 119,
          "metadata": {},
          "output_type": "execute_result"
        }
      ],
      "source": [
        "train = []\n",
        "for i in range(len(train_df)):\n",
        "  train.append(training_examples_from_sentence_mul_en(dict(train_df.iloc[i])))\n",
        "\n",
        "train[0]"
      ]
    },
    {
      "cell_type": "code",
      "execution_count": 120,
      "metadata": {},
      "outputs": [
        {
          "data": {
            "text/plain": [
              "[{'source': 'Taata wange yafiira mu bulumbaganyi.',\n",
              "  'target': 'My father was killed in the attack.',\n",
              "  'source_language': 'Luganda'},\n",
              " {'source': \"Ba 'di ma atinie'yo amvuta ndeniri ma alea.\",\n",
              "  'target': 'My father was killed in the attack.',\n",
              "  'source_language': 'Lugbara'},\n",
              " {'source': 'Tata akaitirwa omu kurumbwa.',\n",
              "  'target': 'My father was killed in the attack.',\n",
              "  'source_language': 'Runyankole'},\n",
              " {'source': 'Kineno wora I mony ne.',\n",
              "  'target': 'My father was killed in the attack.',\n",
              "  'source_language': 'Acholi'},\n",
              " {'source': 'Aponi koyarai papaka kotoma ojie kangol.',\n",
              "  'target': 'My father was killed in the attack.',\n",
              "  'source_language': 'Ateso'}]"
            ]
          },
          "execution_count": 120,
          "metadata": {},
          "output_type": "execute_result"
        }
      ],
      "source": [
        "test = []\n",
        "for i in range(len(test_df)):\n",
        "  test.append(training_examples_from_sentence_mul_en(dict(test_df.iloc[i])))\n",
        "\n",
        "test[0]"
      ]
    },
    {
      "cell_type": "code",
      "execution_count": 121,
      "metadata": {},
      "outputs": [
        {
          "data": {
            "text/plain": [
              "[{'source': \"Ebibalo biraga nti ensaasaanya ku by'okulwanyisa mu Rwanda yeeyongera mu nkumi bbiri mu kkumi na munaana.\",\n",
              "  'target': 'The data indicate that military expenditure in Rwanda increased by two thousand eighteen.',\n",
              "  'source_language': 'Luganda'},\n",
              " {'source': \"O'duko nderi ece kini Rwanda ma aje afa marani ni 'diyi ma driari ma ongmbo tu alifu iri mudri drini arosi\",\n",
              "  'target': 'The data indicate that military expenditure in Rwanda increased by two thousand eighteen.',\n",
              "  'source_language': 'Lugbara'},\n",
              " {'source': 'Ebihandiikirwe nibyoreeka ku enshohoza ya Rwanda aha mahe yayeyongiire  kurumba omwaka enkumi ibiri ikumi na munaana.',\n",
              "  'target': 'The data indicate that military expenditure in Rwanda increased by two thousand eighteen.',\n",
              "  'source_language': 'Runyankole'},\n",
              " {'source': 'Dul ngec meno waco ni Rwanda wel cente ma Rwanda tiyo kwede I lweny omede I mwaka alip aryo ki apar wiye aboro.',\n",
              "  'target': 'The data indicate that military expenditure in Rwanda increased by two thousand eighteen.',\n",
              "  'source_language': 'Acholi'},\n",
              " {'source': 'Itodunitos akiro nuingadatai ebe abu etosomae loka ikapun kanu ajore iyatakin kokaru ilukumin iarei itomonakanyauni.',\n",
              "  'target': 'The data indicate that military expenditure in Rwanda increased by two thousand eighteen.',\n",
              "  'source_language': 'Ateso'}]"
            ]
          },
          "execution_count": 121,
          "metadata": {},
          "output_type": "execute_result"
        }
      ],
      "source": [
        "val = []\n",
        "for i in range(len(val_df)):\n",
        "  val.append(training_examples_from_sentence_mul_en(dict(val_df.iloc[i])))\n",
        "\n",
        "val[0]"
      ]
    },
    {
      "cell_type": "code",
      "execution_count": 122,
      "metadata": {
        "id": "Em7_j3iW0AaE"
      },
      "outputs": [],
      "source": [
        "train_df_final = pd.DataFrame(list(chain.from_iterable(train)))\n",
        "test_df_final = pd.DataFrame(list(chain.from_iterable(test)))\n",
        "val_df_final = pd.DataFrame(list(chain.from_iterable(val)))"
      ]
    },
    {
      "cell_type": "code",
      "execution_count": 123,
      "metadata": {},
      "outputs": [],
      "source": [
        "source_languages = list(train_df_final[\"source_language\"].unique())\n",
        "language_codes = {\n",
        "    \"English\": \"en\", \"Luganda\": \"lug\", \"Runyankole\": \"nyn\", \n",
        "    \"Acholi\": \"ach\", \"Ateso\": \"teo\", \"Lugbara\": \"lgg\", \"Luo\": \"luo\"\n",
        "}"
      ]
    },
    {
      "cell_type": "code",
      "execution_count": 124,
      "metadata": {},
      "outputs": [],
      "source": [
        "train_df_final[\"source\"].to_csv(f\"train.src\", header=False, index=False, sep=\"\\t\", mode=\"a\")\n",
        "train_df_final[\"target\"].to_csv(f\"train.tgt\", header=False, index=False, sep=\"\\t\", mode=\"a\")"
      ]
    },
    {
      "cell_type": "code",
      "execution_count": 125,
      "metadata": {},
      "outputs": [],
      "source": [
        "for language in source_languages:\n",
        "    test_df_final[test_df_final[\"source_language\"] == language][\"source\"].to_csv(f\"test_{language_codes[language]}.src\", header=False, index=False, sep=\"\\t\", mode=\"a\")\n",
        "    test_df_final[test_df_final[\"source_language\"] == language][\"target\"].to_csv(f\"test_{language_codes[language]}.tgt\", header=False, index=False, sep=\"\\t\", mode=\"a\")\n",
        "    val_df_final[val_df_final[\"source_language\"] == language][\"source\"].to_csv(f\"val_{language_codes[language]}.src\", header=False, index=False, sep=\"\\t\", mode=\"a\")\n",
        "    val_df_final[val_df_final[\"source_language\"] == language][\"target\"].to_csv(f\"val_{language_codes[language]}.tgt\", header=False, index=False, sep=\"\\t\", mode=\"a\")"
      ]
    },
    {
      "cell_type": "markdown",
      "metadata": {},
      "source": [
        "#### Application to the AI4D Luganda dataset"
      ]
    },
    {
      "cell_type": "code",
      "execution_count": 126,
      "metadata": {},
      "outputs": [
        {
          "data": {
            "text/html": [
              "<div>\n",
              "<style scoped>\n",
              "    .dataframe tbody tr th:only-of-type {\n",
              "        vertical-align: middle;\n",
              "    }\n",
              "\n",
              "    .dataframe tbody tr th {\n",
              "        vertical-align: top;\n",
              "    }\n",
              "\n",
              "    .dataframe thead th {\n",
              "        text-align: right;\n",
              "    }\n",
              "</style>\n",
              "<table border=\"1\" class=\"dataframe\">\n",
              "  <thead>\n",
              "    <tr style=\"text-align: right;\">\n",
              "      <th></th>\n",
              "      <th>eng</th>\n",
              "      <th>lug</th>\n",
              "    </tr>\n",
              "  </thead>\n",
              "  <tbody>\n",
              "    <tr>\n",
              "      <th>0</th>\n",
              "      <td>All refugees were requested to register with t...</td>\n",
              "      <td>Abanoonyiboobubudamu bonna baasabiddwa beewand...</td>\n",
              "    </tr>\n",
              "    <tr>\n",
              "      <th>1</th>\n",
              "      <td>They called for a refugees' meeting yesterday.</td>\n",
              "      <td>Baayise olukungaana lw'abanoonyiboobubudamu eg...</td>\n",
              "    </tr>\n",
              "    <tr>\n",
              "      <th>2</th>\n",
              "      <td>Refugees had misunderstandings between   thems...</td>\n",
              "      <td>Abanoonyiboobubudamu b'abadde n'obutakkaanya w...</td>\n",
              "    </tr>\n",
              "    <tr>\n",
              "      <th>3</th>\n",
              "      <td>We were urged to welcome refugees into our com...</td>\n",
              "      <td>Twakubirizibwa okwaniriza abanoonyiboobubudamu...</td>\n",
              "    </tr>\n",
              "    <tr>\n",
              "      <th>4</th>\n",
              "      <td>More development is achieved when we work toge...</td>\n",
              "      <td>Bwe tukolera awamu enkulaakulana enyingi efuni...</td>\n",
              "    </tr>\n",
              "  </tbody>\n",
              "</table>\n",
              "</div>"
            ],
            "text/plain": [
              "                                                 eng  \\\n",
              "0  All refugees were requested to register with t...   \n",
              "1     They called for a refugees' meeting yesterday.   \n",
              "2  Refugees had misunderstandings between   thems...   \n",
              "3  We were urged to welcome refugees into our com...   \n",
              "4  More development is achieved when we work toge...   \n",
              "\n",
              "                                                 lug  \n",
              "0  Abanoonyiboobubudamu bonna baasabiddwa beewand...  \n",
              "1  Baayise olukungaana lw'abanoonyiboobubudamu eg...  \n",
              "2  Abanoonyiboobubudamu b'abadde n'obutakkaanya w...  \n",
              "3  Twakubirizibwa okwaniriza abanoonyiboobubudamu...  \n",
              "4  Bwe tukolera awamu enkulaakulana enyingi efuni...  "
            ]
          },
          "execution_count": 126,
          "metadata": {},
          "output_type": "execute_result"
        }
      ],
      "source": [
        "ai4d_df = pd.read_csv(\"ai4d_luganda.csv\")\n",
        "ai4d_df.head()"
      ]
    },
    {
      "cell_type": "code",
      "execution_count": 127,
      "metadata": {},
      "outputs": [
        {
          "data": {
            "text/plain": [
              "Index(['English', 'Luganda'], dtype='object')"
            ]
          },
          "execution_count": 127,
          "metadata": {},
          "output_type": "execute_result"
        }
      ],
      "source": [
        "ai4d_df.rename(columns={\"eng\": \"English\", \"lug\": \"Luganda\"}, inplace=True)\n",
        "ai4d_df.columns"
      ]
    },
    {
      "cell_type": "code",
      "execution_count": 128,
      "metadata": {},
      "outputs": [
        {
          "data": {
            "text/plain": [
              "[[{'source': 'Abanoonyiboobubudamu bonna baasabiddwa beewandiise ewa ssentebe.',\n",
              "   'target': 'All refugees were requested to register with the chairman.',\n",
              "   'source_language': 'Luganda'}],\n",
              " [{'source': \"Baayise olukungaana lw'abanoonyiboobubudamu eggulo.\",\n",
              "   'target': \"They called for a refugees' meeting yesterday.\",\n",
              "   'source_language': 'Luganda'}],\n",
              " [{'source': \"Abanoonyiboobubudamu b'abadde n'obutakkaanya wakati waabwe.\",\n",
              "   'target': 'Refugees had misunderstandings between   themselves.',\n",
              "   'source_language': 'Luganda'}],\n",
              " [{'source': 'Twakubirizibwa okwaniriza abanoonyiboobubudamu mu bitundu byaffe.',\n",
              "   'target': 'We were urged to welcome refugees into our communities.',\n",
              "   'source_language': 'Luganda'}],\n",
              " [{'source': 'Bwe tukolera awamu enkulaakulana enyingi efunibwa.',\n",
              "   'target': 'More development is achieved when we work together.',\n",
              "   'source_language': 'Luganda'}]]"
            ]
          },
          "execution_count": 128,
          "metadata": {},
          "output_type": "execute_result"
        }
      ],
      "source": [
        "ai4d = []\n",
        "for i in range(len(ai4d_df)):\n",
        "  ai4d.append(training_examples_from_sentence_mul_en(ai4d_df.loc[i]))\n",
        "\n",
        "ai4d[:5]"
      ]
    },
    {
      "cell_type": "code",
      "execution_count": 129,
      "metadata": {},
      "outputs": [
        {
          "data": {
            "text/html": [
              "<div>\n",
              "<style scoped>\n",
              "    .dataframe tbody tr th:only-of-type {\n",
              "        vertical-align: middle;\n",
              "    }\n",
              "\n",
              "    .dataframe tbody tr th {\n",
              "        vertical-align: top;\n",
              "    }\n",
              "\n",
              "    .dataframe thead th {\n",
              "        text-align: right;\n",
              "    }\n",
              "</style>\n",
              "<table border=\"1\" class=\"dataframe\">\n",
              "  <thead>\n",
              "    <tr style=\"text-align: right;\">\n",
              "      <th></th>\n",
              "      <th>source</th>\n",
              "      <th>target</th>\n",
              "      <th>source_language</th>\n",
              "    </tr>\n",
              "  </thead>\n",
              "  <tbody>\n",
              "    <tr>\n",
              "      <th>0</th>\n",
              "      <td>Abanoonyiboobubudamu bonna baasabiddwa beewand...</td>\n",
              "      <td>All refugees were requested to register with t...</td>\n",
              "      <td>Luganda</td>\n",
              "    </tr>\n",
              "    <tr>\n",
              "      <th>1</th>\n",
              "      <td>Baayise olukungaana lw'abanoonyiboobubudamu eg...</td>\n",
              "      <td>They called for a refugees' meeting yesterday.</td>\n",
              "      <td>Luganda</td>\n",
              "    </tr>\n",
              "    <tr>\n",
              "      <th>2</th>\n",
              "      <td>Abanoonyiboobubudamu b'abadde n'obutakkaanya w...</td>\n",
              "      <td>Refugees had misunderstandings between   thems...</td>\n",
              "      <td>Luganda</td>\n",
              "    </tr>\n",
              "    <tr>\n",
              "      <th>3</th>\n",
              "      <td>Twakubirizibwa okwaniriza abanoonyiboobubudamu...</td>\n",
              "      <td>We were urged to welcome refugees into our com...</td>\n",
              "      <td>Luganda</td>\n",
              "    </tr>\n",
              "    <tr>\n",
              "      <th>4</th>\n",
              "      <td>Bwe tukolera awamu enkulaakulana enyingi efuni...</td>\n",
              "      <td>More development is achieved when we work toge...</td>\n",
              "      <td>Luganda</td>\n",
              "    </tr>\n",
              "  </tbody>\n",
              "</table>\n",
              "</div>"
            ],
            "text/plain": [
              "                                              source  \\\n",
              "0  Abanoonyiboobubudamu bonna baasabiddwa beewand...   \n",
              "1  Baayise olukungaana lw'abanoonyiboobubudamu eg...   \n",
              "2  Abanoonyiboobubudamu b'abadde n'obutakkaanya w...   \n",
              "3  Twakubirizibwa okwaniriza abanoonyiboobubudamu...   \n",
              "4  Bwe tukolera awamu enkulaakulana enyingi efuni...   \n",
              "\n",
              "                                              target source_language  \n",
              "0  All refugees were requested to register with t...         Luganda  \n",
              "1     They called for a refugees' meeting yesterday.         Luganda  \n",
              "2  Refugees had misunderstandings between   thems...         Luganda  \n",
              "3  We were urged to welcome refugees into our com...         Luganda  \n",
              "4  More development is achieved when we work toge...         Luganda  "
            ]
          },
          "execution_count": 129,
          "metadata": {},
          "output_type": "execute_result"
        }
      ],
      "source": [
        "ai4d_dataset = pd.DataFrame(list(chain.from_iterable(ai4d)))\n",
        "ai4d_dataset.head()"
      ]
    },
    {
      "cell_type": "code",
      "execution_count": 130,
      "metadata": {},
      "outputs": [],
      "source": [
        "ai4d_dataset[[\"source\"]].to_csv(\"train_ai4d.src\", header=None, index=None, sep=\"\\t\", mode=\"a\")\n",
        "ai4d_dataset[[\"target\"]].to_csv(\"train_ai4d.tgt\", header=None, index=None, sep=\"\\t\", mode=\"a\")"
      ]
    },
    {
      "cell_type": "markdown",
      "metadata": {},
      "source": [
        "#### Application to the Flores 101 dataset"
      ]
    },
    {
      "cell_type": "code",
      "execution_count": 131,
      "metadata": {},
      "outputs": [
        {
          "data": {
            "text/html": [
              "<div>\n",
              "<style scoped>\n",
              "    .dataframe tbody tr th:only-of-type {\n",
              "        vertical-align: middle;\n",
              "    }\n",
              "\n",
              "    .dataframe tbody tr th {\n",
              "        vertical-align: top;\n",
              "    }\n",
              "\n",
              "    .dataframe thead th {\n",
              "        text-align: right;\n",
              "    }\n",
              "</style>\n",
              "<table border=\"1\" class=\"dataframe\">\n",
              "  <thead>\n",
              "    <tr style=\"text-align: right;\">\n",
              "      <th></th>\n",
              "      <th>lug</th>\n",
              "      <th>luo</th>\n",
              "      <th>eng</th>\n",
              "    </tr>\n",
              "  </thead>\n",
              "  <tbody>\n",
              "    <tr>\n",
              "      <th>0</th>\n",
              "      <td>Ku balaza, Banasayansi okuva mu setendekero ya...</td>\n",
              "      <td>Chieng' Wuoktich, josayans mawuok e Mbalariany...</td>\n",
              "      <td>On Monday, scientists from the Stanford Univer...</td>\n",
              "    </tr>\n",
              "    <tr>\n",
              "      <th>1</th>\n",
              "      <td>Abakulira abanoonyereza bagamba nti kino kijak...</td>\n",
              "      <td>Jononro motelo wachoni ma nyalo kelo fweny mac...</td>\n",
              "      <td>Lead researchers say this may bring early dete...</td>\n",
              "    </tr>\n",
              "    <tr>\n",
              "      <th>2</th>\n",
              "      <td>Aba JAS 39C Gripen basasanila mu luguudo ku sa...</td>\n",
              "      <td>Ndegeno mar JAS 39C Gripen ne ogore piny e nda...</td>\n",
              "      <td>The JAS 39C Gripen crashed onto a runway at ar...</td>\n",
              "    </tr>\n",
              "    <tr>\n",
              "      <th>3</th>\n",
              "      <td>Omuvuzi wenyonyi yategerekeka nga omukulembeze...</td>\n",
              "      <td>Jariemb ndegeno noyangi kaka Squadron Dilokrit...</td>\n",
              "      <td>The pilot was identified as Squadron Leader Di...</td>\n",
              "    </tr>\n",
              "    <tr>\n",
              "      <th>4</th>\n",
              "      <td>Amawulire agakuno galaga ekimotoka kyomuliro e...</td>\n",
              "      <td>Ute fwambo ma alwora no golo ripot ni gach neg...</td>\n",
              "      <td>Local media reports an airport fire vehicle ro...</td>\n",
              "    </tr>\n",
              "  </tbody>\n",
              "</table>\n",
              "</div>"
            ],
            "text/plain": [
              "                                                 lug  \\\n",
              "0  Ku balaza, Banasayansi okuva mu setendekero ya...   \n",
              "1  Abakulira abanoonyereza bagamba nti kino kijak...   \n",
              "2  Aba JAS 39C Gripen basasanila mu luguudo ku sa...   \n",
              "3  Omuvuzi wenyonyi yategerekeka nga omukulembeze...   \n",
              "4  Amawulire agakuno galaga ekimotoka kyomuliro e...   \n",
              "\n",
              "                                                 luo  \\\n",
              "0  Chieng' Wuoktich, josayans mawuok e Mbalariany...   \n",
              "1  Jononro motelo wachoni ma nyalo kelo fweny mac...   \n",
              "2  Ndegeno mar JAS 39C Gripen ne ogore piny e nda...   \n",
              "3  Jariemb ndegeno noyangi kaka Squadron Dilokrit...   \n",
              "4  Ute fwambo ma alwora no golo ripot ni gach neg...   \n",
              "\n",
              "                                                 eng  \n",
              "0  On Monday, scientists from the Stanford Univer...  \n",
              "1  Lead researchers say this may bring early dete...  \n",
              "2  The JAS 39C Gripen crashed onto a runway at ar...  \n",
              "3  The pilot was identified as Squadron Leader Di...  \n",
              "4  Local media reports an airport fire vehicle ro...  "
            ]
          },
          "execution_count": 131,
          "metadata": {},
          "output_type": "execute_result"
        }
      ],
      "source": [
        "flores_df = pd.read_csv(\"flores101.csv\")\n",
        "flores_df.head()"
      ]
    },
    {
      "cell_type": "code",
      "execution_count": 132,
      "metadata": {},
      "outputs": [
        {
          "data": {
            "text/plain": [
              "Index(['Luganda', 'Luo', 'English'], dtype='object')"
            ]
          },
          "execution_count": 132,
          "metadata": {},
          "output_type": "execute_result"
        }
      ],
      "source": [
        "flores_df.rename(columns={\"eng\": \"English\", \"lug\": \"Luganda\", \"luo\": \"Luo\"}, inplace=True)\n",
        "flores_df.columns"
      ]
    },
    {
      "cell_type": "code",
      "execution_count": 133,
      "metadata": {},
      "outputs": [
        {
          "data": {
            "text/plain": [
              "[[{'source': \"Ku balaza, Banasayansi okuva mu setendekero ya Stanford ku somero ly'ebyedagala balangirira okuvumbulwa kwa akuuma akakebera nga kasobola okusengeka obutafaali nga kasinzira kukika kyabwo: Akuuma katono akasobola okufulumizibwa ku lupapula akasobola okukolebwa ne Printa enungi ku sente entono nga emu eya US buli kamu.\",\n",
              "   'target': 'On Monday, scientists from the Stanford University School of Medicine announced the invention of a new diagnostic tool that can sort cells by type: a tiny printable chip that can be manufactured using standard inkjet printers for possibly about one U.S. cent each.',\n",
              "   'source_language': 'Luganda'},\n",
              "  {'source': \"Chieng' Wuoktich, josayans mawuok e Mbalariany mar Stanford e Skul mar Thieth nolando ni negifwenyo gimanyien mitiyogo e nono tuoche ma nyalo pogo ng'injo mag del kaluwore kod kitgi: en chip moro matin ma inyalo go chapa gi printa ma bende inyalo losi kitiyo kod printa mapile mag inkjet kwom manyalo romo otonglo achiel mar Amerka e moro ka moro.\",\n",
              "   'target': 'On Monday, scientists from the Stanford University School of Medicine announced the invention of a new diagnostic tool that can sort cells by type: a tiny printable chip that can be manufactured using standard inkjet printers for possibly about one U.S. cent each.',\n",
              "   'source_language': 'Luo'}],\n",
              " [{'source': 'Abakulira abanoonyereza bagamba nti kino kijakuleetawo okukeberwa amangu endwadde nga kookolo, akafuba, sirimu n’omusuja mu balwadde munsi eziteesobola, eyo okuwona endwadde nga kokoolo wamabeere kutono ddala okusinga munsi engaga.',\n",
              "   'target': 'Lead researchers say this may bring early detection of cancer, tuberculosis, HIV and malaria to patients in low-income countries, where the survival rates for illnesses such as breast cancer can be half those of richer countries.',\n",
              "   'source_language': 'Luganda'},\n",
              "  {'source': 'Jononro motelo wachoni ma nyalo kelo fweny machon mag tuoche kaka kansa, tibi, ayaki, gi maleria ne jotuo manie epinje ma yutogi tin, kama kuo mar tuo kaka kansa mar thuno, nyalo bedo nus ne mar pinje man-gi yuto man malo.',\n",
              "   'target': 'Lead researchers say this may bring early detection of cancer, tuberculosis, HIV and malaria to patients in low-income countries, where the survival rates for illnesses such as breast cancer can be half those of richer countries.',\n",
              "   'source_language': 'Luo'}]]"
            ]
          },
          "execution_count": 133,
          "metadata": {},
          "output_type": "execute_result"
        }
      ],
      "source": [
        "flores = []\n",
        "for i in range(len(flores_df)):\n",
        "  flores.append(training_examples_from_sentence_mul_en(flores_df.loc[i]))\n",
        "\n",
        "flores[:2]"
      ]
    },
    {
      "cell_type": "code",
      "execution_count": 134,
      "metadata": {},
      "outputs": [
        {
          "data": {
            "text/html": [
              "<div>\n",
              "<style scoped>\n",
              "    .dataframe tbody tr th:only-of-type {\n",
              "        vertical-align: middle;\n",
              "    }\n",
              "\n",
              "    .dataframe tbody tr th {\n",
              "        vertical-align: top;\n",
              "    }\n",
              "\n",
              "    .dataframe thead th {\n",
              "        text-align: right;\n",
              "    }\n",
              "</style>\n",
              "<table border=\"1\" class=\"dataframe\">\n",
              "  <thead>\n",
              "    <tr style=\"text-align: right;\">\n",
              "      <th></th>\n",
              "      <th>source</th>\n",
              "      <th>target</th>\n",
              "      <th>source_language</th>\n",
              "    </tr>\n",
              "  </thead>\n",
              "  <tbody>\n",
              "    <tr>\n",
              "      <th>0</th>\n",
              "      <td>Ku balaza, Banasayansi okuva mu setendekero ya...</td>\n",
              "      <td>On Monday, scientists from the Stanford Univer...</td>\n",
              "      <td>Luganda</td>\n",
              "    </tr>\n",
              "    <tr>\n",
              "      <th>1</th>\n",
              "      <td>Chieng' Wuoktich, josayans mawuok e Mbalariany...</td>\n",
              "      <td>On Monday, scientists from the Stanford Univer...</td>\n",
              "      <td>Luo</td>\n",
              "    </tr>\n",
              "    <tr>\n",
              "      <th>2</th>\n",
              "      <td>Abakulira abanoonyereza bagamba nti kino kijak...</td>\n",
              "      <td>Lead researchers say this may bring early dete...</td>\n",
              "      <td>Luganda</td>\n",
              "    </tr>\n",
              "    <tr>\n",
              "      <th>3</th>\n",
              "      <td>Jononro motelo wachoni ma nyalo kelo fweny mac...</td>\n",
              "      <td>Lead researchers say this may bring early dete...</td>\n",
              "      <td>Luo</td>\n",
              "    </tr>\n",
              "    <tr>\n",
              "      <th>4</th>\n",
              "      <td>Aba JAS 39C Gripen basasanila mu luguudo ku sa...</td>\n",
              "      <td>The JAS 39C Gripen crashed onto a runway at ar...</td>\n",
              "      <td>Luganda</td>\n",
              "    </tr>\n",
              "    <tr>\n",
              "      <th>5</th>\n",
              "      <td>Ndegeno mar JAS 39C Gripen ne ogore piny e nda...</td>\n",
              "      <td>The JAS 39C Gripen crashed onto a runway at ar...</td>\n",
              "      <td>Luo</td>\n",
              "    </tr>\n",
              "    <tr>\n",
              "      <th>6</th>\n",
              "      <td>Omuvuzi wenyonyi yategerekeka nga omukulembeze...</td>\n",
              "      <td>The pilot was identified as Squadron Leader Di...</td>\n",
              "      <td>Luganda</td>\n",
              "    </tr>\n",
              "    <tr>\n",
              "      <th>7</th>\n",
              "      <td>Jariemb ndegeno noyangi kaka Squadron Dilokrit...</td>\n",
              "      <td>The pilot was identified as Squadron Leader Di...</td>\n",
              "      <td>Luo</td>\n",
              "    </tr>\n",
              "  </tbody>\n",
              "</table>\n",
              "</div>"
            ],
            "text/plain": [
              "                                              source  \\\n",
              "0  Ku balaza, Banasayansi okuva mu setendekero ya...   \n",
              "1  Chieng' Wuoktich, josayans mawuok e Mbalariany...   \n",
              "2  Abakulira abanoonyereza bagamba nti kino kijak...   \n",
              "3  Jononro motelo wachoni ma nyalo kelo fweny mac...   \n",
              "4  Aba JAS 39C Gripen basasanila mu luguudo ku sa...   \n",
              "5  Ndegeno mar JAS 39C Gripen ne ogore piny e nda...   \n",
              "6  Omuvuzi wenyonyi yategerekeka nga omukulembeze...   \n",
              "7  Jariemb ndegeno noyangi kaka Squadron Dilokrit...   \n",
              "\n",
              "                                              target source_language  \n",
              "0  On Monday, scientists from the Stanford Univer...         Luganda  \n",
              "1  On Monday, scientists from the Stanford Univer...             Luo  \n",
              "2  Lead researchers say this may bring early dete...         Luganda  \n",
              "3  Lead researchers say this may bring early dete...             Luo  \n",
              "4  The JAS 39C Gripen crashed onto a runway at ar...         Luganda  \n",
              "5  The JAS 39C Gripen crashed onto a runway at ar...             Luo  \n",
              "6  The pilot was identified as Squadron Leader Di...         Luganda  \n",
              "7  The pilot was identified as Squadron Leader Di...             Luo  "
            ]
          },
          "execution_count": 134,
          "metadata": {},
          "output_type": "execute_result"
        }
      ],
      "source": [
        "flores_dataset = pd.DataFrame(list(chain.from_iterable(flores)))\n",
        "flores_dataset.head(8)"
      ]
    },
    {
      "cell_type": "code",
      "execution_count": 135,
      "metadata": {},
      "outputs": [],
      "source": [
        "flores_dataset[[\"source\"]].to_csv(\"train_flores.src\", header=None, index=None, sep=\"\\t\", mode=\"a\")\n",
        "flores_dataset[[\"target\"]].to_csv(\"train_flores.tgt\", header=None, index=None, sep=\"\\t\", mode=\"a\")"
      ]
    },
    {
      "cell_type": "markdown",
      "metadata": {},
      "source": [
        "#### Appliction to the MT560 dataset"
      ]
    },
    {
      "cell_type": "code",
      "execution_count": 136,
      "metadata": {},
      "outputs": [
        {
          "data": {
            "text/html": [
              "<div>\n",
              "<style scoped>\n",
              "    .dataframe tbody tr th:only-of-type {\n",
              "        vertical-align: middle;\n",
              "    }\n",
              "\n",
              "    .dataframe tbody tr th {\n",
              "        vertical-align: top;\n",
              "    }\n",
              "\n",
              "    .dataframe thead th {\n",
              "        text-align: right;\n",
              "    }\n",
              "</style>\n",
              "<table border=\"1\" class=\"dataframe\">\n",
              "  <thead>\n",
              "    <tr style=\"text-align: right;\">\n",
              "      <th></th>\n",
              "      <th>source</th>\n",
              "      <th>english</th>\n",
              "      <th>source_language</th>\n",
              "    </tr>\n",
              "  </thead>\n",
              "  <tbody>\n",
              "    <tr>\n",
              "      <th>0</th>\n",
              "      <td>Beduru gi Kuwe kod Ji Duto</td>\n",
              "      <td>Adam and Eve - Were They Real People?</td>\n",
              "      <td>luo</td>\n",
              "    </tr>\n",
              "    <tr>\n",
              "      <th>1</th>\n",
              "      <td>Hera umo richo mogundho.</td>\n",
              "      <td>In fact, \"love covers a multitude of sins.\"</td>\n",
              "      <td>luo</td>\n",
              "    </tr>\n",
              "    <tr>\n",
              "      <th>2</th>\n",
              "      <td>I mwaka me apar wiye angwen me loc pa kabaka K...</td>\n",
              "      <td>In the fourteenth year of King Hezekiah, Senna...</td>\n",
              "      <td>ach</td>\n",
              "    </tr>\n",
              "    <tr>\n",
              "      <th>3</th>\n",
              "      <td>Muliraanwa wange y'ani?</td>\n",
              "      <td>Who really is my neighbor?</td>\n",
              "      <td>lug</td>\n",
              "    </tr>\n",
              "    <tr>\n",
              "      <th>4</th>\n",
              "      <td>Notego wang'e kuom pokne.</td>\n",
              "      <td>He \"looked intently toward the payment of the ...</td>\n",
              "      <td>luo</td>\n",
              "    </tr>\n",
              "    <tr>\n",
              "      <th>5</th>\n",
              "      <td>Okuva mu Nnimi Zonna</td>\n",
              "      <td>Out of All the Languages</td>\n",
              "      <td>lug</td>\n",
              "    </tr>\n",
              "    <tr>\n",
              "      <th>6</th>\n",
              "      <td>Omiyo wang 'chieng' mare wuok ni jo maricho ko...</td>\n",
              "      <td>He makes his sun rise upon wicked people and g...</td>\n",
              "      <td>luo</td>\n",
              "    </tr>\n",
              "    <tr>\n",
              "      <th>7</th>\n",
              "      <td>Yakuwa Ayagala Obwenkanya</td>\n",
              "      <td>Jehovah Is a Lover of Justice</td>\n",
              "      <td>lug</td>\n",
              "    </tr>\n",
              "    <tr>\n",
              "      <th>8</th>\n",
              "      <td>Yoleka Obwenkanya ng'Okola ku Nsonga Zange</td>\n",
              "      <td>See That I Get Justice</td>\n",
              "      <td>lug</td>\n",
              "    </tr>\n",
              "    <tr>\n",
              "      <th>9</th>\n",
              "      <td>\"Akamwa kange kanaayogera amagezi; n'omutima g...</td>\n",
              "      <td>\"The meditation of my heart will be of things ...</td>\n",
              "      <td>lug</td>\n",
              "    </tr>\n",
              "  </tbody>\n",
              "</table>\n",
              "</div>"
            ],
            "text/plain": [
              "                                              source  \\\n",
              "0                         Beduru gi Kuwe kod Ji Duto   \n",
              "1                           Hera umo richo mogundho.   \n",
              "2  I mwaka me apar wiye angwen me loc pa kabaka K...   \n",
              "3                            Muliraanwa wange y'ani?   \n",
              "4                          Notego wang'e kuom pokne.   \n",
              "5                               Okuva mu Nnimi Zonna   \n",
              "6  Omiyo wang 'chieng' mare wuok ni jo maricho ko...   \n",
              "7                          Yakuwa Ayagala Obwenkanya   \n",
              "8         Yoleka Obwenkanya ng'Okola ku Nsonga Zange   \n",
              "9  \"Akamwa kange kanaayogera amagezi; n'omutima g...   \n",
              "\n",
              "                                             english source_language  \n",
              "0              Adam and Eve - Were They Real People?             luo  \n",
              "1        In fact, \"love covers a multitude of sins.\"             luo  \n",
              "2  In the fourteenth year of King Hezekiah, Senna...             ach  \n",
              "3                         Who really is my neighbor?             lug  \n",
              "4  He \"looked intently toward the payment of the ...             luo  \n",
              "5                           Out of All the Languages             lug  \n",
              "6  He makes his sun rise upon wicked people and g...             luo  \n",
              "7                      Jehovah Is a Lover of Justice             lug  \n",
              "8                             See That I Get Justice             lug  \n",
              "9  \"The meditation of my heart will be of things ...             lug  "
            ]
          },
          "execution_count": 136,
          "metadata": {},
          "output_type": "execute_result"
        }
      ],
      "source": [
        "mt560_df = pd.read_csv(\"mt560.csv\")\n",
        "mt560_df.head(10)"
      ]
    },
    {
      "cell_type": "code",
      "execution_count": 137,
      "metadata": {},
      "outputs": [
        {
          "data": {
            "text/plain": [
              "array(['luo', 'ach', 'lug', 'nyn'], dtype=object)"
            ]
          },
          "execution_count": 137,
          "metadata": {},
          "output_type": "execute_result"
        }
      ],
      "source": [
        "mt560_df[\"source_language\"].unique()"
      ]
    },
    {
      "cell_type": "code",
      "execution_count": 138,
      "metadata": {},
      "outputs": [
        {
          "data": {
            "text/html": [
              "<div>\n",
              "<style scoped>\n",
              "    .dataframe tbody tr th:only-of-type {\n",
              "        vertical-align: middle;\n",
              "    }\n",
              "\n",
              "    .dataframe tbody tr th {\n",
              "        vertical-align: top;\n",
              "    }\n",
              "\n",
              "    .dataframe thead th {\n",
              "        text-align: right;\n",
              "    }\n",
              "</style>\n",
              "<table border=\"1\" class=\"dataframe\">\n",
              "  <thead>\n",
              "    <tr style=\"text-align: right;\">\n",
              "      <th></th>\n",
              "      <th>source</th>\n",
              "      <th>target</th>\n",
              "      <th>source_language</th>\n",
              "    </tr>\n",
              "  </thead>\n",
              "  <tbody>\n",
              "    <tr>\n",
              "      <th>0</th>\n",
              "      <td>Beduru gi Kuwe kod Ji Duto</td>\n",
              "      <td>Adam and Eve - Were They Real People?</td>\n",
              "      <td>luo</td>\n",
              "    </tr>\n",
              "    <tr>\n",
              "      <th>1</th>\n",
              "      <td>Hera umo richo mogundho.</td>\n",
              "      <td>In fact, \"love covers a multitude of sins.\"</td>\n",
              "      <td>luo</td>\n",
              "    </tr>\n",
              "    <tr>\n",
              "      <th>2</th>\n",
              "      <td>I mwaka me apar wiye angwen me loc pa kabaka K...</td>\n",
              "      <td>In the fourteenth year of King Hezekiah, Senna...</td>\n",
              "      <td>ach</td>\n",
              "    </tr>\n",
              "    <tr>\n",
              "      <th>3</th>\n",
              "      <td>Muliraanwa wange y'ani?</td>\n",
              "      <td>Who really is my neighbor?</td>\n",
              "      <td>lug</td>\n",
              "    </tr>\n",
              "    <tr>\n",
              "      <th>4</th>\n",
              "      <td>Notego wang'e kuom pokne.</td>\n",
              "      <td>He \"looked intently toward the payment of the ...</td>\n",
              "      <td>luo</td>\n",
              "    </tr>\n",
              "  </tbody>\n",
              "</table>\n",
              "</div>"
            ],
            "text/plain": [
              "                                              source  \\\n",
              "0                         Beduru gi Kuwe kod Ji Duto   \n",
              "1                           Hera umo richo mogundho.   \n",
              "2  I mwaka me apar wiye angwen me loc pa kabaka K...   \n",
              "3                            Muliraanwa wange y'ani?   \n",
              "4                          Notego wang'e kuom pokne.   \n",
              "\n",
              "                                              target source_language  \n",
              "0              Adam and Eve - Were They Real People?             luo  \n",
              "1        In fact, \"love covers a multitude of sins.\"             luo  \n",
              "2  In the fourteenth year of King Hezekiah, Senna...             ach  \n",
              "3                         Who really is my neighbor?             lug  \n",
              "4  He \"looked intently toward the payment of the ...             luo  "
            ]
          },
          "execution_count": 138,
          "metadata": {},
          "output_type": "execute_result"
        }
      ],
      "source": [
        "mt560_df.rename(columns={\"english\": \"target\"}, inplace=True)\n",
        "mt560_df.head()"
      ]
    },
    {
      "cell_type": "code",
      "execution_count": 139,
      "metadata": {},
      "outputs": [],
      "source": [
        "mt560_df[[\"source\"]].to_csv(\"train_mt560.src\", header=None, index=None, sep=\"\\t\", mode=\"a\")\n",
        "mt560_df[[\"target\"]].to_csv(\"train_mt560.tgt\", header=None, index=None, sep=\"\\t\", mode=\"a\")"
      ]
    },
    {
      "cell_type": "markdown",
      "metadata": {
        "id": "nN25UQKVPT8X"
      },
      "source": [
        "### Create dataset folders and add dataset files\n"
      ]
    },
    {
      "cell_type": "code",
      "execution_count": 140,
      "metadata": {
        "id": "P3sbBBxXPT-x"
      },
      "outputs": [],
      "source": [
        "!mkdir multilingual-dataset\n"
      ]
    },
    {
      "cell_type": "code",
      "execution_count": 141,
      "metadata": {
        "id": "Q9smZG9_PUCW"
      },
      "outputs": [],
      "source": [
        "!mv {*.src,*.tgt} multilingual-dataset"
      ]
    },
    {
      "cell_type": "code",
      "execution_count": 142,
      "metadata": {},
      "outputs": [
        {
          "name": "stdout",
          "output_type": "stream",
          "text": [
            "test_ach.src     test_nyn.tgt     train_flores.src val_lgg.tgt\n",
            "test_ach.tgt     test_teo.src     train_flores.tgt val_lug.src\n",
            "test_lgg.src     test_teo.tgt     train_mt560.src  val_lug.tgt\n",
            "test_lgg.tgt     train.src        train_mt560.tgt  val_nyn.src\n",
            "test_lug.src     train.tgt        val_ach.src      val_nyn.tgt\n",
            "test_lug.tgt     train_ai4d.src   val_ach.tgt      val_teo.src\n",
            "test_nyn.src     train_ai4d.tgt   val_lgg.src      val_teo.tgt\n"
          ]
        }
      ],
      "source": [
        "!ls multilingual-dataset"
      ]
    },
    {
      "cell_type": "code",
      "execution_count": 143,
      "metadata": {
        "id": "Rj75Lo6YUH7F"
      },
      "outputs": [],
      "source": [
        "!mkdir -p v7-dataset/v7.0/supervised/mul-en"
      ]
    },
    {
      "cell_type": "code",
      "execution_count": 144,
      "metadata": {
        "colab": {
          "base_uri": "https://localhost:8080/"
        },
        "id": "m6M0pwk2UH-M",
        "outputId": "22efb854-ee65-425e-8ff9-7d49a93d3776"
      },
      "outputs": [
        {
          "name": "stdout",
          "output_type": "stream",
          "text": [
            "multilingual-dataset/test_ach.src -> v7-dataset/v7.0/supervised/mul-en/test_ach.src\n",
            "multilingual-dataset/test_lgg.src -> v7-dataset/v7.0/supervised/mul-en/test_lgg.src\n",
            "multilingual-dataset/test_lug.src -> v7-dataset/v7.0/supervised/mul-en/test_lug.src\n",
            "multilingual-dataset/test_nyn.src -> v7-dataset/v7.0/supervised/mul-en/test_nyn.src\n",
            "multilingual-dataset/test_teo.src -> v7-dataset/v7.0/supervised/mul-en/test_teo.src\n",
            "multilingual-dataset/train.src -> v7-dataset/v7.0/supervised/mul-en/train.src\n",
            "multilingual-dataset/train_ai4d.src -> v7-dataset/v7.0/supervised/mul-en/train_ai4d.src\n",
            "multilingual-dataset/train_flores.src -> v7-dataset/v7.0/supervised/mul-en/train_flores.src\n",
            "multilingual-dataset/train_mt560.src -> v7-dataset/v7.0/supervised/mul-en/train_mt560.src\n",
            "multilingual-dataset/val_ach.src -> v7-dataset/v7.0/supervised/mul-en/val_ach.src\n",
            "multilingual-dataset/val_lgg.src -> v7-dataset/v7.0/supervised/mul-en/val_lgg.src\n",
            "multilingual-dataset/val_lug.src -> v7-dataset/v7.0/supervised/mul-en/val_lug.src\n",
            "multilingual-dataset/val_nyn.src -> v7-dataset/v7.0/supervised/mul-en/val_nyn.src\n",
            "multilingual-dataset/val_teo.src -> v7-dataset/v7.0/supervised/mul-en/val_teo.src\n",
            "multilingual-dataset/test_ach.tgt -> v7-dataset/v7.0/supervised/mul-en/test_ach.tgt\n",
            "multilingual-dataset/test_lgg.tgt -> v7-dataset/v7.0/supervised/mul-en/test_lgg.tgt\n",
            "multilingual-dataset/test_lug.tgt -> v7-dataset/v7.0/supervised/mul-en/test_lug.tgt\n",
            "multilingual-dataset/test_nyn.tgt -> v7-dataset/v7.0/supervised/mul-en/test_nyn.tgt\n",
            "multilingual-dataset/test_teo.tgt -> v7-dataset/v7.0/supervised/mul-en/test_teo.tgt\n",
            "multilingual-dataset/train.tgt -> v7-dataset/v7.0/supervised/mul-en/train.tgt\n",
            "multilingual-dataset/train_ai4d.tgt -> v7-dataset/v7.0/supervised/mul-en/train_ai4d.tgt\n",
            "multilingual-dataset/train_flores.tgt -> v7-dataset/v7.0/supervised/mul-en/train_flores.tgt\n",
            "multilingual-dataset/train_mt560.tgt -> v7-dataset/v7.0/supervised/mul-en/train_mt560.tgt\n",
            "multilingual-dataset/val_ach.tgt -> v7-dataset/v7.0/supervised/mul-en/val_ach.tgt\n",
            "multilingual-dataset/val_lgg.tgt -> v7-dataset/v7.0/supervised/mul-en/val_lgg.tgt\n",
            "multilingual-dataset/val_lug.tgt -> v7-dataset/v7.0/supervised/mul-en/val_lug.tgt\n",
            "multilingual-dataset/val_nyn.tgt -> v7-dataset/v7.0/supervised/mul-en/val_nyn.tgt\n",
            "multilingual-dataset/val_teo.tgt -> v7-dataset/v7.0/supervised/mul-en/val_teo.tgt\n"
          ]
        }
      ],
      "source": [
        "!mv -v multilingual-dataset/*.{src,tgt} v7-dataset/v7.0/supervised/mul-en"
      ]
    },
    {
      "cell_type": "markdown",
      "metadata": {},
      "source": [
        "### Part 2: Create English to all languages dataset (en-mul)"
      ]
    },
    {
      "cell_type": "code",
      "execution_count": 146,
      "metadata": {
        "id": "VURBQuXtII2c"
      },
      "outputs": [],
      "source": [
        "# Function to generate multiple training examples from one translated sentence: English to other languages\n",
        "def training_examples_from_sentence_en_mul(translated_sentence,\n",
        "                                    source_language = \"English\"):\n",
        "  languages = set(translated_sentence.keys())\n",
        "\n",
        "  if len(languages) < 2:\n",
        "    raise ValueError(\"There must be at least two different languages, \"\n",
        "                     f\"found {languages})\")\n",
        "\n",
        "  training_examples = []\n",
        "  languages.remove(\"English\")\n",
        "  for target_language in languages:\n",
        "      source_text = (f\">>{language_codes[target_language]}<< \"\n",
        "                     f\"{translated_sentence[source_language]}\")\n",
        "      target_text = translated_sentence[target_language]\n",
        "\n",
        "      training_examples.append(\n",
        "                              {\n",
        "                                \"source\": source_text, \n",
        "                                \"target\": target_text,\n",
        "                                \"target_language\": target_language\n",
        "                              })\n",
        "  return training_examples"
      ]
    },
    {
      "cell_type": "code",
      "execution_count": 147,
      "metadata": {
        "colab": {
          "base_uri": "https://localhost:8080/"
        },
        "id": "S0YDiO79LoWV",
        "outputId": "7ff92094-82d5-4829-f750-500df9b1019c"
      },
      "outputs": [
        {
          "data": {
            "text/plain": [
              "[{'source': '>>lug<< Eggplants always grow best under warm conditions.',\n",
              "  'target': 'Bbiringanya lubeerera  asinga kukulira mu mbeera ya bugumu',\n",
              "  'target_language': 'Luganda'},\n",
              " {'source': '>>lgg<< Eggplants always grow best under warm conditions.',\n",
              "  'target': 'Birinyanya eyi zo kililiru ndeni angu driza ma alia.',\n",
              "  'target_language': 'Lugbara'},\n",
              " {'source': '>>nyn<< Eggplants always grow best under warm conditions.',\n",
              "  'target': \"Entonga buriijo zikurira omu mbeera y'obwire erikutagata\",\n",
              "  'target_language': 'Runyankole'},\n",
              " {'source': '>>ach<< Eggplants always grow best under warm conditions.',\n",
              "  'target': 'Bilinyanya pol kare dongo maber ka lyeto tye',\n",
              "  'target_language': 'Acholi'},\n",
              " {'source': '>>teo<< Eggplants always grow best under warm conditions.',\n",
              "  'target': 'Epoloi ebirinyanyi ojok apakio nu emwanar akwap.',\n",
              "  'target_language': 'Ateso'}]"
            ]
          },
          "execution_count": 147,
          "metadata": {},
          "output_type": "execute_result"
        }
      ],
      "source": [
        "training_examples_from_sentence_en_mul(translated_sentence)"
      ]
    },
    {
      "cell_type": "code",
      "execution_count": 148,
      "metadata": {
        "id": "H_H4tV4mHpA_"
      },
      "outputs": [
        {
          "data": {
            "text/plain": [
              "[{'source': '>>lug<< We need the accountability of funds given to you.',\n",
              "  'target': \"Twetaaga embalirira y'ensimbi ezakuweebwa.\",\n",
              "  'target_language': 'Luganda'},\n",
              " {'source': '>>lgg<< We need the accountability of funds given to you.',\n",
              "  'target': \"Ale ki geri mini robia 'bani fe mi dri ri ayuzu ri ni.\",\n",
              "  'target_language': 'Lugbara'},\n",
              " {'source': '>>nyn<< We need the accountability of funds given to you.',\n",
              "  'target': 'Nitwenda embaririra ya sente ezimwaheirwe.',\n",
              "  'target_language': 'Runyankole'},\n",
              " {'source': '>>ach<< We need the accountability of funds given to you.',\n",
              "  'target': 'Wamito niang kit ma itiyo ki cene ma wamiyi',\n",
              "  'target_language': 'Acholi'},\n",
              " {'source': '>>teo<< We need the accountability of funds given to you.',\n",
              "  'target': 'Ikoto iso aitodunet na itwasamatere ikapun lu ijaikinio yes.',\n",
              "  'target_language': 'Ateso'}]"
            ]
          },
          "execution_count": 148,
          "metadata": {},
          "output_type": "execute_result"
        }
      ],
      "source": [
        "train = []\n",
        "for i in range(len(train_df)):\n",
        "  train.append(training_examples_from_sentence_en_mul(dict(train_df.iloc[i])))\n",
        "\n",
        "train[0]"
      ]
    },
    {
      "cell_type": "code",
      "execution_count": 149,
      "metadata": {
        "colab": {
          "base_uri": "https://localhost:8080/"
        },
        "id": "4pvSsLSDG6iu",
        "outputId": "339c253f-2f6d-4a68-f628-7ac335aa1242"
      },
      "outputs": [
        {
          "data": {
            "text/plain": [
              "[{'source': '>>lug<< My father was killed in the attack.',\n",
              "  'target': 'Taata wange yafiira mu bulumbaganyi.',\n",
              "  'target_language': 'Luganda'},\n",
              " {'source': '>>lgg<< My father was killed in the attack.',\n",
              "  'target': \"Ba 'di ma atinie'yo amvuta ndeniri ma alea.\",\n",
              "  'target_language': 'Lugbara'},\n",
              " {'source': '>>nyn<< My father was killed in the attack.',\n",
              "  'target': 'Tata akaitirwa omu kurumbwa.',\n",
              "  'target_language': 'Runyankole'},\n",
              " {'source': '>>ach<< My father was killed in the attack.',\n",
              "  'target': 'Kineno wora I mony ne.',\n",
              "  'target_language': 'Acholi'},\n",
              " {'source': '>>teo<< My father was killed in the attack.',\n",
              "  'target': 'Aponi koyarai papaka kotoma ojie kangol.',\n",
              "  'target_language': 'Ateso'}]"
            ]
          },
          "execution_count": 149,
          "metadata": {},
          "output_type": "execute_result"
        }
      ],
      "source": [
        "test = []\n",
        "for i in range(len(test_df)):\n",
        "  test.append(training_examples_from_sentence_en_mul(dict(test_df.iloc[i])))\n",
        "\n",
        "test[0]"
      ]
    },
    {
      "cell_type": "code",
      "execution_count": 150,
      "metadata": {},
      "outputs": [
        {
          "data": {
            "text/plain": [
              "[{'source': '>>lug<< The data indicate that military expenditure in Rwanda increased by two thousand eighteen.',\n",
              "  'target': \"Ebibalo biraga nti ensaasaanya ku by'okulwanyisa mu Rwanda yeeyongera mu nkumi bbiri mu kkumi na munaana.\",\n",
              "  'target_language': 'Luganda'},\n",
              " {'source': '>>lgg<< The data indicate that military expenditure in Rwanda increased by two thousand eighteen.',\n",
              "  'target': \"O'duko nderi ece kini Rwanda ma aje afa marani ni 'diyi ma driari ma ongmbo tu alifu iri mudri drini arosi\",\n",
              "  'target_language': 'Lugbara'},\n",
              " {'source': '>>nyn<< The data indicate that military expenditure in Rwanda increased by two thousand eighteen.',\n",
              "  'target': 'Ebihandiikirwe nibyoreeka ku enshohoza ya Rwanda aha mahe yayeyongiire  kurumba omwaka enkumi ibiri ikumi na munaana.',\n",
              "  'target_language': 'Runyankole'},\n",
              " {'source': '>>ach<< The data indicate that military expenditure in Rwanda increased by two thousand eighteen.',\n",
              "  'target': 'Dul ngec meno waco ni Rwanda wel cente ma Rwanda tiyo kwede I lweny omede I mwaka alip aryo ki apar wiye aboro.',\n",
              "  'target_language': 'Acholi'},\n",
              " {'source': '>>teo<< The data indicate that military expenditure in Rwanda increased by two thousand eighteen.',\n",
              "  'target': 'Itodunitos akiro nuingadatai ebe abu etosomae loka ikapun kanu ajore iyatakin kokaru ilukumin iarei itomonakanyauni.',\n",
              "  'target_language': 'Ateso'}]"
            ]
          },
          "execution_count": 150,
          "metadata": {},
          "output_type": "execute_result"
        }
      ],
      "source": [
        "val = []\n",
        "for i in range(len(val_df)):\n",
        "  val.append(training_examples_from_sentence_en_mul(dict(val_df.iloc[i])))\n",
        "\n",
        "val[0]"
      ]
    },
    {
      "cell_type": "code",
      "execution_count": 151,
      "metadata": {},
      "outputs": [],
      "source": [
        "train_df_final_2 = pd.DataFrame(list(chain.from_iterable(train)))\n",
        "test_df_final_2 = pd.DataFrame(list(chain.from_iterable(test)))\n",
        "val_df_final_2 = pd.DataFrame(list(chain.from_iterable(val)))"
      ]
    },
    {
      "cell_type": "code",
      "execution_count": 152,
      "metadata": {},
      "outputs": [
        {
          "data": {
            "text/plain": [
              "['Luganda', 'Lugbara', 'Runyankole', 'Acholi', 'Ateso']"
            ]
          },
          "execution_count": 152,
          "metadata": {},
          "output_type": "execute_result"
        }
      ],
      "source": [
        "target_languages = list(train_df_final[\"source_language\"].unique())\n",
        "target_languages"
      ]
    },
    {
      "cell_type": "code",
      "execution_count": 153,
      "metadata": {},
      "outputs": [],
      "source": [
        "train_df_final_2[\"source\"].to_csv(f\"train.src\", header=False, index=False, sep=\"\\t\", mode=\"a\")\n",
        "train_df_final_2[\"target\"].to_csv(f\"train.tgt\", header=False, index=False, sep=\"\\t\", mode=\"a\")"
      ]
    },
    {
      "cell_type": "code",
      "execution_count": 154,
      "metadata": {},
      "outputs": [],
      "source": [
        "for language in source_languages:\n",
        "    test_df_final_2[test_df_final_2[\"target_language\"] == language][\"source\"].to_csv(f\"test_{language_codes[language]}.src\", header=False, index=False, sep=\"\\t\", mode=\"a\")\n",
        "    test_df_final_2[test_df_final_2[\"target_language\"] == language][\"target\"].to_csv(f\"test_{language_codes[language]}.tgt\", header=False, index=False, sep=\"\\t\", mode=\"a\")\n",
        "    val_df_final_2[val_df_final_2[\"target_language\"] == language][\"source\"].to_csv(f\"val_{language_codes[language]}.src\", header=False, index=False, sep=\"\\t\", mode=\"a\")\n",
        "    val_df_final_2[val_df_final_2[\"target_language\"] == language][\"target\"].to_csv(f\"val_{language_codes[language]}.tgt\", header=False, index=False, sep=\"\\t\", mode=\"a\")"
      ]
    },
    {
      "cell_type": "markdown",
      "metadata": {},
      "source": [
        "### AI4D"
      ]
    },
    {
      "cell_type": "code",
      "execution_count": 155,
      "metadata": {},
      "outputs": [
        {
          "data": {
            "text/plain": [
              "[[{'source': '>>lug<< All refugees were requested to register with the chairman.',\n",
              "   'target': 'Abanoonyiboobubudamu bonna baasabiddwa beewandiise ewa ssentebe.',\n",
              "   'target_language': 'Luganda'}],\n",
              " [{'source': \">>lug<< They called for a refugees' meeting yesterday.\",\n",
              "   'target': \"Baayise olukungaana lw'abanoonyiboobubudamu eggulo.\",\n",
              "   'target_language': 'Luganda'}],\n",
              " [{'source': '>>lug<< Refugees had misunderstandings between   themselves.',\n",
              "   'target': \"Abanoonyiboobubudamu b'abadde n'obutakkaanya wakati waabwe.\",\n",
              "   'target_language': 'Luganda'}],\n",
              " [{'source': '>>lug<< We were urged to welcome refugees into our communities.',\n",
              "   'target': 'Twakubirizibwa okwaniriza abanoonyiboobubudamu mu bitundu byaffe.',\n",
              "   'target_language': 'Luganda'}],\n",
              " [{'source': '>>lug<< More development is achieved when we work together.',\n",
              "   'target': 'Bwe tukolera awamu enkulaakulana enyingi efunibwa.',\n",
              "   'target_language': 'Luganda'}]]"
            ]
          },
          "execution_count": 155,
          "metadata": {},
          "output_type": "execute_result"
        }
      ],
      "source": [
        "ai4d = []\n",
        "for i in range(len(ai4d_df)):\n",
        "  ai4d.append(training_examples_from_sentence_en_mul(ai4d_df.loc[i]))\n",
        "\n",
        "ai4d[:5]"
      ]
    },
    {
      "cell_type": "code",
      "execution_count": 156,
      "metadata": {},
      "outputs": [
        {
          "data": {
            "text/html": [
              "<div>\n",
              "<style scoped>\n",
              "    .dataframe tbody tr th:only-of-type {\n",
              "        vertical-align: middle;\n",
              "    }\n",
              "\n",
              "    .dataframe tbody tr th {\n",
              "        vertical-align: top;\n",
              "    }\n",
              "\n",
              "    .dataframe thead th {\n",
              "        text-align: right;\n",
              "    }\n",
              "</style>\n",
              "<table border=\"1\" class=\"dataframe\">\n",
              "  <thead>\n",
              "    <tr style=\"text-align: right;\">\n",
              "      <th></th>\n",
              "      <th>source</th>\n",
              "      <th>target</th>\n",
              "      <th>target_language</th>\n",
              "    </tr>\n",
              "  </thead>\n",
              "  <tbody>\n",
              "    <tr>\n",
              "      <th>0</th>\n",
              "      <td>&gt;&gt;lug&lt;&lt; All refugees were requested to registe...</td>\n",
              "      <td>Abanoonyiboobubudamu bonna baasabiddwa beewand...</td>\n",
              "      <td>Luganda</td>\n",
              "    </tr>\n",
              "    <tr>\n",
              "      <th>1</th>\n",
              "      <td>&gt;&gt;lug&lt;&lt; They called for a refugees' meeting ye...</td>\n",
              "      <td>Baayise olukungaana lw'abanoonyiboobubudamu eg...</td>\n",
              "      <td>Luganda</td>\n",
              "    </tr>\n",
              "    <tr>\n",
              "      <th>2</th>\n",
              "      <td>&gt;&gt;lug&lt;&lt; Refugees had misunderstandings between...</td>\n",
              "      <td>Abanoonyiboobubudamu b'abadde n'obutakkaanya w...</td>\n",
              "      <td>Luganda</td>\n",
              "    </tr>\n",
              "    <tr>\n",
              "      <th>3</th>\n",
              "      <td>&gt;&gt;lug&lt;&lt; We were urged to welcome refugees into...</td>\n",
              "      <td>Twakubirizibwa okwaniriza abanoonyiboobubudamu...</td>\n",
              "      <td>Luganda</td>\n",
              "    </tr>\n",
              "    <tr>\n",
              "      <th>4</th>\n",
              "      <td>&gt;&gt;lug&lt;&lt; More development is achieved when we w...</td>\n",
              "      <td>Bwe tukolera awamu enkulaakulana enyingi efuni...</td>\n",
              "      <td>Luganda</td>\n",
              "    </tr>\n",
              "  </tbody>\n",
              "</table>\n",
              "</div>"
            ],
            "text/plain": [
              "                                              source  \\\n",
              "0  >>lug<< All refugees were requested to registe...   \n",
              "1  >>lug<< They called for a refugees' meeting ye...   \n",
              "2  >>lug<< Refugees had misunderstandings between...   \n",
              "3  >>lug<< We were urged to welcome refugees into...   \n",
              "4  >>lug<< More development is achieved when we w...   \n",
              "\n",
              "                                              target target_language  \n",
              "0  Abanoonyiboobubudamu bonna baasabiddwa beewand...         Luganda  \n",
              "1  Baayise olukungaana lw'abanoonyiboobubudamu eg...         Luganda  \n",
              "2  Abanoonyiboobubudamu b'abadde n'obutakkaanya w...         Luganda  \n",
              "3  Twakubirizibwa okwaniriza abanoonyiboobubudamu...         Luganda  \n",
              "4  Bwe tukolera awamu enkulaakulana enyingi efuni...         Luganda  "
            ]
          },
          "execution_count": 156,
          "metadata": {},
          "output_type": "execute_result"
        }
      ],
      "source": [
        "ai4d_dataset = pd.DataFrame(list(chain.from_iterable(ai4d)))\n",
        "ai4d_dataset.head()"
      ]
    },
    {
      "cell_type": "code",
      "execution_count": 157,
      "metadata": {},
      "outputs": [],
      "source": [
        "ai4d_dataset[[\"source\"]].to_csv(\"train_ai4d.src\", header=None, index=None, sep=\"\\t\", mode=\"a\")\n",
        "ai4d_dataset[[\"target\"]].to_csv(\"train_ai4d.tgt\", header=None, index=None, sep=\"\\t\", mode=\"a\")"
      ]
    },
    {
      "cell_type": "markdown",
      "metadata": {},
      "source": [
        "### Flores 101"
      ]
    },
    {
      "cell_type": "code",
      "execution_count": 159,
      "metadata": {},
      "outputs": [
        {
          "data": {
            "text/plain": [
              "[[{'source': '>>lug<< On Monday, scientists from the Stanford University School of Medicine announced the invention of a new diagnostic tool that can sort cells by type: a tiny printable chip that can be manufactured using standard inkjet printers for possibly about one U.S. cent each.',\n",
              "   'target': \"Ku balaza, Banasayansi okuva mu setendekero ya Stanford ku somero ly'ebyedagala balangirira okuvumbulwa kwa akuuma akakebera nga kasobola okusengeka obutafaali nga kasinzira kukika kyabwo: Akuuma katono akasobola okufulumizibwa ku lupapula akasobola okukolebwa ne Printa enungi ku sente entono nga emu eya US buli kamu.\",\n",
              "   'target_language': 'Luganda'},\n",
              "  {'source': '>>luo<< On Monday, scientists from the Stanford University School of Medicine announced the invention of a new diagnostic tool that can sort cells by type: a tiny printable chip that can be manufactured using standard inkjet printers for possibly about one U.S. cent each.',\n",
              "   'target': \"Chieng' Wuoktich, josayans mawuok e Mbalariany mar Stanford e Skul mar Thieth nolando ni negifwenyo gimanyien mitiyogo e nono tuoche ma nyalo pogo ng'injo mag del kaluwore kod kitgi: en chip moro matin ma inyalo go chapa gi printa ma bende inyalo losi kitiyo kod printa mapile mag inkjet kwom manyalo romo otonglo achiel mar Amerka e moro ka moro.\",\n",
              "   'target_language': 'Luo'}],\n",
              " [{'source': '>>lug<< Lead researchers say this may bring early detection of cancer, tuberculosis, HIV and malaria to patients in low-income countries, where the survival rates for illnesses such as breast cancer can be half those of richer countries.',\n",
              "   'target': 'Abakulira abanoonyereza bagamba nti kino kijakuleetawo okukeberwa amangu endwadde nga kookolo, akafuba, sirimu n’omusuja mu balwadde munsi eziteesobola, eyo okuwona endwadde nga kokoolo wamabeere kutono ddala okusinga munsi engaga.',\n",
              "   'target_language': 'Luganda'},\n",
              "  {'source': '>>luo<< Lead researchers say this may bring early detection of cancer, tuberculosis, HIV and malaria to patients in low-income countries, where the survival rates for illnesses such as breast cancer can be half those of richer countries.',\n",
              "   'target': 'Jononro motelo wachoni ma nyalo kelo fweny machon mag tuoche kaka kansa, tibi, ayaki, gi maleria ne jotuo manie epinje ma yutogi tin, kama kuo mar tuo kaka kansa mar thuno, nyalo bedo nus ne mar pinje man-gi yuto man malo.',\n",
              "   'target_language': 'Luo'}]]"
            ]
          },
          "execution_count": 159,
          "metadata": {},
          "output_type": "execute_result"
        }
      ],
      "source": [
        "flores = []\n",
        "for i in range(len(flores_df)):\n",
        "  flores.append(training_examples_from_sentence_en_mul(flores_df.loc[i]))\n",
        "\n",
        "flores[:2]"
      ]
    },
    {
      "cell_type": "code",
      "execution_count": 160,
      "metadata": {},
      "outputs": [
        {
          "data": {
            "text/html": [
              "<div>\n",
              "<style scoped>\n",
              "    .dataframe tbody tr th:only-of-type {\n",
              "        vertical-align: middle;\n",
              "    }\n",
              "\n",
              "    .dataframe tbody tr th {\n",
              "        vertical-align: top;\n",
              "    }\n",
              "\n",
              "    .dataframe thead th {\n",
              "        text-align: right;\n",
              "    }\n",
              "</style>\n",
              "<table border=\"1\" class=\"dataframe\">\n",
              "  <thead>\n",
              "    <tr style=\"text-align: right;\">\n",
              "      <th></th>\n",
              "      <th>source</th>\n",
              "      <th>target</th>\n",
              "      <th>target_language</th>\n",
              "    </tr>\n",
              "  </thead>\n",
              "  <tbody>\n",
              "    <tr>\n",
              "      <th>0</th>\n",
              "      <td>&gt;&gt;lug&lt;&lt; On Monday, scientists from the Stanfor...</td>\n",
              "      <td>Ku balaza, Banasayansi okuva mu setendekero ya...</td>\n",
              "      <td>Luganda</td>\n",
              "    </tr>\n",
              "    <tr>\n",
              "      <th>1</th>\n",
              "      <td>&gt;&gt;luo&lt;&lt; On Monday, scientists from the Stanfor...</td>\n",
              "      <td>Chieng' Wuoktich, josayans mawuok e Mbalariany...</td>\n",
              "      <td>Luo</td>\n",
              "    </tr>\n",
              "    <tr>\n",
              "      <th>2</th>\n",
              "      <td>&gt;&gt;lug&lt;&lt; Lead researchers say this may bring ea...</td>\n",
              "      <td>Abakulira abanoonyereza bagamba nti kino kijak...</td>\n",
              "      <td>Luganda</td>\n",
              "    </tr>\n",
              "    <tr>\n",
              "      <th>3</th>\n",
              "      <td>&gt;&gt;luo&lt;&lt; Lead researchers say this may bring ea...</td>\n",
              "      <td>Jononro motelo wachoni ma nyalo kelo fweny mac...</td>\n",
              "      <td>Luo</td>\n",
              "    </tr>\n",
              "    <tr>\n",
              "      <th>4</th>\n",
              "      <td>&gt;&gt;lug&lt;&lt; The JAS 39C Gripen crashed onto a runw...</td>\n",
              "      <td>Aba JAS 39C Gripen basasanila mu luguudo ku sa...</td>\n",
              "      <td>Luganda</td>\n",
              "    </tr>\n",
              "    <tr>\n",
              "      <th>5</th>\n",
              "      <td>&gt;&gt;luo&lt;&lt; The JAS 39C Gripen crashed onto a runw...</td>\n",
              "      <td>Ndegeno mar JAS 39C Gripen ne ogore piny e nda...</td>\n",
              "      <td>Luo</td>\n",
              "    </tr>\n",
              "    <tr>\n",
              "      <th>6</th>\n",
              "      <td>&gt;&gt;lug&lt;&lt; The pilot was identified as Squadron L...</td>\n",
              "      <td>Omuvuzi wenyonyi yategerekeka nga omukulembeze...</td>\n",
              "      <td>Luganda</td>\n",
              "    </tr>\n",
              "    <tr>\n",
              "      <th>7</th>\n",
              "      <td>&gt;&gt;luo&lt;&lt; The pilot was identified as Squadron L...</td>\n",
              "      <td>Jariemb ndegeno noyangi kaka Squadron Dilokrit...</td>\n",
              "      <td>Luo</td>\n",
              "    </tr>\n",
              "  </tbody>\n",
              "</table>\n",
              "</div>"
            ],
            "text/plain": [
              "                                              source  \\\n",
              "0  >>lug<< On Monday, scientists from the Stanfor...   \n",
              "1  >>luo<< On Monday, scientists from the Stanfor...   \n",
              "2  >>lug<< Lead researchers say this may bring ea...   \n",
              "3  >>luo<< Lead researchers say this may bring ea...   \n",
              "4  >>lug<< The JAS 39C Gripen crashed onto a runw...   \n",
              "5  >>luo<< The JAS 39C Gripen crashed onto a runw...   \n",
              "6  >>lug<< The pilot was identified as Squadron L...   \n",
              "7  >>luo<< The pilot was identified as Squadron L...   \n",
              "\n",
              "                                              target target_language  \n",
              "0  Ku balaza, Banasayansi okuva mu setendekero ya...         Luganda  \n",
              "1  Chieng' Wuoktich, josayans mawuok e Mbalariany...             Luo  \n",
              "2  Abakulira abanoonyereza bagamba nti kino kijak...         Luganda  \n",
              "3  Jononro motelo wachoni ma nyalo kelo fweny mac...             Luo  \n",
              "4  Aba JAS 39C Gripen basasanila mu luguudo ku sa...         Luganda  \n",
              "5  Ndegeno mar JAS 39C Gripen ne ogore piny e nda...             Luo  \n",
              "6  Omuvuzi wenyonyi yategerekeka nga omukulembeze...         Luganda  \n",
              "7  Jariemb ndegeno noyangi kaka Squadron Dilokrit...             Luo  "
            ]
          },
          "execution_count": 160,
          "metadata": {},
          "output_type": "execute_result"
        }
      ],
      "source": [
        "flores_dataset = pd.DataFrame(list(chain.from_iterable(flores)))\n",
        "flores_dataset.head(8)"
      ]
    },
    {
      "cell_type": "code",
      "execution_count": 161,
      "metadata": {},
      "outputs": [],
      "source": [
        "flores_dataset[[\"source\"]].to_csv(\"train_flores.src\", header=None, index=None, sep=\"\\t\", mode=\"a\")\n",
        "flores_dataset[[\"target\"]].to_csv(\"train_flores.tgt\", header=None, index=None, sep=\"\\t\", mode=\"a\")\n"
      ]
    },
    {
      "cell_type": "markdown",
      "metadata": {},
      "source": [
        "### MT560"
      ]
    },
    {
      "cell_type": "code",
      "execution_count": 162,
      "metadata": {},
      "outputs": [
        {
          "data": {
            "text/html": [
              "<div>\n",
              "<style scoped>\n",
              "    .dataframe tbody tr th:only-of-type {\n",
              "        vertical-align: middle;\n",
              "    }\n",
              "\n",
              "    .dataframe tbody tr th {\n",
              "        vertical-align: top;\n",
              "    }\n",
              "\n",
              "    .dataframe thead th {\n",
              "        text-align: right;\n",
              "    }\n",
              "</style>\n",
              "<table border=\"1\" class=\"dataframe\">\n",
              "  <thead>\n",
              "    <tr style=\"text-align: right;\">\n",
              "      <th></th>\n",
              "      <th>source</th>\n",
              "      <th>target</th>\n",
              "      <th>source_language</th>\n",
              "    </tr>\n",
              "  </thead>\n",
              "  <tbody>\n",
              "    <tr>\n",
              "      <th>0</th>\n",
              "      <td>Beduru gi Kuwe kod Ji Duto</td>\n",
              "      <td>Adam and Eve - Were They Real People?</td>\n",
              "      <td>luo</td>\n",
              "    </tr>\n",
              "    <tr>\n",
              "      <th>1</th>\n",
              "      <td>Hera umo richo mogundho.</td>\n",
              "      <td>In fact, \"love covers a multitude of sins.\"</td>\n",
              "      <td>luo</td>\n",
              "    </tr>\n",
              "    <tr>\n",
              "      <th>2</th>\n",
              "      <td>I mwaka me apar wiye angwen me loc pa kabaka K...</td>\n",
              "      <td>In the fourteenth year of King Hezekiah, Senna...</td>\n",
              "      <td>ach</td>\n",
              "    </tr>\n",
              "    <tr>\n",
              "      <th>3</th>\n",
              "      <td>Muliraanwa wange y'ani?</td>\n",
              "      <td>Who really is my neighbor?</td>\n",
              "      <td>lug</td>\n",
              "    </tr>\n",
              "    <tr>\n",
              "      <th>4</th>\n",
              "      <td>Notego wang'e kuom pokne.</td>\n",
              "      <td>He \"looked intently toward the payment of the ...</td>\n",
              "      <td>luo</td>\n",
              "    </tr>\n",
              "  </tbody>\n",
              "</table>\n",
              "</div>"
            ],
            "text/plain": [
              "                                              source  \\\n",
              "0                         Beduru gi Kuwe kod Ji Duto   \n",
              "1                           Hera umo richo mogundho.   \n",
              "2  I mwaka me apar wiye angwen me loc pa kabaka K...   \n",
              "3                            Muliraanwa wange y'ani?   \n",
              "4                          Notego wang'e kuom pokne.   \n",
              "\n",
              "                                              target source_language  \n",
              "0              Adam and Eve - Were They Real People?             luo  \n",
              "1        In fact, \"love covers a multitude of sins.\"             luo  \n",
              "2  In the fourteenth year of King Hezekiah, Senna...             ach  \n",
              "3                         Who really is my neighbor?             lug  \n",
              "4  He \"looked intently toward the payment of the ...             luo  "
            ]
          },
          "execution_count": 162,
          "metadata": {},
          "output_type": "execute_result"
        }
      ],
      "source": [
        "mt560_df.head()"
      ]
    },
    {
      "cell_type": "code",
      "execution_count": 163,
      "metadata": {},
      "outputs": [
        {
          "data": {
            "text/html": [
              "<div>\n",
              "<style scoped>\n",
              "    .dataframe tbody tr th:only-of-type {\n",
              "        vertical-align: middle;\n",
              "    }\n",
              "\n",
              "    .dataframe tbody tr th {\n",
              "        vertical-align: top;\n",
              "    }\n",
              "\n",
              "    .dataframe thead th {\n",
              "        text-align: right;\n",
              "    }\n",
              "</style>\n",
              "<table border=\"1\" class=\"dataframe\">\n",
              "  <thead>\n",
              "    <tr style=\"text-align: right;\">\n",
              "      <th></th>\n",
              "      <th>target</th>\n",
              "      <th>source</th>\n",
              "      <th>target_language</th>\n",
              "    </tr>\n",
              "  </thead>\n",
              "  <tbody>\n",
              "    <tr>\n",
              "      <th>0</th>\n",
              "      <td>Beduru gi Kuwe kod Ji Duto</td>\n",
              "      <td>Adam and Eve - Were They Real People?</td>\n",
              "      <td>luo</td>\n",
              "    </tr>\n",
              "    <tr>\n",
              "      <th>1</th>\n",
              "      <td>Hera umo richo mogundho.</td>\n",
              "      <td>In fact, \"love covers a multitude of sins.\"</td>\n",
              "      <td>luo</td>\n",
              "    </tr>\n",
              "    <tr>\n",
              "      <th>2</th>\n",
              "      <td>I mwaka me apar wiye angwen me loc pa kabaka K...</td>\n",
              "      <td>In the fourteenth year of King Hezekiah, Senna...</td>\n",
              "      <td>ach</td>\n",
              "    </tr>\n",
              "    <tr>\n",
              "      <th>3</th>\n",
              "      <td>Muliraanwa wange y'ani?</td>\n",
              "      <td>Who really is my neighbor?</td>\n",
              "      <td>lug</td>\n",
              "    </tr>\n",
              "    <tr>\n",
              "      <th>4</th>\n",
              "      <td>Notego wang'e kuom pokne.</td>\n",
              "      <td>He \"looked intently toward the payment of the ...</td>\n",
              "      <td>luo</td>\n",
              "    </tr>\n",
              "  </tbody>\n",
              "</table>\n",
              "</div>"
            ],
            "text/plain": [
              "                                              target  \\\n",
              "0                         Beduru gi Kuwe kod Ji Duto   \n",
              "1                           Hera umo richo mogundho.   \n",
              "2  I mwaka me apar wiye angwen me loc pa kabaka K...   \n",
              "3                            Muliraanwa wange y'ani?   \n",
              "4                          Notego wang'e kuom pokne.   \n",
              "\n",
              "                                              source target_language  \n",
              "0              Adam and Eve - Were They Real People?             luo  \n",
              "1        In fact, \"love covers a multitude of sins.\"             luo  \n",
              "2  In the fourteenth year of King Hezekiah, Senna...             ach  \n",
              "3                         Who really is my neighbor?             lug  \n",
              "4  He \"looked intently toward the payment of the ...             luo  "
            ]
          },
          "execution_count": 163,
          "metadata": {},
          "output_type": "execute_result"
        }
      ],
      "source": [
        "# Rename mt560 columns to fit the en-mul use-case\n",
        "mt560_df.rename(columns={\"source\": \"target\", \"target\": \"source\", \"source_language\": \"target_language\"}, inplace=True)\n",
        "mt560_df.head()"
      ]
    },
    {
      "cell_type": "code",
      "execution_count": 164,
      "metadata": {},
      "outputs": [],
      "source": [
        "# Separate function for MT560 dataset\n",
        "def training_examples_from_mt560_en_mul(row):\n",
        "    source = f\">>{row['target_language']}<< {row['source']}\"\n",
        "    return source"
      ]
    },
    {
      "cell_type": "code",
      "execution_count": 165,
      "metadata": {},
      "outputs": [],
      "source": [
        "mt560_df[\"source\"] = mt560_df.apply(training_examples_from_mt560_en_mul, axis=1)"
      ]
    },
    {
      "cell_type": "code",
      "execution_count": 166,
      "metadata": {},
      "outputs": [
        {
          "data": {
            "text/html": [
              "<div>\n",
              "<style scoped>\n",
              "    .dataframe tbody tr th:only-of-type {\n",
              "        vertical-align: middle;\n",
              "    }\n",
              "\n",
              "    .dataframe tbody tr th {\n",
              "        vertical-align: top;\n",
              "    }\n",
              "\n",
              "    .dataframe thead th {\n",
              "        text-align: right;\n",
              "    }\n",
              "</style>\n",
              "<table border=\"1\" class=\"dataframe\">\n",
              "  <thead>\n",
              "    <tr style=\"text-align: right;\">\n",
              "      <th></th>\n",
              "      <th>target</th>\n",
              "      <th>source</th>\n",
              "      <th>target_language</th>\n",
              "    </tr>\n",
              "  </thead>\n",
              "  <tbody>\n",
              "    <tr>\n",
              "      <th>0</th>\n",
              "      <td>Beduru gi Kuwe kod Ji Duto</td>\n",
              "      <td>&gt;&gt;luo&lt;&lt; Adam and Eve - Were They Real People?</td>\n",
              "      <td>luo</td>\n",
              "    </tr>\n",
              "    <tr>\n",
              "      <th>1</th>\n",
              "      <td>Hera umo richo mogundho.</td>\n",
              "      <td>&gt;&gt;luo&lt;&lt; In fact, \"love covers a multitude of s...</td>\n",
              "      <td>luo</td>\n",
              "    </tr>\n",
              "    <tr>\n",
              "      <th>2</th>\n",
              "      <td>I mwaka me apar wiye angwen me loc pa kabaka K...</td>\n",
              "      <td>&gt;&gt;ach&lt;&lt; In the fourteenth year of King Hezekia...</td>\n",
              "      <td>ach</td>\n",
              "    </tr>\n",
              "    <tr>\n",
              "      <th>3</th>\n",
              "      <td>Muliraanwa wange y'ani?</td>\n",
              "      <td>&gt;&gt;lug&lt;&lt; Who really is my neighbor?</td>\n",
              "      <td>lug</td>\n",
              "    </tr>\n",
              "    <tr>\n",
              "      <th>4</th>\n",
              "      <td>Notego wang'e kuom pokne.</td>\n",
              "      <td>&gt;&gt;luo&lt;&lt; He \"looked intently toward the payment...</td>\n",
              "      <td>luo</td>\n",
              "    </tr>\n",
              "    <tr>\n",
              "      <th>5</th>\n",
              "      <td>Okuva mu Nnimi Zonna</td>\n",
              "      <td>&gt;&gt;lug&lt;&lt; Out of All the Languages</td>\n",
              "      <td>lug</td>\n",
              "    </tr>\n",
              "    <tr>\n",
              "      <th>6</th>\n",
              "      <td>Omiyo wang 'chieng' mare wuok ni jo maricho ko...</td>\n",
              "      <td>&gt;&gt;luo&lt;&lt; He makes his sun rise upon wicked peop...</td>\n",
              "      <td>luo</td>\n",
              "    </tr>\n",
              "    <tr>\n",
              "      <th>7</th>\n",
              "      <td>Yakuwa Ayagala Obwenkanya</td>\n",
              "      <td>&gt;&gt;lug&lt;&lt; Jehovah Is a Lover of Justice</td>\n",
              "      <td>lug</td>\n",
              "    </tr>\n",
              "    <tr>\n",
              "      <th>8</th>\n",
              "      <td>Yoleka Obwenkanya ng'Okola ku Nsonga Zange</td>\n",
              "      <td>&gt;&gt;lug&lt;&lt; See That I Get Justice</td>\n",
              "      <td>lug</td>\n",
              "    </tr>\n",
              "    <tr>\n",
              "      <th>9</th>\n",
              "      <td>\"Akamwa kange kanaayogera amagezi; n'omutima g...</td>\n",
              "      <td>&gt;&gt;lug&lt;&lt; \"The meditation of my heart will be of...</td>\n",
              "      <td>lug</td>\n",
              "    </tr>\n",
              "  </tbody>\n",
              "</table>\n",
              "</div>"
            ],
            "text/plain": [
              "                                              target  \\\n",
              "0                         Beduru gi Kuwe kod Ji Duto   \n",
              "1                           Hera umo richo mogundho.   \n",
              "2  I mwaka me apar wiye angwen me loc pa kabaka K...   \n",
              "3                            Muliraanwa wange y'ani?   \n",
              "4                          Notego wang'e kuom pokne.   \n",
              "5                               Okuva mu Nnimi Zonna   \n",
              "6  Omiyo wang 'chieng' mare wuok ni jo maricho ko...   \n",
              "7                          Yakuwa Ayagala Obwenkanya   \n",
              "8         Yoleka Obwenkanya ng'Okola ku Nsonga Zange   \n",
              "9  \"Akamwa kange kanaayogera amagezi; n'omutima g...   \n",
              "\n",
              "                                              source target_language  \n",
              "0      >>luo<< Adam and Eve - Were They Real People?             luo  \n",
              "1  >>luo<< In fact, \"love covers a multitude of s...             luo  \n",
              "2  >>ach<< In the fourteenth year of King Hezekia...             ach  \n",
              "3                 >>lug<< Who really is my neighbor?             lug  \n",
              "4  >>luo<< He \"looked intently toward the payment...             luo  \n",
              "5                   >>lug<< Out of All the Languages             lug  \n",
              "6  >>luo<< He makes his sun rise upon wicked peop...             luo  \n",
              "7              >>lug<< Jehovah Is a Lover of Justice             lug  \n",
              "8                     >>lug<< See That I Get Justice             lug  \n",
              "9  >>lug<< \"The meditation of my heart will be of...             lug  "
            ]
          },
          "execution_count": 166,
          "metadata": {},
          "output_type": "execute_result"
        }
      ],
      "source": [
        "mt560_df.head(10)"
      ]
    },
    {
      "cell_type": "code",
      "execution_count": 167,
      "metadata": {},
      "outputs": [],
      "source": [
        "mt560_df[[\"source\"]].to_csv(\"train_mt560.src\", header=None, index=None, sep=\"\\t\", mode=\"a\")\n",
        "mt560_df[[\"target\"]].to_csv(\"train_mt560.tgt\", header=None, index=None, sep=\"\\t\", mode=\"a\")"
      ]
    },
    {
      "cell_type": "markdown",
      "metadata": {},
      "source": [
        "### Create dataset folders and add dataset files"
      ]
    },
    {
      "cell_type": "code",
      "execution_count": 168,
      "metadata": {},
      "outputs": [],
      "source": [
        "!mv {*.src,*.tgt} multilingual-dataset"
      ]
    },
    {
      "cell_type": "code",
      "execution_count": 169,
      "metadata": {},
      "outputs": [],
      "source": [
        "!mkdir -p v7-dataset/v7.0/supervised/en-mul\n"
      ]
    },
    {
      "cell_type": "code",
      "execution_count": 170,
      "metadata": {},
      "outputs": [
        {
          "name": "stdout",
          "output_type": "stream",
          "text": [
            "multilingual-dataset/test_ach.src -> v7-dataset/v7.0/supervised/en-mul/test_ach.src\n",
            "multilingual-dataset/test_lgg.src -> v7-dataset/v7.0/supervised/en-mul/test_lgg.src\n",
            "multilingual-dataset/test_lug.src -> v7-dataset/v7.0/supervised/en-mul/test_lug.src\n",
            "multilingual-dataset/test_nyn.src -> v7-dataset/v7.0/supervised/en-mul/test_nyn.src\n",
            "multilingual-dataset/test_teo.src -> v7-dataset/v7.0/supervised/en-mul/test_teo.src\n",
            "multilingual-dataset/train.src -> v7-dataset/v7.0/supervised/en-mul/train.src\n",
            "multilingual-dataset/train_ai4d.src -> v7-dataset/v7.0/supervised/en-mul/train_ai4d.src\n",
            "multilingual-dataset/train_flores.src -> v7-dataset/v7.0/supervised/en-mul/train_flores.src\n",
            "multilingual-dataset/train_mt560.src -> v7-dataset/v7.0/supervised/en-mul/train_mt560.src\n",
            "multilingual-dataset/val_ach.src -> v7-dataset/v7.0/supervised/en-mul/val_ach.src\n",
            "multilingual-dataset/val_lgg.src -> v7-dataset/v7.0/supervised/en-mul/val_lgg.src\n",
            "multilingual-dataset/val_lug.src -> v7-dataset/v7.0/supervised/en-mul/val_lug.src\n",
            "multilingual-dataset/val_nyn.src -> v7-dataset/v7.0/supervised/en-mul/val_nyn.src\n",
            "multilingual-dataset/val_teo.src -> v7-dataset/v7.0/supervised/en-mul/val_teo.src\n",
            "multilingual-dataset/test_ach.tgt -> v7-dataset/v7.0/supervised/en-mul/test_ach.tgt\n",
            "multilingual-dataset/test_lgg.tgt -> v7-dataset/v7.0/supervised/en-mul/test_lgg.tgt\n",
            "multilingual-dataset/test_lug.tgt -> v7-dataset/v7.0/supervised/en-mul/test_lug.tgt\n",
            "multilingual-dataset/test_nyn.tgt -> v7-dataset/v7.0/supervised/en-mul/test_nyn.tgt\n",
            "multilingual-dataset/test_teo.tgt -> v7-dataset/v7.0/supervised/en-mul/test_teo.tgt\n",
            "multilingual-dataset/train.tgt -> v7-dataset/v7.0/supervised/en-mul/train.tgt\n",
            "multilingual-dataset/train_ai4d.tgt -> v7-dataset/v7.0/supervised/en-mul/train_ai4d.tgt\n",
            "multilingual-dataset/train_flores.tgt -> v7-dataset/v7.0/supervised/en-mul/train_flores.tgt\n",
            "multilingual-dataset/train_mt560.tgt -> v7-dataset/v7.0/supervised/en-mul/train_mt560.tgt\n",
            "multilingual-dataset/val_ach.tgt -> v7-dataset/v7.0/supervised/en-mul/val_ach.tgt\n",
            "multilingual-dataset/val_lgg.tgt -> v7-dataset/v7.0/supervised/en-mul/val_lgg.tgt\n",
            "multilingual-dataset/val_lug.tgt -> v7-dataset/v7.0/supervised/en-mul/val_lug.tgt\n",
            "multilingual-dataset/val_nyn.tgt -> v7-dataset/v7.0/supervised/en-mul/val_nyn.tgt\n",
            "multilingual-dataset/val_teo.tgt -> v7-dataset/v7.0/supervised/en-mul/val_teo.tgt\n"
          ]
        }
      ],
      "source": [
        "!mv -v multilingual-dataset/*.{src,tgt} v7-dataset/v7.0/supervised/en-mul"
      ]
    },
    {
      "cell_type": "markdown",
      "metadata": {},
      "source": [
        "### Zip dataset"
      ]
    },
    {
      "cell_type": "code",
      "execution_count": 171,
      "metadata": {},
      "outputs": [
        {
          "name": "stdout",
          "output_type": "stream",
          "text": [
            "  adding: v7-dataset/ (stored 0%)\n",
            "  adding: v7-dataset/v7.0/ (stored 0%)\n",
            "  adding: v7-dataset/v7.0/supervised/ (stored 0%)\n",
            "  adding: v7-dataset/v7.0/supervised/mul-en/ (stored 0%)\n",
            "  adding: v7-dataset/v7.0/supervised/mul-en/train.tgt (deflated 90%)\n",
            "  adding: v7-dataset/v7.0/supervised/mul-en/test_lug.tgt (deflated 63%)\n",
            "  adding: v7-dataset/v7.0/supervised/mul-en/val_lug.tgt (deflated 63%)\n",
            "  adding: v7-dataset/v7.0/supervised/mul-en/test_ach.src (deflated 63%)\n",
            "  adding: v7-dataset/v7.0/supervised/mul-en/test_teo.tgt (deflated 63%)\n",
            "  adding: v7-dataset/v7.0/supervised/mul-en/val_ach.src (deflated 63%)\n",
            "  adding: v7-dataset/v7.0/supervised/mul-en/val_teo.tgt (deflated 63%)\n",
            "  adding: v7-dataset/v7.0/supervised/mul-en/train_mt560.tgt (deflated 61%)\n",
            "  adding: v7-dataset/v7.0/supervised/mul-en/val_nyn.src (deflated 65%)\n",
            "  adding: v7-dataset/v7.0/supervised/mul-en/train_ai4d.src (deflated 69%)\n",
            "  adding: v7-dataset/v7.0/supervised/mul-en/test_nyn.src (deflated 64%)\n",
            "  adding: v7-dataset/v7.0/supervised/mul-en/train_flores.src (deflated 59%)\n",
            "  adding: v7-dataset/v7.0/supervised/mul-en/test_lgg.tgt (deflated 63%)\n",
            "  adding: v7-dataset/v7.0/supervised/mul-en/val_lgg.tgt (deflated 63%)\n",
            "  adding: v7-dataset/v7.0/supervised/mul-en/val_lug.src (deflated 65%)\n",
            "  adding: v7-dataset/v7.0/supervised/mul-en/train.src (deflated 59%)\n",
            "  adding: v7-dataset/v7.0/supervised/mul-en/test_lug.src (deflated 65%)\n",
            "  adding: v7-dataset/v7.0/supervised/mul-en/train_mt560.src (deflated 60%)\n",
            "  adding: v7-dataset/v7.0/supervised/mul-en/val_ach.tgt (deflated 63%)\n",
            "  adding: v7-dataset/v7.0/supervised/mul-en/val_teo.src (deflated 66%)\n",
            "  adding: v7-dataset/v7.0/supervised/mul-en/test_ach.tgt (deflated 63%)\n",
            "  adding: v7-dataset/v7.0/supervised/mul-en/test_teo.src (deflated 66%)\n",
            "  adding: v7-dataset/v7.0/supervised/mul-en/test_nyn.tgt (deflated 63%)\n",
            "  adding: v7-dataset/v7.0/supervised/mul-en/val_nyn.tgt (deflated 63%)\n",
            "  adding: v7-dataset/v7.0/supervised/mul-en/train_ai4d.tgt (deflated 67%)\n",
            "  adding: v7-dataset/v7.0/supervised/mul-en/val_lgg.src (deflated 65%)\n",
            "  adding: v7-dataset/v7.0/supervised/mul-en/train_flores.tgt (deflated 77%)\n",
            "  adding: v7-dataset/v7.0/supervised/mul-en/test_lgg.src (deflated 65%)\n",
            "  adding: v7-dataset/v7.0/supervised/en-mul/ (stored 0%)\n",
            "  adding: v7-dataset/v7.0/supervised/en-mul/train.tgt (deflated 59%)\n",
            "  adding: v7-dataset/v7.0/supervised/en-mul/test_lug.tgt (deflated 65%)\n",
            "  adding: v7-dataset/v7.0/supervised/en-mul/val_lug.tgt (deflated 65%)\n",
            "  adding: v7-dataset/v7.0/supervised/en-mul/test_ach.src (deflated 66%)\n",
            "  adding: v7-dataset/v7.0/supervised/en-mul/test_teo.tgt (deflated 66%)\n",
            "  adding: v7-dataset/v7.0/supervised/en-mul/val_ach.src (deflated 67%)\n",
            "  adding: v7-dataset/v7.0/supervised/en-mul/val_teo.tgt (deflated 66%)\n",
            "  adding: v7-dataset/v7.0/supervised/en-mul/train_mt560.tgt (deflated 60%)\n",
            "  adding: v7-dataset/v7.0/supervised/en-mul/val_nyn.src (deflated 67%)\n",
            "  adding: v7-dataset/v7.0/supervised/en-mul/train_ai4d.src (deflated 70%)\n",
            "  adding: v7-dataset/v7.0/supervised/en-mul/test_nyn.src (deflated 66%)\n",
            "  adding: v7-dataset/v7.0/supervised/en-mul/train_flores.src (deflated 77%)\n",
            "  adding: v7-dataset/v7.0/supervised/en-mul/test_lgg.tgt (deflated 65%)\n",
            "  adding: v7-dataset/v7.0/supervised/en-mul/val_lgg.tgt (deflated 65%)\n",
            "  adding: v7-dataset/v7.0/supervised/en-mul/val_lug.src (deflated 67%)\n",
            "  adding: v7-dataset/v7.0/supervised/en-mul/train.src (deflated 86%)\n",
            "  adding: v7-dataset/v7.0/supervised/en-mul/test_lug.src (deflated 66%)\n",
            "  adding: v7-dataset/v7.0/supervised/en-mul/train_mt560.src (deflated 63%)\n",
            "  adding: v7-dataset/v7.0/supervised/en-mul/val_ach.tgt (deflated 63%)\n",
            "  adding: v7-dataset/v7.0/supervised/en-mul/val_teo.src (deflated 67%)\n",
            "  adding: v7-dataset/v7.0/supervised/en-mul/test_ach.tgt (deflated 63%)\n",
            "  adding: v7-dataset/v7.0/supervised/en-mul/test_teo.src (deflated 66%)\n",
            "  adding: v7-dataset/v7.0/supervised/en-mul/test_nyn.tgt (deflated 64%)\n",
            "  adding: v7-dataset/v7.0/supervised/en-mul/val_nyn.tgt (deflated 65%)\n",
            "  adding: v7-dataset/v7.0/supervised/en-mul/train_ai4d.tgt (deflated 69%)\n",
            "  adding: v7-dataset/v7.0/supervised/en-mul/val_lgg.src (deflated 67%)\n",
            "  adding: v7-dataset/v7.0/supervised/en-mul/train_flores.tgt (deflated 59%)\n",
            "  adding: v7-dataset/v7.0/supervised/en-mul/test_lgg.src (deflated 66%)\n"
          ]
        }
      ],
      "source": [
        "# Zip Directory\n",
        "!zip -r v7-dataset.zip v7-dataset/"
      ]
    }
  ],
  "metadata": {
    "colab": {
      "collapsed_sections": [],
      "name": "multilingual_data_prep.ipynb",
      "provenance": []
    },
    "interpreter": {
      "hash": "b0fa6594d8f4cbf19f97940f81e996739fb7646882a419484c72d19e05852a7e"
    },
    "kernelspec": {
      "display_name": "Python 3.9.6 64-bit",
      "name": "python3"
    },
    "language_info": {
      "codemirror_mode": {
        "name": "ipython",
        "version": 3
      },
      "file_extension": ".py",
      "mimetype": "text/x-python",
      "name": "python",
      "nbconvert_exporter": "python",
      "pygments_lexer": "ipython3",
      "version": "3.9.6"
    }
  },
  "nbformat": 4,
  "nbformat_minor": 0
}
