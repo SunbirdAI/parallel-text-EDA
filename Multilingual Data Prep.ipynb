{
  "cells": [
    {
      "cell_type": "markdown",
      "metadata": {},
      "source": [
        "## Compilation of `multilingual` training dataset for Sunbird language models"
      ]
    },
    {
      "cell_type": "code",
      "execution_count": null,
      "metadata": {},
      "outputs": [],
      "source": [
        "# Download Raw dataset\n",
        "!wget https://transfer.sh/AvcWgi/sunbird-ug-lang-v4.0.jsonl"
      ]
    },
    {
      "cell_type": "markdown",
      "metadata": {},
      "source": [
        "## Logic\n",
        "\n",
        "### V1:\n",
        "#### A model that creates anything to English\n",
        "\n",
        "Source sentence: Any Language\n",
        "Target: English\n",
        "\n",
        "\n",
        "### V2:\n",
        "#### Anything to Anything model\n",
        "\n",
        "A model to translate into any of the Ugandan Languages: Specify Language tag\n"
      ]
    },
    {
      "cell_type": "code",
      "execution_count": 1,
      "metadata": {},
      "outputs": [],
      "source": [
        "import json\n",
        "import pandas as pd"
      ]
    },
    {
      "cell_type": "code",
      "execution_count": 2,
      "metadata": {
        "id": "u6zEC-XdEtpf"
      },
      "outputs": [],
      "source": [
        "with open(\"sunbird-ug-lang-v5.0.jsonl\", \"r\") as f:\n",
        "    data = list(f)"
      ]
    },
    {
      "cell_type": "code",
      "execution_count": 3,
      "metadata": {
        "id": "k0Yna8R5vfhJ"
      },
      "outputs": [],
      "source": [
        "# Convert dataset to Dataframe\n",
        "df = pd.DataFrame(data)"
      ]
    },
    {
      "cell_type": "markdown",
      "metadata": {
        "id": "jMRoVeQYwagF"
      },
      "source": [
        "### Part 1: Create Multi-Lingual Dataset to English target"
      ]
    },
    {
      "cell_type": "code",
      "execution_count": 4,
      "metadata": {
        "colab": {
          "base_uri": "https://localhost:8080/"
        },
        "id": "M9bz1C2AFUVA",
        "outputId": "57ec2dd8-650c-4726-9f8a-66219dc8aa13"
      },
      "outputs": [
        {
          "data": {
            "text/plain": [
              "dict_keys(['English', 'Luganda', 'Runyankole', 'Ateso', 'Lugbara', 'Acholi'])"
            ]
          },
          "execution_count": 4,
          "metadata": {},
          "output_type": "execute_result"
        }
      ],
      "source": [
        "translated_sentence = json.loads(data[0])\n",
        "translated_sentence.keys()"
      ]
    },
    {
      "cell_type": "code",
      "execution_count": 5,
      "metadata": {
        "colab": {
          "base_uri": "https://localhost:8080/"
        },
        "id": "QKwqLp4YvJ-J",
        "outputId": "debac4de-bfeb-4483-92d6-d0e30806d21a"
      },
      "outputs": [
        {
          "data": {
            "text/plain": [
              "{'English': 'Eggplants always grow best under warm conditions.',\n",
              " 'Luganda': 'Bbiringanya lubeerera  asinga kukulira mu mbeera ya bugumu',\n",
              " 'Runyankole': \"Entonga buriijo zikurira omu mbeera y'obwire erikutagata\",\n",
              " 'Ateso': 'Epoloi ebirinyanyi ojok apakio nu emwanar akwap.',\n",
              " 'Lugbara': 'Birinyanya eyi zo kililiru ndeni angu driza ma alia.',\n",
              " 'Acholi': 'Bilinyanya pol kare dongo maber ka lyeto tye'}"
            ]
          },
          "execution_count": 5,
          "metadata": {},
          "output_type": "execute_result"
        }
      ],
      "source": [
        "translated_sentence"
      ]
    },
    {
      "cell_type": "code",
      "execution_count": 8,
      "metadata": {
        "id": "SO_hdRMBFVOu"
      },
      "outputs": [],
      "source": [
        "# Function to generate multiple training examples from one translated sentence.\n",
        "def training_examples_from_sentence(translated_sentence,\n",
        "                                    target_language = 'English'):\n",
        "  if target_language not in translated_sentence:\n",
        "    raise ValueError(\n",
        "        f'Target language {target_language} expected in translations, but '\n",
        "        f'{translated_sentence.keys()} found')\n",
        "\n",
        "  source_languages = set(translated_sentence.keys())\n",
        "  source_languages.remove(target_language)\n",
        "\n",
        "  if not source_languages:\n",
        "    raise ValueError('There should be at least one language apart from the '\n",
        "                    'target.')\n",
        "\n",
        "  training_examples = [{'source': translated_sentence[lang], \n",
        "                        'target': translated_sentence[target_language]}\n",
        "                        for lang in source_languages\n",
        "                      ]\n",
        "\n",
        "  return training_examples"
      ]
    },
    {
      "cell_type": "code",
      "execution_count": 9,
      "metadata": {
        "id": "Z-HzlP3lu005"
      },
      "outputs": [],
      "source": [
        "training_examples = training_examples_from_sentence(translated_sentence)"
      ]
    },
    {
      "cell_type": "code",
      "execution_count": 10,
      "metadata": {
        "colab": {
          "base_uri": "https://localhost:8080/"
        },
        "id": "cLHr7qlWu05J",
        "outputId": "682e7072-cc46-4f25-e379-a1af936c69f3"
      },
      "outputs": [
        {
          "data": {
            "text/plain": [
              "[{'source': 'Birinyanya eyi zo kililiru ndeni angu driza ma alia.',\n",
              "  'target': 'Eggplants always grow best under warm conditions.'},\n",
              " {'source': 'Epoloi ebirinyanyi ojok apakio nu emwanar akwap.',\n",
              "  'target': 'Eggplants always grow best under warm conditions.'},\n",
              " {'source': 'Bbiringanya lubeerera  asinga kukulira mu mbeera ya bugumu',\n",
              "  'target': 'Eggplants always grow best under warm conditions.'},\n",
              " {'source': 'Bilinyanya pol kare dongo maber ka lyeto tye',\n",
              "  'target': 'Eggplants always grow best under warm conditions.'},\n",
              " {'source': \"Entonga buriijo zikurira omu mbeera y'obwire erikutagata\",\n",
              "  'target': 'Eggplants always grow best under warm conditions.'}]"
            ]
          },
          "execution_count": 10,
          "metadata": {},
          "output_type": "execute_result"
        }
      ],
      "source": [
        "training_examples"
      ]
    },
    {
      "cell_type": "code",
      "execution_count": 11,
      "metadata": {
        "colab": {
          "base_uri": "https://localhost:8080/"
        },
        "id": "cfIictB9By2V",
        "outputId": "50e601ef-6bb3-490b-daf1-1d4c42015b3d"
      },
      "outputs": [
        {
          "data": {
            "text/plain": [
              "25007"
            ]
          },
          "execution_count": 11,
          "metadata": {},
          "output_type": "execute_result"
        }
      ],
      "source": [
        "len(df)"
      ]
    },
    {
      "cell_type": "code",
      "execution_count": 12,
      "metadata": {
        "id": "z7fOl9Lf0AXr"
      },
      "outputs": [],
      "source": [
        "c = []\n",
        "for i in range(len(df)):\n",
        "  c.append(training_examples_from_sentence(json.loads(data[i])))"
      ]
    },
    {
      "cell_type": "code",
      "execution_count": 13,
      "metadata": {
        "id": "Em7_j3iW0AaE"
      },
      "outputs": [],
      "source": [
        "from itertools import chain\n",
        "dataset = pd.DataFrame(list(chain.from_iterable(c)))"
      ]
    },
    {
      "cell_type": "code",
      "execution_count": 14,
      "metadata": {
        "colab": {
          "base_uri": "https://localhost:8080/"
        },
        "id": "AnKWYoWIPAtz",
        "outputId": "709c8eb0-98fa-4100-ea5d-ee4c4f9174a1"
      },
      "outputs": [
        {
          "data": {
            "text/plain": [
              "(125035, 2)"
            ]
          },
          "execution_count": 14,
          "metadata": {},
          "output_type": "execute_result"
        }
      ],
      "source": [
        "# We have 125K language pairs\n",
        "dataset.shape"
      ]
    },
    {
      "cell_type": "code",
      "execution_count": 15,
      "metadata": {
        "id": "t5NcyaWIPAv1"
      },
      "outputs": [],
      "source": [
        "# train/test/val split\n",
        "\n",
        "from sklearn.model_selection import train_test_split\n",
        "train_df, test_df = train_test_split(dataset, test_size=0.33, random_state=42)"
      ]
    },
    {
      "cell_type": "code",
      "execution_count": 16,
      "metadata": {
        "id": "WLgaIuK1Sw69"
      },
      "outputs": [],
      "source": [
        "test_df, val_df = train_test_split(test_df, test_size=0.5, random_state=42)"
      ]
    },
    {
      "cell_type": "code",
      "execution_count": 17,
      "metadata": {
        "colab": {
          "base_uri": "https://localhost:8080/"
        },
        "id": "d56eKqgnS2Xr",
        "outputId": "7c23f33f-7024-40de-f098-a0cb5d96aeec"
      },
      "outputs": [
        {
          "name": "stdout",
          "output_type": "stream",
          "text": [
            "(83773, 2)\n",
            "(20631, 2)\n",
            "(20631, 2)\n"
          ]
        }
      ],
      "source": [
        "print(train_df.shape)\n",
        "print(test_df.shape)\n",
        "print(val_df.shape)"
      ]
    },
    {
      "cell_type": "code",
      "execution_count": 18,
      "metadata": {
        "id": "WbLzCrFpPAzK"
      },
      "outputs": [],
      "source": [
        "dataset[[\"source\"]].to_csv(r'other.src', header=None, index=None, sep=' ', mode='a')\n",
        "dataset[[\"target\"]].to_csv(r'eng.tgt', header=None, index=None, sep=' ', mode='a')"
      ]
    },
    {
      "cell_type": "markdown",
      "metadata": {
        "id": "j4i5xtmUPTxo"
      },
      "source": [
        "**Create the .txt files needed for the training dataset**"
      ]
    },
    {
      "cell_type": "code",
      "execution_count": 19,
      "metadata": {
        "id": "KTB6Mn3UPT17"
      },
      "outputs": [],
      "source": [
        "language_list = list(dataset.columns)\n",
        "language_codes = {\n",
        "    \"source\": \"src\", \"target\": \"tgt\"\n",
        "}"
      ]
    },
    {
      "cell_type": "code",
      "execution_count": 20,
      "metadata": {
        "id": "J8Z69vVSPT6n"
      },
      "outputs": [],
      "source": [
        "for language in language_list:\n",
        "    train_df[language].to_csv(f\"train.{language_codes[language]}\", header=False, index=False, sep='\\t', mode='a')\n",
        "    test_df[language].to_csv(f\"test.{language_codes[language]}\", header=False, index=False, sep='\\t', mode='a')\n",
        "    val_df[language].to_csv(f\"val.{language_codes[language]}\", header=False, index=False, sep='\\t', mode='a')"
      ]
    },
    {
      "cell_type": "markdown",
      "metadata": {
        "id": "nN25UQKVPT8X"
      },
      "source": [
        "**Create initial dataset folder and add dataset files**\n"
      ]
    },
    {
      "cell_type": "code",
      "execution_count": 21,
      "metadata": {
        "id": "P3sbBBxXPT-x"
      },
      "outputs": [],
      "source": [
        "!mkdir multilingual-dataset\n"
      ]
    },
    {
      "cell_type": "code",
      "execution_count": 22,
      "metadata": {
        "id": "Q9smZG9_PUCW"
      },
      "outputs": [],
      "source": [
        "!mv {*.src,*.tgt} multilingual-dataset"
      ]
    },
    {
      "cell_type": "code",
      "execution_count": 23,
      "metadata": {
        "colab": {
          "base_uri": "https://localhost:8080/"
        },
        "id": "TbH21VQYUGXB",
        "outputId": "12e1f607-e92b-42d1-860c-7a4ff5b08a86"
      },
      "outputs": [
        {
          "name": "stdout",
          "output_type": "stream",
          "text": [
            "eng.tgt   other.src test.src  test.tgt  train.src train.tgt val.src   val.tgt\n"
          ]
        }
      ],
      "source": [
        "!ls multilingual-dataset/\n"
      ]
    },
    {
      "cell_type": "markdown",
      "metadata": {
        "id": "HLzptIAHUH2R"
      },
      "source": [
        "**Update dataset folder structure and create archive**\n"
      ]
    },
    {
      "cell_type": "code",
      "execution_count": 24,
      "metadata": {
        "id": "Rj75Lo6YUH7F"
      },
      "outputs": [],
      "source": [
        "# !mkdir -p v6-dataset/v6.0/supervised/  # if this folder does not exist yet\n",
        "!mkdir v6-dataset/v6.0/supervised/src-tgt"
      ]
    },
    {
      "cell_type": "code",
      "execution_count": 25,
      "metadata": {
        "colab": {
          "base_uri": "https://localhost:8080/"
        },
        "id": "m6M0pwk2UH-M",
        "outputId": "22efb854-ee65-425e-8ff9-7d49a93d3776"
      },
      "outputs": [
        {
          "name": "stdout",
          "output_type": "stream",
          "text": [
            "multilingual-dataset/other.src -> v6-dataset/v6.0/supervised/src-tgt/other.src\n",
            "multilingual-dataset/test.src -> v6-dataset/v6.0/supervised/src-tgt/test.src\n",
            "multilingual-dataset/train.src -> v6-dataset/v6.0/supervised/src-tgt/train.src\n",
            "multilingual-dataset/val.src -> v6-dataset/v6.0/supervised/src-tgt/val.src\n",
            "multilingual-dataset/eng.tgt -> v6-dataset/v6.0/supervised/src-tgt/eng.tgt\n",
            "multilingual-dataset/test.tgt -> v6-dataset/v6.0/supervised/src-tgt/test.tgt\n",
            "multilingual-dataset/train.tgt -> v6-dataset/v6.0/supervised/src-tgt/train.tgt\n",
            "multilingual-dataset/val.tgt -> v6-dataset/v6.0/supervised/src-tgt/val.tgt\n"
          ]
        }
      ],
      "source": [
        "!cp -v multilingual-dataset/*.{src,tgt} v6-dataset/v6.0/supervised/src-tgt"
      ]
    },
    {
      "cell_type": "code",
      "execution_count": 27,
      "metadata": {
        "colab": {
          "base_uri": "https://localhost:8080/"
        },
        "id": "78hrzaHvVcFZ",
        "outputId": "0ac75a1f-0317-483a-b396-2c591f8c617d"
      },
      "outputs": [
        {
          "name": "stdout",
          "output_type": "stream",
          "text": [
            "  adding: v6-dataset/ (stored 0%)\n",
            "  adding: v6-dataset/v6.0/ (stored 0%)\n",
            "  adding: v6-dataset/v6.0/supervised/ (stored 0%)\n",
            "  adding: v6-dataset/v6.0/supervised/en-run/ (stored 0%)\n",
            "  adding: v6-dataset/v6.0/supervised/en-run/test.run (deflated 64%)\n",
            "  adding: v6-dataset/v6.0/supervised/en-run/val.run (deflated 65%)\n",
            "  adding: v6-dataset/v6.0/supervised/en-run/train.en (deflated 64%)\n",
            "  adding: v6-dataset/v6.0/supervised/en-run/val.en (deflated 63%)\n",
            "  adding: v6-dataset/v6.0/supervised/en-run/train.run (deflated 65%)\n",
            "  adding: v6-dataset/v6.0/supervised/en-run/test.en (deflated 63%)\n",
            "  adding: v6-dataset/v6.0/supervised/lug-teo/ (stored 0%)\n",
            "  adding: v6-dataset/v6.0/supervised/lug-teo/train.lug (deflated 66%)\n",
            "  adding: v6-dataset/v6.0/supervised/lug-teo/val.teo (deflated 66%)\n",
            "  adding: v6-dataset/v6.0/supervised/lug-teo/test.teo (deflated 66%)\n",
            "  adding: v6-dataset/v6.0/supervised/lug-teo/val.lug (deflated 65%)\n",
            "  adding: v6-dataset/v6.0/supervised/lug-teo/test.lug (deflated 65%)\n",
            "  adding: v6-dataset/v6.0/supervised/lug-teo/train.teo (deflated 67%)\n",
            "  adding: v6-dataset/v6.0/supervised/en-teo/ (stored 0%)\n",
            "  adding: v6-dataset/v6.0/supervised/en-teo/val.teo (deflated 66%)\n",
            "  adding: v6-dataset/v6.0/supervised/en-teo/test.teo (deflated 66%)\n",
            "  adding: v6-dataset/v6.0/supervised/en-teo/train.en (deflated 64%)\n",
            "  adding: v6-dataset/v6.0/supervised/en-teo/val.en (deflated 63%)\n",
            "  adding: v6-dataset/v6.0/supervised/en-teo/test.en (deflated 63%)\n",
            "  adding: v6-dataset/v6.0/supervised/en-teo/train.teo (deflated 67%)\n",
            "  adding: v6-dataset/v6.0/supervised/run-lgg/ (stored 0%)\n",
            "  adding: v6-dataset/v6.0/supervised/run-lgg/test.run (deflated 64%)\n",
            "  adding: v6-dataset/v6.0/supervised/run-lgg/train.lgg (deflated 65%)\n",
            "  adding: v6-dataset/v6.0/supervised/run-lgg/val.run (deflated 65%)\n",
            "  adding: v6-dataset/v6.0/supervised/run-lgg/test.lgg (deflated 65%)\n",
            "  adding: v6-dataset/v6.0/supervised/run-lgg/train.run (deflated 65%)\n",
            "  adding: v6-dataset/v6.0/supervised/run-lgg/val.lgg (deflated 65%)\n",
            "  adding: v6-dataset/v6.0/supervised/teo-run/ (stored 0%)\n",
            "  adding: v6-dataset/v6.0/supervised/teo-run/test.run (deflated 64%)\n",
            "  adding: v6-dataset/v6.0/supervised/teo-run/val.run (deflated 65%)\n",
            "  adding: v6-dataset/v6.0/supervised/teo-run/val.teo (deflated 66%)\n",
            "  adding: v6-dataset/v6.0/supervised/teo-run/test.teo (deflated 66%)\n",
            "  adding: v6-dataset/v6.0/supervised/teo-run/train.run (deflated 65%)\n",
            "  adding: v6-dataset/v6.0/supervised/teo-run/train.teo (deflated 67%)\n",
            "  adding: v6-dataset/v6.0/supervised/ach-lgg/ (stored 0%)\n",
            "  adding: v6-dataset/v6.0/supervised/ach-lgg/train.ach (deflated 63%)\n",
            "  adding: v6-dataset/v6.0/supervised/ach-lgg/train.lgg (deflated 65%)\n",
            "  adding: v6-dataset/v6.0/supervised/ach-lgg/val.ach (deflated 63%)\n",
            "  adding: v6-dataset/v6.0/supervised/ach-lgg/test.ach (deflated 63%)\n",
            "  adding: v6-dataset/v6.0/supervised/ach-lgg/test.lgg (deflated 65%)\n",
            "  adding: v6-dataset/v6.0/supervised/ach-lgg/val.lgg (deflated 65%)\n",
            "  adding: v6-dataset/v6.0/supervised/lug-run/ (stored 0%)\n",
            "  adding: v6-dataset/v6.0/supervised/lug-run/train.lug (deflated 66%)\n",
            "  adding: v6-dataset/v6.0/supervised/lug-run/test.run (deflated 64%)\n",
            "  adding: v6-dataset/v6.0/supervised/lug-run/val.run (deflated 65%)\n",
            "  adding: v6-dataset/v6.0/supervised/lug-run/val.lug (deflated 65%)\n",
            "  adding: v6-dataset/v6.0/supervised/lug-run/test.lug (deflated 65%)\n",
            "  adding: v6-dataset/v6.0/supervised/lug-run/train.run (deflated 65%)\n",
            "  adding: v6-dataset/v6.0/supervised/ach-teo/ (stored 0%)\n",
            "  adding: v6-dataset/v6.0/supervised/ach-teo/train.ach (deflated 63%)\n",
            "  adding: v6-dataset/v6.0/supervised/ach-teo/val.teo (deflated 66%)\n",
            "  adding: v6-dataset/v6.0/supervised/ach-teo/test.teo (deflated 66%)\n",
            "  adding: v6-dataset/v6.0/supervised/ach-teo/val.ach (deflated 63%)\n",
            "  adding: v6-dataset/v6.0/supervised/ach-teo/test.ach (deflated 63%)\n",
            "  adding: v6-dataset/v6.0/supervised/ach-teo/train.teo (deflated 67%)\n",
            "  adding: v6-dataset/v6.0/supervised/en-lgg/ (stored 0%)\n",
            "  adding: v6-dataset/v6.0/supervised/en-lgg/train.lgg (deflated 65%)\n",
            "  adding: v6-dataset/v6.0/supervised/en-lgg/train.en (deflated 64%)\n",
            "  adding: v6-dataset/v6.0/supervised/en-lgg/val.en (deflated 63%)\n",
            "  adding: v6-dataset/v6.0/supervised/en-lgg/test.lgg (deflated 65%)\n",
            "  adding: v6-dataset/v6.0/supervised/en-lgg/test.en (deflated 63%)\n",
            "  adding: v6-dataset/v6.0/supervised/en-lgg/val.lgg (deflated 65%)\n",
            "  adding: v6-dataset/v6.0/supervised/en-lug/ (stored 0%)\n",
            "  adding: v6-dataset/v6.0/supervised/en-lug/train.lug (deflated 66%)\n",
            "  adding: v6-dataset/v6.0/supervised/en-lug/train.en (deflated 64%)\n",
            "  adding: v6-dataset/v6.0/supervised/en-lug/val.lug (deflated 65%)\n",
            "  adding: v6-dataset/v6.0/supervised/en-lug/val.en (deflated 63%)\n",
            "  adding: v6-dataset/v6.0/supervised/en-lug/test.lug (deflated 65%)\n",
            "  adding: v6-dataset/v6.0/supervised/en-lug/test.en (deflated 63%)\n",
            "  adding: v6-dataset/v6.0/supervised/en-ach/ (stored 0%)\n",
            "  adding: v6-dataset/v6.0/supervised/en-ach/train.ach (deflated 63%)\n",
            "  adding: v6-dataset/v6.0/supervised/en-ach/train.en (deflated 64%)\n",
            "  adding: v6-dataset/v6.0/supervised/en-ach/val.en (deflated 63%)\n",
            "  adding: v6-dataset/v6.0/supervised/en-ach/val.ach (deflated 63%)\n",
            "  adding: v6-dataset/v6.0/supervised/en-ach/test.ach (deflated 63%)\n",
            "  adding: v6-dataset/v6.0/supervised/en-ach/test.en (deflated 63%)\n",
            "  adding: v6-dataset/v6.0/supervised/src-tgt/ (stored 0%)\n",
            "  adding: v6-dataset/v6.0/supervised/src-tgt/train.tgt (deflated 64%)\n",
            "  adding: v6-dataset/v6.0/supervised/src-tgt/test.src (deflated 58%)\n",
            "  adding: v6-dataset/v6.0/supervised/src-tgt/val.src (deflated 58%)\n",
            "  adding: v6-dataset/v6.0/supervised/src-tgt/other.src (deflated 63%)\n",
            "  adding: v6-dataset/v6.0/supervised/src-tgt/eng.tgt (deflated 91%)\n",
            "  adding: v6-dataset/v6.0/supervised/src-tgt/val.tgt (deflated 64%)\n",
            "  adding: v6-dataset/v6.0/supervised/src-tgt/test.tgt (deflated 64%)\n",
            "  adding: v6-dataset/v6.0/supervised/src-tgt/train.src (deflated 58%)\n",
            "  adding: v6-dataset/v6.0/supervised/teo-lgg/ (stored 0%)\n",
            "  adding: v6-dataset/v6.0/supervised/teo-lgg/train.lgg (deflated 65%)\n",
            "  adding: v6-dataset/v6.0/supervised/teo-lgg/val.teo (deflated 66%)\n",
            "  adding: v6-dataset/v6.0/supervised/teo-lgg/test.teo (deflated 66%)\n",
            "  adding: v6-dataset/v6.0/supervised/teo-lgg/test.lgg (deflated 65%)\n",
            "  adding: v6-dataset/v6.0/supervised/teo-lgg/val.lgg (deflated 65%)\n",
            "  adding: v6-dataset/v6.0/supervised/teo-lgg/train.teo (deflated 67%)\n",
            "  adding: v6-dataset/v6.0/supervised/ach-run/ (stored 0%)\n",
            "  adding: v6-dataset/v6.0/supervised/ach-run/train.ach (deflated 63%)\n",
            "  adding: v6-dataset/v6.0/supervised/ach-run/test.run (deflated 64%)\n",
            "  adding: v6-dataset/v6.0/supervised/ach-run/val.run (deflated 65%)\n",
            "  adding: v6-dataset/v6.0/supervised/ach-run/val.ach (deflated 63%)\n",
            "  adding: v6-dataset/v6.0/supervised/ach-run/test.ach (deflated 63%)\n",
            "  adding: v6-dataset/v6.0/supervised/ach-run/train.run (deflated 65%)\n",
            "  adding: v6-dataset/v6.0/supervised/lug-ach/ (stored 0%)\n",
            "  adding: v6-dataset/v6.0/supervised/lug-ach/train.ach (deflated 63%)\n",
            "  adding: v6-dataset/v6.0/supervised/lug-ach/train.lug (deflated 66%)\n",
            "  adding: v6-dataset/v6.0/supervised/lug-ach/val.lug (deflated 65%)\n",
            "  adding: v6-dataset/v6.0/supervised/lug-ach/val.ach (deflated 63%)\n",
            "  adding: v6-dataset/v6.0/supervised/lug-ach/test.ach (deflated 63%)\n",
            "  adding: v6-dataset/v6.0/supervised/lug-ach/test.lug (deflated 65%)\n",
            "  adding: v6-dataset/v6.0/supervised/lug-lgg/ (stored 0%)\n",
            "  adding: v6-dataset/v6.0/supervised/lug-lgg/train.lug (deflated 66%)\n",
            "  adding: v6-dataset/v6.0/supervised/lug-lgg/train.lgg (deflated 65%)\n",
            "  adding: v6-dataset/v6.0/supervised/lug-lgg/val.lug (deflated 65%)\n",
            "  adding: v6-dataset/v6.0/supervised/lug-lgg/test.lug (deflated 65%)\n",
            "  adding: v6-dataset/v6.0/supervised/lug-lgg/test.lgg (deflated 65%)\n",
            "  adding: v6-dataset/v6.0/supervised/lug-lgg/val.lgg (deflated 65%)\n"
          ]
        }
      ],
      "source": [
        "# Zip Directory\n",
        "!zip -r v6-dataset.zip v6-dataset/\n"
      ]
    },
    {
      "cell_type": "markdown",
      "metadata": {
        "id": "aO200TXWUzDU"
      },
      "source": [
        "### Part2: Multi-Lingual all languages"
      ]
    },
    {
      "cell_type": "code",
      "execution_count": 29,
      "metadata": {
        "id": "VURBQuXtII2c"
      },
      "outputs": [],
      "source": [
        "# Multi-lingual case: generate all examples of source and target language\n",
        "def training_examples_from_sentence(translated_sentence):\n",
        "\n",
        "  languages = set(translated_sentence.keys())\n",
        "\n",
        "  if len(languages) < 2:\n",
        "    raise ValueError(\"There must be at least two different languages, \"\n",
        "                     f\"found {languages})\")\n",
        "\n",
        "  training_examples = []\n",
        "  for target_language in languages:\n",
        "\n",
        "    source_languages = languages.copy()\n",
        "    source_languages.remove(target_language)\n",
        "\n",
        "    for source_language in source_languages:\n",
        "      source_text = (f\"<to_{target_language}> \"\n",
        "                     f\"{translated_sentence[source_language]}\")\n",
        "      target_text = translated_sentence[target_language]\n",
        "\n",
        "      training_examples.append({'source': source_text, \n",
        "                                'target': target_text})\n",
        "      \n",
        "  return training_examples"
      ]
    },
    {
      "cell_type": "code",
      "execution_count": 30,
      "metadata": {
        "colab": {
          "base_uri": "https://localhost:8080/"
        },
        "id": "m4jXurHfLjbe",
        "outputId": "8de7a2ee-f777-4387-c66f-0e57aec04dba"
      },
      "outputs": [
        {
          "data": {
            "text/plain": [
              "30"
            ]
          },
          "execution_count": 30,
          "metadata": {},
          "output_type": "execute_result"
        }
      ],
      "source": [
        "len(training_examples_from_sentence(translated_sentence))"
      ]
    },
    {
      "cell_type": "code",
      "execution_count": 31,
      "metadata": {
        "colab": {
          "base_uri": "https://localhost:8080/"
        },
        "id": "S0YDiO79LoWV",
        "outputId": "7ff92094-82d5-4829-f750-500df9b1019c"
      },
      "outputs": [
        {
          "data": {
            "text/plain": [
              "[{'source': '<to_Lugbara> Bilinyanya pol kare dongo maber ka lyeto tye',\n",
              "  'target': 'Birinyanya eyi zo kililiru ndeni angu driza ma alia.'},\n",
              " {'source': '<to_Lugbara> Epoloi ebirinyanyi ojok apakio nu emwanar akwap.',\n",
              "  'target': 'Birinyanya eyi zo kililiru ndeni angu driza ma alia.'},\n",
              " {'source': '<to_Lugbara> Bbiringanya lubeerera  asinga kukulira mu mbeera ya bugumu',\n",
              "  'target': 'Birinyanya eyi zo kililiru ndeni angu driza ma alia.'},\n",
              " {'source': '<to_Lugbara> Eggplants always grow best under warm conditions.',\n",
              "  'target': 'Birinyanya eyi zo kililiru ndeni angu driza ma alia.'},\n",
              " {'source': \"<to_Lugbara> Entonga buriijo zikurira omu mbeera y'obwire erikutagata\",\n",
              "  'target': 'Birinyanya eyi zo kililiru ndeni angu driza ma alia.'},\n",
              " {'source': '<to_Ateso> Birinyanya eyi zo kililiru ndeni angu driza ma alia.',\n",
              "  'target': 'Epoloi ebirinyanyi ojok apakio nu emwanar akwap.'},\n",
              " {'source': '<to_Ateso> Bilinyanya pol kare dongo maber ka lyeto tye',\n",
              "  'target': 'Epoloi ebirinyanyi ojok apakio nu emwanar akwap.'},\n",
              " {'source': '<to_Ateso> Bbiringanya lubeerera  asinga kukulira mu mbeera ya bugumu',\n",
              "  'target': 'Epoloi ebirinyanyi ojok apakio nu emwanar akwap.'},\n",
              " {'source': '<to_Ateso> Eggplants always grow best under warm conditions.',\n",
              "  'target': 'Epoloi ebirinyanyi ojok apakio nu emwanar akwap.'},\n",
              " {'source': \"<to_Ateso> Entonga buriijo zikurira omu mbeera y'obwire erikutagata\",\n",
              "  'target': 'Epoloi ebirinyanyi ojok apakio nu emwanar akwap.'},\n",
              " {'source': '<to_Luganda> Birinyanya eyi zo kililiru ndeni angu driza ma alia.',\n",
              "  'target': 'Bbiringanya lubeerera  asinga kukulira mu mbeera ya bugumu'},\n",
              " {'source': '<to_Luganda> Bilinyanya pol kare dongo maber ka lyeto tye',\n",
              "  'target': 'Bbiringanya lubeerera  asinga kukulira mu mbeera ya bugumu'},\n",
              " {'source': '<to_Luganda> Epoloi ebirinyanyi ojok apakio nu emwanar akwap.',\n",
              "  'target': 'Bbiringanya lubeerera  asinga kukulira mu mbeera ya bugumu'},\n",
              " {'source': '<to_Luganda> Eggplants always grow best under warm conditions.',\n",
              "  'target': 'Bbiringanya lubeerera  asinga kukulira mu mbeera ya bugumu'},\n",
              " {'source': \"<to_Luganda> Entonga buriijo zikurira omu mbeera y'obwire erikutagata\",\n",
              "  'target': 'Bbiringanya lubeerera  asinga kukulira mu mbeera ya bugumu'},\n",
              " {'source': '<to_English> Birinyanya eyi zo kililiru ndeni angu driza ma alia.',\n",
              "  'target': 'Eggplants always grow best under warm conditions.'},\n",
              " {'source': '<to_English> Bilinyanya pol kare dongo maber ka lyeto tye',\n",
              "  'target': 'Eggplants always grow best under warm conditions.'},\n",
              " {'source': '<to_English> Epoloi ebirinyanyi ojok apakio nu emwanar akwap.',\n",
              "  'target': 'Eggplants always grow best under warm conditions.'},\n",
              " {'source': '<to_English> Bbiringanya lubeerera  asinga kukulira mu mbeera ya bugumu',\n",
              "  'target': 'Eggplants always grow best under warm conditions.'},\n",
              " {'source': \"<to_English> Entonga buriijo zikurira omu mbeera y'obwire erikutagata\",\n",
              "  'target': 'Eggplants always grow best under warm conditions.'},\n",
              " {'source': '<to_Acholi> Birinyanya eyi zo kililiru ndeni angu driza ma alia.',\n",
              "  'target': 'Bilinyanya pol kare dongo maber ka lyeto tye'},\n",
              " {'source': '<to_Acholi> Epoloi ebirinyanyi ojok apakio nu emwanar akwap.',\n",
              "  'target': 'Bilinyanya pol kare dongo maber ka lyeto tye'},\n",
              " {'source': '<to_Acholi> Bbiringanya lubeerera  asinga kukulira mu mbeera ya bugumu',\n",
              "  'target': 'Bilinyanya pol kare dongo maber ka lyeto tye'},\n",
              " {'source': '<to_Acholi> Eggplants always grow best under warm conditions.',\n",
              "  'target': 'Bilinyanya pol kare dongo maber ka lyeto tye'},\n",
              " {'source': \"<to_Acholi> Entonga buriijo zikurira omu mbeera y'obwire erikutagata\",\n",
              "  'target': 'Bilinyanya pol kare dongo maber ka lyeto tye'},\n",
              " {'source': '<to_Runyankole> Birinyanya eyi zo kililiru ndeni angu driza ma alia.',\n",
              "  'target': \"Entonga buriijo zikurira omu mbeera y'obwire erikutagata\"},\n",
              " {'source': '<to_Runyankole> Bilinyanya pol kare dongo maber ka lyeto tye',\n",
              "  'target': \"Entonga buriijo zikurira omu mbeera y'obwire erikutagata\"},\n",
              " {'source': '<to_Runyankole> Epoloi ebirinyanyi ojok apakio nu emwanar akwap.',\n",
              "  'target': \"Entonga buriijo zikurira omu mbeera y'obwire erikutagata\"},\n",
              " {'source': '<to_Runyankole> Bbiringanya lubeerera  asinga kukulira mu mbeera ya bugumu',\n",
              "  'target': \"Entonga buriijo zikurira omu mbeera y'obwire erikutagata\"},\n",
              " {'source': '<to_Runyankole> Eggplants always grow best under warm conditions.',\n",
              "  'target': \"Entonga buriijo zikurira omu mbeera y'obwire erikutagata\"}]"
            ]
          },
          "execution_count": 31,
          "metadata": {},
          "output_type": "execute_result"
        }
      ],
      "source": [
        "training_examples_from_sentence(translated_sentence)"
      ]
    },
    {
      "cell_type": "code",
      "execution_count": 32,
      "metadata": {
        "id": "H_H4tV4mHpA_"
      },
      "outputs": [],
      "source": [
        "# Create all pairs from dataset\n",
        "\n",
        "m = []\n",
        "for i in range(len(df)):\n",
        "  m.append(training_examples_from_sentence(json.loads(data[i])))"
      ]
    },
    {
      "cell_type": "code",
      "execution_count": 33,
      "metadata": {
        "colab": {
          "base_uri": "https://localhost:8080/"
        },
        "id": "4pvSsLSDG6iu",
        "outputId": "339c253f-2f6d-4a68-f628-7ac335aa1242"
      },
      "outputs": [
        {
          "data": {
            "text/plain": [
              "[{'source': '<to_Lugbara> Bilinyanya pol kare dongo maber ka lyeto tye',\n",
              "  'target': 'Birinyanya eyi zo kililiru ndeni angu driza ma alia.'},\n",
              " {'source': '<to_Lugbara> Epoloi ebirinyanyi ojok apakio nu emwanar akwap.',\n",
              "  'target': 'Birinyanya eyi zo kililiru ndeni angu driza ma alia.'},\n",
              " {'source': '<to_Lugbara> Bbiringanya lubeerera  asinga kukulira mu mbeera ya bugumu',\n",
              "  'target': 'Birinyanya eyi zo kililiru ndeni angu driza ma alia.'},\n",
              " {'source': '<to_Lugbara> Eggplants always grow best under warm conditions.',\n",
              "  'target': 'Birinyanya eyi zo kililiru ndeni angu driza ma alia.'},\n",
              " {'source': \"<to_Lugbara> Entonga buriijo zikurira omu mbeera y'obwire erikutagata\",\n",
              "  'target': 'Birinyanya eyi zo kililiru ndeni angu driza ma alia.'},\n",
              " {'source': '<to_Ateso> Birinyanya eyi zo kililiru ndeni angu driza ma alia.',\n",
              "  'target': 'Epoloi ebirinyanyi ojok apakio nu emwanar akwap.'},\n",
              " {'source': '<to_Ateso> Bilinyanya pol kare dongo maber ka lyeto tye',\n",
              "  'target': 'Epoloi ebirinyanyi ojok apakio nu emwanar akwap.'},\n",
              " {'source': '<to_Ateso> Bbiringanya lubeerera  asinga kukulira mu mbeera ya bugumu',\n",
              "  'target': 'Epoloi ebirinyanyi ojok apakio nu emwanar akwap.'},\n",
              " {'source': '<to_Ateso> Eggplants always grow best under warm conditions.',\n",
              "  'target': 'Epoloi ebirinyanyi ojok apakio nu emwanar akwap.'},\n",
              " {'source': \"<to_Ateso> Entonga buriijo zikurira omu mbeera y'obwire erikutagata\",\n",
              "  'target': 'Epoloi ebirinyanyi ojok apakio nu emwanar akwap.'},\n",
              " {'source': '<to_Luganda> Birinyanya eyi zo kililiru ndeni angu driza ma alia.',\n",
              "  'target': 'Bbiringanya lubeerera  asinga kukulira mu mbeera ya bugumu'},\n",
              " {'source': '<to_Luganda> Bilinyanya pol kare dongo maber ka lyeto tye',\n",
              "  'target': 'Bbiringanya lubeerera  asinga kukulira mu mbeera ya bugumu'},\n",
              " {'source': '<to_Luganda> Epoloi ebirinyanyi ojok apakio nu emwanar akwap.',\n",
              "  'target': 'Bbiringanya lubeerera  asinga kukulira mu mbeera ya bugumu'},\n",
              " {'source': '<to_Luganda> Eggplants always grow best under warm conditions.',\n",
              "  'target': 'Bbiringanya lubeerera  asinga kukulira mu mbeera ya bugumu'},\n",
              " {'source': \"<to_Luganda> Entonga buriijo zikurira omu mbeera y'obwire erikutagata\",\n",
              "  'target': 'Bbiringanya lubeerera  asinga kukulira mu mbeera ya bugumu'},\n",
              " {'source': '<to_English> Birinyanya eyi zo kililiru ndeni angu driza ma alia.',\n",
              "  'target': 'Eggplants always grow best under warm conditions.'},\n",
              " {'source': '<to_English> Bilinyanya pol kare dongo maber ka lyeto tye',\n",
              "  'target': 'Eggplants always grow best under warm conditions.'},\n",
              " {'source': '<to_English> Epoloi ebirinyanyi ojok apakio nu emwanar akwap.',\n",
              "  'target': 'Eggplants always grow best under warm conditions.'},\n",
              " {'source': '<to_English> Bbiringanya lubeerera  asinga kukulira mu mbeera ya bugumu',\n",
              "  'target': 'Eggplants always grow best under warm conditions.'},\n",
              " {'source': \"<to_English> Entonga buriijo zikurira omu mbeera y'obwire erikutagata\",\n",
              "  'target': 'Eggplants always grow best under warm conditions.'},\n",
              " {'source': '<to_Acholi> Birinyanya eyi zo kililiru ndeni angu driza ma alia.',\n",
              "  'target': 'Bilinyanya pol kare dongo maber ka lyeto tye'},\n",
              " {'source': '<to_Acholi> Epoloi ebirinyanyi ojok apakio nu emwanar akwap.',\n",
              "  'target': 'Bilinyanya pol kare dongo maber ka lyeto tye'},\n",
              " {'source': '<to_Acholi> Bbiringanya lubeerera  asinga kukulira mu mbeera ya bugumu',\n",
              "  'target': 'Bilinyanya pol kare dongo maber ka lyeto tye'},\n",
              " {'source': '<to_Acholi> Eggplants always grow best under warm conditions.',\n",
              "  'target': 'Bilinyanya pol kare dongo maber ka lyeto tye'},\n",
              " {'source': \"<to_Acholi> Entonga buriijo zikurira omu mbeera y'obwire erikutagata\",\n",
              "  'target': 'Bilinyanya pol kare dongo maber ka lyeto tye'},\n",
              " {'source': '<to_Runyankole> Birinyanya eyi zo kililiru ndeni angu driza ma alia.',\n",
              "  'target': \"Entonga buriijo zikurira omu mbeera y'obwire erikutagata\"},\n",
              " {'source': '<to_Runyankole> Bilinyanya pol kare dongo maber ka lyeto tye',\n",
              "  'target': \"Entonga buriijo zikurira omu mbeera y'obwire erikutagata\"},\n",
              " {'source': '<to_Runyankole> Epoloi ebirinyanyi ojok apakio nu emwanar akwap.',\n",
              "  'target': \"Entonga buriijo zikurira omu mbeera y'obwire erikutagata\"},\n",
              " {'source': '<to_Runyankole> Bbiringanya lubeerera  asinga kukulira mu mbeera ya bugumu',\n",
              "  'target': \"Entonga buriijo zikurira omu mbeera y'obwire erikutagata\"},\n",
              " {'source': '<to_Runyankole> Eggplants always grow best under warm conditions.',\n",
              "  'target': \"Entonga buriijo zikurira omu mbeera y'obwire erikutagata\"}]"
            ]
          },
          "execution_count": 33,
          "metadata": {},
          "output_type": "execute_result"
        }
      ],
      "source": [
        "m[0]"
      ]
    },
    {
      "cell_type": "code",
      "execution_count": 34,
      "metadata": {
        "colab": {
          "base_uri": "https://localhost:8080/"
        },
        "id": "Ih0_EX3PH6_4",
        "outputId": "79f53323-ec24-458b-9bb1-819e24ae2320"
      },
      "outputs": [
        {
          "data": {
            "text/plain": [
              "30"
            ]
          },
          "execution_count": 34,
          "metadata": {},
          "output_type": "execute_result"
        }
      ],
      "source": [
        "len(m[0])"
      ]
    },
    {
      "cell_type": "code",
      "execution_count": 35,
      "metadata": {
        "colab": {
          "base_uri": "https://localhost:8080/"
        },
        "id": "0xupE47AIEnt",
        "outputId": "395a8aae-1c9f-48b9-f827-d072192ddff4"
      },
      "outputs": [
        {
          "data": {
            "text/plain": [
              "25007"
            ]
          },
          "execution_count": 35,
          "metadata": {},
          "output_type": "execute_result"
        }
      ],
      "source": [
        "len(m)"
      ]
    },
    {
      "cell_type": "code",
      "execution_count": 36,
      "metadata": {
        "colab": {
          "base_uri": "https://localhost:8080/"
        },
        "id": "e7dUEDwvIFrS",
        "outputId": "4854b219-e5ac-4950-f0e1-dfac8ab4b88b"
      },
      "outputs": [
        {
          "data": {
            "text/plain": [
              "750210"
            ]
          },
          "execution_count": 36,
          "metadata": {},
          "output_type": "execute_result"
        }
      ],
      "source": [
        "len(m)*len(m[0])"
      ]
    },
    {
      "cell_type": "code",
      "execution_count": 37,
      "metadata": {
        "id": "M0lVxZDFIHw2"
      },
      "outputs": [],
      "source": [
        "from itertools import chain\n",
        "multi_dataset = pd.DataFrame(list(chain.from_iterable(m)))"
      ]
    },
    {
      "cell_type": "code",
      "execution_count": 38,
      "metadata": {
        "colab": {
          "base_uri": "https://localhost:8080/"
        },
        "id": "bhRgWOqLIMQa",
        "outputId": "6cafc6c5-9c9e-4948-b295-f10198557894"
      },
      "outputs": [
        {
          "data": {
            "text/plain": [
              "array([['<to_Runyankole> Gameteni silingi eza angiri eli vusi nzila siza ma dria',\n",
              "        'Gavumenti neeshohoreza munonga omukwombeka enguuto eibara-mwaka.'],\n",
              "       ['<to_Runyankole> Gamente tiyo ki cente ma dwong adada me gero ki roco gudu.',\n",
              "        'Gavumenti neeshohoreza munonga omukwombeka enguuto eibara-mwaka.'],\n",
              "       ['<to_Runyankole> Itosomai apugan ikapun luipu kanginikaru kotoma aiduk irotin.',\n",
              "        'Gavumenti neeshohoreza munonga omukwombeka enguuto eibara-mwaka.'],\n",
              "       ['<to_Runyankole> Gavumenti essaasaanya ssente nnyingi nnyo buli mwaka mu kuzimba amakubo.',\n",
              "        'Gavumenti neeshohoreza munonga omukwombeka enguuto eibara-mwaka.'],\n",
              "       ['<to_Runyankole> The government spends a lot of money every year on road construction.',\n",
              "        'Gavumenti neeshohoreza munonga omukwombeka enguuto eibara-mwaka.']],\n",
              "      dtype=object)"
            ]
          },
          "execution_count": 38,
          "metadata": {},
          "output_type": "execute_result"
        }
      ],
      "source": [
        "multi_dataset.tail(5).values"
      ]
    }
  ],
  "metadata": {
    "colab": {
      "collapsed_sections": [],
      "name": "multilingual_data_prep.ipynb",
      "provenance": []
    },
    "interpreter": {
      "hash": "b0fa6594d8f4cbf19f97940f81e996739fb7646882a419484c72d19e05852a7e"
    },
    "kernelspec": {
      "display_name": "Python 3.9.6 64-bit",
      "name": "python3"
    },
    "language_info": {
      "codemirror_mode": {
        "name": "ipython",
        "version": 3
      },
      "file_extension": ".py",
      "mimetype": "text/x-python",
      "name": "python",
      "nbconvert_exporter": "python",
      "pygments_lexer": "ipython3",
      "version": "3.9.6"
    }
  },
  "nbformat": 4,
  "nbformat_minor": 0
}
