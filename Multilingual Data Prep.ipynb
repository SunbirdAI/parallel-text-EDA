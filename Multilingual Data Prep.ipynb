{
  "cells": [
    {
      "cell_type": "markdown",
      "metadata": {},
      "source": [
        "## Compilation of `multilingual` training dataset for Sunbird language models"
      ]
    },
    {
      "cell_type": "markdown",
      "metadata": {},
      "source": [
        "## Logic\n",
        "\n",
        "#### V1: A model that translates any of the other languages to English (`mul-en`)\n",
        "##### Source sentence: Any of the other languages\n",
        "##### Target: English\n",
        "\n",
        "\n",
        "#### V2: A model that translates English to any of the other languages (`en-mul`)\n",
        "##### Source sentence: English\n",
        "##### Target: Any of the other languages"
      ]
    },
    {
      "cell_type": "code",
      "execution_count": 49,
      "metadata": {},
      "outputs": [],
      "source": [
        "# Import Python dependencies\n",
        "import json\n",
        "import pandas as pd"
      ]
    },
    {
      "cell_type": "code",
      "execution_count": null,
      "metadata": {},
      "outputs": [],
      "source": [
        "# Download the raw Sunbird dataset if needed\n",
        "!wget https://transfer.sh/AvcWgi/sunbird-ug-lang-v4.0.jsonl"
      ]
    },
    {
      "cell_type": "markdown",
      "metadata": {
        "id": "jMRoVeQYwagF"
      },
      "source": [
        "### Part 1: Create Multi-lingual to English target dataset (mul-en)"
      ]
    },
    {
      "cell_type": "markdown",
      "metadata": {},
      "source": [
        "#### Training dataset creation logic (with an example from the Sunbird dataset)"
      ]
    },
    {
      "cell_type": "code",
      "execution_count": 50,
      "metadata": {},
      "outputs": [],
      "source": [
        "with open(\"sunbird-ug-lang-v5.0.jsonl\", \"r\") as f:\n",
        "    data = list(f)"
      ]
    },
    {
      "cell_type": "code",
      "execution_count": 51,
      "metadata": {},
      "outputs": [],
      "source": [
        "# Convert dataset to Dataframe\n",
        "df = pd.DataFrame(data)"
      ]
    },
    {
      "cell_type": "code",
      "execution_count": 52,
      "metadata": {
        "colab": {
          "base_uri": "https://localhost:8080/"
        },
        "id": "M9bz1C2AFUVA",
        "outputId": "57ec2dd8-650c-4726-9f8a-66219dc8aa13"
      },
      "outputs": [
        {
          "data": {
            "text/plain": [
              "dict_keys(['English', 'Luganda', 'Runyankole', 'Ateso', 'Lugbara', 'Acholi'])"
            ]
          },
          "execution_count": 52,
          "metadata": {},
          "output_type": "execute_result"
        }
      ],
      "source": [
        "translated_sentence = json.loads(data[0])\n",
        "translated_sentence.keys()"
      ]
    },
    {
      "cell_type": "code",
      "execution_count": 53,
      "metadata": {
        "colab": {
          "base_uri": "https://localhost:8080/"
        },
        "id": "QKwqLp4YvJ-J",
        "outputId": "debac4de-bfeb-4483-92d6-d0e30806d21a"
      },
      "outputs": [
        {
          "data": {
            "text/plain": [
              "{'English': 'Eggplants always grow best under warm conditions.',\n",
              " 'Luganda': 'Bbiringanya lubeerera  asinga kukulira mu mbeera ya bugumu',\n",
              " 'Runyankole': \"Entonga buriijo zikurira omu mbeera y'obwire erikutagata\",\n",
              " 'Ateso': 'Epoloi ebirinyanyi ojok apakio nu emwanar akwap.',\n",
              " 'Lugbara': 'Birinyanya eyi zo kililiru ndeni angu driza ma alia.',\n",
              " 'Acholi': 'Bilinyanya pol kare dongo maber ka lyeto tye'}"
            ]
          },
          "execution_count": 53,
          "metadata": {},
          "output_type": "execute_result"
        }
      ],
      "source": [
        "translated_sentence"
      ]
    },
    {
      "cell_type": "code",
      "execution_count": 26,
      "metadata": {
        "id": "SO_hdRMBFVOu"
      },
      "outputs": [],
      "source": [
        "# Function to generate multiple training examples from one translated sentence.\n",
        "def training_examples_from_sentence(translated_sentence,\n",
        "                                    target_language = 'English'):\n",
        "  if target_language not in translated_sentence:\n",
        "    raise ValueError(\n",
        "        f'Target language {target_language} expected in translations, but '\n",
        "        f'{translated_sentence.keys()} found')\n",
        "\n",
        "  source_languages = set(translated_sentence.keys())\n",
        "  source_languages.remove(target_language)\n",
        "\n",
        "  if not source_languages:\n",
        "    raise ValueError('There should be at least one language apart from the '\n",
        "                    'target.')\n",
        "\n",
        "  training_examples = [{'source': translated_sentence[lang], \n",
        "                        'target': translated_sentence[target_language]}\n",
        "                        for lang in source_languages\n",
        "                      ]\n",
        "\n",
        "  return training_examples"
      ]
    },
    {
      "cell_type": "code",
      "execution_count": 54,
      "metadata": {
        "id": "Z-HzlP3lu005"
      },
      "outputs": [],
      "source": [
        "training_examples = training_examples_from_sentence(translated_sentence)"
      ]
    },
    {
      "cell_type": "code",
      "execution_count": 55,
      "metadata": {
        "colab": {
          "base_uri": "https://localhost:8080/"
        },
        "id": "cLHr7qlWu05J",
        "outputId": "682e7072-cc46-4f25-e379-a1af936c69f3"
      },
      "outputs": [
        {
          "data": {
            "text/plain": [
              "[{'source': \"Entonga buriijo zikurira omu mbeera y'obwire erikutagata\",\n",
              "  'target': 'Eggplants always grow best under warm conditions.'},\n",
              " {'source': 'Bbiringanya lubeerera  asinga kukulira mu mbeera ya bugumu',\n",
              "  'target': 'Eggplants always grow best under warm conditions.'},\n",
              " {'source': 'Bilinyanya pol kare dongo maber ka lyeto tye',\n",
              "  'target': 'Eggplants always grow best under warm conditions.'},\n",
              " {'source': 'Birinyanya eyi zo kililiru ndeni angu driza ma alia.',\n",
              "  'target': 'Eggplants always grow best under warm conditions.'},\n",
              " {'source': 'Epoloi ebirinyanyi ojok apakio nu emwanar akwap.',\n",
              "  'target': 'Eggplants always grow best under warm conditions.'}]"
            ]
          },
          "execution_count": 55,
          "metadata": {},
          "output_type": "execute_result"
        }
      ],
      "source": [
        "training_examples"
      ]
    },
    {
      "cell_type": "markdown",
      "metadata": {},
      "source": [
        "#### Application to the Sunbird dataset"
      ]
    },
    {
      "cell_type": "code",
      "execution_count": 56,
      "metadata": {
        "colab": {
          "base_uri": "https://localhost:8080/"
        },
        "id": "cfIictB9By2V",
        "outputId": "50e601ef-6bb3-490b-daf1-1d4c42015b3d"
      },
      "outputs": [
        {
          "data": {
            "text/plain": [
              "25007"
            ]
          },
          "execution_count": 56,
          "metadata": {},
          "output_type": "execute_result"
        }
      ],
      "source": [
        "# Check number of rows in dataset\n",
        "len(df)"
      ]
    },
    {
      "cell_type": "code",
      "execution_count": 57,
      "metadata": {
        "id": "z7fOl9Lf0AXr"
      },
      "outputs": [],
      "source": [
        "c = []\n",
        "for i in range(len(df)):\n",
        "  c.append(training_examples_from_sentence(json.loads(data[i])))"
      ]
    },
    {
      "cell_type": "code",
      "execution_count": 58,
      "metadata": {
        "id": "Em7_j3iW0AaE"
      },
      "outputs": [],
      "source": [
        "from itertools import chain\n",
        "dataset = pd.DataFrame(list(chain.from_iterable(c)))"
      ]
    },
    {
      "cell_type": "code",
      "execution_count": 59,
      "metadata": {
        "colab": {
          "base_uri": "https://localhost:8080/"
        },
        "id": "AnKWYoWIPAtz",
        "outputId": "709c8eb0-98fa-4100-ea5d-ee4c4f9174a1"
      },
      "outputs": [
        {
          "data": {
            "text/plain": [
              "(125035, 2)"
            ]
          },
          "execution_count": 59,
          "metadata": {},
          "output_type": "execute_result"
        }
      ],
      "source": [
        "# Number of language pairs after creating the training examples\n",
        "dataset.shape"
      ]
    },
    {
      "cell_type": "code",
      "execution_count": 60,
      "metadata": {
        "id": "t5NcyaWIPAv1"
      },
      "outputs": [],
      "source": [
        "# train/test/val split\n",
        "\n",
        "from sklearn.model_selection import train_test_split\n",
        "train_df, test_df = train_test_split(dataset, test_size=0.33, random_state=42)"
      ]
    },
    {
      "cell_type": "code",
      "execution_count": 61,
      "metadata": {
        "id": "WLgaIuK1Sw69"
      },
      "outputs": [],
      "source": [
        "test_df, val_df = train_test_split(test_df, test_size=0.5, random_state=42)"
      ]
    },
    {
      "cell_type": "code",
      "execution_count": 62,
      "metadata": {
        "colab": {
          "base_uri": "https://localhost:8080/"
        },
        "id": "d56eKqgnS2Xr",
        "outputId": "7c23f33f-7024-40de-f098-a0cb5d96aeec"
      },
      "outputs": [
        {
          "name": "stdout",
          "output_type": "stream",
          "text": [
            "(83773, 2)\n",
            "(20631, 2)\n",
            "(20631, 2)\n"
          ]
        }
      ],
      "source": [
        "print(train_df.shape)\n",
        "print(test_df.shape)\n",
        "print(val_df.shape)"
      ]
    },
    {
      "cell_type": "code",
      "execution_count": 63,
      "metadata": {
        "id": "WbLzCrFpPAzK"
      },
      "outputs": [],
      "source": [
        "dataset[[\"source\"]].to_csv(r'other.src', header=None, index=None, sep=' ', mode='a')\n",
        "dataset[[\"target\"]].to_csv(r'eng.tgt', header=None, index=None, sep=' ', mode='a')"
      ]
    },
    {
      "cell_type": "markdown",
      "metadata": {},
      "source": [
        "#### Application to the AI4D Luganda dataset"
      ]
    },
    {
      "cell_type": "code",
      "execution_count": 66,
      "metadata": {},
      "outputs": [
        {
          "data": {
            "text/html": [
              "<div>\n",
              "<style scoped>\n",
              "    .dataframe tbody tr th:only-of-type {\n",
              "        vertical-align: middle;\n",
              "    }\n",
              "\n",
              "    .dataframe tbody tr th {\n",
              "        vertical-align: top;\n",
              "    }\n",
              "\n",
              "    .dataframe thead th {\n",
              "        text-align: right;\n",
              "    }\n",
              "</style>\n",
              "<table border=\"1\" class=\"dataframe\">\n",
              "  <thead>\n",
              "    <tr style=\"text-align: right;\">\n",
              "      <th></th>\n",
              "      <th>eng</th>\n",
              "      <th>lug</th>\n",
              "    </tr>\n",
              "  </thead>\n",
              "  <tbody>\n",
              "    <tr>\n",
              "      <th>0</th>\n",
              "      <td>All refugees were requested to register with t...</td>\n",
              "      <td>Abanoonyiboobubudamu bonna baasabiddwa beewand...</td>\n",
              "    </tr>\n",
              "    <tr>\n",
              "      <th>1</th>\n",
              "      <td>They called for a refugees' meeting yesterday.</td>\n",
              "      <td>Baayise olukungaana lw'abanoonyiboobubudamu eg...</td>\n",
              "    </tr>\n",
              "    <tr>\n",
              "      <th>2</th>\n",
              "      <td>Refugees had misunderstandings between   thems...</td>\n",
              "      <td>Abanoonyiboobubudamu b'abadde n'obutakkaanya w...</td>\n",
              "    </tr>\n",
              "    <tr>\n",
              "      <th>3</th>\n",
              "      <td>We were urged to welcome refugees into our com...</td>\n",
              "      <td>Twakubirizibwa okwaniriza abanoonyiboobubudamu...</td>\n",
              "    </tr>\n",
              "    <tr>\n",
              "      <th>4</th>\n",
              "      <td>More development is achieved when we work toge...</td>\n",
              "      <td>Bwe tukolera awamu enkulaakulana enyingi efuni...</td>\n",
              "    </tr>\n",
              "  </tbody>\n",
              "</table>\n",
              "</div>"
            ],
            "text/plain": [
              "                                                 eng  \\\n",
              "0  All refugees were requested to register with t...   \n",
              "1     They called for a refugees' meeting yesterday.   \n",
              "2  Refugees had misunderstandings between   thems...   \n",
              "3  We were urged to welcome refugees into our com...   \n",
              "4  More development is achieved when we work toge...   \n",
              "\n",
              "                                                 lug  \n",
              "0  Abanoonyiboobubudamu bonna baasabiddwa beewand...  \n",
              "1  Baayise olukungaana lw'abanoonyiboobubudamu eg...  \n",
              "2  Abanoonyiboobubudamu b'abadde n'obutakkaanya w...  \n",
              "3  Twakubirizibwa okwaniriza abanoonyiboobubudamu...  \n",
              "4  Bwe tukolera awamu enkulaakulana enyingi efuni...  "
            ]
          },
          "execution_count": 66,
          "metadata": {},
          "output_type": "execute_result"
        }
      ],
      "source": [
        "ai4d_df = pd.read_csv(\"ai4d_luganda.csv\")\n",
        "ai4d_df.head()"
      ]
    },
    {
      "cell_type": "code",
      "execution_count": 67,
      "metadata": {},
      "outputs": [
        {
          "data": {
            "text/plain": [
              "Index(['English', 'Luganda'], dtype='object')"
            ]
          },
          "execution_count": 67,
          "metadata": {},
          "output_type": "execute_result"
        }
      ],
      "source": [
        "ai4d_df.rename(columns={\"eng\": \"English\", \"lug\": \"Luganda\"}, inplace=True)\n",
        "ai4d_df.columns"
      ]
    },
    {
      "cell_type": "code",
      "execution_count": 75,
      "metadata": {},
      "outputs": [
        {
          "data": {
            "text/plain": [
              "[{'source': 'Abanoonyiboobubudamu bonna baasabiddwa beewandiise ewa ssentebe.',\n",
              "  'target': 'All refugees were requested to register with the chairman.'},\n",
              " {'source': \"Baayise olukungaana lw'abanoonyiboobubudamu eggulo.\",\n",
              "  'target': \"They called for a refugees' meeting yesterday.\"},\n",
              " {'source': \"Abanoonyiboobubudamu b'abadde n'obutakkaanya wakati waabwe.\",\n",
              "  'target': 'Refugees had misunderstandings between   themselves.'},\n",
              " {'source': 'Twakubirizibwa okwaniriza abanoonyiboobubudamu mu bitundu byaffe.',\n",
              "  'target': 'We were urged to welcome refugees into our communities.'},\n",
              " {'source': 'Bwe tukolera awamu enkulaakulana enyingi efunibwa.',\n",
              "  'target': 'More development is achieved when we work together.'}]"
            ]
          },
          "execution_count": 75,
          "metadata": {},
          "output_type": "execute_result"
        }
      ],
      "source": [
        "ai4d = []\n",
        "for i in range(len(ai4d_df)):\n",
        "  ai4d.append(training_examples_from_sentence(ai4d_df.loc[i])[0])\n",
        "\n",
        "ai4d[:5]"
      ]
    },
    {
      "cell_type": "markdown",
      "metadata": {},
      "source": [
        "#### Application to the Flores 101 dataset"
      ]
    },
    {
      "cell_type": "code",
      "execution_count": 69,
      "metadata": {},
      "outputs": [
        {
          "data": {
            "text/html": [
              "<div>\n",
              "<style scoped>\n",
              "    .dataframe tbody tr th:only-of-type {\n",
              "        vertical-align: middle;\n",
              "    }\n",
              "\n",
              "    .dataframe tbody tr th {\n",
              "        vertical-align: top;\n",
              "    }\n",
              "\n",
              "    .dataframe thead th {\n",
              "        text-align: right;\n",
              "    }\n",
              "</style>\n",
              "<table border=\"1\" class=\"dataframe\">\n",
              "  <thead>\n",
              "    <tr style=\"text-align: right;\">\n",
              "      <th></th>\n",
              "      <th>lug</th>\n",
              "      <th>luo</th>\n",
              "      <th>eng</th>\n",
              "    </tr>\n",
              "  </thead>\n",
              "  <tbody>\n",
              "    <tr>\n",
              "      <th>0</th>\n",
              "      <td>Ku balaza, Banasayansi okuva mu setendekero ya...</td>\n",
              "      <td>Chieng' Wuoktich, josayans mawuok e Mbalariany...</td>\n",
              "      <td>On Monday, scientists from the Stanford Univer...</td>\n",
              "    </tr>\n",
              "    <tr>\n",
              "      <th>1</th>\n",
              "      <td>Abakulira abanoonyereza bagamba nti kino kijak...</td>\n",
              "      <td>Jononro motelo wachoni ma nyalo kelo fweny mac...</td>\n",
              "      <td>Lead researchers say this may bring early dete...</td>\n",
              "    </tr>\n",
              "    <tr>\n",
              "      <th>2</th>\n",
              "      <td>Aba JAS 39C Gripen basasanila mu luguudo ku sa...</td>\n",
              "      <td>Ndegeno mar JAS 39C Gripen ne ogore piny e nda...</td>\n",
              "      <td>The JAS 39C Gripen crashed onto a runway at ar...</td>\n",
              "    </tr>\n",
              "    <tr>\n",
              "      <th>3</th>\n",
              "      <td>Omuvuzi wenyonyi yategerekeka nga omukulembeze...</td>\n",
              "      <td>Jariemb ndegeno noyangi kaka Squadron Dilokrit...</td>\n",
              "      <td>The pilot was identified as Squadron Leader Di...</td>\n",
              "    </tr>\n",
              "    <tr>\n",
              "      <th>4</th>\n",
              "      <td>Amawulire agakuno galaga ekimotoka kyomuliro e...</td>\n",
              "      <td>Ute fwambo ma alwora no golo ripot ni gach neg...</td>\n",
              "      <td>Local media reports an airport fire vehicle ro...</td>\n",
              "    </tr>\n",
              "  </tbody>\n",
              "</table>\n",
              "</div>"
            ],
            "text/plain": [
              "                                                 lug  \\\n",
              "0  Ku balaza, Banasayansi okuva mu setendekero ya...   \n",
              "1  Abakulira abanoonyereza bagamba nti kino kijak...   \n",
              "2  Aba JAS 39C Gripen basasanila mu luguudo ku sa...   \n",
              "3  Omuvuzi wenyonyi yategerekeka nga omukulembeze...   \n",
              "4  Amawulire agakuno galaga ekimotoka kyomuliro e...   \n",
              "\n",
              "                                                 luo  \\\n",
              "0  Chieng' Wuoktich, josayans mawuok e Mbalariany...   \n",
              "1  Jononro motelo wachoni ma nyalo kelo fweny mac...   \n",
              "2  Ndegeno mar JAS 39C Gripen ne ogore piny e nda...   \n",
              "3  Jariemb ndegeno noyangi kaka Squadron Dilokrit...   \n",
              "4  Ute fwambo ma alwora no golo ripot ni gach neg...   \n",
              "\n",
              "                                                 eng  \n",
              "0  On Monday, scientists from the Stanford Univer...  \n",
              "1  Lead researchers say this may bring early dete...  \n",
              "2  The JAS 39C Gripen crashed onto a runway at ar...  \n",
              "3  The pilot was identified as Squadron Leader Di...  \n",
              "4  Local media reports an airport fire vehicle ro...  "
            ]
          },
          "execution_count": 69,
          "metadata": {},
          "output_type": "execute_result"
        }
      ],
      "source": [
        "flores_df = pd.read_csv(\"flores101.csv\")\n",
        "flores_df.head()"
      ]
    },
    {
      "cell_type": "code",
      "execution_count": 70,
      "metadata": {},
      "outputs": [
        {
          "data": {
            "text/plain": [
              "Index(['Luganda', 'Luo', 'English'], dtype='object')"
            ]
          },
          "execution_count": 70,
          "metadata": {},
          "output_type": "execute_result"
        }
      ],
      "source": [
        "flores_df.rename(columns={\"eng\": \"English\", \"lug\": \"Luganda\", \"luo\": \"Luo\"}, inplace=True)\n",
        "flores_df.columns"
      ]
    },
    {
      "cell_type": "code",
      "execution_count": 76,
      "metadata": {},
      "outputs": [
        {
          "data": {
            "text/plain": [
              "[{'source': \"Chieng' Wuoktich, josayans mawuok e Mbalariany mar Stanford e Skul mar Thieth nolando ni negifwenyo gimanyien mitiyogo e nono tuoche ma nyalo pogo ng'injo mag del kaluwore kod kitgi: en chip moro matin ma inyalo go chapa gi printa ma bende inyalo losi kitiyo kod printa mapile mag inkjet kwom manyalo romo otonglo achiel mar Amerka e moro ka moro.\",\n",
              "  'target': 'On Monday, scientists from the Stanford University School of Medicine announced the invention of a new diagnostic tool that can sort cells by type: a tiny printable chip that can be manufactured using standard inkjet printers for possibly about one U.S. cent each.'},\n",
              " {'source': 'Jononro motelo wachoni ma nyalo kelo fweny machon mag tuoche kaka kansa, tibi, ayaki, gi maleria ne jotuo manie epinje ma yutogi tin, kama kuo mar tuo kaka kansa mar thuno, nyalo bedo nus ne mar pinje man-gi yuto man malo.',\n",
              "  'target': 'Lead researchers say this may bring early detection of cancer, tuberculosis, HIV and malaria to patients in low-income countries, where the survival rates for illnesses such as breast cancer can be half those of richer countries.'},\n",
              " {'source': 'Ndegeno mar JAS 39C Gripen ne ogore piny e ndach piyo gi wuok mar ndeke e kar saa 9:30 okinyi seche mag aluorano (0230 UTC) kendo ne omuoch mach, ma ne omiyo olor pawno ne ndeke mamoko mag jowuoth.',\n",
              "  'target': 'The JAS 39C Gripen crashed onto a runway at around 9:30 am local time (0230 UTC) and exploded, closing the airport to commercial flights.'},\n",
              " {'source': 'Jariemb ndegeno noyangi kaka Squadron Dilokrit Puttavee.',\n",
              "  'target': 'The pilot was identified as Squadron Leader Dilokrit Pattavee.'},\n",
              " {'source': \"Ute fwambo ma alwora no golo ripot ni gach nego mach mar paw ndeke no bende ne ong'ielore piny e seche mane okonyo e masira no.\",\n",
              "  'target': 'Local media reports an airport fire vehicle rolled over while responding.'}]"
            ]
          },
          "execution_count": 76,
          "metadata": {},
          "output_type": "execute_result"
        }
      ],
      "source": [
        "flores = []\n",
        "for i in range(len(flores_df)):\n",
        "  flores.append(training_examples_from_sentence(flores_df.loc[i])[0])\n",
        "\n",
        "flores[:5]"
      ]
    },
    {
      "cell_type": "markdown",
      "metadata": {},
      "source": [
        "#### Appliction to the MT560 dataset"
      ]
    },
    {
      "cell_type": "code",
      "execution_count": 72,
      "metadata": {},
      "outputs": [
        {
          "data": {
            "text/html": [
              "<div>\n",
              "<style scoped>\n",
              "    .dataframe tbody tr th:only-of-type {\n",
              "        vertical-align: middle;\n",
              "    }\n",
              "\n",
              "    .dataframe tbody tr th {\n",
              "        vertical-align: top;\n",
              "    }\n",
              "\n",
              "    .dataframe thead th {\n",
              "        text-align: right;\n",
              "    }\n",
              "</style>\n",
              "<table border=\"1\" class=\"dataframe\">\n",
              "  <thead>\n",
              "    <tr style=\"text-align: right;\">\n",
              "      <th></th>\n",
              "      <th>source</th>\n",
              "      <th>english</th>\n",
              "      <th>source_language</th>\n",
              "    </tr>\n",
              "  </thead>\n",
              "  <tbody>\n",
              "    <tr>\n",
              "      <th>0</th>\n",
              "      <td>Beduru gi Kuwe kod Ji Duto</td>\n",
              "      <td>Adam and Eve - Were They Real People?</td>\n",
              "      <td>luo</td>\n",
              "    </tr>\n",
              "    <tr>\n",
              "      <th>1</th>\n",
              "      <td>Hera umo richo mogundho.</td>\n",
              "      <td>In fact, \"love covers a multitude of sins.\"</td>\n",
              "      <td>luo</td>\n",
              "    </tr>\n",
              "    <tr>\n",
              "      <th>2</th>\n",
              "      <td>I mwaka me apar wiye angwen me loc pa kabaka K...</td>\n",
              "      <td>In the fourteenth year of King Hezekiah, Senna...</td>\n",
              "      <td>ach</td>\n",
              "    </tr>\n",
              "    <tr>\n",
              "      <th>3</th>\n",
              "      <td>Muliraanwa wange y'ani?</td>\n",
              "      <td>Who really is my neighbor?</td>\n",
              "      <td>lug</td>\n",
              "    </tr>\n",
              "    <tr>\n",
              "      <th>4</th>\n",
              "      <td>Notego wang'e kuom pokne.</td>\n",
              "      <td>He \"looked intently toward the payment of the ...</td>\n",
              "      <td>luo</td>\n",
              "    </tr>\n",
              "  </tbody>\n",
              "</table>\n",
              "</div>"
            ],
            "text/plain": [
              "                                              source  \\\n",
              "0                         Beduru gi Kuwe kod Ji Duto   \n",
              "1                           Hera umo richo mogundho.   \n",
              "2  I mwaka me apar wiye angwen me loc pa kabaka K...   \n",
              "3                            Muliraanwa wange y'ani?   \n",
              "4                          Notego wang'e kuom pokne.   \n",
              "\n",
              "                                             english source_language  \n",
              "0              Adam and Eve - Were They Real People?             luo  \n",
              "1        In fact, \"love covers a multitude of sins.\"             luo  \n",
              "2  In the fourteenth year of King Hezekiah, Senna...             ach  \n",
              "3                         Who really is my neighbor?             lug  \n",
              "4  He \"looked intently toward the payment of the ...             luo  "
            ]
          },
          "execution_count": 72,
          "metadata": {},
          "output_type": "execute_result"
        }
      ],
      "source": [
        "mt560_df = pd.read_csv(\"mt560.csv\")\n",
        "mt560_df.head()"
      ]
    },
    {
      "cell_type": "code",
      "execution_count": 74,
      "metadata": {},
      "outputs": [
        {
          "data": {
            "text/plain": [
              "array(['luo', 'ach', 'lug', 'nyn'], dtype=object)"
            ]
          },
          "execution_count": 74,
          "metadata": {},
          "output_type": "execute_result"
        }
      ],
      "source": [
        "# mt560_df.rename(columns={\"eng\": \"English\", \"lug\": \"Luganda\", \"luo\": \"Luo\"}, inplace=True)\n",
        "# mt560_df.columns\n",
        "mt560_df[\"source_language\"].unique()"
      ]
    },
    {
      "cell_type": "code",
      "execution_count": null,
      "metadata": {},
      "outputs": [],
      "source": [
        "# mt560 = []\n",
        "# for i in range(len(mt560_df)):\n",
        "#   mt560.append(training_examples_from_sentence(mt560_df.loc[i])[0])\n",
        "\n",
        "# mt560"
      ]
    },
    {
      "cell_type": "markdown",
      "metadata": {},
      "source": [
        "### Putting the dataset together"
      ]
    },
    {
      "cell_type": "markdown",
      "metadata": {
        "id": "j4i5xtmUPTxo"
      },
      "source": [
        "#### Create the .txt files needed for the training dataset"
      ]
    },
    {
      "cell_type": "code",
      "execution_count": 19,
      "metadata": {
        "id": "KTB6Mn3UPT17"
      },
      "outputs": [],
      "source": [
        "language_list = list(dataset.columns)\n",
        "language_codes = {\n",
        "    \"source\": \"src\", \"target\": \"tgt\"\n",
        "}"
      ]
    },
    {
      "cell_type": "code",
      "execution_count": 20,
      "metadata": {
        "id": "J8Z69vVSPT6n"
      },
      "outputs": [],
      "source": [
        "for language in language_list:\n",
        "    train_df[language].to_csv(f\"train.{language_codes[language]}\", header=False, index=False, sep='\\t', mode='a')\n",
        "    test_df[language].to_csv(f\"test.{language_codes[language]}\", header=False, index=False, sep='\\t', mode='a')\n",
        "    val_df[language].to_csv(f\"val.{language_codes[language]}\", header=False, index=False, sep='\\t', mode='a')"
      ]
    },
    {
      "cell_type": "markdown",
      "metadata": {
        "id": "nN25UQKVPT8X"
      },
      "source": [
        "**Create initial dataset folder and add dataset files**\n"
      ]
    },
    {
      "cell_type": "code",
      "execution_count": 21,
      "metadata": {
        "id": "P3sbBBxXPT-x"
      },
      "outputs": [],
      "source": [
        "!mkdir multilingual-dataset\n"
      ]
    },
    {
      "cell_type": "code",
      "execution_count": 22,
      "metadata": {
        "id": "Q9smZG9_PUCW"
      },
      "outputs": [],
      "source": [
        "!mv {*.src,*.tgt} multilingual-dataset"
      ]
    },
    {
      "cell_type": "code",
      "execution_count": 23,
      "metadata": {
        "colab": {
          "base_uri": "https://localhost:8080/"
        },
        "id": "TbH21VQYUGXB",
        "outputId": "12e1f607-e92b-42d1-860c-7a4ff5b08a86"
      },
      "outputs": [
        {
          "name": "stdout",
          "output_type": "stream",
          "text": [
            "eng.tgt   other.src test.src  test.tgt  train.src train.tgt val.src   val.tgt\n"
          ]
        }
      ],
      "source": [
        "!ls multilingual-dataset/\n"
      ]
    },
    {
      "cell_type": "markdown",
      "metadata": {
        "id": "HLzptIAHUH2R"
      },
      "source": [
        "**Update dataset folder structure and create archive**\n"
      ]
    },
    {
      "cell_type": "code",
      "execution_count": 24,
      "metadata": {
        "id": "Rj75Lo6YUH7F"
      },
      "outputs": [],
      "source": [
        "# !mkdir -p v6-dataset/v6.0/supervised/  # if this folder does not exist yet\n",
        "!mkdir v6-dataset/v6.0/supervised/src-tgt"
      ]
    },
    {
      "cell_type": "code",
      "execution_count": 25,
      "metadata": {
        "colab": {
          "base_uri": "https://localhost:8080/"
        },
        "id": "m6M0pwk2UH-M",
        "outputId": "22efb854-ee65-425e-8ff9-7d49a93d3776"
      },
      "outputs": [
        {
          "name": "stdout",
          "output_type": "stream",
          "text": [
            "multilingual-dataset/other.src -> v6-dataset/v6.0/supervised/src-tgt/other.src\n",
            "multilingual-dataset/test.src -> v6-dataset/v6.0/supervised/src-tgt/test.src\n",
            "multilingual-dataset/train.src -> v6-dataset/v6.0/supervised/src-tgt/train.src\n",
            "multilingual-dataset/val.src -> v6-dataset/v6.0/supervised/src-tgt/val.src\n",
            "multilingual-dataset/eng.tgt -> v6-dataset/v6.0/supervised/src-tgt/eng.tgt\n",
            "multilingual-dataset/test.tgt -> v6-dataset/v6.0/supervised/src-tgt/test.tgt\n",
            "multilingual-dataset/train.tgt -> v6-dataset/v6.0/supervised/src-tgt/train.tgt\n",
            "multilingual-dataset/val.tgt -> v6-dataset/v6.0/supervised/src-tgt/val.tgt\n"
          ]
        }
      ],
      "source": [
        "!cp -v multilingual-dataset/*.{src,tgt} v6-dataset/v6.0/supervised/src-tgt"
      ]
    },
    {
      "cell_type": "code",
      "execution_count": 27,
      "metadata": {
        "colab": {
          "base_uri": "https://localhost:8080/"
        },
        "id": "78hrzaHvVcFZ",
        "outputId": "0ac75a1f-0317-483a-b396-2c591f8c617d"
      },
      "outputs": [
        {
          "name": "stdout",
          "output_type": "stream",
          "text": [
            "  adding: v6-dataset/ (stored 0%)\n",
            "  adding: v6-dataset/v6.0/ (stored 0%)\n",
            "  adding: v6-dataset/v6.0/supervised/ (stored 0%)\n",
            "  adding: v6-dataset/v6.0/supervised/en-run/ (stored 0%)\n",
            "  adding: v6-dataset/v6.0/supervised/en-run/test.run (deflated 64%)\n",
            "  adding: v6-dataset/v6.0/supervised/en-run/val.run (deflated 65%)\n",
            "  adding: v6-dataset/v6.0/supervised/en-run/train.en (deflated 64%)\n",
            "  adding: v6-dataset/v6.0/supervised/en-run/val.en (deflated 63%)\n",
            "  adding: v6-dataset/v6.0/supervised/en-run/train.run (deflated 65%)\n",
            "  adding: v6-dataset/v6.0/supervised/en-run/test.en (deflated 63%)\n",
            "  adding: v6-dataset/v6.0/supervised/lug-teo/ (stored 0%)\n",
            "  adding: v6-dataset/v6.0/supervised/lug-teo/train.lug (deflated 66%)\n",
            "  adding: v6-dataset/v6.0/supervised/lug-teo/val.teo (deflated 66%)\n",
            "  adding: v6-dataset/v6.0/supervised/lug-teo/test.teo (deflated 66%)\n",
            "  adding: v6-dataset/v6.0/supervised/lug-teo/val.lug (deflated 65%)\n",
            "  adding: v6-dataset/v6.0/supervised/lug-teo/test.lug (deflated 65%)\n",
            "  adding: v6-dataset/v6.0/supervised/lug-teo/train.teo (deflated 67%)\n",
            "  adding: v6-dataset/v6.0/supervised/en-teo/ (stored 0%)\n",
            "  adding: v6-dataset/v6.0/supervised/en-teo/val.teo (deflated 66%)\n",
            "  adding: v6-dataset/v6.0/supervised/en-teo/test.teo (deflated 66%)\n",
            "  adding: v6-dataset/v6.0/supervised/en-teo/train.en (deflated 64%)\n",
            "  adding: v6-dataset/v6.0/supervised/en-teo/val.en (deflated 63%)\n",
            "  adding: v6-dataset/v6.0/supervised/en-teo/test.en (deflated 63%)\n",
            "  adding: v6-dataset/v6.0/supervised/en-teo/train.teo (deflated 67%)\n",
            "  adding: v6-dataset/v6.0/supervised/run-lgg/ (stored 0%)\n",
            "  adding: v6-dataset/v6.0/supervised/run-lgg/test.run (deflated 64%)\n",
            "  adding: v6-dataset/v6.0/supervised/run-lgg/train.lgg (deflated 65%)\n",
            "  adding: v6-dataset/v6.0/supervised/run-lgg/val.run (deflated 65%)\n",
            "  adding: v6-dataset/v6.0/supervised/run-lgg/test.lgg (deflated 65%)\n",
            "  adding: v6-dataset/v6.0/supervised/run-lgg/train.run (deflated 65%)\n",
            "  adding: v6-dataset/v6.0/supervised/run-lgg/val.lgg (deflated 65%)\n",
            "  adding: v6-dataset/v6.0/supervised/teo-run/ (stored 0%)\n",
            "  adding: v6-dataset/v6.0/supervised/teo-run/test.run (deflated 64%)\n",
            "  adding: v6-dataset/v6.0/supervised/teo-run/val.run (deflated 65%)\n",
            "  adding: v6-dataset/v6.0/supervised/teo-run/val.teo (deflated 66%)\n",
            "  adding: v6-dataset/v6.0/supervised/teo-run/test.teo (deflated 66%)\n",
            "  adding: v6-dataset/v6.0/supervised/teo-run/train.run (deflated 65%)\n",
            "  adding: v6-dataset/v6.0/supervised/teo-run/train.teo (deflated 67%)\n",
            "  adding: v6-dataset/v6.0/supervised/ach-lgg/ (stored 0%)\n",
            "  adding: v6-dataset/v6.0/supervised/ach-lgg/train.ach (deflated 63%)\n",
            "  adding: v6-dataset/v6.0/supervised/ach-lgg/train.lgg (deflated 65%)\n",
            "  adding: v6-dataset/v6.0/supervised/ach-lgg/val.ach (deflated 63%)\n",
            "  adding: v6-dataset/v6.0/supervised/ach-lgg/test.ach (deflated 63%)\n",
            "  adding: v6-dataset/v6.0/supervised/ach-lgg/test.lgg (deflated 65%)\n",
            "  adding: v6-dataset/v6.0/supervised/ach-lgg/val.lgg (deflated 65%)\n",
            "  adding: v6-dataset/v6.0/supervised/lug-run/ (stored 0%)\n",
            "  adding: v6-dataset/v6.0/supervised/lug-run/train.lug (deflated 66%)\n",
            "  adding: v6-dataset/v6.0/supervised/lug-run/test.run (deflated 64%)\n",
            "  adding: v6-dataset/v6.0/supervised/lug-run/val.run (deflated 65%)\n",
            "  adding: v6-dataset/v6.0/supervised/lug-run/val.lug (deflated 65%)\n",
            "  adding: v6-dataset/v6.0/supervised/lug-run/test.lug (deflated 65%)\n",
            "  adding: v6-dataset/v6.0/supervised/lug-run/train.run (deflated 65%)\n",
            "  adding: v6-dataset/v6.0/supervised/ach-teo/ (stored 0%)\n",
            "  adding: v6-dataset/v6.0/supervised/ach-teo/train.ach (deflated 63%)\n",
            "  adding: v6-dataset/v6.0/supervised/ach-teo/val.teo (deflated 66%)\n",
            "  adding: v6-dataset/v6.0/supervised/ach-teo/test.teo (deflated 66%)\n",
            "  adding: v6-dataset/v6.0/supervised/ach-teo/val.ach (deflated 63%)\n",
            "  adding: v6-dataset/v6.0/supervised/ach-teo/test.ach (deflated 63%)\n",
            "  adding: v6-dataset/v6.0/supervised/ach-teo/train.teo (deflated 67%)\n",
            "  adding: v6-dataset/v6.0/supervised/en-lgg/ (stored 0%)\n",
            "  adding: v6-dataset/v6.0/supervised/en-lgg/train.lgg (deflated 65%)\n",
            "  adding: v6-dataset/v6.0/supervised/en-lgg/train.en (deflated 64%)\n",
            "  adding: v6-dataset/v6.0/supervised/en-lgg/val.en (deflated 63%)\n",
            "  adding: v6-dataset/v6.0/supervised/en-lgg/test.lgg (deflated 65%)\n",
            "  adding: v6-dataset/v6.0/supervised/en-lgg/test.en (deflated 63%)\n",
            "  adding: v6-dataset/v6.0/supervised/en-lgg/val.lgg (deflated 65%)\n",
            "  adding: v6-dataset/v6.0/supervised/en-lug/ (stored 0%)\n",
            "  adding: v6-dataset/v6.0/supervised/en-lug/train.lug (deflated 66%)\n",
            "  adding: v6-dataset/v6.0/supervised/en-lug/train.en (deflated 64%)\n",
            "  adding: v6-dataset/v6.0/supervised/en-lug/val.lug (deflated 65%)\n",
            "  adding: v6-dataset/v6.0/supervised/en-lug/val.en (deflated 63%)\n",
            "  adding: v6-dataset/v6.0/supervised/en-lug/test.lug (deflated 65%)\n",
            "  adding: v6-dataset/v6.0/supervised/en-lug/test.en (deflated 63%)\n",
            "  adding: v6-dataset/v6.0/supervised/en-ach/ (stored 0%)\n",
            "  adding: v6-dataset/v6.0/supervised/en-ach/train.ach (deflated 63%)\n",
            "  adding: v6-dataset/v6.0/supervised/en-ach/train.en (deflated 64%)\n",
            "  adding: v6-dataset/v6.0/supervised/en-ach/val.en (deflated 63%)\n",
            "  adding: v6-dataset/v6.0/supervised/en-ach/val.ach (deflated 63%)\n",
            "  adding: v6-dataset/v6.0/supervised/en-ach/test.ach (deflated 63%)\n",
            "  adding: v6-dataset/v6.0/supervised/en-ach/test.en (deflated 63%)\n",
            "  adding: v6-dataset/v6.0/supervised/src-tgt/ (stored 0%)\n",
            "  adding: v6-dataset/v6.0/supervised/src-tgt/train.tgt (deflated 64%)\n",
            "  adding: v6-dataset/v6.0/supervised/src-tgt/test.src (deflated 58%)\n",
            "  adding: v6-dataset/v6.0/supervised/src-tgt/val.src (deflated 58%)\n",
            "  adding: v6-dataset/v6.0/supervised/src-tgt/other.src (deflated 63%)\n",
            "  adding: v6-dataset/v6.0/supervised/src-tgt/eng.tgt (deflated 91%)\n",
            "  adding: v6-dataset/v6.0/supervised/src-tgt/val.tgt (deflated 64%)\n",
            "  adding: v6-dataset/v6.0/supervised/src-tgt/test.tgt (deflated 64%)\n",
            "  adding: v6-dataset/v6.0/supervised/src-tgt/train.src (deflated 58%)\n",
            "  adding: v6-dataset/v6.0/supervised/teo-lgg/ (stored 0%)\n",
            "  adding: v6-dataset/v6.0/supervised/teo-lgg/train.lgg (deflated 65%)\n",
            "  adding: v6-dataset/v6.0/supervised/teo-lgg/val.teo (deflated 66%)\n",
            "  adding: v6-dataset/v6.0/supervised/teo-lgg/test.teo (deflated 66%)\n",
            "  adding: v6-dataset/v6.0/supervised/teo-lgg/test.lgg (deflated 65%)\n",
            "  adding: v6-dataset/v6.0/supervised/teo-lgg/val.lgg (deflated 65%)\n",
            "  adding: v6-dataset/v6.0/supervised/teo-lgg/train.teo (deflated 67%)\n",
            "  adding: v6-dataset/v6.0/supervised/ach-run/ (stored 0%)\n",
            "  adding: v6-dataset/v6.0/supervised/ach-run/train.ach (deflated 63%)\n",
            "  adding: v6-dataset/v6.0/supervised/ach-run/test.run (deflated 64%)\n",
            "  adding: v6-dataset/v6.0/supervised/ach-run/val.run (deflated 65%)\n",
            "  adding: v6-dataset/v6.0/supervised/ach-run/val.ach (deflated 63%)\n",
            "  adding: v6-dataset/v6.0/supervised/ach-run/test.ach (deflated 63%)\n",
            "  adding: v6-dataset/v6.0/supervised/ach-run/train.run (deflated 65%)\n",
            "  adding: v6-dataset/v6.0/supervised/lug-ach/ (stored 0%)\n",
            "  adding: v6-dataset/v6.0/supervised/lug-ach/train.ach (deflated 63%)\n",
            "  adding: v6-dataset/v6.0/supervised/lug-ach/train.lug (deflated 66%)\n",
            "  adding: v6-dataset/v6.0/supervised/lug-ach/val.lug (deflated 65%)\n",
            "  adding: v6-dataset/v6.0/supervised/lug-ach/val.ach (deflated 63%)\n",
            "  adding: v6-dataset/v6.0/supervised/lug-ach/test.ach (deflated 63%)\n",
            "  adding: v6-dataset/v6.0/supervised/lug-ach/test.lug (deflated 65%)\n",
            "  adding: v6-dataset/v6.0/supervised/lug-lgg/ (stored 0%)\n",
            "  adding: v6-dataset/v6.0/supervised/lug-lgg/train.lug (deflated 66%)\n",
            "  adding: v6-dataset/v6.0/supervised/lug-lgg/train.lgg (deflated 65%)\n",
            "  adding: v6-dataset/v6.0/supervised/lug-lgg/val.lug (deflated 65%)\n",
            "  adding: v6-dataset/v6.0/supervised/lug-lgg/test.lug (deflated 65%)\n",
            "  adding: v6-dataset/v6.0/supervised/lug-lgg/test.lgg (deflated 65%)\n",
            "  adding: v6-dataset/v6.0/supervised/lug-lgg/val.lgg (deflated 65%)\n"
          ]
        }
      ],
      "source": [
        "# Zip Directory\n",
        "!zip -r v6-dataset.zip v6-dataset/\n"
      ]
    },
    {
      "cell_type": "markdown",
      "metadata": {},
      "source": [
        "### Part 2: Create English to all languages dataset (en-mul)"
      ]
    },
    {
      "cell_type": "code",
      "execution_count": 29,
      "metadata": {
        "id": "VURBQuXtII2c"
      },
      "outputs": [],
      "source": [
        "# Multi-lingual case: generate all examples of source and target language\n",
        "def training_examples_from_sentence(translated_sentence):\n",
        "\n",
        "  languages = set(translated_sentence.keys())\n",
        "\n",
        "  if len(languages) < 2:\n",
        "    raise ValueError(\"There must be at least two different languages, \"\n",
        "                     f\"found {languages})\")\n",
        "\n",
        "  training_examples = []\n",
        "  for target_language in languages:\n",
        "\n",
        "    source_languages = languages.copy()\n",
        "    source_languages.remove(target_language)\n",
        "\n",
        "    for source_language in source_languages:\n",
        "      source_text = (f\"<to_{target_language}> \"\n",
        "                     f\"{translated_sentence[source_language]}\")\n",
        "      target_text = translated_sentence[target_language]\n",
        "\n",
        "      training_examples.append({'source': source_text, \n",
        "                                'target': target_text})\n",
        "      \n",
        "  return training_examples"
      ]
    },
    {
      "cell_type": "code",
      "execution_count": 30,
      "metadata": {
        "colab": {
          "base_uri": "https://localhost:8080/"
        },
        "id": "m4jXurHfLjbe",
        "outputId": "8de7a2ee-f777-4387-c66f-0e57aec04dba"
      },
      "outputs": [
        {
          "data": {
            "text/plain": [
              "30"
            ]
          },
          "execution_count": 30,
          "metadata": {},
          "output_type": "execute_result"
        }
      ],
      "source": [
        "len(training_examples_from_sentence(translated_sentence))"
      ]
    },
    {
      "cell_type": "code",
      "execution_count": 31,
      "metadata": {
        "colab": {
          "base_uri": "https://localhost:8080/"
        },
        "id": "S0YDiO79LoWV",
        "outputId": "7ff92094-82d5-4829-f750-500df9b1019c"
      },
      "outputs": [
        {
          "data": {
            "text/plain": [
              "[{'source': '<to_Lugbara> Bilinyanya pol kare dongo maber ka lyeto tye',\n",
              "  'target': 'Birinyanya eyi zo kililiru ndeni angu driza ma alia.'},\n",
              " {'source': '<to_Lugbara> Epoloi ebirinyanyi ojok apakio nu emwanar akwap.',\n",
              "  'target': 'Birinyanya eyi zo kililiru ndeni angu driza ma alia.'},\n",
              " {'source': '<to_Lugbara> Bbiringanya lubeerera  asinga kukulira mu mbeera ya bugumu',\n",
              "  'target': 'Birinyanya eyi zo kililiru ndeni angu driza ma alia.'},\n",
              " {'source': '<to_Lugbara> Eggplants always grow best under warm conditions.',\n",
              "  'target': 'Birinyanya eyi zo kililiru ndeni angu driza ma alia.'},\n",
              " {'source': \"<to_Lugbara> Entonga buriijo zikurira omu mbeera y'obwire erikutagata\",\n",
              "  'target': 'Birinyanya eyi zo kililiru ndeni angu driza ma alia.'},\n",
              " {'source': '<to_Ateso> Birinyanya eyi zo kililiru ndeni angu driza ma alia.',\n",
              "  'target': 'Epoloi ebirinyanyi ojok apakio nu emwanar akwap.'},\n",
              " {'source': '<to_Ateso> Bilinyanya pol kare dongo maber ka lyeto tye',\n",
              "  'target': 'Epoloi ebirinyanyi ojok apakio nu emwanar akwap.'},\n",
              " {'source': '<to_Ateso> Bbiringanya lubeerera  asinga kukulira mu mbeera ya bugumu',\n",
              "  'target': 'Epoloi ebirinyanyi ojok apakio nu emwanar akwap.'},\n",
              " {'source': '<to_Ateso> Eggplants always grow best under warm conditions.',\n",
              "  'target': 'Epoloi ebirinyanyi ojok apakio nu emwanar akwap.'},\n",
              " {'source': \"<to_Ateso> Entonga buriijo zikurira omu mbeera y'obwire erikutagata\",\n",
              "  'target': 'Epoloi ebirinyanyi ojok apakio nu emwanar akwap.'},\n",
              " {'source': '<to_Luganda> Birinyanya eyi zo kililiru ndeni angu driza ma alia.',\n",
              "  'target': 'Bbiringanya lubeerera  asinga kukulira mu mbeera ya bugumu'},\n",
              " {'source': '<to_Luganda> Bilinyanya pol kare dongo maber ka lyeto tye',\n",
              "  'target': 'Bbiringanya lubeerera  asinga kukulira mu mbeera ya bugumu'},\n",
              " {'source': '<to_Luganda> Epoloi ebirinyanyi ojok apakio nu emwanar akwap.',\n",
              "  'target': 'Bbiringanya lubeerera  asinga kukulira mu mbeera ya bugumu'},\n",
              " {'source': '<to_Luganda> Eggplants always grow best under warm conditions.',\n",
              "  'target': 'Bbiringanya lubeerera  asinga kukulira mu mbeera ya bugumu'},\n",
              " {'source': \"<to_Luganda> Entonga buriijo zikurira omu mbeera y'obwire erikutagata\",\n",
              "  'target': 'Bbiringanya lubeerera  asinga kukulira mu mbeera ya bugumu'},\n",
              " {'source': '<to_English> Birinyanya eyi zo kililiru ndeni angu driza ma alia.',\n",
              "  'target': 'Eggplants always grow best under warm conditions.'},\n",
              " {'source': '<to_English> Bilinyanya pol kare dongo maber ka lyeto tye',\n",
              "  'target': 'Eggplants always grow best under warm conditions.'},\n",
              " {'source': '<to_English> Epoloi ebirinyanyi ojok apakio nu emwanar akwap.',\n",
              "  'target': 'Eggplants always grow best under warm conditions.'},\n",
              " {'source': '<to_English> Bbiringanya lubeerera  asinga kukulira mu mbeera ya bugumu',\n",
              "  'target': 'Eggplants always grow best under warm conditions.'},\n",
              " {'source': \"<to_English> Entonga buriijo zikurira omu mbeera y'obwire erikutagata\",\n",
              "  'target': 'Eggplants always grow best under warm conditions.'},\n",
              " {'source': '<to_Acholi> Birinyanya eyi zo kililiru ndeni angu driza ma alia.',\n",
              "  'target': 'Bilinyanya pol kare dongo maber ka lyeto tye'},\n",
              " {'source': '<to_Acholi> Epoloi ebirinyanyi ojok apakio nu emwanar akwap.',\n",
              "  'target': 'Bilinyanya pol kare dongo maber ka lyeto tye'},\n",
              " {'source': '<to_Acholi> Bbiringanya lubeerera  asinga kukulira mu mbeera ya bugumu',\n",
              "  'target': 'Bilinyanya pol kare dongo maber ka lyeto tye'},\n",
              " {'source': '<to_Acholi> Eggplants always grow best under warm conditions.',\n",
              "  'target': 'Bilinyanya pol kare dongo maber ka lyeto tye'},\n",
              " {'source': \"<to_Acholi> Entonga buriijo zikurira omu mbeera y'obwire erikutagata\",\n",
              "  'target': 'Bilinyanya pol kare dongo maber ka lyeto tye'},\n",
              " {'source': '<to_Runyankole> Birinyanya eyi zo kililiru ndeni angu driza ma alia.',\n",
              "  'target': \"Entonga buriijo zikurira omu mbeera y'obwire erikutagata\"},\n",
              " {'source': '<to_Runyankole> Bilinyanya pol kare dongo maber ka lyeto tye',\n",
              "  'target': \"Entonga buriijo zikurira omu mbeera y'obwire erikutagata\"},\n",
              " {'source': '<to_Runyankole> Epoloi ebirinyanyi ojok apakio nu emwanar akwap.',\n",
              "  'target': \"Entonga buriijo zikurira omu mbeera y'obwire erikutagata\"},\n",
              " {'source': '<to_Runyankole> Bbiringanya lubeerera  asinga kukulira mu mbeera ya bugumu',\n",
              "  'target': \"Entonga buriijo zikurira omu mbeera y'obwire erikutagata\"},\n",
              " {'source': '<to_Runyankole> Eggplants always grow best under warm conditions.',\n",
              "  'target': \"Entonga buriijo zikurira omu mbeera y'obwire erikutagata\"}]"
            ]
          },
          "execution_count": 31,
          "metadata": {},
          "output_type": "execute_result"
        }
      ],
      "source": [
        "training_examples_from_sentence(translated_sentence)"
      ]
    },
    {
      "cell_type": "code",
      "execution_count": 32,
      "metadata": {
        "id": "H_H4tV4mHpA_"
      },
      "outputs": [],
      "source": [
        "# Create all pairs from dataset\n",
        "\n",
        "m = []\n",
        "for i in range(len(df)):\n",
        "  m.append(training_examples_from_sentence(json.loads(data[i])))"
      ]
    },
    {
      "cell_type": "code",
      "execution_count": 33,
      "metadata": {
        "colab": {
          "base_uri": "https://localhost:8080/"
        },
        "id": "4pvSsLSDG6iu",
        "outputId": "339c253f-2f6d-4a68-f628-7ac335aa1242"
      },
      "outputs": [
        {
          "data": {
            "text/plain": [
              "[{'source': '<to_Lugbara> Bilinyanya pol kare dongo maber ka lyeto tye',\n",
              "  'target': 'Birinyanya eyi zo kililiru ndeni angu driza ma alia.'},\n",
              " {'source': '<to_Lugbara> Epoloi ebirinyanyi ojok apakio nu emwanar akwap.',\n",
              "  'target': 'Birinyanya eyi zo kililiru ndeni angu driza ma alia.'},\n",
              " {'source': '<to_Lugbara> Bbiringanya lubeerera  asinga kukulira mu mbeera ya bugumu',\n",
              "  'target': 'Birinyanya eyi zo kililiru ndeni angu driza ma alia.'},\n",
              " {'source': '<to_Lugbara> Eggplants always grow best under warm conditions.',\n",
              "  'target': 'Birinyanya eyi zo kililiru ndeni angu driza ma alia.'},\n",
              " {'source': \"<to_Lugbara> Entonga buriijo zikurira omu mbeera y'obwire erikutagata\",\n",
              "  'target': 'Birinyanya eyi zo kililiru ndeni angu driza ma alia.'},\n",
              " {'source': '<to_Ateso> Birinyanya eyi zo kililiru ndeni angu driza ma alia.',\n",
              "  'target': 'Epoloi ebirinyanyi ojok apakio nu emwanar akwap.'},\n",
              " {'source': '<to_Ateso> Bilinyanya pol kare dongo maber ka lyeto tye',\n",
              "  'target': 'Epoloi ebirinyanyi ojok apakio nu emwanar akwap.'},\n",
              " {'source': '<to_Ateso> Bbiringanya lubeerera  asinga kukulira mu mbeera ya bugumu',\n",
              "  'target': 'Epoloi ebirinyanyi ojok apakio nu emwanar akwap.'},\n",
              " {'source': '<to_Ateso> Eggplants always grow best under warm conditions.',\n",
              "  'target': 'Epoloi ebirinyanyi ojok apakio nu emwanar akwap.'},\n",
              " {'source': \"<to_Ateso> Entonga buriijo zikurira omu mbeera y'obwire erikutagata\",\n",
              "  'target': 'Epoloi ebirinyanyi ojok apakio nu emwanar akwap.'},\n",
              " {'source': '<to_Luganda> Birinyanya eyi zo kililiru ndeni angu driza ma alia.',\n",
              "  'target': 'Bbiringanya lubeerera  asinga kukulira mu mbeera ya bugumu'},\n",
              " {'source': '<to_Luganda> Bilinyanya pol kare dongo maber ka lyeto tye',\n",
              "  'target': 'Bbiringanya lubeerera  asinga kukulira mu mbeera ya bugumu'},\n",
              " {'source': '<to_Luganda> Epoloi ebirinyanyi ojok apakio nu emwanar akwap.',\n",
              "  'target': 'Bbiringanya lubeerera  asinga kukulira mu mbeera ya bugumu'},\n",
              " {'source': '<to_Luganda> Eggplants always grow best under warm conditions.',\n",
              "  'target': 'Bbiringanya lubeerera  asinga kukulira mu mbeera ya bugumu'},\n",
              " {'source': \"<to_Luganda> Entonga buriijo zikurira omu mbeera y'obwire erikutagata\",\n",
              "  'target': 'Bbiringanya lubeerera  asinga kukulira mu mbeera ya bugumu'},\n",
              " {'source': '<to_English> Birinyanya eyi zo kililiru ndeni angu driza ma alia.',\n",
              "  'target': 'Eggplants always grow best under warm conditions.'},\n",
              " {'source': '<to_English> Bilinyanya pol kare dongo maber ka lyeto tye',\n",
              "  'target': 'Eggplants always grow best under warm conditions.'},\n",
              " {'source': '<to_English> Epoloi ebirinyanyi ojok apakio nu emwanar akwap.',\n",
              "  'target': 'Eggplants always grow best under warm conditions.'},\n",
              " {'source': '<to_English> Bbiringanya lubeerera  asinga kukulira mu mbeera ya bugumu',\n",
              "  'target': 'Eggplants always grow best under warm conditions.'},\n",
              " {'source': \"<to_English> Entonga buriijo zikurira omu mbeera y'obwire erikutagata\",\n",
              "  'target': 'Eggplants always grow best under warm conditions.'},\n",
              " {'source': '<to_Acholi> Birinyanya eyi zo kililiru ndeni angu driza ma alia.',\n",
              "  'target': 'Bilinyanya pol kare dongo maber ka lyeto tye'},\n",
              " {'source': '<to_Acholi> Epoloi ebirinyanyi ojok apakio nu emwanar akwap.',\n",
              "  'target': 'Bilinyanya pol kare dongo maber ka lyeto tye'},\n",
              " {'source': '<to_Acholi> Bbiringanya lubeerera  asinga kukulira mu mbeera ya bugumu',\n",
              "  'target': 'Bilinyanya pol kare dongo maber ka lyeto tye'},\n",
              " {'source': '<to_Acholi> Eggplants always grow best under warm conditions.',\n",
              "  'target': 'Bilinyanya pol kare dongo maber ka lyeto tye'},\n",
              " {'source': \"<to_Acholi> Entonga buriijo zikurira omu mbeera y'obwire erikutagata\",\n",
              "  'target': 'Bilinyanya pol kare dongo maber ka lyeto tye'},\n",
              " {'source': '<to_Runyankole> Birinyanya eyi zo kililiru ndeni angu driza ma alia.',\n",
              "  'target': \"Entonga buriijo zikurira omu mbeera y'obwire erikutagata\"},\n",
              " {'source': '<to_Runyankole> Bilinyanya pol kare dongo maber ka lyeto tye',\n",
              "  'target': \"Entonga buriijo zikurira omu mbeera y'obwire erikutagata\"},\n",
              " {'source': '<to_Runyankole> Epoloi ebirinyanyi ojok apakio nu emwanar akwap.',\n",
              "  'target': \"Entonga buriijo zikurira omu mbeera y'obwire erikutagata\"},\n",
              " {'source': '<to_Runyankole> Bbiringanya lubeerera  asinga kukulira mu mbeera ya bugumu',\n",
              "  'target': \"Entonga buriijo zikurira omu mbeera y'obwire erikutagata\"},\n",
              " {'source': '<to_Runyankole> Eggplants always grow best under warm conditions.',\n",
              "  'target': \"Entonga buriijo zikurira omu mbeera y'obwire erikutagata\"}]"
            ]
          },
          "execution_count": 33,
          "metadata": {},
          "output_type": "execute_result"
        }
      ],
      "source": [
        "m[0]"
      ]
    },
    {
      "cell_type": "code",
      "execution_count": 34,
      "metadata": {
        "colab": {
          "base_uri": "https://localhost:8080/"
        },
        "id": "Ih0_EX3PH6_4",
        "outputId": "79f53323-ec24-458b-9bb1-819e24ae2320"
      },
      "outputs": [
        {
          "data": {
            "text/plain": [
              "30"
            ]
          },
          "execution_count": 34,
          "metadata": {},
          "output_type": "execute_result"
        }
      ],
      "source": [
        "len(m[0])"
      ]
    },
    {
      "cell_type": "code",
      "execution_count": 35,
      "metadata": {
        "colab": {
          "base_uri": "https://localhost:8080/"
        },
        "id": "0xupE47AIEnt",
        "outputId": "395a8aae-1c9f-48b9-f827-d072192ddff4"
      },
      "outputs": [
        {
          "data": {
            "text/plain": [
              "25007"
            ]
          },
          "execution_count": 35,
          "metadata": {},
          "output_type": "execute_result"
        }
      ],
      "source": [
        "len(m)"
      ]
    },
    {
      "cell_type": "code",
      "execution_count": 36,
      "metadata": {
        "colab": {
          "base_uri": "https://localhost:8080/"
        },
        "id": "e7dUEDwvIFrS",
        "outputId": "4854b219-e5ac-4950-f0e1-dfac8ab4b88b"
      },
      "outputs": [
        {
          "data": {
            "text/plain": [
              "750210"
            ]
          },
          "execution_count": 36,
          "metadata": {},
          "output_type": "execute_result"
        }
      ],
      "source": [
        "len(m)*len(m[0])"
      ]
    },
    {
      "cell_type": "code",
      "execution_count": 37,
      "metadata": {
        "id": "M0lVxZDFIHw2"
      },
      "outputs": [],
      "source": [
        "from itertools import chain\n",
        "multi_dataset = pd.DataFrame(list(chain.from_iterable(m)))"
      ]
    },
    {
      "cell_type": "code",
      "execution_count": 38,
      "metadata": {
        "colab": {
          "base_uri": "https://localhost:8080/"
        },
        "id": "bhRgWOqLIMQa",
        "outputId": "6cafc6c5-9c9e-4948-b295-f10198557894"
      },
      "outputs": [
        {
          "data": {
            "text/plain": [
              "array([['<to_Runyankole> Gameteni silingi eza angiri eli vusi nzila siza ma dria',\n",
              "        'Gavumenti neeshohoreza munonga omukwombeka enguuto eibara-mwaka.'],\n",
              "       ['<to_Runyankole> Gamente tiyo ki cente ma dwong adada me gero ki roco gudu.',\n",
              "        'Gavumenti neeshohoreza munonga omukwombeka enguuto eibara-mwaka.'],\n",
              "       ['<to_Runyankole> Itosomai apugan ikapun luipu kanginikaru kotoma aiduk irotin.',\n",
              "        'Gavumenti neeshohoreza munonga omukwombeka enguuto eibara-mwaka.'],\n",
              "       ['<to_Runyankole> Gavumenti essaasaanya ssente nnyingi nnyo buli mwaka mu kuzimba amakubo.',\n",
              "        'Gavumenti neeshohoreza munonga omukwombeka enguuto eibara-mwaka.'],\n",
              "       ['<to_Runyankole> The government spends a lot of money every year on road construction.',\n",
              "        'Gavumenti neeshohoreza munonga omukwombeka enguuto eibara-mwaka.']],\n",
              "      dtype=object)"
            ]
          },
          "execution_count": 38,
          "metadata": {},
          "output_type": "execute_result"
        }
      ],
      "source": [
        "multi_dataset.tail(5).values"
      ]
    }
  ],
  "metadata": {
    "colab": {
      "collapsed_sections": [],
      "name": "multilingual_data_prep.ipynb",
      "provenance": []
    },
    "interpreter": {
      "hash": "b0fa6594d8f4cbf19f97940f81e996739fb7646882a419484c72d19e05852a7e"
    },
    "kernelspec": {
      "display_name": "Python 3.9.6 64-bit",
      "name": "python3"
    },
    "language_info": {
      "codemirror_mode": {
        "name": "ipython",
        "version": 3
      },
      "file_extension": ".py",
      "mimetype": "text/x-python",
      "name": "python",
      "nbconvert_exporter": "python",
      "pygments_lexer": "ipython3",
      "version": "3.9.6"
    }
  },
  "nbformat": 4,
  "nbformat_minor": 0
}
