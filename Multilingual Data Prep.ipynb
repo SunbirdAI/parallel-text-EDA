{
  "cells": [
    {
      "cell_type": "markdown",
      "metadata": {},
      "source": [
        "## Compilation of `multilingual` training dataset for Sunbird language models"
      ]
    },
    {
      "cell_type": "markdown",
      "metadata": {},
      "source": [
        "## Logic\n",
        "\n",
        "#### V1: A model that translates any of the other languages to English (`mul-en`)\n",
        "##### Source sentence: Any of the other languages\n",
        "##### Target: English\n",
        "\n",
        "\n",
        "#### V2: A model that translates English to any of the other languages (`en-mul`)\n",
        "##### Source sentence: English\n",
        "##### Target: Any of the other languages"
      ]
    },
    {
      "cell_type": "code",
      "execution_count": 1,
      "metadata": {},
      "outputs": [],
      "source": [
        "import pandas as pd\n",
        "from itertools import chain\n",
        "from sklearn.model_selection import train_test_split"
      ]
    },
    {
      "cell_type": "code",
      "execution_count": null,
      "metadata": {},
      "outputs": [],
      "source": [
        "# Download the Sunbird language dataset if needed\n",
        "!wget https://transfer.sh/AvcWgi/sunbird-ug-lang-v4.0.jsonl"
      ]
    },
    {
      "cell_type": "markdown",
      "metadata": {
        "id": "jMRoVeQYwagF"
      },
      "source": [
        "### Part 1: Create Multi-lingual to English target dataset (mul-en)"
      ]
    },
    {
      "cell_type": "markdown",
      "metadata": {},
      "source": [
        "#### Multilingual to English dataset creation function"
      ]
    },
    {
      "cell_type": "code",
      "execution_count": 3,
      "metadata": {
        "id": "SO_hdRMBFVOu"
      },
      "outputs": [],
      "source": [
        "# Function to generate multiple training examples from one translated sentence: Other languages to English\n",
        "def training_examples_from_sentence_mul_en(translated_sentence,\n",
        "                                    target_language = \"English\"):\n",
        "  if target_language not in translated_sentence:\n",
        "    raise ValueError(\n",
        "        f\"Target language {target_language} expected in translations, but \"\n",
        "        f\"{translated_sentence.keys()} found\")\n",
        "\n",
        "  source_languages = set(translated_sentence.keys())\n",
        "  source_languages.remove(target_language)\n",
        "\n",
        "  if not source_languages:\n",
        "    raise ValueError(\"There should be at least one language apart from the \"\n",
        "                    \"target.\")\n",
        "\n",
        "  training_examples = [\n",
        "                        {\n",
        "                          \"source\": translated_sentence[lang], \n",
        "                          \"target\": translated_sentence[target_language],\n",
        "                          \"source_language\": lang\n",
        "                        }\n",
        "                        for lang in source_languages\n",
        "                      ]\n",
        "\n",
        "  return training_examples"
      ]
    },
    {
      "cell_type": "markdown",
      "metadata": {},
      "source": [
        "#### Application to the Sunbird dataset"
      ]
    },
    {
      "cell_type": "code",
      "execution_count": 4,
      "metadata": {},
      "outputs": [
        {
          "data": {
            "text/html": [
              "<div>\n",
              "<style scoped>\n",
              "    .dataframe tbody tr th:only-of-type {\n",
              "        vertical-align: middle;\n",
              "    }\n",
              "\n",
              "    .dataframe tbody tr th {\n",
              "        vertical-align: top;\n",
              "    }\n",
              "\n",
              "    .dataframe thead th {\n",
              "        text-align: right;\n",
              "    }\n",
              "</style>\n",
              "<table border=\"1\" class=\"dataframe\">\n",
              "  <thead>\n",
              "    <tr style=\"text-align: right;\">\n",
              "      <th></th>\n",
              "      <th>English</th>\n",
              "      <th>Luganda</th>\n",
              "      <th>Runyankole</th>\n",
              "      <th>Ateso</th>\n",
              "      <th>Lugbara</th>\n",
              "      <th>Acholi</th>\n",
              "    </tr>\n",
              "  </thead>\n",
              "  <tbody>\n",
              "    <tr>\n",
              "      <th>0</th>\n",
              "      <td>Eggplants always grow best under warm conditions.</td>\n",
              "      <td>Bbiringanya lubeerera  asinga kukulira mu mbee...</td>\n",
              "      <td>Entonga buriijo zikurira omu mbeera y'obwire e...</td>\n",
              "      <td>Epoloi ebirinyanyi ojok apakio nu emwanar akwap.</td>\n",
              "      <td>Birinyanya eyi zo kililiru ndeni angu driza ma...</td>\n",
              "      <td>Bilinyanya pol kare dongo maber ka lyeto tye</td>\n",
              "    </tr>\n",
              "    <tr>\n",
              "      <th>1</th>\n",
              "      <td>Farmland is sometimes a challenge to farmers.</td>\n",
              "      <td>Ettaka ly'okulimirako n'okulundirako ebiseera ...</td>\n",
              "      <td>Eitaka ry'okuhingamu, obumwe n'obumwe nirireet...</td>\n",
              "      <td>Akiro nu alupok nes erai ationis kanejaas akoriok</td>\n",
              "      <td>Amvu ma angu eri sa'wa azini 'diyisi 'ba amvu ...</td>\n",
              "      <td>Ngom me pur i kare mukene obedo peko madit bot...</td>\n",
              "    </tr>\n",
              "    <tr>\n",
              "      <th>2</th>\n",
              "      <td>Farmers should be encouraged to grow more coffee.</td>\n",
              "      <td>Abalimi balina okukubirizibwa okwongera okulim...</td>\n",
              "      <td>Abahingi bashemereire kuhigwa bongyere okuhing...</td>\n",
              "      <td>Ekot aisinyikokit akoriok akoru emwanyi loepol</td>\n",
              "      <td>Le 'ba ma fe 'ba amvu 'yapi 'diyini ava kawa '...</td>\n",
              "      <td>Lupur omyero ki konygi wek nong miti me puru m...</td>\n",
              "    </tr>\n",
              "    <tr>\n",
              "      <th>3</th>\n",
              "      <td>Uganda is focusing on farming.</td>\n",
              "      <td>Uganda essira eritadde ku bulimi.</td>\n",
              "      <td>Uganda eteire amaani aha buhingi n'oburiisa.</td>\n",
              "      <td>Uganda nes ejai akiro nu akoru.</td>\n",
              "      <td>Kari Uganda niri eri asi'baza be amvu 'yaza ma...</td>\n",
              "      <td>Uganda tye ka keme ki lok me pur</td>\n",
              "    </tr>\n",
              "    <tr>\n",
              "      <th>4</th>\n",
              "      <td>Some plants die due to lack of sunlight.</td>\n",
              "      <td>Ebimera ebimu bifa olw'ebbula ly'omusana.</td>\n",
              "      <td>Ebihingwa ebimwe nibyoma ahabw'okubura omushana.</td>\n",
              "      <td>Icie ikorion etwakete naarai emamei akolong.</td>\n",
              "      <td>Ori azi 'diyi odra te ituka ma akosi.</td>\n",
              "      <td>jami apita mukene too woko pien pe ginongo cen...</td>\n",
              "    </tr>\n",
              "  </tbody>\n",
              "</table>\n",
              "</div>"
            ],
            "text/plain": [
              "                                             English  \\\n",
              "0  Eggplants always grow best under warm conditions.   \n",
              "1      Farmland is sometimes a challenge to farmers.   \n",
              "2  Farmers should be encouraged to grow more coffee.   \n",
              "3                     Uganda is focusing on farming.   \n",
              "4           Some plants die due to lack of sunlight.   \n",
              "\n",
              "                                             Luganda  \\\n",
              "0  Bbiringanya lubeerera  asinga kukulira mu mbee...   \n",
              "1  Ettaka ly'okulimirako n'okulundirako ebiseera ...   \n",
              "2  Abalimi balina okukubirizibwa okwongera okulim...   \n",
              "3                  Uganda essira eritadde ku bulimi.   \n",
              "4          Ebimera ebimu bifa olw'ebbula ly'omusana.   \n",
              "\n",
              "                                          Runyankole  \\\n",
              "0  Entonga buriijo zikurira omu mbeera y'obwire e...   \n",
              "1  Eitaka ry'okuhingamu, obumwe n'obumwe nirireet...   \n",
              "2  Abahingi bashemereire kuhigwa bongyere okuhing...   \n",
              "3       Uganda eteire amaani aha buhingi n'oburiisa.   \n",
              "4   Ebihingwa ebimwe nibyoma ahabw'okubura omushana.   \n",
              "\n",
              "                                               Ateso  \\\n",
              "0   Epoloi ebirinyanyi ojok apakio nu emwanar akwap.   \n",
              "1  Akiro nu alupok nes erai ationis kanejaas akoriok   \n",
              "2     Ekot aisinyikokit akoriok akoru emwanyi loepol   \n",
              "3                    Uganda nes ejai akiro nu akoru.   \n",
              "4       Icie ikorion etwakete naarai emamei akolong.   \n",
              "\n",
              "                                             Lugbara  \\\n",
              "0  Birinyanya eyi zo kililiru ndeni angu driza ma...   \n",
              "1  Amvu ma angu eri sa'wa azini 'diyisi 'ba amvu ...   \n",
              "2  Le 'ba ma fe 'ba amvu 'yapi 'diyini ava kawa '...   \n",
              "3  Kari Uganda niri eri asi'baza be amvu 'yaza ma...   \n",
              "4              Ori azi 'diyi odra te ituka ma akosi.   \n",
              "\n",
              "                                              Acholi  \n",
              "0       Bilinyanya pol kare dongo maber ka lyeto tye  \n",
              "1  Ngom me pur i kare mukene obedo peko madit bot...  \n",
              "2  Lupur omyero ki konygi wek nong miti me puru m...  \n",
              "3                   Uganda tye ka keme ki lok me pur  \n",
              "4  jami apita mukene too woko pien pe ginongo cen...  "
            ]
          },
          "execution_count": 4,
          "metadata": {},
          "output_type": "execute_result"
        }
      ],
      "source": [
        "sunbird_df = pd.read_json(\"sunbird-ug-lang-v5.0.jsonl\", lines=True)\n",
        "sunbird_df.head()"
      ]
    },
    {
      "cell_type": "code",
      "execution_count": 5,
      "metadata": {},
      "outputs": [
        {
          "data": {
            "text/plain": [
              "(25006, 6)"
            ]
          },
          "execution_count": 5,
          "metadata": {},
          "output_type": "execute_result"
        }
      ],
      "source": [
        "sunbird_df.shape"
      ]
    },
    {
      "cell_type": "code",
      "execution_count": 6,
      "metadata": {},
      "outputs": [
        {
          "name": "stdout",
          "output_type": "stream",
          "text": [
            "(16754, 6)\n",
            "(4126, 6)\n",
            "(4126, 6)\n"
          ]
        }
      ],
      "source": [
        "# train/test/val split\n",
        "train_df, test_df = train_test_split(sunbird_df, test_size=0.33, random_state=42)\n",
        "test_df, val_df = train_test_split(test_df, test_size=0.5, random_state=42)\n",
        "print(train_df.shape)\n",
        "print(test_df.shape)\n",
        "print(val_df.shape)"
      ]
    },
    {
      "cell_type": "code",
      "execution_count": 7,
      "metadata": {},
      "outputs": [
        {
          "data": {
            "text/plain": [
              "English       Eggplants always grow best under warm conditions.\n",
              "Luganda       Bbiringanya lubeerera  asinga kukulira mu mbee...\n",
              "Runyankole    Entonga buriijo zikurira omu mbeera y'obwire e...\n",
              "Ateso          Epoloi ebirinyanyi ojok apakio nu emwanar akwap.\n",
              "Lugbara       Birinyanya eyi zo kililiru ndeni angu driza ma...\n",
              "Acholi             Bilinyanya pol kare dongo maber ka lyeto tye\n",
              "Name: 0, dtype: object"
            ]
          },
          "execution_count": 7,
          "metadata": {},
          "output_type": "execute_result"
        }
      ],
      "source": [
        "translated_sentence = train_df.loc[0]\n",
        "translated_sentence"
      ]
    },
    {
      "cell_type": "code",
      "execution_count": 8,
      "metadata": {},
      "outputs": [
        {
          "data": {
            "text/plain": [
              "{'English': 'Eggplants always grow best under warm conditions.',\n",
              " 'Luganda': 'Bbiringanya lubeerera  asinga kukulira mu mbeera ya bugumu',\n",
              " 'Runyankole': \"Entonga buriijo zikurira omu mbeera y'obwire erikutagata\",\n",
              " 'Ateso': 'Epoloi ebirinyanyi ojok apakio nu emwanar akwap.',\n",
              " 'Lugbara': 'Birinyanya eyi zo kililiru ndeni angu driza ma alia.',\n",
              " 'Acholi': 'Bilinyanya pol kare dongo maber ka lyeto tye'}"
            ]
          },
          "execution_count": 8,
          "metadata": {},
          "output_type": "execute_result"
        }
      ],
      "source": [
        "translated_sentence = dict(translated_sentence)\n",
        "translated_sentence"
      ]
    },
    {
      "cell_type": "code",
      "execution_count": 9,
      "metadata": {},
      "outputs": [
        {
          "data": {
            "text/plain": [
              "[{'source': 'Bbiringanya lubeerera  asinga kukulira mu mbeera ya bugumu',\n",
              "  'target': 'Eggplants always grow best under warm conditions.',\n",
              "  'source_language': 'Luganda'},\n",
              " {'source': 'Epoloi ebirinyanyi ojok apakio nu emwanar akwap.',\n",
              "  'target': 'Eggplants always grow best under warm conditions.',\n",
              "  'source_language': 'Ateso'},\n",
              " {'source': 'Birinyanya eyi zo kililiru ndeni angu driza ma alia.',\n",
              "  'target': 'Eggplants always grow best under warm conditions.',\n",
              "  'source_language': 'Lugbara'},\n",
              " {'source': \"Entonga buriijo zikurira omu mbeera y'obwire erikutagata\",\n",
              "  'target': 'Eggplants always grow best under warm conditions.',\n",
              "  'source_language': 'Runyankole'},\n",
              " {'source': 'Bilinyanya pol kare dongo maber ka lyeto tye',\n",
              "  'target': 'Eggplants always grow best under warm conditions.',\n",
              "  'source_language': 'Acholi'}]"
            ]
          },
          "execution_count": 9,
          "metadata": {},
          "output_type": "execute_result"
        }
      ],
      "source": [
        "training_examples_from_sentence_mul_en(translated_sentence)"
      ]
    },
    {
      "cell_type": "code",
      "execution_count": 10,
      "metadata": {},
      "outputs": [
        {
          "data": {
            "text/plain": [
              "[{'source': 'Pulezidenti ajja kuyamba ttiimu we zitubidde.',\n",
              "  'target': 'The president will support the club where they are lacking.',\n",
              "  'source_language': 'Luganda'},\n",
              " {'source': 'Ebuni lokapolon akwap aigangakin ekilabu ne ipudakinor agangat.',\n",
              "  'target': 'The president will support the club where they are lacking.',\n",
              "  'source_language': 'Ateso'},\n",
              " {'source': \"Purezidenti ni nga mu atita fe amuti 'da ni sa'wa dria eyini aa'zu afakoko ri ma alea\",\n",
              "  'target': 'The president will support the club where they are lacking.',\n",
              "  'source_language': 'Lugbara'},\n",
              " {'source': \"Omwebembeezi w'eihanga naija kuhwera kiraabu omubintu ebibarikwetaaga.\",\n",
              "  'target': 'The president will support the club where they are lacking.',\n",
              "  'source_language': 'Runyankole'},\n",
              " {'source': 'Ladit lobo obi miyo cente bot dul tuku eni ka ma miti tye iye',\n",
              "  'target': 'The president will support the club where they are lacking.',\n",
              "  'source_language': 'Acholi'}]"
            ]
          },
          "execution_count": 10,
          "metadata": {},
          "output_type": "execute_result"
        }
      ],
      "source": [
        "train = []\n",
        "for i in range(len(train_df)):\n",
        "  train.append(training_examples_from_sentence_mul_en(dict(train_df.iloc[i])))\n",
        "\n",
        "train[0]"
      ]
    },
    {
      "cell_type": "code",
      "execution_count": 11,
      "metadata": {},
      "outputs": [
        {
          "data": {
            "text/plain": [
              "[{'source': \"Yayogerako n'omu ku balimi abaafiirwa ebirime byabwe mu mataba.\",\n",
              "  'target': 'She spoke with one of the farmers who lost their crops in the flood.',\n",
              "  'source_language': 'Luganda'},\n",
              " {'source': 'Abu nges kiner keda ediope kotoma akoriok luapotu kotwakiasi iraanakec kotoma obulone.',\n",
              "  'target': 'She spoke with one of the farmers who lost their crops in the flood.',\n",
              "  'source_language': 'Ateso'},\n",
              " {'source': \"Nze e'yo 'ba ori ezopiri ma azi alu ori ini avipi yi tiza ma aliani be ra.\",\n",
              "  'target': 'She spoke with one of the farmers who lost their crops in the flood.',\n",
              "  'source_language': 'Lugbara'},\n",
              " {'source': \"Akagambaho n'omwe omubaafeerirwr emisiri omu mwijurirano.\",\n",
              "  'target': 'She spoke with one of the farmers who lost their crops in the flood.',\n",
              "  'source_language': 'Runyankole'},\n",
              " {'source': 'En oloko ki acel me kin lupur ma orwenyo kodigi I pong pa pii.',\n",
              "  'target': 'She spoke with one of the farmers who lost their crops in the flood.',\n",
              "  'source_language': 'Acholi'}]"
            ]
          },
          "execution_count": 11,
          "metadata": {},
          "output_type": "execute_result"
        }
      ],
      "source": [
        "test = []\n",
        "for i in range(len(test_df)):\n",
        "  test.append(training_examples_from_sentence_mul_en(dict(test_df.iloc[i])))\n",
        "\n",
        "test[0]"
      ]
    },
    {
      "cell_type": "code",
      "execution_count": 12,
      "metadata": {},
      "outputs": [
        {
          "data": {
            "text/plain": [
              "[{'source': \"Yingini y'emmotoka esinga kukola bulungi nga yeetooloolera ku sipiidi ya wansi.\",\n",
              "  'target': 'Car engines usually are most efficient at low revolutions per minute.',\n",
              "  'source_language': 'Luganda'},\n",
              " {'source': 'Iswamaete duc einjin loka emotoka ejok arai ekeri motimoti.',\n",
              "  'target': 'Car engines usually are most efficient at low revolutions per minute.',\n",
              "  'source_language': 'Ateso'},\n",
              " {'source': \"Mutukari ma inzini yi sawa driasi azi nga kilili ri ka a'dii eyere dakika ma alia ria\",\n",
              "  'target': 'Car engines usually are most efficient at low revolutions per minute.',\n",
              "  'source_language': 'Lugbara'},\n",
              " {'source': 'ingiini ya mootoka nekora kurungi buri kaire',\n",
              "  'target': 'Car engines usually are most efficient at low revolutions per minute.',\n",
              "  'source_language': 'Runyankole'},\n",
              " {'source': 'Injin pa motoka pol kare pe tiyo matek tutwal kacel injin tye kalokke tyen manok I dakika acel.',\n",
              "  'target': 'Car engines usually are most efficient at low revolutions per minute.',\n",
              "  'source_language': 'Acholi'}]"
            ]
          },
          "execution_count": 12,
          "metadata": {},
          "output_type": "execute_result"
        }
      ],
      "source": [
        "val = []\n",
        "for i in range(len(val_df)):\n",
        "  val.append(training_examples_from_sentence_mul_en(dict(val_df.iloc[i])))\n",
        "\n",
        "val[0]"
      ]
    },
    {
      "cell_type": "code",
      "execution_count": 13,
      "metadata": {
        "id": "Em7_j3iW0AaE"
      },
      "outputs": [],
      "source": [
        "train_df_final = pd.DataFrame(list(chain.from_iterable(train)))\n",
        "test_df_final = pd.DataFrame(list(chain.from_iterable(test)))\n",
        "val_df_final = pd.DataFrame(list(chain.from_iterable(val)))"
      ]
    },
    {
      "cell_type": "code",
      "execution_count": 14,
      "metadata": {},
      "outputs": [],
      "source": [
        "source_languages = list(train_df_final[\"source_language\"].unique())\n",
        "language_codes = {\n",
        "    \"English\": \"en\", \"Luganda\": \"lug\", \"Runyankole\": \"nyn\", \n",
        "    \"Acholi\": \"ach\", \"Ateso\": \"teo\", \"Lugbara\": \"lgg\", \"Luo\": \"luo\"\n",
        "}"
      ]
    },
    {
      "cell_type": "code",
      "execution_count": 15,
      "metadata": {},
      "outputs": [],
      "source": [
        "train_df_final[\"source\"].to_csv(f\"train.src\", header=False, index=False, sep=\"\\t\", mode=\"a\")\n",
        "train_df_final[\"target\"].to_csv(f\"train.tgt\", header=False, index=False, sep=\"\\t\", mode=\"a\")"
      ]
    },
    {
      "cell_type": "code",
      "execution_count": 16,
      "metadata": {},
      "outputs": [],
      "source": [
        "for language in source_languages:\n",
        "    test_df_final[test_df_final[\"source_language\"] == language][\"source\"].to_csv(f\"test_{language_codes[language]}.src\", header=False, index=False, sep=\"\\t\", mode=\"a\")\n",
        "    test_df_final[test_df_final[\"source_language\"] == language][\"target\"].to_csv(f\"test_{language_codes[language]}.tgt\", header=False, index=False, sep=\"\\t\", mode=\"a\")\n",
        "    val_df_final[val_df_final[\"source_language\"] == language][\"source\"].to_csv(f\"val_{language_codes[language]}.src\", header=False, index=False, sep=\"\\t\", mode=\"a\")\n",
        "    val_df_final[val_df_final[\"source_language\"] == language][\"target\"].to_csv(f\"val_{language_codes[language]}.tgt\", header=False, index=False, sep=\"\\t\", mode=\"a\")"
      ]
    },
    {
      "cell_type": "markdown",
      "metadata": {},
      "source": [
        "#### Application to the AI4D Luganda dataset"
      ]
    },
    {
      "cell_type": "code",
      "execution_count": 17,
      "metadata": {},
      "outputs": [
        {
          "data": {
            "text/html": [
              "<div>\n",
              "<style scoped>\n",
              "    .dataframe tbody tr th:only-of-type {\n",
              "        vertical-align: middle;\n",
              "    }\n",
              "\n",
              "    .dataframe tbody tr th {\n",
              "        vertical-align: top;\n",
              "    }\n",
              "\n",
              "    .dataframe thead th {\n",
              "        text-align: right;\n",
              "    }\n",
              "</style>\n",
              "<table border=\"1\" class=\"dataframe\">\n",
              "  <thead>\n",
              "    <tr style=\"text-align: right;\">\n",
              "      <th></th>\n",
              "      <th>eng</th>\n",
              "      <th>lug</th>\n",
              "    </tr>\n",
              "  </thead>\n",
              "  <tbody>\n",
              "    <tr>\n",
              "      <th>0</th>\n",
              "      <td>All refugees were requested to register with t...</td>\n",
              "      <td>Abanoonyiboobubudamu bonna baasabiddwa beewand...</td>\n",
              "    </tr>\n",
              "    <tr>\n",
              "      <th>1</th>\n",
              "      <td>They called for a refugees' meeting yesterday.</td>\n",
              "      <td>Baayise olukungaana lw'abanoonyiboobubudamu eg...</td>\n",
              "    </tr>\n",
              "    <tr>\n",
              "      <th>2</th>\n",
              "      <td>Refugees had misunderstandings between   thems...</td>\n",
              "      <td>Abanoonyiboobubudamu b'abadde n'obutakkaanya w...</td>\n",
              "    </tr>\n",
              "    <tr>\n",
              "      <th>3</th>\n",
              "      <td>We were urged to welcome refugees into our com...</td>\n",
              "      <td>Twakubirizibwa okwaniriza abanoonyiboobubudamu...</td>\n",
              "    </tr>\n",
              "    <tr>\n",
              "      <th>4</th>\n",
              "      <td>More development is achieved when we work toge...</td>\n",
              "      <td>Bwe tukolera awamu enkulaakulana enyingi efuni...</td>\n",
              "    </tr>\n",
              "  </tbody>\n",
              "</table>\n",
              "</div>"
            ],
            "text/plain": [
              "                                                 eng  \\\n",
              "0  All refugees were requested to register with t...   \n",
              "1     They called for a refugees' meeting yesterday.   \n",
              "2  Refugees had misunderstandings between   thems...   \n",
              "3  We were urged to welcome refugees into our com...   \n",
              "4  More development is achieved when we work toge...   \n",
              "\n",
              "                                                 lug  \n",
              "0  Abanoonyiboobubudamu bonna baasabiddwa beewand...  \n",
              "1  Baayise olukungaana lw'abanoonyiboobubudamu eg...  \n",
              "2  Abanoonyiboobubudamu b'abadde n'obutakkaanya w...  \n",
              "3  Twakubirizibwa okwaniriza abanoonyiboobubudamu...  \n",
              "4  Bwe tukolera awamu enkulaakulana enyingi efuni...  "
            ]
          },
          "execution_count": 17,
          "metadata": {},
          "output_type": "execute_result"
        }
      ],
      "source": [
        "ai4d_df = pd.read_csv(\"ai4d_luganda.csv\")\n",
        "ai4d_df.head()"
      ]
    },
    {
      "cell_type": "code",
      "execution_count": 18,
      "metadata": {},
      "outputs": [
        {
          "data": {
            "text/plain": [
              "Index(['English', 'Luganda'], dtype='object')"
            ]
          },
          "execution_count": 18,
          "metadata": {},
          "output_type": "execute_result"
        }
      ],
      "source": [
        "ai4d_df.rename(columns={\"eng\": \"English\", \"lug\": \"Luganda\"}, inplace=True)\n",
        "ai4d_df.columns"
      ]
    },
    {
      "cell_type": "code",
      "execution_count": 19,
      "metadata": {},
      "outputs": [
        {
          "data": {
            "text/plain": [
              "[[{'source': 'Abanoonyiboobubudamu bonna baasabiddwa beewandiise ewa ssentebe.',\n",
              "   'target': 'All refugees were requested to register with the chairman.',\n",
              "   'source_language': 'Luganda'}],\n",
              " [{'source': \"Baayise olukungaana lw'abanoonyiboobubudamu eggulo.\",\n",
              "   'target': \"They called for a refugees' meeting yesterday.\",\n",
              "   'source_language': 'Luganda'}],\n",
              " [{'source': \"Abanoonyiboobubudamu b'abadde n'obutakkaanya wakati waabwe.\",\n",
              "   'target': 'Refugees had misunderstandings between   themselves.',\n",
              "   'source_language': 'Luganda'}],\n",
              " [{'source': 'Twakubirizibwa okwaniriza abanoonyiboobubudamu mu bitundu byaffe.',\n",
              "   'target': 'We were urged to welcome refugees into our communities.',\n",
              "   'source_language': 'Luganda'}],\n",
              " [{'source': 'Bwe tukolera awamu enkulaakulana enyingi efunibwa.',\n",
              "   'target': 'More development is achieved when we work together.',\n",
              "   'source_language': 'Luganda'}]]"
            ]
          },
          "execution_count": 19,
          "metadata": {},
          "output_type": "execute_result"
        }
      ],
      "source": [
        "ai4d = []\n",
        "for i in range(len(ai4d_df)):\n",
        "  ai4d.append(training_examples_from_sentence_mul_en(ai4d_df.loc[i]))\n",
        "\n",
        "ai4d[:5]"
      ]
    },
    {
      "cell_type": "code",
      "execution_count": 20,
      "metadata": {},
      "outputs": [
        {
          "data": {
            "text/html": [
              "<div>\n",
              "<style scoped>\n",
              "    .dataframe tbody tr th:only-of-type {\n",
              "        vertical-align: middle;\n",
              "    }\n",
              "\n",
              "    .dataframe tbody tr th {\n",
              "        vertical-align: top;\n",
              "    }\n",
              "\n",
              "    .dataframe thead th {\n",
              "        text-align: right;\n",
              "    }\n",
              "</style>\n",
              "<table border=\"1\" class=\"dataframe\">\n",
              "  <thead>\n",
              "    <tr style=\"text-align: right;\">\n",
              "      <th></th>\n",
              "      <th>source</th>\n",
              "      <th>target</th>\n",
              "      <th>source_language</th>\n",
              "    </tr>\n",
              "  </thead>\n",
              "  <tbody>\n",
              "    <tr>\n",
              "      <th>0</th>\n",
              "      <td>Abanoonyiboobubudamu bonna baasabiddwa beewand...</td>\n",
              "      <td>All refugees were requested to register with t...</td>\n",
              "      <td>Luganda</td>\n",
              "    </tr>\n",
              "    <tr>\n",
              "      <th>1</th>\n",
              "      <td>Baayise olukungaana lw'abanoonyiboobubudamu eg...</td>\n",
              "      <td>They called for a refugees' meeting yesterday.</td>\n",
              "      <td>Luganda</td>\n",
              "    </tr>\n",
              "    <tr>\n",
              "      <th>2</th>\n",
              "      <td>Abanoonyiboobubudamu b'abadde n'obutakkaanya w...</td>\n",
              "      <td>Refugees had misunderstandings between   thems...</td>\n",
              "      <td>Luganda</td>\n",
              "    </tr>\n",
              "    <tr>\n",
              "      <th>3</th>\n",
              "      <td>Twakubirizibwa okwaniriza abanoonyiboobubudamu...</td>\n",
              "      <td>We were urged to welcome refugees into our com...</td>\n",
              "      <td>Luganda</td>\n",
              "    </tr>\n",
              "    <tr>\n",
              "      <th>4</th>\n",
              "      <td>Bwe tukolera awamu enkulaakulana enyingi efuni...</td>\n",
              "      <td>More development is achieved when we work toge...</td>\n",
              "      <td>Luganda</td>\n",
              "    </tr>\n",
              "  </tbody>\n",
              "</table>\n",
              "</div>"
            ],
            "text/plain": [
              "                                              source  \\\n",
              "0  Abanoonyiboobubudamu bonna baasabiddwa beewand...   \n",
              "1  Baayise olukungaana lw'abanoonyiboobubudamu eg...   \n",
              "2  Abanoonyiboobubudamu b'abadde n'obutakkaanya w...   \n",
              "3  Twakubirizibwa okwaniriza abanoonyiboobubudamu...   \n",
              "4  Bwe tukolera awamu enkulaakulana enyingi efuni...   \n",
              "\n",
              "                                              target source_language  \n",
              "0  All refugees were requested to register with t...         Luganda  \n",
              "1     They called for a refugees' meeting yesterday.         Luganda  \n",
              "2  Refugees had misunderstandings between   thems...         Luganda  \n",
              "3  We were urged to welcome refugees into our com...         Luganda  \n",
              "4  More development is achieved when we work toge...         Luganda  "
            ]
          },
          "execution_count": 20,
          "metadata": {},
          "output_type": "execute_result"
        }
      ],
      "source": [
        "ai4d_dataset = pd.DataFrame(list(chain.from_iterable(ai4d)))\n",
        "ai4d_dataset.head()"
      ]
    },
    {
      "cell_type": "code",
      "execution_count": 21,
      "metadata": {},
      "outputs": [],
      "source": [
        "ai4d_dataset[[\"source\"]].to_csv(\"train_ai4d.src\", header=None, index=None, sep=\"\\t\", mode=\"a\")\n",
        "ai4d_dataset[[\"target\"]].to_csv(\"train_ai4d.tgt\", header=None, index=None, sep=\"\\t\", mode=\"a\")"
      ]
    },
    {
      "cell_type": "markdown",
      "metadata": {},
      "source": [
        "#### Application to the Flores 101 dataset"
      ]
    },
    {
      "cell_type": "code",
      "execution_count": 22,
      "metadata": {},
      "outputs": [
        {
          "data": {
            "text/html": [
              "<div>\n",
              "<style scoped>\n",
              "    .dataframe tbody tr th:only-of-type {\n",
              "        vertical-align: middle;\n",
              "    }\n",
              "\n",
              "    .dataframe tbody tr th {\n",
              "        vertical-align: top;\n",
              "    }\n",
              "\n",
              "    .dataframe thead th {\n",
              "        text-align: right;\n",
              "    }\n",
              "</style>\n",
              "<table border=\"1\" class=\"dataframe\">\n",
              "  <thead>\n",
              "    <tr style=\"text-align: right;\">\n",
              "      <th></th>\n",
              "      <th>lug</th>\n",
              "      <th>luo</th>\n",
              "      <th>eng</th>\n",
              "    </tr>\n",
              "  </thead>\n",
              "  <tbody>\n",
              "    <tr>\n",
              "      <th>0</th>\n",
              "      <td>Ku balaza, Banasayansi okuva mu setendekero ya...</td>\n",
              "      <td>Chieng' Wuoktich, josayans mawuok e Mbalariany...</td>\n",
              "      <td>On Monday, scientists from the Stanford Univer...</td>\n",
              "    </tr>\n",
              "    <tr>\n",
              "      <th>1</th>\n",
              "      <td>Abakulira abanoonyereza bagamba nti kino kijak...</td>\n",
              "      <td>Jononro motelo wachoni ma nyalo kelo fweny mac...</td>\n",
              "      <td>Lead researchers say this may bring early dete...</td>\n",
              "    </tr>\n",
              "    <tr>\n",
              "      <th>2</th>\n",
              "      <td>Aba JAS 39C Gripen basasanila mu luguudo ku sa...</td>\n",
              "      <td>Ndegeno mar JAS 39C Gripen ne ogore piny e nda...</td>\n",
              "      <td>The JAS 39C Gripen crashed onto a runway at ar...</td>\n",
              "    </tr>\n",
              "    <tr>\n",
              "      <th>3</th>\n",
              "      <td>Omuvuzi wenyonyi yategerekeka nga omukulembeze...</td>\n",
              "      <td>Jariemb ndegeno noyangi kaka Squadron Dilokrit...</td>\n",
              "      <td>The pilot was identified as Squadron Leader Di...</td>\n",
              "    </tr>\n",
              "    <tr>\n",
              "      <th>4</th>\n",
              "      <td>Amawulire agakuno galaga ekimotoka kyomuliro e...</td>\n",
              "      <td>Ute fwambo ma alwora no golo ripot ni gach neg...</td>\n",
              "      <td>Local media reports an airport fire vehicle ro...</td>\n",
              "    </tr>\n",
              "  </tbody>\n",
              "</table>\n",
              "</div>"
            ],
            "text/plain": [
              "                                                 lug  \\\n",
              "0  Ku balaza, Banasayansi okuva mu setendekero ya...   \n",
              "1  Abakulira abanoonyereza bagamba nti kino kijak...   \n",
              "2  Aba JAS 39C Gripen basasanila mu luguudo ku sa...   \n",
              "3  Omuvuzi wenyonyi yategerekeka nga omukulembeze...   \n",
              "4  Amawulire agakuno galaga ekimotoka kyomuliro e...   \n",
              "\n",
              "                                                 luo  \\\n",
              "0  Chieng' Wuoktich, josayans mawuok e Mbalariany...   \n",
              "1  Jononro motelo wachoni ma nyalo kelo fweny mac...   \n",
              "2  Ndegeno mar JAS 39C Gripen ne ogore piny e nda...   \n",
              "3  Jariemb ndegeno noyangi kaka Squadron Dilokrit...   \n",
              "4  Ute fwambo ma alwora no golo ripot ni gach neg...   \n",
              "\n",
              "                                                 eng  \n",
              "0  On Monday, scientists from the Stanford Univer...  \n",
              "1  Lead researchers say this may bring early dete...  \n",
              "2  The JAS 39C Gripen crashed onto a runway at ar...  \n",
              "3  The pilot was identified as Squadron Leader Di...  \n",
              "4  Local media reports an airport fire vehicle ro...  "
            ]
          },
          "execution_count": 22,
          "metadata": {},
          "output_type": "execute_result"
        }
      ],
      "source": [
        "flores_df = pd.read_csv(\"flores101.csv\")\n",
        "flores_df.head()"
      ]
    },
    {
      "cell_type": "code",
      "execution_count": 23,
      "metadata": {},
      "outputs": [
        {
          "data": {
            "text/plain": [
              "Index(['Luganda', 'Luo', 'English'], dtype='object')"
            ]
          },
          "execution_count": 23,
          "metadata": {},
          "output_type": "execute_result"
        }
      ],
      "source": [
        "flores_df.rename(columns={\"eng\": \"English\", \"lug\": \"Luganda\", \"luo\": \"Luo\"}, inplace=True)\n",
        "flores_df.columns"
      ]
    },
    {
      "cell_type": "code",
      "execution_count": 24,
      "metadata": {},
      "outputs": [
        {
          "data": {
            "text/plain": [
              "[[{'source': \"Ku balaza, Banasayansi okuva mu setendekero ya Stanford ku somero ly'ebyedagala balangirira okuvumbulwa kwa akuuma akakebera nga kasobola okusengeka obutafaali nga kasinzira kukika kyabwo: Akuuma katono akasobola okufulumizibwa ku lupapula akasobola okukolebwa ne Printa enungi ku sente entono nga emu eya US buli kamu.\",\n",
              "   'target': 'On Monday, scientists from the Stanford University School of Medicine announced the invention of a new diagnostic tool that can sort cells by type: a tiny printable chip that can be manufactured using standard inkjet printers for possibly about one U.S. cent each.',\n",
              "   'source_language': 'Luganda'},\n",
              "  {'source': \"Chieng' Wuoktich, josayans mawuok e Mbalariany mar Stanford e Skul mar Thieth nolando ni negifwenyo gimanyien mitiyogo e nono tuoche ma nyalo pogo ng'injo mag del kaluwore kod kitgi: en chip moro matin ma inyalo go chapa gi printa ma bende inyalo losi kitiyo kod printa mapile mag inkjet kwom manyalo romo otonglo achiel mar Amerka e moro ka moro.\",\n",
              "   'target': 'On Monday, scientists from the Stanford University School of Medicine announced the invention of a new diagnostic tool that can sort cells by type: a tiny printable chip that can be manufactured using standard inkjet printers for possibly about one U.S. cent each.',\n",
              "   'source_language': 'Luo'}],\n",
              " [{'source': 'Abakulira abanoonyereza bagamba nti kino kijakuleetawo okukeberwa amangu endwadde nga kookolo, akafuba, sirimu n’omusuja mu balwadde munsi eziteesobola, eyo okuwona endwadde nga kokoolo wamabeere kutono ddala okusinga munsi engaga.',\n",
              "   'target': 'Lead researchers say this may bring early detection of cancer, tuberculosis, HIV and malaria to patients in low-income countries, where the survival rates for illnesses such as breast cancer can be half those of richer countries.',\n",
              "   'source_language': 'Luganda'},\n",
              "  {'source': 'Jononro motelo wachoni ma nyalo kelo fweny machon mag tuoche kaka kansa, tibi, ayaki, gi maleria ne jotuo manie epinje ma yutogi tin, kama kuo mar tuo kaka kansa mar thuno, nyalo bedo nus ne mar pinje man-gi yuto man malo.',\n",
              "   'target': 'Lead researchers say this may bring early detection of cancer, tuberculosis, HIV and malaria to patients in low-income countries, where the survival rates for illnesses such as breast cancer can be half those of richer countries.',\n",
              "   'source_language': 'Luo'}]]"
            ]
          },
          "execution_count": 24,
          "metadata": {},
          "output_type": "execute_result"
        }
      ],
      "source": [
        "flores = []\n",
        "for i in range(len(flores_df)):\n",
        "  flores.append(training_examples_from_sentence_mul_en(flores_df.loc[i]))\n",
        "\n",
        "flores[:2]"
      ]
    },
    {
      "cell_type": "code",
      "execution_count": 25,
      "metadata": {},
      "outputs": [
        {
          "data": {
            "text/html": [
              "<div>\n",
              "<style scoped>\n",
              "    .dataframe tbody tr th:only-of-type {\n",
              "        vertical-align: middle;\n",
              "    }\n",
              "\n",
              "    .dataframe tbody tr th {\n",
              "        vertical-align: top;\n",
              "    }\n",
              "\n",
              "    .dataframe thead th {\n",
              "        text-align: right;\n",
              "    }\n",
              "</style>\n",
              "<table border=\"1\" class=\"dataframe\">\n",
              "  <thead>\n",
              "    <tr style=\"text-align: right;\">\n",
              "      <th></th>\n",
              "      <th>source</th>\n",
              "      <th>target</th>\n",
              "      <th>source_language</th>\n",
              "    </tr>\n",
              "  </thead>\n",
              "  <tbody>\n",
              "    <tr>\n",
              "      <th>0</th>\n",
              "      <td>Ku balaza, Banasayansi okuva mu setendekero ya...</td>\n",
              "      <td>On Monday, scientists from the Stanford Univer...</td>\n",
              "      <td>Luganda</td>\n",
              "    </tr>\n",
              "    <tr>\n",
              "      <th>1</th>\n",
              "      <td>Chieng' Wuoktich, josayans mawuok e Mbalariany...</td>\n",
              "      <td>On Monday, scientists from the Stanford Univer...</td>\n",
              "      <td>Luo</td>\n",
              "    </tr>\n",
              "    <tr>\n",
              "      <th>2</th>\n",
              "      <td>Abakulira abanoonyereza bagamba nti kino kijak...</td>\n",
              "      <td>Lead researchers say this may bring early dete...</td>\n",
              "      <td>Luganda</td>\n",
              "    </tr>\n",
              "    <tr>\n",
              "      <th>3</th>\n",
              "      <td>Jononro motelo wachoni ma nyalo kelo fweny mac...</td>\n",
              "      <td>Lead researchers say this may bring early dete...</td>\n",
              "      <td>Luo</td>\n",
              "    </tr>\n",
              "    <tr>\n",
              "      <th>4</th>\n",
              "      <td>Aba JAS 39C Gripen basasanila mu luguudo ku sa...</td>\n",
              "      <td>The JAS 39C Gripen crashed onto a runway at ar...</td>\n",
              "      <td>Luganda</td>\n",
              "    </tr>\n",
              "    <tr>\n",
              "      <th>5</th>\n",
              "      <td>Ndegeno mar JAS 39C Gripen ne ogore piny e nda...</td>\n",
              "      <td>The JAS 39C Gripen crashed onto a runway at ar...</td>\n",
              "      <td>Luo</td>\n",
              "    </tr>\n",
              "    <tr>\n",
              "      <th>6</th>\n",
              "      <td>Omuvuzi wenyonyi yategerekeka nga omukulembeze...</td>\n",
              "      <td>The pilot was identified as Squadron Leader Di...</td>\n",
              "      <td>Luganda</td>\n",
              "    </tr>\n",
              "    <tr>\n",
              "      <th>7</th>\n",
              "      <td>Jariemb ndegeno noyangi kaka Squadron Dilokrit...</td>\n",
              "      <td>The pilot was identified as Squadron Leader Di...</td>\n",
              "      <td>Luo</td>\n",
              "    </tr>\n",
              "  </tbody>\n",
              "</table>\n",
              "</div>"
            ],
            "text/plain": [
              "                                              source  \\\n",
              "0  Ku balaza, Banasayansi okuva mu setendekero ya...   \n",
              "1  Chieng' Wuoktich, josayans mawuok e Mbalariany...   \n",
              "2  Abakulira abanoonyereza bagamba nti kino kijak...   \n",
              "3  Jononro motelo wachoni ma nyalo kelo fweny mac...   \n",
              "4  Aba JAS 39C Gripen basasanila mu luguudo ku sa...   \n",
              "5  Ndegeno mar JAS 39C Gripen ne ogore piny e nda...   \n",
              "6  Omuvuzi wenyonyi yategerekeka nga omukulembeze...   \n",
              "7  Jariemb ndegeno noyangi kaka Squadron Dilokrit...   \n",
              "\n",
              "                                              target source_language  \n",
              "0  On Monday, scientists from the Stanford Univer...         Luganda  \n",
              "1  On Monday, scientists from the Stanford Univer...             Luo  \n",
              "2  Lead researchers say this may bring early dete...         Luganda  \n",
              "3  Lead researchers say this may bring early dete...             Luo  \n",
              "4  The JAS 39C Gripen crashed onto a runway at ar...         Luganda  \n",
              "5  The JAS 39C Gripen crashed onto a runway at ar...             Luo  \n",
              "6  The pilot was identified as Squadron Leader Di...         Luganda  \n",
              "7  The pilot was identified as Squadron Leader Di...             Luo  "
            ]
          },
          "execution_count": 25,
          "metadata": {},
          "output_type": "execute_result"
        }
      ],
      "source": [
        "flores_dataset = pd.DataFrame(list(chain.from_iterable(flores)))\n",
        "flores_dataset.head(8)"
      ]
    },
    {
      "cell_type": "code",
      "execution_count": 38,
      "metadata": {},
      "outputs": [],
      "source": [
        "flores_languages = list(flores_dataset[\"source_language\"].unique())\n",
        "\n",
        "for language in flores_languages:\n",
        "    flores_dataset[flores_dataset[\"source_language\"] == language][\"source\"].to_csv(f\"train_flores_{language_codes[language]}.src\", header=None, index=None, sep=\"\\t\", mode=\"a\")\n",
        "    flores_dataset[flores_dataset[\"source_language\"] == language][\"target\"].to_csv(f\"train_flores_{language_codes[language]}.tgt\", header=None, index=None, sep=\"\\t\", mode=\"a\")"
      ]
    },
    {
      "cell_type": "markdown",
      "metadata": {},
      "source": [
        "#### Application to the MT560 dataset"
      ]
    },
    {
      "cell_type": "code",
      "execution_count": 39,
      "metadata": {},
      "outputs": [
        {
          "data": {
            "text/html": [
              "<div>\n",
              "<style scoped>\n",
              "    .dataframe tbody tr th:only-of-type {\n",
              "        vertical-align: middle;\n",
              "    }\n",
              "\n",
              "    .dataframe tbody tr th {\n",
              "        vertical-align: top;\n",
              "    }\n",
              "\n",
              "    .dataframe thead th {\n",
              "        text-align: right;\n",
              "    }\n",
              "</style>\n",
              "<table border=\"1\" class=\"dataframe\">\n",
              "  <thead>\n",
              "    <tr style=\"text-align: right;\">\n",
              "      <th></th>\n",
              "      <th>source</th>\n",
              "      <th>english</th>\n",
              "      <th>source_language</th>\n",
              "    </tr>\n",
              "  </thead>\n",
              "  <tbody>\n",
              "    <tr>\n",
              "      <th>0</th>\n",
              "      <td>Beduru gi Kuwe kod Ji Duto</td>\n",
              "      <td>Adam and Eve - Were They Real People?</td>\n",
              "      <td>luo</td>\n",
              "    </tr>\n",
              "    <tr>\n",
              "      <th>1</th>\n",
              "      <td>Hera umo richo mogundho.</td>\n",
              "      <td>In fact, \"love covers a multitude of sins.\"</td>\n",
              "      <td>luo</td>\n",
              "    </tr>\n",
              "    <tr>\n",
              "      <th>2</th>\n",
              "      <td>I mwaka me apar wiye angwen me loc pa kabaka K...</td>\n",
              "      <td>In the fourteenth year of King Hezekiah, Senna...</td>\n",
              "      <td>ach</td>\n",
              "    </tr>\n",
              "    <tr>\n",
              "      <th>3</th>\n",
              "      <td>Muliraanwa wange y'ani?</td>\n",
              "      <td>Who really is my neighbor?</td>\n",
              "      <td>lug</td>\n",
              "    </tr>\n",
              "    <tr>\n",
              "      <th>4</th>\n",
              "      <td>Notego wang'e kuom pokne.</td>\n",
              "      <td>He \"looked intently toward the payment of the ...</td>\n",
              "      <td>luo</td>\n",
              "    </tr>\n",
              "    <tr>\n",
              "      <th>5</th>\n",
              "      <td>Okuva mu Nnimi Zonna</td>\n",
              "      <td>Out of All the Languages</td>\n",
              "      <td>lug</td>\n",
              "    </tr>\n",
              "    <tr>\n",
              "      <th>6</th>\n",
              "      <td>Omiyo wang 'chieng' mare wuok ni jo maricho ko...</td>\n",
              "      <td>He makes his sun rise upon wicked people and g...</td>\n",
              "      <td>luo</td>\n",
              "    </tr>\n",
              "    <tr>\n",
              "      <th>7</th>\n",
              "      <td>Yakuwa Ayagala Obwenkanya</td>\n",
              "      <td>Jehovah Is a Lover of Justice</td>\n",
              "      <td>lug</td>\n",
              "    </tr>\n",
              "    <tr>\n",
              "      <th>8</th>\n",
              "      <td>Yoleka Obwenkanya ng'Okola ku Nsonga Zange</td>\n",
              "      <td>See That I Get Justice</td>\n",
              "      <td>lug</td>\n",
              "    </tr>\n",
              "    <tr>\n",
              "      <th>9</th>\n",
              "      <td>\"Akamwa kange kanaayogera amagezi; n'omutima g...</td>\n",
              "      <td>\"The meditation of my heart will be of things ...</td>\n",
              "      <td>lug</td>\n",
              "    </tr>\n",
              "  </tbody>\n",
              "</table>\n",
              "</div>"
            ],
            "text/plain": [
              "                                              source  \\\n",
              "0                         Beduru gi Kuwe kod Ji Duto   \n",
              "1                           Hera umo richo mogundho.   \n",
              "2  I mwaka me apar wiye angwen me loc pa kabaka K...   \n",
              "3                            Muliraanwa wange y'ani?   \n",
              "4                          Notego wang'e kuom pokne.   \n",
              "5                               Okuva mu Nnimi Zonna   \n",
              "6  Omiyo wang 'chieng' mare wuok ni jo maricho ko...   \n",
              "7                          Yakuwa Ayagala Obwenkanya   \n",
              "8         Yoleka Obwenkanya ng'Okola ku Nsonga Zange   \n",
              "9  \"Akamwa kange kanaayogera amagezi; n'omutima g...   \n",
              "\n",
              "                                             english source_language  \n",
              "0              Adam and Eve - Were They Real People?             luo  \n",
              "1        In fact, \"love covers a multitude of sins.\"             luo  \n",
              "2  In the fourteenth year of King Hezekiah, Senna...             ach  \n",
              "3                         Who really is my neighbor?             lug  \n",
              "4  He \"looked intently toward the payment of the ...             luo  \n",
              "5                           Out of All the Languages             lug  \n",
              "6  He makes his sun rise upon wicked people and g...             luo  \n",
              "7                      Jehovah Is a Lover of Justice             lug  \n",
              "8                             See That I Get Justice             lug  \n",
              "9  \"The meditation of my heart will be of things ...             lug  "
            ]
          },
          "execution_count": 39,
          "metadata": {},
          "output_type": "execute_result"
        }
      ],
      "source": [
        "mt560_df = pd.read_csv(\"mt560.csv\")\n",
        "mt560_df.head(10)"
      ]
    },
    {
      "cell_type": "code",
      "execution_count": 40,
      "metadata": {},
      "outputs": [
        {
          "data": {
            "text/plain": [
              "array(['luo', 'ach', 'lug', 'nyn'], dtype=object)"
            ]
          },
          "execution_count": 40,
          "metadata": {},
          "output_type": "execute_result"
        }
      ],
      "source": [
        "mt560_df[\"source_language\"].unique()"
      ]
    },
    {
      "cell_type": "code",
      "execution_count": 41,
      "metadata": {},
      "outputs": [
        {
          "data": {
            "text/html": [
              "<div>\n",
              "<style scoped>\n",
              "    .dataframe tbody tr th:only-of-type {\n",
              "        vertical-align: middle;\n",
              "    }\n",
              "\n",
              "    .dataframe tbody tr th {\n",
              "        vertical-align: top;\n",
              "    }\n",
              "\n",
              "    .dataframe thead th {\n",
              "        text-align: right;\n",
              "    }\n",
              "</style>\n",
              "<table border=\"1\" class=\"dataframe\">\n",
              "  <thead>\n",
              "    <tr style=\"text-align: right;\">\n",
              "      <th></th>\n",
              "      <th>source</th>\n",
              "      <th>target</th>\n",
              "      <th>source_language</th>\n",
              "    </tr>\n",
              "  </thead>\n",
              "  <tbody>\n",
              "    <tr>\n",
              "      <th>0</th>\n",
              "      <td>Beduru gi Kuwe kod Ji Duto</td>\n",
              "      <td>Adam and Eve - Were They Real People?</td>\n",
              "      <td>luo</td>\n",
              "    </tr>\n",
              "    <tr>\n",
              "      <th>1</th>\n",
              "      <td>Hera umo richo mogundho.</td>\n",
              "      <td>In fact, \"love covers a multitude of sins.\"</td>\n",
              "      <td>luo</td>\n",
              "    </tr>\n",
              "    <tr>\n",
              "      <th>2</th>\n",
              "      <td>I mwaka me apar wiye angwen me loc pa kabaka K...</td>\n",
              "      <td>In the fourteenth year of King Hezekiah, Senna...</td>\n",
              "      <td>ach</td>\n",
              "    </tr>\n",
              "    <tr>\n",
              "      <th>3</th>\n",
              "      <td>Muliraanwa wange y'ani?</td>\n",
              "      <td>Who really is my neighbor?</td>\n",
              "      <td>lug</td>\n",
              "    </tr>\n",
              "    <tr>\n",
              "      <th>4</th>\n",
              "      <td>Notego wang'e kuom pokne.</td>\n",
              "      <td>He \"looked intently toward the payment of the ...</td>\n",
              "      <td>luo</td>\n",
              "    </tr>\n",
              "  </tbody>\n",
              "</table>\n",
              "</div>"
            ],
            "text/plain": [
              "                                              source  \\\n",
              "0                         Beduru gi Kuwe kod Ji Duto   \n",
              "1                           Hera umo richo mogundho.   \n",
              "2  I mwaka me apar wiye angwen me loc pa kabaka K...   \n",
              "3                            Muliraanwa wange y'ani?   \n",
              "4                          Notego wang'e kuom pokne.   \n",
              "\n",
              "                                              target source_language  \n",
              "0              Adam and Eve - Were They Real People?             luo  \n",
              "1        In fact, \"love covers a multitude of sins.\"             luo  \n",
              "2  In the fourteenth year of King Hezekiah, Senna...             ach  \n",
              "3                         Who really is my neighbor?             lug  \n",
              "4  He \"looked intently toward the payment of the ...             luo  "
            ]
          },
          "execution_count": 41,
          "metadata": {},
          "output_type": "execute_result"
        }
      ],
      "source": [
        "mt560_df.rename(columns={\"english\": \"target\"}, inplace=True)\n",
        "mt560_df.head()"
      ]
    },
    {
      "cell_type": "code",
      "execution_count": 44,
      "metadata": {},
      "outputs": [],
      "source": [
        "mt560_languages = list(mt560_df[\"source_language\"].unique())\n",
        "\n",
        "for language in mt560_languages:\n",
        "    mt560_df[mt560_df[\"source_language\"] == language][\"source\"].to_csv(f\"train_mt560_{language}.src\", header=None, index=None, sep=\"\\t\", mode=\"a\")\n",
        "    mt560_df[mt560_df[\"source_language\"] == language][\"target\"].to_csv(f\"train_mt560_{language}.tgt\", header=None, index=None, sep=\"\\t\", mode=\"a\")"
      ]
    },
    {
      "cell_type": "markdown",
      "metadata": {
        "id": "nN25UQKVPT8X"
      },
      "source": [
        "### Create dataset folders and add dataset files\n"
      ]
    },
    {
      "cell_type": "code",
      "execution_count": 45,
      "metadata": {
        "id": "P3sbBBxXPT-x"
      },
      "outputs": [
        {
          "name": "stdout",
          "output_type": "stream",
          "text": [
            "mkdir: multilingual-dataset: File exists\n"
          ]
        }
      ],
      "source": [
        "!mkdir multilingual-dataset\n"
      ]
    },
    {
      "cell_type": "code",
      "execution_count": 46,
      "metadata": {
        "id": "Q9smZG9_PUCW"
      },
      "outputs": [],
      "source": [
        "!mv {*.src,*.tgt} multilingual-dataset"
      ]
    },
    {
      "cell_type": "code",
      "execution_count": 47,
      "metadata": {},
      "outputs": [
        {
          "name": "stdout",
          "output_type": "stream",
          "text": [
            "test_ach.src         train_ai4d.src       train_mt560_nyn.src\n",
            "test_ach.tgt         train_ai4d.tgt       train_mt560_nyn.tgt\n",
            "test_lgg.src         train_flores_lug.src val_ach.src\n",
            "test_lgg.tgt         train_flores_lug.tgt val_ach.tgt\n",
            "test_lug.src         train_flores_luo.src val_lgg.src\n",
            "test_lug.tgt         train_flores_luo.tgt val_lgg.tgt\n",
            "test_nyn.src         train_mt560_ach.src  val_lug.src\n",
            "test_nyn.tgt         train_mt560_ach.tgt  val_lug.tgt\n",
            "test_teo.src         train_mt560_lug.src  val_nyn.src\n",
            "test_teo.tgt         train_mt560_lug.tgt  val_nyn.tgt\n",
            "train.src            train_mt560_luo.src  val_teo.src\n",
            "train.tgt            train_mt560_luo.tgt  val_teo.tgt\n"
          ]
        }
      ],
      "source": [
        "!ls multilingual-dataset"
      ]
    },
    {
      "cell_type": "code",
      "execution_count": 48,
      "metadata": {
        "id": "Rj75Lo6YUH7F"
      },
      "outputs": [],
      "source": [
        "!mkdir v7-dataset/v7.0/supervised/mul-en"
      ]
    },
    {
      "cell_type": "code",
      "execution_count": 49,
      "metadata": {
        "colab": {
          "base_uri": "https://localhost:8080/"
        },
        "id": "m6M0pwk2UH-M",
        "outputId": "22efb854-ee65-425e-8ff9-7d49a93d3776"
      },
      "outputs": [
        {
          "name": "stdout",
          "output_type": "stream",
          "text": [
            "multilingual-dataset/test_ach.src -> v7-dataset/v7.0/supervised/mul-en/test_ach.src\n",
            "multilingual-dataset/test_lgg.src -> v7-dataset/v7.0/supervised/mul-en/test_lgg.src\n",
            "multilingual-dataset/test_lug.src -> v7-dataset/v7.0/supervised/mul-en/test_lug.src\n",
            "multilingual-dataset/test_nyn.src -> v7-dataset/v7.0/supervised/mul-en/test_nyn.src\n",
            "multilingual-dataset/test_teo.src -> v7-dataset/v7.0/supervised/mul-en/test_teo.src\n",
            "multilingual-dataset/train.src -> v7-dataset/v7.0/supervised/mul-en/train.src\n",
            "multilingual-dataset/train_ai4d.src -> v7-dataset/v7.0/supervised/mul-en/train_ai4d.src\n",
            "multilingual-dataset/train_flores_lug.src -> v7-dataset/v7.0/supervised/mul-en/train_flores_lug.src\n",
            "multilingual-dataset/train_flores_luo.src -> v7-dataset/v7.0/supervised/mul-en/train_flores_luo.src\n",
            "multilingual-dataset/train_mt560_ach.src -> v7-dataset/v7.0/supervised/mul-en/train_mt560_ach.src\n",
            "multilingual-dataset/train_mt560_lug.src -> v7-dataset/v7.0/supervised/mul-en/train_mt560_lug.src\n",
            "multilingual-dataset/train_mt560_luo.src -> v7-dataset/v7.0/supervised/mul-en/train_mt560_luo.src\n",
            "multilingual-dataset/train_mt560_nyn.src -> v7-dataset/v7.0/supervised/mul-en/train_mt560_nyn.src\n",
            "multilingual-dataset/val_ach.src -> v7-dataset/v7.0/supervised/mul-en/val_ach.src\n",
            "multilingual-dataset/val_lgg.src -> v7-dataset/v7.0/supervised/mul-en/val_lgg.src\n",
            "multilingual-dataset/val_lug.src -> v7-dataset/v7.0/supervised/mul-en/val_lug.src\n",
            "multilingual-dataset/val_nyn.src -> v7-dataset/v7.0/supervised/mul-en/val_nyn.src\n",
            "multilingual-dataset/val_teo.src -> v7-dataset/v7.0/supervised/mul-en/val_teo.src\n",
            "multilingual-dataset/test_ach.tgt -> v7-dataset/v7.0/supervised/mul-en/test_ach.tgt\n",
            "multilingual-dataset/test_lgg.tgt -> v7-dataset/v7.0/supervised/mul-en/test_lgg.tgt\n",
            "multilingual-dataset/test_lug.tgt -> v7-dataset/v7.0/supervised/mul-en/test_lug.tgt\n",
            "multilingual-dataset/test_nyn.tgt -> v7-dataset/v7.0/supervised/mul-en/test_nyn.tgt\n",
            "multilingual-dataset/test_teo.tgt -> v7-dataset/v7.0/supervised/mul-en/test_teo.tgt\n",
            "multilingual-dataset/train.tgt -> v7-dataset/v7.0/supervised/mul-en/train.tgt\n",
            "multilingual-dataset/train_ai4d.tgt -> v7-dataset/v7.0/supervised/mul-en/train_ai4d.tgt\n",
            "multilingual-dataset/train_flores_lug.tgt -> v7-dataset/v7.0/supervised/mul-en/train_flores_lug.tgt\n",
            "multilingual-dataset/train_flores_luo.tgt -> v7-dataset/v7.0/supervised/mul-en/train_flores_luo.tgt\n",
            "multilingual-dataset/train_mt560_ach.tgt -> v7-dataset/v7.0/supervised/mul-en/train_mt560_ach.tgt\n",
            "multilingual-dataset/train_mt560_lug.tgt -> v7-dataset/v7.0/supervised/mul-en/train_mt560_lug.tgt\n",
            "multilingual-dataset/train_mt560_luo.tgt -> v7-dataset/v7.0/supervised/mul-en/train_mt560_luo.tgt\n",
            "multilingual-dataset/train_mt560_nyn.tgt -> v7-dataset/v7.0/supervised/mul-en/train_mt560_nyn.tgt\n",
            "multilingual-dataset/val_ach.tgt -> v7-dataset/v7.0/supervised/mul-en/val_ach.tgt\n",
            "multilingual-dataset/val_lgg.tgt -> v7-dataset/v7.0/supervised/mul-en/val_lgg.tgt\n",
            "multilingual-dataset/val_lug.tgt -> v7-dataset/v7.0/supervised/mul-en/val_lug.tgt\n",
            "multilingual-dataset/val_nyn.tgt -> v7-dataset/v7.0/supervised/mul-en/val_nyn.tgt\n",
            "multilingual-dataset/val_teo.tgt -> v7-dataset/v7.0/supervised/mul-en/val_teo.tgt\n"
          ]
        }
      ],
      "source": [
        "!mv -v multilingual-dataset/*.{src,tgt} v7-dataset/v7.0/supervised/mul-en"
      ]
    },
    {
      "cell_type": "markdown",
      "metadata": {},
      "source": [
        "### Part 2: Create English to all languages dataset (en-mul)"
      ]
    },
    {
      "cell_type": "code",
      "execution_count": 51,
      "metadata": {
        "id": "VURBQuXtII2c"
      },
      "outputs": [],
      "source": [
        "# Function to generate multiple training examples from one translated sentence: English to other languages\n",
        "def training_examples_from_sentence_en_mul(translated_sentence,\n",
        "                                    source_language = \"English\"):\n",
        "  languages = set(translated_sentence.keys())\n",
        "\n",
        "  if len(languages) < 2:\n",
        "    raise ValueError(\"There must be at least two different languages, \"\n",
        "                     f\"found {languages})\")\n",
        "\n",
        "  training_examples = []\n",
        "  languages.remove(\"English\")\n",
        "  for target_language in languages:\n",
        "      source_text = (f\">>{language_codes[target_language]}<< \"\n",
        "                     f\"{translated_sentence[source_language]}\")\n",
        "      target_text = translated_sentence[target_language]\n",
        "\n",
        "      training_examples.append(\n",
        "                              {\n",
        "                                \"source\": source_text, \n",
        "                                \"target\": target_text,\n",
        "                                \"target_language\": target_language\n",
        "                              })\n",
        "  return training_examples"
      ]
    },
    {
      "cell_type": "code",
      "execution_count": 52,
      "metadata": {
        "colab": {
          "base_uri": "https://localhost:8080/"
        },
        "id": "S0YDiO79LoWV",
        "outputId": "7ff92094-82d5-4829-f750-500df9b1019c"
      },
      "outputs": [
        {
          "data": {
            "text/plain": [
              "[{'source': '>>lug<< Eggplants always grow best under warm conditions.',\n",
              "  'target': 'Bbiringanya lubeerera  asinga kukulira mu mbeera ya bugumu',\n",
              "  'target_language': 'Luganda'},\n",
              " {'source': '>>teo<< Eggplants always grow best under warm conditions.',\n",
              "  'target': 'Epoloi ebirinyanyi ojok apakio nu emwanar akwap.',\n",
              "  'target_language': 'Ateso'},\n",
              " {'source': '>>lgg<< Eggplants always grow best under warm conditions.',\n",
              "  'target': 'Birinyanya eyi zo kililiru ndeni angu driza ma alia.',\n",
              "  'target_language': 'Lugbara'},\n",
              " {'source': '>>nyn<< Eggplants always grow best under warm conditions.',\n",
              "  'target': \"Entonga buriijo zikurira omu mbeera y'obwire erikutagata\",\n",
              "  'target_language': 'Runyankole'},\n",
              " {'source': '>>ach<< Eggplants always grow best under warm conditions.',\n",
              "  'target': 'Bilinyanya pol kare dongo maber ka lyeto tye',\n",
              "  'target_language': 'Acholi'}]"
            ]
          },
          "execution_count": 52,
          "metadata": {},
          "output_type": "execute_result"
        }
      ],
      "source": [
        "training_examples_from_sentence_en_mul(translated_sentence)"
      ]
    },
    {
      "cell_type": "code",
      "execution_count": 53,
      "metadata": {
        "id": "H_H4tV4mHpA_"
      },
      "outputs": [
        {
          "data": {
            "text/plain": [
              "[{'source': '>>lug<< The president will support the club where they are lacking.',\n",
              "  'target': 'Pulezidenti ajja kuyamba ttiimu we zitubidde.',\n",
              "  'target_language': 'Luganda'},\n",
              " {'source': '>>teo<< The president will support the club where they are lacking.',\n",
              "  'target': 'Ebuni lokapolon akwap aigangakin ekilabu ne ipudakinor agangat.',\n",
              "  'target_language': 'Ateso'},\n",
              " {'source': '>>lgg<< The president will support the club where they are lacking.',\n",
              "  'target': \"Purezidenti ni nga mu atita fe amuti 'da ni sa'wa dria eyini aa'zu afakoko ri ma alea\",\n",
              "  'target_language': 'Lugbara'},\n",
              " {'source': '>>nyn<< The president will support the club where they are lacking.',\n",
              "  'target': \"Omwebembeezi w'eihanga naija kuhwera kiraabu omubintu ebibarikwetaaga.\",\n",
              "  'target_language': 'Runyankole'},\n",
              " {'source': '>>ach<< The president will support the club where they are lacking.',\n",
              "  'target': 'Ladit lobo obi miyo cente bot dul tuku eni ka ma miti tye iye',\n",
              "  'target_language': 'Acholi'}]"
            ]
          },
          "execution_count": 53,
          "metadata": {},
          "output_type": "execute_result"
        }
      ],
      "source": [
        "train = []\n",
        "for i in range(len(train_df)):\n",
        "  train.append(training_examples_from_sentence_en_mul(dict(train_df.iloc[i])))\n",
        "\n",
        "train[0]"
      ]
    },
    {
      "cell_type": "code",
      "execution_count": 54,
      "metadata": {
        "colab": {
          "base_uri": "https://localhost:8080/"
        },
        "id": "4pvSsLSDG6iu",
        "outputId": "339c253f-2f6d-4a68-f628-7ac335aa1242"
      },
      "outputs": [
        {
          "data": {
            "text/plain": [
              "[{'source': '>>lug<< She spoke with one of the farmers who lost their crops in the flood.',\n",
              "  'target': \"Yayogerako n'omu ku balimi abaafiirwa ebirime byabwe mu mataba.\",\n",
              "  'target_language': 'Luganda'},\n",
              " {'source': '>>teo<< She spoke with one of the farmers who lost their crops in the flood.',\n",
              "  'target': 'Abu nges kiner keda ediope kotoma akoriok luapotu kotwakiasi iraanakec kotoma obulone.',\n",
              "  'target_language': 'Ateso'},\n",
              " {'source': '>>lgg<< She spoke with one of the farmers who lost their crops in the flood.',\n",
              "  'target': \"Nze e'yo 'ba ori ezopiri ma azi alu ori ini avipi yi tiza ma aliani be ra.\",\n",
              "  'target_language': 'Lugbara'},\n",
              " {'source': '>>nyn<< She spoke with one of the farmers who lost their crops in the flood.',\n",
              "  'target': \"Akagambaho n'omwe omubaafeerirwr emisiri omu mwijurirano.\",\n",
              "  'target_language': 'Runyankole'},\n",
              " {'source': '>>ach<< She spoke with one of the farmers who lost their crops in the flood.',\n",
              "  'target': 'En oloko ki acel me kin lupur ma orwenyo kodigi I pong pa pii.',\n",
              "  'target_language': 'Acholi'}]"
            ]
          },
          "execution_count": 54,
          "metadata": {},
          "output_type": "execute_result"
        }
      ],
      "source": [
        "test = []\n",
        "for i in range(len(test_df)):\n",
        "  test.append(training_examples_from_sentence_en_mul(dict(test_df.iloc[i])))\n",
        "\n",
        "test[0]"
      ]
    },
    {
      "cell_type": "code",
      "execution_count": 55,
      "metadata": {},
      "outputs": [
        {
          "data": {
            "text/plain": [
              "[{'source': '>>lug<< Car engines usually are most efficient at low revolutions per minute.',\n",
              "  'target': \"Yingini y'emmotoka esinga kukola bulungi nga yeetooloolera ku sipiidi ya wansi.\",\n",
              "  'target_language': 'Luganda'},\n",
              " {'source': '>>teo<< Car engines usually are most efficient at low revolutions per minute.',\n",
              "  'target': 'Iswamaete duc einjin loka emotoka ejok arai ekeri motimoti.',\n",
              "  'target_language': 'Ateso'},\n",
              " {'source': '>>lgg<< Car engines usually are most efficient at low revolutions per minute.',\n",
              "  'target': \"Mutukari ma inzini yi sawa driasi azi nga kilili ri ka a'dii eyere dakika ma alia ria\",\n",
              "  'target_language': 'Lugbara'},\n",
              " {'source': '>>nyn<< Car engines usually are most efficient at low revolutions per minute.',\n",
              "  'target': 'ingiini ya mootoka nekora kurungi buri kaire',\n",
              "  'target_language': 'Runyankole'},\n",
              " {'source': '>>ach<< Car engines usually are most efficient at low revolutions per minute.',\n",
              "  'target': 'Injin pa motoka pol kare pe tiyo matek tutwal kacel injin tye kalokke tyen manok I dakika acel.',\n",
              "  'target_language': 'Acholi'}]"
            ]
          },
          "execution_count": 55,
          "metadata": {},
          "output_type": "execute_result"
        }
      ],
      "source": [
        "val = []\n",
        "for i in range(len(val_df)):\n",
        "  val.append(training_examples_from_sentence_en_mul(dict(val_df.iloc[i])))\n",
        "\n",
        "val[0]"
      ]
    },
    {
      "cell_type": "code",
      "execution_count": 56,
      "metadata": {},
      "outputs": [],
      "source": [
        "train_df_final_2 = pd.DataFrame(list(chain.from_iterable(train)))\n",
        "test_df_final_2 = pd.DataFrame(list(chain.from_iterable(test)))\n",
        "val_df_final_2 = pd.DataFrame(list(chain.from_iterable(val)))"
      ]
    },
    {
      "cell_type": "code",
      "execution_count": 57,
      "metadata": {},
      "outputs": [
        {
          "data": {
            "text/plain": [
              "['Luganda', 'Ateso', 'Lugbara', 'Runyankole', 'Acholi']"
            ]
          },
          "execution_count": 57,
          "metadata": {},
          "output_type": "execute_result"
        }
      ],
      "source": [
        "target_languages = list(train_df_final[\"source_language\"].unique())\n",
        "target_languages"
      ]
    },
    {
      "cell_type": "code",
      "execution_count": 58,
      "metadata": {},
      "outputs": [],
      "source": [
        "train_df_final_2[\"source\"].to_csv(f\"train.src\", header=False, index=False, sep=\"\\t\", mode=\"a\")\n",
        "train_df_final_2[\"target\"].to_csv(f\"train.tgt\", header=False, index=False, sep=\"\\t\", mode=\"a\")"
      ]
    },
    {
      "cell_type": "code",
      "execution_count": 59,
      "metadata": {},
      "outputs": [],
      "source": [
        "for language in source_languages:\n",
        "    test_df_final_2[test_df_final_2[\"target_language\"] == language][\"source\"].to_csv(f\"test_{language_codes[language]}.src\", header=False, index=False, sep=\"\\t\", mode=\"a\")\n",
        "    test_df_final_2[test_df_final_2[\"target_language\"] == language][\"target\"].to_csv(f\"test_{language_codes[language]}.tgt\", header=False, index=False, sep=\"\\t\", mode=\"a\")\n",
        "    val_df_final_2[val_df_final_2[\"target_language\"] == language][\"source\"].to_csv(f\"val_{language_codes[language]}.src\", header=False, index=False, sep=\"\\t\", mode=\"a\")\n",
        "    val_df_final_2[val_df_final_2[\"target_language\"] == language][\"target\"].to_csv(f\"val_{language_codes[language]}.tgt\", header=False, index=False, sep=\"\\t\", mode=\"a\")"
      ]
    },
    {
      "cell_type": "markdown",
      "metadata": {},
      "source": [
        "### AI4D"
      ]
    },
    {
      "cell_type": "code",
      "execution_count": 60,
      "metadata": {},
      "outputs": [
        {
          "data": {
            "text/plain": [
              "[[{'source': '>>lug<< All refugees were requested to register with the chairman.',\n",
              "   'target': 'Abanoonyiboobubudamu bonna baasabiddwa beewandiise ewa ssentebe.',\n",
              "   'target_language': 'Luganda'}],\n",
              " [{'source': \">>lug<< They called for a refugees' meeting yesterday.\",\n",
              "   'target': \"Baayise olukungaana lw'abanoonyiboobubudamu eggulo.\",\n",
              "   'target_language': 'Luganda'}],\n",
              " [{'source': '>>lug<< Refugees had misunderstandings between   themselves.',\n",
              "   'target': \"Abanoonyiboobubudamu b'abadde n'obutakkaanya wakati waabwe.\",\n",
              "   'target_language': 'Luganda'}],\n",
              " [{'source': '>>lug<< We were urged to welcome refugees into our communities.',\n",
              "   'target': 'Twakubirizibwa okwaniriza abanoonyiboobubudamu mu bitundu byaffe.',\n",
              "   'target_language': 'Luganda'}],\n",
              " [{'source': '>>lug<< More development is achieved when we work together.',\n",
              "   'target': 'Bwe tukolera awamu enkulaakulana enyingi efunibwa.',\n",
              "   'target_language': 'Luganda'}]]"
            ]
          },
          "execution_count": 60,
          "metadata": {},
          "output_type": "execute_result"
        }
      ],
      "source": [
        "ai4d = []\n",
        "for i in range(len(ai4d_df)):\n",
        "  ai4d.append(training_examples_from_sentence_en_mul(ai4d_df.loc[i]))\n",
        "\n",
        "ai4d[:5]"
      ]
    },
    {
      "cell_type": "code",
      "execution_count": 61,
      "metadata": {},
      "outputs": [
        {
          "data": {
            "text/html": [
              "<div>\n",
              "<style scoped>\n",
              "    .dataframe tbody tr th:only-of-type {\n",
              "        vertical-align: middle;\n",
              "    }\n",
              "\n",
              "    .dataframe tbody tr th {\n",
              "        vertical-align: top;\n",
              "    }\n",
              "\n",
              "    .dataframe thead th {\n",
              "        text-align: right;\n",
              "    }\n",
              "</style>\n",
              "<table border=\"1\" class=\"dataframe\">\n",
              "  <thead>\n",
              "    <tr style=\"text-align: right;\">\n",
              "      <th></th>\n",
              "      <th>source</th>\n",
              "      <th>target</th>\n",
              "      <th>target_language</th>\n",
              "    </tr>\n",
              "  </thead>\n",
              "  <tbody>\n",
              "    <tr>\n",
              "      <th>0</th>\n",
              "      <td>&gt;&gt;lug&lt;&lt; All refugees were requested to registe...</td>\n",
              "      <td>Abanoonyiboobubudamu bonna baasabiddwa beewand...</td>\n",
              "      <td>Luganda</td>\n",
              "    </tr>\n",
              "    <tr>\n",
              "      <th>1</th>\n",
              "      <td>&gt;&gt;lug&lt;&lt; They called for a refugees' meeting ye...</td>\n",
              "      <td>Baayise olukungaana lw'abanoonyiboobubudamu eg...</td>\n",
              "      <td>Luganda</td>\n",
              "    </tr>\n",
              "    <tr>\n",
              "      <th>2</th>\n",
              "      <td>&gt;&gt;lug&lt;&lt; Refugees had misunderstandings between...</td>\n",
              "      <td>Abanoonyiboobubudamu b'abadde n'obutakkaanya w...</td>\n",
              "      <td>Luganda</td>\n",
              "    </tr>\n",
              "    <tr>\n",
              "      <th>3</th>\n",
              "      <td>&gt;&gt;lug&lt;&lt; We were urged to welcome refugees into...</td>\n",
              "      <td>Twakubirizibwa okwaniriza abanoonyiboobubudamu...</td>\n",
              "      <td>Luganda</td>\n",
              "    </tr>\n",
              "    <tr>\n",
              "      <th>4</th>\n",
              "      <td>&gt;&gt;lug&lt;&lt; More development is achieved when we w...</td>\n",
              "      <td>Bwe tukolera awamu enkulaakulana enyingi efuni...</td>\n",
              "      <td>Luganda</td>\n",
              "    </tr>\n",
              "  </tbody>\n",
              "</table>\n",
              "</div>"
            ],
            "text/plain": [
              "                                              source  \\\n",
              "0  >>lug<< All refugees were requested to registe...   \n",
              "1  >>lug<< They called for a refugees' meeting ye...   \n",
              "2  >>lug<< Refugees had misunderstandings between...   \n",
              "3  >>lug<< We were urged to welcome refugees into...   \n",
              "4  >>lug<< More development is achieved when we w...   \n",
              "\n",
              "                                              target target_language  \n",
              "0  Abanoonyiboobubudamu bonna baasabiddwa beewand...         Luganda  \n",
              "1  Baayise olukungaana lw'abanoonyiboobubudamu eg...         Luganda  \n",
              "2  Abanoonyiboobubudamu b'abadde n'obutakkaanya w...         Luganda  \n",
              "3  Twakubirizibwa okwaniriza abanoonyiboobubudamu...         Luganda  \n",
              "4  Bwe tukolera awamu enkulaakulana enyingi efuni...         Luganda  "
            ]
          },
          "execution_count": 61,
          "metadata": {},
          "output_type": "execute_result"
        }
      ],
      "source": [
        "ai4d_dataset = pd.DataFrame(list(chain.from_iterable(ai4d)))\n",
        "ai4d_dataset.head()"
      ]
    },
    {
      "cell_type": "code",
      "execution_count": 62,
      "metadata": {},
      "outputs": [],
      "source": [
        "ai4d_dataset[[\"source\"]].to_csv(\"train_ai4d.src\", header=None, index=None, sep=\"\\t\", mode=\"a\")\n",
        "ai4d_dataset[[\"target\"]].to_csv(\"train_ai4d.tgt\", header=None, index=None, sep=\"\\t\", mode=\"a\")"
      ]
    },
    {
      "cell_type": "markdown",
      "metadata": {},
      "source": [
        "### Flores 101"
      ]
    },
    {
      "cell_type": "code",
      "execution_count": 63,
      "metadata": {},
      "outputs": [
        {
          "data": {
            "text/plain": [
              "[[{'source': '>>lug<< On Monday, scientists from the Stanford University School of Medicine announced the invention of a new diagnostic tool that can sort cells by type: a tiny printable chip that can be manufactured using standard inkjet printers for possibly about one U.S. cent each.',\n",
              "   'target': \"Ku balaza, Banasayansi okuva mu setendekero ya Stanford ku somero ly'ebyedagala balangirira okuvumbulwa kwa akuuma akakebera nga kasobola okusengeka obutafaali nga kasinzira kukika kyabwo: Akuuma katono akasobola okufulumizibwa ku lupapula akasobola okukolebwa ne Printa enungi ku sente entono nga emu eya US buli kamu.\",\n",
              "   'target_language': 'Luganda'},\n",
              "  {'source': '>>luo<< On Monday, scientists from the Stanford University School of Medicine announced the invention of a new diagnostic tool that can sort cells by type: a tiny printable chip that can be manufactured using standard inkjet printers for possibly about one U.S. cent each.',\n",
              "   'target': \"Chieng' Wuoktich, josayans mawuok e Mbalariany mar Stanford e Skul mar Thieth nolando ni negifwenyo gimanyien mitiyogo e nono tuoche ma nyalo pogo ng'injo mag del kaluwore kod kitgi: en chip moro matin ma inyalo go chapa gi printa ma bende inyalo losi kitiyo kod printa mapile mag inkjet kwom manyalo romo otonglo achiel mar Amerka e moro ka moro.\",\n",
              "   'target_language': 'Luo'}],\n",
              " [{'source': '>>lug<< Lead researchers say this may bring early detection of cancer, tuberculosis, HIV and malaria to patients in low-income countries, where the survival rates for illnesses such as breast cancer can be half those of richer countries.',\n",
              "   'target': 'Abakulira abanoonyereza bagamba nti kino kijakuleetawo okukeberwa amangu endwadde nga kookolo, akafuba, sirimu n’omusuja mu balwadde munsi eziteesobola, eyo okuwona endwadde nga kokoolo wamabeere kutono ddala okusinga munsi engaga.',\n",
              "   'target_language': 'Luganda'},\n",
              "  {'source': '>>luo<< Lead researchers say this may bring early detection of cancer, tuberculosis, HIV and malaria to patients in low-income countries, where the survival rates for illnesses such as breast cancer can be half those of richer countries.',\n",
              "   'target': 'Jononro motelo wachoni ma nyalo kelo fweny machon mag tuoche kaka kansa, tibi, ayaki, gi maleria ne jotuo manie epinje ma yutogi tin, kama kuo mar tuo kaka kansa mar thuno, nyalo bedo nus ne mar pinje man-gi yuto man malo.',\n",
              "   'target_language': 'Luo'}]]"
            ]
          },
          "execution_count": 63,
          "metadata": {},
          "output_type": "execute_result"
        }
      ],
      "source": [
        "flores = []\n",
        "for i in range(len(flores_df)):\n",
        "  flores.append(training_examples_from_sentence_en_mul(flores_df.loc[i]))\n",
        "\n",
        "flores[:2]"
      ]
    },
    {
      "cell_type": "code",
      "execution_count": 64,
      "metadata": {},
      "outputs": [
        {
          "data": {
            "text/html": [
              "<div>\n",
              "<style scoped>\n",
              "    .dataframe tbody tr th:only-of-type {\n",
              "        vertical-align: middle;\n",
              "    }\n",
              "\n",
              "    .dataframe tbody tr th {\n",
              "        vertical-align: top;\n",
              "    }\n",
              "\n",
              "    .dataframe thead th {\n",
              "        text-align: right;\n",
              "    }\n",
              "</style>\n",
              "<table border=\"1\" class=\"dataframe\">\n",
              "  <thead>\n",
              "    <tr style=\"text-align: right;\">\n",
              "      <th></th>\n",
              "      <th>source</th>\n",
              "      <th>target</th>\n",
              "      <th>target_language</th>\n",
              "    </tr>\n",
              "  </thead>\n",
              "  <tbody>\n",
              "    <tr>\n",
              "      <th>0</th>\n",
              "      <td>&gt;&gt;lug&lt;&lt; On Monday, scientists from the Stanfor...</td>\n",
              "      <td>Ku balaza, Banasayansi okuva mu setendekero ya...</td>\n",
              "      <td>Luganda</td>\n",
              "    </tr>\n",
              "    <tr>\n",
              "      <th>1</th>\n",
              "      <td>&gt;&gt;luo&lt;&lt; On Monday, scientists from the Stanfor...</td>\n",
              "      <td>Chieng' Wuoktich, josayans mawuok e Mbalariany...</td>\n",
              "      <td>Luo</td>\n",
              "    </tr>\n",
              "    <tr>\n",
              "      <th>2</th>\n",
              "      <td>&gt;&gt;lug&lt;&lt; Lead researchers say this may bring ea...</td>\n",
              "      <td>Abakulira abanoonyereza bagamba nti kino kijak...</td>\n",
              "      <td>Luganda</td>\n",
              "    </tr>\n",
              "    <tr>\n",
              "      <th>3</th>\n",
              "      <td>&gt;&gt;luo&lt;&lt; Lead researchers say this may bring ea...</td>\n",
              "      <td>Jononro motelo wachoni ma nyalo kelo fweny mac...</td>\n",
              "      <td>Luo</td>\n",
              "    </tr>\n",
              "    <tr>\n",
              "      <th>4</th>\n",
              "      <td>&gt;&gt;lug&lt;&lt; The JAS 39C Gripen crashed onto a runw...</td>\n",
              "      <td>Aba JAS 39C Gripen basasanila mu luguudo ku sa...</td>\n",
              "      <td>Luganda</td>\n",
              "    </tr>\n",
              "    <tr>\n",
              "      <th>5</th>\n",
              "      <td>&gt;&gt;luo&lt;&lt; The JAS 39C Gripen crashed onto a runw...</td>\n",
              "      <td>Ndegeno mar JAS 39C Gripen ne ogore piny e nda...</td>\n",
              "      <td>Luo</td>\n",
              "    </tr>\n",
              "    <tr>\n",
              "      <th>6</th>\n",
              "      <td>&gt;&gt;lug&lt;&lt; The pilot was identified as Squadron L...</td>\n",
              "      <td>Omuvuzi wenyonyi yategerekeka nga omukulembeze...</td>\n",
              "      <td>Luganda</td>\n",
              "    </tr>\n",
              "    <tr>\n",
              "      <th>7</th>\n",
              "      <td>&gt;&gt;luo&lt;&lt; The pilot was identified as Squadron L...</td>\n",
              "      <td>Jariemb ndegeno noyangi kaka Squadron Dilokrit...</td>\n",
              "      <td>Luo</td>\n",
              "    </tr>\n",
              "  </tbody>\n",
              "</table>\n",
              "</div>"
            ],
            "text/plain": [
              "                                              source  \\\n",
              "0  >>lug<< On Monday, scientists from the Stanfor...   \n",
              "1  >>luo<< On Monday, scientists from the Stanfor...   \n",
              "2  >>lug<< Lead researchers say this may bring ea...   \n",
              "3  >>luo<< Lead researchers say this may bring ea...   \n",
              "4  >>lug<< The JAS 39C Gripen crashed onto a runw...   \n",
              "5  >>luo<< The JAS 39C Gripen crashed onto a runw...   \n",
              "6  >>lug<< The pilot was identified as Squadron L...   \n",
              "7  >>luo<< The pilot was identified as Squadron L...   \n",
              "\n",
              "                                              target target_language  \n",
              "0  Ku balaza, Banasayansi okuva mu setendekero ya...         Luganda  \n",
              "1  Chieng' Wuoktich, josayans mawuok e Mbalariany...             Luo  \n",
              "2  Abakulira abanoonyereza bagamba nti kino kijak...         Luganda  \n",
              "3  Jononro motelo wachoni ma nyalo kelo fweny mac...             Luo  \n",
              "4  Aba JAS 39C Gripen basasanila mu luguudo ku sa...         Luganda  \n",
              "5  Ndegeno mar JAS 39C Gripen ne ogore piny e nda...             Luo  \n",
              "6  Omuvuzi wenyonyi yategerekeka nga omukulembeze...         Luganda  \n",
              "7  Jariemb ndegeno noyangi kaka Squadron Dilokrit...             Luo  "
            ]
          },
          "execution_count": 64,
          "metadata": {},
          "output_type": "execute_result"
        }
      ],
      "source": [
        "flores_dataset = pd.DataFrame(list(chain.from_iterable(flores)))\n",
        "flores_dataset.head(8)"
      ]
    },
    {
      "cell_type": "code",
      "execution_count": 66,
      "metadata": {},
      "outputs": [],
      "source": [
        "for language in flores_languages:\n",
        "    flores_dataset[flores_dataset[\"target_language\"] == language][\"source\"].to_csv(f\"train_flores_{language_codes[language]}.src\", header=None, index=None, sep=\"\\t\", mode=\"a\")\n",
        "    flores_dataset[flores_dataset[\"target_language\"] == language][\"target\"].to_csv(f\"train_flores_{language_codes[language]}.tgt\", header=None, index=None, sep=\"\\t\", mode=\"a\")\n"
      ]
    },
    {
      "cell_type": "markdown",
      "metadata": {},
      "source": [
        "### MT560"
      ]
    },
    {
      "cell_type": "code",
      "execution_count": 67,
      "metadata": {},
      "outputs": [
        {
          "data": {
            "text/html": [
              "<div>\n",
              "<style scoped>\n",
              "    .dataframe tbody tr th:only-of-type {\n",
              "        vertical-align: middle;\n",
              "    }\n",
              "\n",
              "    .dataframe tbody tr th {\n",
              "        vertical-align: top;\n",
              "    }\n",
              "\n",
              "    .dataframe thead th {\n",
              "        text-align: right;\n",
              "    }\n",
              "</style>\n",
              "<table border=\"1\" class=\"dataframe\">\n",
              "  <thead>\n",
              "    <tr style=\"text-align: right;\">\n",
              "      <th></th>\n",
              "      <th>source</th>\n",
              "      <th>target</th>\n",
              "      <th>source_language</th>\n",
              "    </tr>\n",
              "  </thead>\n",
              "  <tbody>\n",
              "    <tr>\n",
              "      <th>0</th>\n",
              "      <td>Beduru gi Kuwe kod Ji Duto</td>\n",
              "      <td>Adam and Eve - Were They Real People?</td>\n",
              "      <td>luo</td>\n",
              "    </tr>\n",
              "    <tr>\n",
              "      <th>1</th>\n",
              "      <td>Hera umo richo mogundho.</td>\n",
              "      <td>In fact, \"love covers a multitude of sins.\"</td>\n",
              "      <td>luo</td>\n",
              "    </tr>\n",
              "    <tr>\n",
              "      <th>2</th>\n",
              "      <td>I mwaka me apar wiye angwen me loc pa kabaka K...</td>\n",
              "      <td>In the fourteenth year of King Hezekiah, Senna...</td>\n",
              "      <td>ach</td>\n",
              "    </tr>\n",
              "    <tr>\n",
              "      <th>3</th>\n",
              "      <td>Muliraanwa wange y'ani?</td>\n",
              "      <td>Who really is my neighbor?</td>\n",
              "      <td>lug</td>\n",
              "    </tr>\n",
              "    <tr>\n",
              "      <th>4</th>\n",
              "      <td>Notego wang'e kuom pokne.</td>\n",
              "      <td>He \"looked intently toward the payment of the ...</td>\n",
              "      <td>luo</td>\n",
              "    </tr>\n",
              "  </tbody>\n",
              "</table>\n",
              "</div>"
            ],
            "text/plain": [
              "                                              source  \\\n",
              "0                         Beduru gi Kuwe kod Ji Duto   \n",
              "1                           Hera umo richo mogundho.   \n",
              "2  I mwaka me apar wiye angwen me loc pa kabaka K...   \n",
              "3                            Muliraanwa wange y'ani?   \n",
              "4                          Notego wang'e kuom pokne.   \n",
              "\n",
              "                                              target source_language  \n",
              "0              Adam and Eve - Were They Real People?             luo  \n",
              "1        In fact, \"love covers a multitude of sins.\"             luo  \n",
              "2  In the fourteenth year of King Hezekiah, Senna...             ach  \n",
              "3                         Who really is my neighbor?             lug  \n",
              "4  He \"looked intently toward the payment of the ...             luo  "
            ]
          },
          "execution_count": 67,
          "metadata": {},
          "output_type": "execute_result"
        }
      ],
      "source": [
        "mt560_df.head()"
      ]
    },
    {
      "cell_type": "code",
      "execution_count": 68,
      "metadata": {},
      "outputs": [
        {
          "data": {
            "text/html": [
              "<div>\n",
              "<style scoped>\n",
              "    .dataframe tbody tr th:only-of-type {\n",
              "        vertical-align: middle;\n",
              "    }\n",
              "\n",
              "    .dataframe tbody tr th {\n",
              "        vertical-align: top;\n",
              "    }\n",
              "\n",
              "    .dataframe thead th {\n",
              "        text-align: right;\n",
              "    }\n",
              "</style>\n",
              "<table border=\"1\" class=\"dataframe\">\n",
              "  <thead>\n",
              "    <tr style=\"text-align: right;\">\n",
              "      <th></th>\n",
              "      <th>target</th>\n",
              "      <th>source</th>\n",
              "      <th>target_language</th>\n",
              "    </tr>\n",
              "  </thead>\n",
              "  <tbody>\n",
              "    <tr>\n",
              "      <th>0</th>\n",
              "      <td>Beduru gi Kuwe kod Ji Duto</td>\n",
              "      <td>Adam and Eve - Were They Real People?</td>\n",
              "      <td>luo</td>\n",
              "    </tr>\n",
              "    <tr>\n",
              "      <th>1</th>\n",
              "      <td>Hera umo richo mogundho.</td>\n",
              "      <td>In fact, \"love covers a multitude of sins.\"</td>\n",
              "      <td>luo</td>\n",
              "    </tr>\n",
              "    <tr>\n",
              "      <th>2</th>\n",
              "      <td>I mwaka me apar wiye angwen me loc pa kabaka K...</td>\n",
              "      <td>In the fourteenth year of King Hezekiah, Senna...</td>\n",
              "      <td>ach</td>\n",
              "    </tr>\n",
              "    <tr>\n",
              "      <th>3</th>\n",
              "      <td>Muliraanwa wange y'ani?</td>\n",
              "      <td>Who really is my neighbor?</td>\n",
              "      <td>lug</td>\n",
              "    </tr>\n",
              "    <tr>\n",
              "      <th>4</th>\n",
              "      <td>Notego wang'e kuom pokne.</td>\n",
              "      <td>He \"looked intently toward the payment of the ...</td>\n",
              "      <td>luo</td>\n",
              "    </tr>\n",
              "  </tbody>\n",
              "</table>\n",
              "</div>"
            ],
            "text/plain": [
              "                                              target  \\\n",
              "0                         Beduru gi Kuwe kod Ji Duto   \n",
              "1                           Hera umo richo mogundho.   \n",
              "2  I mwaka me apar wiye angwen me loc pa kabaka K...   \n",
              "3                            Muliraanwa wange y'ani?   \n",
              "4                          Notego wang'e kuom pokne.   \n",
              "\n",
              "                                              source target_language  \n",
              "0              Adam and Eve - Were They Real People?             luo  \n",
              "1        In fact, \"love covers a multitude of sins.\"             luo  \n",
              "2  In the fourteenth year of King Hezekiah, Senna...             ach  \n",
              "3                         Who really is my neighbor?             lug  \n",
              "4  He \"looked intently toward the payment of the ...             luo  "
            ]
          },
          "execution_count": 68,
          "metadata": {},
          "output_type": "execute_result"
        }
      ],
      "source": [
        "# Rename mt560 columns to fit the en-mul use-case\n",
        "mt560_df.rename(columns={\"source\": \"target\", \"target\": \"source\", \"source_language\": \"target_language\"}, inplace=True)\n",
        "mt560_df.head()"
      ]
    },
    {
      "cell_type": "code",
      "execution_count": 69,
      "metadata": {},
      "outputs": [],
      "source": [
        "# Separate function for MT560 dataset\n",
        "def training_examples_from_mt560_en_mul(row):\n",
        "    source = f\">>{row['target_language']}<< {row['source']}\"\n",
        "    return source"
      ]
    },
    {
      "cell_type": "code",
      "execution_count": 70,
      "metadata": {},
      "outputs": [],
      "source": [
        "mt560_df[\"source\"] = mt560_df.apply(training_examples_from_mt560_en_mul, axis=1)"
      ]
    },
    {
      "cell_type": "code",
      "execution_count": 71,
      "metadata": {},
      "outputs": [
        {
          "data": {
            "text/html": [
              "<div>\n",
              "<style scoped>\n",
              "    .dataframe tbody tr th:only-of-type {\n",
              "        vertical-align: middle;\n",
              "    }\n",
              "\n",
              "    .dataframe tbody tr th {\n",
              "        vertical-align: top;\n",
              "    }\n",
              "\n",
              "    .dataframe thead th {\n",
              "        text-align: right;\n",
              "    }\n",
              "</style>\n",
              "<table border=\"1\" class=\"dataframe\">\n",
              "  <thead>\n",
              "    <tr style=\"text-align: right;\">\n",
              "      <th></th>\n",
              "      <th>target</th>\n",
              "      <th>source</th>\n",
              "      <th>target_language</th>\n",
              "    </tr>\n",
              "  </thead>\n",
              "  <tbody>\n",
              "    <tr>\n",
              "      <th>0</th>\n",
              "      <td>Beduru gi Kuwe kod Ji Duto</td>\n",
              "      <td>&gt;&gt;luo&lt;&lt; Adam and Eve - Were They Real People?</td>\n",
              "      <td>luo</td>\n",
              "    </tr>\n",
              "    <tr>\n",
              "      <th>1</th>\n",
              "      <td>Hera umo richo mogundho.</td>\n",
              "      <td>&gt;&gt;luo&lt;&lt; In fact, \"love covers a multitude of s...</td>\n",
              "      <td>luo</td>\n",
              "    </tr>\n",
              "    <tr>\n",
              "      <th>2</th>\n",
              "      <td>I mwaka me apar wiye angwen me loc pa kabaka K...</td>\n",
              "      <td>&gt;&gt;ach&lt;&lt; In the fourteenth year of King Hezekia...</td>\n",
              "      <td>ach</td>\n",
              "    </tr>\n",
              "    <tr>\n",
              "      <th>3</th>\n",
              "      <td>Muliraanwa wange y'ani?</td>\n",
              "      <td>&gt;&gt;lug&lt;&lt; Who really is my neighbor?</td>\n",
              "      <td>lug</td>\n",
              "    </tr>\n",
              "    <tr>\n",
              "      <th>4</th>\n",
              "      <td>Notego wang'e kuom pokne.</td>\n",
              "      <td>&gt;&gt;luo&lt;&lt; He \"looked intently toward the payment...</td>\n",
              "      <td>luo</td>\n",
              "    </tr>\n",
              "    <tr>\n",
              "      <th>5</th>\n",
              "      <td>Okuva mu Nnimi Zonna</td>\n",
              "      <td>&gt;&gt;lug&lt;&lt; Out of All the Languages</td>\n",
              "      <td>lug</td>\n",
              "    </tr>\n",
              "    <tr>\n",
              "      <th>6</th>\n",
              "      <td>Omiyo wang 'chieng' mare wuok ni jo maricho ko...</td>\n",
              "      <td>&gt;&gt;luo&lt;&lt; He makes his sun rise upon wicked peop...</td>\n",
              "      <td>luo</td>\n",
              "    </tr>\n",
              "    <tr>\n",
              "      <th>7</th>\n",
              "      <td>Yakuwa Ayagala Obwenkanya</td>\n",
              "      <td>&gt;&gt;lug&lt;&lt; Jehovah Is a Lover of Justice</td>\n",
              "      <td>lug</td>\n",
              "    </tr>\n",
              "    <tr>\n",
              "      <th>8</th>\n",
              "      <td>Yoleka Obwenkanya ng'Okola ku Nsonga Zange</td>\n",
              "      <td>&gt;&gt;lug&lt;&lt; See That I Get Justice</td>\n",
              "      <td>lug</td>\n",
              "    </tr>\n",
              "    <tr>\n",
              "      <th>9</th>\n",
              "      <td>\"Akamwa kange kanaayogera amagezi; n'omutima g...</td>\n",
              "      <td>&gt;&gt;lug&lt;&lt; \"The meditation of my heart will be of...</td>\n",
              "      <td>lug</td>\n",
              "    </tr>\n",
              "  </tbody>\n",
              "</table>\n",
              "</div>"
            ],
            "text/plain": [
              "                                              target  \\\n",
              "0                         Beduru gi Kuwe kod Ji Duto   \n",
              "1                           Hera umo richo mogundho.   \n",
              "2  I mwaka me apar wiye angwen me loc pa kabaka K...   \n",
              "3                            Muliraanwa wange y'ani?   \n",
              "4                          Notego wang'e kuom pokne.   \n",
              "5                               Okuva mu Nnimi Zonna   \n",
              "6  Omiyo wang 'chieng' mare wuok ni jo maricho ko...   \n",
              "7                          Yakuwa Ayagala Obwenkanya   \n",
              "8         Yoleka Obwenkanya ng'Okola ku Nsonga Zange   \n",
              "9  \"Akamwa kange kanaayogera amagezi; n'omutima g...   \n",
              "\n",
              "                                              source target_language  \n",
              "0      >>luo<< Adam and Eve - Were They Real People?             luo  \n",
              "1  >>luo<< In fact, \"love covers a multitude of s...             luo  \n",
              "2  >>ach<< In the fourteenth year of King Hezekia...             ach  \n",
              "3                 >>lug<< Who really is my neighbor?             lug  \n",
              "4  >>luo<< He \"looked intently toward the payment...             luo  \n",
              "5                   >>lug<< Out of All the Languages             lug  \n",
              "6  >>luo<< He makes his sun rise upon wicked peop...             luo  \n",
              "7              >>lug<< Jehovah Is a Lover of Justice             lug  \n",
              "8                     >>lug<< See That I Get Justice             lug  \n",
              "9  >>lug<< \"The meditation of my heart will be of...             lug  "
            ]
          },
          "execution_count": 71,
          "metadata": {},
          "output_type": "execute_result"
        }
      ],
      "source": [
        "mt560_df.head(10)"
      ]
    },
    {
      "cell_type": "code",
      "execution_count": 72,
      "metadata": {},
      "outputs": [],
      "source": [
        "for language in mt560_languages:\n",
        "    mt560_df[mt560_df[\"target_language\"] == language][\"source\"].to_csv(f\"train_mt560_{language}.src\", header=None, index=None, sep=\"\\t\", mode=\"a\")\n",
        "    mt560_df[mt560_df[\"target_language\"] == language][\"target\"].to_csv(f\"train_mt560_{language}.tgt\", header=None, index=None, sep=\"\\t\", mode=\"a\")"
      ]
    },
    {
      "cell_type": "markdown",
      "metadata": {},
      "source": [
        "### Create dataset folders and add dataset files"
      ]
    },
    {
      "cell_type": "code",
      "execution_count": 73,
      "metadata": {},
      "outputs": [],
      "source": [
        "!mv {*.src,*.tgt} multilingual-dataset"
      ]
    },
    {
      "cell_type": "code",
      "execution_count": 74,
      "metadata": {},
      "outputs": [],
      "source": [
        "!mkdir v7-dataset/v7.0/supervised/en-mul\n"
      ]
    },
    {
      "cell_type": "code",
      "execution_count": 75,
      "metadata": {},
      "outputs": [
        {
          "name": "stdout",
          "output_type": "stream",
          "text": [
            "multilingual-dataset/test_ach.src -> v7-dataset/v7.0/supervised/en-mul/test_ach.src\n",
            "multilingual-dataset/test_lgg.src -> v7-dataset/v7.0/supervised/en-mul/test_lgg.src\n",
            "multilingual-dataset/test_lug.src -> v7-dataset/v7.0/supervised/en-mul/test_lug.src\n",
            "multilingual-dataset/test_nyn.src -> v7-dataset/v7.0/supervised/en-mul/test_nyn.src\n",
            "multilingual-dataset/test_teo.src -> v7-dataset/v7.0/supervised/en-mul/test_teo.src\n",
            "multilingual-dataset/train.src -> v7-dataset/v7.0/supervised/en-mul/train.src\n",
            "multilingual-dataset/train_ai4d.src -> v7-dataset/v7.0/supervised/en-mul/train_ai4d.src\n",
            "multilingual-dataset/train_flores_lug.src -> v7-dataset/v7.0/supervised/en-mul/train_flores_lug.src\n",
            "multilingual-dataset/train_flores_luo.src -> v7-dataset/v7.0/supervised/en-mul/train_flores_luo.src\n",
            "multilingual-dataset/train_mt560_ach.src -> v7-dataset/v7.0/supervised/en-mul/train_mt560_ach.src\n",
            "multilingual-dataset/train_mt560_lug.src -> v7-dataset/v7.0/supervised/en-mul/train_mt560_lug.src\n",
            "multilingual-dataset/train_mt560_luo.src -> v7-dataset/v7.0/supervised/en-mul/train_mt560_luo.src\n",
            "multilingual-dataset/train_mt560_nyn.src -> v7-dataset/v7.0/supervised/en-mul/train_mt560_nyn.src\n",
            "multilingual-dataset/val_ach.src -> v7-dataset/v7.0/supervised/en-mul/val_ach.src\n",
            "multilingual-dataset/val_lgg.src -> v7-dataset/v7.0/supervised/en-mul/val_lgg.src\n",
            "multilingual-dataset/val_lug.src -> v7-dataset/v7.0/supervised/en-mul/val_lug.src\n",
            "multilingual-dataset/val_nyn.src -> v7-dataset/v7.0/supervised/en-mul/val_nyn.src\n",
            "multilingual-dataset/val_teo.src -> v7-dataset/v7.0/supervised/en-mul/val_teo.src\n",
            "multilingual-dataset/test_ach.tgt -> v7-dataset/v7.0/supervised/en-mul/test_ach.tgt\n",
            "multilingual-dataset/test_lgg.tgt -> v7-dataset/v7.0/supervised/en-mul/test_lgg.tgt\n",
            "multilingual-dataset/test_lug.tgt -> v7-dataset/v7.0/supervised/en-mul/test_lug.tgt\n",
            "multilingual-dataset/test_nyn.tgt -> v7-dataset/v7.0/supervised/en-mul/test_nyn.tgt\n",
            "multilingual-dataset/test_teo.tgt -> v7-dataset/v7.0/supervised/en-mul/test_teo.tgt\n",
            "multilingual-dataset/train.tgt -> v7-dataset/v7.0/supervised/en-mul/train.tgt\n",
            "multilingual-dataset/train_ai4d.tgt -> v7-dataset/v7.0/supervised/en-mul/train_ai4d.tgt\n",
            "multilingual-dataset/train_flores_lug.tgt -> v7-dataset/v7.0/supervised/en-mul/train_flores_lug.tgt\n",
            "multilingual-dataset/train_flores_luo.tgt -> v7-dataset/v7.0/supervised/en-mul/train_flores_luo.tgt\n",
            "multilingual-dataset/train_mt560_ach.tgt -> v7-dataset/v7.0/supervised/en-mul/train_mt560_ach.tgt\n",
            "multilingual-dataset/train_mt560_lug.tgt -> v7-dataset/v7.0/supervised/en-mul/train_mt560_lug.tgt\n",
            "multilingual-dataset/train_mt560_luo.tgt -> v7-dataset/v7.0/supervised/en-mul/train_mt560_luo.tgt\n",
            "multilingual-dataset/train_mt560_nyn.tgt -> v7-dataset/v7.0/supervised/en-mul/train_mt560_nyn.tgt\n",
            "multilingual-dataset/val_ach.tgt -> v7-dataset/v7.0/supervised/en-mul/val_ach.tgt\n",
            "multilingual-dataset/val_lgg.tgt -> v7-dataset/v7.0/supervised/en-mul/val_lgg.tgt\n",
            "multilingual-dataset/val_lug.tgt -> v7-dataset/v7.0/supervised/en-mul/val_lug.tgt\n",
            "multilingual-dataset/val_nyn.tgt -> v7-dataset/v7.0/supervised/en-mul/val_nyn.tgt\n",
            "multilingual-dataset/val_teo.tgt -> v7-dataset/v7.0/supervised/en-mul/val_teo.tgt\n"
          ]
        }
      ],
      "source": [
        "!mv -v multilingual-dataset/*.{src,tgt} v7-dataset/v7.0/supervised/en-mul"
      ]
    },
    {
      "cell_type": "markdown",
      "metadata": {},
      "source": [
        "### Zip dataset"
      ]
    },
    {
      "cell_type": "code",
      "execution_count": 76,
      "metadata": {},
      "outputs": [
        {
          "name": "stdout",
          "output_type": "stream",
          "text": [
            "  adding: v7-dataset/ (stored 0%)\n",
            "  adding: v7-dataset/.DS_Store (deflated 93%)\n",
            "  adding: v7-dataset/v7.0/ (stored 0%)\n",
            "  adding: v7-dataset/v7.0/.DS_Store (deflated 93%)\n",
            "  adding: v7-dataset/v7.0/supervised/ (stored 0%)\n",
            "  adding: v7-dataset/v7.0/supervised/mul-en/ (stored 0%)\n",
            "  adding: v7-dataset/v7.0/supervised/mul-en/train.tgt (deflated 90%)\n",
            "  adding: v7-dataset/v7.0/supervised/mul-en/test_lug.tgt (deflated 63%)\n",
            "  adding: v7-dataset/v7.0/supervised/mul-en/train_mt560_lug.tgt (deflated 61%)\n",
            "  adding: v7-dataset/v7.0/supervised/mul-en/val_lug.tgt (deflated 63%)\n",
            "  adding: v7-dataset/v7.0/supervised/mul-en/train_flores_luo.tgt (deflated 59%)\n",
            "  adding: v7-dataset/v7.0/supervised/mul-en/test_ach.src (deflated 63%)\n",
            "  adding: v7-dataset/v7.0/supervised/mul-en/test_teo.tgt (deflated 63%)\n",
            "  adding: v7-dataset/v7.0/supervised/mul-en/val_ach.src (deflated 63%)\n",
            "  adding: v7-dataset/v7.0/supervised/mul-en/train_mt560_ach.src (deflated 64%)\n",
            "  adding: v7-dataset/v7.0/supervised/mul-en/val_teo.tgt (deflated 63%)\n",
            "  adding: v7-dataset/v7.0/supervised/mul-en/val_nyn.src (deflated 65%)\n",
            "  adding: v7-dataset/v7.0/supervised/mul-en/train_ai4d.src (deflated 69%)\n",
            "  adding: v7-dataset/v7.0/supervised/mul-en/train_mt560_luo.src (deflated 64%)\n",
            "  adding: v7-dataset/v7.0/supervised/mul-en/train_mt560_nyn.src (deflated 67%)\n",
            "  adding: v7-dataset/v7.0/supervised/mul-en/test_nyn.src (deflated 64%)\n",
            "  adding: v7-dataset/v7.0/supervised/mul-en/test_lgg.tgt (deflated 63%)\n",
            "  adding: v7-dataset/v7.0/supervised/mul-en/train_flores_lug.src (deflated 59%)\n",
            "  adding: v7-dataset/v7.0/supervised/mul-en/val_lgg.tgt (deflated 63%)\n",
            "  adding: v7-dataset/v7.0/supervised/mul-en/train_mt560_lug.src (deflated 65%)\n",
            "  adding: v7-dataset/v7.0/supervised/mul-en/val_lug.src (deflated 65%)\n",
            "  adding: v7-dataset/v7.0/supervised/mul-en/train.src (deflated 59%)\n",
            "  adding: v7-dataset/v7.0/supervised/mul-en/test_lug.src (deflated 65%)\n",
            "  adding: v7-dataset/v7.0/supervised/mul-en/val_ach.tgt (deflated 63%)\n",
            "  adding: v7-dataset/v7.0/supervised/mul-en/train_mt560_ach.tgt (deflated 62%)\n",
            "  adding: v7-dataset/v7.0/supervised/mul-en/val_teo.src (deflated 66%)\n",
            "  adding: v7-dataset/v7.0/supervised/mul-en/test_ach.tgt (deflated 63%)\n",
            "  adding: v7-dataset/v7.0/supervised/mul-en/test_teo.src (deflated 66%)\n",
            "  adding: v7-dataset/v7.0/supervised/mul-en/train_flores_luo.src (deflated 61%)\n",
            "  adding: v7-dataset/v7.0/supervised/mul-en/test_nyn.tgt (deflated 63%)\n",
            "  adding: v7-dataset/v7.0/supervised/mul-en/val_nyn.tgt (deflated 63%)\n",
            "  adding: v7-dataset/v7.0/supervised/mul-en/train_mt560_nyn.tgt (deflated 62%)\n",
            "  adding: v7-dataset/v7.0/supervised/mul-en/train_mt560_luo.tgt (deflated 61%)\n",
            "  adding: v7-dataset/v7.0/supervised/mul-en/train_ai4d.tgt (deflated 67%)\n",
            "  adding: v7-dataset/v7.0/supervised/mul-en/val_lgg.src (deflated 65%)\n",
            "  adding: v7-dataset/v7.0/supervised/mul-en/train_flores_lug.tgt (deflated 59%)\n",
            "  adding: v7-dataset/v7.0/supervised/mul-en/test_lgg.src (deflated 65%)\n",
            "  adding: v7-dataset/v7.0/supervised/.DS_Store (deflated 95%)\n",
            "  adding: v7-dataset/v7.0/supervised/nyn-lgg/ (stored 0%)\n",
            "  adding: v7-dataset/v7.0/supervised/nyn-lgg/train.nyn (deflated 65%)\n",
            "  adding: v7-dataset/v7.0/supervised/nyn-lgg/train.lgg (deflated 65%)\n",
            "  adding: v7-dataset/v7.0/supervised/nyn-lgg/test.nyn (deflated 64%)\n",
            "  adding: v7-dataset/v7.0/supervised/nyn-lgg/val.nyn (deflated 65%)\n",
            "  adding: v7-dataset/v7.0/supervised/nyn-lgg/test.lgg (deflated 65%)\n",
            "  adding: v7-dataset/v7.0/supervised/nyn-lgg/val.lgg (deflated 65%)\n",
            "  adding: v7-dataset/v7.0/supervised/lug-teo/ (stored 0%)\n",
            "  adding: v7-dataset/v7.0/supervised/lug-teo/train.lug (deflated 66%)\n",
            "  adding: v7-dataset/v7.0/supervised/lug-teo/val.teo (deflated 66%)\n",
            "  adding: v7-dataset/v7.0/supervised/lug-teo/test.teo (deflated 66%)\n",
            "  adding: v7-dataset/v7.0/supervised/lug-teo/val.lug (deflated 65%)\n",
            "  adding: v7-dataset/v7.0/supervised/lug-teo/test.lug (deflated 65%)\n",
            "  adding: v7-dataset/v7.0/supervised/lug-teo/train.teo (deflated 67%)\n",
            "  adding: v7-dataset/v7.0/supervised/en-teo/ (stored 0%)\n",
            "  adding: v7-dataset/v7.0/supervised/en-teo/val.teo (deflated 66%)\n",
            "  adding: v7-dataset/v7.0/supervised/en-teo/test.teo (deflated 66%)\n",
            "  adding: v7-dataset/v7.0/supervised/en-teo/train.en (deflated 64%)\n",
            "  adding: v7-dataset/v7.0/supervised/en-teo/val.en (deflated 63%)\n",
            "  adding: v7-dataset/v7.0/supervised/en-teo/test.en (deflated 63%)\n",
            "  adding: v7-dataset/v7.0/supervised/en-teo/train.teo (deflated 67%)\n",
            "  adding: v7-dataset/v7.0/supervised/ach-lgg/ (stored 0%)\n",
            "  adding: v7-dataset/v7.0/supervised/ach-lgg/train.ach (deflated 63%)\n",
            "  adding: v7-dataset/v7.0/supervised/ach-lgg/train.lgg (deflated 65%)\n",
            "  adding: v7-dataset/v7.0/supervised/ach-lgg/val.ach (deflated 63%)\n",
            "  adding: v7-dataset/v7.0/supervised/ach-lgg/test.ach (deflated 63%)\n",
            "  adding: v7-dataset/v7.0/supervised/ach-lgg/test.lgg (deflated 65%)\n",
            "  adding: v7-dataset/v7.0/supervised/ach-lgg/val.lgg (deflated 65%)\n",
            "  adding: v7-dataset/v7.0/supervised/ach-nyn/ (stored 0%)\n",
            "  adding: v7-dataset/v7.0/supervised/ach-nyn/train.ach (deflated 63%)\n",
            "  adding: v7-dataset/v7.0/supervised/ach-nyn/train.nyn (deflated 65%)\n",
            "  adding: v7-dataset/v7.0/supervised/ach-nyn/val.ach (deflated 63%)\n",
            "  adding: v7-dataset/v7.0/supervised/ach-nyn/test.nyn (deflated 64%)\n",
            "  adding: v7-dataset/v7.0/supervised/ach-nyn/test.ach (deflated 63%)\n",
            "  adding: v7-dataset/v7.0/supervised/ach-nyn/val.nyn (deflated 65%)\n",
            "  adding: v7-dataset/v7.0/supervised/ach-teo/ (stored 0%)\n",
            "  adding: v7-dataset/v7.0/supervised/ach-teo/train.ach (deflated 63%)\n",
            "  adding: v7-dataset/v7.0/supervised/ach-teo/val.teo (deflated 66%)\n",
            "  adding: v7-dataset/v7.0/supervised/ach-teo/test.teo (deflated 66%)\n",
            "  adding: v7-dataset/v7.0/supervised/ach-teo/val.ach (deflated 63%)\n",
            "  adding: v7-dataset/v7.0/supervised/ach-teo/test.ach (deflated 63%)\n",
            "  adding: v7-dataset/v7.0/supervised/ach-teo/train.teo (deflated 67%)\n",
            "  adding: v7-dataset/v7.0/supervised/en-lgg/ (stored 0%)\n",
            "  adding: v7-dataset/v7.0/supervised/en-lgg/train.lgg (deflated 65%)\n",
            "  adding: v7-dataset/v7.0/supervised/en-lgg/train.en (deflated 64%)\n",
            "  adding: v7-dataset/v7.0/supervised/en-lgg/val.en (deflated 63%)\n",
            "  adding: v7-dataset/v7.0/supervised/en-lgg/test.lgg (deflated 65%)\n",
            "  adding: v7-dataset/v7.0/supervised/en-lgg/test.en (deflated 63%)\n",
            "  adding: v7-dataset/v7.0/supervised/en-lgg/val.lgg (deflated 65%)\n",
            "  adding: v7-dataset/v7.0/supervised/en-lug/ (stored 0%)\n",
            "  adding: v7-dataset/v7.0/supervised/en-lug/train.lug (deflated 66%)\n",
            "  adding: v7-dataset/v7.0/supervised/en-lug/train.en (deflated 64%)\n",
            "  adding: v7-dataset/v7.0/supervised/en-lug/val.lug (deflated 65%)\n",
            "  adding: v7-dataset/v7.0/supervised/en-lug/val.en (deflated 63%)\n",
            "  adding: v7-dataset/v7.0/supervised/en-lug/test.lug (deflated 65%)\n",
            "  adding: v7-dataset/v7.0/supervised/en-lug/test.en (deflated 63%)\n",
            "  adding: v7-dataset/v7.0/supervised/en-ach/ (stored 0%)\n",
            "  adding: v7-dataset/v7.0/supervised/en-ach/train.ach (deflated 63%)\n",
            "  adding: v7-dataset/v7.0/supervised/en-ach/train.en (deflated 64%)\n",
            "  adding: v7-dataset/v7.0/supervised/en-ach/val.en (deflated 63%)\n",
            "  adding: v7-dataset/v7.0/supervised/en-ach/val.ach (deflated 63%)\n",
            "  adding: v7-dataset/v7.0/supervised/en-ach/test.ach (deflated 63%)\n",
            "  adding: v7-dataset/v7.0/supervised/en-ach/test.en (deflated 63%)\n",
            "  adding: v7-dataset/v7.0/supervised/en-nyn/ (stored 0%)\n",
            "  adding: v7-dataset/v7.0/supervised/en-nyn/train.nyn (deflated 65%)\n",
            "  adding: v7-dataset/v7.0/supervised/en-nyn/train.en (deflated 64%)\n",
            "  adding: v7-dataset/v7.0/supervised/en-nyn/val.en (deflated 63%)\n",
            "  adding: v7-dataset/v7.0/supervised/en-nyn/test.nyn (deflated 64%)\n",
            "  adding: v7-dataset/v7.0/supervised/en-nyn/val.nyn (deflated 65%)\n",
            "  adding: v7-dataset/v7.0/supervised/en-nyn/test.en (deflated 63%)\n",
            "  adding: v7-dataset/v7.0/supervised/teo-lgg/ (stored 0%)\n",
            "  adding: v7-dataset/v7.0/supervised/teo-lgg/train.lgg (deflated 65%)\n",
            "  adding: v7-dataset/v7.0/supervised/teo-lgg/val.teo (deflated 66%)\n",
            "  adding: v7-dataset/v7.0/supervised/teo-lgg/test.teo (deflated 66%)\n",
            "  adding: v7-dataset/v7.0/supervised/teo-lgg/test.lgg (deflated 65%)\n",
            "  adding: v7-dataset/v7.0/supervised/teo-lgg/val.lgg (deflated 65%)\n",
            "  adding: v7-dataset/v7.0/supervised/teo-lgg/train.teo (deflated 67%)\n",
            "  adding: v7-dataset/v7.0/supervised/lug-nyn/ (stored 0%)\n",
            "  adding: v7-dataset/v7.0/supervised/lug-nyn/train.lug (deflated 66%)\n",
            "  adding: v7-dataset/v7.0/supervised/lug-nyn/train.nyn (deflated 65%)\n",
            "  adding: v7-dataset/v7.0/supervised/lug-nyn/val.lug (deflated 65%)\n",
            "  adding: v7-dataset/v7.0/supervised/lug-nyn/test.nyn (deflated 64%)\n",
            "  adding: v7-dataset/v7.0/supervised/lug-nyn/val.nyn (deflated 65%)\n",
            "  adding: v7-dataset/v7.0/supervised/lug-nyn/test.lug (deflated 65%)\n",
            "  adding: v7-dataset/v7.0/supervised/lug-ach/ (stored 0%)\n",
            "  adding: v7-dataset/v7.0/supervised/lug-ach/train.ach (deflated 63%)\n",
            "  adding: v7-dataset/v7.0/supervised/lug-ach/train.lug (deflated 66%)\n",
            "  adding: v7-dataset/v7.0/supervised/lug-ach/val.lug (deflated 65%)\n",
            "  adding: v7-dataset/v7.0/supervised/lug-ach/val.ach (deflated 63%)\n",
            "  adding: v7-dataset/v7.0/supervised/lug-ach/test.ach (deflated 63%)\n",
            "  adding: v7-dataset/v7.0/supervised/lug-ach/test.lug (deflated 65%)\n",
            "  adding: v7-dataset/v7.0/supervised/teo-nyn/ (stored 0%)\n",
            "  adding: v7-dataset/v7.0/supervised/teo-nyn/train.nyn (deflated 65%)\n",
            "  adding: v7-dataset/v7.0/supervised/teo-nyn/val.teo (deflated 66%)\n",
            "  adding: v7-dataset/v7.0/supervised/teo-nyn/test.teo (deflated 66%)\n",
            "  adding: v7-dataset/v7.0/supervised/teo-nyn/test.nyn (deflated 64%)\n",
            "  adding: v7-dataset/v7.0/supervised/teo-nyn/val.nyn (deflated 65%)\n",
            "  adding: v7-dataset/v7.0/supervised/teo-nyn/train.teo (deflated 67%)\n",
            "  adding: v7-dataset/v7.0/supervised/lug-lgg/ (stored 0%)\n",
            "  adding: v7-dataset/v7.0/supervised/lug-lgg/train.lug (deflated 66%)\n",
            "  adding: v7-dataset/v7.0/supervised/lug-lgg/train.lgg (deflated 65%)\n",
            "  adding: v7-dataset/v7.0/supervised/lug-lgg/val.lug (deflated 65%)\n",
            "  adding: v7-dataset/v7.0/supervised/lug-lgg/test.lug (deflated 65%)\n",
            "  adding: v7-dataset/v7.0/supervised/lug-lgg/test.lgg (deflated 65%)\n",
            "  adding: v7-dataset/v7.0/supervised/lug-lgg/val.lgg (deflated 65%)\n",
            "  adding: v7-dataset/v7.0/supervised/en-mul/ (stored 0%)\n",
            "  adding: v7-dataset/v7.0/supervised/en-mul/train.tgt (deflated 59%)\n",
            "  adding: v7-dataset/v7.0/supervised/en-mul/test_lug.tgt (deflated 65%)\n",
            "  adding: v7-dataset/v7.0/supervised/en-mul/train_mt560_lug.tgt (deflated 65%)\n",
            "  adding: v7-dataset/v7.0/supervised/en-mul/val_lug.tgt (deflated 65%)\n",
            "  adding: v7-dataset/v7.0/supervised/en-mul/train_flores_luo.tgt (deflated 61%)\n",
            "  adding: v7-dataset/v7.0/supervised/en-mul/test_ach.src (deflated 66%)\n",
            "  adding: v7-dataset/v7.0/supervised/en-mul/test_teo.tgt (deflated 66%)\n",
            "  adding: v7-dataset/v7.0/supervised/en-mul/val_ach.src (deflated 67%)\n",
            "  adding: v7-dataset/v7.0/supervised/en-mul/train_mt560_ach.src (deflated 64%)\n",
            "  adding: v7-dataset/v7.0/supervised/en-mul/val_teo.tgt (deflated 66%)\n",
            "  adding: v7-dataset/v7.0/supervised/en-mul/val_nyn.src (deflated 67%)\n",
            "  adding: v7-dataset/v7.0/supervised/en-mul/train_ai4d.src (deflated 70%)\n",
            "  adding: v7-dataset/v7.0/supervised/en-mul/train_mt560_luo.src (deflated 63%)\n",
            "  adding: v7-dataset/v7.0/supervised/en-mul/train_mt560_nyn.src (deflated 64%)\n",
            "  adding: v7-dataset/v7.0/supervised/en-mul/test_nyn.src (deflated 66%)\n",
            "  adding: v7-dataset/v7.0/supervised/en-mul/test_lgg.tgt (deflated 65%)\n",
            "  adding: v7-dataset/v7.0/supervised/en-mul/train_flores_lug.src (deflated 61%)\n",
            "  adding: v7-dataset/v7.0/supervised/en-mul/val_lgg.tgt (deflated 65%)\n",
            "  adding: v7-dataset/v7.0/supervised/en-mul/train_mt560_lug.src (deflated 63%)\n",
            "  adding: v7-dataset/v7.0/supervised/en-mul/val_lug.src (deflated 67%)\n",
            "  adding: v7-dataset/v7.0/supervised/en-mul/train.src (deflated 86%)\n",
            "  adding: v7-dataset/v7.0/supervised/en-mul/test_lug.src (deflated 66%)\n",
            "  adding: v7-dataset/v7.0/supervised/en-mul/val_ach.tgt (deflated 63%)\n",
            "  adding: v7-dataset/v7.0/supervised/en-mul/train_mt560_ach.tgt (deflated 64%)\n",
            "  adding: v7-dataset/v7.0/supervised/en-mul/val_teo.src (deflated 67%)\n",
            "  adding: v7-dataset/v7.0/supervised/en-mul/test_ach.tgt (deflated 63%)\n",
            "  adding: v7-dataset/v7.0/supervised/en-mul/test_teo.src (deflated 66%)\n",
            "  adding: v7-dataset/v7.0/supervised/en-mul/train_flores_luo.src (deflated 61%)\n",
            "  adding: v7-dataset/v7.0/supervised/en-mul/test_nyn.tgt (deflated 64%)\n",
            "  adding: v7-dataset/v7.0/supervised/en-mul/val_nyn.tgt (deflated 65%)\n",
            "  adding: v7-dataset/v7.0/supervised/en-mul/train_mt560_nyn.tgt (deflated 67%)\n",
            "  adding: v7-dataset/v7.0/supervised/en-mul/train_mt560_luo.tgt (deflated 64%)\n",
            "  adding: v7-dataset/v7.0/supervised/en-mul/train_ai4d.tgt (deflated 69%)\n",
            "  adding: v7-dataset/v7.0/supervised/en-mul/val_lgg.src (deflated 67%)\n",
            "  adding: v7-dataset/v7.0/supervised/en-mul/train_flores_lug.tgt (deflated 59%)\n",
            "  adding: v7-dataset/v7.0/supervised/en-mul/test_lgg.src (deflated 66%)\n"
          ]
        }
      ],
      "source": [
        "# Zip Directory\n",
        "!zip -r v7-dataset.zip v7-dataset/"
      ]
    }
  ],
  "metadata": {
    "colab": {
      "collapsed_sections": [],
      "name": "multilingual_data_prep.ipynb",
      "provenance": []
    },
    "interpreter": {
      "hash": "b0fa6594d8f4cbf19f97940f81e996739fb7646882a419484c72d19e05852a7e"
    },
    "kernelspec": {
      "display_name": "Python 3.9.6 64-bit",
      "name": "python3"
    },
    "language_info": {
      "codemirror_mode": {
        "name": "ipython",
        "version": 3
      },
      "file_extension": ".py",
      "mimetype": "text/x-python",
      "name": "python",
      "nbconvert_exporter": "python",
      "pygments_lexer": "ipython3",
      "version": "3.9.6"
    }
  },
  "nbformat": 4,
  "nbformat_minor": 0
}
