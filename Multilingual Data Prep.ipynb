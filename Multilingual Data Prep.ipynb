{
  "cells": [
    {
      "cell_type": "markdown",
      "metadata": {},
      "source": [
        "## Compilation of `multilingual` training dataset for Sunbird language models"
      ]
    },
    {
      "cell_type": "markdown",
      "metadata": {},
      "source": [
        "## Logic\n",
        "\n",
        "#### V1: A model that translates any of the other languages to English (`mul-en`)\n",
        "##### Source sentence: Any of the other languages\n",
        "##### Target: English\n",
        "\n",
        "\n",
        "#### V2: A model that translates English to any of the other languages (`en-mul`)\n",
        "##### Source sentence: English\n",
        "##### Target: Any of the other languages"
      ]
    },
    {
      "cell_type": "code",
      "execution_count": 145,
      "metadata": {},
      "outputs": [],
      "source": [
        "# Import Python dependencies\n",
        "import json\n",
        "import pandas as pd\n",
        "from itertools import chain\n",
        "from sklearn.model_selection import train_test_split"
      ]
    },
    {
      "cell_type": "code",
      "execution_count": null,
      "metadata": {},
      "outputs": [],
      "source": [
        "# Download the raw Sunbird dataset if needed\n",
        "!wget https://transfer.sh/AvcWgi/sunbird-ug-lang-v4.0.jsonl"
      ]
    },
    {
      "cell_type": "markdown",
      "metadata": {
        "id": "jMRoVeQYwagF"
      },
      "source": [
        "### Part 1: Create Multi-lingual to English target dataset (mul-en)"
      ]
    },
    {
      "cell_type": "markdown",
      "metadata": {},
      "source": [
        "#### Training dataset creation logic (with an example from the Sunbird dataset)"
      ]
    },
    {
      "cell_type": "code",
      "execution_count": 146,
      "metadata": {},
      "outputs": [],
      "source": [
        "with open(\"sunbird-ug-lang-v5.0.jsonl\", \"r\") as f:\n",
        "    sunbird_data = list(f)"
      ]
    },
    {
      "cell_type": "code",
      "execution_count": 147,
      "metadata": {},
      "outputs": [],
      "source": [
        "# Convert dataset to Dataframe\n",
        "sunbird_df = pd.DataFrame(sunbird_data)"
      ]
    },
    {
      "cell_type": "code",
      "execution_count": 148,
      "metadata": {
        "colab": {
          "base_uri": "https://localhost:8080/"
        },
        "id": "M9bz1C2AFUVA",
        "outputId": "57ec2dd8-650c-4726-9f8a-66219dc8aa13"
      },
      "outputs": [
        {
          "data": {
            "text/plain": [
              "dict_keys(['English', 'Luganda', 'Runyankole', 'Ateso', 'Lugbara', 'Acholi'])"
            ]
          },
          "execution_count": 148,
          "metadata": {},
          "output_type": "execute_result"
        }
      ],
      "source": [
        "translated_sentence = json.loads(sunbird_data[0])\n",
        "translated_sentence.keys()"
      ]
    },
    {
      "cell_type": "code",
      "execution_count": 149,
      "metadata": {
        "colab": {
          "base_uri": "https://localhost:8080/"
        },
        "id": "QKwqLp4YvJ-J",
        "outputId": "debac4de-bfeb-4483-92d6-d0e30806d21a"
      },
      "outputs": [
        {
          "data": {
            "text/plain": [
              "{'English': 'Eggplants always grow best under warm conditions.',\n",
              " 'Luganda': 'Bbiringanya lubeerera  asinga kukulira mu mbeera ya bugumu',\n",
              " 'Runyankole': \"Entonga buriijo zikurira omu mbeera y'obwire erikutagata\",\n",
              " 'Ateso': 'Epoloi ebirinyanyi ojok apakio nu emwanar akwap.',\n",
              " 'Lugbara': 'Birinyanya eyi zo kililiru ndeni angu driza ma alia.',\n",
              " 'Acholi': 'Bilinyanya pol kare dongo maber ka lyeto tye'}"
            ]
          },
          "execution_count": 149,
          "metadata": {},
          "output_type": "execute_result"
        }
      ],
      "source": [
        "translated_sentence"
      ]
    },
    {
      "cell_type": "code",
      "execution_count": 151,
      "metadata": {
        "id": "SO_hdRMBFVOu"
      },
      "outputs": [],
      "source": [
        "# Function to generate multiple training examples from one translated sentence.\n",
        "def training_examples_from_sentence(translated_sentence,\n",
        "                                    target_language = 'English'):\n",
        "  if target_language not in translated_sentence:\n",
        "    raise ValueError(\n",
        "        f'Target language {target_language} expected in translations, but '\n",
        "        f'{translated_sentence.keys()} found')\n",
        "\n",
        "  source_languages = set(translated_sentence.keys())\n",
        "  source_languages.remove(target_language)\n",
        "\n",
        "  if not source_languages:\n",
        "    raise ValueError('There should be at least one language apart from the '\n",
        "                    'target.')\n",
        "\n",
        "  training_examples = [{'source': translated_sentence[lang], \n",
        "                        'target': translated_sentence[target_language]}\n",
        "                        for lang in source_languages\n",
        "                      ]\n",
        "\n",
        "  return training_examples"
      ]
    },
    {
      "cell_type": "code",
      "execution_count": 152,
      "metadata": {
        "id": "Z-HzlP3lu005"
      },
      "outputs": [
        {
          "data": {
            "text/plain": [
              "[{'source': \"Entonga buriijo zikurira omu mbeera y'obwire erikutagata\",\n",
              "  'target': 'Eggplants always grow best under warm conditions.'},\n",
              " {'source': 'Bbiringanya lubeerera  asinga kukulira mu mbeera ya bugumu',\n",
              "  'target': 'Eggplants always grow best under warm conditions.'},\n",
              " {'source': 'Bilinyanya pol kare dongo maber ka lyeto tye',\n",
              "  'target': 'Eggplants always grow best under warm conditions.'},\n",
              " {'source': 'Birinyanya eyi zo kililiru ndeni angu driza ma alia.',\n",
              "  'target': 'Eggplants always grow best under warm conditions.'},\n",
              " {'source': 'Epoloi ebirinyanyi ojok apakio nu emwanar akwap.',\n",
              "  'target': 'Eggplants always grow best under warm conditions.'}]"
            ]
          },
          "execution_count": 152,
          "metadata": {},
          "output_type": "execute_result"
        }
      ],
      "source": [
        "training_examples = training_examples_from_sentence(translated_sentence)\n",
        "training_examples"
      ]
    },
    {
      "cell_type": "markdown",
      "metadata": {},
      "source": [
        "#### Application to the Sunbird dataset"
      ]
    },
    {
      "cell_type": "code",
      "execution_count": 153,
      "metadata": {
        "colab": {
          "base_uri": "https://localhost:8080/"
        },
        "id": "cfIictB9By2V",
        "outputId": "50e601ef-6bb3-490b-daf1-1d4c42015b3d"
      },
      "outputs": [
        {
          "data": {
            "text/plain": [
              "25007"
            ]
          },
          "execution_count": 153,
          "metadata": {},
          "output_type": "execute_result"
        }
      ],
      "source": [
        "# Check number of rows in dataset\n",
        "len(sunbird_df)"
      ]
    },
    {
      "cell_type": "code",
      "execution_count": 156,
      "metadata": {
        "id": "z7fOl9Lf0AXr"
      },
      "outputs": [
        {
          "data": {
            "text/plain": [
              "[[{'source': \"Entonga buriijo zikurira omu mbeera y'obwire erikutagata\",\n",
              "   'target': 'Eggplants always grow best under warm conditions.'},\n",
              "  {'source': 'Bbiringanya lubeerera  asinga kukulira mu mbeera ya bugumu',\n",
              "   'target': 'Eggplants always grow best under warm conditions.'},\n",
              "  {'source': 'Bilinyanya pol kare dongo maber ka lyeto tye',\n",
              "   'target': 'Eggplants always grow best under warm conditions.'},\n",
              "  {'source': 'Birinyanya eyi zo kililiru ndeni angu driza ma alia.',\n",
              "   'target': 'Eggplants always grow best under warm conditions.'},\n",
              "  {'source': 'Epoloi ebirinyanyi ojok apakio nu emwanar akwap.',\n",
              "   'target': 'Eggplants always grow best under warm conditions.'}],\n",
              " [{'source': \"Eitaka ry'okuhingamu, obumwe n'obumwe nirireetera abahingi oburemeezi.\",\n",
              "   'target': 'Farmland is sometimes a challenge to farmers.'},\n",
              "  {'source': \"Ettaka ly'okulimirako n'okulundirako ebiseera ebimu kisoomooza abalimi\",\n",
              "   'target': 'Farmland is sometimes a challenge to farmers.'},\n",
              "  {'source': 'Ngom me pur i kare mukene obedo peko madit bot lupur',\n",
              "   'target': 'Farmland is sometimes a challenge to farmers.'},\n",
              "  {'source': \"Amvu ma angu eri sa'wa azini 'diyisi 'ba amvu 'yapi 'diyi dri ewaru.\",\n",
              "   'target': 'Farmland is sometimes a challenge to farmers.'},\n",
              "  {'source': 'Akiro nu alupok nes erai ationis kanejaas akoriok',\n",
              "   'target': 'Farmland is sometimes a challenge to farmers.'}]]"
            ]
          },
          "execution_count": 156,
          "metadata": {},
          "output_type": "execute_result"
        }
      ],
      "source": [
        "sunbird = []\n",
        "for i in range(len(sunbird_df)):\n",
        "  sunbird.append(training_examples_from_sentence(json.loads(sunbird_data[i])))\n",
        "\n",
        "sunbird[:2]"
      ]
    },
    {
      "cell_type": "code",
      "execution_count": 157,
      "metadata": {
        "id": "Em7_j3iW0AaE"
      },
      "outputs": [],
      "source": [
        "sunbird_dataset = pd.DataFrame(list(chain.from_iterable(sunbird)))"
      ]
    },
    {
      "cell_type": "code",
      "execution_count": 158,
      "metadata": {
        "colab": {
          "base_uri": "https://localhost:8080/"
        },
        "id": "AnKWYoWIPAtz",
        "outputId": "709c8eb0-98fa-4100-ea5d-ee4c4f9174a1"
      },
      "outputs": [
        {
          "data": {
            "text/plain": [
              "(125035, 2)"
            ]
          },
          "execution_count": 158,
          "metadata": {},
          "output_type": "execute_result"
        }
      ],
      "source": [
        "# Number of language pairs after creating the training examples\n",
        "sunbird_dataset.shape"
      ]
    },
    {
      "cell_type": "code",
      "execution_count": 159,
      "metadata": {
        "id": "t5NcyaWIPAv1"
      },
      "outputs": [],
      "source": [
        "# train/test/val split\n",
        "train_df, test_df = train_test_split(sunbird_dataset, test_size=0.33, random_state=42)"
      ]
    },
    {
      "cell_type": "code",
      "execution_count": 160,
      "metadata": {
        "id": "WLgaIuK1Sw69"
      },
      "outputs": [],
      "source": [
        "test_df, val_df = train_test_split(test_df, test_size=0.5, random_state=42)"
      ]
    },
    {
      "cell_type": "code",
      "execution_count": 161,
      "metadata": {
        "colab": {
          "base_uri": "https://localhost:8080/"
        },
        "id": "d56eKqgnS2Xr",
        "outputId": "7c23f33f-7024-40de-f098-a0cb5d96aeec"
      },
      "outputs": [
        {
          "name": "stdout",
          "output_type": "stream",
          "text": [
            "(83773, 2)\n",
            "(20631, 2)\n",
            "(20631, 2)\n"
          ]
        }
      ],
      "source": [
        "print(train_df.shape)\n",
        "print(test_df.shape)\n",
        "print(val_df.shape)"
      ]
    },
    {
      "cell_type": "code",
      "execution_count": 162,
      "metadata": {
        "id": "WbLzCrFpPAzK"
      },
      "outputs": [],
      "source": [
        "sunbird_dataset[[\"source\"]].to_csv(r'other.src', header=None, index=None, sep=' ', mode='a')\n",
        "sunbird_dataset[[\"target\"]].to_csv(r'eng.tgt', header=None, index=None, sep=' ', mode='a')"
      ]
    },
    {
      "cell_type": "code",
      "execution_count": 163,
      "metadata": {},
      "outputs": [],
      "source": [
        "language_list = list(sunbird_dataset.columns)\n",
        "language_codes = {\n",
        "    \"source\": \"src\", \"target\": \"tgt\"\n",
        "}"
      ]
    },
    {
      "cell_type": "code",
      "execution_count": 164,
      "metadata": {},
      "outputs": [],
      "source": [
        "for language in language_list:\n",
        "    train_df[language].to_csv(f\"train.{language_codes[language]}\", header=False, index=False, sep='\\t', mode='a')\n",
        "    test_df[language].to_csv(f\"test.{language_codes[language]}\", header=False, index=False, sep='\\t', mode='a')\n",
        "    val_df[language].to_csv(f\"val.{language_codes[language]}\", header=False, index=False, sep='\\t', mode='a')"
      ]
    },
    {
      "cell_type": "markdown",
      "metadata": {},
      "source": [
        "#### Application to the AI4D Luganda dataset"
      ]
    },
    {
      "cell_type": "code",
      "execution_count": 166,
      "metadata": {},
      "outputs": [
        {
          "data": {
            "text/html": [
              "<div>\n",
              "<style scoped>\n",
              "    .dataframe tbody tr th:only-of-type {\n",
              "        vertical-align: middle;\n",
              "    }\n",
              "\n",
              "    .dataframe tbody tr th {\n",
              "        vertical-align: top;\n",
              "    }\n",
              "\n",
              "    .dataframe thead th {\n",
              "        text-align: right;\n",
              "    }\n",
              "</style>\n",
              "<table border=\"1\" class=\"dataframe\">\n",
              "  <thead>\n",
              "    <tr style=\"text-align: right;\">\n",
              "      <th></th>\n",
              "      <th>eng</th>\n",
              "      <th>lug</th>\n",
              "    </tr>\n",
              "  </thead>\n",
              "  <tbody>\n",
              "    <tr>\n",
              "      <th>0</th>\n",
              "      <td>All refugees were requested to register with t...</td>\n",
              "      <td>Abanoonyiboobubudamu bonna baasabiddwa beewand...</td>\n",
              "    </tr>\n",
              "    <tr>\n",
              "      <th>1</th>\n",
              "      <td>They called for a refugees' meeting yesterday.</td>\n",
              "      <td>Baayise olukungaana lw'abanoonyiboobubudamu eg...</td>\n",
              "    </tr>\n",
              "    <tr>\n",
              "      <th>2</th>\n",
              "      <td>Refugees had misunderstandings between   thems...</td>\n",
              "      <td>Abanoonyiboobubudamu b'abadde n'obutakkaanya w...</td>\n",
              "    </tr>\n",
              "    <tr>\n",
              "      <th>3</th>\n",
              "      <td>We were urged to welcome refugees into our com...</td>\n",
              "      <td>Twakubirizibwa okwaniriza abanoonyiboobubudamu...</td>\n",
              "    </tr>\n",
              "    <tr>\n",
              "      <th>4</th>\n",
              "      <td>More development is achieved when we work toge...</td>\n",
              "      <td>Bwe tukolera awamu enkulaakulana enyingi efuni...</td>\n",
              "    </tr>\n",
              "  </tbody>\n",
              "</table>\n",
              "</div>"
            ],
            "text/plain": [
              "                                                 eng  \\\n",
              "0  All refugees were requested to register with t...   \n",
              "1     They called for a refugees' meeting yesterday.   \n",
              "2  Refugees had misunderstandings between   thems...   \n",
              "3  We were urged to welcome refugees into our com...   \n",
              "4  More development is achieved when we work toge...   \n",
              "\n",
              "                                                 lug  \n",
              "0  Abanoonyiboobubudamu bonna baasabiddwa beewand...  \n",
              "1  Baayise olukungaana lw'abanoonyiboobubudamu eg...  \n",
              "2  Abanoonyiboobubudamu b'abadde n'obutakkaanya w...  \n",
              "3  Twakubirizibwa okwaniriza abanoonyiboobubudamu...  \n",
              "4  Bwe tukolera awamu enkulaakulana enyingi efuni...  "
            ]
          },
          "execution_count": 166,
          "metadata": {},
          "output_type": "execute_result"
        }
      ],
      "source": [
        "ai4d_df = pd.read_csv(\"ai4d_luganda.csv\")\n",
        "ai4d_df.head()"
      ]
    },
    {
      "cell_type": "code",
      "execution_count": 167,
      "metadata": {},
      "outputs": [
        {
          "data": {
            "text/plain": [
              "Index(['English', 'Luganda'], dtype='object')"
            ]
          },
          "execution_count": 167,
          "metadata": {},
          "output_type": "execute_result"
        }
      ],
      "source": [
        "ai4d_df.rename(columns={\"eng\": \"English\", \"lug\": \"Luganda\"}, inplace=True)\n",
        "ai4d_df.columns"
      ]
    },
    {
      "cell_type": "code",
      "execution_count": 168,
      "metadata": {},
      "outputs": [
        {
          "data": {
            "text/plain": [
              "[[{'source': 'Abanoonyiboobubudamu bonna baasabiddwa beewandiise ewa ssentebe.',\n",
              "   'target': 'All refugees were requested to register with the chairman.'}],\n",
              " [{'source': \"Baayise olukungaana lw'abanoonyiboobubudamu eggulo.\",\n",
              "   'target': \"They called for a refugees' meeting yesterday.\"}],\n",
              " [{'source': \"Abanoonyiboobubudamu b'abadde n'obutakkaanya wakati waabwe.\",\n",
              "   'target': 'Refugees had misunderstandings between   themselves.'}],\n",
              " [{'source': 'Twakubirizibwa okwaniriza abanoonyiboobubudamu mu bitundu byaffe.',\n",
              "   'target': 'We were urged to welcome refugees into our communities.'}],\n",
              " [{'source': 'Bwe tukolera awamu enkulaakulana enyingi efunibwa.',\n",
              "   'target': 'More development is achieved when we work together.'}]]"
            ]
          },
          "execution_count": 168,
          "metadata": {},
          "output_type": "execute_result"
        }
      ],
      "source": [
        "ai4d = []\n",
        "for i in range(len(ai4d_df)):\n",
        "  ai4d.append(training_examples_from_sentence(ai4d_df.loc[i]))\n",
        "\n",
        "ai4d[:5]"
      ]
    },
    {
      "cell_type": "code",
      "execution_count": 169,
      "metadata": {},
      "outputs": [
        {
          "data": {
            "text/html": [
              "<div>\n",
              "<style scoped>\n",
              "    .dataframe tbody tr th:only-of-type {\n",
              "        vertical-align: middle;\n",
              "    }\n",
              "\n",
              "    .dataframe tbody tr th {\n",
              "        vertical-align: top;\n",
              "    }\n",
              "\n",
              "    .dataframe thead th {\n",
              "        text-align: right;\n",
              "    }\n",
              "</style>\n",
              "<table border=\"1\" class=\"dataframe\">\n",
              "  <thead>\n",
              "    <tr style=\"text-align: right;\">\n",
              "      <th></th>\n",
              "      <th>source</th>\n",
              "      <th>target</th>\n",
              "    </tr>\n",
              "  </thead>\n",
              "  <tbody>\n",
              "    <tr>\n",
              "      <th>0</th>\n",
              "      <td>Abanoonyiboobubudamu bonna baasabiddwa beewand...</td>\n",
              "      <td>All refugees were requested to register with t...</td>\n",
              "    </tr>\n",
              "    <tr>\n",
              "      <th>1</th>\n",
              "      <td>Baayise olukungaana lw'abanoonyiboobubudamu eg...</td>\n",
              "      <td>They called for a refugees' meeting yesterday.</td>\n",
              "    </tr>\n",
              "    <tr>\n",
              "      <th>2</th>\n",
              "      <td>Abanoonyiboobubudamu b'abadde n'obutakkaanya w...</td>\n",
              "      <td>Refugees had misunderstandings between   thems...</td>\n",
              "    </tr>\n",
              "    <tr>\n",
              "      <th>3</th>\n",
              "      <td>Twakubirizibwa okwaniriza abanoonyiboobubudamu...</td>\n",
              "      <td>We were urged to welcome refugees into our com...</td>\n",
              "    </tr>\n",
              "    <tr>\n",
              "      <th>4</th>\n",
              "      <td>Bwe tukolera awamu enkulaakulana enyingi efuni...</td>\n",
              "      <td>More development is achieved when we work toge...</td>\n",
              "    </tr>\n",
              "  </tbody>\n",
              "</table>\n",
              "</div>"
            ],
            "text/plain": [
              "                                              source  \\\n",
              "0  Abanoonyiboobubudamu bonna baasabiddwa beewand...   \n",
              "1  Baayise olukungaana lw'abanoonyiboobubudamu eg...   \n",
              "2  Abanoonyiboobubudamu b'abadde n'obutakkaanya w...   \n",
              "3  Twakubirizibwa okwaniriza abanoonyiboobubudamu...   \n",
              "4  Bwe tukolera awamu enkulaakulana enyingi efuni...   \n",
              "\n",
              "                                              target  \n",
              "0  All refugees were requested to register with t...  \n",
              "1     They called for a refugees' meeting yesterday.  \n",
              "2  Refugees had misunderstandings between   thems...  \n",
              "3  We were urged to welcome refugees into our com...  \n",
              "4  More development is achieved when we work toge...  "
            ]
          },
          "execution_count": 169,
          "metadata": {},
          "output_type": "execute_result"
        }
      ],
      "source": [
        "ai4d_dataset = pd.DataFrame(list(chain.from_iterable(ai4d)))\n",
        "ai4d_dataset.head()"
      ]
    },
    {
      "cell_type": "code",
      "execution_count": 170,
      "metadata": {},
      "outputs": [],
      "source": [
        "ai4d_dataset[[\"source\"]].to_csv(r'train_ai4d.src', header=None, index=None, sep='\\t', mode='a')\n",
        "ai4d_dataset[[\"target\"]].to_csv(r'train_ai4d.tgt', header=None, index=None, sep='\\t', mode='a')"
      ]
    },
    {
      "cell_type": "markdown",
      "metadata": {},
      "source": [
        "#### Application to the Flores 101 dataset"
      ]
    },
    {
      "cell_type": "code",
      "execution_count": 171,
      "metadata": {},
      "outputs": [
        {
          "data": {
            "text/html": [
              "<div>\n",
              "<style scoped>\n",
              "    .dataframe tbody tr th:only-of-type {\n",
              "        vertical-align: middle;\n",
              "    }\n",
              "\n",
              "    .dataframe tbody tr th {\n",
              "        vertical-align: top;\n",
              "    }\n",
              "\n",
              "    .dataframe thead th {\n",
              "        text-align: right;\n",
              "    }\n",
              "</style>\n",
              "<table border=\"1\" class=\"dataframe\">\n",
              "  <thead>\n",
              "    <tr style=\"text-align: right;\">\n",
              "      <th></th>\n",
              "      <th>lug</th>\n",
              "      <th>luo</th>\n",
              "      <th>eng</th>\n",
              "    </tr>\n",
              "  </thead>\n",
              "  <tbody>\n",
              "    <tr>\n",
              "      <th>0</th>\n",
              "      <td>Ku balaza, Banasayansi okuva mu setendekero ya...</td>\n",
              "      <td>Chieng' Wuoktich, josayans mawuok e Mbalariany...</td>\n",
              "      <td>On Monday, scientists from the Stanford Univer...</td>\n",
              "    </tr>\n",
              "    <tr>\n",
              "      <th>1</th>\n",
              "      <td>Abakulira abanoonyereza bagamba nti kino kijak...</td>\n",
              "      <td>Jononro motelo wachoni ma nyalo kelo fweny mac...</td>\n",
              "      <td>Lead researchers say this may bring early dete...</td>\n",
              "    </tr>\n",
              "    <tr>\n",
              "      <th>2</th>\n",
              "      <td>Aba JAS 39C Gripen basasanila mu luguudo ku sa...</td>\n",
              "      <td>Ndegeno mar JAS 39C Gripen ne ogore piny e nda...</td>\n",
              "      <td>The JAS 39C Gripen crashed onto a runway at ar...</td>\n",
              "    </tr>\n",
              "    <tr>\n",
              "      <th>3</th>\n",
              "      <td>Omuvuzi wenyonyi yategerekeka nga omukulembeze...</td>\n",
              "      <td>Jariemb ndegeno noyangi kaka Squadron Dilokrit...</td>\n",
              "      <td>The pilot was identified as Squadron Leader Di...</td>\n",
              "    </tr>\n",
              "    <tr>\n",
              "      <th>4</th>\n",
              "      <td>Amawulire agakuno galaga ekimotoka kyomuliro e...</td>\n",
              "      <td>Ute fwambo ma alwora no golo ripot ni gach neg...</td>\n",
              "      <td>Local media reports an airport fire vehicle ro...</td>\n",
              "    </tr>\n",
              "  </tbody>\n",
              "</table>\n",
              "</div>"
            ],
            "text/plain": [
              "                                                 lug  \\\n",
              "0  Ku balaza, Banasayansi okuva mu setendekero ya...   \n",
              "1  Abakulira abanoonyereza bagamba nti kino kijak...   \n",
              "2  Aba JAS 39C Gripen basasanila mu luguudo ku sa...   \n",
              "3  Omuvuzi wenyonyi yategerekeka nga omukulembeze...   \n",
              "4  Amawulire agakuno galaga ekimotoka kyomuliro e...   \n",
              "\n",
              "                                                 luo  \\\n",
              "0  Chieng' Wuoktich, josayans mawuok e Mbalariany...   \n",
              "1  Jononro motelo wachoni ma nyalo kelo fweny mac...   \n",
              "2  Ndegeno mar JAS 39C Gripen ne ogore piny e nda...   \n",
              "3  Jariemb ndegeno noyangi kaka Squadron Dilokrit...   \n",
              "4  Ute fwambo ma alwora no golo ripot ni gach neg...   \n",
              "\n",
              "                                                 eng  \n",
              "0  On Monday, scientists from the Stanford Univer...  \n",
              "1  Lead researchers say this may bring early dete...  \n",
              "2  The JAS 39C Gripen crashed onto a runway at ar...  \n",
              "3  The pilot was identified as Squadron Leader Di...  \n",
              "4  Local media reports an airport fire vehicle ro...  "
            ]
          },
          "execution_count": 171,
          "metadata": {},
          "output_type": "execute_result"
        }
      ],
      "source": [
        "flores_df = pd.read_csv(\"flores101.csv\")\n",
        "flores_df.head()"
      ]
    },
    {
      "cell_type": "code",
      "execution_count": 172,
      "metadata": {},
      "outputs": [
        {
          "data": {
            "text/plain": [
              "Index(['Luganda', 'Luo', 'English'], dtype='object')"
            ]
          },
          "execution_count": 172,
          "metadata": {},
          "output_type": "execute_result"
        }
      ],
      "source": [
        "flores_df.rename(columns={\"eng\": \"English\", \"lug\": \"Luganda\", \"luo\": \"Luo\"}, inplace=True)\n",
        "flores_df.columns"
      ]
    },
    {
      "cell_type": "code",
      "execution_count": 173,
      "metadata": {},
      "outputs": [
        {
          "data": {
            "text/plain": [
              "[[{'source': \"Chieng' Wuoktich, josayans mawuok e Mbalariany mar Stanford e Skul mar Thieth nolando ni negifwenyo gimanyien mitiyogo e nono tuoche ma nyalo pogo ng'injo mag del kaluwore kod kitgi: en chip moro matin ma inyalo go chapa gi printa ma bende inyalo losi kitiyo kod printa mapile mag inkjet kwom manyalo romo otonglo achiel mar Amerka e moro ka moro.\",\n",
              "   'target': 'On Monday, scientists from the Stanford University School of Medicine announced the invention of a new diagnostic tool that can sort cells by type: a tiny printable chip that can be manufactured using standard inkjet printers for possibly about one U.S. cent each.'},\n",
              "  {'source': \"Ku balaza, Banasayansi okuva mu setendekero ya Stanford ku somero ly'ebyedagala balangirira okuvumbulwa kwa akuuma akakebera nga kasobola okusengeka obutafaali nga kasinzira kukika kyabwo: Akuuma katono akasobola okufulumizibwa ku lupapula akasobola okukolebwa ne Printa enungi ku sente entono nga emu eya US buli kamu.\",\n",
              "   'target': 'On Monday, scientists from the Stanford University School of Medicine announced the invention of a new diagnostic tool that can sort cells by type: a tiny printable chip that can be manufactured using standard inkjet printers for possibly about one U.S. cent each.'}],\n",
              " [{'source': 'Jononro motelo wachoni ma nyalo kelo fweny machon mag tuoche kaka kansa, tibi, ayaki, gi maleria ne jotuo manie epinje ma yutogi tin, kama kuo mar tuo kaka kansa mar thuno, nyalo bedo nus ne mar pinje man-gi yuto man malo.',\n",
              "   'target': 'Lead researchers say this may bring early detection of cancer, tuberculosis, HIV and malaria to patients in low-income countries, where the survival rates for illnesses such as breast cancer can be half those of richer countries.'},\n",
              "  {'source': 'Abakulira abanoonyereza bagamba nti kino kijakuleetawo okukeberwa amangu endwadde nga kookolo, akafuba, sirimu n’omusuja mu balwadde munsi eziteesobola, eyo okuwona endwadde nga kokoolo wamabeere kutono ddala okusinga munsi engaga.',\n",
              "   'target': 'Lead researchers say this may bring early detection of cancer, tuberculosis, HIV and malaria to patients in low-income countries, where the survival rates for illnesses such as breast cancer can be half those of richer countries.'}],\n",
              " [{'source': 'Ndegeno mar JAS 39C Gripen ne ogore piny e ndach piyo gi wuok mar ndeke e kar saa 9:30 okinyi seche mag aluorano (0230 UTC) kendo ne omuoch mach, ma ne omiyo olor pawno ne ndeke mamoko mag jowuoth.',\n",
              "   'target': 'The JAS 39C Gripen crashed onto a runway at around 9:30 am local time (0230 UTC) and exploded, closing the airport to commercial flights.'},\n",
              "  {'source': 'Aba JAS 39C Gripen basasanila mu luguudo ku saawa nga 9:30 ezokumakya ezawano (0230 UTC) ne byaabika, okugala ekisaawe ky’enyonyi ku kutambuza kwebyamaguzi.',\n",
              "   'target': 'The JAS 39C Gripen crashed onto a runway at around 9:30 am local time (0230 UTC) and exploded, closing the airport to commercial flights.'}],\n",
              " [{'source': 'Jariemb ndegeno noyangi kaka Squadron Dilokrit Puttavee.',\n",
              "   'target': 'The pilot was identified as Squadron Leader Dilokrit Pattavee.'},\n",
              "  {'source': 'Omuvuzi wenyonyi yategerekeka nga omukulembeze wa Squadron Dilokrit',\n",
              "   'target': 'The pilot was identified as Squadron Leader Dilokrit Pattavee.'}],\n",
              " [{'source': \"Ute fwambo ma alwora no golo ripot ni gach nego mach mar paw ndeke no bende ne ong'ielore piny e seche mane okonyo e masira no.\",\n",
              "   'target': 'Local media reports an airport fire vehicle rolled over while responding.'},\n",
              "  {'source': 'Amawulire agakuno galaga ekimotoka kyomuliro ekyevulungudde nga kiduukilira.',\n",
              "   'target': 'Local media reports an airport fire vehicle rolled over while responding.'}]]"
            ]
          },
          "execution_count": 173,
          "metadata": {},
          "output_type": "execute_result"
        }
      ],
      "source": [
        "flores = []\n",
        "for i in range(len(flores_df)):\n",
        "  flores.append(training_examples_from_sentence(flores_df.loc[i]))\n",
        "\n",
        "flores[:5]"
      ]
    },
    {
      "cell_type": "code",
      "execution_count": 174,
      "metadata": {},
      "outputs": [
        {
          "data": {
            "text/html": [
              "<div>\n",
              "<style scoped>\n",
              "    .dataframe tbody tr th:only-of-type {\n",
              "        vertical-align: middle;\n",
              "    }\n",
              "\n",
              "    .dataframe tbody tr th {\n",
              "        vertical-align: top;\n",
              "    }\n",
              "\n",
              "    .dataframe thead th {\n",
              "        text-align: right;\n",
              "    }\n",
              "</style>\n",
              "<table border=\"1\" class=\"dataframe\">\n",
              "  <thead>\n",
              "    <tr style=\"text-align: right;\">\n",
              "      <th></th>\n",
              "      <th>source</th>\n",
              "      <th>target</th>\n",
              "    </tr>\n",
              "  </thead>\n",
              "  <tbody>\n",
              "    <tr>\n",
              "      <th>0</th>\n",
              "      <td>Chieng' Wuoktich, josayans mawuok e Mbalariany...</td>\n",
              "      <td>On Monday, scientists from the Stanford Univer...</td>\n",
              "    </tr>\n",
              "    <tr>\n",
              "      <th>1</th>\n",
              "      <td>Ku balaza, Banasayansi okuva mu setendekero ya...</td>\n",
              "      <td>On Monday, scientists from the Stanford Univer...</td>\n",
              "    </tr>\n",
              "    <tr>\n",
              "      <th>2</th>\n",
              "      <td>Jononro motelo wachoni ma nyalo kelo fweny mac...</td>\n",
              "      <td>Lead researchers say this may bring early dete...</td>\n",
              "    </tr>\n",
              "    <tr>\n",
              "      <th>3</th>\n",
              "      <td>Abakulira abanoonyereza bagamba nti kino kijak...</td>\n",
              "      <td>Lead researchers say this may bring early dete...</td>\n",
              "    </tr>\n",
              "    <tr>\n",
              "      <th>4</th>\n",
              "      <td>Ndegeno mar JAS 39C Gripen ne ogore piny e nda...</td>\n",
              "      <td>The JAS 39C Gripen crashed onto a runway at ar...</td>\n",
              "    </tr>\n",
              "    <tr>\n",
              "      <th>5</th>\n",
              "      <td>Aba JAS 39C Gripen basasanila mu luguudo ku sa...</td>\n",
              "      <td>The JAS 39C Gripen crashed onto a runway at ar...</td>\n",
              "    </tr>\n",
              "    <tr>\n",
              "      <th>6</th>\n",
              "      <td>Jariemb ndegeno noyangi kaka Squadron Dilokrit...</td>\n",
              "      <td>The pilot was identified as Squadron Leader Di...</td>\n",
              "    </tr>\n",
              "    <tr>\n",
              "      <th>7</th>\n",
              "      <td>Omuvuzi wenyonyi yategerekeka nga omukulembeze...</td>\n",
              "      <td>The pilot was identified as Squadron Leader Di...</td>\n",
              "    </tr>\n",
              "  </tbody>\n",
              "</table>\n",
              "</div>"
            ],
            "text/plain": [
              "                                              source  \\\n",
              "0  Chieng' Wuoktich, josayans mawuok e Mbalariany...   \n",
              "1  Ku balaza, Banasayansi okuva mu setendekero ya...   \n",
              "2  Jononro motelo wachoni ma nyalo kelo fweny mac...   \n",
              "3  Abakulira abanoonyereza bagamba nti kino kijak...   \n",
              "4  Ndegeno mar JAS 39C Gripen ne ogore piny e nda...   \n",
              "5  Aba JAS 39C Gripen basasanila mu luguudo ku sa...   \n",
              "6  Jariemb ndegeno noyangi kaka Squadron Dilokrit...   \n",
              "7  Omuvuzi wenyonyi yategerekeka nga omukulembeze...   \n",
              "\n",
              "                                              target  \n",
              "0  On Monday, scientists from the Stanford Univer...  \n",
              "1  On Monday, scientists from the Stanford Univer...  \n",
              "2  Lead researchers say this may bring early dete...  \n",
              "3  Lead researchers say this may bring early dete...  \n",
              "4  The JAS 39C Gripen crashed onto a runway at ar...  \n",
              "5  The JAS 39C Gripen crashed onto a runway at ar...  \n",
              "6  The pilot was identified as Squadron Leader Di...  \n",
              "7  The pilot was identified as Squadron Leader Di...  "
            ]
          },
          "execution_count": 174,
          "metadata": {},
          "output_type": "execute_result"
        }
      ],
      "source": [
        "flores_dataset = pd.DataFrame(list(chain.from_iterable(flores)))\n",
        "flores_dataset.head(8)"
      ]
    },
    {
      "cell_type": "code",
      "execution_count": 175,
      "metadata": {},
      "outputs": [],
      "source": [
        "flores_dataset[[\"source\"]].to_csv(r'train_flores.src', header=None, index=None, sep='\\t', mode='a')\n",
        "flores_dataset[[\"target\"]].to_csv(r'train_flores.tgt', header=None, index=None, sep='\\t', mode='a')"
      ]
    },
    {
      "cell_type": "markdown",
      "metadata": {},
      "source": [
        "#### Appliction to the MT560 dataset"
      ]
    },
    {
      "cell_type": "code",
      "execution_count": 179,
      "metadata": {},
      "outputs": [
        {
          "data": {
            "text/html": [
              "<div>\n",
              "<style scoped>\n",
              "    .dataframe tbody tr th:only-of-type {\n",
              "        vertical-align: middle;\n",
              "    }\n",
              "\n",
              "    .dataframe tbody tr th {\n",
              "        vertical-align: top;\n",
              "    }\n",
              "\n",
              "    .dataframe thead th {\n",
              "        text-align: right;\n",
              "    }\n",
              "</style>\n",
              "<table border=\"1\" class=\"dataframe\">\n",
              "  <thead>\n",
              "    <tr style=\"text-align: right;\">\n",
              "      <th></th>\n",
              "      <th>source</th>\n",
              "      <th>english</th>\n",
              "      <th>source_language</th>\n",
              "    </tr>\n",
              "  </thead>\n",
              "  <tbody>\n",
              "    <tr>\n",
              "      <th>0</th>\n",
              "      <td>Beduru gi Kuwe kod Ji Duto</td>\n",
              "      <td>Adam and Eve - Were They Real People?</td>\n",
              "      <td>luo</td>\n",
              "    </tr>\n",
              "    <tr>\n",
              "      <th>1</th>\n",
              "      <td>Hera umo richo mogundho.</td>\n",
              "      <td>In fact, \"love covers a multitude of sins.\"</td>\n",
              "      <td>luo</td>\n",
              "    </tr>\n",
              "    <tr>\n",
              "      <th>2</th>\n",
              "      <td>I mwaka me apar wiye angwen me loc pa kabaka K...</td>\n",
              "      <td>In the fourteenth year of King Hezekiah, Senna...</td>\n",
              "      <td>ach</td>\n",
              "    </tr>\n",
              "    <tr>\n",
              "      <th>3</th>\n",
              "      <td>Muliraanwa wange y'ani?</td>\n",
              "      <td>Who really is my neighbor?</td>\n",
              "      <td>lug</td>\n",
              "    </tr>\n",
              "    <tr>\n",
              "      <th>4</th>\n",
              "      <td>Notego wang'e kuom pokne.</td>\n",
              "      <td>He \"looked intently toward the payment of the ...</td>\n",
              "      <td>luo</td>\n",
              "    </tr>\n",
              "    <tr>\n",
              "      <th>5</th>\n",
              "      <td>Okuva mu Nnimi Zonna</td>\n",
              "      <td>Out of All the Languages</td>\n",
              "      <td>lug</td>\n",
              "    </tr>\n",
              "    <tr>\n",
              "      <th>6</th>\n",
              "      <td>Omiyo wang 'chieng' mare wuok ni jo maricho ko...</td>\n",
              "      <td>He makes his sun rise upon wicked people and g...</td>\n",
              "      <td>luo</td>\n",
              "    </tr>\n",
              "    <tr>\n",
              "      <th>7</th>\n",
              "      <td>Yakuwa Ayagala Obwenkanya</td>\n",
              "      <td>Jehovah Is a Lover of Justice</td>\n",
              "      <td>lug</td>\n",
              "    </tr>\n",
              "    <tr>\n",
              "      <th>8</th>\n",
              "      <td>Yoleka Obwenkanya ng'Okola ku Nsonga Zange</td>\n",
              "      <td>See That I Get Justice</td>\n",
              "      <td>lug</td>\n",
              "    </tr>\n",
              "    <tr>\n",
              "      <th>9</th>\n",
              "      <td>\"Akamwa kange kanaayogera amagezi; n'omutima g...</td>\n",
              "      <td>\"The meditation of my heart will be of things ...</td>\n",
              "      <td>lug</td>\n",
              "    </tr>\n",
              "  </tbody>\n",
              "</table>\n",
              "</div>"
            ],
            "text/plain": [
              "                                              source  \\\n",
              "0                         Beduru gi Kuwe kod Ji Duto   \n",
              "1                           Hera umo richo mogundho.   \n",
              "2  I mwaka me apar wiye angwen me loc pa kabaka K...   \n",
              "3                            Muliraanwa wange y'ani?   \n",
              "4                          Notego wang'e kuom pokne.   \n",
              "5                               Okuva mu Nnimi Zonna   \n",
              "6  Omiyo wang 'chieng' mare wuok ni jo maricho ko...   \n",
              "7                          Yakuwa Ayagala Obwenkanya   \n",
              "8         Yoleka Obwenkanya ng'Okola ku Nsonga Zange   \n",
              "9  \"Akamwa kange kanaayogera amagezi; n'omutima g...   \n",
              "\n",
              "                                             english source_language  \n",
              "0              Adam and Eve - Were They Real People?             luo  \n",
              "1        In fact, \"love covers a multitude of sins.\"             luo  \n",
              "2  In the fourteenth year of King Hezekiah, Senna...             ach  \n",
              "3                         Who really is my neighbor?             lug  \n",
              "4  He \"looked intently toward the payment of the ...             luo  \n",
              "5                           Out of All the Languages             lug  \n",
              "6  He makes his sun rise upon wicked people and g...             luo  \n",
              "7                      Jehovah Is a Lover of Justice             lug  \n",
              "8                             See That I Get Justice             lug  \n",
              "9  \"The meditation of my heart will be of things ...             lug  "
            ]
          },
          "execution_count": 179,
          "metadata": {},
          "output_type": "execute_result"
        }
      ],
      "source": [
        "mt560_df = pd.read_csv(\"mt560.csv\")\n",
        "mt560_df.head(10)"
      ]
    },
    {
      "cell_type": "code",
      "execution_count": 176,
      "metadata": {},
      "outputs": [
        {
          "data": {
            "text/plain": [
              "array(['luo', 'ach', 'lug', 'nyn'], dtype=object)"
            ]
          },
          "execution_count": 176,
          "metadata": {},
          "output_type": "execute_result"
        }
      ],
      "source": [
        "mt560_df[\"source_language\"].unique()"
      ]
    },
    {
      "cell_type": "code",
      "execution_count": 181,
      "metadata": {},
      "outputs": [
        {
          "data": {
            "text/html": [
              "<div>\n",
              "<style scoped>\n",
              "    .dataframe tbody tr th:only-of-type {\n",
              "        vertical-align: middle;\n",
              "    }\n",
              "\n",
              "    .dataframe tbody tr th {\n",
              "        vertical-align: top;\n",
              "    }\n",
              "\n",
              "    .dataframe thead th {\n",
              "        text-align: right;\n",
              "    }\n",
              "</style>\n",
              "<table border=\"1\" class=\"dataframe\">\n",
              "  <thead>\n",
              "    <tr style=\"text-align: right;\">\n",
              "      <th></th>\n",
              "      <th>source</th>\n",
              "      <th>target</th>\n",
              "    </tr>\n",
              "  </thead>\n",
              "  <tbody>\n",
              "    <tr>\n",
              "      <th>0</th>\n",
              "      <td>Beduru gi Kuwe kod Ji Duto</td>\n",
              "      <td>Adam and Eve - Were They Real People?</td>\n",
              "    </tr>\n",
              "    <tr>\n",
              "      <th>1</th>\n",
              "      <td>Hera umo richo mogundho.</td>\n",
              "      <td>In fact, \"love covers a multitude of sins.\"</td>\n",
              "    </tr>\n",
              "    <tr>\n",
              "      <th>2</th>\n",
              "      <td>I mwaka me apar wiye angwen me loc pa kabaka K...</td>\n",
              "      <td>In the fourteenth year of King Hezekiah, Senna...</td>\n",
              "    </tr>\n",
              "    <tr>\n",
              "      <th>3</th>\n",
              "      <td>Muliraanwa wange y'ani?</td>\n",
              "      <td>Who really is my neighbor?</td>\n",
              "    </tr>\n",
              "    <tr>\n",
              "      <th>4</th>\n",
              "      <td>Notego wang'e kuom pokne.</td>\n",
              "      <td>He \"looked intently toward the payment of the ...</td>\n",
              "    </tr>\n",
              "  </tbody>\n",
              "</table>\n",
              "</div>"
            ],
            "text/plain": [
              "                                              source  \\\n",
              "0                         Beduru gi Kuwe kod Ji Duto   \n",
              "1                           Hera umo richo mogundho.   \n",
              "2  I mwaka me apar wiye angwen me loc pa kabaka K...   \n",
              "3                            Muliraanwa wange y'ani?   \n",
              "4                          Notego wang'e kuom pokne.   \n",
              "\n",
              "                                              target  \n",
              "0              Adam and Eve - Were They Real People?  \n",
              "1        In fact, \"love covers a multitude of sins.\"  \n",
              "2  In the fourteenth year of King Hezekiah, Senna...  \n",
              "3                         Who really is my neighbor?  \n",
              "4  He \"looked intently toward the payment of the ...  "
            ]
          },
          "execution_count": 181,
          "metadata": {},
          "output_type": "execute_result"
        }
      ],
      "source": [
        "mt560_df.drop(columns=\"source_language\", inplace=True)\n",
        "mt560_df.rename(columns={\"english\": \"target\"}, inplace=True)\n",
        "mt560_df.head()"
      ]
    },
    {
      "cell_type": "code",
      "execution_count": 182,
      "metadata": {},
      "outputs": [],
      "source": [
        "mt560_df[[\"source\"]].to_csv(r'train_mt560.src', header=None, index=None, sep='\\t', mode='a')\n",
        "mt560_df[[\"target\"]].to_csv(r'train_mt560.tgt', header=None, index=None, sep='\\t', mode='a')"
      ]
    },
    {
      "cell_type": "markdown",
      "metadata": {},
      "source": [
        "### Putting the dataset together"
      ]
    },
    {
      "cell_type": "markdown",
      "metadata": {
        "id": "nN25UQKVPT8X"
      },
      "source": [
        "**Create initial dataset folder and add dataset files**\n"
      ]
    },
    {
      "cell_type": "code",
      "execution_count": 187,
      "metadata": {
        "id": "P3sbBBxXPT-x"
      },
      "outputs": [
        {
          "name": "stdout",
          "output_type": "stream",
          "text": [
            "mkdir: multilingual-dataset: File exists\n"
          ]
        }
      ],
      "source": [
        "!mkdir multilingual-dataset\n"
      ]
    },
    {
      "cell_type": "code",
      "execution_count": 188,
      "metadata": {
        "id": "Q9smZG9_PUCW"
      },
      "outputs": [
        {
          "name": "stdout",
          "output_type": "stream",
          "text": [
            "zsh:1: no matches found: *.src\n"
          ]
        }
      ],
      "source": [
        "!mv {*.src,*.tgt} multilingual-dataset"
      ]
    },
    {
      "cell_type": "code",
      "execution_count": 189,
      "metadata": {},
      "outputs": [
        {
          "name": "stdout",
          "output_type": "stream",
          "text": [
            "eng.tgt          train.src        train_flores.src val.src\n",
            "other.src        train.tgt        train_flores.tgt val.tgt\n",
            "test.src         train_ai4d.src   train_mt560.src\n",
            "test.tgt         train_ai4d.tgt   train_mt560.tgt\n"
          ]
        }
      ],
      "source": [
        "!ls multilingual-dataset/"
      ]
    },
    {
      "cell_type": "markdown",
      "metadata": {
        "id": "HLzptIAHUH2R"
      },
      "source": [
        "**Update dataset folder structure and create archive**\n"
      ]
    },
    {
      "cell_type": "code",
      "execution_count": 194,
      "metadata": {
        "id": "Rj75Lo6YUH7F"
      },
      "outputs": [],
      "source": [
        "!mkdir -p v7-dataset/v7.0/supervised/mul-en"
      ]
    },
    {
      "cell_type": "code",
      "execution_count": 195,
      "metadata": {
        "colab": {
          "base_uri": "https://localhost:8080/"
        },
        "id": "m6M0pwk2UH-M",
        "outputId": "22efb854-ee65-425e-8ff9-7d49a93d3776"
      },
      "outputs": [
        {
          "name": "stdout",
          "output_type": "stream",
          "text": [
            "multilingual-dataset/other.src -> v7-dataset/v7.0/supervised/mul-en/other.src\n",
            "multilingual-dataset/test.src -> v7-dataset/v7.0/supervised/mul-en/test.src\n",
            "multilingual-dataset/train.src -> v7-dataset/v7.0/supervised/mul-en/train.src\n",
            "multilingual-dataset/train_ai4d.src -> v7-dataset/v7.0/supervised/mul-en/train_ai4d.src\n",
            "multilingual-dataset/train_flores.src -> v7-dataset/v7.0/supervised/mul-en/train_flores.src\n",
            "multilingual-dataset/train_mt560.src -> v7-dataset/v7.0/supervised/mul-en/train_mt560.src\n",
            "multilingual-dataset/val.src -> v7-dataset/v7.0/supervised/mul-en/val.src\n",
            "multilingual-dataset/eng.tgt -> v7-dataset/v7.0/supervised/mul-en/eng.tgt\n",
            "multilingual-dataset/test.tgt -> v7-dataset/v7.0/supervised/mul-en/test.tgt\n",
            "multilingual-dataset/train.tgt -> v7-dataset/v7.0/supervised/mul-en/train.tgt\n",
            "multilingual-dataset/train_ai4d.tgt -> v7-dataset/v7.0/supervised/mul-en/train_ai4d.tgt\n",
            "multilingual-dataset/train_flores.tgt -> v7-dataset/v7.0/supervised/mul-en/train_flores.tgt\n",
            "multilingual-dataset/train_mt560.tgt -> v7-dataset/v7.0/supervised/mul-en/train_mt560.tgt\n",
            "multilingual-dataset/val.tgt -> v7-dataset/v7.0/supervised/mul-en/val.tgt\n"
          ]
        }
      ],
      "source": [
        "!cp -v multilingual-dataset/*.{src,tgt} v7-dataset/v7.0/supervised/mul-en"
      ]
    },
    {
      "cell_type": "code",
      "execution_count": 196,
      "metadata": {
        "colab": {
          "base_uri": "https://localhost:8080/"
        },
        "id": "78hrzaHvVcFZ",
        "outputId": "0ac75a1f-0317-483a-b396-2c591f8c617d"
      },
      "outputs": [
        {
          "name": "stdout",
          "output_type": "stream",
          "text": [
            "  adding: v7-dataset/ (stored 0%)\n",
            "  adding: v7-dataset/v7.0/ (stored 0%)\n",
            "  adding: v7-dataset/v7.0/supervised/ (stored 0%)\n",
            "  adding: v7-dataset/v7.0/supervised/mul-en/ (stored 0%)\n",
            "  adding: v7-dataset/v7.0/supervised/mul-en/train.tgt (deflated 64%)\n",
            "  adding: v7-dataset/v7.0/supervised/mul-en/test.src (deflated 58%)\n",
            "  adding: v7-dataset/v7.0/supervised/mul-en/val.src (deflated 58%)\n",
            "  adding: v7-dataset/v7.0/supervised/mul-en/other.src (deflated 63%)\n",
            "  adding: v7-dataset/v7.0/supervised/mul-en/train_mt560.tgt (deflated 61%)\n",
            "  adding: v7-dataset/v7.0/supervised/mul-en/train_ai4d.src (deflated 69%)\n",
            "  adding: v7-dataset/v7.0/supervised/mul-en/train_flores.src (deflated 59%)\n",
            "  adding: v7-dataset/v7.0/supervised/mul-en/eng.tgt (deflated 91%)\n",
            "  adding: v7-dataset/v7.0/supervised/mul-en/val.tgt (deflated 64%)\n",
            "  adding: v7-dataset/v7.0/supervised/mul-en/test.tgt (deflated 64%)\n",
            "  adding: v7-dataset/v7.0/supervised/mul-en/train.src (deflated 58%)\n",
            "  adding: v7-dataset/v7.0/supervised/mul-en/train_mt560.src (deflated 60%)\n",
            "  adding: v7-dataset/v7.0/supervised/mul-en/train_ai4d.tgt (deflated 67%)\n",
            "  adding: v7-dataset/v7.0/supervised/mul-en/train_flores.tgt (deflated 77%)\n"
          ]
        }
      ],
      "source": [
        "# Zip Directory\n",
        "!zip -r v7-dataset.zip v7-dataset/"
      ]
    },
    {
      "cell_type": "markdown",
      "metadata": {},
      "source": [
        "### Part 2: Create English to all languages dataset (en-mul)"
      ]
    },
    {
      "cell_type": "code",
      "execution_count": 29,
      "metadata": {
        "id": "VURBQuXtII2c"
      },
      "outputs": [],
      "source": [
        "# Multi-lingual case: generate all examples of source and target language\n",
        "def training_examples_from_sentence(translated_sentence):\n",
        "\n",
        "  languages = set(translated_sentence.keys())\n",
        "\n",
        "  if len(languages) < 2:\n",
        "    raise ValueError(\"There must be at least two different languages, \"\n",
        "                     f\"found {languages})\")\n",
        "\n",
        "  training_examples = []\n",
        "  for target_language in languages:\n",
        "\n",
        "    source_languages = languages.copy()\n",
        "    source_languages.remove(target_language)\n",
        "\n",
        "    for source_language in source_languages:\n",
        "      source_text = (f\"<to_{target_language}> \"\n",
        "                     f\"{translated_sentence[source_language]}\")\n",
        "      target_text = translated_sentence[target_language]\n",
        "\n",
        "      training_examples.append({'source': source_text, \n",
        "                                'target': target_text})\n",
        "      \n",
        "  return training_examples"
      ]
    },
    {
      "cell_type": "code",
      "execution_count": 30,
      "metadata": {
        "colab": {
          "base_uri": "https://localhost:8080/"
        },
        "id": "m4jXurHfLjbe",
        "outputId": "8de7a2ee-f777-4387-c66f-0e57aec04dba"
      },
      "outputs": [
        {
          "data": {
            "text/plain": [
              "30"
            ]
          },
          "execution_count": 30,
          "metadata": {},
          "output_type": "execute_result"
        }
      ],
      "source": [
        "len(training_examples_from_sentence(translated_sentence))"
      ]
    },
    {
      "cell_type": "code",
      "execution_count": 31,
      "metadata": {
        "colab": {
          "base_uri": "https://localhost:8080/"
        },
        "id": "S0YDiO79LoWV",
        "outputId": "7ff92094-82d5-4829-f750-500df9b1019c"
      },
      "outputs": [
        {
          "data": {
            "text/plain": [
              "[{'source': '<to_Lugbara> Bilinyanya pol kare dongo maber ka lyeto tye',\n",
              "  'target': 'Birinyanya eyi zo kililiru ndeni angu driza ma alia.'},\n",
              " {'source': '<to_Lugbara> Epoloi ebirinyanyi ojok apakio nu emwanar akwap.',\n",
              "  'target': 'Birinyanya eyi zo kililiru ndeni angu driza ma alia.'},\n",
              " {'source': '<to_Lugbara> Bbiringanya lubeerera  asinga kukulira mu mbeera ya bugumu',\n",
              "  'target': 'Birinyanya eyi zo kililiru ndeni angu driza ma alia.'},\n",
              " {'source': '<to_Lugbara> Eggplants always grow best under warm conditions.',\n",
              "  'target': 'Birinyanya eyi zo kililiru ndeni angu driza ma alia.'},\n",
              " {'source': \"<to_Lugbara> Entonga buriijo zikurira omu mbeera y'obwire erikutagata\",\n",
              "  'target': 'Birinyanya eyi zo kililiru ndeni angu driza ma alia.'},\n",
              " {'source': '<to_Ateso> Birinyanya eyi zo kililiru ndeni angu driza ma alia.',\n",
              "  'target': 'Epoloi ebirinyanyi ojok apakio nu emwanar akwap.'},\n",
              " {'source': '<to_Ateso> Bilinyanya pol kare dongo maber ka lyeto tye',\n",
              "  'target': 'Epoloi ebirinyanyi ojok apakio nu emwanar akwap.'},\n",
              " {'source': '<to_Ateso> Bbiringanya lubeerera  asinga kukulira mu mbeera ya bugumu',\n",
              "  'target': 'Epoloi ebirinyanyi ojok apakio nu emwanar akwap.'},\n",
              " {'source': '<to_Ateso> Eggplants always grow best under warm conditions.',\n",
              "  'target': 'Epoloi ebirinyanyi ojok apakio nu emwanar akwap.'},\n",
              " {'source': \"<to_Ateso> Entonga buriijo zikurira omu mbeera y'obwire erikutagata\",\n",
              "  'target': 'Epoloi ebirinyanyi ojok apakio nu emwanar akwap.'},\n",
              " {'source': '<to_Luganda> Birinyanya eyi zo kililiru ndeni angu driza ma alia.',\n",
              "  'target': 'Bbiringanya lubeerera  asinga kukulira mu mbeera ya bugumu'},\n",
              " {'source': '<to_Luganda> Bilinyanya pol kare dongo maber ka lyeto tye',\n",
              "  'target': 'Bbiringanya lubeerera  asinga kukulira mu mbeera ya bugumu'},\n",
              " {'source': '<to_Luganda> Epoloi ebirinyanyi ojok apakio nu emwanar akwap.',\n",
              "  'target': 'Bbiringanya lubeerera  asinga kukulira mu mbeera ya bugumu'},\n",
              " {'source': '<to_Luganda> Eggplants always grow best under warm conditions.',\n",
              "  'target': 'Bbiringanya lubeerera  asinga kukulira mu mbeera ya bugumu'},\n",
              " {'source': \"<to_Luganda> Entonga buriijo zikurira omu mbeera y'obwire erikutagata\",\n",
              "  'target': 'Bbiringanya lubeerera  asinga kukulira mu mbeera ya bugumu'},\n",
              " {'source': '<to_English> Birinyanya eyi zo kililiru ndeni angu driza ma alia.',\n",
              "  'target': 'Eggplants always grow best under warm conditions.'},\n",
              " {'source': '<to_English> Bilinyanya pol kare dongo maber ka lyeto tye',\n",
              "  'target': 'Eggplants always grow best under warm conditions.'},\n",
              " {'source': '<to_English> Epoloi ebirinyanyi ojok apakio nu emwanar akwap.',\n",
              "  'target': 'Eggplants always grow best under warm conditions.'},\n",
              " {'source': '<to_English> Bbiringanya lubeerera  asinga kukulira mu mbeera ya bugumu',\n",
              "  'target': 'Eggplants always grow best under warm conditions.'},\n",
              " {'source': \"<to_English> Entonga buriijo zikurira omu mbeera y'obwire erikutagata\",\n",
              "  'target': 'Eggplants always grow best under warm conditions.'},\n",
              " {'source': '<to_Acholi> Birinyanya eyi zo kililiru ndeni angu driza ma alia.',\n",
              "  'target': 'Bilinyanya pol kare dongo maber ka lyeto tye'},\n",
              " {'source': '<to_Acholi> Epoloi ebirinyanyi ojok apakio nu emwanar akwap.',\n",
              "  'target': 'Bilinyanya pol kare dongo maber ka lyeto tye'},\n",
              " {'source': '<to_Acholi> Bbiringanya lubeerera  asinga kukulira mu mbeera ya bugumu',\n",
              "  'target': 'Bilinyanya pol kare dongo maber ka lyeto tye'},\n",
              " {'source': '<to_Acholi> Eggplants always grow best under warm conditions.',\n",
              "  'target': 'Bilinyanya pol kare dongo maber ka lyeto tye'},\n",
              " {'source': \"<to_Acholi> Entonga buriijo zikurira omu mbeera y'obwire erikutagata\",\n",
              "  'target': 'Bilinyanya pol kare dongo maber ka lyeto tye'},\n",
              " {'source': '<to_Runyankole> Birinyanya eyi zo kililiru ndeni angu driza ma alia.',\n",
              "  'target': \"Entonga buriijo zikurira omu mbeera y'obwire erikutagata\"},\n",
              " {'source': '<to_Runyankole> Bilinyanya pol kare dongo maber ka lyeto tye',\n",
              "  'target': \"Entonga buriijo zikurira omu mbeera y'obwire erikutagata\"},\n",
              " {'source': '<to_Runyankole> Epoloi ebirinyanyi ojok apakio nu emwanar akwap.',\n",
              "  'target': \"Entonga buriijo zikurira omu mbeera y'obwire erikutagata\"},\n",
              " {'source': '<to_Runyankole> Bbiringanya lubeerera  asinga kukulira mu mbeera ya bugumu',\n",
              "  'target': \"Entonga buriijo zikurira omu mbeera y'obwire erikutagata\"},\n",
              " {'source': '<to_Runyankole> Eggplants always grow best under warm conditions.',\n",
              "  'target': \"Entonga buriijo zikurira omu mbeera y'obwire erikutagata\"}]"
            ]
          },
          "execution_count": 31,
          "metadata": {},
          "output_type": "execute_result"
        }
      ],
      "source": [
        "training_examples_from_sentence(translated_sentence)"
      ]
    },
    {
      "cell_type": "code",
      "execution_count": 32,
      "metadata": {
        "id": "H_H4tV4mHpA_"
      },
      "outputs": [],
      "source": [
        "# Create all pairs from dataset\n",
        "\n",
        "m = []\n",
        "for i in range(len(df)):\n",
        "  m.append(training_examples_from_sentence(json.loads(data[i])))"
      ]
    },
    {
      "cell_type": "code",
      "execution_count": 33,
      "metadata": {
        "colab": {
          "base_uri": "https://localhost:8080/"
        },
        "id": "4pvSsLSDG6iu",
        "outputId": "339c253f-2f6d-4a68-f628-7ac335aa1242"
      },
      "outputs": [
        {
          "data": {
            "text/plain": [
              "[{'source': '<to_Lugbara> Bilinyanya pol kare dongo maber ka lyeto tye',\n",
              "  'target': 'Birinyanya eyi zo kililiru ndeni angu driza ma alia.'},\n",
              " {'source': '<to_Lugbara> Epoloi ebirinyanyi ojok apakio nu emwanar akwap.',\n",
              "  'target': 'Birinyanya eyi zo kililiru ndeni angu driza ma alia.'},\n",
              " {'source': '<to_Lugbara> Bbiringanya lubeerera  asinga kukulira mu mbeera ya bugumu',\n",
              "  'target': 'Birinyanya eyi zo kililiru ndeni angu driza ma alia.'},\n",
              " {'source': '<to_Lugbara> Eggplants always grow best under warm conditions.',\n",
              "  'target': 'Birinyanya eyi zo kililiru ndeni angu driza ma alia.'},\n",
              " {'source': \"<to_Lugbara> Entonga buriijo zikurira omu mbeera y'obwire erikutagata\",\n",
              "  'target': 'Birinyanya eyi zo kililiru ndeni angu driza ma alia.'},\n",
              " {'source': '<to_Ateso> Birinyanya eyi zo kililiru ndeni angu driza ma alia.',\n",
              "  'target': 'Epoloi ebirinyanyi ojok apakio nu emwanar akwap.'},\n",
              " {'source': '<to_Ateso> Bilinyanya pol kare dongo maber ka lyeto tye',\n",
              "  'target': 'Epoloi ebirinyanyi ojok apakio nu emwanar akwap.'},\n",
              " {'source': '<to_Ateso> Bbiringanya lubeerera  asinga kukulira mu mbeera ya bugumu',\n",
              "  'target': 'Epoloi ebirinyanyi ojok apakio nu emwanar akwap.'},\n",
              " {'source': '<to_Ateso> Eggplants always grow best under warm conditions.',\n",
              "  'target': 'Epoloi ebirinyanyi ojok apakio nu emwanar akwap.'},\n",
              " {'source': \"<to_Ateso> Entonga buriijo zikurira omu mbeera y'obwire erikutagata\",\n",
              "  'target': 'Epoloi ebirinyanyi ojok apakio nu emwanar akwap.'},\n",
              " {'source': '<to_Luganda> Birinyanya eyi zo kililiru ndeni angu driza ma alia.',\n",
              "  'target': 'Bbiringanya lubeerera  asinga kukulira mu mbeera ya bugumu'},\n",
              " {'source': '<to_Luganda> Bilinyanya pol kare dongo maber ka lyeto tye',\n",
              "  'target': 'Bbiringanya lubeerera  asinga kukulira mu mbeera ya bugumu'},\n",
              " {'source': '<to_Luganda> Epoloi ebirinyanyi ojok apakio nu emwanar akwap.',\n",
              "  'target': 'Bbiringanya lubeerera  asinga kukulira mu mbeera ya bugumu'},\n",
              " {'source': '<to_Luganda> Eggplants always grow best under warm conditions.',\n",
              "  'target': 'Bbiringanya lubeerera  asinga kukulira mu mbeera ya bugumu'},\n",
              " {'source': \"<to_Luganda> Entonga buriijo zikurira omu mbeera y'obwire erikutagata\",\n",
              "  'target': 'Bbiringanya lubeerera  asinga kukulira mu mbeera ya bugumu'},\n",
              " {'source': '<to_English> Birinyanya eyi zo kililiru ndeni angu driza ma alia.',\n",
              "  'target': 'Eggplants always grow best under warm conditions.'},\n",
              " {'source': '<to_English> Bilinyanya pol kare dongo maber ka lyeto tye',\n",
              "  'target': 'Eggplants always grow best under warm conditions.'},\n",
              " {'source': '<to_English> Epoloi ebirinyanyi ojok apakio nu emwanar akwap.',\n",
              "  'target': 'Eggplants always grow best under warm conditions.'},\n",
              " {'source': '<to_English> Bbiringanya lubeerera  asinga kukulira mu mbeera ya bugumu',\n",
              "  'target': 'Eggplants always grow best under warm conditions.'},\n",
              " {'source': \"<to_English> Entonga buriijo zikurira omu mbeera y'obwire erikutagata\",\n",
              "  'target': 'Eggplants always grow best under warm conditions.'},\n",
              " {'source': '<to_Acholi> Birinyanya eyi zo kililiru ndeni angu driza ma alia.',\n",
              "  'target': 'Bilinyanya pol kare dongo maber ka lyeto tye'},\n",
              " {'source': '<to_Acholi> Epoloi ebirinyanyi ojok apakio nu emwanar akwap.',\n",
              "  'target': 'Bilinyanya pol kare dongo maber ka lyeto tye'},\n",
              " {'source': '<to_Acholi> Bbiringanya lubeerera  asinga kukulira mu mbeera ya bugumu',\n",
              "  'target': 'Bilinyanya pol kare dongo maber ka lyeto tye'},\n",
              " {'source': '<to_Acholi> Eggplants always grow best under warm conditions.',\n",
              "  'target': 'Bilinyanya pol kare dongo maber ka lyeto tye'},\n",
              " {'source': \"<to_Acholi> Entonga buriijo zikurira omu mbeera y'obwire erikutagata\",\n",
              "  'target': 'Bilinyanya pol kare dongo maber ka lyeto tye'},\n",
              " {'source': '<to_Runyankole> Birinyanya eyi zo kililiru ndeni angu driza ma alia.',\n",
              "  'target': \"Entonga buriijo zikurira omu mbeera y'obwire erikutagata\"},\n",
              " {'source': '<to_Runyankole> Bilinyanya pol kare dongo maber ka lyeto tye',\n",
              "  'target': \"Entonga buriijo zikurira omu mbeera y'obwire erikutagata\"},\n",
              " {'source': '<to_Runyankole> Epoloi ebirinyanyi ojok apakio nu emwanar akwap.',\n",
              "  'target': \"Entonga buriijo zikurira omu mbeera y'obwire erikutagata\"},\n",
              " {'source': '<to_Runyankole> Bbiringanya lubeerera  asinga kukulira mu mbeera ya bugumu',\n",
              "  'target': \"Entonga buriijo zikurira omu mbeera y'obwire erikutagata\"},\n",
              " {'source': '<to_Runyankole> Eggplants always grow best under warm conditions.',\n",
              "  'target': \"Entonga buriijo zikurira omu mbeera y'obwire erikutagata\"}]"
            ]
          },
          "execution_count": 33,
          "metadata": {},
          "output_type": "execute_result"
        }
      ],
      "source": [
        "m[0]"
      ]
    },
    {
      "cell_type": "code",
      "execution_count": 34,
      "metadata": {
        "colab": {
          "base_uri": "https://localhost:8080/"
        },
        "id": "Ih0_EX3PH6_4",
        "outputId": "79f53323-ec24-458b-9bb1-819e24ae2320"
      },
      "outputs": [
        {
          "data": {
            "text/plain": [
              "30"
            ]
          },
          "execution_count": 34,
          "metadata": {},
          "output_type": "execute_result"
        }
      ],
      "source": [
        "len(m[0])"
      ]
    },
    {
      "cell_type": "code",
      "execution_count": 35,
      "metadata": {
        "colab": {
          "base_uri": "https://localhost:8080/"
        },
        "id": "0xupE47AIEnt",
        "outputId": "395a8aae-1c9f-48b9-f827-d072192ddff4"
      },
      "outputs": [
        {
          "data": {
            "text/plain": [
              "25007"
            ]
          },
          "execution_count": 35,
          "metadata": {},
          "output_type": "execute_result"
        }
      ],
      "source": [
        "len(m)"
      ]
    },
    {
      "cell_type": "code",
      "execution_count": 36,
      "metadata": {
        "colab": {
          "base_uri": "https://localhost:8080/"
        },
        "id": "e7dUEDwvIFrS",
        "outputId": "4854b219-e5ac-4950-f0e1-dfac8ab4b88b"
      },
      "outputs": [
        {
          "data": {
            "text/plain": [
              "750210"
            ]
          },
          "execution_count": 36,
          "metadata": {},
          "output_type": "execute_result"
        }
      ],
      "source": [
        "len(m)*len(m[0])"
      ]
    },
    {
      "cell_type": "code",
      "execution_count": 37,
      "metadata": {
        "id": "M0lVxZDFIHw2"
      },
      "outputs": [],
      "source": [
        "from itertools import chain\n",
        "multi_dataset = pd.DataFrame(list(chain.from_iterable(m)))"
      ]
    },
    {
      "cell_type": "code",
      "execution_count": 38,
      "metadata": {
        "colab": {
          "base_uri": "https://localhost:8080/"
        },
        "id": "bhRgWOqLIMQa",
        "outputId": "6cafc6c5-9c9e-4948-b295-f10198557894"
      },
      "outputs": [
        {
          "data": {
            "text/plain": [
              "array([['<to_Runyankole> Gameteni silingi eza angiri eli vusi nzila siza ma dria',\n",
              "        'Gavumenti neeshohoreza munonga omukwombeka enguuto eibara-mwaka.'],\n",
              "       ['<to_Runyankole> Gamente tiyo ki cente ma dwong adada me gero ki roco gudu.',\n",
              "        'Gavumenti neeshohoreza munonga omukwombeka enguuto eibara-mwaka.'],\n",
              "       ['<to_Runyankole> Itosomai apugan ikapun luipu kanginikaru kotoma aiduk irotin.',\n",
              "        'Gavumenti neeshohoreza munonga omukwombeka enguuto eibara-mwaka.'],\n",
              "       ['<to_Runyankole> Gavumenti essaasaanya ssente nnyingi nnyo buli mwaka mu kuzimba amakubo.',\n",
              "        'Gavumenti neeshohoreza munonga omukwombeka enguuto eibara-mwaka.'],\n",
              "       ['<to_Runyankole> The government spends a lot of money every year on road construction.',\n",
              "        'Gavumenti neeshohoreza munonga omukwombeka enguuto eibara-mwaka.']],\n",
              "      dtype=object)"
            ]
          },
          "execution_count": 38,
          "metadata": {},
          "output_type": "execute_result"
        }
      ],
      "source": [
        "multi_dataset.tail(5).values"
      ]
    }
  ],
  "metadata": {
    "colab": {
      "collapsed_sections": [],
      "name": "multilingual_data_prep.ipynb",
      "provenance": []
    },
    "interpreter": {
      "hash": "b0fa6594d8f4cbf19f97940f81e996739fb7646882a419484c72d19e05852a7e"
    },
    "kernelspec": {
      "display_name": "Python 3.9.6 64-bit",
      "name": "python3"
    },
    "language_info": {
      "codemirror_mode": {
        "name": "ipython",
        "version": 3
      },
      "file_extension": ".py",
      "mimetype": "text/x-python",
      "name": "python",
      "nbconvert_exporter": "python",
      "pygments_lexer": "ipython3",
      "version": "3.9.6"
    }
  },
  "nbformat": 4,
  "nbformat_minor": 0
}
