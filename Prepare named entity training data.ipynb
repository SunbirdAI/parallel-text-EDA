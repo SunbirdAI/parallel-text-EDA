{
 "cells": [
  {
   "cell_type": "markdown",
   "id": "20538eb7-ec11-4908-9489-6e3c735aaca0",
   "metadata": {},
   "source": [
    "This notebook prepares named entity data used for training translation models. The source and target datasets are identical, so that the models learn that names of places, people etc should be passed through to the output unchanged."
   ]
  },
  {
   "cell_type": "code",
   "execution_count": 93,
   "id": "359d00e4-eaa9-44ee-8e0e-7ae427553ed8",
   "metadata": {},
   "outputs": [],
   "source": [
    "import numpy as np\n",
    "import os\n",
    "from IPython import display"
   ]
  },
  {
   "cell_type": "code",
   "execution_count": 70,
   "id": "18ee9811-289c-4d4f-a9ee-cc7586049649",
   "metadata": {},
   "outputs": [],
   "source": [
    "!rm -f wikigold.conll.txt wnut17train.conll emerging.test.annotated\n",
    "!wget https://github.com/juand-r/entity-recognition-datasets/raw/master/data/wikigold/CONLL-format/data/wikigold.conll.txt\n",
    "!wget https://github.com/juand-r/entity-recognition-datasets/raw/master/data/WNUT17/CONLL-format/data/train/wnut17train.conll\n",
    "!wget https://github.com/juand-r/entity-recognition-datasets/raw/master/data/WNUT17/CONLL-format/data/test/emerging.test.annotated\n",
    "display.clear_output()"
   ]
  },
  {
   "cell_type": "code",
   "execution_count": 71,
   "id": "2e26bc32-aad4-465d-8d4e-a58edbcb9785",
   "metadata": {},
   "outputs": [],
   "source": [
    "def file_to_list(path):\n",
    "    with open(path) as file:\n",
    "        lines = file.readlines()\n",
    "        lines = [line.rstrip() for line in lines]\n",
    "        return lines\n",
    "    \n",
    "lines = (file_to_list('wikigold.conll.txt')\n",
    "         + file_to_list('wnut17train.conll')\n",
    "         + file_to_list('emerging.test.annotated')\n",
    "        )\n",
    "lines = [l.replace('\\t', ' ') for l in lines]"
   ]
  },
  {
   "cell_type": "code",
   "execution_count": 76,
   "id": "ac2f49ac-8925-49e7-952b-90f3a6176589",
   "metadata": {},
   "outputs": [
    {
     "name": "stdout",
     "output_type": "stream",
     "text": [
      "4713 distinct named entities.\n"
     ]
    }
   ],
   "source": [
    "entities = []\n",
    "current_entity = []\n",
    "\n",
    "for line in lines:\n",
    "    if line:\n",
    "        text, label = line.split(' ')\n",
    "        if label == 'O':\n",
    "            if current_entity:\n",
    "                entities.append(' '.join(current_entity))\n",
    "            current_entity = []\n",
    "        else:\n",
    "            current_entity.append(text)\n",
    "\n",
    "# De-duplicate\n",
    "entities = list(set(entities))      \n",
    "\n",
    "# Randomly lower-case some of the examples\n",
    "indices = np.random.choice(\n",
    "    np.arange(len(entities)), int(len(entities) * 0.25), replace=False)\n",
    "for i in indices:\n",
    "    entities[i] = entities[i].lower()\n",
    "\n",
    "print(f'{len(entities)} distinct named entities.')"
   ]
  },
  {
   "cell_type": "code",
   "execution_count": 112,
   "id": "9d960496-f18c-4732-ba19-472988595573",
   "metadata": {},
   "outputs": [],
   "source": [
    "en_mul_dir = 'v7-dataset/v7.0/supervised/en-mul'\n",
    "mul_en_dir = 'v7-dataset/v7.0/supervised/mul-en'\n",
    "\n",
    "entities_no_prefix = []\n",
    "entities_with_prefix = []\n",
    "for code in language_codes:\n",
    "    entities_with_prefix += [f'>>{code}<< {text}' for text in entities]\n",
    "    entities_no_prefix += entities\n",
    "\n",
    "# mul-en: source and target files are the same.\n",
    "src_path = os.path.join(mul_en_dir, 'named_entities.src')\n",
    "tgt_path = os.path.join(mul_en_dir, 'named_entities.tgt')\n",
    "\n",
    "with open(src_path, \"w\") as f:\n",
    "    f.writelines('\\n'.join(entities_no_prefix))\n",
    "with open(tgt_path, \"w\") as f:\n",
    "    f.writelines('\\n'.join(entities_no_prefix))\n",
    "    \n",
    "# en-mul: source files have language prefix codes.\n",
    "src_path = os.path.join(en_mul_dir, 'named_entities.src')\n",
    "tgt_path = os.path.join(en_mul_dir, 'named_entities.tgt')\n",
    "\n",
    "with open(src_path, \"w\") as f:\n",
    "    f.writelines('\\n'.join(entities_with_prefix))\n",
    "with open(tgt_path, \"w\") as f:\n",
    "    f.writelines('\\n'.join(entities_no_prefix))    "
   ]
  },
  {
   "cell_type": "code",
   "execution_count": null,
   "id": "a244af5b-583f-4902-bacf-eebe61016454",
   "metadata": {},
   "outputs": [],
   "source": []
  }
 ],
 "metadata": {
  "kernelspec": {
   "display_name": "Python 3 (ipykernel)",
   "language": "python",
   "name": "python3"
  },
  "language_info": {
   "codemirror_mode": {
    "name": "ipython",
    "version": 3
   },
   "file_extension": ".py",
   "mimetype": "text/x-python",
   "name": "python",
   "nbconvert_exporter": "python",
   "pygments_lexer": "ipython3",
   "version": "3.9.7"
  }
 },
 "nbformat": 4,
 "nbformat_minor": 5
}
