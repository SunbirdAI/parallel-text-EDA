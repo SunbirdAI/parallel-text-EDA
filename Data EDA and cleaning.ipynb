{
 "cells": [
  {
   "cell_type": "markdown",
   "metadata": {},
   "source": [
    "## Exploratory data analysis and data cleaning of the NLP parallel text dataset"
   ]
  },
  {
   "cell_type": "code",
   "execution_count": 97,
   "metadata": {},
   "outputs": [],
   "source": [
    "import pandas as pd"
   ]
  },
  {
   "cell_type": "markdown",
   "metadata": {},
   "source": [
    "## Exploring the separate chunks of the dataset as they were received from MakAI"
   ]
  },
  {
   "cell_type": "markdown",
   "metadata": {},
   "source": [
    "### First chunk of the dataset"
   ]
  },
  {
   "cell_type": "code",
   "execution_count": 98,
   "metadata": {},
   "outputs": [
    {
     "data": {
      "text/html": [
       "<div>\n",
       "<style scoped>\n",
       "    .dataframe tbody tr th:only-of-type {\n",
       "        vertical-align: middle;\n",
       "    }\n",
       "\n",
       "    .dataframe tbody tr th {\n",
       "        vertical-align: top;\n",
       "    }\n",
       "\n",
       "    .dataframe thead th {\n",
       "        text-align: right;\n",
       "    }\n",
       "</style>\n",
       "<table border=\"1\" class=\"dataframe\">\n",
       "  <thead>\n",
       "    <tr style=\"text-align: right;\">\n",
       "      <th></th>\n",
       "      <th>English</th>\n",
       "      <th>Luganda</th>\n",
       "      <th>Runyankore</th>\n",
       "      <th>Acholi</th>\n",
       "      <th>Ateso</th>\n",
       "      <th>Lugbara</th>\n",
       "      <th>Unnamed: 6</th>\n",
       "      <th>Unnamed: 7</th>\n",
       "      <th>Unnamed: 8</th>\n",
       "      <th>Unnamed: 9</th>\n",
       "      <th>...</th>\n",
       "      <th>Unnamed: 16</th>\n",
       "      <th>Unnamed: 17</th>\n",
       "      <th>Unnamed: 18</th>\n",
       "      <th>Unnamed: 19</th>\n",
       "      <th>Unnamed: 20</th>\n",
       "      <th>Unnamed: 21</th>\n",
       "      <th>Unnamed: 22</th>\n",
       "      <th>Unnamed: 23</th>\n",
       "      <th>Unnamed: 24</th>\n",
       "      <th>Unnamed: 25</th>\n",
       "    </tr>\n",
       "  </thead>\n",
       "  <tbody>\n",
       "    <tr>\n",
       "      <th>0</th>\n",
       "      <td>Eggplants always grow best under warm conditions.</td>\n",
       "      <td>Bbiringanya lubeerera  asinga kukulira mu mbee...</td>\n",
       "      <td>Entonga buriijo zikurira omu mbeera y'obwire e...</td>\n",
       "      <td>Bilinyanya pol kare dongo maber ka lyeto tye</td>\n",
       "      <td>Epoloi ebirinyanyi ojok apakio nu emwanar akwap.</td>\n",
       "      <td>Birinyanya eyi zo kililiru ndeni angu driza ma...</td>\n",
       "      <td>NaN</td>\n",
       "      <td>NaN</td>\n",
       "      <td>NaN</td>\n",
       "      <td>NaN</td>\n",
       "      <td>...</td>\n",
       "      <td>NaN</td>\n",
       "      <td>NaN</td>\n",
       "      <td>NaN</td>\n",
       "      <td>NaN</td>\n",
       "      <td>NaN</td>\n",
       "      <td>NaN</td>\n",
       "      <td>NaN</td>\n",
       "      <td>NaN</td>\n",
       "      <td>NaN</td>\n",
       "      <td>NaN</td>\n",
       "    </tr>\n",
       "    <tr>\n",
       "      <th>1</th>\n",
       "      <td>Farmland is sometimes a challenge to farmers.</td>\n",
       "      <td>Ettaka ly'okulimirako n'okulundirako ebiseera ...</td>\n",
       "      <td>Eitaka ry'okuhingamu, obumwe n'obumwe nirireet...</td>\n",
       "      <td>Ngom me pur i kare mukene obedo peko madit bot...</td>\n",
       "      <td>Akiro nu alupok nes erai ationis kanejaas akoriok</td>\n",
       "      <td>Amvu ma angu eri sa'wa azini 'diyisi 'ba amvu ...</td>\n",
       "      <td>NaN</td>\n",
       "      <td>NaN</td>\n",
       "      <td>NaN</td>\n",
       "      <td>NaN</td>\n",
       "      <td>...</td>\n",
       "      <td>NaN</td>\n",
       "      <td>NaN</td>\n",
       "      <td>NaN</td>\n",
       "      <td>NaN</td>\n",
       "      <td>NaN</td>\n",
       "      <td>NaN</td>\n",
       "      <td>NaN</td>\n",
       "      <td>NaN</td>\n",
       "      <td>NaN</td>\n",
       "      <td>NaN</td>\n",
       "    </tr>\n",
       "  </tbody>\n",
       "</table>\n",
       "<p>2 rows × 26 columns</p>\n",
       "</div>"
      ],
      "text/plain": [
       "                                             English  \\\n",
       "0  Eggplants always grow best under warm conditions.   \n",
       "1      Farmland is sometimes a challenge to farmers.   \n",
       "\n",
       "                                             Luganda  \\\n",
       "0  Bbiringanya lubeerera  asinga kukulira mu mbee...   \n",
       "1  Ettaka ly'okulimirako n'okulundirako ebiseera ...   \n",
       "\n",
       "                                          Runyankore  \\\n",
       "0  Entonga buriijo zikurira omu mbeera y'obwire e...   \n",
       "1  Eitaka ry'okuhingamu, obumwe n'obumwe nirireet...   \n",
       "\n",
       "                                              Acholi  \\\n",
       "0       Bilinyanya pol kare dongo maber ka lyeto tye   \n",
       "1  Ngom me pur i kare mukene obedo peko madit bot...   \n",
       "\n",
       "                                               Ateso  \\\n",
       "0   Epoloi ebirinyanyi ojok apakio nu emwanar akwap.   \n",
       "1  Akiro nu alupok nes erai ationis kanejaas akoriok   \n",
       "\n",
       "                                             Lugbara  Unnamed: 6  Unnamed: 7  \\\n",
       "0  Birinyanya eyi zo kililiru ndeni angu driza ma...         NaN         NaN   \n",
       "1  Amvu ma angu eri sa'wa azini 'diyisi 'ba amvu ...         NaN         NaN   \n",
       "\n",
       "   Unnamed: 8  Unnamed: 9  ...  Unnamed: 16  Unnamed: 17  Unnamed: 18  \\\n",
       "0         NaN         NaN  ...          NaN          NaN          NaN   \n",
       "1         NaN         NaN  ...          NaN          NaN          NaN   \n",
       "\n",
       "   Unnamed: 19  Unnamed: 20  Unnamed: 21  Unnamed: 22  Unnamed: 23  \\\n",
       "0          NaN          NaN          NaN          NaN          NaN   \n",
       "1          NaN          NaN          NaN          NaN          NaN   \n",
       "\n",
       "   Unnamed: 24  Unnamed: 25  \n",
       "0          NaN          NaN  \n",
       "1          NaN          NaN  \n",
       "\n",
       "[2 rows x 26 columns]"
      ]
     },
     "execution_count": 98,
     "metadata": {},
     "output_type": "execute_result"
    }
   ],
   "source": [
    "df1 = pd.read_excel(\"Sunbird-dataset-Final.xlsx\")\n",
    "df1.head(2)\n"
   ]
  },
  {
   "cell_type": "code",
   "execution_count": 99,
   "metadata": {},
   "outputs": [
    {
     "data": {
      "text/html": [
       "<div>\n",
       "<style scoped>\n",
       "    .dataframe tbody tr th:only-of-type {\n",
       "        vertical-align: middle;\n",
       "    }\n",
       "\n",
       "    .dataframe tbody tr th {\n",
       "        vertical-align: top;\n",
       "    }\n",
       "\n",
       "    .dataframe thead th {\n",
       "        text-align: right;\n",
       "    }\n",
       "</style>\n",
       "<table border=\"1\" class=\"dataframe\">\n",
       "  <thead>\n",
       "    <tr style=\"text-align: right;\">\n",
       "      <th></th>\n",
       "      <th>English</th>\n",
       "      <th>Luganda</th>\n",
       "      <th>Runyankore</th>\n",
       "      <th>Acholi</th>\n",
       "      <th>Ateso</th>\n",
       "      <th>Lugbara</th>\n",
       "    </tr>\n",
       "  </thead>\n",
       "  <tbody>\n",
       "    <tr>\n",
       "      <th>0</th>\n",
       "      <td>Eggplants always grow best under warm conditions.</td>\n",
       "      <td>Bbiringanya lubeerera  asinga kukulira mu mbee...</td>\n",
       "      <td>Entonga buriijo zikurira omu mbeera y'obwire e...</td>\n",
       "      <td>Bilinyanya pol kare dongo maber ka lyeto tye</td>\n",
       "      <td>Epoloi ebirinyanyi ojok apakio nu emwanar akwap.</td>\n",
       "      <td>Birinyanya eyi zo kililiru ndeni angu driza ma...</td>\n",
       "    </tr>\n",
       "    <tr>\n",
       "      <th>1</th>\n",
       "      <td>Farmland is sometimes a challenge to farmers.</td>\n",
       "      <td>Ettaka ly'okulimirako n'okulundirako ebiseera ...</td>\n",
       "      <td>Eitaka ry'okuhingamu, obumwe n'obumwe nirireet...</td>\n",
       "      <td>Ngom me pur i kare mukene obedo peko madit bot...</td>\n",
       "      <td>Akiro nu alupok nes erai ationis kanejaas akoriok</td>\n",
       "      <td>Amvu ma angu eri sa'wa azini 'diyisi 'ba amvu ...</td>\n",
       "    </tr>\n",
       "  </tbody>\n",
       "</table>\n",
       "</div>"
      ],
      "text/plain": [
       "                                             English  \\\n",
       "0  Eggplants always grow best under warm conditions.   \n",
       "1      Farmland is sometimes a challenge to farmers.   \n",
       "\n",
       "                                             Luganda  \\\n",
       "0  Bbiringanya lubeerera  asinga kukulira mu mbee...   \n",
       "1  Ettaka ly'okulimirako n'okulundirako ebiseera ...   \n",
       "\n",
       "                                          Runyankore  \\\n",
       "0  Entonga buriijo zikurira omu mbeera y'obwire e...   \n",
       "1  Eitaka ry'okuhingamu, obumwe n'obumwe nirireet...   \n",
       "\n",
       "                                              Acholi  \\\n",
       "0       Bilinyanya pol kare dongo maber ka lyeto tye   \n",
       "1  Ngom me pur i kare mukene obedo peko madit bot...   \n",
       "\n",
       "                                               Ateso  \\\n",
       "0   Epoloi ebirinyanyi ojok apakio nu emwanar akwap.   \n",
       "1  Akiro nu alupok nes erai ationis kanejaas akoriok   \n",
       "\n",
       "                                             Lugbara  \n",
       "0  Birinyanya eyi zo kililiru ndeni angu driza ma...  \n",
       "1  Amvu ma angu eri sa'wa azini 'diyisi 'ba amvu ...  "
      ]
     },
     "execution_count": 99,
     "metadata": {},
     "output_type": "execute_result"
    }
   ],
   "source": [
    "df1 = df1.loc[:, ~df1.columns.str.startswith(\"Unnamed\")]\n",
    "df1.head(2)"
   ]
  },
  {
   "cell_type": "code",
   "execution_count": 100,
   "metadata": {},
   "outputs": [
    {
     "data": {
      "text/plain": [
       "(10000, 6)"
      ]
     },
     "execution_count": 100,
     "metadata": {},
     "output_type": "execute_result"
    }
   ],
   "source": [
    "df1.shape"
   ]
  },
  {
   "cell_type": "markdown",
   "metadata": {},
   "source": [
    "### Second chunk"
   ]
  },
  {
   "cell_type": "code",
   "execution_count": 101,
   "metadata": {},
   "outputs": [
    {
     "data": {
      "text/html": [
       "<div>\n",
       "<style scoped>\n",
       "    .dataframe tbody tr th:only-of-type {\n",
       "        vertical-align: middle;\n",
       "    }\n",
       "\n",
       "    .dataframe tbody tr th {\n",
       "        vertical-align: top;\n",
       "    }\n",
       "\n",
       "    .dataframe thead th {\n",
       "        text-align: right;\n",
       "    }\n",
       "</style>\n",
       "<table border=\"1\" class=\"dataframe\">\n",
       "  <thead>\n",
       "    <tr style=\"text-align: right;\">\n",
       "      <th></th>\n",
       "      <th>English</th>\n",
       "      <th>Luganda</th>\n",
       "      <th>Runyankole</th>\n",
       "      <th>Lugbara</th>\n",
       "      <th>Ateso</th>\n",
       "      <th>Acholi</th>\n",
       "      <th>Unnamed: 6</th>\n",
       "      <th>Unnamed: 7</th>\n",
       "      <th>Unnamed: 8</th>\n",
       "      <th>Unnamed: 9</th>\n",
       "      <th>...</th>\n",
       "      <th>Unnamed: 15</th>\n",
       "      <th>Unnamed: 16</th>\n",
       "      <th>Unnamed: 17</th>\n",
       "      <th>Unnamed: 18</th>\n",
       "      <th>Unnamed: 19</th>\n",
       "      <th>Unnamed: 20</th>\n",
       "      <th>Unnamed: 21</th>\n",
       "      <th>Unnamed: 22</th>\n",
       "      <th>Unnamed: 23</th>\n",
       "      <th>Unnamed: 24</th>\n",
       "    </tr>\n",
       "  </thead>\n",
       "  <tbody>\n",
       "    <tr>\n",
       "      <th>0</th>\n",
       "      <td>It is important to sensitize the community aga...</td>\n",
       "      <td>Kikulu okubangula abantu ku kabi akali mu kulw...</td>\n",
       "      <td>N'ekyomugasho Okumanyitsa abantu b'ekyanga aha...</td>\n",
       "      <td>Eri kililiru 'ba yi imbazu e'yo ngirngirini ku...</td>\n",
       "      <td>Erai ibore yenepol noi aitejenikin itunga aron...</td>\n",
       "      <td>Pire tek me pwonyo lwak wek gulweny I kom buya...</td>\n",
       "      <td>NaN</td>\n",
       "      <td>NaN</td>\n",
       "      <td>NaN</td>\n",
       "      <td>NaN</td>\n",
       "      <td>...</td>\n",
       "      <td>NaN</td>\n",
       "      <td>NaN</td>\n",
       "      <td>NaN</td>\n",
       "      <td>NaN</td>\n",
       "      <td>NaN</td>\n",
       "      <td>NaN</td>\n",
       "      <td>NaN</td>\n",
       "      <td>NaN</td>\n",
       "      <td>NaN</td>\n",
       "      <td>NaN</td>\n",
       "    </tr>\n",
       "    <tr>\n",
       "      <th>1</th>\n",
       "      <td>They need to observe the sabbath day.</td>\n",
       "      <td>Balina okukwata olunaku lwa ssabbiiti.</td>\n",
       "      <td>Abantu beine okutwara eizooba rya sabiiti nk'e...</td>\n",
       "      <td>Le yi ma inzi o'du sabato niri</td>\n",
       "      <td>Inumunumete kesi aparaan naka sabato.</td>\n",
       "      <td>Myero wawor nino me Sabato.</td>\n",
       "      <td>NaN</td>\n",
       "      <td>NaN</td>\n",
       "      <td>NaN</td>\n",
       "      <td>NaN</td>\n",
       "      <td>...</td>\n",
       "      <td>NaN</td>\n",
       "      <td>NaN</td>\n",
       "      <td>NaN</td>\n",
       "      <td>NaN</td>\n",
       "      <td>NaN</td>\n",
       "      <td>NaN</td>\n",
       "      <td>NaN</td>\n",
       "      <td>NaN</td>\n",
       "      <td>NaN</td>\n",
       "      <td>NaN</td>\n",
       "    </tr>\n",
       "  </tbody>\n",
       "</table>\n",
       "<p>2 rows × 25 columns</p>\n",
       "</div>"
      ],
      "text/plain": [
       "                                             English  \\\n",
       "0  It is important to sensitize the community aga...   \n",
       "1              They need to observe the sabbath day.   \n",
       "\n",
       "                                             Luganda  \\\n",
       "0  Kikulu okubangula abantu ku kabi akali mu kulw...   \n",
       "1             Balina okukwata olunaku lwa ssabbiiti.   \n",
       "\n",
       "                                          Runyankole  \\\n",
       "0  N'ekyomugasho Okumanyitsa abantu b'ekyanga aha...   \n",
       "1  Abantu beine okutwara eizooba rya sabiiti nk'e...   \n",
       "\n",
       "                                             Lugbara  \\\n",
       "0  Eri kililiru 'ba yi imbazu e'yo ngirngirini ku...   \n",
       "1                     Le yi ma inzi o'du sabato niri   \n",
       "\n",
       "                                               Ateso  \\\n",
       "0  Erai ibore yenepol noi aitejenikin itunga aron...   \n",
       "1              Inumunumete kesi aparaan naka sabato.   \n",
       "\n",
       "                                              Acholi  Unnamed: 6  Unnamed: 7  \\\n",
       "0  Pire tek me pwonyo lwak wek gulweny I kom buya...         NaN         NaN   \n",
       "1                        Myero wawor nino me Sabato.         NaN         NaN   \n",
       "\n",
       "   Unnamed: 8  Unnamed: 9  ...  Unnamed: 15  Unnamed: 16  Unnamed: 17  \\\n",
       "0         NaN         NaN  ...          NaN          NaN          NaN   \n",
       "1         NaN         NaN  ...          NaN          NaN          NaN   \n",
       "\n",
       "   Unnamed: 18  Unnamed: 19  Unnamed: 20  Unnamed: 21  Unnamed: 22  \\\n",
       "0          NaN          NaN          NaN          NaN          NaN   \n",
       "1          NaN          NaN          NaN          NaN          NaN   \n",
       "\n",
       "   Unnamed: 23  Unnamed: 24  \n",
       "0          NaN          NaN  \n",
       "1          NaN          NaN  \n",
       "\n",
       "[2 rows x 25 columns]"
      ]
     },
     "execution_count": 101,
     "metadata": {},
     "output_type": "execute_result"
    }
   ],
   "source": [
    "df2 = pd.read_excel(\"Sunbird_phase_II_set_one.xlsx\")\n",
    "df2.head(2)"
   ]
  },
  {
   "cell_type": "code",
   "execution_count": 102,
   "metadata": {},
   "outputs": [
    {
     "data": {
      "text/html": [
       "<div>\n",
       "<style scoped>\n",
       "    .dataframe tbody tr th:only-of-type {\n",
       "        vertical-align: middle;\n",
       "    }\n",
       "\n",
       "    .dataframe tbody tr th {\n",
       "        vertical-align: top;\n",
       "    }\n",
       "\n",
       "    .dataframe thead th {\n",
       "        text-align: right;\n",
       "    }\n",
       "</style>\n",
       "<table border=\"1\" class=\"dataframe\">\n",
       "  <thead>\n",
       "    <tr style=\"text-align: right;\">\n",
       "      <th></th>\n",
       "      <th>English</th>\n",
       "      <th>Luganda</th>\n",
       "      <th>Runyankole</th>\n",
       "      <th>Lugbara</th>\n",
       "      <th>Ateso</th>\n",
       "      <th>Acholi</th>\n",
       "    </tr>\n",
       "  </thead>\n",
       "  <tbody>\n",
       "    <tr>\n",
       "      <th>0</th>\n",
       "      <td>It is important to sensitize the community aga...</td>\n",
       "      <td>Kikulu okubangula abantu ku kabi akali mu kulw...</td>\n",
       "      <td>N'ekyomugasho Okumanyitsa abantu b'ekyanga aha...</td>\n",
       "      <td>Eri kililiru 'ba yi imbazu e'yo ngirngirini ku...</td>\n",
       "      <td>Erai ibore yenepol noi aitejenikin itunga aron...</td>\n",
       "      <td>Pire tek me pwonyo lwak wek gulweny I kom buya...</td>\n",
       "    </tr>\n",
       "    <tr>\n",
       "      <th>1</th>\n",
       "      <td>They need to observe the sabbath day.</td>\n",
       "      <td>Balina okukwata olunaku lwa ssabbiiti.</td>\n",
       "      <td>Abantu beine okutwara eizooba rya sabiiti nk'e...</td>\n",
       "      <td>Le yi ma inzi o'du sabato niri</td>\n",
       "      <td>Inumunumete kesi aparaan naka sabato.</td>\n",
       "      <td>Myero wawor nino me Sabato.</td>\n",
       "    </tr>\n",
       "  </tbody>\n",
       "</table>\n",
       "</div>"
      ],
      "text/plain": [
       "                                             English  \\\n",
       "0  It is important to sensitize the community aga...   \n",
       "1              They need to observe the sabbath day.   \n",
       "\n",
       "                                             Luganda  \\\n",
       "0  Kikulu okubangula abantu ku kabi akali mu kulw...   \n",
       "1             Balina okukwata olunaku lwa ssabbiiti.   \n",
       "\n",
       "                                          Runyankole  \\\n",
       "0  N'ekyomugasho Okumanyitsa abantu b'ekyanga aha...   \n",
       "1  Abantu beine okutwara eizooba rya sabiiti nk'e...   \n",
       "\n",
       "                                             Lugbara  \\\n",
       "0  Eri kililiru 'ba yi imbazu e'yo ngirngirini ku...   \n",
       "1                     Le yi ma inzi o'du sabato niri   \n",
       "\n",
       "                                               Ateso  \\\n",
       "0  Erai ibore yenepol noi aitejenikin itunga aron...   \n",
       "1              Inumunumete kesi aparaan naka sabato.   \n",
       "\n",
       "                                              Acholi  \n",
       "0  Pire tek me pwonyo lwak wek gulweny I kom buya...  \n",
       "1                        Myero wawor nino me Sabato.  "
      ]
     },
     "execution_count": 102,
     "metadata": {},
     "output_type": "execute_result"
    }
   ],
   "source": [
    "df2 = df2.loc[:, ~df2.columns.str.startswith(\"Unnamed\")]\n",
    "df2.head(2)"
   ]
  },
  {
   "cell_type": "code",
   "execution_count": 103,
   "metadata": {},
   "outputs": [
    {
     "data": {
      "text/plain": [
       "(5008, 6)"
      ]
     },
     "execution_count": 103,
     "metadata": {},
     "output_type": "execute_result"
    }
   ],
   "source": [
    "df2.shape"
   ]
  },
  {
   "cell_type": "markdown",
   "metadata": {},
   "source": [
    "### Third chunk"
   ]
  },
  {
   "cell_type": "code",
   "execution_count": 104,
   "metadata": {},
   "outputs": [
    {
     "data": {
      "text/html": [
       "<div>\n",
       "<style scoped>\n",
       "    .dataframe tbody tr th:only-of-type {\n",
       "        vertical-align: middle;\n",
       "    }\n",
       "\n",
       "    .dataframe tbody tr th {\n",
       "        vertical-align: top;\n",
       "    }\n",
       "\n",
       "    .dataframe thead th {\n",
       "        text-align: right;\n",
       "    }\n",
       "</style>\n",
       "<table border=\"1\" class=\"dataframe\">\n",
       "  <thead>\n",
       "    <tr style=\"text-align: right;\">\n",
       "      <th></th>\n",
       "      <th>ENGLISH</th>\n",
       "      <th>LUGANDA</th>\n",
       "      <th>RUNYANKOLE</th>\n",
       "      <th>ATESO</th>\n",
       "      <th>LUGBARA</th>\n",
       "      <th>ACHOLI</th>\n",
       "    </tr>\n",
       "  </thead>\n",
       "  <tbody>\n",
       "    <tr>\n",
       "      <th>0</th>\n",
       "      <td>The more members you have the more votes in an...</td>\n",
       "      <td>Gy'okoma okuba n'abantu abangi gy'okoma okufun...</td>\n",
       "      <td>Abantu baingi abu orikuba oine, nibwo buruuru ...</td>\n",
       "      <td>Neipuatar imeeban, ipuakata abootin da.</td>\n",
       "      <td>Mi vile memba 'diyi ma kalafeni ovuzu angiri v...</td>\n",
       "      <td>Ka itye ki lumemba mapol, kwir bene inongo map...</td>\n",
       "    </tr>\n",
       "    <tr>\n",
       "      <th>1</th>\n",
       "      <td>Political parties say their voter strength has...</td>\n",
       "      <td>Ebibiina by'obufuzi bigamba nti abantu ababiwa...</td>\n",
       "      <td>Ebibiina  by'obutegyeki nibigira ngu amaani ga...</td>\n",
       "      <td>Ebakasi ipatei luka politikis ebe eyatakinos i...</td>\n",
       "      <td>Amuti politikini 'diyi 'yo kini 'ba voti 'bepi...</td>\n",
       "      <td>Dul me cungu iwi bye mapol waco ni wel Lubol k...</td>\n",
       "    </tr>\n",
       "  </tbody>\n",
       "</table>\n",
       "</div>"
      ],
      "text/plain": [
       "                                             ENGLISH  \\\n",
       "0  The more members you have the more votes in an...   \n",
       "1  Political parties say their voter strength has...   \n",
       "\n",
       "                                             LUGANDA  \\\n",
       "0  Gy'okoma okuba n'abantu abangi gy'okoma okufun...   \n",
       "1  Ebibiina by'obufuzi bigamba nti abantu ababiwa...   \n",
       "\n",
       "                                          RUNYANKOLE  \\\n",
       "0  Abantu baingi abu orikuba oine, nibwo buruuru ...   \n",
       "1  Ebibiina  by'obutegyeki nibigira ngu amaani ga...   \n",
       "\n",
       "                                               ATESO  \\\n",
       "0            Neipuatar imeeban, ipuakata abootin da.   \n",
       "1  Ebakasi ipatei luka politikis ebe eyatakinos i...   \n",
       "\n",
       "                                             LUGBARA  \\\n",
       "0  Mi vile memba 'diyi ma kalafeni ovuzu angiri v...   \n",
       "1  Amuti politikini 'diyi 'yo kini 'ba voti 'bepi...   \n",
       "\n",
       "                                              ACHOLI  \n",
       "0  Ka itye ki lumemba mapol, kwir bene inongo map...  \n",
       "1  Dul me cungu iwi bye mapol waco ni wel Lubol k...  "
      ]
     },
     "execution_count": 104,
     "metadata": {},
     "output_type": "execute_result"
    }
   ],
   "source": [
    "df3 = pd.read_excel(\"Sunbird_Phase_II_set_August.xlsx\")\n",
    "df3.head(2)"
   ]
  },
  {
   "cell_type": "code",
   "execution_count": 105,
   "metadata": {},
   "outputs": [
    {
     "data": {
      "text/plain": [
       "(3001, 6)"
      ]
     },
     "execution_count": 105,
     "metadata": {},
     "output_type": "execute_result"
    }
   ],
   "source": [
    "df3.shape"
   ]
  },
  {
   "cell_type": "markdown",
   "metadata": {},
   "source": [
    "### Fourth chunk"
   ]
  },
  {
   "cell_type": "code",
   "execution_count": 106,
   "metadata": {},
   "outputs": [
    {
     "data": {
      "text/html": [
       "<div>\n",
       "<style scoped>\n",
       "    .dataframe tbody tr th:only-of-type {\n",
       "        vertical-align: middle;\n",
       "    }\n",
       "\n",
       "    .dataframe tbody tr th {\n",
       "        vertical-align: top;\n",
       "    }\n",
       "\n",
       "    .dataframe thead th {\n",
       "        text-align: right;\n",
       "    }\n",
       "</style>\n",
       "<table border=\"1\" class=\"dataframe\">\n",
       "  <thead>\n",
       "    <tr style=\"text-align: right;\">\n",
       "      <th></th>\n",
       "      <th>English</th>\n",
       "      <th>Luganda</th>\n",
       "      <th>Runyankore</th>\n",
       "      <th>Ateso</th>\n",
       "      <th>Lugbara</th>\n",
       "      <th>Acholi</th>\n",
       "    </tr>\n",
       "  </thead>\n",
       "  <tbody>\n",
       "    <tr>\n",
       "      <th>0</th>\n",
       "      <td>He is the new ambassador to China.</td>\n",
       "      <td>Ye mubaka omupya mu China.</td>\n",
       "      <td>Niwe omujwekyerwa omutsya omuri China.</td>\n",
       "      <td>Erai ngesi abwoikiniton loitetet loka akwap na...</td>\n",
       "      <td>Eri ojio o'di Chinaari'i</td>\n",
       "      <td>En obedo lacungo dwar pi lobo China</td>\n",
       "    </tr>\n",
       "    <tr>\n",
       "      <th>1</th>\n",
       "      <td>She told her brother to mind his business.</td>\n",
       "      <td>Yagamba mwannyina affe ku bimukwatako.</td>\n",
       "      <td>Akagambira munyaanya we kwafa aha mirimo ye.</td>\n",
       "      <td>Abungesi kolimok ngesi apodokinit nuke.</td>\n",
       "      <td>Eri 'yo kini i ma adri ma fe dri e'yo erini 'd...</td>\n",
       "      <td>En owaco bot ominne ni omak ma okemme.</td>\n",
       "    </tr>\n",
       "  </tbody>\n",
       "</table>\n",
       "</div>"
      ],
      "text/plain": [
       "                                      English  \\\n",
       "0          He is the new ambassador to China.   \n",
       "1  She told her brother to mind his business.   \n",
       "\n",
       "                                  Luganda  \\\n",
       "0              Ye mubaka omupya mu China.   \n",
       "1  Yagamba mwannyina affe ku bimukwatako.   \n",
       "\n",
       "                                      Runyankore  \\\n",
       "0         Niwe omujwekyerwa omutsya omuri China.   \n",
       "1  Akagambira munyaanya we kwafa aha mirimo ye.    \n",
       "\n",
       "                                               Ateso  \\\n",
       "0  Erai ngesi abwoikiniton loitetet loka akwap na...   \n",
       "1            Abungesi kolimok ngesi apodokinit nuke.   \n",
       "\n",
       "                                             Lugbara  \\\n",
       "0                           Eri ojio o'di Chinaari'i   \n",
       "1  Eri 'yo kini i ma adri ma fe dri e'yo erini 'd...   \n",
       "\n",
       "                                   Acholi  \n",
       "0     En obedo lacungo dwar pi lobo China  \n",
       "1  En owaco bot ominne ni omak ma okemme.  "
      ]
     },
     "execution_count": 106,
     "metadata": {},
     "output_type": "execute_result"
    }
   ],
   "source": [
    "df4 = pd.read_excel(\"Sunbird_Phase_II_set_September_1.xlsx\")\n",
    "df4.head(2)"
   ]
  },
  {
   "cell_type": "code",
   "execution_count": 107,
   "metadata": {},
   "outputs": [
    {
     "data": {
      "text/plain": [
       "(3500, 6)"
      ]
     },
     "execution_count": 107,
     "metadata": {},
     "output_type": "execute_result"
    }
   ],
   "source": [
    "df4.shape"
   ]
  },
  {
   "cell_type": "markdown",
   "metadata": {},
   "source": [
    "### Fifth chunk"
   ]
  },
  {
   "cell_type": "code",
   "execution_count": 108,
   "metadata": {},
   "outputs": [
    {
     "data": {
      "text/html": [
       "<div>\n",
       "<style scoped>\n",
       "    .dataframe tbody tr th:only-of-type {\n",
       "        vertical-align: middle;\n",
       "    }\n",
       "\n",
       "    .dataframe tbody tr th {\n",
       "        vertical-align: top;\n",
       "    }\n",
       "\n",
       "    .dataframe thead th {\n",
       "        text-align: right;\n",
       "    }\n",
       "</style>\n",
       "<table border=\"1\" class=\"dataframe\">\n",
       "  <thead>\n",
       "    <tr style=\"text-align: right;\">\n",
       "      <th></th>\n",
       "      <th>English</th>\n",
       "      <th>Luganda</th>\n",
       "      <th>Runyankore</th>\n",
       "      <th>Ateso</th>\n",
       "      <th>Lugbara</th>\n",
       "      <th>Acholi</th>\n",
       "    </tr>\n",
       "  </thead>\n",
       "  <tbody>\n",
       "    <tr>\n",
       "      <th>0</th>\n",
       "      <td>He built his mother a new house.</td>\n",
       "      <td>Yazimbira maama we ennyumba empya.</td>\n",
       "      <td>Akombekyera nyina enju nsya.</td>\n",
       "      <td>Abu ngesi kodukok totoke etogo loitetet</td>\n",
       "      <td>Eri si i ma andri dri jo o'diruni ra</td>\n",
       "      <td>En ogero ot manyen ki mine.</td>\n",
       "    </tr>\n",
       "    <tr>\n",
       "      <th>1</th>\n",
       "      <td>She was caught red handed in a lodge with her ...</td>\n",
       "      <td>Yakwatibwa lubona mu loogi ne bba wa mukwano gwe.</td>\n",
       "      <td>Akakwatirwa butaama omu roogi n'iba wa munywan...</td>\n",
       "      <td>Aponi ikamunai ngesi eyelosi koloji keda opape...</td>\n",
       "      <td>Ba bi eri 'woro loji ma alia eri ma agyi vile ...</td>\n",
       "      <td>Ki make ka buto ki cwa lareme I ot buto apanaga.</td>\n",
       "    </tr>\n",
       "  </tbody>\n",
       "</table>\n",
       "</div>"
      ],
      "text/plain": [
       "                                             English  \\\n",
       "0                   He built his mother a new house.   \n",
       "1  She was caught red handed in a lodge with her ...   \n",
       "\n",
       "                                             Luganda  \\\n",
       "0                 Yazimbira maama we ennyumba empya.   \n",
       "1  Yakwatibwa lubona mu loogi ne bba wa mukwano gwe.   \n",
       "\n",
       "                                          Runyankore  \\\n",
       "0                       Akombekyera nyina enju nsya.   \n",
       "1  Akakwatirwa butaama omu roogi n'iba wa munywan...   \n",
       "\n",
       "                                               Ateso  \\\n",
       "0            Abu ngesi kodukok totoke etogo loitetet   \n",
       "1  Aponi ikamunai ngesi eyelosi koloji keda opape...   \n",
       "\n",
       "                                             Lugbara  \\\n",
       "0               Eri si i ma andri dri jo o'diruni ra   \n",
       "1  Ba bi eri 'woro loji ma alia eri ma agyi vile ...   \n",
       "\n",
       "                                             Acholi  \n",
       "0                       En ogero ot manyen ki mine.  \n",
       "1  Ki make ka buto ki cwa lareme I ot buto apanaga.  "
      ]
     },
     "execution_count": 108,
     "metadata": {},
     "output_type": "execute_result"
    }
   ],
   "source": [
    "df5 = pd.read_excel(\"Sunbird_Phase_II_October.xlsx\")\n",
    "df5.head(2)"
   ]
  },
  {
   "cell_type": "code",
   "execution_count": 109,
   "metadata": {},
   "outputs": [
    {
     "data": {
      "text/plain": [
       "(3500, 6)"
      ]
     },
     "execution_count": 109,
     "metadata": {},
     "output_type": "execute_result"
    }
   ],
   "source": [
    "df5.shape"
   ]
  },
  {
   "cell_type": "markdown",
   "metadata": {},
   "source": [
    "## Cleaning and concatenating all the chunks into one dataset"
   ]
  },
  {
   "cell_type": "markdown",
   "metadata": {},
   "source": [
    "#### Checking the column names:"
   ]
  },
  {
   "cell_type": "code",
   "execution_count": 110,
   "metadata": {},
   "outputs": [
    {
     "name": "stdout",
     "output_type": "stream",
     "text": [
      "Index(['English', 'Luganda', 'Runyankore', 'Acholi', 'Ateso', 'Lugbara'], dtype='object')\n",
      "Index(['English', 'Luganda', 'Runyankole', 'Lugbara', 'Ateso', 'Acholi'], dtype='object')\n",
      "Index(['ENGLISH', 'LUGANDA', 'RUNYANKOLE', 'ATESO', 'LUGBARA', 'ACHOLI'], dtype='object')\n",
      "Index(['English', 'Luganda', 'Runyankore', 'Ateso', 'Lugbara', 'Acholi'], dtype='object')\n",
      "Index(['English', 'Luganda', 'Runyankore', 'Ateso', 'Lugbara', 'Acholi'], dtype='object')\n"
     ]
    }
   ],
   "source": [
    "print(f\"{df1.columns}\\n{df2.columns}\\n{df3.columns}\\n{df4.columns}\\n{df5.columns}\")"
   ]
  },
  {
   "cell_type": "markdown",
   "metadata": {},
   "source": [
    "#### Ensuring that the column names have the same case:"
   ]
  },
  {
   "cell_type": "code",
   "execution_count": 111,
   "metadata": {},
   "outputs": [
    {
     "name": "stdout",
     "output_type": "stream",
     "text": [
      "Index(['English', 'Luganda', 'Runyankole', 'Ateso', 'Lugbara', 'Acholi'], dtype='object')\n"
     ]
    }
   ],
   "source": [
    "df3.columns = [col.title() for col in df3.columns]\n",
    "\n",
    "print(f\"{df3.columns}\")"
   ]
  },
  {
   "cell_type": "markdown",
   "metadata": {},
   "source": [
    "#### Renaming the `Runyankole` columns to ensure that they all have a matching spelling:"
   ]
  },
  {
   "cell_type": "code",
   "execution_count": 112,
   "metadata": {},
   "outputs": [
    {
     "name": "stdout",
     "output_type": "stream",
     "text": [
      "Index(['English', 'Luganda', 'Runyankole', 'Acholi', 'Ateso', 'Lugbara'], dtype='object')\n",
      "Index(['English', 'Luganda', 'Runyankole', 'Lugbara', 'Ateso', 'Acholi'], dtype='object')\n",
      "Index(['English', 'Luganda', 'Runyankole', 'Ateso', 'Lugbara', 'Acholi'], dtype='object')\n",
      "Index(['English', 'Luganda', 'Runyankole', 'Ateso', 'Lugbara', 'Acholi'], dtype='object')\n",
      "Index(['English', 'Luganda', 'Runyankole', 'Ateso', 'Lugbara', 'Acholi'], dtype='object')\n"
     ]
    }
   ],
   "source": [
    "df1.rename(columns={\"Runyankore\": \"Runyankole\"}, inplace=True)\n",
    "df4.rename(columns={\"Runyankore\": \"Runyankole\"}, inplace=True)\n",
    "df5.rename(columns={\"Runyankore\": \"Runyankole\"}, inplace=True)\n",
    "\n",
    "print(f\"{df1.columns}\\n{df2.columns}\\n{df3.columns}\\n{df4.columns}\\n{df5.columns}\")"
   ]
  },
  {
   "cell_type": "markdown",
   "metadata": {},
   "source": [
    "#### Changing the order of the columns in the chunks so that they all match:"
   ]
  },
  {
   "cell_type": "code",
   "execution_count": 113,
   "metadata": {},
   "outputs": [
    {
     "name": "stdout",
     "output_type": "stream",
     "text": [
      "Index(['English', 'Luganda', 'Runyankole', 'Ateso', 'Lugbara', 'Acholi'], dtype='object')\n",
      "Index(['English', 'Luganda', 'Runyankole', 'Ateso', 'Lugbara', 'Acholi'], dtype='object')\n",
      "Index(['English', 'Luganda', 'Runyankole', 'Ateso', 'Lugbara', 'Acholi'], dtype='object')\n",
      "Index(['English', 'Luganda', 'Runyankole', 'Ateso', 'Lugbara', 'Acholi'], dtype='object')\n",
      "Index(['English', 'Luganda', 'Runyankole', 'Ateso', 'Lugbara', 'Acholi'], dtype='object')\n"
     ]
    }
   ],
   "source": [
    "df1 = df1.reindex(columns=list(df5.columns))\n",
    "df2 = df2.reindex(columns=list(df5.columns))\n",
    "\n",
    "print(f\"{df1.columns}\\n{df2.columns}\\n{df3.columns}\\n{df4.columns}\\n{df5.columns}\")"
   ]
  },
  {
   "cell_type": "markdown",
   "metadata": {},
   "source": [
    "#### Check for missing translations"
   ]
  },
  {
   "cell_type": "code",
   "execution_count": 114,
   "metadata": {},
   "outputs": [
    {
     "name": "stdout",
     "output_type": "stream",
     "text": [
      "English       0\n",
      "Luganda       1\n",
      "Runyankole    0\n",
      "Ateso         0\n",
      "Lugbara       1\n",
      "Acholi        0\n",
      "dtype: int64\n",
      "English       0\n",
      "Luganda       0\n",
      "Runyankole    0\n",
      "Ateso         0\n",
      "Lugbara       0\n",
      "Acholi        0\n",
      "dtype: int64\n",
      "English       0\n",
      "Luganda       0\n",
      "Runyankole    0\n",
      "Ateso         0\n",
      "Lugbara       0\n",
      "Acholi        0\n",
      "dtype: int64\n",
      "English       0\n",
      "Luganda       0\n",
      "Runyankole    0\n",
      "Ateso         0\n",
      "Lugbara       0\n",
      "Acholi        0\n",
      "dtype: int64\n",
      "English       0\n",
      "Luganda       0\n",
      "Runyankole    0\n",
      "Ateso         0\n",
      "Lugbara       0\n",
      "Acholi        0\n",
      "dtype: int64\n"
     ]
    }
   ],
   "source": [
    "dfs = [df1, df2, df3, df4, df5]\n",
    "\n",
    "for df in dfs:\n",
    "    print(df.isnull().sum())"
   ]
  },
  {
   "cell_type": "code",
   "execution_count": 115,
   "metadata": {},
   "outputs": [
    {
     "data": {
      "text/html": [
       "<div>\n",
       "<style scoped>\n",
       "    .dataframe tbody tr th:only-of-type {\n",
       "        vertical-align: middle;\n",
       "    }\n",
       "\n",
       "    .dataframe tbody tr th {\n",
       "        vertical-align: top;\n",
       "    }\n",
       "\n",
       "    .dataframe thead th {\n",
       "        text-align: right;\n",
       "    }\n",
       "</style>\n",
       "<table border=\"1\" class=\"dataframe\">\n",
       "  <thead>\n",
       "    <tr style=\"text-align: right;\">\n",
       "      <th></th>\n",
       "      <th>English</th>\n",
       "      <th>Luganda</th>\n",
       "      <th>Runyankole</th>\n",
       "      <th>Ateso</th>\n",
       "      <th>Lugbara</th>\n",
       "      <th>Acholi</th>\n",
       "    </tr>\n",
       "  </thead>\n",
       "  <tbody>\n",
       "    <tr>\n",
       "      <th>4000</th>\n",
       "      <td>This disease has the ability to kill every chi...</td>\n",
       "      <td>NaN</td>\n",
       "      <td>Oburwaire obu nibubaasa kwita buri omwe omukya...</td>\n",
       "      <td>Erai adeka na epedori aiyar idio ikoku ocaalo ...</td>\n",
       "      <td>Azo 'di ma okpo anzi nyiri calo 'di ma alea 'd...</td>\n",
       "      <td>Two eni twero neko latin mokeken</td>\n",
       "    </tr>\n",
       "  </tbody>\n",
       "</table>\n",
       "</div>"
      ],
      "text/plain": [
       "                                                English Luganda  \\\n",
       "4000  This disease has the ability to kill every chi...     NaN   \n",
       "\n",
       "                                             Runyankole  \\\n",
       "4000  Oburwaire obu nibubaasa kwita buri omwe omukya...   \n",
       "\n",
       "                                                  Ateso  \\\n",
       "4000  Erai adeka na epedori aiyar idio ikoku ocaalo ...   \n",
       "\n",
       "                                                Lugbara  \\\n",
       "4000  Azo 'di ma okpo anzi nyiri calo 'di ma alea 'd...   \n",
       "\n",
       "                                Acholi  \n",
       "4000  Two eni twero neko latin mokeken  "
      ]
     },
     "execution_count": 115,
     "metadata": {},
     "output_type": "execute_result"
    }
   ],
   "source": [
    "df1[df1[\"Luganda\"].isnull()]"
   ]
  },
  {
   "cell_type": "code",
   "execution_count": 116,
   "metadata": {},
   "outputs": [
    {
     "data": {
      "text/html": [
       "<div>\n",
       "<style scoped>\n",
       "    .dataframe tbody tr th:only-of-type {\n",
       "        vertical-align: middle;\n",
       "    }\n",
       "\n",
       "    .dataframe tbody tr th {\n",
       "        vertical-align: top;\n",
       "    }\n",
       "\n",
       "    .dataframe thead th {\n",
       "        text-align: right;\n",
       "    }\n",
       "</style>\n",
       "<table border=\"1\" class=\"dataframe\">\n",
       "  <thead>\n",
       "    <tr style=\"text-align: right;\">\n",
       "      <th></th>\n",
       "      <th>English</th>\n",
       "      <th>Luganda</th>\n",
       "      <th>Runyankole</th>\n",
       "      <th>Ateso</th>\n",
       "      <th>Lugbara</th>\n",
       "      <th>Acholi</th>\n",
       "    </tr>\n",
       "  </thead>\n",
       "  <tbody>\n",
       "    <tr>\n",
       "      <th>7181</th>\n",
       "      <td>The bureaucratic tendencies within the governm...</td>\n",
       "      <td>Emitendera egiri mu gavumenti giremesezza okut...</td>\n",
       "      <td>Okukuratira ebiragiro okuri omu Gavumenti kure...</td>\n",
       "      <td>Esimik eswamae loaronon lo ejai apugan ageuno ...</td>\n",
       "      <td>NaN</td>\n",
       "      <td>Gale iyo me tic pa gamente oweko yub madwong p...</td>\n",
       "    </tr>\n",
       "  </tbody>\n",
       "</table>\n",
       "</div>"
      ],
      "text/plain": [
       "                                                English  \\\n",
       "7181  The bureaucratic tendencies within the governm...   \n",
       "\n",
       "                                                Luganda  \\\n",
       "7181  Emitendera egiri mu gavumenti giremesezza okut...   \n",
       "\n",
       "                                             Runyankole  \\\n",
       "7181  Okukuratira ebiragiro okuri omu Gavumenti kure...   \n",
       "\n",
       "                                                  Ateso Lugbara  \\\n",
       "7181  Esimik eswamae loaronon lo ejai apugan ageuno ...     NaN   \n",
       "\n",
       "                                                 Acholi  \n",
       "7181  Gale iyo me tic pa gamente oweko yub madwong p...  "
      ]
     },
     "execution_count": 116,
     "metadata": {},
     "output_type": "execute_result"
    }
   ],
   "source": [
    "df1[df1[\"Lugbara\"].isnull()]"
   ]
  },
  {
   "cell_type": "markdown",
   "metadata": {},
   "source": [
    "#### Clean up the missing translations in the first chunk:"
   ]
  },
  {
   "cell_type": "code",
   "execution_count": 117,
   "metadata": {},
   "outputs": [],
   "source": [
    "# These two rows are being deleted because they have missing translations \n",
    "# They are from the very first dataset, which was already used for model training with these rows excluded\n",
    "df1.drop(df1[df1[\"Luganda\"].isnull()].index, inplace=True)\n",
    "df1.drop(df1[df1[\"Lugbara\"].isnull()].index, inplace=True)"
   ]
  },
  {
   "cell_type": "code",
   "execution_count": 118,
   "metadata": {},
   "outputs": [
    {
     "data": {
      "text/plain": [
       "(9998, 6)"
      ]
     },
     "execution_count": 118,
     "metadata": {},
     "output_type": "execute_result"
    }
   ],
   "source": [
    "df1.shape"
   ]
  },
  {
   "cell_type": "code",
   "execution_count": 119,
   "metadata": {},
   "outputs": [
    {
     "name": "stdout",
     "output_type": "stream",
     "text": [
      "English       0\n",
      "Luganda       0\n",
      "Runyankole    0\n",
      "Ateso         0\n",
      "Lugbara       0\n",
      "Acholi        0\n",
      "dtype: int64\n",
      "English       0\n",
      "Luganda       0\n",
      "Runyankole    0\n",
      "Ateso         0\n",
      "Lugbara       0\n",
      "Acholi        0\n",
      "dtype: int64\n",
      "English       0\n",
      "Luganda       0\n",
      "Runyankole    0\n",
      "Ateso         0\n",
      "Lugbara       0\n",
      "Acholi        0\n",
      "dtype: int64\n",
      "English       0\n",
      "Luganda       0\n",
      "Runyankole    0\n",
      "Ateso         0\n",
      "Lugbara       0\n",
      "Acholi        0\n",
      "dtype: int64\n",
      "English       0\n",
      "Luganda       0\n",
      "Runyankole    0\n",
      "Ateso         0\n",
      "Lugbara       0\n",
      "Acholi        0\n",
      "dtype: int64\n"
     ]
    }
   ],
   "source": [
    "for df in dfs:\n",
    "    print(df.isnull().sum())"
   ]
  },
  {
   "cell_type": "code",
   "execution_count": 120,
   "metadata": {},
   "outputs": [
    {
     "data": {
      "text/html": [
       "<div>\n",
       "<style scoped>\n",
       "    .dataframe tbody tr th:only-of-type {\n",
       "        vertical-align: middle;\n",
       "    }\n",
       "\n",
       "    .dataframe tbody tr th {\n",
       "        vertical-align: top;\n",
       "    }\n",
       "\n",
       "    .dataframe thead th {\n",
       "        text-align: right;\n",
       "    }\n",
       "</style>\n",
       "<table border=\"1\" class=\"dataframe\">\n",
       "  <thead>\n",
       "    <tr style=\"text-align: right;\">\n",
       "      <th></th>\n",
       "      <th>English</th>\n",
       "      <th>Luganda</th>\n",
       "      <th>Runyankole</th>\n",
       "      <th>Ateso</th>\n",
       "      <th>Lugbara</th>\n",
       "      <th>Acholi</th>\n",
       "    </tr>\n",
       "  </thead>\n",
       "  <tbody>\n",
       "    <tr>\n",
       "      <th>0</th>\n",
       "      <td>Eggplants always grow best under warm conditions.</td>\n",
       "      <td>Bbiringanya lubeerera  asinga kukulira mu mbee...</td>\n",
       "      <td>Entonga buriijo zikurira omu mbeera y'obwire e...</td>\n",
       "      <td>Epoloi ebirinyanyi ojok apakio nu emwanar akwap.</td>\n",
       "      <td>Birinyanya eyi zo kililiru ndeni angu driza ma...</td>\n",
       "      <td>Bilinyanya pol kare dongo maber ka lyeto tye</td>\n",
       "    </tr>\n",
       "    <tr>\n",
       "      <th>1</th>\n",
       "      <td>Farmland is sometimes a challenge to farmers.</td>\n",
       "      <td>Ettaka ly'okulimirako n'okulundirako ebiseera ...</td>\n",
       "      <td>Eitaka ry'okuhingamu, obumwe n'obumwe nirireet...</td>\n",
       "      <td>Akiro nu alupok nes erai ationis kanejaas akoriok</td>\n",
       "      <td>Amvu ma angu eri sa'wa azini 'diyisi 'ba amvu ...</td>\n",
       "      <td>Ngom me pur i kare mukene obedo peko madit bot...</td>\n",
       "    </tr>\n",
       "    <tr>\n",
       "      <th>2</th>\n",
       "      <td>Farmers should be encouraged to grow more coffee.</td>\n",
       "      <td>Abalimi balina okukubirizibwa okwongera okulim...</td>\n",
       "      <td>Abahingi bashemereire kuhigwa bongyere okuhing...</td>\n",
       "      <td>Ekot aisinyikokit akoriok akoru emwanyi loepol</td>\n",
       "      <td>Le 'ba ma fe 'ba amvu 'yapi 'diyini ava kawa '...</td>\n",
       "      <td>Lupur omyero ki konygi wek nong miti me puru m...</td>\n",
       "    </tr>\n",
       "    <tr>\n",
       "      <th>3</th>\n",
       "      <td>Uganda is focusing on farming.</td>\n",
       "      <td>Uganda essira eritadde ku bulimi.</td>\n",
       "      <td>Uganda eteire amaani aha buhingi n'oburiisa.</td>\n",
       "      <td>Uganda nes ejai akiro nu akoru.</td>\n",
       "      <td>Kari Uganda niri eri asi'baza be amvu 'yaza ma...</td>\n",
       "      <td>Uganda tye ka keme ki lok me pur</td>\n",
       "    </tr>\n",
       "    <tr>\n",
       "      <th>4</th>\n",
       "      <td>Some plants die due to lack of sunlight.</td>\n",
       "      <td>Ebimera ebimu bifa olw'ebbula ly'omusana.</td>\n",
       "      <td>Ebihingwa ebimwe nibyoma ahabw'okubura omushana.</td>\n",
       "      <td>Icie ikorion etwakete naarai emamei akolong.</td>\n",
       "      <td>Ori azi 'diyi odra te ituka ma akosi.</td>\n",
       "      <td>jami apita mukene too woko pien pe ginongo cen...</td>\n",
       "    </tr>\n",
       "  </tbody>\n",
       "</table>\n",
       "</div>"
      ],
      "text/plain": [
       "                                             English  \\\n",
       "0  Eggplants always grow best under warm conditions.   \n",
       "1      Farmland is sometimes a challenge to farmers.   \n",
       "2  Farmers should be encouraged to grow more coffee.   \n",
       "3                     Uganda is focusing on farming.   \n",
       "4           Some plants die due to lack of sunlight.   \n",
       "\n",
       "                                             Luganda  \\\n",
       "0  Bbiringanya lubeerera  asinga kukulira mu mbee...   \n",
       "1  Ettaka ly'okulimirako n'okulundirako ebiseera ...   \n",
       "2  Abalimi balina okukubirizibwa okwongera okulim...   \n",
       "3                  Uganda essira eritadde ku bulimi.   \n",
       "4          Ebimera ebimu bifa olw'ebbula ly'omusana.   \n",
       "\n",
       "                                          Runyankole  \\\n",
       "0  Entonga buriijo zikurira omu mbeera y'obwire e...   \n",
       "1  Eitaka ry'okuhingamu, obumwe n'obumwe nirireet...   \n",
       "2  Abahingi bashemereire kuhigwa bongyere okuhing...   \n",
       "3       Uganda eteire amaani aha buhingi n'oburiisa.   \n",
       "4   Ebihingwa ebimwe nibyoma ahabw'okubura omushana.   \n",
       "\n",
       "                                               Ateso  \\\n",
       "0   Epoloi ebirinyanyi ojok apakio nu emwanar akwap.   \n",
       "1  Akiro nu alupok nes erai ationis kanejaas akoriok   \n",
       "2     Ekot aisinyikokit akoriok akoru emwanyi loepol   \n",
       "3                    Uganda nes ejai akiro nu akoru.   \n",
       "4       Icie ikorion etwakete naarai emamei akolong.   \n",
       "\n",
       "                                             Lugbara  \\\n",
       "0  Birinyanya eyi zo kililiru ndeni angu driza ma...   \n",
       "1  Amvu ma angu eri sa'wa azini 'diyisi 'ba amvu ...   \n",
       "2  Le 'ba ma fe 'ba amvu 'yapi 'diyini ava kawa '...   \n",
       "3  Kari Uganda niri eri asi'baza be amvu 'yaza ma...   \n",
       "4              Ori azi 'diyi odra te ituka ma akosi.   \n",
       "\n",
       "                                              Acholi  \n",
       "0       Bilinyanya pol kare dongo maber ka lyeto tye  \n",
       "1  Ngom me pur i kare mukene obedo peko madit bot...  \n",
       "2  Lupur omyero ki konygi wek nong miti me puru m...  \n",
       "3                   Uganda tye ka keme ki lok me pur  \n",
       "4  jami apita mukene too woko pien pe ginongo cen...  "
      ]
     },
     "execution_count": 120,
     "metadata": {},
     "output_type": "execute_result"
    }
   ],
   "source": [
    "df_int = df1.append(df2)\n",
    "df_int_2 = df_int.append(df3)\n",
    "df_int_3 = df_int_2.append(df4)\n",
    "df_final = df_int_3.append(df5)\n",
    "df_final.head()"
   ]
  },
  {
   "cell_type": "code",
   "execution_count": 121,
   "metadata": {},
   "outputs": [
    {
     "data": {
      "text/plain": [
       "(25007, 6)"
      ]
     },
     "execution_count": 121,
     "metadata": {},
     "output_type": "execute_result"
    }
   ],
   "source": [
    "df_final.shape"
   ]
  },
  {
   "cell_type": "code",
   "execution_count": 122,
   "metadata": {},
   "outputs": [
    {
     "data": {
      "text/plain": [
       "Index(['English', 'Luganda', 'Runyankole', 'Ateso', 'Lugbara', 'Acholi'], dtype='object')"
      ]
     },
     "execution_count": 122,
     "metadata": {},
     "output_type": "execute_result"
    }
   ],
   "source": [
    "df_final.columns"
   ]
  },
  {
   "cell_type": "markdown",
   "metadata": {},
   "source": [
    "## Convert to `jsonl` format"
   ]
  },
  {
   "cell_type": "markdown",
   "metadata": {},
   "source": [
    "### Remove `\\n` at the end of some lines of text"
   ]
  },
  {
   "cell_type": "code",
   "execution_count": 123,
   "metadata": {},
   "outputs": [],
   "source": [
    "for column in df_final.columns:\n",
    "    df_final[column] = df_final[column].str.strip()"
   ]
  },
  {
   "cell_type": "markdown",
   "metadata": {},
   "source": [
    "Note: Check for the presence of `\\n` in the middle of a sentence"
   ]
  },
  {
   "cell_type": "markdown",
   "metadata": {},
   "source": [
    "### Convert to jsonl"
   ]
  },
  {
   "cell_type": "code",
   "execution_count": 125,
   "metadata": {},
   "outputs": [],
   "source": [
    "df_final.to_json(\"sunbird-ug-lang-v5.0.jsonl\", orient=\"records\", lines=True)"
   ]
  }
 ],
 "metadata": {
  "interpreter": {
   "hash": "b0fa6594d8f4cbf19f97940f81e996739fb7646882a419484c72d19e05852a7e"
  },
  "kernelspec": {
   "display_name": "Python 3.9.6 64-bit",
   "name": "python3"
  },
  "language_info": {
   "codemirror_mode": {
    "name": "ipython",
    "version": 3
   },
   "file_extension": ".py",
   "mimetype": "text/x-python",
   "name": "python",
   "nbconvert_exporter": "python",
   "pygments_lexer": "ipython3",
   "version": "3.9.6"
  },
  "orig_nbformat": 4
 },
 "nbformat": 4,
 "nbformat_minor": 2
}
